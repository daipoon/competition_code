{
  "cells": [
    {
      "cell_type": "code",
      "execution_count": null,
      "metadata": {
        "colab": {
          "base_uri": "https://localhost:8080/"
        },
        "id": "ioOjXsJULCP1",
        "outputId": "55f71de7-fb3f-4415-c445-d882ee470b0a"
      },
      "outputs": [
        {
          "output_type": "stream",
          "name": "stdout",
          "text": [
            "Thu Aug 25 05:25:46 2022       \n",
            "+-----------------------------------------------------------------------------+\n",
            "| NVIDIA-SMI 460.32.03    Driver Version: 460.32.03    CUDA Version: 11.2     |\n",
            "|-------------------------------+----------------------+----------------------+\n",
            "| GPU  Name        Persistence-M| Bus-Id        Disp.A | Volatile Uncorr. ECC |\n",
            "| Fan  Temp  Perf  Pwr:Usage/Cap|         Memory-Usage | GPU-Util  Compute M. |\n",
            "|                               |                      |               MIG M. |\n",
            "|===============================+======================+======================|\n",
            "|   0  Tesla P100-PCIE...  Off  | 00000000:00:04.0 Off |                    0 |\n",
            "| N/A   44C    P0    29W / 250W |      2MiB / 16280MiB |      0%      Default |\n",
            "|                               |                      |                  N/A |\n",
            "+-------------------------------+----------------------+----------------------+\n",
            "                                                                               \n",
            "+-----------------------------------------------------------------------------+\n",
            "| Processes:                                                                  |\n",
            "|  GPU   GI   CI        PID   Type   Process name                  GPU Memory |\n",
            "|        ID   ID                                                   Usage      |\n",
            "|=============================================================================|\n",
            "|  No running processes found                                                 |\n",
            "+-----------------------------------------------------------------------------+\n"
          ]
        }
      ],
      "source": [
        "!nvidia-smi"
      ],
      "id": "ioOjXsJULCP1"
    },
    {
      "cell_type": "code",
      "execution_count": null,
      "metadata": {
        "colab": {
          "base_uri": "https://localhost:8080/"
        },
        "id": "5gbMfvLt660Z",
        "outputId": "7cbda8be-afc4-43d1-b074-938f48d46dfd"
      },
      "outputs": [
        {
          "output_type": "execute_result",
          "data": {
            "text/plain": [
              "True"
            ]
          },
          "metadata": {},
          "execution_count": 42
        }
      ],
      "source": [
        "import torch\n",
        "torch.cuda.is_available()\n"
      ],
      "id": "5gbMfvLt660Z"
    },
    {
      "cell_type": "code",
      "execution_count": null,
      "metadata": {
        "colab": {
          "base_uri": "https://localhost:8080/"
        },
        "id": "Uu0F_OAwnJNp",
        "outputId": "aefe7f0d-469f-422d-a073-959eae7a4c7b"
      },
      "outputs": [
        {
          "output_type": "stream",
          "name": "stdout",
          "text": [
            "Drive already mounted at /content/drive; to attempt to forcibly remount, call drive.mount(\"/content/drive\", force_remount=True).\n"
          ]
        }
      ],
      "source": [
        "\n",
        "from google.colab import drive\n",
        "drive.mount('/content/drive')"
      ],
      "id": "Uu0F_OAwnJNp"
    },
    {
      "cell_type": "code",
      "execution_count": null,
      "metadata": {
        "id": "cf27305c"
      },
      "outputs": [],
      "source": [
        "!pip install -qqq --upgrade wandb\n",
        "!pip install -qqq transformers\n",
        "!pip install -qqq sentencepiece\n",
        "!pip install -qqq colorama"
      ],
      "id": "cf27305c"
    },
    {
      "cell_type": "markdown",
      "metadata": {
        "id": "8638aafb"
      },
      "source": [
        "# <span><h1 style = \"font-family: garamond; font-size: 40px; font-style: normal; letter-spcaing: 3px; background-color: #f6f5f5; color :#fe346e; border-radius: 100px 100px; text-align:center\">Import Required Libraries 📚</h1></span>"
      ],
      "id": "8638aafb"
    },
    {
      "cell_type": "code",
      "execution_count": null,
      "metadata": {
        "id": "1fb7bd59"
      },
      "outputs": [],
      "source": [
        "import os\n",
        "import gc\n",
        "import copy\n",
        "import time\n",
        "import random\n",
        "import string\n",
        "import joblib\n",
        "import re\n",
        "\n",
        "# For data manipulation\n",
        "import numpy as np\n",
        "import pandas as pd\n",
        "\n",
        "# Pytorch Imports\n",
        "import torch\n",
        "import torch.nn as nn\n",
        "import torch.optim as optim\n",
        "from torch.optim import lr_scheduler\n",
        "from torch.utils.data import Dataset, DataLoader\n",
        "\n",
        "# Utils\n",
        "from tqdm import tqdm\n",
        "from collections import defaultdict\n",
        "\n",
        "# Sklearn Imports\n",
        "from sklearn.preprocessing import LabelEncoder\n",
        "from sklearn.model_selection import GroupKFold, KFold, StratifiedKFold\n",
        "from sklearn.metrics import f1_score\n",
        "from sklearn.utils.class_weight import compute_class_weight\n",
        "\n",
        "# For Transformer Models\n",
        "from transformers import AutoTokenizer, AutoModel, AutoConfig, AdamW\n",
        "from transformers import DataCollatorWithPadding\n",
        "\n",
        "# For colored terminal text\n",
        "from colorama import Fore, Back, Style\n",
        "b_ = Fore.BLUE\n",
        "y_ = Fore.YELLOW\n",
        "sr_ = Style.RESET_ALL\n",
        "\n",
        "# Suppress warnings\n",
        "import warnings\n",
        "warnings.filterwarnings(\"ignore\")\n",
        "\n",
        "# For descriptive error messages\n",
        "os.environ['CUDA_LAUNCH_BLOCKING'] = \"1\""
      ],
      "id": "1fb7bd59"
    },
    {
      "cell_type": "markdown",
      "metadata": {
        "id": "e3d5d0d4"
      },
      "source": [
        "<img src=\"https://i.imgur.com/gb6B4ig.png\" width=\"400\" alt=\"Weights & Biases\" />\n",
        "\n",
        "<span style=\"color: #000508; font-family: Segoe UI; font-size: 1.2em; font-weight: 300;\"> Weights & Biases (W&B) is a set of machine learning tools that helps you build better models faster. <strong>Kaggle competitions require fast-paced model development and evaluation</strong>. There are a lot of components: exploring the training data, training different models, combining trained models in different combinations (ensembling), and so on.</span>\n",
        "\n",
        "> <span style=\"color: #000508; font-family: Segoe UI; font-size: 1.2em; font-weight: 300;\">⏳ Lots of components = Lots of places to go wrong = Lots of time spent debugging</span>\n",
        "\n",
        "<span style=\"color: #000508; font-family: Segoe UI; font-size: 1.2em; font-weight: 300;\">W&B can be useful for Kaggle competition with it's lightweight and interoperable tools:</span>\n",
        "\n",
        "* <span style=\"color: #000508; font-family: Segoe UI; font-size: 1.2em; font-weight: 300;\">Quickly track experiments,<br></span>\n",
        "* <span style=\"color: #000508; font-family: Segoe UI; font-size: 1.2em; font-weight: 300;\">Version and iterate on datasets, <br></span>\n",
        "* <span style=\"color: #000508; font-family: Segoe UI; font-size: 1.2em; font-weight: 300;\">Evaluate model performance,<br></span>\n",
        "* <span style=\"color: #000508; font-family: Segoe UI; font-size: 1.2em; font-weight: 300;\">Reproduce models,<br></span>\n",
        "* <span style=\"color: #000508; font-family: Segoe UI; font-size: 1.2em; font-weight: 300;\">Visualize results and spot regressions,<br></span>\n",
        "* <span style=\"color: #000508; font-family: Segoe UI; font-size: 1.2em; font-weight: 300;\">Share findings with colleagues.</span>\n",
        "\n",
        "<span style=\"color: #000508; font-family: Segoe UI; font-size: 1.2em; font-weight: 300;\">To learn more about Weights and Biases check out this <strong><a href=\"https://www.kaggle.com/ayuraj/experiment-tracking-with-weights-and-biases\">kernel</a></strong>.</span>"
      ],
      "id": "e3d5d0d4"
    },
    {
      "cell_type": "code",
      "execution_count": null,
      "metadata": {
        "colab": {
          "base_uri": "https://localhost:8080/"
        },
        "id": "1d6999b1",
        "outputId": "227c96ae-fe7d-4364-cf94-41697f7c84f6"
      },
      "outputs": [
        {
          "output_type": "stream",
          "name": "stderr",
          "text": [
            "\u001b[34m\u001b[1mwandb\u001b[0m: \u001b[33mWARNING\u001b[0m Calling wandb.login() after wandb.init() has no effect.\n"
          ]
        }
      ],
      "source": [
        "import wandb\n",
        "\n",
        "try:\n",
        "    wandb.login(key=\"02e98f3d906f4dc5041c8e50aaa2462432a6e969\")\n",
        "    anony = None\n",
        "except:\n",
        "    anony = \"must\"\n",
        "    print('If you want to use your W&B account, go to Add-ons -> Secrets and provide your W&B access token. Use the Label name as wandb_api. \\nGet your W&B access token from here: https://wandb.ai/authorize')"
      ],
      "id": "1d6999b1"
    },
    {
      "cell_type": "code",
      "execution_count": null,
      "metadata": {
        "colab": {
          "base_uri": "https://localhost:8080/",
          "height": 206
        },
        "id": "s-KF8Is61act",
        "outputId": "c1db6ad0-d054-4f8a-a5eb-8bbce537e268"
      },
      "outputs": [
        {
          "output_type": "execute_result",
          "data": {
            "text/plain": [
              "   id                                        description  jobflag\n",
              "0   0  <li>Develop cutting-edge web applications that...        3\n",
              "1   1  <li> Designs and develops high quality, scalab...        3\n",
              "2   2  <li>Functions as a point person for Network St...        4\n",
              "3   3  <li> Work on the technical design, development...        3\n",
              "4   4  <li>Quantify the resources required for a task...        4"
            ],
            "text/html": [
              "\n",
              "  <div id=\"df-17a99b05-7139-4e14-a33b-1c216fdb9440\">\n",
              "    <div class=\"colab-df-container\">\n",
              "      <div>\n",
              "<style scoped>\n",
              "    .dataframe tbody tr th:only-of-type {\n",
              "        vertical-align: middle;\n",
              "    }\n",
              "\n",
              "    .dataframe tbody tr th {\n",
              "        vertical-align: top;\n",
              "    }\n",
              "\n",
              "    .dataframe thead th {\n",
              "        text-align: right;\n",
              "    }\n",
              "</style>\n",
              "<table border=\"1\" class=\"dataframe\">\n",
              "  <thead>\n",
              "    <tr style=\"text-align: right;\">\n",
              "      <th></th>\n",
              "      <th>id</th>\n",
              "      <th>description</th>\n",
              "      <th>jobflag</th>\n",
              "    </tr>\n",
              "  </thead>\n",
              "  <tbody>\n",
              "    <tr>\n",
              "      <th>0</th>\n",
              "      <td>0</td>\n",
              "      <td>&lt;li&gt;Develop cutting-edge web applications that...</td>\n",
              "      <td>3</td>\n",
              "    </tr>\n",
              "    <tr>\n",
              "      <th>1</th>\n",
              "      <td>1</td>\n",
              "      <td>&lt;li&gt; Designs and develops high quality, scalab...</td>\n",
              "      <td>3</td>\n",
              "    </tr>\n",
              "    <tr>\n",
              "      <th>2</th>\n",
              "      <td>2</td>\n",
              "      <td>&lt;li&gt;Functions as a point person for Network St...</td>\n",
              "      <td>4</td>\n",
              "    </tr>\n",
              "    <tr>\n",
              "      <th>3</th>\n",
              "      <td>3</td>\n",
              "      <td>&lt;li&gt; Work on the technical design, development...</td>\n",
              "      <td>3</td>\n",
              "    </tr>\n",
              "    <tr>\n",
              "      <th>4</th>\n",
              "      <td>4</td>\n",
              "      <td>&lt;li&gt;Quantify the resources required for a task...</td>\n",
              "      <td>4</td>\n",
              "    </tr>\n",
              "  </tbody>\n",
              "</table>\n",
              "</div>\n",
              "      <button class=\"colab-df-convert\" onclick=\"convertToInteractive('df-17a99b05-7139-4e14-a33b-1c216fdb9440')\"\n",
              "              title=\"Convert this dataframe to an interactive table.\"\n",
              "              style=\"display:none;\">\n",
              "        \n",
              "  <svg xmlns=\"http://www.w3.org/2000/svg\" height=\"24px\"viewBox=\"0 0 24 24\"\n",
              "       width=\"24px\">\n",
              "    <path d=\"M0 0h24v24H0V0z\" fill=\"none\"/>\n",
              "    <path d=\"M18.56 5.44l.94 2.06.94-2.06 2.06-.94-2.06-.94-.94-2.06-.94 2.06-2.06.94zm-11 1L8.5 8.5l.94-2.06 2.06-.94-2.06-.94L8.5 2.5l-.94 2.06-2.06.94zm10 10l.94 2.06.94-2.06 2.06-.94-2.06-.94-.94-2.06-.94 2.06-2.06.94z\"/><path d=\"M17.41 7.96l-1.37-1.37c-.4-.4-.92-.59-1.43-.59-.52 0-1.04.2-1.43.59L10.3 9.45l-7.72 7.72c-.78.78-.78 2.05 0 2.83L4 21.41c.39.39.9.59 1.41.59.51 0 1.02-.2 1.41-.59l7.78-7.78 2.81-2.81c.8-.78.8-2.07 0-2.86zM5.41 20L4 18.59l7.72-7.72 1.47 1.35L5.41 20z\"/>\n",
              "  </svg>\n",
              "      </button>\n",
              "      \n",
              "  <style>\n",
              "    .colab-df-container {\n",
              "      display:flex;\n",
              "      flex-wrap:wrap;\n",
              "      gap: 12px;\n",
              "    }\n",
              "\n",
              "    .colab-df-convert {\n",
              "      background-color: #E8F0FE;\n",
              "      border: none;\n",
              "      border-radius: 50%;\n",
              "      cursor: pointer;\n",
              "      display: none;\n",
              "      fill: #1967D2;\n",
              "      height: 32px;\n",
              "      padding: 0 0 0 0;\n",
              "      width: 32px;\n",
              "    }\n",
              "\n",
              "    .colab-df-convert:hover {\n",
              "      background-color: #E2EBFA;\n",
              "      box-shadow: 0px 1px 2px rgba(60, 64, 67, 0.3), 0px 1px 3px 1px rgba(60, 64, 67, 0.15);\n",
              "      fill: #174EA6;\n",
              "    }\n",
              "\n",
              "    [theme=dark] .colab-df-convert {\n",
              "      background-color: #3B4455;\n",
              "      fill: #D2E3FC;\n",
              "    }\n",
              "\n",
              "    [theme=dark] .colab-df-convert:hover {\n",
              "      background-color: #434B5C;\n",
              "      box-shadow: 0px 1px 3px 1px rgba(0, 0, 0, 0.15);\n",
              "      filter: drop-shadow(0px 1px 2px rgba(0, 0, 0, 0.3));\n",
              "      fill: #FFFFFF;\n",
              "    }\n",
              "  </style>\n",
              "\n",
              "      <script>\n",
              "        const buttonEl =\n",
              "          document.querySelector('#df-17a99b05-7139-4e14-a33b-1c216fdb9440 button.colab-df-convert');\n",
              "        buttonEl.style.display =\n",
              "          google.colab.kernel.accessAllowed ? 'block' : 'none';\n",
              "\n",
              "        async function convertToInteractive(key) {\n",
              "          const element = document.querySelector('#df-17a99b05-7139-4e14-a33b-1c216fdb9440');\n",
              "          const dataTable =\n",
              "            await google.colab.kernel.invokeFunction('convertToInteractive',\n",
              "                                                     [key], {});\n",
              "          if (!dataTable) return;\n",
              "\n",
              "          const docLinkHtml = 'Like what you see? Visit the ' +\n",
              "            '<a target=\"_blank\" href=https://colab.research.google.com/notebooks/data_table.ipynb>data table notebook</a>'\n",
              "            + ' to learn more about interactive tables.';\n",
              "          element.innerHTML = '';\n",
              "          dataTable['output_type'] = 'display_data';\n",
              "          await google.colab.output.renderOutput(dataTable, element);\n",
              "          const docLink = document.createElement('div');\n",
              "          docLink.innerHTML = docLinkHtml;\n",
              "          element.appendChild(docLink);\n",
              "        }\n",
              "      </script>\n",
              "    </div>\n",
              "  </div>\n",
              "  "
            ]
          },
          "metadata": {},
          "execution_count": 49
        }
      ],
      "source": [
        "df = pd.read_csv(\"/content/drive/My Drive/data_analysis/competition/Signate_NLP/input/train.csv\")\n",
        "test = pd.read_csv(\"/content/drive/My Drive/data_analysis/competition/Signate_NLP/input/test.csv\")\n",
        "# sub = pd.read_csv(\"/content/drive/MyDrive/kaggle/StudentCup/output/exp_043(MultiLabel).csv\")\n",
        "df.head()"
      ],
      "id": "s-KF8Is61act"
    },
    {
      "cell_type": "code",
      "execution_count": null,
      "metadata": {
        "id": "kuimxu0VzWtG"
      },
      "outputs": [],
      "source": [
        "# pl_df = pd.concat([test, sub], axis=1).drop(columns=\"0\").rename(columns={\"1\": \"jobflag\"})\n",
        "# pl_df"
      ],
      "id": "kuimxu0VzWtG"
    },
    {
      "cell_type": "code",
      "execution_count": null,
      "metadata": {
        "colab": {
          "base_uri": "https://localhost:8080/"
        },
        "id": "0e6f5763",
        "outputId": "2ce9ebd2-add7-476e-c9ce-fc877ea133d6"
      },
      "outputs": [
        {
          "output_type": "stream",
          "name": "stderr",
          "text": [
            "Special tokens have been added in the vocabulary, make sure the associated word embeddings are fine-tuned or trained.\n",
            "Special tokens have been added in the vocabulary, make sure the associated word embeddings are fine-tuned or trained.\n"
          ]
        }
      ],
      "source": [
        "CONFIG = {\"seed\": 2022,\n",
        "          \"epochs\": 3,\n",
        "          \"model_name\": \"microsoft/deberta-v3-large\",\n",
        "          \"train_batch_size\": 2,\n",
        "          \"valid_batch_size\": 8,\n",
        "          \"max_length\": 512,\n",
        "          \"learning_rate\": 1e-5,\n",
        "          \"scheduler\": 'CosineAnnealingLR',\n",
        "          \"min_lr\": 1e-6,\n",
        "          \"T_max\": 500, #スケジューラーにおける学習率の周期\n",
        "          \"weight_decay\": 1e-6,\n",
        "          \"n_fold\": 4,\n",
        "          \"n_accumulate\": 4,\n",
        "          \"num_classes\": 4,\n",
        "          \"device\": torch.device(\"cuda:0\" if torch.cuda.is_available() else \"cpu\"),\n",
        "        #   \"hash_name\": HASH_NAME,\n",
        "          \"competition\": \"Signate\",\n",
        "          \"_wandb_kernel\": \"deb\",\n",
        "          \"dropout\": 0.1,\n",
        "          \"output_name\": \"exp_058(MultiLabel)\",\n",
        "          \"pooling\": \"mean pooling\"\n",
        "          }\n",
        "\n",
        "CONFIG[\"tokenizer\"] = AutoTokenizer.from_pretrained(CONFIG['model_name'])\n",
        "CONFIG['group'] = f'{CONFIG[\"output_name\"]}'"
      ],
      "id": "0e6f5763"
    },
    {
      "cell_type": "markdown",
      "metadata": {
        "id": "AbgSMFPwEhcg"
      },
      "source": [
        "#特徴量エンジニアリング"
      ],
      "id": "AbgSMFPwEhcg"
    },
    {
      "cell_type": "code",
      "execution_count": null,
      "metadata": {
        "colab": {
          "base_uri": "https://localhost:8080/",
          "height": 248
        },
        "id": "tnfgLGAJ0tgA",
        "outputId": "ce31c31a-d990-4700-b185-6f7afbe43377"
      },
      "outputs": [
        {
          "output_type": "error",
          "ename": "NameError",
          "evalue": "ignored",
          "traceback": [
            "\u001b[0;31m---------------------------------------------------------------------------\u001b[0m",
            "\u001b[0;31mNameError\u001b[0m                                 Traceback (most recent call last)",
            "\u001b[0;32m<ipython-input-4-23476004ce7b>\u001b[0m in \u001b[0;36m<module>\u001b[0;34m\u001b[0m\n\u001b[1;32m      2\u001b[0m \u001b[0;34m\u001b[0m\u001b[0m\n\u001b[1;32m      3\u001b[0m \u001b[0ml\u001b[0m \u001b[0;34m=\u001b[0m \u001b[0;34m[\u001b[0m\u001b[0;34m]\u001b[0m\u001b[0;34m\u001b[0m\u001b[0;34m\u001b[0m\u001b[0m\n\u001b[0;32m----> 4\u001b[0;31m \u001b[0;32mfor\u001b[0m \u001b[0mtext\u001b[0m \u001b[0;32min\u001b[0m \u001b[0mdf\u001b[0m\u001b[0;34m[\u001b[0m\u001b[0;34m\"description\"\u001b[0m\u001b[0;34m]\u001b[0m\u001b[0;34m:\u001b[0m\u001b[0;34m\u001b[0m\u001b[0;34m\u001b[0m\u001b[0m\n\u001b[0m\u001b[1;32m      5\u001b[0m     \u001b[0mnew_l\u001b[0m \u001b[0;34m=\u001b[0m \u001b[0mre\u001b[0m\u001b[0;34m.\u001b[0m\u001b[0mfindall\u001b[0m\u001b[0;34m(\u001b[0m\u001b[0;34mr\"\\(^\\p{Han}+\\)\"\u001b[0m\u001b[0;34m,\u001b[0m \u001b[0mtext\u001b[0m\u001b[0;34m)\u001b[0m\u001b[0;34m\u001b[0m\u001b[0;34m\u001b[0m\u001b[0m\n\u001b[1;32m      6\u001b[0m     \u001b[0ml\u001b[0m\u001b[0;34m.\u001b[0m\u001b[0mappend\u001b[0m\u001b[0;34m(\u001b[0m\u001b[0mnew_l\u001b[0m\u001b[0;34m)\u001b[0m\u001b[0;34m\u001b[0m\u001b[0;34m\u001b[0m\u001b[0m\n",
            "\u001b[0;31mNameError\u001b[0m: name 'df' is not defined"
          ]
        }
      ],
      "source": [
        "#htmlタグの抽出\n",
        "\n",
        "l = []\n",
        "for text in df[\"description\"]:\n",
        "    new_l = re.findall(r\"\\(^\\p{Han}+\\)\", text)\n",
        "    l.append(new_l)\n",
        "l = list(set(sum(l, [])))\n",
        "l"
      ],
      "id": "tnfgLGAJ0tgA"
    },
    {
      "cell_type": "code",
      "execution_count": null,
      "metadata": {
        "colab": {
          "base_uri": "https://localhost:8080/"
        },
        "id": "n_NxUyBd5tsg",
        "outputId": "337b85e2-6cdc-4a09-9322-8392d2c26bf5"
      },
      "outputs": [
        {
          "output_type": "execute_result",
          "data": {
            "text/plain": [
              "10"
            ]
          },
          "metadata": {},
          "execution_count": 53
        }
      ],
      "source": [
        "#普通に語彙として追加してみる\n",
        "\n",
        "CONFIG[\"tokenizer\"].add_tokens(l, special_tokens=True)"
      ],
      "id": "n_NxUyBd5tsg"
    },
    {
      "cell_type": "code",
      "execution_count": null,
      "metadata": {
        "id": "h6cBHzQDEkan"
      },
      "outputs": [],
      "source": [
        "def get_over_sentence(tokenizer, train, max_length=256):\n",
        "    over_sentence = []\n",
        "    over_index = []\n",
        "    train[\"len\"]  = train[\"description\"].apply(lambda x: len(x))\n",
        "    train[\"len\"].sort_values(ascending=False)\n",
        "    over_train = train[train[\"len\"] > max_length]\n",
        "    for index, t in zip(over_train.index, over_train.description):\n",
        "        tokenized = tokenizer.encode_plus(t)\n",
        "        if len(tokenized.input_ids) > max_length:\n",
        "            s = tokenizer.decode(tokenized.input_ids[max_length:])\n",
        "            if \"<li>\" in s:\n",
        "                idx = s.find(\"<li>\")\n",
        "                s = s[idx:]\n",
        "                over_sentence.append(s)\n",
        "                over_index.append(index)\n",
        "    over_df = pd.DataFrame({\"description\": over_sentence, \"jobflag\": train.loc[over_index, \"jobflag\"]})\n",
        "\n",
        "    return over_df"
      ],
      "id": "h6cBHzQDEkan"
    },
    {
      "cell_type": "code",
      "execution_count": null,
      "metadata": {
        "id": "4T1bNQWJ-iBJ"
      },
      "outputs": [],
      "source": [
        "df[\"len\"]  = df[\"description\"].apply(lambda x: len(x))\n",
        "df[\"len\"].sort_values(ascending=False)\n",
        "df[\"len_category\"] = pd.qcut(df[\"len\"], 10, labels=[i for i in range(1, 11)])"
      ],
      "id": "4T1bNQWJ-iBJ"
    },
    {
      "cell_type": "markdown",
      "metadata": {
        "id": "91a8e523"
      },
      "source": [
        "# <span><h1 style = \"font-family: garamond; font-size: 40px; font-style: normal; letter-spcaing: 3px; background-color: #f6f5f5; color :#fe346e; border-radius: 100px 100px; text-align:center\">Set Seed for Reproducibility</h1></span>"
      ],
      "id": "91a8e523"
    },
    {
      "cell_type": "code",
      "execution_count": null,
      "metadata": {
        "id": "ce66605b"
      },
      "outputs": [],
      "source": [
        "def set_seed(seed=42):\n",
        "    '''Sets the seed of the entire notebook so results are the same every time we run.\n",
        "    This is for REPRODUCIBILITY.'''\n",
        "    random.seed(seed)\n",
        "    np.random.seed(seed)\n",
        "    torch.manual_seed(seed)\n",
        "    torch.cuda.manual_seed(seed)\n",
        "    # When running on the CuDNN backend, two further options must be set\n",
        "    torch.backends.cudnn.deterministic = True\n",
        "    torch.backends.cudnn.benchmark = False\n",
        "    # Set a fixed value for the hash seed\n",
        "    os.environ['PYTHONHASHSEED'] = str(seed)\n",
        "    \n",
        "set_seed(CONFIG['seed'])"
      ],
      "id": "ce66605b"
    },
    {
      "cell_type": "markdown",
      "metadata": {
        "id": "c6155373"
      },
      "source": [
        "# <span><h1 style = \"font-family: garamond; font-size: 40px; font-style: normal; letter-spcaing: 3px; background-color: #f6f5f5; color :#fe346e; border-radius: 100px 100px; text-align:center\">Create Folds</h1></span>"
      ],
      "id": "c6155373"
    },
    {
      "cell_type": "markdown",
      "metadata": {
        "id": "IqQYFKlqpoe1"
      },
      "source": [
        "#Multi label kfold"
      ],
      "id": "IqQYFKlqpoe1"
    },
    {
      "cell_type": "code",
      "execution_count": null,
      "metadata": {
        "colab": {
          "base_uri": "https://localhost:8080/",
          "height": 423
        },
        "id": "SScajcz3qMTB",
        "outputId": "525b0445-c52d-407f-ffa1-71b28b67f712"
      },
      "outputs": [
        {
          "output_type": "execute_result",
          "data": {
            "text/plain": [
              "        id                                        description  jobflag   len  \\\n",
              "0        0  <li>Develop cutting-edge web applications that...        3   867   \n",
              "1        1  <li> Designs and develops high quality, scalab...        3  1735   \n",
              "2        2  <li>Functions as a point person for Network St...        4  1448   \n",
              "3        3  <li> Work on the technical design, development...        3   632   \n",
              "4        4  <li>Quantify the resources required for a task...        4   276   \n",
              "...    ...                                                ...      ...   ...   \n",
              "1511  1511  <li>Support detailed reporting, statistical an...        1   599   \n",
              "1512  1512  <li>Collaborate with teams to support the ML t...        2   363   \n",
              "1513  1513  <li> Work with executives and other business l...        1   852   \n",
              "1514  1514  <li>Leading design ideation sessions to ensure...        3   331   \n",
              "1515  1515  <li>Detection of Issues &amp; Impact Assessmen...        1   886   \n",
              "\n",
              "     len_category  \n",
              "0               9  \n",
              "1              10  \n",
              "2              10  \n",
              "3               7  \n",
              "4               3  \n",
              "...           ...  \n",
              "1511            7  \n",
              "1512            4  \n",
              "1513            9  \n",
              "1514            4  \n",
              "1515            9  \n",
              "\n",
              "[1516 rows x 5 columns]"
            ],
            "text/html": [
              "\n",
              "  <div id=\"df-b8c681e2-9eb6-4225-83a1-d903fbdd887b\">\n",
              "    <div class=\"colab-df-container\">\n",
              "      <div>\n",
              "<style scoped>\n",
              "    .dataframe tbody tr th:only-of-type {\n",
              "        vertical-align: middle;\n",
              "    }\n",
              "\n",
              "    .dataframe tbody tr th {\n",
              "        vertical-align: top;\n",
              "    }\n",
              "\n",
              "    .dataframe thead th {\n",
              "        text-align: right;\n",
              "    }\n",
              "</style>\n",
              "<table border=\"1\" class=\"dataframe\">\n",
              "  <thead>\n",
              "    <tr style=\"text-align: right;\">\n",
              "      <th></th>\n",
              "      <th>id</th>\n",
              "      <th>description</th>\n",
              "      <th>jobflag</th>\n",
              "      <th>len</th>\n",
              "      <th>len_category</th>\n",
              "    </tr>\n",
              "  </thead>\n",
              "  <tbody>\n",
              "    <tr>\n",
              "      <th>0</th>\n",
              "      <td>0</td>\n",
              "      <td>&lt;li&gt;Develop cutting-edge web applications that...</td>\n",
              "      <td>3</td>\n",
              "      <td>867</td>\n",
              "      <td>9</td>\n",
              "    </tr>\n",
              "    <tr>\n",
              "      <th>1</th>\n",
              "      <td>1</td>\n",
              "      <td>&lt;li&gt; Designs and develops high quality, scalab...</td>\n",
              "      <td>3</td>\n",
              "      <td>1735</td>\n",
              "      <td>10</td>\n",
              "    </tr>\n",
              "    <tr>\n",
              "      <th>2</th>\n",
              "      <td>2</td>\n",
              "      <td>&lt;li&gt;Functions as a point person for Network St...</td>\n",
              "      <td>4</td>\n",
              "      <td>1448</td>\n",
              "      <td>10</td>\n",
              "    </tr>\n",
              "    <tr>\n",
              "      <th>3</th>\n",
              "      <td>3</td>\n",
              "      <td>&lt;li&gt; Work on the technical design, development...</td>\n",
              "      <td>3</td>\n",
              "      <td>632</td>\n",
              "      <td>7</td>\n",
              "    </tr>\n",
              "    <tr>\n",
              "      <th>4</th>\n",
              "      <td>4</td>\n",
              "      <td>&lt;li&gt;Quantify the resources required for a task...</td>\n",
              "      <td>4</td>\n",
              "      <td>276</td>\n",
              "      <td>3</td>\n",
              "    </tr>\n",
              "    <tr>\n",
              "      <th>...</th>\n",
              "      <td>...</td>\n",
              "      <td>...</td>\n",
              "      <td>...</td>\n",
              "      <td>...</td>\n",
              "      <td>...</td>\n",
              "    </tr>\n",
              "    <tr>\n",
              "      <th>1511</th>\n",
              "      <td>1511</td>\n",
              "      <td>&lt;li&gt;Support detailed reporting, statistical an...</td>\n",
              "      <td>1</td>\n",
              "      <td>599</td>\n",
              "      <td>7</td>\n",
              "    </tr>\n",
              "    <tr>\n",
              "      <th>1512</th>\n",
              "      <td>1512</td>\n",
              "      <td>&lt;li&gt;Collaborate with teams to support the ML t...</td>\n",
              "      <td>2</td>\n",
              "      <td>363</td>\n",
              "      <td>4</td>\n",
              "    </tr>\n",
              "    <tr>\n",
              "      <th>1513</th>\n",
              "      <td>1513</td>\n",
              "      <td>&lt;li&gt; Work with executives and other business l...</td>\n",
              "      <td>1</td>\n",
              "      <td>852</td>\n",
              "      <td>9</td>\n",
              "    </tr>\n",
              "    <tr>\n",
              "      <th>1514</th>\n",
              "      <td>1514</td>\n",
              "      <td>&lt;li&gt;Leading design ideation sessions to ensure...</td>\n",
              "      <td>3</td>\n",
              "      <td>331</td>\n",
              "      <td>4</td>\n",
              "    </tr>\n",
              "    <tr>\n",
              "      <th>1515</th>\n",
              "      <td>1515</td>\n",
              "      <td>&lt;li&gt;Detection of Issues &amp;amp; Impact Assessmen...</td>\n",
              "      <td>1</td>\n",
              "      <td>886</td>\n",
              "      <td>9</td>\n",
              "    </tr>\n",
              "  </tbody>\n",
              "</table>\n",
              "<p>1516 rows × 5 columns</p>\n",
              "</div>\n",
              "      <button class=\"colab-df-convert\" onclick=\"convertToInteractive('df-b8c681e2-9eb6-4225-83a1-d903fbdd887b')\"\n",
              "              title=\"Convert this dataframe to an interactive table.\"\n",
              "              style=\"display:none;\">\n",
              "        \n",
              "  <svg xmlns=\"http://www.w3.org/2000/svg\" height=\"24px\"viewBox=\"0 0 24 24\"\n",
              "       width=\"24px\">\n",
              "    <path d=\"M0 0h24v24H0V0z\" fill=\"none\"/>\n",
              "    <path d=\"M18.56 5.44l.94 2.06.94-2.06 2.06-.94-2.06-.94-.94-2.06-.94 2.06-2.06.94zm-11 1L8.5 8.5l.94-2.06 2.06-.94-2.06-.94L8.5 2.5l-.94 2.06-2.06.94zm10 10l.94 2.06.94-2.06 2.06-.94-2.06-.94-.94-2.06-.94 2.06-2.06.94z\"/><path d=\"M17.41 7.96l-1.37-1.37c-.4-.4-.92-.59-1.43-.59-.52 0-1.04.2-1.43.59L10.3 9.45l-7.72 7.72c-.78.78-.78 2.05 0 2.83L4 21.41c.39.39.9.59 1.41.59.51 0 1.02-.2 1.41-.59l7.78-7.78 2.81-2.81c.8-.78.8-2.07 0-2.86zM5.41 20L4 18.59l7.72-7.72 1.47 1.35L5.41 20z\"/>\n",
              "  </svg>\n",
              "      </button>\n",
              "      \n",
              "  <style>\n",
              "    .colab-df-container {\n",
              "      display:flex;\n",
              "      flex-wrap:wrap;\n",
              "      gap: 12px;\n",
              "    }\n",
              "\n",
              "    .colab-df-convert {\n",
              "      background-color: #E8F0FE;\n",
              "      border: none;\n",
              "      border-radius: 50%;\n",
              "      cursor: pointer;\n",
              "      display: none;\n",
              "      fill: #1967D2;\n",
              "      height: 32px;\n",
              "      padding: 0 0 0 0;\n",
              "      width: 32px;\n",
              "    }\n",
              "\n",
              "    .colab-df-convert:hover {\n",
              "      background-color: #E2EBFA;\n",
              "      box-shadow: 0px 1px 2px rgba(60, 64, 67, 0.3), 0px 1px 3px 1px rgba(60, 64, 67, 0.15);\n",
              "      fill: #174EA6;\n",
              "    }\n",
              "\n",
              "    [theme=dark] .colab-df-convert {\n",
              "      background-color: #3B4455;\n",
              "      fill: #D2E3FC;\n",
              "    }\n",
              "\n",
              "    [theme=dark] .colab-df-convert:hover {\n",
              "      background-color: #434B5C;\n",
              "      box-shadow: 0px 1px 3px 1px rgba(0, 0, 0, 0.15);\n",
              "      filter: drop-shadow(0px 1px 2px rgba(0, 0, 0, 0.3));\n",
              "      fill: #FFFFFF;\n",
              "    }\n",
              "  </style>\n",
              "\n",
              "      <script>\n",
              "        const buttonEl =\n",
              "          document.querySelector('#df-b8c681e2-9eb6-4225-83a1-d903fbdd887b button.colab-df-convert');\n",
              "        buttonEl.style.display =\n",
              "          google.colab.kernel.accessAllowed ? 'block' : 'none';\n",
              "\n",
              "        async function convertToInteractive(key) {\n",
              "          const element = document.querySelector('#df-b8c681e2-9eb6-4225-83a1-d903fbdd887b');\n",
              "          const dataTable =\n",
              "            await google.colab.kernel.invokeFunction('convertToInteractive',\n",
              "                                                     [key], {});\n",
              "          if (!dataTable) return;\n",
              "\n",
              "          const docLinkHtml = 'Like what you see? Visit the ' +\n",
              "            '<a target=\"_blank\" href=https://colab.research.google.com/notebooks/data_table.ipynb>data table notebook</a>'\n",
              "            + ' to learn more about interactive tables.';\n",
              "          element.innerHTML = '';\n",
              "          dataTable['output_type'] = 'display_data';\n",
              "          await google.colab.output.renderOutput(dataTable, element);\n",
              "          const docLink = document.createElement('div');\n",
              "          docLink.innerHTML = docLinkHtml;\n",
              "          element.appendChild(docLink);\n",
              "        }\n",
              "      </script>\n",
              "    </div>\n",
              "  </div>\n",
              "  "
            ]
          },
          "metadata": {},
          "execution_count": 58
        }
      ],
      "source": [
        "df"
      ],
      "id": "SScajcz3qMTB"
    },
    {
      "cell_type": "code",
      "execution_count": null,
      "metadata": {
        "colab": {
          "base_uri": "https://localhost:8080/",
          "height": 423
        },
        "id": "OsRr0LTplbMb",
        "outputId": "6ab954f3-0992-411e-a479-0c0903257754"
      },
      "outputs": [
        {
          "output_type": "execute_result",
          "data": {
            "text/plain": [
              "        id                                        description  jobflag   len  \\\n",
              "0        0  <li>Develop cutting-edge web applications that...        3   867   \n",
              "1        1  <li> Designs and develops high quality, scalab...        3  1735   \n",
              "2        2  <li>Functions as a point person for Network St...        4  1448   \n",
              "3        3  <li> Work on the technical design, development...        3   632   \n",
              "4        4  <li>Quantify the resources required for a task...        4   276   \n",
              "...    ...                                                ...      ...   ...   \n",
              "1511  1511  <li>Support detailed reporting, statistical an...        1   599   \n",
              "1512  1512  <li>Collaborate with teams to support the ML t...        2   363   \n",
              "1513  1513  <li> Work with executives and other business l...        1   852   \n",
              "1514  1514  <li>Leading design ideation sessions to ensure...        3   331   \n",
              "1515  1515  <li>Detection of Issues &amp; Impact Assessmen...        1   886   \n",
              "\n",
              "      len_category multi_label  kfold  \n",
              "0                9          39      2  \n",
              "1               10         310      2  \n",
              "2               10         410      3  \n",
              "3                7          37      0  \n",
              "4                3          43      2  \n",
              "...            ...         ...    ...  \n",
              "1511             7          17      3  \n",
              "1512             4          24      0  \n",
              "1513             9          19      3  \n",
              "1514             4          34      0  \n",
              "1515             9          19      3  \n",
              "\n",
              "[1516 rows x 7 columns]"
            ],
            "text/html": [
              "\n",
              "  <div id=\"df-edd4e36a-2fd2-4206-a622-e81fbe9239ae\">\n",
              "    <div class=\"colab-df-container\">\n",
              "      <div>\n",
              "<style scoped>\n",
              "    .dataframe tbody tr th:only-of-type {\n",
              "        vertical-align: middle;\n",
              "    }\n",
              "\n",
              "    .dataframe tbody tr th {\n",
              "        vertical-align: top;\n",
              "    }\n",
              "\n",
              "    .dataframe thead th {\n",
              "        text-align: right;\n",
              "    }\n",
              "</style>\n",
              "<table border=\"1\" class=\"dataframe\">\n",
              "  <thead>\n",
              "    <tr style=\"text-align: right;\">\n",
              "      <th></th>\n",
              "      <th>id</th>\n",
              "      <th>description</th>\n",
              "      <th>jobflag</th>\n",
              "      <th>len</th>\n",
              "      <th>len_category</th>\n",
              "      <th>multi_label</th>\n",
              "      <th>kfold</th>\n",
              "    </tr>\n",
              "  </thead>\n",
              "  <tbody>\n",
              "    <tr>\n",
              "      <th>0</th>\n",
              "      <td>0</td>\n",
              "      <td>&lt;li&gt;Develop cutting-edge web applications that...</td>\n",
              "      <td>3</td>\n",
              "      <td>867</td>\n",
              "      <td>9</td>\n",
              "      <td>39</td>\n",
              "      <td>2</td>\n",
              "    </tr>\n",
              "    <tr>\n",
              "      <th>1</th>\n",
              "      <td>1</td>\n",
              "      <td>&lt;li&gt; Designs and develops high quality, scalab...</td>\n",
              "      <td>3</td>\n",
              "      <td>1735</td>\n",
              "      <td>10</td>\n",
              "      <td>310</td>\n",
              "      <td>2</td>\n",
              "    </tr>\n",
              "    <tr>\n",
              "      <th>2</th>\n",
              "      <td>2</td>\n",
              "      <td>&lt;li&gt;Functions as a point person for Network St...</td>\n",
              "      <td>4</td>\n",
              "      <td>1448</td>\n",
              "      <td>10</td>\n",
              "      <td>410</td>\n",
              "      <td>3</td>\n",
              "    </tr>\n",
              "    <tr>\n",
              "      <th>3</th>\n",
              "      <td>3</td>\n",
              "      <td>&lt;li&gt; Work on the technical design, development...</td>\n",
              "      <td>3</td>\n",
              "      <td>632</td>\n",
              "      <td>7</td>\n",
              "      <td>37</td>\n",
              "      <td>0</td>\n",
              "    </tr>\n",
              "    <tr>\n",
              "      <th>4</th>\n",
              "      <td>4</td>\n",
              "      <td>&lt;li&gt;Quantify the resources required for a task...</td>\n",
              "      <td>4</td>\n",
              "      <td>276</td>\n",
              "      <td>3</td>\n",
              "      <td>43</td>\n",
              "      <td>2</td>\n",
              "    </tr>\n",
              "    <tr>\n",
              "      <th>...</th>\n",
              "      <td>...</td>\n",
              "      <td>...</td>\n",
              "      <td>...</td>\n",
              "      <td>...</td>\n",
              "      <td>...</td>\n",
              "      <td>...</td>\n",
              "      <td>...</td>\n",
              "    </tr>\n",
              "    <tr>\n",
              "      <th>1511</th>\n",
              "      <td>1511</td>\n",
              "      <td>&lt;li&gt;Support detailed reporting, statistical an...</td>\n",
              "      <td>1</td>\n",
              "      <td>599</td>\n",
              "      <td>7</td>\n",
              "      <td>17</td>\n",
              "      <td>3</td>\n",
              "    </tr>\n",
              "    <tr>\n",
              "      <th>1512</th>\n",
              "      <td>1512</td>\n",
              "      <td>&lt;li&gt;Collaborate with teams to support the ML t...</td>\n",
              "      <td>2</td>\n",
              "      <td>363</td>\n",
              "      <td>4</td>\n",
              "      <td>24</td>\n",
              "      <td>0</td>\n",
              "    </tr>\n",
              "    <tr>\n",
              "      <th>1513</th>\n",
              "      <td>1513</td>\n",
              "      <td>&lt;li&gt; Work with executives and other business l...</td>\n",
              "      <td>1</td>\n",
              "      <td>852</td>\n",
              "      <td>9</td>\n",
              "      <td>19</td>\n",
              "      <td>3</td>\n",
              "    </tr>\n",
              "    <tr>\n",
              "      <th>1514</th>\n",
              "      <td>1514</td>\n",
              "      <td>&lt;li&gt;Leading design ideation sessions to ensure...</td>\n",
              "      <td>3</td>\n",
              "      <td>331</td>\n",
              "      <td>4</td>\n",
              "      <td>34</td>\n",
              "      <td>0</td>\n",
              "    </tr>\n",
              "    <tr>\n",
              "      <th>1515</th>\n",
              "      <td>1515</td>\n",
              "      <td>&lt;li&gt;Detection of Issues &amp;amp; Impact Assessmen...</td>\n",
              "      <td>1</td>\n",
              "      <td>886</td>\n",
              "      <td>9</td>\n",
              "      <td>19</td>\n",
              "      <td>3</td>\n",
              "    </tr>\n",
              "  </tbody>\n",
              "</table>\n",
              "<p>1516 rows × 7 columns</p>\n",
              "</div>\n",
              "      <button class=\"colab-df-convert\" onclick=\"convertToInteractive('df-edd4e36a-2fd2-4206-a622-e81fbe9239ae')\"\n",
              "              title=\"Convert this dataframe to an interactive table.\"\n",
              "              style=\"display:none;\">\n",
              "        \n",
              "  <svg xmlns=\"http://www.w3.org/2000/svg\" height=\"24px\"viewBox=\"0 0 24 24\"\n",
              "       width=\"24px\">\n",
              "    <path d=\"M0 0h24v24H0V0z\" fill=\"none\"/>\n",
              "    <path d=\"M18.56 5.44l.94 2.06.94-2.06 2.06-.94-2.06-.94-.94-2.06-.94 2.06-2.06.94zm-11 1L8.5 8.5l.94-2.06 2.06-.94-2.06-.94L8.5 2.5l-.94 2.06-2.06.94zm10 10l.94 2.06.94-2.06 2.06-.94-2.06-.94-.94-2.06-.94 2.06-2.06.94z\"/><path d=\"M17.41 7.96l-1.37-1.37c-.4-.4-.92-.59-1.43-.59-.52 0-1.04.2-1.43.59L10.3 9.45l-7.72 7.72c-.78.78-.78 2.05 0 2.83L4 21.41c.39.39.9.59 1.41.59.51 0 1.02-.2 1.41-.59l7.78-7.78 2.81-2.81c.8-.78.8-2.07 0-2.86zM5.41 20L4 18.59l7.72-7.72 1.47 1.35L5.41 20z\"/>\n",
              "  </svg>\n",
              "      </button>\n",
              "      \n",
              "  <style>\n",
              "    .colab-df-container {\n",
              "      display:flex;\n",
              "      flex-wrap:wrap;\n",
              "      gap: 12px;\n",
              "    }\n",
              "\n",
              "    .colab-df-convert {\n",
              "      background-color: #E8F0FE;\n",
              "      border: none;\n",
              "      border-radius: 50%;\n",
              "      cursor: pointer;\n",
              "      display: none;\n",
              "      fill: #1967D2;\n",
              "      height: 32px;\n",
              "      padding: 0 0 0 0;\n",
              "      width: 32px;\n",
              "    }\n",
              "\n",
              "    .colab-df-convert:hover {\n",
              "      background-color: #E2EBFA;\n",
              "      box-shadow: 0px 1px 2px rgba(60, 64, 67, 0.3), 0px 1px 3px 1px rgba(60, 64, 67, 0.15);\n",
              "      fill: #174EA6;\n",
              "    }\n",
              "\n",
              "    [theme=dark] .colab-df-convert {\n",
              "      background-color: #3B4455;\n",
              "      fill: #D2E3FC;\n",
              "    }\n",
              "\n",
              "    [theme=dark] .colab-df-convert:hover {\n",
              "      background-color: #434B5C;\n",
              "      box-shadow: 0px 1px 3px 1px rgba(0, 0, 0, 0.15);\n",
              "      filter: drop-shadow(0px 1px 2px rgba(0, 0, 0, 0.3));\n",
              "      fill: #FFFFFF;\n",
              "    }\n",
              "  </style>\n",
              "\n",
              "      <script>\n",
              "        const buttonEl =\n",
              "          document.querySelector('#df-edd4e36a-2fd2-4206-a622-e81fbe9239ae button.colab-df-convert');\n",
              "        buttonEl.style.display =\n",
              "          google.colab.kernel.accessAllowed ? 'block' : 'none';\n",
              "\n",
              "        async function convertToInteractive(key) {\n",
              "          const element = document.querySelector('#df-edd4e36a-2fd2-4206-a622-e81fbe9239ae');\n",
              "          const dataTable =\n",
              "            await google.colab.kernel.invokeFunction('convertToInteractive',\n",
              "                                                     [key], {});\n",
              "          if (!dataTable) return;\n",
              "\n",
              "          const docLinkHtml = 'Like what you see? Visit the ' +\n",
              "            '<a target=\"_blank\" href=https://colab.research.google.com/notebooks/data_table.ipynb>data table notebook</a>'\n",
              "            + ' to learn more about interactive tables.';\n",
              "          element.innerHTML = '';\n",
              "          dataTable['output_type'] = 'display_data';\n",
              "          await google.colab.output.renderOutput(dataTable, element);\n",
              "          const docLink = document.createElement('div');\n",
              "          docLink.innerHTML = docLinkHtml;\n",
              "          element.appendChild(docLink);\n",
              "        }\n",
              "      </script>\n",
              "    </div>\n",
              "  </div>\n",
              "  "
            ]
          },
          "metadata": {},
          "execution_count": 59
        }
      ],
      "source": [
        "#cv for pure train df\n",
        "df[\"len\"]  = df[\"description\"].apply(lambda x: len(x))\n",
        "df[\"len\"].sort_values(ascending=False)\n",
        "df[\"len_category\"] = pd.qcut(df[\"len\"], 10, labels=[i for i in range(1, 11)])\n",
        "\n",
        "df = df.astype({\"jobflag\": \"str\", \"len_category\": \"str\"})\n",
        "\n",
        "df[\"multi_label\"] = df[\"jobflag\"].str.cat(df[\"len_category\"])\n",
        "\n",
        "df = df.astype({\"jobflag\": \"int\", \"len_category\": \"int\"})\n",
        "\n",
        "\n",
        "# kf = KFold(n_splits=CONFIG[\"n_fold\"], shuffle=True, random_state=2022)\n",
        "skf = StratifiedKFold(n_splits=CONFIG[\"n_fold\"], shuffle=True, random_state=2022)\n",
        "\n",
        "for fold, ( _, val_) in enumerate(skf.split(X=df, y=df[\"multi_label\"])):\n",
        "    df.loc[val_ , \"kfold\"] = int(fold)\n",
        "    \n",
        "df[\"kfold\"] = df[\"kfold\"].astype(int)\n",
        "df.head()\n",
        "df"
      ],
      "id": "OsRr0LTplbMb"
    },
    {
      "cell_type": "markdown",
      "metadata": {
        "id": "vacAvv-7prlB"
      },
      "source": [
        "#Stratified Kfold\n",
        "\n",
        "\n"
      ],
      "id": "vacAvv-7prlB"
    },
    {
      "cell_type": "code",
      "execution_count": null,
      "metadata": {
        "colab": {
          "base_uri": "https://localhost:8080/"
        },
        "id": "dS3vh33KxGWJ",
        "outputId": "e5143858-d5b7-4cdb-919b-1ac95360fa50"
      },
      "outputs": [
        {
          "output_type": "execute_result",
          "data": {
            "text/plain": [
              "0       [Develop cutting-edge web applications that pe...\n",
              "1       [ Designs and develops high quality, scalable ...\n",
              "2       [Functions as a point person for Network Strat...\n",
              "3       [ Work on the technical design, development, r...\n",
              "4       [Quantify the resources required for a task/pr...\n",
              "                              ...                        \n",
              "1511    [Support detailed reporting, statistical analy...\n",
              "1512    [Collaborate with teams to support the ML tech...\n",
              "1513    [ Work with executives and other business lead...\n",
              "1514    [Leading design ideation sessions to ensure we...\n",
              "1515    [Detection of Issues &amp; Impact Assessments ...\n",
              "Name: split, Length: 1516, dtype: object"
            ]
          },
          "metadata": {},
          "execution_count": 62
        }
      ],
      "source": [
        "###data augmentation###は下に移動しました。\n",
        "\n",
        "def get_split(x):\n",
        "    return list(filter(None, re.split(r\"<.{1,4}>\", x)))\n",
        "\n",
        "df[\"split\"] = df[\"description\"].apply(get_split)\n",
        "df[\"split\"]"
      ],
      "id": "dS3vh33KxGWJ"
    },
    {
      "cell_type": "code",
      "execution_count": null,
      "metadata": {
        "colab": {
          "base_uri": "https://localhost:8080/",
          "height": 91
        },
        "id": "0zSVFkMZOL4P",
        "outputId": "4e33b1c1-c2fb-4953-ae89-55077808bedc"
      },
      "outputs": [
        {
          "output_type": "execute_result",
          "data": {
            "text/plain": [
              "'<li>Collaborates with internal stakeholders (e.g., Solution Architect, Account Delivery Executive, Pursuit Lead, Sales Solution Specialist) in the pre-sale process by understanding business requirements and providing industry and technical input and/or solution offerings to help shape the deal. Supports drafting proposals and/or statement of work (SOW). </li><li>Provides input on staffing and skill requirements for delivery to Resource Deployment, Technical Delivery Managers (TDMs), and/or Project Managers. </li></ul>Technical Delivery<ul><li>Follows capacity process outlined by Global Capacity Management team. Maintains tools with up-to-date skills and availability. </li><li>Leads meetings with customers/partners to understand business needs. Uses business, industry and technology strategies to map customer/partner requirements to the adoption and optimization of Microsoft technology solutions. Engages others appropriately to understand and define customer requirements. </li><li>Participates in project planning and develops project documents by identifying the risks and dependencies. Communicates the business value of planned solutions to customers/ partners. Identifies technical and business risks in programs and proposes mitigations. Assists project managers/architects in preparing for steering committee (e.g., developing artifacts). Manages their schedule and communicates to project leads. Generates and delivers Work Breakdown Structure (WBS). </li><li>Implements solutions and may provide oversight and leadership on workstreams across domains while adhering to Microsoft Services processes. Aligns solutions with the intent of the architecture. </li><li>Manages escalations, analyzes situations, and coordinates appropriate resources to resolve issues by following delivery practices, considering cost implications, and engaging in conversations with internal and external stakeholders (e.g., Customer Service and Support, Project Manager, Solution Architect, Product Group) as needed. </li><li>Acts as an ambassador in consumption of intellectual property (IP) by leveraging and/or modifying existing IP or creating repeatable content where applicable. Provides feedback on Managed IP for continuous improvement, reports IP gaps, reviews IP to be considered for harvesting and curation and ensures it is logged for consumption. Improves Managed Standard Offerings (MSO) quality and collaborates with portfolio and solution teams of the domain by providing feedback. </li></ul>Business Development<ul><li>Identifies opportunities to expand or accelerate the adoption and consumption of the cloud and Microsoft technologies. As appropriate, facilitates other team members to scale the business with existing customers by articulating value propositions of strategic Microsoft products and services and developing new offerings for the domain. Drives innovation and digital transformation. Ensures the use of existing intellectual property (IP). </li></ul>Readiness<ul><li>Learns new technologies or services based on business demands and industry trends. Obtains relevant accreditations and certification(s) as advised by domain leadership team. Identifies certifications and readiness plans in partnership with domain Chief Technology Officer (CTO). Leads or participates in relevant technical communities and conducts training sessions to evangelize technology and/or offerings based on availability. Mentors team members and acts as a technical advisor for stakeholders by providing thought leadership, articulation of solutions value, and outcomes of business strategies. </li></ul>Operational Excellence<ul><li>Completes operational tasks and readiness and ensures timeliness and accuracy. Follows Microsoft policies, compliance, and procedures (e.g., Enterprise Services Authorization Policy, Standards of Business Conduct, labor logging, expenses, travel guidelines). Leads as example and guides team members on operational tasks, readiness, and compliance. </li></ul>'"
            ],
            "application/vnd.google.colaboratory.intrinsic+json": {
              "type": "string"
            }
          },
          "metadata": {},
          "execution_count": 63
        }
      ],
      "source": [
        "df.loc[378, \"description\"]"
      ],
      "id": "0zSVFkMZOL4P"
    },
    {
      "cell_type": "markdown",
      "metadata": {
        "id": "TfMBtbmPxEse"
      },
      "source": [
        "#Create Weights\n"
      ],
      "id": "TfMBtbmPxEse"
    },
    {
      "cell_type": "code",
      "execution_count": null,
      "metadata": {
        "colab": {
          "base_uri": "https://localhost:8080/"
        },
        "id": "IVzad4EHxH8i",
        "outputId": "5949f750-1534-4e73-f59e-f1fad2f689be"
      },
      "outputs": [
        {
          "output_type": "execute_result",
          "data": {
            "text/plain": [
              "array([0.80982906, 4.30681818, 0.83296703, 0.75049505])"
            ]
          },
          "metadata": {},
          "execution_count": 65
        }
      ],
      "source": [
        "weights = compute_class_weight(class_weight=\"balanced\", classes=[1, 2, 3, 4], y=df[\"jobflag\"])\n",
        "weights"
      ],
      "id": "IVzad4EHxH8i"
    },
    {
      "cell_type": "markdown",
      "metadata": {
        "id": "dfd92b1a"
      },
      "source": [
        "# <span><h1 style = \"font-family: garamond; font-size: 40px; font-style: normal; letter-spcaing: 3px; background-color: #f6f5f5; color :#fe346e; border-radius: 100px 100px; text-align:center\">Dataset Class</h1></span>"
      ],
      "id": "dfd92b1a"
    },
    {
      "cell_type": "code",
      "execution_count": null,
      "metadata": {
        "id": "53262d37"
      },
      "outputs": [],
      "source": [
        "class SignateDataset(Dataset):\n",
        "    def __init__(self, df, tokenizer, max_length):\n",
        "        self.df = df\n",
        "        self.max_len = max_length\n",
        "        self.tokenizer = tokenizer\n",
        "        self.description = df[\"description\"].values\n",
        "        self.targets = df['jobflag'].values\n",
        "        \n",
        "    def __len__(self):\n",
        "        return len(self.df)\n",
        "    \n",
        "    def __getitem__(self, index):\n",
        "        description = self.description[index]\n",
        "        inputs = self.tokenizer.encode_plus(\n",
        "                        description,\n",
        "                        truncation=True,\n",
        "                        add_special_tokens=True,\n",
        "                        max_length=self.max_len\n",
        "                    )\n",
        "        \n",
        "        return {\n",
        "            'input_ids': inputs['input_ids'],\n",
        "            'attention_mask': inputs['attention_mask'],\n",
        "            'target': self.targets[index]\n",
        "        }"
      ],
      "id": "53262d37"
    },
    {
      "cell_type": "code",
      "execution_count": null,
      "metadata": {
        "id": "5ddf6853"
      },
      "outputs": [],
      "source": [
        "collate_fn = DataCollatorWithPadding(tokenizer=CONFIG['tokenizer'])"
      ],
      "id": "5ddf6853"
    },
    {
      "cell_type": "markdown",
      "metadata": {
        "id": "40c6008c"
      },
      "source": [
        "# <span><h1 style = \"font-family: garamond; font-size: 40px; font-style: normal; letter-spcaing: 3px; background-color: #f6f5f5; color :#fe346e; border-radius: 100px 100px; text-align:center\">Create Model</h1></span>"
      ],
      "id": "40c6008c"
    },
    {
      "cell_type": "code",
      "execution_count": null,
      "metadata": {
        "id": "3cfc39d2"
      },
      "outputs": [],
      "source": [
        "class MeanPooling(nn.Module):\n",
        "    def __init__(self):\n",
        "        super(MeanPooling, self).__init__()\n",
        "        \n",
        "    def forward(self, last_hidden_state, attention_mask):\n",
        "        input_mask_expanded = attention_mask.unsqueeze(-1).expand(last_hidden_state.size()).float()\n",
        "        sum_embeddings = torch.sum(last_hidden_state * input_mask_expanded, 1)\n",
        "        sum_mask = input_mask_expanded.sum(1)\n",
        "        sum_mask = torch.clamp(sum_mask, min=1e-9)\n",
        "        mean_embeddings = sum_embeddings / sum_mask\n",
        "        return mean_embeddings"
      ],
      "id": "3cfc39d2"
    },
    {
      "cell_type": "code",
      "execution_count": null,
      "metadata": {
        "id": "39984a2d"
      },
      "outputs": [],
      "source": [
        "class SignateModel(nn.Module):\n",
        "    def __init__(self, model_name, dropout):\n",
        "        super(SignateModel, self).__init__()\n",
        "        self.model = AutoModel.from_pretrained(model_name)\n",
        "        self.config = AutoConfig.from_pretrained(model_name)\n",
        "        self.drop = nn.Dropout(p=dropout)\n",
        "        self.pooler = MeanPooling()\n",
        "        self.fc = nn.Linear(self.config.hidden_size, 4)        \n",
        "        \n",
        "    def forward(self, ids, mask):        \n",
        "        out = self.model(input_ids=ids,attention_mask=mask,\n",
        "                         output_hidden_states=False)\n",
        "        out = self.pooler(out.last_hidden_state, mask)\n",
        "        out = self.drop(out)\n",
        "        outputs = self.fc(out)\n",
        "        return outputs"
      ],
      "id": "39984a2d"
    },
    {
      "cell_type": "markdown",
      "metadata": {
        "id": "faeff787"
      },
      "source": [
        "# <span><h1 style = \"font-family: garamond; font-size: 40px; font-style: normal; letter-spcaing: 3px; background-color: #f6f5f5; color :#fe346e; border-radius: 100px 100px; text-align:center\">Loss Function</h1></span>"
      ],
      "id": "faeff787"
    },
    {
      "cell_type": "code",
      "execution_count": null,
      "metadata": {
        "id": "6dba6634"
      },
      "outputs": [],
      "source": [
        "def criterion(outputs, labels, device):\n",
        "    return nn.CrossEntropyLoss(weight=torch.Tensor(weights).to(device))(outputs, labels - 1)"
      ],
      "id": "6dba6634"
    },
    {
      "cell_type": "markdown",
      "metadata": {
        "id": "48a7f3de"
      },
      "source": [
        "# <span><h1 style = \"font-family: garamond; font-size: 40px; font-style: normal; letter-spcaing: 3px; background-color: #f6f5f5; color :#fe346e; border-radius: 100px 100px; text-align:center\">Training Function</h1></span>"
      ],
      "id": "48a7f3de"
    },
    {
      "cell_type": "code",
      "execution_count": null,
      "metadata": {
        "id": "1ab9a499"
      },
      "outputs": [],
      "source": [
        "def train_one_epoch(model, optimizer, scheduler, dataloader, device, epoch):\n",
        "\n",
        "    model.train()\n",
        "    \n",
        "    dataset_size = 0\n",
        "    running_loss = 0.0\n",
        "    \n",
        "    bar = tqdm(enumerate(dataloader), total=len(dataloader))\n",
        "    for step, data in bar:\n",
        "        ids = data['input_ids'].to(device, dtype = torch.long)\n",
        "        mask = data['attention_mask'].to(device, dtype = torch.long)\n",
        "        targets = data['target'].to(device, dtype=torch.long)\n",
        "        \n",
        "        batch_size = ids.size(0)\n",
        "\n",
        "        outputs = model(ids, mask)\n",
        "        \n",
        "        loss = criterion(outputs, targets, device)\n",
        "        loss = loss / CONFIG['n_accumulate']\n",
        "        loss.backward()\n",
        "    \n",
        "        if (step + 1) % CONFIG['n_accumulate'] == 0:\n",
        "            optimizer.step()\n",
        "\n",
        "            # zero the parameter gradients\n",
        "            optimizer.zero_grad()\n",
        "\n",
        "            if scheduler is not None:\n",
        "                scheduler.step()\n",
        "                \n",
        "        running_loss += (loss.item() * batch_size)\n",
        "        dataset_size += batch_size\n",
        "        \n",
        "        epoch_loss = running_loss / dataset_size\n",
        "        \n",
        "        bar.set_postfix(Epoch=epoch, Train_Loss=epoch_loss,\n",
        "                        LR=optimizer.param_groups[0]['lr'])\n",
        "    gc.collect()\n",
        "    \n",
        "    return epoch_loss"
      ],
      "id": "1ab9a499"
    },
    {
      "cell_type": "markdown",
      "metadata": {
        "id": "27a16f5b"
      },
      "source": [
        "# <span><h1 style = \"font-family: garamond; font-size: 40px; font-style: normal; letter-spcaing: 3px; background-color: #f6f5f5; color :#fe346e; border-radius: 100px 100px; text-align:center\">Validation Function</h1></span>"
      ],
      "id": "27a16f5b"
    },
    {
      "cell_type": "code",
      "execution_count": null,
      "metadata": {
        "id": "037d6962"
      },
      "outputs": [],
      "source": [
        "@torch.no_grad()\n",
        "def valid_one_epoch(model, dataloader, device, epoch):\n",
        "    output_list = []\n",
        "    target_list = []\n",
        "    model.eval()\n",
        "    \n",
        "    dataset_size = 0\n",
        "    running_loss = 0.0\n",
        "    \n",
        "    bar = tqdm(enumerate(dataloader), total=len(dataloader))\n",
        "    for step, data in bar:        \n",
        "        ids = data['input_ids'].to(device, dtype = torch.long)\n",
        "        mask = data['attention_mask'].to(device, dtype = torch.long)\n",
        "        targets = data['target'].to(device, dtype=torch.long)\n",
        "        \n",
        "        batch_size = ids.size(0)\n",
        "\n",
        "        outputs = model(ids, mask)\n",
        "        \n",
        "        loss = criterion(outputs, targets, device)\n",
        "        output_list.append(torch.argmax(outputs, dim=1).cpu().detach().numpy().tolist())\n",
        "        target_list.append((targets.cpu().detach().numpy()-1).tolist())\n",
        "\n",
        "        running_loss += (loss.item() * batch_size)\n",
        "        dataset_size += batch_size\n",
        "        \n",
        "        epoch_loss = running_loss / dataset_size\n",
        "        \n",
        "        bar.set_postfix(Epoch=epoch, Valid_Loss=epoch_loss,\n",
        "                        LR=optimizer.param_groups[0]['lr'])\n",
        "\n",
        "    #appendしたoutputとtargetを１次元化する\n",
        "    output_list = sum(output_list, [])\n",
        "    target_list = sum(target_list, [])\n",
        "    f1_macro = f1_score(output_list, target_list, average=\"macro\")\n",
        "    \n",
        "    gc.collect()\n",
        "    \n",
        "    return epoch_loss, f1_macro"
      ],
      "id": "037d6962"
    },
    {
      "cell_type": "markdown",
      "metadata": {
        "id": "41bdc2c6"
      },
      "source": [
        "# <span><h1 style = \"font-family: garamond; font-size: 40px; font-style: normal; letter-spcaing: 3px; background-color: #f6f5f5; color :#fe346e; border-radius: 100px 100px; text-align:center\">Run Training</h1></span>"
      ],
      "id": "41bdc2c6"
    },
    {
      "cell_type": "code",
      "execution_count": null,
      "metadata": {
        "id": "2d584bdc"
      },
      "outputs": [],
      "source": [
        "def run_training(model, optimizer, scheduler, device, num_epochs, fold):\n",
        "    # To automatically log gradients\n",
        "    wandb.watch(model, log_freq=100)\n",
        "    \n",
        "    if torch.cuda.is_available():\n",
        "        print(\"[INFO] Using GPU: {}\\n\".format(torch.cuda.get_device_name()))\n",
        "\n",
        "    # path = f\"C:/Users/daich/OneDrive/デスクトップ/Signate/Signate_NLP/model/{CONFIG['output_name']}\"\n",
        "    path = f\"/content/drive/My Drive/data_analysis/competition/Signate_NLP/model/{CONFIG['output_name']}\"\n",
        "    if not os.path.exists(path):\n",
        "        os.mkdir(path)\n",
        "    elif not [f for f in os.listdir(path) if not f.startswith(\".\")]:\n",
        "        pass\n",
        "    # else:\n",
        "    #     raise ValueError(\"既にそのフォルダあるよ\")\n",
        "    \n",
        "    start = time.time()\n",
        "    best_model_wts = copy.deepcopy(model.state_dict())\n",
        "    best_epoch_loss = np.inf\n",
        "    best_epoch_f1 = -np.inf\n",
        "    history = defaultdict(list)\n",
        "\n",
        "\n",
        "    for epoch in range(1, num_epochs + 1): \n",
        "        gc.collect()\n",
        "        train_epoch_loss = train_one_epoch(model, optimizer, scheduler, \n",
        "                                           dataloader=train_loader, \n",
        "                                           device=CONFIG['device'], epoch=epoch)\n",
        "        \n",
        "        val_epoch_loss, f1 = valid_one_epoch(model, valid_loader, device=CONFIG['device'], \n",
        "                                         epoch=epoch)\n",
        "        \n",
        "    \n",
        "        history['Train Loss'].append(train_epoch_loss)\n",
        "        history['Valid Loss'].append(val_epoch_loss)\n",
        "        \n",
        "        # Log the metrics\n",
        "        wandb.log({\"Train Loss\": train_epoch_loss})\n",
        "        wandb.log({\"Valid Loss\": val_epoch_loss})\n",
        "        wandb.log({\"F1-macro\": f1})\n",
        "        \n",
        "        # deep copy the model\n",
        "        if val_epoch_loss <= best_epoch_loss:\n",
        "            print(f\"{b_}Validation Loss Improved ({best_epoch_loss} ---> {val_epoch_loss})\")\n",
        "            best_epoch_loss = val_epoch_loss\n",
        "            f1_macro = f1\n",
        "            run.summary[\"Best Loss\"] = best_epoch_loss\n",
        "            best_model_wts = copy.deepcopy(model.state_dict())\n",
        "            PATH = f\"/content/drive/My Drive/data_analysis/competition/Signate_NLP/model/{CONFIG['output_name']}/Loss-Fold-{fold}.bin\"\n",
        "            # PATH = f\"C:/Users/daich/OneDrive/デスクトップ/Signate/Signate_NLP/model/{CONFIG['output_name']}/Loss-Fold-{fold}.bin\"\n",
        "            torch.save(model.state_dict(), PATH)\n",
        "            # Save a model file from the current directory\n",
        "            print(f\"Model Saved{sr_}\")\n",
        "\n",
        "################################################\n",
        "#損失関数に関わらず、F1スコアが上がればモデルを保存する\n",
        "        if f1 >= best_epoch_f1:\n",
        "            best_epoch_f1 = f1\n",
        "            print(f\"{b_}F1-score Improved({best_epoch_f1})\")\n",
        "            best_model_wts = copy.deepcopy(model.state_dict())\n",
        "            # PATH = f\"C:/Users/daich/OneDrive/デスクトップ/Signate/Signate_NLP/model/{CONFIG['output_name']}/BestF1Model/Loss-Fold-{fold}.bin\"\n",
        "            # DIR = f\"C:/Users/daich/OneDrive/デスクトップ/Signate/Signate_NLP/model/{CONFIG['output_name']}/BestF1Model\"\n",
        "\n",
        "            PATH = f\"/content/drive/My Drive/data_analysis/competition/Signate_NLP/model/{CONFIG['output_name']}/BestF1Model/Loss-Fold-{fold}.bin\"\n",
        "            DIR = f\"/content/drive/My Drive/data_analysis/competition/Signate_NLP/model/{CONFIG['output_name']}/BestF1Model\"\n",
        "\n",
        "            if not os.path.exists(DIR):\n",
        "                os.mkdir(DIR)\n",
        "\n",
        "            torch.save(model.state_dict(), PATH)\n",
        "            # Save a model file from the current directory\n",
        "            print(f\"Model Saved{sr_}\")\n",
        "################################################\n",
        "\n",
        "\n",
        "            \n",
        "        print(f\"Epoch {epoch} f1_score: \", f1)\n",
        "    \n",
        "    end = time.time()\n",
        "    time_elapsed = end - start\n",
        "    print('Training complete in {:.0f}h {:.0f}m {:.0f}s'.format(\n",
        "        time_elapsed // 3600, (time_elapsed % 3600) // 60, (time_elapsed % 3600) % 60))\n",
        "    print(\"Best Loss: {:.4f}\".format(best_epoch_loss))\n",
        "    print(\"Best F1: {:.4f}\".format(best_epoch_f1))\n",
        "    \n",
        "    # load best model weights\n",
        "    model.load_state_dict(best_model_wts)\n",
        "    \n",
        "    return model, history, f1_macro, best_epoch_f1"
      ],
      "id": "2d584bdc"
    },
    {
      "cell_type": "code",
      "execution_count": null,
      "metadata": {
        "colab": {
          "base_uri": "https://localhost:8080/"
        },
        "id": "1ejp0CWDyYXb",
        "outputId": "7a989484-ddd3-4c25-e280-df93f0752f1c"
      },
      "outputs": [
        {
          "output_type": "stream",
          "name": "stdout",
          "text": [
            "Looking in indexes: https://pypi.org/simple, https://us-python.pkg.dev/colab-wheels/public/simple/\n",
            "Requirement already satisfied: googletrans==4.0.0-rc1 in /usr/local/lib/python3.7/dist-packages (4.0.0rc1)\n",
            "Requirement already satisfied: httpx==0.13.3 in /usr/local/lib/python3.7/dist-packages (from googletrans==4.0.0-rc1) (0.13.3)\n",
            "Requirement already satisfied: hstspreload in /usr/local/lib/python3.7/dist-packages (from httpx==0.13.3->googletrans==4.0.0-rc1) (2022.8.1)\n",
            "Requirement already satisfied: rfc3986<2,>=1.3 in /usr/local/lib/python3.7/dist-packages (from httpx==0.13.3->googletrans==4.0.0-rc1) (1.5.0)\n",
            "Requirement already satisfied: idna==2.* in /usr/local/lib/python3.7/dist-packages (from httpx==0.13.3->googletrans==4.0.0-rc1) (2.10)\n",
            "Requirement already satisfied: certifi in /usr/local/lib/python3.7/dist-packages (from httpx==0.13.3->googletrans==4.0.0-rc1) (2022.6.15)\n",
            "Requirement already satisfied: chardet==3.* in /usr/local/lib/python3.7/dist-packages (from httpx==0.13.3->googletrans==4.0.0-rc1) (3.0.4)\n",
            "Requirement already satisfied: sniffio in /usr/local/lib/python3.7/dist-packages (from httpx==0.13.3->googletrans==4.0.0-rc1) (1.2.0)\n",
            "Requirement already satisfied: httpcore==0.9.* in /usr/local/lib/python3.7/dist-packages (from httpx==0.13.3->googletrans==4.0.0-rc1) (0.9.1)\n",
            "Requirement already satisfied: h2==3.* in /usr/local/lib/python3.7/dist-packages (from httpcore==0.9.*->httpx==0.13.3->googletrans==4.0.0-rc1) (3.2.0)\n",
            "Requirement already satisfied: h11<0.10,>=0.8 in /usr/local/lib/python3.7/dist-packages (from httpcore==0.9.*->httpx==0.13.3->googletrans==4.0.0-rc1) (0.9.0)\n",
            "Requirement already satisfied: hyperframe<6,>=5.2.0 in /usr/local/lib/python3.7/dist-packages (from h2==3.*->httpcore==0.9.*->httpx==0.13.3->googletrans==4.0.0-rc1) (5.2.0)\n",
            "Requirement already satisfied: hpack<4,>=3.0 in /usr/local/lib/python3.7/dist-packages (from h2==3.*->httpcore==0.9.*->httpx==0.13.3->googletrans==4.0.0-rc1) (3.0.0)\n"
          ]
        }
      ],
      "source": [
        "!pip install googletrans==4.0.0-rc1\n",
        "from googletrans import Translator\n",
        "\n",
        "def BackTranslation(text, original_lang, via_lang):\n",
        "    translator = Translator()\n",
        "    return translator.translate(translator.translate(text, dest=via_lang).text, dest=original_lang).text"
      ],
      "id": "1ejp0CWDyYXb"
    },
    {
      "cell_type": "code",
      "execution_count": null,
      "metadata": {
        "colab": {
          "base_uri": "https://localhost:8080/",
          "height": 91
        },
        "id": "3pkCmZJR2L4-",
        "outputId": "001fd130-3ceb-4402-c77a-b945fe06bbdd"
      },
      "outputs": [
        {
          "output_type": "execute_result",
          "data": {
            "text/plain": [
              "'<li>Functions as a point person for Network Strategy work. Represents Network Strategy at internal and external stakeholder meetings. Serves as a resource for functional areas in responding to Network Strategy initiatives (identifying standard or historical responses) and coordinates response with other departments as necessary.</li><li>Communicates effectively and serves as a point of contact for status updates and overall project status. Coordinates activity with functional areas, lines of business, and markets to ensure schedule is met.</li><li>Monitors network activities to ensure the quality and timeliness of processes as well as ensuring adherence to all company goals and initiatives.</li><li>Drafts language for Corporate Provider Network Management responses when needed.</li><li>Accountable for meeting the defined delivery time for projects, and quality commitments.</li><li>Develops and maintains reports to track overall Network Strategy activities; this includes but is not limited to RFP work, Readiness Review, Issue and Risk Mitigation plans.</li><li>Conducts root cause analysis and makes recommendations for improvements. Presents analysis, ideas and positions in writing in a clear and convincing manner.</li><li>Must be adept at managing multiple priorities under time constraints.</li><li>Manages internal project deliverables, internal stakeholder relationships, and project financials including business impact.</li>'"
            ],
            "application/vnd.google.colaboratory.intrinsic+json": {
              "type": "string"
            }
          },
          "metadata": {},
          "execution_count": 75
        }
      ],
      "source": [
        "text = df.loc[2, \"description\"]\n",
        "\n",
        "text"
      ],
      "id": "3pkCmZJR2L4-"
    },
    {
      "cell_type": "code",
      "execution_count": null,
      "metadata": {
        "colab": {
          "base_uri": "https://localhost:8080/",
          "height": 91
        },
        "id": "pludaD-NzBpX",
        "outputId": "0b9eedc4-903b-4759-85fe-e67252c762d3"
      },
      "outputs": [
        {
          "output_type": "execute_result",
          "data": {
            "text/plain": [
              "'<li> It works as a punctual person for network strategy work. It represents the network strategy in internal and external stakeholders meetings. It serves as a resource for functional areas in the response to network strategy initiatives (identifying standard or historical responses) and coordinates the response with other departments as necessary. </li> <li> It communicates effectively and serves as a point of contact for state updates and in general project. Coordinates the activity with functional areas, business lines and markets to ensure that the schedule is met. SAR> <li> Language writing for corporate supplier network management responses when necessary. </li> <li> Responsible to comply with the defined delivery time for quality projects and commitments. </li> <li> Develop and maintain reports to track general network strategy activities; This includes, among others, the RFP work, the preparation review, the problems for mitigating problems and risks. </li> <li> Make root cause analysis and make recommendations for improvements. It presents analysis, ideas and positions in writing clearly and convincingly. </li> <li> You must be an expert in administering multiple priorities under time restrictions. </li> <li> Administers internal deliverables of the project, internal relations of the stakeholders, and financial of the project, including the commercial impact. </li>'"
            ],
            "application/vnd.google.colaboratory.intrinsic+json": {
              "type": "string"
            }
          },
          "metadata": {},
          "execution_count": 76
        }
      ],
      "source": [
        "text_jp = BackTranslation(text, \"en\", \"es\")\n",
        "\n",
        "text_jp"
      ],
      "id": "pludaD-NzBpX"
    },
    {
      "cell_type": "code",
      "source": [
        "text_jp = BackTranslation(text, \"en\", \"ko\")\n",
        "\n",
        "text_jp"
      ],
      "metadata": {
        "colab": {
          "base_uri": "https://localhost:8080/",
          "height": 91
        },
        "id": "0Ch1Ja8riMcU",
        "outputId": "65bf9be3-691f-44c0-e970-190242bd6066"
      },
      "id": "0Ch1Ja8riMcU",
      "execution_count": null,
      "outputs": [
        {
          "output_type": "execute_result",
          "data": {
            "text/plain": [
              "\"<li> It functions as a point in the network strategy. It represents a network strategy at internal and external stakeholders' meetings. It acts as a resource for the function area that responds to network strategy initiatives (standard or historical response identification) and adjusts response with other departments as needed. </li> <li> Effectively communicates and acts as a state update and overall contact point. Project status. Adjust the function area, business lines and market activities to meet the schedule. </li> <li> Monitor network activities to ensure the quality and timeliness of the process and to guarantee all the company's goals and initiatives. </ Li> <li> If necessary, the language draft for the company's network management response. Overall network strategy activities; This includes RFP work, preparation review, problems and risk relief plans, but are not limited to it. </li> <li> Provides fundamental cause analysis and suggests recommendations for improvement. It is a clear and convincing way to analyze, ideas and positions in writing. </li> <li> You should be good at managing multiple priorities under time constraints. </li> <li> Manage internal project output, internal stakeholders 'relationships and internal stakeholders' relationships. Project finance, including business influence. </li>\""
            ],
            "application/vnd.google.colaboratory.intrinsic+json": {
              "type": "string"
            }
          },
          "metadata": {},
          "execution_count": 77
        }
      ]
    },
    {
      "cell_type": "code",
      "execution_count": null,
      "metadata": {
        "id": "686238ec"
      },
      "outputs": [],
      "source": [
        "def prepare_loaders(fold):\n",
        "    df_train = df[df.kfold != fold].reset_index(drop=True)\n",
        "    df_valid = df[df.kfold == fold].reset_index(drop=True)\n",
        "    # df_pl = pl_df[pl_df.kfold != fold].reset_index(drop=True)\n",
        "\n",
        "####df_trainだけdata augmentation############################################\n",
        "\n",
        "    n_sample = 1 #sampleする数\n",
        "\n",
        "    for texts, flag, fold in zip(df_train[\"description\"], df_train[\"jobflag\"], df_train[\"kfold\"]):\n",
        "        text_retrans = BackTranslation(texts, \"en\", \"ko\")\n",
        "        df_train = df_train.append({\"description\": text_retrans, \"jobflag\": flag, \"kfold\": fold}, ignore_index=True) \n",
        "\n",
        "    for texts, flag, fold in zip(df_train[\"description\"], df_train[\"jobflag\"], df_train[\"kfold\"]):\n",
        "        if flag == 2:\n",
        "          text_retrans = BackTranslation(texts, \"en\", \"es\")\n",
        "          df_train = df_train.append({\"description\": text_retrans, \"jobflag\": flag, \"kfold\": fold}, ignore_index=True) \n",
        "\n",
        "    # 複数の<li></li>のうちランダムに１つを削除\n",
        "    for texts, flag, fold in zip(df_train[\"split\"], df_train[\"jobflag\"], df_train[\"kfold\"]):\n",
        "        if len(texts) > n_sample:\n",
        "            texts.remove(random.choice(texts))\n",
        "            # texts = list(set(texts) - set(random.sample(texts, n_sample)))\n",
        "        # random.shuffle(texts)\n",
        "        des = []\n",
        "        for text in texts:\n",
        "            text = \"<li>\"+text+\"</li>\"\n",
        "            des.append(text)\n",
        "        texts = \"\".join(des)\n",
        "        df_train = df_train.append({\"description\": texts, \"jobflag\": flag, \"kfold\": fold}, ignore_index=True)\n",
        "\n",
        "\n",
        "################################################################################\n",
        "    \n",
        "    # df_train = pd.concat([df_train, df_pl], axis=0) #pseudo labelをtrainデータに結合\n",
        "    train_dataset = SignateDataset(df_train, tokenizer=CONFIG['tokenizer'], max_length=CONFIG['max_length'])\n",
        "    valid_dataset = SignateDataset(df_valid, tokenizer=CONFIG['tokenizer'], max_length=CONFIG['max_length'])\n",
        "\n",
        "    train_loader = DataLoader(train_dataset, batch_size=CONFIG['train_batch_size'], collate_fn=collate_fn, \n",
        "                              num_workers=2, shuffle=True, pin_memory=True, drop_last=True)\n",
        "    valid_loader = DataLoader(valid_dataset, batch_size=CONFIG['valid_batch_size'], collate_fn=collate_fn,\n",
        "                              num_workers=2, shuffle=False, pin_memory=True)\n",
        "    \n",
        "    return train_loader, valid_loader"
      ],
      "id": "686238ec"
    },
    {
      "cell_type": "code",
      "execution_count": null,
      "metadata": {
        "id": "6b656405"
      },
      "outputs": [],
      "source": [
        "def fetch_scheduler(optimizer):\n",
        "    if CONFIG['scheduler'] == 'CosineAnnealingLR':\n",
        "        scheduler = lr_scheduler.CosineAnnealingLR(optimizer,T_max=CONFIG['T_max'], \n",
        "                                                   eta_min=CONFIG['min_lr'])\n",
        "    elif CONFIG['scheduler'] == 'CosineAnnealingWarmRestarts':\n",
        "        scheduler = lr_scheduler.CosineAnnealingWarmRestarts(optimizer,T_0=CONFIG['T_0'], \n",
        "                                                             eta_min=CONFIG['min_lr'])\n",
        "    elif CONFIG['scheduler'] == None:\n",
        "        return None\n",
        "        \n",
        "    return scheduler"
      ],
      "id": "6b656405"
    },
    {
      "cell_type": "markdown",
      "metadata": {
        "id": "0ae14a83"
      },
      "source": [
        "<span style=\"color: #000508; font-family: Segoe UI; font-size: 1.5em; font-weight: 300;\">Start Training</span>"
      ],
      "id": "0ae14a83"
    },
    {
      "cell_type": "code",
      "execution_count": null,
      "metadata": {
        "colab": {
          "base_uri": "https://localhost:8080/",
          "height": 555,
          "referenced_widgets": [
            "f5d3c64075f64056b655669a2cb885f3",
            "f2b206f78a74409e96e1388f73b4e296",
            "c850f95b9a8c4b7e8f6a0e8afd950fa2",
            "ec3dddece2cb4d758ca907c6d3143f68",
            "2bdc4e4a343f4d9ea08910989061e3d4",
            "417e532421f34bd1a41c4f337536f9a9",
            "54eb0caf0b844811b9df04fc23a18a1f",
            "8692ff891acd458a8b693fa8d3ab861d"
          ]
        },
        "id": "87e4f8d3",
        "outputId": "24ad5119-a92f-4ddd-dcb9-55779db9c321"
      },
      "outputs": [
        {
          "output_type": "stream",
          "name": "stdout",
          "text": [
            "\u001b[33m====== Fold: 0 ======\u001b[0m\n"
          ]
        },
        {
          "output_type": "display_data",
          "data": {
            "text/plain": [
              "<IPython.core.display.HTML object>"
            ],
            "text/html": [
              "Finishing last run (ID:xvu9uusg) before initializing another..."
            ]
          },
          "metadata": {}
        },
        {
          "output_type": "display_data",
          "data": {
            "text/plain": [
              "<IPython.core.display.HTML object>"
            ],
            "text/html": [
              "Waiting for W&B process to finish... <strong style=\"color:green\">(success).</strong>"
            ]
          },
          "metadata": {}
        },
        {
          "output_type": "display_data",
          "data": {
            "text/plain": [
              "VBox(children=(Label(value='0.001 MB of 0.001 MB uploaded (0.000 MB deduped)\\r'), FloatProgress(value=1.0, max…"
            ],
            "application/vnd.jupyter.widget-view+json": {
              "version_major": 2,
              "version_minor": 0,
              "model_id": "f5d3c64075f64056b655669a2cb885f3"
            }
          },
          "metadata": {}
        },
        {
          "output_type": "display_data",
          "data": {
            "text/plain": [
              "<IPython.core.display.HTML object>"
            ],
            "text/html": [
              "Synced <strong style=\"color:#cdcd00\">exp_058(MultiLabel)-fold-0</strong>: <a href=\"https://wandb.ai/ynu_uec/Signate/runs/xvu9uusg\" target=\"_blank\">https://wandb.ai/ynu_uec/Signate/runs/xvu9uusg</a><br/>Synced 5 W&B file(s), 0 media file(s), 0 artifact file(s) and 0 other file(s)"
            ]
          },
          "metadata": {}
        },
        {
          "output_type": "display_data",
          "data": {
            "text/plain": [
              "<IPython.core.display.HTML object>"
            ],
            "text/html": [
              "Find logs at: <code>./wandb/run-20220825_045719-xvu9uusg/logs</code>"
            ]
          },
          "metadata": {}
        },
        {
          "output_type": "display_data",
          "data": {
            "text/plain": [
              "<IPython.core.display.HTML object>"
            ],
            "text/html": [
              "Successfully finished last run (ID:xvu9uusg). Initializing new run:<br/>"
            ]
          },
          "metadata": {}
        },
        {
          "output_type": "display_data",
          "data": {
            "text/plain": [
              "<IPython.core.display.HTML object>"
            ],
            "text/html": [
              "Tracking run with wandb version 0.13.2"
            ]
          },
          "metadata": {}
        },
        {
          "output_type": "display_data",
          "data": {
            "text/plain": [
              "<IPython.core.display.HTML object>"
            ],
            "text/html": [
              "Run data is saved locally in <code>/content/wandb/run-20220825_052613-2dnhwc0k</code>"
            ]
          },
          "metadata": {}
        },
        {
          "output_type": "display_data",
          "data": {
            "text/plain": [
              "<IPython.core.display.HTML object>"
            ],
            "text/html": [
              "Syncing run <strong><a href=\"https://wandb.ai/ynu_uec/Signate/runs/2dnhwc0k\" target=\"_blank\">exp_058(MultiLabel)-fold-0</a></strong> to <a href=\"https://wandb.ai/ynu_uec/Signate\" target=\"_blank\">Weights & Biases</a> (<a href=\"https://wandb.me/run\" target=\"_blank\">docs</a>)<br/>"
            ]
          },
          "metadata": {}
        },
        {
          "output_type": "error",
          "ename": "TypeError",
          "evalue": "ignored",
          "traceback": [
            "\u001b[0;31m---------------------------------------------------------------------------\u001b[0m",
            "\u001b[0;31mTypeError\u001b[0m                                 Traceback (most recent call last)",
            "\u001b[0;32m<ipython-input-80-fa200a31f46d>\u001b[0m in \u001b[0;36m<module>\u001b[0;34m\u001b[0m\n\u001b[1;32m     12\u001b[0m \u001b[0;34m\u001b[0m\u001b[0m\n\u001b[1;32m     13\u001b[0m     \u001b[0;31m# Create Dataloaders\u001b[0m\u001b[0;34m\u001b[0m\u001b[0;34m\u001b[0m\u001b[0;34m\u001b[0m\u001b[0m\n\u001b[0;32m---> 14\u001b[0;31m     \u001b[0mtrain_loader\u001b[0m\u001b[0;34m,\u001b[0m \u001b[0mvalid_loader\u001b[0m \u001b[0;34m=\u001b[0m \u001b[0mprepare_loaders\u001b[0m\u001b[0;34m(\u001b[0m\u001b[0mfold\u001b[0m\u001b[0;34m=\u001b[0m\u001b[0mfold\u001b[0m\u001b[0;34m)\u001b[0m\u001b[0;34m\u001b[0m\u001b[0;34m\u001b[0m\u001b[0m\n\u001b[0m\u001b[1;32m     15\u001b[0m \u001b[0;34m\u001b[0m\u001b[0m\n\u001b[1;32m     16\u001b[0m     \u001b[0mmodel\u001b[0m \u001b[0;34m=\u001b[0m \u001b[0mSignateModel\u001b[0m\u001b[0;34m(\u001b[0m\u001b[0mCONFIG\u001b[0m\u001b[0;34m[\u001b[0m\u001b[0;34m'model_name'\u001b[0m\u001b[0;34m]\u001b[0m\u001b[0;34m,\u001b[0m \u001b[0mCONFIG\u001b[0m\u001b[0;34m[\u001b[0m\u001b[0;34m\"dropout\"\u001b[0m\u001b[0;34m]\u001b[0m\u001b[0;34m)\u001b[0m\u001b[0;34m\u001b[0m\u001b[0;34m\u001b[0m\u001b[0m\n",
            "\u001b[0;32m<ipython-input-78-0f472fba0d52>\u001b[0m in \u001b[0;36mprepare_loaders\u001b[0;34m(fold)\u001b[0m\n\u001b[1;32m     19\u001b[0m     \u001b[0;31m# 複数の<li></li>のうちランダムに１つを削除\u001b[0m\u001b[0;34m\u001b[0m\u001b[0;34m\u001b[0m\u001b[0;34m\u001b[0m\u001b[0m\n\u001b[1;32m     20\u001b[0m     \u001b[0;32mfor\u001b[0m \u001b[0mtexts\u001b[0m\u001b[0;34m,\u001b[0m \u001b[0mflag\u001b[0m\u001b[0;34m,\u001b[0m \u001b[0mfold\u001b[0m \u001b[0;32min\u001b[0m \u001b[0mzip\u001b[0m\u001b[0;34m(\u001b[0m\u001b[0mdf_train\u001b[0m\u001b[0;34m[\u001b[0m\u001b[0;34m\"split\"\u001b[0m\u001b[0;34m]\u001b[0m\u001b[0;34m,\u001b[0m \u001b[0mdf_train\u001b[0m\u001b[0;34m[\u001b[0m\u001b[0;34m\"jobflag\"\u001b[0m\u001b[0;34m]\u001b[0m\u001b[0;34m,\u001b[0m \u001b[0mdf_train\u001b[0m\u001b[0;34m[\u001b[0m\u001b[0;34m\"kfold\"\u001b[0m\u001b[0;34m]\u001b[0m\u001b[0;34m)\u001b[0m\u001b[0;34m:\u001b[0m\u001b[0;34m\u001b[0m\u001b[0;34m\u001b[0m\u001b[0m\n\u001b[0;32m---> 21\u001b[0;31m         \u001b[0;32mif\u001b[0m \u001b[0mlen\u001b[0m\u001b[0;34m(\u001b[0m\u001b[0mtexts\u001b[0m\u001b[0;34m)\u001b[0m \u001b[0;34m>\u001b[0m \u001b[0mn_sample\u001b[0m\u001b[0;34m:\u001b[0m\u001b[0;34m\u001b[0m\u001b[0;34m\u001b[0m\u001b[0m\n\u001b[0m\u001b[1;32m     22\u001b[0m             \u001b[0mtexts\u001b[0m\u001b[0;34m.\u001b[0m\u001b[0mremove\u001b[0m\u001b[0;34m(\u001b[0m\u001b[0mrandom\u001b[0m\u001b[0;34m.\u001b[0m\u001b[0mchoice\u001b[0m\u001b[0;34m(\u001b[0m\u001b[0mtexts\u001b[0m\u001b[0;34m)\u001b[0m\u001b[0;34m)\u001b[0m\u001b[0;34m\u001b[0m\u001b[0;34m\u001b[0m\u001b[0m\n\u001b[1;32m     23\u001b[0m             \u001b[0;31m# texts = list(set(texts) - set(random.sample(texts, n_sample)))\u001b[0m\u001b[0;34m\u001b[0m\u001b[0;34m\u001b[0m\u001b[0;34m\u001b[0m\u001b[0m\n",
            "\u001b[0;31mTypeError\u001b[0m: object of type 'float' has no len()"
          ]
        }
      ],
      "source": [
        "f1_average = []\n",
        "best_f1_average = []\n",
        "for fold in range(0, CONFIG['n_fold']):\n",
        "    print(f\"{y_}====== Fold: {fold} ======{sr_}\")\n",
        "    run = wandb.init(project='Signate', \n",
        "                     config=CONFIG,\n",
        "                     job_type='Train',\n",
        "                     group=CONFIG['group'],\n",
        "                     tags=[CONFIG['model_name'], f'{CONFIG[\"output_name\"]}'],\n",
        "                     name=f'{CONFIG[\"output_name\"]}-fold-{fold}',\n",
        "                     anonymous='must')\n",
        "    \n",
        "    # Create Dataloaders\n",
        "    train_loader, valid_loader = prepare_loaders(fold=fold)\n",
        "    \n",
        "    model = SignateModel(CONFIG['model_name'], CONFIG[\"dropout\"])\n",
        "    model.to(CONFIG['device'])\n",
        "    \n",
        "    # Define Optimizer and Scheduler\n",
        "    optimizer = AdamW(model.parameters(), lr=CONFIG['learning_rate'], weight_decay=CONFIG['weight_decay'])\n",
        "    scheduler = fetch_scheduler(optimizer)\n",
        "    \n",
        "    model, history, best_f1_fold, best_epoch_f1 = run_training(model, optimizer, scheduler,\n",
        "                                  device=CONFIG['device'],\n",
        "                                  num_epochs=CONFIG['epochs'],\n",
        "                                  fold=fold)\n",
        "    \n",
        "    print(\"F1-macro: \", best_f1_fold)\n",
        "    f1_average.append(best_f1_fold)\n",
        "    best_f1_average.append(best_epoch_f1)\n",
        "    if fold == CONFIG[\"n_fold\"] - 1:\n",
        "        f1_cv = sum(f1_average) / CONFIG[\"n_fold\"]\n",
        "        best_f1_cv = sum(best_f1_average) / CONFIG[\"n_fold\"]\n",
        "        run.summary[\"CV\"] = f1_cv\n",
        "        run.summary[\"BestF1CV\"] = best_f1_cv\n",
        "    run.finish()\n",
        "    \n",
        "    del model, history, train_loader, valid_loader\n",
        "    _ = gc.collect()\n",
        "    print()\n",
        "\n",
        "\n",
        "print(f\"CV: {f1_cv:5f}\")\n",
        "print(f\"Best f1 CV: {best_f1_cv:5f}\")"
      ],
      "id": "87e4f8d3"
    },
    {
      "cell_type": "code",
      "source": [
        "from google.colab import output\n",
        "output.enable_custom_widget_manager()"
      ],
      "metadata": {
        "id": "_JfYYynEYuvi"
      },
      "id": "_JfYYynEYuvi",
      "execution_count": null,
      "outputs": []
    },
    {
      "cell_type": "code",
      "execution_count": null,
      "metadata": {
        "id": "b4c308c6"
      },
      "outputs": [],
      "source": [
        "url = f\"https://wandb.ai/ynu_uec/Signate/groups/{CONFIG['group']}/\"\n",
        "\n",
        "# This is just to display the W&B run page in this interactive session.\n",
        "from IPython import display\n",
        "\n",
        "# we create an IFrame and set the width and height\n",
        "# iF = display.IFrame(url, width=1080, height=720)\n",
        "iF = display.IFrame(url, width=1500, height=600)\n",
        "\n",
        "iF"
      ],
      "id": "b4c308c6"
    }
  ],
  "metadata": {
    "accelerator": "GPU",
    "colab": {
      "machine_shape": "hm",
      "provenance": []
    },
    "gpuClass": "standard",
    "kernelspec": {
      "display_name": "Python 3",
      "language": "python",
      "name": "python3"
    },
    "language_info": {
      "codemirror_mode": {
        "name": "ipython",
        "version": 3
      },
      "file_extension": ".py",
      "mimetype": "text/x-python",
      "name": "python",
      "nbconvert_exporter": "python",
      "pygments_lexer": "ipython3",
      "version": "3.7.12"
    },
    "papermill": {
      "default_parameters": {},
      "duration": 25372.109482,
      "end_time": "2022-06-01T21:02:51.634429",
      "environment_variables": {},
      "exception": null,
      "input_path": "__notebook__.ipynb",
      "output_path": "__notebook__.ipynb",
      "parameters": {},
      "start_time": "2022-06-01T13:59:59.524947",
      "version": "2.3.4"
    },
    "widgets": {
      "application/vnd.jupyter.widget-state+json": {
        "f5d3c64075f64056b655669a2cb885f3": {
          "model_module": "@jupyter-widgets/controls",
          "model_name": "VBoxModel",
          "model_module_version": "1.5.0",
          "state": {
            "_dom_classes": [],
            "_model_module": "@jupyter-widgets/controls",
            "_model_module_version": "1.5.0",
            "_model_name": "VBoxModel",
            "_view_count": null,
            "_view_module": "@jupyter-widgets/controls",
            "_view_module_version": "1.5.0",
            "_view_name": "VBoxView",
            "box_style": "",
            "children": [
              "IPY_MODEL_f2b206f78a74409e96e1388f73b4e296",
              "IPY_MODEL_c850f95b9a8c4b7e8f6a0e8afd950fa2"
            ],
            "layout": "IPY_MODEL_ec3dddece2cb4d758ca907c6d3143f68"
          }
        },
        "f2b206f78a74409e96e1388f73b4e296": {
          "model_module": "@jupyter-widgets/controls",
          "model_name": "LabelModel",
          "model_module_version": "1.5.0",
          "state": {
            "_dom_classes": [],
            "_model_module": "@jupyter-widgets/controls",
            "_model_module_version": "1.5.0",
            "_model_name": "LabelModel",
            "_view_count": null,
            "_view_module": "@jupyter-widgets/controls",
            "_view_module_version": "1.5.0",
            "_view_name": "LabelView",
            "description": "",
            "description_tooltip": null,
            "layout": "IPY_MODEL_2bdc4e4a343f4d9ea08910989061e3d4",
            "placeholder": "​",
            "style": "IPY_MODEL_417e532421f34bd1a41c4f337536f9a9",
            "value": "0.013 MB of 0.013 MB uploaded (0.000 MB deduped)\r"
          }
        },
        "c850f95b9a8c4b7e8f6a0e8afd950fa2": {
          "model_module": "@jupyter-widgets/controls",
          "model_name": "FloatProgressModel",
          "model_module_version": "1.5.0",
          "state": {
            "_dom_classes": [],
            "_model_module": "@jupyter-widgets/controls",
            "_model_module_version": "1.5.0",
            "_model_name": "FloatProgressModel",
            "_view_count": null,
            "_view_module": "@jupyter-widgets/controls",
            "_view_module_version": "1.5.0",
            "_view_name": "ProgressView",
            "bar_style": "",
            "description": "",
            "description_tooltip": null,
            "layout": "IPY_MODEL_54eb0caf0b844811b9df04fc23a18a1f",
            "max": 1,
            "min": 0,
            "orientation": "horizontal",
            "style": "IPY_MODEL_8692ff891acd458a8b693fa8d3ab861d",
            "value": 1
          }
        },
        "ec3dddece2cb4d758ca907c6d3143f68": {
          "model_module": "@jupyter-widgets/base",
          "model_name": "LayoutModel",
          "model_module_version": "1.2.0",
          "state": {
            "_model_module": "@jupyter-widgets/base",
            "_model_module_version": "1.2.0",
            "_model_name": "LayoutModel",
            "_view_count": null,
            "_view_module": "@jupyter-widgets/base",
            "_view_module_version": "1.2.0",
            "_view_name": "LayoutView",
            "align_content": null,
            "align_items": null,
            "align_self": null,
            "border": null,
            "bottom": null,
            "display": null,
            "flex": null,
            "flex_flow": null,
            "grid_area": null,
            "grid_auto_columns": null,
            "grid_auto_flow": null,
            "grid_auto_rows": null,
            "grid_column": null,
            "grid_gap": null,
            "grid_row": null,
            "grid_template_areas": null,
            "grid_template_columns": null,
            "grid_template_rows": null,
            "height": null,
            "justify_content": null,
            "justify_items": null,
            "left": null,
            "margin": null,
            "max_height": null,
            "max_width": null,
            "min_height": null,
            "min_width": null,
            "object_fit": null,
            "object_position": null,
            "order": null,
            "overflow": null,
            "overflow_x": null,
            "overflow_y": null,
            "padding": null,
            "right": null,
            "top": null,
            "visibility": null,
            "width": null
          }
        },
        "2bdc4e4a343f4d9ea08910989061e3d4": {
          "model_module": "@jupyter-widgets/base",
          "model_name": "LayoutModel",
          "model_module_version": "1.2.0",
          "state": {
            "_model_module": "@jupyter-widgets/base",
            "_model_module_version": "1.2.0",
            "_model_name": "LayoutModel",
            "_view_count": null,
            "_view_module": "@jupyter-widgets/base",
            "_view_module_version": "1.2.0",
            "_view_name": "LayoutView",
            "align_content": null,
            "align_items": null,
            "align_self": null,
            "border": null,
            "bottom": null,
            "display": null,
            "flex": null,
            "flex_flow": null,
            "grid_area": null,
            "grid_auto_columns": null,
            "grid_auto_flow": null,
            "grid_auto_rows": null,
            "grid_column": null,
            "grid_gap": null,
            "grid_row": null,
            "grid_template_areas": null,
            "grid_template_columns": null,
            "grid_template_rows": null,
            "height": null,
            "justify_content": null,
            "justify_items": null,
            "left": null,
            "margin": null,
            "max_height": null,
            "max_width": null,
            "min_height": null,
            "min_width": null,
            "object_fit": null,
            "object_position": null,
            "order": null,
            "overflow": null,
            "overflow_x": null,
            "overflow_y": null,
            "padding": null,
            "right": null,
            "top": null,
            "visibility": null,
            "width": null
          }
        },
        "417e532421f34bd1a41c4f337536f9a9": {
          "model_module": "@jupyter-widgets/controls",
          "model_name": "DescriptionStyleModel",
          "model_module_version": "1.5.0",
          "state": {
            "_model_module": "@jupyter-widgets/controls",
            "_model_module_version": "1.5.0",
            "_model_name": "DescriptionStyleModel",
            "_view_count": null,
            "_view_module": "@jupyter-widgets/base",
            "_view_module_version": "1.2.0",
            "_view_name": "StyleView",
            "description_width": ""
          }
        },
        "54eb0caf0b844811b9df04fc23a18a1f": {
          "model_module": "@jupyter-widgets/base",
          "model_name": "LayoutModel",
          "model_module_version": "1.2.0",
          "state": {
            "_model_module": "@jupyter-widgets/base",
            "_model_module_version": "1.2.0",
            "_model_name": "LayoutModel",
            "_view_count": null,
            "_view_module": "@jupyter-widgets/base",
            "_view_module_version": "1.2.0",
            "_view_name": "LayoutView",
            "align_content": null,
            "align_items": null,
            "align_self": null,
            "border": null,
            "bottom": null,
            "display": null,
            "flex": null,
            "flex_flow": null,
            "grid_area": null,
            "grid_auto_columns": null,
            "grid_auto_flow": null,
            "grid_auto_rows": null,
            "grid_column": null,
            "grid_gap": null,
            "grid_row": null,
            "grid_template_areas": null,
            "grid_template_columns": null,
            "grid_template_rows": null,
            "height": null,
            "justify_content": null,
            "justify_items": null,
            "left": null,
            "margin": null,
            "max_height": null,
            "max_width": null,
            "min_height": null,
            "min_width": null,
            "object_fit": null,
            "object_position": null,
            "order": null,
            "overflow": null,
            "overflow_x": null,
            "overflow_y": null,
            "padding": null,
            "right": null,
            "top": null,
            "visibility": null,
            "width": null
          }
        },
        "8692ff891acd458a8b693fa8d3ab861d": {
          "model_module": "@jupyter-widgets/controls",
          "model_name": "ProgressStyleModel",
          "model_module_version": "1.5.0",
          "state": {
            "_model_module": "@jupyter-widgets/controls",
            "_model_module_version": "1.5.0",
            "_model_name": "ProgressStyleModel",
            "_view_count": null,
            "_view_module": "@jupyter-widgets/base",
            "_view_module_version": "1.2.0",
            "_view_name": "StyleView",
            "bar_color": null,
            "description_width": ""
          }
        }
      }
    }
  },
  "nbformat": 4,
  "nbformat_minor": 5
}