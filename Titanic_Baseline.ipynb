{
  "cells": [
    {
      "cell_type": "code",
      "execution_count": 63,
      "metadata": {
        "colab": {
          "base_uri": "https://localhost:8080/"
        },
        "id": "nyAGE3XV8mlz",
        "outputId": "84f364ea-0064-4795-d0e3-6ea75061efdd"
      },
      "outputs": [],
      "source": [
        "import pandas as pd\n",
        "import numpy as np\n",
        "\n",
        "import matplotlib.pyplot as plt\n",
        "import seaborn as sns\n",
        "\n",
        "import lightgbm as lgb   #optuna使う場合はコメントアウト\n",
        "# import optuna.integration.lightgbm as lgb  #optuna\n",
        "\n",
        "from sklearn import metrics\n",
        "\n",
        "from sklearn.preprocessing import LabelEncoder\n",
        "from sklearn.model_selection import StratifiedKFold\n",
        "from sklearn.metrics import roc_auc_score"
      ]
    },
    {
      "cell_type": "code",
      "execution_count": 64,
      "metadata": {
        "id": "u4rjGUIG-Kro"
      },
      "outputs": [],
      "source": [
        "train = pd.read_csv('train.tsv', index_col=0, sep=\"\\t\") # 学習用データ DataFrame化\n",
        "test = pd.read_csv('test.tsv', index_col=0, sep=\"\\t\") # 学習用データ DataFrame化\n",
        "submit =pd.read_csv(\"sample_submit.tsv\", sep=\"\\t\", index_col=0, header=None) # 応募用サンプルファイル DataFrame化"
      ]
    },
    {
      "cell_type": "code",
      "execution_count": 65,
      "metadata": {},
      "outputs": [
        {
          "data": {
            "text/html": [
              "<div>\n",
              "<style scoped>\n",
              "    .dataframe tbody tr th:only-of-type {\n",
              "        vertical-align: middle;\n",
              "    }\n",
              "\n",
              "    .dataframe tbody tr th {\n",
              "        vertical-align: top;\n",
              "    }\n",
              "\n",
              "    .dataframe thead th {\n",
              "        text-align: right;\n",
              "    }\n",
              "</style>\n",
              "<table border=\"1\" class=\"dataframe\">\n",
              "  <thead>\n",
              "    <tr style=\"text-align: right;\">\n",
              "      <th></th>\n",
              "      <th>survived</th>\n",
              "      <th>pclass</th>\n",
              "      <th>sex</th>\n",
              "      <th>age</th>\n",
              "      <th>sibsp</th>\n",
              "      <th>parch</th>\n",
              "      <th>fare</th>\n",
              "      <th>embarked</th>\n",
              "    </tr>\n",
              "    <tr>\n",
              "      <th>id</th>\n",
              "      <th></th>\n",
              "      <th></th>\n",
              "      <th></th>\n",
              "      <th></th>\n",
              "      <th></th>\n",
              "      <th></th>\n",
              "      <th></th>\n",
              "      <th></th>\n",
              "    </tr>\n",
              "  </thead>\n",
              "  <tbody>\n",
              "    <tr>\n",
              "      <th>3</th>\n",
              "      <td>1</td>\n",
              "      <td>1</td>\n",
              "      <td>female</td>\n",
              "      <td>35.0</td>\n",
              "      <td>1</td>\n",
              "      <td>0</td>\n",
              "      <td>53.1000</td>\n",
              "      <td>S</td>\n",
              "    </tr>\n",
              "    <tr>\n",
              "      <th>4</th>\n",
              "      <td>0</td>\n",
              "      <td>3</td>\n",
              "      <td>male</td>\n",
              "      <td>35.0</td>\n",
              "      <td>0</td>\n",
              "      <td>0</td>\n",
              "      <td>8.0500</td>\n",
              "      <td>S</td>\n",
              "    </tr>\n",
              "    <tr>\n",
              "      <th>7</th>\n",
              "      <td>0</td>\n",
              "      <td>3</td>\n",
              "      <td>male</td>\n",
              "      <td>2.0</td>\n",
              "      <td>3</td>\n",
              "      <td>1</td>\n",
              "      <td>21.0750</td>\n",
              "      <td>S</td>\n",
              "    </tr>\n",
              "    <tr>\n",
              "      <th>9</th>\n",
              "      <td>1</td>\n",
              "      <td>2</td>\n",
              "      <td>female</td>\n",
              "      <td>14.0</td>\n",
              "      <td>1</td>\n",
              "      <td>0</td>\n",
              "      <td>30.0708</td>\n",
              "      <td>C</td>\n",
              "    </tr>\n",
              "    <tr>\n",
              "      <th>11</th>\n",
              "      <td>1</td>\n",
              "      <td>1</td>\n",
              "      <td>female</td>\n",
              "      <td>58.0</td>\n",
              "      <td>0</td>\n",
              "      <td>0</td>\n",
              "      <td>26.5500</td>\n",
              "      <td>S</td>\n",
              "    </tr>\n",
              "    <tr>\n",
              "      <th>...</th>\n",
              "      <td>...</td>\n",
              "      <td>...</td>\n",
              "      <td>...</td>\n",
              "      <td>...</td>\n",
              "      <td>...</td>\n",
              "      <td>...</td>\n",
              "      <td>...</td>\n",
              "      <td>...</td>\n",
              "    </tr>\n",
              "    <tr>\n",
              "      <th>873</th>\n",
              "      <td>0</td>\n",
              "      <td>3</td>\n",
              "      <td>male</td>\n",
              "      <td>47.0</td>\n",
              "      <td>0</td>\n",
              "      <td>0</td>\n",
              "      <td>9.0000</td>\n",
              "      <td>S</td>\n",
              "    </tr>\n",
              "    <tr>\n",
              "      <th>874</th>\n",
              "      <td>1</td>\n",
              "      <td>2</td>\n",
              "      <td>female</td>\n",
              "      <td>28.0</td>\n",
              "      <td>1</td>\n",
              "      <td>0</td>\n",
              "      <td>24.0000</td>\n",
              "      <td>C</td>\n",
              "    </tr>\n",
              "    <tr>\n",
              "      <th>879</th>\n",
              "      <td>1</td>\n",
              "      <td>1</td>\n",
              "      <td>female</td>\n",
              "      <td>56.0</td>\n",
              "      <td>0</td>\n",
              "      <td>1</td>\n",
              "      <td>83.1583</td>\n",
              "      <td>C</td>\n",
              "    </tr>\n",
              "    <tr>\n",
              "      <th>884</th>\n",
              "      <td>0</td>\n",
              "      <td>3</td>\n",
              "      <td>male</td>\n",
              "      <td>25.0</td>\n",
              "      <td>0</td>\n",
              "      <td>0</td>\n",
              "      <td>7.0500</td>\n",
              "      <td>S</td>\n",
              "    </tr>\n",
              "    <tr>\n",
              "      <th>888</th>\n",
              "      <td>0</td>\n",
              "      <td>3</td>\n",
              "      <td>female</td>\n",
              "      <td>NaN</td>\n",
              "      <td>1</td>\n",
              "      <td>2</td>\n",
              "      <td>23.4500</td>\n",
              "      <td>S</td>\n",
              "    </tr>\n",
              "  </tbody>\n",
              "</table>\n",
              "<p>445 rows × 8 columns</p>\n",
              "</div>"
            ],
            "text/plain": [
              "     survived  pclass     sex   age  sibsp  parch     fare embarked\n",
              "id                                                                 \n",
              "3           1       1  female  35.0      1      0  53.1000        S\n",
              "4           0       3    male  35.0      0      0   8.0500        S\n",
              "7           0       3    male   2.0      3      1  21.0750        S\n",
              "9           1       2  female  14.0      1      0  30.0708        C\n",
              "11          1       1  female  58.0      0      0  26.5500        S\n",
              "..        ...     ...     ...   ...    ...    ...      ...      ...\n",
              "873         0       3    male  47.0      0      0   9.0000        S\n",
              "874         1       2  female  28.0      1      0  24.0000        C\n",
              "879         1       1  female  56.0      0      1  83.1583        C\n",
              "884         0       3    male  25.0      0      0   7.0500        S\n",
              "888         0       3  female   NaN      1      2  23.4500        S\n",
              "\n",
              "[445 rows x 8 columns]"
            ]
          },
          "execution_count": 65,
          "metadata": {},
          "output_type": "execute_result"
        }
      ],
      "source": [
        "train"
      ]
    },
    {
      "cell_type": "code",
      "execution_count": 66,
      "metadata": {},
      "outputs": [
        {
          "data": {
            "text/plain": [
              "survived      int64\n",
              "pclass        int64\n",
              "sex          object\n",
              "age         float64\n",
              "sibsp         int64\n",
              "parch         int64\n",
              "fare        float64\n",
              "embarked     object\n",
              "dtype: object"
            ]
          },
          "execution_count": 66,
          "metadata": {},
          "output_type": "execute_result"
        }
      ],
      "source": [
        "train.dtypes"
      ]
    },
    {
      "cell_type": "code",
      "execution_count": 67,
      "metadata": {},
      "outputs": [
        {
          "data": {
            "text/html": [
              "<div>\n",
              "<style scoped>\n",
              "    .dataframe tbody tr th:only-of-type {\n",
              "        vertical-align: middle;\n",
              "    }\n",
              "\n",
              "    .dataframe tbody tr th {\n",
              "        vertical-align: top;\n",
              "    }\n",
              "\n",
              "    .dataframe thead th {\n",
              "        text-align: right;\n",
              "    }\n",
              "</style>\n",
              "<table border=\"1\" class=\"dataframe\">\n",
              "  <thead>\n",
              "    <tr style=\"text-align: right;\">\n",
              "      <th></th>\n",
              "      <th>pclass</th>\n",
              "      <th>sex</th>\n",
              "      <th>age</th>\n",
              "      <th>sibsp</th>\n",
              "      <th>parch</th>\n",
              "      <th>fare</th>\n",
              "      <th>embarked</th>\n",
              "    </tr>\n",
              "    <tr>\n",
              "      <th>id</th>\n",
              "      <th></th>\n",
              "      <th></th>\n",
              "      <th></th>\n",
              "      <th></th>\n",
              "      <th></th>\n",
              "      <th></th>\n",
              "      <th></th>\n",
              "    </tr>\n",
              "  </thead>\n",
              "  <tbody>\n",
              "    <tr>\n",
              "      <th>0</th>\n",
              "      <td>3</td>\n",
              "      <td>male</td>\n",
              "      <td>22.0</td>\n",
              "      <td>1</td>\n",
              "      <td>0</td>\n",
              "      <td>7.2500</td>\n",
              "      <td>S</td>\n",
              "    </tr>\n",
              "    <tr>\n",
              "      <th>1</th>\n",
              "      <td>1</td>\n",
              "      <td>female</td>\n",
              "      <td>38.0</td>\n",
              "      <td>1</td>\n",
              "      <td>0</td>\n",
              "      <td>71.2833</td>\n",
              "      <td>C</td>\n",
              "    </tr>\n",
              "    <tr>\n",
              "      <th>2</th>\n",
              "      <td>3</td>\n",
              "      <td>female</td>\n",
              "      <td>26.0</td>\n",
              "      <td>0</td>\n",
              "      <td>0</td>\n",
              "      <td>7.9250</td>\n",
              "      <td>S</td>\n",
              "    </tr>\n",
              "    <tr>\n",
              "      <th>5</th>\n",
              "      <td>3</td>\n",
              "      <td>male</td>\n",
              "      <td>NaN</td>\n",
              "      <td>0</td>\n",
              "      <td>0</td>\n",
              "      <td>8.4583</td>\n",
              "      <td>Q</td>\n",
              "    </tr>\n",
              "    <tr>\n",
              "      <th>6</th>\n",
              "      <td>1</td>\n",
              "      <td>male</td>\n",
              "      <td>54.0</td>\n",
              "      <td>0</td>\n",
              "      <td>0</td>\n",
              "      <td>51.8625</td>\n",
              "      <td>S</td>\n",
              "    </tr>\n",
              "    <tr>\n",
              "      <th>...</th>\n",
              "      <td>...</td>\n",
              "      <td>...</td>\n",
              "      <td>...</td>\n",
              "      <td>...</td>\n",
              "      <td>...</td>\n",
              "      <td>...</td>\n",
              "      <td>...</td>\n",
              "    </tr>\n",
              "    <tr>\n",
              "      <th>885</th>\n",
              "      <td>3</td>\n",
              "      <td>female</td>\n",
              "      <td>39.0</td>\n",
              "      <td>0</td>\n",
              "      <td>5</td>\n",
              "      <td>29.1250</td>\n",
              "      <td>Q</td>\n",
              "    </tr>\n",
              "    <tr>\n",
              "      <th>886</th>\n",
              "      <td>2</td>\n",
              "      <td>male</td>\n",
              "      <td>27.0</td>\n",
              "      <td>0</td>\n",
              "      <td>0</td>\n",
              "      <td>13.0000</td>\n",
              "      <td>S</td>\n",
              "    </tr>\n",
              "    <tr>\n",
              "      <th>887</th>\n",
              "      <td>1</td>\n",
              "      <td>female</td>\n",
              "      <td>19.0</td>\n",
              "      <td>0</td>\n",
              "      <td>0</td>\n",
              "      <td>30.0000</td>\n",
              "      <td>S</td>\n",
              "    </tr>\n",
              "    <tr>\n",
              "      <th>889</th>\n",
              "      <td>1</td>\n",
              "      <td>male</td>\n",
              "      <td>26.0</td>\n",
              "      <td>0</td>\n",
              "      <td>0</td>\n",
              "      <td>30.0000</td>\n",
              "      <td>C</td>\n",
              "    </tr>\n",
              "    <tr>\n",
              "      <th>890</th>\n",
              "      <td>3</td>\n",
              "      <td>male</td>\n",
              "      <td>32.0</td>\n",
              "      <td>0</td>\n",
              "      <td>0</td>\n",
              "      <td>7.7500</td>\n",
              "      <td>Q</td>\n",
              "    </tr>\n",
              "  </tbody>\n",
              "</table>\n",
              "<p>446 rows × 7 columns</p>\n",
              "</div>"
            ],
            "text/plain": [
              "     pclass     sex   age  sibsp  parch     fare embarked\n",
              "id                                                       \n",
              "0         3    male  22.0      1      0   7.2500        S\n",
              "1         1  female  38.0      1      0  71.2833        C\n",
              "2         3  female  26.0      0      0   7.9250        S\n",
              "5         3    male   NaN      0      0   8.4583        Q\n",
              "6         1    male  54.0      0      0  51.8625        S\n",
              "..      ...     ...   ...    ...    ...      ...      ...\n",
              "885       3  female  39.0      0      5  29.1250        Q\n",
              "886       2    male  27.0      0      0  13.0000        S\n",
              "887       1  female  19.0      0      0  30.0000        S\n",
              "889       1    male  26.0      0      0  30.0000        C\n",
              "890       3    male  32.0      0      0   7.7500        Q\n",
              "\n",
              "[446 rows x 7 columns]"
            ]
          },
          "execution_count": 67,
          "metadata": {},
          "output_type": "execute_result"
        }
      ],
      "source": [
        "test"
      ]
    },
    {
      "cell_type": "code",
      "execution_count": 68,
      "metadata": {},
      "outputs": [
        {
          "data": {
            "text/html": [
              "<div>\n",
              "<style scoped>\n",
              "    .dataframe tbody tr th:only-of-type {\n",
              "        vertical-align: middle;\n",
              "    }\n",
              "\n",
              "    .dataframe tbody tr th {\n",
              "        vertical-align: top;\n",
              "    }\n",
              "\n",
              "    .dataframe thead th {\n",
              "        text-align: right;\n",
              "    }\n",
              "</style>\n",
              "<table border=\"1\" class=\"dataframe\">\n",
              "  <thead>\n",
              "    <tr style=\"text-align: right;\">\n",
              "      <th></th>\n",
              "      <th>1</th>\n",
              "    </tr>\n",
              "    <tr>\n",
              "      <th>0</th>\n",
              "      <th></th>\n",
              "    </tr>\n",
              "  </thead>\n",
              "  <tbody>\n",
              "    <tr>\n",
              "      <th>0</th>\n",
              "      <td>0</td>\n",
              "    </tr>\n",
              "    <tr>\n",
              "      <th>1</th>\n",
              "      <td>1</td>\n",
              "    </tr>\n",
              "    <tr>\n",
              "      <th>2</th>\n",
              "      <td>0</td>\n",
              "    </tr>\n",
              "    <tr>\n",
              "      <th>5</th>\n",
              "      <td>1</td>\n",
              "    </tr>\n",
              "    <tr>\n",
              "      <th>6</th>\n",
              "      <td>1</td>\n",
              "    </tr>\n",
              "    <tr>\n",
              "      <th>...</th>\n",
              "      <td>...</td>\n",
              "    </tr>\n",
              "    <tr>\n",
              "      <th>885</th>\n",
              "      <td>1</td>\n",
              "    </tr>\n",
              "    <tr>\n",
              "      <th>886</th>\n",
              "      <td>1</td>\n",
              "    </tr>\n",
              "    <tr>\n",
              "      <th>887</th>\n",
              "      <td>1</td>\n",
              "    </tr>\n",
              "    <tr>\n",
              "      <th>889</th>\n",
              "      <td>1</td>\n",
              "    </tr>\n",
              "    <tr>\n",
              "      <th>890</th>\n",
              "      <td>0</td>\n",
              "    </tr>\n",
              "  </tbody>\n",
              "</table>\n",
              "<p>446 rows × 1 columns</p>\n",
              "</div>"
            ],
            "text/plain": [
              "     1\n",
              "0     \n",
              "0    0\n",
              "1    1\n",
              "2    0\n",
              "5    1\n",
              "6    1\n",
              "..  ..\n",
              "885  1\n",
              "886  1\n",
              "887  1\n",
              "889  1\n",
              "890  0\n",
              "\n",
              "[446 rows x 1 columns]"
            ]
          },
          "execution_count": 68,
          "metadata": {},
          "output_type": "execute_result"
        }
      ],
      "source": [
        "#提出用フォーマット\n",
        "submit"
      ]
    },
    {
      "cell_type": "code",
      "execution_count": 69,
      "metadata": {
        "colab": {
          "base_uri": "https://localhost:8080/",
          "height": 488
        },
        "id": "ImlniwQG8iiy",
        "outputId": "16ce7370-6d4b-4677-cf26-ff86ef73e5c1"
      },
      "outputs": [
        {
          "data": {
            "text/html": [
              "<div>\n",
              "<style scoped>\n",
              "    .dataframe tbody tr th:only-of-type {\n",
              "        vertical-align: middle;\n",
              "    }\n",
              "\n",
              "    .dataframe tbody tr th {\n",
              "        vertical-align: top;\n",
              "    }\n",
              "\n",
              "    .dataframe thead th {\n",
              "        text-align: right;\n",
              "    }\n",
              "</style>\n",
              "<table border=\"1\" class=\"dataframe\">\n",
              "  <thead>\n",
              "    <tr style=\"text-align: right;\">\n",
              "      <th></th>\n",
              "      <th>survived</th>\n",
              "      <th>pclass</th>\n",
              "      <th>sex</th>\n",
              "      <th>age</th>\n",
              "      <th>sibsp</th>\n",
              "      <th>parch</th>\n",
              "      <th>fare</th>\n",
              "      <th>embarked</th>\n",
              "    </tr>\n",
              "    <tr>\n",
              "      <th>id</th>\n",
              "      <th></th>\n",
              "      <th></th>\n",
              "      <th></th>\n",
              "      <th></th>\n",
              "      <th></th>\n",
              "      <th></th>\n",
              "      <th></th>\n",
              "      <th></th>\n",
              "    </tr>\n",
              "  </thead>\n",
              "  <tbody>\n",
              "    <tr>\n",
              "      <th>3</th>\n",
              "      <td>1</td>\n",
              "      <td>1</td>\n",
              "      <td>0</td>\n",
              "      <td>35.0</td>\n",
              "      <td>1</td>\n",
              "      <td>0</td>\n",
              "      <td>53.1000</td>\n",
              "      <td>2</td>\n",
              "    </tr>\n",
              "    <tr>\n",
              "      <th>4</th>\n",
              "      <td>0</td>\n",
              "      <td>3</td>\n",
              "      <td>1</td>\n",
              "      <td>35.0</td>\n",
              "      <td>0</td>\n",
              "      <td>0</td>\n",
              "      <td>8.0500</td>\n",
              "      <td>2</td>\n",
              "    </tr>\n",
              "    <tr>\n",
              "      <th>7</th>\n",
              "      <td>0</td>\n",
              "      <td>3</td>\n",
              "      <td>1</td>\n",
              "      <td>2.0</td>\n",
              "      <td>3</td>\n",
              "      <td>1</td>\n",
              "      <td>21.0750</td>\n",
              "      <td>2</td>\n",
              "    </tr>\n",
              "    <tr>\n",
              "      <th>9</th>\n",
              "      <td>1</td>\n",
              "      <td>2</td>\n",
              "      <td>0</td>\n",
              "      <td>14.0</td>\n",
              "      <td>1</td>\n",
              "      <td>0</td>\n",
              "      <td>30.0708</td>\n",
              "      <td>0</td>\n",
              "    </tr>\n",
              "    <tr>\n",
              "      <th>11</th>\n",
              "      <td>1</td>\n",
              "      <td>1</td>\n",
              "      <td>0</td>\n",
              "      <td>58.0</td>\n",
              "      <td>0</td>\n",
              "      <td>0</td>\n",
              "      <td>26.5500</td>\n",
              "      <td>2</td>\n",
              "    </tr>\n",
              "    <tr>\n",
              "      <th>...</th>\n",
              "      <td>...</td>\n",
              "      <td>...</td>\n",
              "      <td>...</td>\n",
              "      <td>...</td>\n",
              "      <td>...</td>\n",
              "      <td>...</td>\n",
              "      <td>...</td>\n",
              "      <td>...</td>\n",
              "    </tr>\n",
              "    <tr>\n",
              "      <th>873</th>\n",
              "      <td>0</td>\n",
              "      <td>3</td>\n",
              "      <td>1</td>\n",
              "      <td>47.0</td>\n",
              "      <td>0</td>\n",
              "      <td>0</td>\n",
              "      <td>9.0000</td>\n",
              "      <td>2</td>\n",
              "    </tr>\n",
              "    <tr>\n",
              "      <th>874</th>\n",
              "      <td>1</td>\n",
              "      <td>2</td>\n",
              "      <td>0</td>\n",
              "      <td>28.0</td>\n",
              "      <td>1</td>\n",
              "      <td>0</td>\n",
              "      <td>24.0000</td>\n",
              "      <td>0</td>\n",
              "    </tr>\n",
              "    <tr>\n",
              "      <th>879</th>\n",
              "      <td>1</td>\n",
              "      <td>1</td>\n",
              "      <td>0</td>\n",
              "      <td>56.0</td>\n",
              "      <td>0</td>\n",
              "      <td>1</td>\n",
              "      <td>83.1583</td>\n",
              "      <td>0</td>\n",
              "    </tr>\n",
              "    <tr>\n",
              "      <th>884</th>\n",
              "      <td>0</td>\n",
              "      <td>3</td>\n",
              "      <td>1</td>\n",
              "      <td>25.0</td>\n",
              "      <td>0</td>\n",
              "      <td>0</td>\n",
              "      <td>7.0500</td>\n",
              "      <td>2</td>\n",
              "    </tr>\n",
              "    <tr>\n",
              "      <th>888</th>\n",
              "      <td>0</td>\n",
              "      <td>3</td>\n",
              "      <td>0</td>\n",
              "      <td>NaN</td>\n",
              "      <td>1</td>\n",
              "      <td>2</td>\n",
              "      <td>23.4500</td>\n",
              "      <td>2</td>\n",
              "    </tr>\n",
              "  </tbody>\n",
              "</table>\n",
              "<p>445 rows × 8 columns</p>\n",
              "</div>"
            ],
            "text/plain": [
              "     survived  pclass  sex   age  sibsp  parch     fare  embarked\n",
              "id                                                               \n",
              "3           1       1    0  35.0      1      0  53.1000         2\n",
              "4           0       3    1  35.0      0      0   8.0500         2\n",
              "7           0       3    1   2.0      3      1  21.0750         2\n",
              "9           1       2    0  14.0      1      0  30.0708         0\n",
              "11          1       1    0  58.0      0      0  26.5500         2\n",
              "..        ...     ...  ...   ...    ...    ...      ...       ...\n",
              "873         0       3    1  47.0      0      0   9.0000         2\n",
              "874         1       2    0  28.0      1      0  24.0000         0\n",
              "879         1       1    0  56.0      0      1  83.1583         0\n",
              "884         0       3    1  25.0      0      0   7.0500         2\n",
              "888         0       3    0   NaN      1      2  23.4500         2\n",
              "\n",
              "[445 rows x 8 columns]"
            ]
          },
          "execution_count": 69,
          "metadata": {},
          "output_type": "execute_result"
        }
      ],
      "source": [
        "#Label Encoding\n",
        "\n",
        "le = LabelEncoder()\n",
        "le.fit(train['sex'])\n",
        "train['sex'] = le.transform(train['sex']).astype(\"int\")\n",
        "\n",
        "le.fit(train['embarked'])\n",
        "train['embarked'] = le.transform(train['embarked']).astype(\"int\")\n",
        "\n",
        "le.fit(test['sex'])\n",
        "test['sex'] = le.transform(test['sex']).astype(\"int\")\n",
        "\n",
        "le.fit(test['embarked'])\n",
        "test['embarked'] = le.transform(test['embarked']).astype(\"int\")\n",
        "\n",
        "train"
      ]
    },
    {
      "cell_type": "code",
      "execution_count": 70,
      "metadata": {},
      "outputs": [
        {
          "data": {
            "text/plain": [
              "survived      int64\n",
              "pclass        int64\n",
              "sex           int32\n",
              "age         float64\n",
              "sibsp         int64\n",
              "parch         int64\n",
              "fare        float64\n",
              "embarked      int32\n",
              "dtype: object"
            ]
          },
          "execution_count": 70,
          "metadata": {},
          "output_type": "execute_result"
        }
      ],
      "source": [
        "train.dtypes"
      ]
    },
    {
      "cell_type": "code",
      "execution_count": 71,
      "metadata": {},
      "outputs": [
        {
          "name": "stdout",
          "output_type": "stream",
          "text": [
            "          survived    pclass       sex       age     sibsp     parch  \\\n",
            "survived  1.000000 -0.358097 -0.559465 -0.081394 -0.045087  0.079669   \n",
            "pclass   -0.358097  1.000000  0.193761 -0.300686  0.069857 -0.015726   \n",
            "sex      -0.559465  0.193761  1.000000  0.072899 -0.097883 -0.220046   \n",
            "age      -0.081394 -0.300686  0.072899  1.000000 -0.283126 -0.153382   \n",
            "sibsp    -0.045087  0.069857 -0.097883 -0.283126  1.000000  0.423522   \n",
            "parch     0.079669 -0.015726 -0.220046 -0.153382  0.423522  1.000000   \n",
            "fare      0.258605 -0.549651 -0.168935  0.098488  0.164773  0.241855   \n",
            "embarked -0.173428  0.103049  0.112383  0.010552  0.104772  0.058022   \n",
            "\n",
            "              fare  embarked  \n",
            "survived  0.258605 -0.173428  \n",
            "pclass   -0.549651  0.103049  \n",
            "sex      -0.168935  0.112383  \n",
            "age       0.098488  0.010552  \n",
            "sibsp     0.164773  0.104772  \n",
            "parch     0.241855  0.058022  \n",
            "fare      1.000000 -0.157135  \n",
            "embarked -0.157135  1.000000  \n"
          ]
        }
      ],
      "source": [
        "#特徴量同士の相関の確認\n",
        "\n",
        "print(train.corr())"
      ]
    },
    {
      "cell_type": "code",
      "execution_count": 72,
      "metadata": {},
      "outputs": [
        {
          "data": {
            "text/html": [
              "<div>\n",
              "<style scoped>\n",
              "    .dataframe tbody tr th:only-of-type {\n",
              "        vertical-align: middle;\n",
              "    }\n",
              "\n",
              "    .dataframe tbody tr th {\n",
              "        vertical-align: top;\n",
              "    }\n",
              "\n",
              "    .dataframe thead th {\n",
              "        text-align: right;\n",
              "    }\n",
              "</style>\n",
              "<table border=\"1\" class=\"dataframe\">\n",
              "  <thead>\n",
              "    <tr style=\"text-align: right;\">\n",
              "      <th></th>\n",
              "      <th>survived</th>\n",
              "      <th>pclass</th>\n",
              "      <th>sex</th>\n",
              "      <th>age</th>\n",
              "      <th>sibsp</th>\n",
              "      <th>parch</th>\n",
              "      <th>fare</th>\n",
              "      <th>embarked</th>\n",
              "    </tr>\n",
              "  </thead>\n",
              "  <tbody>\n",
              "    <tr>\n",
              "      <th>0</th>\n",
              "      <td>1</td>\n",
              "      <td>1</td>\n",
              "      <td>0</td>\n",
              "      <td>35.0</td>\n",
              "      <td>1</td>\n",
              "      <td>0</td>\n",
              "      <td>53.1000</td>\n",
              "      <td>2</td>\n",
              "    </tr>\n",
              "    <tr>\n",
              "      <th>1</th>\n",
              "      <td>0</td>\n",
              "      <td>3</td>\n",
              "      <td>1</td>\n",
              "      <td>35.0</td>\n",
              "      <td>0</td>\n",
              "      <td>0</td>\n",
              "      <td>8.0500</td>\n",
              "      <td>2</td>\n",
              "    </tr>\n",
              "    <tr>\n",
              "      <th>2</th>\n",
              "      <td>0</td>\n",
              "      <td>3</td>\n",
              "      <td>1</td>\n",
              "      <td>2.0</td>\n",
              "      <td>3</td>\n",
              "      <td>1</td>\n",
              "      <td>21.0750</td>\n",
              "      <td>2</td>\n",
              "    </tr>\n",
              "    <tr>\n",
              "      <th>3</th>\n",
              "      <td>1</td>\n",
              "      <td>2</td>\n",
              "      <td>0</td>\n",
              "      <td>14.0</td>\n",
              "      <td>1</td>\n",
              "      <td>0</td>\n",
              "      <td>30.0708</td>\n",
              "      <td>0</td>\n",
              "    </tr>\n",
              "    <tr>\n",
              "      <th>4</th>\n",
              "      <td>1</td>\n",
              "      <td>1</td>\n",
              "      <td>0</td>\n",
              "      <td>58.0</td>\n",
              "      <td>0</td>\n",
              "      <td>0</td>\n",
              "      <td>26.5500</td>\n",
              "      <td>2</td>\n",
              "    </tr>\n",
              "    <tr>\n",
              "      <th>...</th>\n",
              "      <td>...</td>\n",
              "      <td>...</td>\n",
              "      <td>...</td>\n",
              "      <td>...</td>\n",
              "      <td>...</td>\n",
              "      <td>...</td>\n",
              "      <td>...</td>\n",
              "      <td>...</td>\n",
              "    </tr>\n",
              "    <tr>\n",
              "      <th>440</th>\n",
              "      <td>0</td>\n",
              "      <td>3</td>\n",
              "      <td>1</td>\n",
              "      <td>47.0</td>\n",
              "      <td>0</td>\n",
              "      <td>0</td>\n",
              "      <td>9.0000</td>\n",
              "      <td>2</td>\n",
              "    </tr>\n",
              "    <tr>\n",
              "      <th>441</th>\n",
              "      <td>1</td>\n",
              "      <td>2</td>\n",
              "      <td>0</td>\n",
              "      <td>28.0</td>\n",
              "      <td>1</td>\n",
              "      <td>0</td>\n",
              "      <td>24.0000</td>\n",
              "      <td>0</td>\n",
              "    </tr>\n",
              "    <tr>\n",
              "      <th>442</th>\n",
              "      <td>1</td>\n",
              "      <td>1</td>\n",
              "      <td>0</td>\n",
              "      <td>56.0</td>\n",
              "      <td>0</td>\n",
              "      <td>1</td>\n",
              "      <td>83.1583</td>\n",
              "      <td>0</td>\n",
              "    </tr>\n",
              "    <tr>\n",
              "      <th>443</th>\n",
              "      <td>0</td>\n",
              "      <td>3</td>\n",
              "      <td>1</td>\n",
              "      <td>25.0</td>\n",
              "      <td>0</td>\n",
              "      <td>0</td>\n",
              "      <td>7.0500</td>\n",
              "      <td>2</td>\n",
              "    </tr>\n",
              "    <tr>\n",
              "      <th>444</th>\n",
              "      <td>0</td>\n",
              "      <td>3</td>\n",
              "      <td>0</td>\n",
              "      <td>NaN</td>\n",
              "      <td>1</td>\n",
              "      <td>2</td>\n",
              "      <td>23.4500</td>\n",
              "      <td>2</td>\n",
              "    </tr>\n",
              "  </tbody>\n",
              "</table>\n",
              "<p>445 rows × 8 columns</p>\n",
              "</div>"
            ],
            "text/plain": [
              "     survived  pclass  sex   age  sibsp  parch     fare  embarked\n",
              "0           1       1    0  35.0      1      0  53.1000         2\n",
              "1           0       3    1  35.0      0      0   8.0500         2\n",
              "2           0       3    1   2.0      3      1  21.0750         2\n",
              "3           1       2    0  14.0      1      0  30.0708         0\n",
              "4           1       1    0  58.0      0      0  26.5500         2\n",
              "..        ...     ...  ...   ...    ...    ...      ...       ...\n",
              "440         0       3    1  47.0      0      0   9.0000         2\n",
              "441         1       2    0  28.0      1      0  24.0000         0\n",
              "442         1       1    0  56.0      0      1  83.1583         0\n",
              "443         0       3    1  25.0      0      0   7.0500         2\n",
              "444         0       3    0   NaN      1      2  23.4500         2\n",
              "\n",
              "[445 rows x 8 columns]"
            ]
          },
          "execution_count": 72,
          "metadata": {},
          "output_type": "execute_result"
        }
      ],
      "source": [
        "train = train.reset_index(drop=True)\n",
        "train"
      ]
    },
    {
      "cell_type": "code",
      "execution_count": 73,
      "metadata": {},
      "outputs": [
        {
          "name": "stdout",
          "output_type": "stream",
          "text": [
            "[  1   2   3   4   5   6   7   8   9  10  11  12  15  16  17  20  21  22\n",
            "  23  24  25  26  27  29  31  33  34  35  36  39  40  41  42  43  44  45\n",
            "  47  48  49  50  53  54  56  57  58  60  61  62  63  65  66  67  68  69\n",
            "  70  71  72  73  74  77  78  79  80  83  84  85  86  87  89  90  91  92\n",
            "  93  94  95  96  97  98  99 100 101 102 103 104 105 106 107 108 109 110\n",
            " 111 112 113 114 115 116 117 118 119 120 121 122 125 127 128 129 131 132\n",
            " 133 134 137 138 140 141 142 143 144 145 146 147 148 149 150 153 154 156\n",
            " 159 161 162 163 164 165 166 167 168 170 171 172 174 175 176 177 178 179\n",
            " 180 181 182 183 184 185 187 189 190 191 192 193 194 198 199 200 202 203\n",
            " 205 207 208 209 210 211 212 213 214 215 217 218 219 221 222 223 224 227\n",
            " 228 230 232 233 235 236 237 238 240 241 242 243 244 245 246 247 248 249\n",
            " 250 251 252 253 255 257 259 261 262 263 264 265 268 269 271 272 273 274\n",
            " 275 276 277 279 280 281 283 284 285 286 287 288 289 290 291 292 293 294\n",
            " 295 296 297 298 299 300 301 302 303 304 305 306 307 309 310 311 312 313\n",
            " 315 316 317 318 319 320 321 323 324 325 326 327 328 329 330 333 334 336\n",
            " 339 340 341 342 343 344 345 346 347 348 349 350 351 353 354 355 356 358\n",
            " 359 360 361 362 363 364 366 367 368 369 370 371 372 374 375 376 377 378\n",
            " 379 380 382 385 386 389 390 391 392 394 395 396 399 400 402 403 404 405\n",
            " 406 407 408 410 411 412 413 414 415 418 420 421 422 423 425 426 427 428\n",
            " 429 431 432 433 435 436 437 438 439 440 441 442 443 444]\n",
            "[  0  13  14  18  19  28  30  32  37  38  46  51  52  55  59  64  75  76\n",
            "  81  82  88 123 124 126 130 135 136 139 151 152 155 157 158 160 169 173\n",
            " 186 188 195 196 197 201 204 206 216 220 225 226 229 231 234 239 254 256\n",
            " 258 260 266 267 270 278 282 308 314 322 331 332 335 337 338 352 357 365\n",
            " 373 381 383 384 387 388 393 397 398 401 409 416 417 419 424 430 434]\n",
            "[  0   2   4   5   6  10  11  12  13  14  15  16  17  18  19  20  21  22\n",
            "  23  24  25  26  27  28  29  30  31  32  34  35  36  37  38  39  42  43\n",
            "  46  47  48  49  50  51  52  53  54  55  56  57  58  59  60  62  63  64\n",
            "  66  67  68  69  70  71  72  73  74  75  76  77  78  79  80  81  82  83\n",
            "  84  85  86  87  88  89  91  92  94  95  96  97  98  99 100 102 103 104\n",
            " 105 106 107 108 109 110 111 113 115 116 117 118 119 120 121 122 123 124\n",
            " 125 126 127 130 131 132 133 134 135 136 137 138 139 140 143 144 145 147\n",
            " 148 149 150 151 152 153 154 155 156 157 158 159 160 161 162 165 166 167\n",
            " 169 170 171 173 176 178 179 181 183 184 185 186 188 189 191 192 193 194\n",
            " 195 196 197 199 200 201 203 204 205 206 209 210 211 212 213 214 215 216\n",
            " 217 218 219 220 221 223 224 225 226 227 228 229 230 231 232 233 234 236\n",
            " 238 239 240 243 246 247 248 249 250 251 252 253 254 256 258 259 260 261\n",
            " 262 265 266 267 268 269 270 271 274 277 278 279 280 281 282 283 284 285\n",
            " 286 287 289 290 291 292 293 295 296 297 298 299 303 304 305 307 308 309\n",
            " 310 311 312 313 314 315 316 317 318 319 320 322 324 325 326 327 328 331\n",
            " 332 334 335 336 337 338 340 341 344 345 346 347 349 351 352 353 354 356\n",
            " 357 358 359 360 363 364 365 366 367 369 371 373 374 375 376 377 378 379\n",
            " 380 381 382 383 384 385 386 387 388 389 390 392 393 395 397 398 399 400\n",
            " 401 402 403 404 405 406 407 408 409 412 413 414 415 416 417 418 419 420\n",
            " 422 424 429 430 431 432 434 435 436 437 438 441 442 443]\n",
            "[  1   3   7   8   9  33  40  41  44  45  61  65  90  93 101 112 114 128\n",
            " 129 141 142 146 163 164 168 172 174 175 177 180 182 187 190 198 202 207\n",
            " 208 222 235 237 241 242 244 245 255 257 263 264 272 273 275 276 288 294\n",
            " 300 301 302 306 321 323 329 330 333 339 342 343 348 350 355 361 362 368\n",
            " 370 372 391 394 396 410 411 421 423 425 426 427 428 433 439 440 444]\n",
            "[  0   1   2   3   4   5   6   7   8   9  10  11  12  13  14  15  16  17\n",
            "  18  19  20  23  24  26  27  28  30  31  32  33  34  35  36  37  38  39\n",
            "  40  41  42  43  44  45  46  47  48  49  50  51  52  53  54  55  56  59\n",
            "  61  62  63  64  65  67  70  71  72  75  76  77  78  80  81  82  84  86\n",
            "  87  88  89  90  93  94  95  96 101 102 104 106 107 108 109 111 112 113\n",
            " 114 115 117 118 121 123 124 125 126 128 129 130 131 135 136 137 138 139\n",
            " 140 141 142 143 146 147 148 149 151 152 154 155 156 157 158 159 160 162\n",
            " 163 164 168 169 170 171 172 173 174 175 177 179 180 181 182 183 184 185\n",
            " 186 187 188 190 191 192 193 195 196 197 198 199 200 201 202 203 204 205\n",
            " 206 207 208 209 211 212 213 214 215 216 217 218 219 220 222 223 224 225\n",
            " 226 227 228 229 231 232 233 234 235 236 237 238 239 240 241 242 243 244\n",
            " 245 246 247 249 250 251 253 254 255 256 257 258 260 261 262 263 264 265\n",
            " 266 267 270 272 273 274 275 276 277 278 279 280 281 282 283 284 286 288\n",
            " 289 291 293 294 295 296 297 298 299 300 301 302 303 304 305 306 308 309\n",
            " 314 315 316 317 319 320 321 322 323 324 325 326 328 329 330 331 332 333\n",
            " 335 336 337 338 339 340 341 342 343 345 348 350 352 355 356 357 358 359\n",
            " 361 362 365 366 367 368 370 371 372 373 374 375 376 377 378 381 382 383\n",
            " 384 385 386 387 388 389 391 393 394 395 396 397 398 399 401 403 406 407\n",
            " 408 409 410 411 413 414 415 416 417 419 421 422 423 424 425 426 427 428\n",
            " 429 430 431 432 433 434 435 438 439 440 441 442 443 444]\n",
            "[ 21  22  25  29  57  58  60  66  68  69  73  74  79  83  85  91  92  97\n",
            "  98  99 100 103 105 110 116 119 120 122 127 132 133 134 144 145 150 153\n",
            " 161 165 166 167 176 178 189 194 210 221 230 248 252 259 268 269 271 285\n",
            " 287 290 292 307 310 311 312 313 318 327 334 344 346 347 349 351 353 354\n",
            " 360 363 364 369 379 380 390 392 400 402 404 405 412 418 420 436 437]\n",
            "[  0   1   2   3   4   5   6   7   8   9  10  11  13  14  15  16  17  18\n",
            "  19  21  22  23  24  25  26  27  28  29  30  31  32  33  34  36  37  38\n",
            "  40  41  44  45  46  47  48  51  52  53  54  55  56  57  58  59  60  61\n",
            "  64  65  66  68  69  71  72  73  74  75  76  79  80  81  82  83  84  85\n",
            "  86  88  90  91  92  93  94  97  98  99 100 101 102 103 105 107 110 112\n",
            " 114 116 118 119 120 121 122 123 124 126 127 128 129 130 132 133 134 135\n",
            " 136 137 139 140 141 142 144 145 146 148 150 151 152 153 154 155 157 158\n",
            " 159 160 161 163 164 165 166 167 168 169 170 172 173 174 175 176 177 178\n",
            " 180 181 182 186 187 188 189 190 191 192 193 194 195 196 197 198 199 201\n",
            " 202 204 205 206 207 208 210 212 214 216 217 218 219 220 221 222 225 226\n",
            " 227 228 229 230 231 232 234 235 236 237 238 239 241 242 243 244 245 247\n",
            " 248 249 252 254 255 256 257 258 259 260 261 262 263 264 266 267 268 269\n",
            " 270 271 272 273 274 275 276 278 279 282 285 287 288 290 292 293 294 295\n",
            " 298 300 301 302 303 306 307 308 310 311 312 313 314 316 318 320 321 322\n",
            " 323 325 326 327 328 329 330 331 332 333 334 335 336 337 338 339 340 341\n",
            " 342 343 344 345 346 347 348 349 350 351 352 353 354 355 356 357 358 359\n",
            " 360 361 362 363 364 365 366 368 369 370 371 372 373 374 379 380 381 382\n",
            " 383 384 385 387 388 390 391 392 393 394 396 397 398 400 401 402 404 405\n",
            " 408 409 410 411 412 414 415 416 417 418 419 420 421 422 423 424 425 426\n",
            " 427 428 429 430 431 432 433 434 436 437 439 440 441 444]\n",
            "[ 12  20  35  39  42  43  49  50  62  63  67  70  77  78  87  89  95  96\n",
            " 104 106 108 109 111 113 115 117 125 131 138 143 147 149 156 162 171 179\n",
            " 183 184 185 200 203 209 211 213 215 223 224 233 240 246 250 251 253 265\n",
            " 277 280 281 283 284 286 289 291 296 297 299 304 305 309 315 317 319 324\n",
            " 367 375 376 377 378 386 389 395 399 403 406 407 413 435 438 442 443]\n",
            "[  0   1   3   7   8   9  12  13  14  18  19  20  21  22  25  28  29  30\n",
            "  32  33  35  37  38  39  40  41  42  43  44  45  46  49  50  51  52  55\n",
            "  57  58  59  60  61  62  63  64  65  66  67  68  69  70  73  74  75  76\n",
            "  77  78  79  81  82  83  85  87  88  89  90  91  92  93  95  96  97  98\n",
            "  99 100 101 103 104 105 106 108 109 110 111 112 113 114 115 116 117 119\n",
            " 120 122 123 124 125 126 127 128 129 130 131 132 133 134 135 136 138 139\n",
            " 141 142 143 144 145 146 147 149 150 151 152 153 155 156 157 158 160 161\n",
            " 162 163 164 165 166 167 168 169 171 172 173 174 175 176 177 178 179 180\n",
            " 182 183 184 185 186 187 188 189 190 194 195 196 197 198 200 201 202 203\n",
            " 204 206 207 208 209 210 211 213 215 216 220 221 222 223 224 225 226 229\n",
            " 230 231 233 234 235 237 239 240 241 242 244 245 246 248 250 251 252 253\n",
            " 254 255 256 257 258 259 260 263 264 265 266 267 268 269 270 271 272 273\n",
            " 275 276 277 278 280 281 282 283 284 285 286 287 288 289 290 291 292 294\n",
            " 296 297 299 300 301 302 304 305 306 307 308 309 310 311 312 313 314 315\n",
            " 317 318 319 321 322 323 324 327 329 330 331 332 333 334 335 337 338 339\n",
            " 342 343 344 346 347 348 349 350 351 352 353 354 355 357 360 361 362 363\n",
            " 364 365 367 368 369 370 372 373 375 376 377 378 379 380 381 383 384 386\n",
            " 387 388 389 390 391 392 393 394 395 396 397 398 399 400 401 402 403 404\n",
            " 405 406 407 409 410 411 412 413 416 417 418 419 420 421 423 424 425 426\n",
            " 427 428 430 433 434 435 436 437 438 439 440 442 443 444]\n",
            "[  2   4   5   6  10  11  15  16  17  23  24  26  27  31  34  36  47  48\n",
            "  53  54  56  71  72  80  84  86  94 102 107 118 121 137 140 148 154 159\n",
            " 170 181 191 192 193 199 205 212 214 217 218 219 227 228 232 236 238 243\n",
            " 247 249 261 262 274 279 293 295 298 303 316 320 325 326 328 336 340 341\n",
            " 345 356 358 359 366 371 374 382 385 408 414 415 422 429 431 432 441]\n"
          ]
        }
      ],
      "source": [
        "#クロスバリデーションFold数\n",
        "FOLD  = 5\n",
        "\n",
        "kf = StratifiedKFold(n_splits=FOLD, random_state=2022, shuffle=True)\n",
        "for i, (train_idx, val_idx) in enumerate(kf.split(train, train[\"survived\"])):\n",
        "    print(train_idx)\n",
        "    print(val_idx)\n",
        "    train.loc[val_idx, \"fold\"] = int(i)"
      ]
    },
    {
      "cell_type": "code",
      "execution_count": 74,
      "metadata": {},
      "outputs": [],
      "source": [
        "def cal_roc(y_true, y_pred):\n",
        "  return roc_auc_score(y_true, y_pred)"
      ]
    },
    {
      "cell_type": "code",
      "execution_count": 75,
      "metadata": {},
      "outputs": [],
      "source": [
        "lgb_fit_params ={'num_boost_rounds': 10000,\n",
        "                 'early_stopping_rounds': 50,\n",
        "                 'verbose_eval': 10,\n",
        "                }\n",
        "\n",
        "\n",
        "lgb_model_params = {'boosting_type': 'gbdt',\n",
        "                    'device': 'gpu', \n",
        "                    'metric': 'auc',\n",
        "                    'learning_rate': 0.05,\n",
        "                    'max_depth': -1,\n",
        "                    'num_leaves': 72,\n",
        "                    'min_data_in_leaf': 20,\n",
        "                    'max_bin': 255,\n",
        "                    'verbose': -1,\n",
        "                    'n_jobs': -1,\n",
        "                    'feature_pre_filter': False,\n",
        "                    'bagging_fraction': 0.9918357136100413,\n",
        "                    'bagging_freq': 4,\n",
        "                    'feature_fraction': 0.9840000000000001,\n",
        "                    'lambda_l1': 7.386178645626934,\n",
        "                    'lambda_l2': 4.572888900518312e-08,\n",
        "                    'min_child_samples': 20}"
      ]
    },
    {
      "cell_type": "code",
      "execution_count": 76,
      "metadata": {},
      "outputs": [
        {
          "name": "stderr",
          "output_type": "stream",
          "text": [
            "[I 2023-07-04 00:24:13,798] A new study created in memory with name: no-name-b6c95792-0f9e-4433-a71d-08f6da4bf0e8\n",
            "feature_fraction, val_score: -inf:   0%|          | 0/7 [00:00<?, ?it/s]"
          ]
        },
        {
          "name": "stdout",
          "output_type": "stream",
          "text": [
            "[LightGBM] [Warning] min_data_in_leaf is set=20, min_child_samples=20 will be ignored. Current value: min_data_in_leaf=20\n",
            "Training until validation scores don't improve for 50 rounds\n",
            "[10]\tvalid_0's auc: 0.85341\tvalid_1's auc: 0.859801\n"
          ]
        },
        {
          "name": "stderr",
          "output_type": "stream",
          "text": [
            "c:\\Users\\daich\\AppData\\Local\\Programs\\Python\\Python38\\lib\\site-packages\\lightgbm\\engine.py:239: UserWarning: 'verbose_eval' argument is deprecated and will be removed in a future release of LightGBM. Pass 'log_evaluation()' callback via 'callbacks' argument instead.\n",
            "  _log_warning(\"'verbose_eval' argument is deprecated and will be removed in a future release of LightGBM. \"\n"
          ]
        },
        {
          "name": "stdout",
          "output_type": "stream",
          "text": [
            "[20]\tvalid_0's auc: 0.853918\tvalid_1's auc: 0.845388\n",
            "[30]\tvalid_0's auc: 0.855675\tvalid_1's auc: 0.839623\n",
            "[40]\tvalid_0's auc: 0.858958\tvalid_1's auc: 0.833071\n"
          ]
        },
        {
          "name": "stderr",
          "output_type": "stream",
          "text": [
            "feature_fraction, val_score: 0.859801:  14%|#4        | 1/7 [00:00<00:01,  4.18it/s][I 2023-07-04 00:24:14,041] Trial 0 finished with value: 0.8598008385744235 and parameters: {'feature_fraction': 1.0}. Best is trial 0 with value: 0.8598008385744235.\n",
            "feature_fraction, val_score: 0.859801:  14%|#4        | 1/7 [00:00<00:01,  4.18it/s]"
          ]
        },
        {
          "name": "stdout",
          "output_type": "stream",
          "text": [
            "[50]\tvalid_0's auc: 0.863784\tvalid_1's auc: 0.841457\n",
            "Early stopping, best iteration is:\n",
            "[5]\tvalid_0's auc: 0.85341\tvalid_1's auc: 0.859801\n",
            "[10]\tvalid_0's auc: 0.8562\tvalid_1's auc: 0.846436\n",
            "[20]\tvalid_0's auc: 0.869103\tvalid_1's auc: 0.865304\n",
            "[30]\tvalid_0's auc: 0.863538\tvalid_1's auc: 0.865828\n",
            "[40]\tvalid_0's auc: 0.866132\tvalid_1's auc: 0.861897\n",
            "[50]\tvalid_0's auc: 0.867445\tvalid_1's auc: 0.861897\n",
            "[60]\tvalid_0's auc: 0.8671\tvalid_1's auc: 0.862421\n",
            "Early stopping, best iteration is:\n",
            "[19]\tvalid_0's auc: 0.869792\tvalid_1's auc: 0.865304\n"
          ]
        },
        {
          "name": "stderr",
          "output_type": "stream",
          "text": [
            "c:\\Users\\daich\\AppData\\Local\\Programs\\Python\\Python38\\lib\\site-packages\\lightgbm\\engine.py:239: UserWarning: 'verbose_eval' argument is deprecated and will be removed in a future release of LightGBM. Pass 'log_evaluation()' callback via 'callbacks' argument instead.\n",
            "  _log_warning(\"'verbose_eval' argument is deprecated and will be removed in a future release of LightGBM. \"\n",
            "feature_fraction, val_score: 0.865304:  29%|##8       | 2/7 [00:00<00:01,  4.59it/s][I 2023-07-04 00:24:14,244] Trial 1 finished with value: 0.8653039832285115 and parameters: {'feature_fraction': 0.5}. Best is trial 1 with value: 0.8653039832285115.\n",
            "feature_fraction, val_score: 0.865304:  29%|##8       | 2/7 [00:00<00:01,  4.59it/s]"
          ]
        },
        {
          "name": "stdout",
          "output_type": "stream",
          "text": [
            "[10]\tvalid_0's auc: 0.8562\tvalid_1's auc: 0.846436"
          ]
        },
        {
          "name": "stderr",
          "output_type": "stream",
          "text": [
            "c:\\Users\\daich\\AppData\\Local\\Programs\\Python\\Python38\\lib\\site-packages\\lightgbm\\engine.py:239: UserWarning: 'verbose_eval' argument is deprecated and will be removed in a future release of LightGBM. Pass 'log_evaluation()' callback via 'callbacks' argument instead.\n",
            "  _log_warning(\"'verbose_eval' argument is deprecated and will be removed in a future release of LightGBM. \"\n",
            "feature_fraction, val_score: 0.865304:  43%|####2     | 3/7 [00:00<00:00,  4.65it/s][I 2023-07-04 00:24:14,455] Trial 2 finished with value: 0.8653039832285115 and parameters: {'feature_fraction': 0.6}. Best is trial 1 with value: 0.8653039832285115.\n",
            "feature_fraction, val_score: 0.865304:  43%|####2     | 3/7 [00:00<00:00,  4.65it/s]"
          ]
        },
        {
          "name": "stdout",
          "output_type": "stream",
          "text": [
            "\n",
            "[20]\tvalid_0's auc: 0.869103\tvalid_1's auc: 0.865304\n",
            "[30]\tvalid_0's auc: 0.863538\tvalid_1's auc: 0.865828\n",
            "[40]\tvalid_0's auc: 0.866132\tvalid_1's auc: 0.861897\n",
            "[50]\tvalid_0's auc: 0.867445\tvalid_1's auc: 0.861897\n",
            "[60]\tvalid_0's auc: 0.8671\tvalid_1's auc: 0.862421\n",
            "Early stopping, best iteration is:\n",
            "[19]\tvalid_0's auc: 0.869792\tvalid_1's auc: 0.865304\n",
            "[10]\tvalid_0's auc: 0.855347\tvalid_1's auc: 0.84696\n",
            "[20]\tvalid_0's auc: 0.862914\tvalid_1's auc: 0.866614\n"
          ]
        },
        {
          "name": "stderr",
          "output_type": "stream",
          "text": [
            "c:\\Users\\daich\\AppData\\Local\\Programs\\Python\\Python38\\lib\\site-packages\\lightgbm\\engine.py:239: UserWarning: 'verbose_eval' argument is deprecated and will be removed in a future release of LightGBM. Pass 'log_evaluation()' callback via 'callbacks' argument instead.\n",
            "  _log_warning(\"'verbose_eval' argument is deprecated and will be removed in a future release of LightGBM. \"\n",
            "feature_fraction, val_score: 0.865304:  57%|#####7    | 4/7 [00:00<00:00,  4.95it/s][I 2023-07-04 00:24:14,637] Trial 3 finished with value: 0.8653039832285115 and parameters: {'feature_fraction': 0.4}. Best is trial 1 with value: 0.8653039832285115.\n",
            "feature_fraction, val_score: 0.865304:  57%|#####7    | 4/7 [00:00<00:00,  4.95it/s]c:\\Users\\daich\\AppData\\Local\\Programs\\Python\\Python38\\lib\\site-packages\\lightgbm\\engine.py:239: UserWarning: 'verbose_eval' argument is deprecated and will be removed in a future release of LightGBM. Pass 'log_evaluation()' callback via 'callbacks' argument instead.\n",
            "  _log_warning(\"'verbose_eval' argument is deprecated and will be removed in a future release of LightGBM. \"\n"
          ]
        },
        {
          "name": "stdout",
          "output_type": "stream",
          "text": [
            "[30]\tvalid_0's auc: 0.864309\tvalid_1's auc: 0.862421\n",
            "[40]\tvalid_0's auc: 0.86559\tvalid_1's auc: 0.855608\n",
            "[50]\tvalid_0's auc: 0.866082\tvalid_1's auc: 0.857442\n",
            "[60]\tvalid_0's auc: 0.865491\tvalid_1's auc: 0.859015\n",
            "Early stopping, best iteration is:\n",
            "[19]\tvalid_0's auc: 0.869792\tvalid_1's auc: 0.865304\n",
            "[10]\tvalid_0's auc: 0.861125\tvalid_1's auc: 0.847222\n",
            "[20]\tvalid_0's auc: 0.862093\tvalid_1's auc: 0.860063\n",
            "[30]\tvalid_0's auc: 0.861223\tvalid_1's auc: 0.861111\n",
            "[40]\tvalid_0's auc: 0.865229\tvalid_1's auc: 0.859801\n"
          ]
        },
        {
          "name": "stderr",
          "output_type": "stream",
          "text": [
            "feature_fraction, val_score: 0.865304:  71%|#######1  | 5/7 [00:01<00:00,  4.92it/s][I 2023-07-04 00:24:14,843] Trial 4 finished with value: 0.8653039832285115 and parameters: {'feature_fraction': 0.7}. Best is trial 1 with value: 0.8653039832285115.\n",
            "feature_fraction, val_score: 0.865304:  71%|#######1  | 5/7 [00:01<00:00,  4.92it/s]"
          ]
        },
        {
          "name": "stdout",
          "output_type": "stream",
          "text": [
            "[50]\tvalid_0's auc: 0.866985\tvalid_1's auc: 0.857966\n",
            "[60]\tvalid_0's auc: 0.868052\tvalid_1's auc: 0.859539\n",
            "Early stopping, best iteration is:\n",
            "[19]\tvalid_0's auc: 0.869792\tvalid_1's auc: 0.865304\n",
            "[10]\tvalid_0's auc: 0.867609\tvalid_1's auc: 0.852987\n",
            "[20]\tvalid_0's auc: 0.869152\tvalid_1's auc: 0.850891\n",
            "[30]\tvalid_0's auc: 0.86234\tvalid_1's auc: 0.850891\n",
            "[40]\tvalid_0's auc: 0.86426\tvalid_1's auc: 0.855084\n",
            "[50]\tvalid_0's auc: 0.865672\tvalid_1's auc: 0.851939\n"
          ]
        },
        {
          "name": "stderr",
          "output_type": "stream",
          "text": [
            "c:\\Users\\daich\\AppData\\Local\\Programs\\Python\\Python38\\lib\\site-packages\\lightgbm\\engine.py:239: UserWarning: 'verbose_eval' argument is deprecated and will be removed in a future release of LightGBM. Pass 'log_evaluation()' callback via 'callbacks' argument instead.\n",
            "  _log_warning(\"'verbose_eval' argument is deprecated and will be removed in a future release of LightGBM. \"\n",
            "feature_fraction, val_score: 0.865304:  86%|########5 | 6/7 [00:01<00:00,  4.87it/s][I 2023-07-04 00:24:15,052] Trial 5 finished with value: 0.8582285115303984 and parameters: {'feature_fraction': 0.8999999999999999}. Best is trial 1 with value: 0.8653039832285115.\n",
            "feature_fraction, val_score: 0.865304:  86%|########5 | 6/7 [00:01<00:00,  4.87it/s]"
          ]
        },
        {
          "name": "stdout",
          "output_type": "stream",
          "text": [
            "[60]\tvalid_0's auc: 0.865803\tvalid_1's auc: 0.857442\n",
            "Early stopping, best iteration is:\n",
            "[18]\tvalid_0's auc: 0.87017\tvalid_1's auc: 0.858229\n",
            "[10]\tvalid_0's auc: 0.867609\tvalid_1's auc: 0.852987\n",
            "[20]\tvalid_0's auc: 0.869152\tvalid_1's auc: 0.850891\n",
            "[30]\tvalid_0's auc: 0.86234\tvalid_1's auc: 0.850891\n",
            "[40]\tvalid_0's auc: 0.86426\tvalid_1's auc: 0.855084\n",
            "[50]\tvalid_0's auc: 0.865672\tvalid_1's auc: 0.851939\n"
          ]
        },
        {
          "name": "stderr",
          "output_type": "stream",
          "text": [
            "c:\\Users\\daich\\AppData\\Local\\Programs\\Python\\Python38\\lib\\site-packages\\lightgbm\\engine.py:239: UserWarning: 'verbose_eval' argument is deprecated and will be removed in a future release of LightGBM. Pass 'log_evaluation()' callback via 'callbacks' argument instead.\n",
            "  _log_warning(\"'verbose_eval' argument is deprecated and will be removed in a future release of LightGBM. \"\n",
            "feature_fraction, val_score: 0.865304: 100%|##########| 7/7 [00:01<00:00,  4.80it/s][I 2023-07-04 00:24:15,267] Trial 6 finished with value: 0.8582285115303984 and parameters: {'feature_fraction': 0.8}. Best is trial 1 with value: 0.8653039832285115.\n",
            "feature_fraction, val_score: 0.865304: 100%|##########| 7/7 [00:01<00:00,  4.77it/s]\n"
          ]
        },
        {
          "name": "stdout",
          "output_type": "stream",
          "text": [
            "[60]\tvalid_0's auc: 0.865803\tvalid_1's auc: 0.857442\n",
            "Early stopping, best iteration is:\n",
            "[18]\tvalid_0's auc: 0.87017\tvalid_1's auc: 0.858229\n"
          ]
        },
        {
          "name": "stderr",
          "output_type": "stream",
          "text": [
            "num_leaves, val_score: 0.865304:   0%|          | 0/20 [00:00<?, ?it/s]c:\\Users\\daich\\AppData\\Local\\Programs\\Python\\Python38\\lib\\site-packages\\lightgbm\\engine.py:239: UserWarning: 'verbose_eval' argument is deprecated and will be removed in a future release of LightGBM. Pass 'log_evaluation()' callback via 'callbacks' argument instead.\n",
            "  _log_warning(\"'verbose_eval' argument is deprecated and will be removed in a future release of LightGBM. \"\n",
            "num_leaves, val_score: 0.865304:   0%|          | 0/20 [00:00<?, ?it/s]"
          ]
        },
        {
          "name": "stdout",
          "output_type": "stream",
          "text": [
            "[10]\tvalid_0's auc: 0.8562\tvalid_1's auc: 0.846436\n",
            "[20]\tvalid_0's auc: 0.869103\tvalid_1's auc: 0.865304\n",
            "[30]\tvalid_0's auc: 0.863538\tvalid_1's auc: 0.865828\n",
            "[40]\tvalid_0's auc: 0.866132\tvalid_1's auc: 0.861897\n",
            "[50]\tvalid_0's auc: 0.867445\tvalid_1's auc: 0.861897\n",
            "[60]\tvalid_0's auc: 0.8671\tvalid_1's auc: 0.862421\n",
            "Early stopping, best iteration is:\n",
            "[18]\tvalid_0's auc: 0.87017\tvalid_1's auc: 0.858229\n"
          ]
        },
        {
          "name": "stderr",
          "output_type": "stream",
          "text": [
            "num_leaves, val_score: 0.865304:   5%|5         | 1/20 [00:00<00:03,  5.70it/s][I 2023-07-04 00:24:15,446] Trial 7 finished with value: 0.8582285115303984 and parameters: {'num_leaves': 40}. Best is trial 7 with value: 0.8582285115303984.\n",
            "num_leaves, val_score: 0.865304:   5%|5         | 1/20 [00:00<00:03,  5.70it/s]c:\\Users\\daich\\AppData\\Local\\Programs\\Python\\Python38\\lib\\site-packages\\lightgbm\\engine.py:239: UserWarning: 'verbose_eval' argument is deprecated and will be removed in a future release of LightGBM. Pass 'log_evaluation()' callback via 'callbacks' argument instead.\n",
            "  _log_warning(\"'verbose_eval' argument is deprecated and will be removed in a future release of LightGBM. \"\n"
          ]
        },
        {
          "name": "stdout",
          "output_type": "stream",
          "text": [
            "[10]\tvalid_0's auc: 0.8562\tvalid_1's auc: 0.846436"
          ]
        },
        {
          "name": "stderr",
          "output_type": "stream",
          "text": [
            "num_leaves, val_score: 0.865304:  10%|#         | 2/20 [00:00<00:03,  5.26it/s][I 2023-07-04 00:24:15,646] Trial 8 finished with value: 0.8582285115303984 and parameters: {'num_leaves': 149}. Best is trial 7 with value: 0.8582285115303984.\n",
            "num_leaves, val_score: 0.865304:  10%|#         | 2/20 [00:00<00:03,  5.26it/s]"
          ]
        },
        {
          "name": "stdout",
          "output_type": "stream",
          "text": [
            "\n",
            "[20]\tvalid_0's auc: 0.869103\tvalid_1's auc: 0.865304\n",
            "[30]\tvalid_0's auc: 0.863538\tvalid_1's auc: 0.865828\n",
            "[40]\tvalid_0's auc: 0.866132\tvalid_1's auc: 0.861897\n",
            "[50]\tvalid_0's auc: 0.867445\tvalid_1's auc: 0.861897\n",
            "[60]\tvalid_0's auc: 0.8671\tvalid_1's auc: 0.862421\n",
            "Early stopping, best iteration is:\n",
            "[18]\tvalid_0's auc: 0.87017\tvalid_1's auc: 0.858229\n",
            "[10]\tvalid_0's auc: 0.8562\tvalid_1's auc: 0.846436\n",
            "[20]\tvalid_0's auc: 0.869103\tvalid_1's auc: 0.865304\n"
          ]
        },
        {
          "name": "stderr",
          "output_type": "stream",
          "text": [
            "c:\\Users\\daich\\AppData\\Local\\Programs\\Python\\Python38\\lib\\site-packages\\lightgbm\\engine.py:239: UserWarning: 'verbose_eval' argument is deprecated and will be removed in a future release of LightGBM. Pass 'log_evaluation()' callback via 'callbacks' argument instead.\n",
            "  _log_warning(\"'verbose_eval' argument is deprecated and will be removed in a future release of LightGBM. \"\n",
            "num_leaves, val_score: 0.865304:  15%|#5        | 3/20 [00:00<00:03,  5.28it/s][I 2023-07-04 00:24:15,835] Trial 9 finished with value: 0.8582285115303984 and parameters: {'num_leaves': 237}. Best is trial 7 with value: 0.8582285115303984.\n",
            "num_leaves, val_score: 0.865304:  15%|#5        | 3/20 [00:00<00:03,  5.28it/s]"
          ]
        },
        {
          "name": "stdout",
          "output_type": "stream",
          "text": [
            "[30]\tvalid_0's auc: 0.863538\tvalid_1's auc: 0.865828\n",
            "[40]\tvalid_0's auc: 0.866132\tvalid_1's auc: 0.861897\n",
            "[50]\tvalid_0's auc: 0.867445\tvalid_1's auc: 0.861897\n",
            "[60]\tvalid_0's auc: 0.8671\tvalid_1's auc: 0.862421\n",
            "Early stopping, best iteration is:\n",
            "[18]\tvalid_0's auc: 0.87017\tvalid_1's auc: 0.858229\n",
            "[10]\tvalid_0's auc: 0.8562\tvalid_1's auc: 0.846436\n",
            "[20]\tvalid_0's auc: 0.869103\tvalid_1's auc: 0.865304\n"
          ]
        },
        {
          "name": "stderr",
          "output_type": "stream",
          "text": [
            "c:\\Users\\daich\\AppData\\Local\\Programs\\Python\\Python38\\lib\\site-packages\\lightgbm\\engine.py:239: UserWarning: 'verbose_eval' argument is deprecated and will be removed in a future release of LightGBM. Pass 'log_evaluation()' callback via 'callbacks' argument instead.\n",
            "  _log_warning(\"'verbose_eval' argument is deprecated and will be removed in a future release of LightGBM. \"\n",
            "num_leaves, val_score: 0.865304:  20%|##        | 4/20 [00:00<00:03,  5.10it/s][I 2023-07-04 00:24:16,041] Trial 10 finished with value: 0.8582285115303984 and parameters: {'num_leaves': 21}. Best is trial 7 with value: 0.8582285115303984.\n",
            "num_leaves, val_score: 0.865304:  20%|##        | 4/20 [00:00<00:03,  5.10it/s]"
          ]
        },
        {
          "name": "stdout",
          "output_type": "stream",
          "text": [
            "[30]\tvalid_0's auc: 0.863538\tvalid_1's auc: 0.865828\n",
            "[40]\tvalid_0's auc: 0.866132\tvalid_1's auc: 0.861897\n",
            "[50]\tvalid_0's auc: 0.867445\tvalid_1's auc: 0.861897\n",
            "[60]\tvalid_0's auc: 0.8671\tvalid_1's auc: 0.862421\n",
            "Early stopping, best iteration is:\n",
            "[18]\tvalid_0's auc: 0.87017\tvalid_1's auc: 0.858229\n",
            "[10]\tvalid_0's auc: 0.8562\tvalid_1's auc: 0.846436\n",
            "[20]\tvalid_0's auc: 0.869103\tvalid_1's auc: 0.865304\n",
            "[30]\tvalid_0's auc: 0.863538\tvalid_1's auc: 0.865828\n",
            "[40]\tvalid_0's auc: 0.866132\tvalid_1's auc: 0.861897\n",
            "[50]\tvalid_0's auc: 0.867445\tvalid_1's auc: 0.861897\n",
            "[60]\tvalid_0's auc: 0.8671\tvalid_1's auc: 0.862421\n",
            "Early stopping, best iteration is:\n",
            "[18]\tvalid_0's auc: 0.87017\tvalid_1's auc: 0.858229\n"
          ]
        },
        {
          "name": "stderr",
          "output_type": "stream",
          "text": [
            "c:\\Users\\daich\\AppData\\Local\\Programs\\Python\\Python38\\lib\\site-packages\\lightgbm\\engine.py:239: UserWarning: 'verbose_eval' argument is deprecated and will be removed in a future release of LightGBM. Pass 'log_evaluation()' callback via 'callbacks' argument instead.\n",
            "  _log_warning(\"'verbose_eval' argument is deprecated and will be removed in a future release of LightGBM. \"\n",
            "num_leaves, val_score: 0.865304:  25%|##5       | 5/20 [00:00<00:02,  5.12it/s][I 2023-07-04 00:24:16,235] Trial 11 finished with value: 0.8582285115303984 and parameters: {'num_leaves': 228}. Best is trial 7 with value: 0.8582285115303984.\n",
            "num_leaves, val_score: 0.865304:  25%|##5       | 5/20 [00:00<00:02,  5.12it/s]c:\\Users\\daich\\AppData\\Local\\Programs\\Python\\Python38\\lib\\site-packages\\lightgbm\\engine.py:239: UserWarning: 'verbose_eval' argument is deprecated and will be removed in a future release of LightGBM. Pass 'log_evaluation()' callback via 'callbacks' argument instead.\n",
            "  _log_warning(\"'verbose_eval' argument is deprecated and will be removed in a future release of LightGBM. \"\n",
            "num_leaves, val_score: 0.865304:  30%|###       | 6/20 [00:01<00:02,  5.01it/s][I 2023-07-04 00:24:16,442] Trial 12 finished with value: 0.8582285115303984 and parameters: {'num_leaves': 108}. Best is trial 7 with value: 0.8582285115303984.\n",
            "num_leaves, val_score: 0.865304:  30%|###       | 6/20 [00:01<00:02,  5.01it/s]"
          ]
        },
        {
          "name": "stdout",
          "output_type": "stream",
          "text": [
            "[10]\tvalid_0's auc: 0.8562\tvalid_1's auc: 0.846436\n",
            "[20]\tvalid_0's auc: 0.869103\tvalid_1's auc: 0.865304\n",
            "[30]\tvalid_0's auc: 0.863538\tvalid_1's auc: 0.865828\n",
            "[40]\tvalid_0's auc: 0.866132\tvalid_1's auc: 0.861897\n",
            "[50]\tvalid_0's auc: 0.867445\tvalid_1's auc: 0.861897\n",
            "[60]\tvalid_0's auc: 0.8671\tvalid_1's auc: 0.862421\n",
            "Early stopping, best iteration is:\n",
            "[18]\tvalid_0's auc: 0.87017\tvalid_1's auc: 0.858229\n",
            "[10]\tvalid_0's auc: 0.8562\tvalid_1's auc: 0.846436\n"
          ]
        },
        {
          "name": "stderr",
          "output_type": "stream",
          "text": [
            "c:\\Users\\daich\\AppData\\Local\\Programs\\Python\\Python38\\lib\\site-packages\\lightgbm\\engine.py:239: UserWarning: 'verbose_eval' argument is deprecated and will be removed in a future release of LightGBM. Pass 'log_evaluation()' callback via 'callbacks' argument instead.\n",
            "  _log_warning(\"'verbose_eval' argument is deprecated and will be removed in a future release of LightGBM. \"\n",
            "num_leaves, val_score: 0.865304:  35%|###5      | 7/20 [00:01<00:02,  5.02it/s][I 2023-07-04 00:24:16,641] Trial 13 finished with value: 0.8582285115303984 and parameters: {'num_leaves': 150}. Best is trial 7 with value: 0.8582285115303984.\n",
            "num_leaves, val_score: 0.865304:  35%|###5      | 7/20 [00:01<00:02,  5.02it/s]"
          ]
        },
        {
          "name": "stdout",
          "output_type": "stream",
          "text": [
            "[20]\tvalid_0's auc: 0.869103\tvalid_1's auc: 0.865304\n",
            "[30]\tvalid_0's auc: 0.863538\tvalid_1's auc: 0.865828\n",
            "[40]\tvalid_0's auc: 0.866132\tvalid_1's auc: 0.861897\n",
            "[50]\tvalid_0's auc: 0.867445\tvalid_1's auc: 0.861897\n",
            "[60]\tvalid_0's auc: 0.8671\tvalid_1's auc: 0.862421\n",
            "Early stopping, best iteration is:\n",
            "[18]\tvalid_0's auc: 0.87017\tvalid_1's auc: 0.858229\n"
          ]
        },
        {
          "name": "stderr",
          "output_type": "stream",
          "text": [
            "c:\\Users\\daich\\AppData\\Local\\Programs\\Python\\Python38\\lib\\site-packages\\lightgbm\\engine.py:239: UserWarning: 'verbose_eval' argument is deprecated and will be removed in a future release of LightGBM. Pass 'log_evaluation()' callback via 'callbacks' argument instead.\n",
            "  _log_warning(\"'verbose_eval' argument is deprecated and will be removed in a future release of LightGBM. \"\n",
            "num_leaves, val_score: 0.865304:  40%|####      | 8/20 [00:01<00:02,  4.63it/s][I 2023-07-04 00:24:16,894] Trial 14 finished with value: 0.8582285115303984 and parameters: {'num_leaves': 82}. Best is trial 7 with value: 0.8582285115303984.\n",
            "num_leaves, val_score: 0.865304:  40%|####      | 8/20 [00:01<00:02,  4.63it/s]"
          ]
        },
        {
          "name": "stdout",
          "output_type": "stream",
          "text": [
            "[10]\tvalid_0's auc: 0.8562\tvalid_1's auc: 0.846436\n",
            "[20]\tvalid_0's auc: 0.869103\tvalid_1's auc: 0.865304\n",
            "[30]\tvalid_0's auc: 0.863538\tvalid_1's auc: 0.865828\n",
            "[40]\tvalid_0's auc: 0.866132\tvalid_1's auc: 0.861897\n",
            "[50]\tvalid_0's auc: 0.867445\tvalid_1's auc: 0.861897\n",
            "[60]\tvalid_0's auc: 0.8671\tvalid_1's auc: 0.862421\n",
            "Early stopping, best iteration is:\n",
            "[18]\tvalid_0's auc: 0.87017\tvalid_1's auc: 0.858229\n"
          ]
        },
        {
          "name": "stderr",
          "output_type": "stream",
          "text": [
            "c:\\Users\\daich\\AppData\\Local\\Programs\\Python\\Python38\\lib\\site-packages\\lightgbm\\engine.py:239: UserWarning: 'verbose_eval' argument is deprecated and will be removed in a future release of LightGBM. Pass 'log_evaluation()' callback via 'callbacks' argument instead.\n",
            "  _log_warning(\"'verbose_eval' argument is deprecated and will be removed in a future release of LightGBM. \"\n",
            "num_leaves, val_score: 0.865304:  45%|####5     | 9/20 [00:01<00:02,  4.75it/s][I 2023-07-04 00:24:17,092] Trial 15 finished with value: 0.8582285115303984 and parameters: {'num_leaves': 182}. Best is trial 7 with value: 0.8582285115303984.\n",
            "num_leaves, val_score: 0.865304:  45%|####5     | 9/20 [00:01<00:02,  4.75it/s]"
          ]
        },
        {
          "name": "stdout",
          "output_type": "stream",
          "text": [
            "[10]\tvalid_0's auc: 0.8562\tvalid_1's auc: 0.846436\n",
            "[20]\tvalid_0's auc: 0.869103\tvalid_1's auc: 0.865304\n",
            "[30]\tvalid_0's auc: 0.863538\tvalid_1's auc: 0.865828\n",
            "[40]\tvalid_0's auc: 0.866132\tvalid_1's auc: 0.861897\n",
            "[50]\tvalid_0's auc: 0.867445\tvalid_1's auc: 0.861897\n",
            "[60]\tvalid_0's auc: 0.8671\tvalid_1's auc: 0.862421\n",
            "Early stopping, best iteration is:\n",
            "[18]\tvalid_0's auc: 0.87017\tvalid_1's auc: 0.858229\n",
            "[10]\tvalid_0's auc: 0.8562\tvalid_1's auc: 0.846436\n",
            "[20]\tvalid_0's auc: 0.869103\tvalid_1's auc: 0.865304\n"
          ]
        },
        {
          "name": "stderr",
          "output_type": "stream",
          "text": [
            "c:\\Users\\daich\\AppData\\Local\\Programs\\Python\\Python38\\lib\\site-packages\\lightgbm\\engine.py:239: UserWarning: 'verbose_eval' argument is deprecated and will be removed in a future release of LightGBM. Pass 'log_evaluation()' callback via 'callbacks' argument instead.\n",
            "  _log_warning(\"'verbose_eval' argument is deprecated and will be removed in a future release of LightGBM. \"\n",
            "num_leaves, val_score: 0.865304:  50%|#####     | 10/20 [00:02<00:02,  4.91it/s][I 2023-07-04 00:24:17,281] Trial 16 finished with value: 0.8582285115303984 and parameters: {'num_leaves': 75}. Best is trial 7 with value: 0.8582285115303984.\n",
            "num_leaves, val_score: 0.865304:  50%|#####     | 10/20 [00:02<00:02,  4.91it/s]"
          ]
        },
        {
          "name": "stdout",
          "output_type": "stream",
          "text": [
            "[30]\tvalid_0's auc: 0.863538\tvalid_1's auc: 0.865828\n",
            "[40]\tvalid_0's auc: 0.866132\tvalid_1's auc: 0.861897\n",
            "[50]\tvalid_0's auc: 0.867445\tvalid_1's auc: 0.861897\n",
            "[60]\tvalid_0's auc: 0.8671\tvalid_1's auc: 0.862421\n",
            "Early stopping, best iteration is:\n",
            "[18]\tvalid_0's auc: 0.87017\tvalid_1's auc: 0.858229\n",
            "[10]\tvalid_0's auc: 0.8562\tvalid_1's auc: 0.846436\n",
            "[20]\tvalid_0's auc: 0.869103\tvalid_1's auc: 0.865304\n",
            "[30]\tvalid_0's auc: 0.863538\tvalid_1's auc: 0.865828\n",
            "[40]\tvalid_0's auc: 0.866132\tvalid_1's auc: 0.861897\n"
          ]
        },
        {
          "name": "stderr",
          "output_type": "stream",
          "text": [
            "c:\\Users\\daich\\AppData\\Local\\Programs\\Python\\Python38\\lib\\site-packages\\lightgbm\\engine.py:239: UserWarning: 'verbose_eval' argument is deprecated and will be removed in a future release of LightGBM. Pass 'log_evaluation()' callback via 'callbacks' argument instead.\n",
            "  _log_warning(\"'verbose_eval' argument is deprecated and will be removed in a future release of LightGBM. \"\n",
            "num_leaves, val_score: 0.865304:  55%|#####5    | 11/20 [00:02<00:01,  5.01it/s][I 2023-07-04 00:24:17,471] Trial 17 finished with value: 0.8582285115303984 and parameters: {'num_leaves': 193}. Best is trial 7 with value: 0.8582285115303984.\n",
            "num_leaves, val_score: 0.865304:  55%|#####5    | 11/20 [00:02<00:01,  5.01it/s]"
          ]
        },
        {
          "name": "stdout",
          "output_type": "stream",
          "text": [
            "[50]\tvalid_0's auc: 0.867445\tvalid_1's auc: 0.861897\n",
            "[60]\tvalid_0's auc: 0.8671\tvalid_1's auc: 0.862421\n",
            "Early stopping, best iteration is:\n",
            "[18]\tvalid_0's auc: 0.87017\tvalid_1's auc: 0.858229\n",
            "[10]\tvalid_0's auc: 0.8562\tvalid_1's auc: 0.846436\n",
            "[20]\tvalid_0's auc: 0.869103\tvalid_1's auc: 0.865304\n",
            "[30]\tvalid_0's auc: 0.863538\tvalid_1's auc: 0.865828\n",
            "[40]\tvalid_0's auc: 0.866132\tvalid_1's auc: 0.861897\n",
            "[50]\tvalid_0's auc: 0.867445\tvalid_1's auc: 0.861897\n",
            "[60]\tvalid_0's auc: 0.8671\tvalid_1's auc: 0.862421\n",
            "Early stopping, best iteration is:\n",
            "[18]\tvalid_0's auc: 0.87017\tvalid_1's auc: 0.858229\n"
          ]
        },
        {
          "name": "stderr",
          "output_type": "stream",
          "text": [
            "c:\\Users\\daich\\AppData\\Local\\Programs\\Python\\Python38\\lib\\site-packages\\lightgbm\\engine.py:239: UserWarning: 'verbose_eval' argument is deprecated and will be removed in a future release of LightGBM. Pass 'log_evaluation()' callback via 'callbacks' argument instead.\n",
            "  _log_warning(\"'verbose_eval' argument is deprecated and will be removed in a future release of LightGBM. \"\n",
            "num_leaves, val_score: 0.865304:  60%|######    | 12/20 [00:02<00:01,  5.12it/s][I 2023-07-04 00:24:17,656] Trial 18 finished with value: 0.8582285115303984 and parameters: {'num_leaves': 10}. Best is trial 7 with value: 0.8582285115303984.\n",
            "num_leaves, val_score: 0.865304:  60%|######    | 12/20 [00:02<00:01,  5.12it/s]c:\\Users\\daich\\AppData\\Local\\Programs\\Python\\Python38\\lib\\site-packages\\lightgbm\\engine.py:239: UserWarning: 'verbose_eval' argument is deprecated and will be removed in a future release of LightGBM. Pass 'log_evaluation()' callback via 'callbacks' argument instead.\n",
            "  _log_warning(\"'verbose_eval' argument is deprecated and will be removed in a future release of LightGBM. \"\n",
            "num_leaves, val_score: 0.865304:  65%|######5   | 13/20 [00:02<00:01,  5.12it/s][I 2023-07-04 00:24:17,852] Trial 19 finished with value: 0.8582285115303984 and parameters: {'num_leaves': 252}. Best is trial 7 with value: 0.8582285115303984.\n",
            "num_leaves, val_score: 0.865304:  65%|######5   | 13/20 [00:02<00:01,  5.12it/s]"
          ]
        },
        {
          "name": "stdout",
          "output_type": "stream",
          "text": [
            "[10]\tvalid_0's auc: 0.8562\tvalid_1's auc: 0.846436\n",
            "[20]\tvalid_0's auc: 0.869103\tvalid_1's auc: 0.865304\n",
            "[30]\tvalid_0's auc: 0.863538\tvalid_1's auc: 0.865828\n",
            "[40]\tvalid_0's auc: 0.866132\tvalid_1's auc: 0.861897\n",
            "[50]\tvalid_0's auc: 0.867445\tvalid_1's auc: 0.861897\n",
            "[60]\tvalid_0's auc: 0.8671\tvalid_1's auc: 0.862421\n",
            "Early stopping, best iteration is:\n",
            "[18]\tvalid_0's auc: 0.87017\tvalid_1's auc: 0.858229\n",
            "[10]\tvalid_0's auc: 0.8562\tvalid_1's auc: 0.846436\n",
            "[20]\tvalid_0's auc: 0.869103\tvalid_1's auc: 0.865304\n"
          ]
        },
        {
          "name": "stderr",
          "output_type": "stream",
          "text": [
            "c:\\Users\\daich\\AppData\\Local\\Programs\\Python\\Python38\\lib\\site-packages\\lightgbm\\engine.py:239: UserWarning: 'verbose_eval' argument is deprecated and will be removed in a future release of LightGBM. Pass 'log_evaluation()' callback via 'callbacks' argument instead.\n",
            "  _log_warning(\"'verbose_eval' argument is deprecated and will be removed in a future release of LightGBM. \"\n",
            "num_leaves, val_score: 0.865304:  70%|#######   | 14/20 [00:02<00:01,  5.07it/s][I 2023-07-04 00:24:18,052] Trial 20 finished with value: 0.8582285115303984 and parameters: {'num_leaves': 60}. Best is trial 7 with value: 0.8582285115303984.\n",
            "num_leaves, val_score: 0.865304:  70%|#######   | 14/20 [00:02<00:01,  5.07it/s]"
          ]
        },
        {
          "name": "stdout",
          "output_type": "stream",
          "text": [
            "[30]\tvalid_0's auc: 0.863538\tvalid_1's auc: 0.865828\n",
            "[40]\tvalid_0's auc: 0.866132\tvalid_1's auc: 0.861897\n",
            "[50]\tvalid_0's auc: 0.867445\tvalid_1's auc: 0.861897\n",
            "[60]\tvalid_0's auc: 0.8671\tvalid_1's auc: 0.862421\n",
            "Early stopping, best iteration is:\n",
            "[18]\tvalid_0's auc: 0.87017\tvalid_1's auc: 0.858229\n",
            "[10]\tvalid_0's auc: 0.8562\tvalid_1's auc: 0.846436\n",
            "[20]\tvalid_0's auc: 0.869103\tvalid_1's auc: 0.865304\n",
            "[30]\tvalid_0's auc: 0.863538\tvalid_1's auc: 0.865828\n"
          ]
        },
        {
          "name": "stderr",
          "output_type": "stream",
          "text": [
            "c:\\Users\\daich\\AppData\\Local\\Programs\\Python\\Python38\\lib\\site-packages\\lightgbm\\engine.py:239: UserWarning: 'verbose_eval' argument is deprecated and will be removed in a future release of LightGBM. Pass 'log_evaluation()' callback via 'callbacks' argument instead.\n",
            "  _log_warning(\"'verbose_eval' argument is deprecated and will be removed in a future release of LightGBM. \"\n",
            "num_leaves, val_score: 0.865304:  75%|#######5  | 15/20 [00:02<00:01,  4.99it/s][I 2023-07-04 00:24:18,261] Trial 21 finished with value: 0.8582285115303984 and parameters: {'num_leaves': 110}. Best is trial 7 with value: 0.8582285115303984.\n",
            "num_leaves, val_score: 0.865304:  75%|#######5  | 15/20 [00:02<00:01,  4.99it/s]"
          ]
        },
        {
          "name": "stdout",
          "output_type": "stream",
          "text": [
            "[40]\tvalid_0's auc: 0.866132\tvalid_1's auc: 0.861897\n",
            "[50]\tvalid_0's auc: 0.867445\tvalid_1's auc: 0.861897\n",
            "[60]\tvalid_0's auc: 0.8671\tvalid_1's auc: 0.862421\n",
            "Early stopping, best iteration is:\n",
            "[18]\tvalid_0's auc: 0.87017\tvalid_1's auc: 0.858229\n",
            "[10]\tvalid_0's auc: 0.8562\tvalid_1's auc: 0.846436\n",
            "[20]\tvalid_0's auc: 0.869103\tvalid_1's auc: 0.865304\n"
          ]
        },
        {
          "name": "stderr",
          "output_type": "stream",
          "text": [
            "c:\\Users\\daich\\AppData\\Local\\Programs\\Python\\Python38\\lib\\site-packages\\lightgbm\\engine.py:239: UserWarning: 'verbose_eval' argument is deprecated and will be removed in a future release of LightGBM. Pass 'log_evaluation()' callback via 'callbacks' argument instead.\n",
            "  _log_warning(\"'verbose_eval' argument is deprecated and will be removed in a future release of LightGBM. \"\n",
            "num_leaves, val_score: 0.865304:  80%|########  | 16/20 [00:03<00:00,  4.92it/s][I 2023-07-04 00:24:18,470] Trial 22 finished with value: 0.8582285115303984 and parameters: {'num_leaves': 199}. Best is trial 7 with value: 0.8582285115303984.\n",
            "num_leaves, val_score: 0.865304:  80%|########  | 16/20 [00:03<00:00,  4.92it/s]"
          ]
        },
        {
          "name": "stdout",
          "output_type": "stream",
          "text": [
            "[30]\tvalid_0's auc: 0.863538\tvalid_1's auc: 0.865828\n",
            "[40]\tvalid_0's auc: 0.866132\tvalid_1's auc: 0.861897\n",
            "[50]\tvalid_0's auc: 0.867445\tvalid_1's auc: 0.861897\n",
            "[60]\tvalid_0's auc: 0.8671\tvalid_1's auc: 0.862421\n",
            "Early stopping, best iteration is:\n",
            "[18]\tvalid_0's auc: 0.87017\tvalid_1's auc: 0.858229\n",
            "[10]\tvalid_0's auc: 0.8562\tvalid_1's auc: 0.846436\n",
            "[20]\tvalid_0's auc: 0.869103\tvalid_1's auc: 0.865304\n",
            "[30]\tvalid_0's auc: 0.863538\tvalid_1's auc: 0.865828\n",
            "[40]\tvalid_0's auc: 0.866132\tvalid_1's auc: 0.861897\n"
          ]
        },
        {
          "name": "stderr",
          "output_type": "stream",
          "text": [
            "c:\\Users\\daich\\AppData\\Local\\Programs\\Python\\Python38\\lib\\site-packages\\lightgbm\\engine.py:239: UserWarning: 'verbose_eval' argument is deprecated and will be removed in a future release of LightGBM. Pass 'log_evaluation()' callback via 'callbacks' argument instead.\n",
            "  _log_warning(\"'verbose_eval' argument is deprecated and will be removed in a future release of LightGBM. \"\n",
            "num_leaves, val_score: 0.865304:  85%|########5 | 17/20 [00:03<00:00,  5.01it/s][I 2023-07-04 00:24:18,662] Trial 23 finished with value: 0.8582285115303984 and parameters: {'num_leaves': 156}. Best is trial 7 with value: 0.8582285115303984.\n",
            "num_leaves, val_score: 0.865304:  85%|########5 | 17/20 [00:03<00:00,  5.01it/s]"
          ]
        },
        {
          "name": "stdout",
          "output_type": "stream",
          "text": [
            "[50]\tvalid_0's auc: 0.867445\tvalid_1's auc: 0.861897\n",
            "[60]\tvalid_0's auc: 0.8671\tvalid_1's auc: 0.862421\n",
            "Early stopping, best iteration is:\n",
            "[18]\tvalid_0's auc: 0.87017\tvalid_1's auc: 0.858229\n",
            "[10]\tvalid_0's auc: 0.8562\tvalid_1's auc: 0.846436\n",
            "[20]\tvalid_0's auc: 0.869103\tvalid_1's auc: 0.865304\n",
            "[30]\tvalid_0's auc: 0.863538\tvalid_1's auc: 0.865828\n",
            "[40]\tvalid_0's auc: 0.866132\tvalid_1's auc: 0.861897\n",
            "[50]\tvalid_0's auc: 0.867445\tvalid_1's auc: 0.861897\n",
            "[60]\tvalid_0's auc: 0.8671\tvalid_1's auc: 0.862421\n",
            "Early stopping, best iteration is:\n",
            "[18]\tvalid_0's auc: 0.87017\tvalid_1's auc: 0.858229\n"
          ]
        },
        {
          "name": "stderr",
          "output_type": "stream",
          "text": [
            "c:\\Users\\daich\\AppData\\Local\\Programs\\Python\\Python38\\lib\\site-packages\\lightgbm\\engine.py:239: UserWarning: 'verbose_eval' argument is deprecated and will be removed in a future release of LightGBM. Pass 'log_evaluation()' callback via 'callbacks' argument instead.\n",
            "  _log_warning(\"'verbose_eval' argument is deprecated and will be removed in a future release of LightGBM. \"\n",
            "num_leaves, val_score: 0.865304:  90%|######### | 18/20 [00:03<00:00,  5.16it/s][I 2023-07-04 00:24:18,843] Trial 24 finished with value: 0.8582285115303984 and parameters: {'num_leaves': 118}. Best is trial 7 with value: 0.8582285115303984.\n",
            "num_leaves, val_score: 0.865304:  90%|######### | 18/20 [00:03<00:00,  5.16it/s]c:\\Users\\daich\\AppData\\Local\\Programs\\Python\\Python38\\lib\\site-packages\\lightgbm\\engine.py:239: UserWarning: 'verbose_eval' argument is deprecated and will be removed in a future release of LightGBM. Pass 'log_evaluation()' callback via 'callbacks' argument instead.\n",
            "  _log_warning(\"'verbose_eval' argument is deprecated and will be removed in a future release of LightGBM. \"\n",
            "num_leaves, val_score: 0.865304:  95%|#########5| 19/20 [00:03<00:00,  5.09it/s][I 2023-07-04 00:24:19,043] Trial 25 finished with value: 0.8582285115303984 and parameters: {'num_leaves': 211}. Best is trial 7 with value: 0.8582285115303984.\n",
            "num_leaves, val_score: 0.865304:  95%|#########5| 19/20 [00:03<00:00,  5.09it/s]"
          ]
        },
        {
          "name": "stdout",
          "output_type": "stream",
          "text": [
            "[10]\tvalid_0's auc: 0.8562\tvalid_1's auc: 0.846436\n",
            "[20]\tvalid_0's auc: 0.869103\tvalid_1's auc: 0.865304\n",
            "[30]\tvalid_0's auc: 0.863538\tvalid_1's auc: 0.865828\n",
            "[40]\tvalid_0's auc: 0.866132\tvalid_1's auc: 0.861897\n",
            "[50]\tvalid_0's auc: 0.867445\tvalid_1's auc: 0.861897\n",
            "[60]\tvalid_0's auc: 0.8671\tvalid_1's auc: 0.862421\n",
            "Early stopping, best iteration is:\n",
            "[18]\tvalid_0's auc: 0.87017\tvalid_1's auc: 0.858229\n",
            "[10]\tvalid_0's auc: 0.8562\tvalid_1's auc: 0.846436\n"
          ]
        },
        {
          "name": "stderr",
          "output_type": "stream",
          "text": [
            "c:\\Users\\daich\\AppData\\Local\\Programs\\Python\\Python38\\lib\\site-packages\\lightgbm\\engine.py:239: UserWarning: 'verbose_eval' argument is deprecated and will be removed in a future release of LightGBM. Pass 'log_evaluation()' callback via 'callbacks' argument instead.\n",
            "  _log_warning(\"'verbose_eval' argument is deprecated and will be removed in a future release of LightGBM. \"\n",
            "num_leaves, val_score: 0.865304: 100%|##########| 20/20 [00:03<00:00,  5.09it/s][I 2023-07-04 00:24:19,240] Trial 26 finished with value: 0.8582285115303984 and parameters: {'num_leaves': 174}. Best is trial 7 with value: 0.8582285115303984.\n",
            "num_leaves, val_score: 0.865304: 100%|##########| 20/20 [00:03<00:00,  5.04it/s]\n"
          ]
        },
        {
          "name": "stdout",
          "output_type": "stream",
          "text": [
            "[20]\tvalid_0's auc: 0.869103\tvalid_1's auc: 0.865304\n",
            "[30]\tvalid_0's auc: 0.863538\tvalid_1's auc: 0.865828\n",
            "[40]\tvalid_0's auc: 0.866132\tvalid_1's auc: 0.861897\n",
            "[50]\tvalid_0's auc: 0.867445\tvalid_1's auc: 0.861897\n",
            "[60]\tvalid_0's auc: 0.8671\tvalid_1's auc: 0.862421\n",
            "Early stopping, best iteration is:\n",
            "[18]\tvalid_0's auc: 0.87017\tvalid_1's auc: 0.858229\n"
          ]
        },
        {
          "name": "stderr",
          "output_type": "stream",
          "text": [
            "bagging, val_score: 0.865304:   0%|          | 0/10 [00:00<?, ?it/s]c:\\Users\\daich\\AppData\\Local\\Programs\\Python\\Python38\\lib\\site-packages\\lightgbm\\engine.py:239: UserWarning: 'verbose_eval' argument is deprecated and will be removed in a future release of LightGBM. Pass 'log_evaluation()' callback via 'callbacks' argument instead.\n",
            "  _log_warning(\"'verbose_eval' argument is deprecated and will be removed in a future release of LightGBM. \"\n",
            "bagging, val_score: 0.865304:  10%|#         | 1/10 [00:00<00:02,  4.41it/s][I 2023-07-04 00:24:19,471] Trial 27 finished with value: 0.8582285115303984 and parameters: {'bagging_fraction': 0.684627181663407, 'bagging_freq': 6}. Best is trial 27 with value: 0.8582285115303984.\n",
            "bagging, val_score: 0.865304:  10%|#         | 1/10 [00:00<00:02,  4.41it/s]"
          ]
        },
        {
          "name": "stdout",
          "output_type": "stream",
          "text": [
            "[10]\tvalid_0's auc: 0.849815\tvalid_1's auc: 0.858753\n",
            "[20]\tvalid_0's auc: 0.857743\tvalid_1's auc: 0.836478\n",
            "[30]\tvalid_0's auc: 0.857678\tvalid_1's auc: 0.839099\n",
            "[40]\tvalid_0's auc: 0.859713\tvalid_1's auc: 0.844864\n",
            "[50]\tvalid_0's auc: 0.860403\tvalid_1's auc: 0.84565\n",
            "[60]\tvalid_0's auc: 0.861207\tvalid_1's auc: 0.847746\n",
            "Early stopping, best iteration is:\n",
            "[18]\tvalid_0's auc: 0.87017\tvalid_1's auc: 0.858229\n",
            "[10]\tvalid_0's auc: 0.858613\tvalid_1's auc: 0.85587\n",
            "[20]\tvalid_0's auc: 0.860074\tvalid_1's auc: 0.858229\n",
            "[30]\tvalid_0's auc: 0.862143\tvalid_1's auc: 0.856132\n"
          ]
        },
        {
          "name": "stderr",
          "output_type": "stream",
          "text": [
            "c:\\Users\\daich\\AppData\\Local\\Programs\\Python\\Python38\\lib\\site-packages\\lightgbm\\engine.py:239: UserWarning: 'verbose_eval' argument is deprecated and will be removed in a future release of LightGBM. Pass 'log_evaluation()' callback via 'callbacks' argument instead.\n",
            "  _log_warning(\"'verbose_eval' argument is deprecated and will be removed in a future release of LightGBM. \"\n",
            "bagging, val_score: 0.865304:  20%|##        | 2/10 [00:00<00:01,  5.17it/s][I 2023-07-04 00:24:19,641] Trial 28 finished with value: 0.8582285115303984 and parameters: {'bagging_fraction': 0.9736683519879503, 'bagging_freq': 1}. Best is trial 27 with value: 0.8582285115303984.\n",
            "bagging, val_score: 0.865304:  20%|##        | 2/10 [00:00<00:01,  5.17it/s]c:\\Users\\daich\\AppData\\Local\\Programs\\Python\\Python38\\lib\\site-packages\\lightgbm\\engine.py:239: UserWarning: 'verbose_eval' argument is deprecated and will be removed in a future release of LightGBM. Pass 'log_evaluation()' callback via 'callbacks' argument instead.\n",
            "  _log_warning(\"'verbose_eval' argument is deprecated and will be removed in a future release of LightGBM. \"\n"
          ]
        },
        {
          "name": "stdout",
          "output_type": "stream",
          "text": [
            "[40]\tvalid_0's auc: 0.862832\tvalid_1's auc: 0.855346\n",
            "[50]\tvalid_0's auc: 0.86408\tvalid_1's auc: 0.855346\n",
            "[60]\tvalid_0's auc: 0.864293\tvalid_1's auc: 0.854822\n",
            "Early stopping, best iteration is:\n",
            "[18]\tvalid_0's auc: 0.87017\tvalid_1's auc: 0.858229\n",
            "[10]\tvalid_0's auc: 0.834729\tvalid_1's auc: 0.865042\n",
            "[20]\tvalid_0's auc: 0.847943\tvalid_1's auc: 0.865566\n"
          ]
        },
        {
          "name": "stderr",
          "output_type": "stream",
          "text": [
            "bagging, val_score: 0.871855:  30%|###       | 3/10 [00:00<00:01,  4.55it/s][I 2023-07-04 00:24:19,892] Trial 29 finished with value: 0.8718553459119497 and parameters: {'bagging_fraction': 0.40377082194968655, 'bagging_freq': 2}. Best is trial 29 with value: 0.8718553459119497.\n",
            "bagging, val_score: 0.871855:  30%|###       | 3/10 [00:00<00:01,  4.55it/s]"
          ]
        },
        {
          "name": "stdout",
          "output_type": "stream",
          "text": [
            "[30]\tvalid_0's auc: 0.844529\tvalid_1's auc: 0.863208\n",
            "[40]\tvalid_0's auc: 0.843495\tvalid_1's auc: 0.866352\n",
            "[50]\tvalid_0's auc: 0.841262\tvalid_1's auc: 0.867662\n",
            "Early stopping, best iteration is:\n",
            "[5]\tvalid_0's auc: 0.830707\tvalid_1's auc: 0.871855\n",
            "[10]\tvalid_0's auc: 0.843741\tvalid_1's auc: 0.863994\n"
          ]
        },
        {
          "name": "stderr",
          "output_type": "stream",
          "text": [
            "c:\\Users\\daich\\AppData\\Local\\Programs\\Python\\Python38\\lib\\site-packages\\lightgbm\\engine.py:239: UserWarning: 'verbose_eval' argument is deprecated and will be removed in a future release of LightGBM. Pass 'log_evaluation()' callback via 'callbacks' argument instead.\n",
            "  _log_warning(\"'verbose_eval' argument is deprecated and will be removed in a future release of LightGBM. \"\n",
            "bagging, val_score: 0.872379:  40%|####      | 4/10 [00:00<00:01,  4.10it/s][I 2023-07-04 00:24:20,174] Trial 30 finished with value: 0.8723794549266247 and parameters: {'bagging_fraction': 0.4516601793342153, 'bagging_freq': 2}. Best is trial 30 with value: 0.8723794549266247.\n",
            "bagging, val_score: 0.872379:  40%|####      | 4/10 [00:00<00:01,  4.10it/s]"
          ]
        },
        {
          "name": "stdout",
          "output_type": "stream",
          "text": [
            "[20]\tvalid_0's auc: 0.847779\tvalid_1's auc: 0.871855\n",
            "[30]\tvalid_0's auc: 0.845349\tvalid_1's auc: 0.870807\n",
            "[40]\tvalid_0's auc: 0.845514\tvalid_1's auc: 0.869235\n",
            "[50]\tvalid_0's auc: 0.844069\tvalid_1's auc: 0.870283\n",
            "[60]\tvalid_0's auc: 0.844299\tvalid_1's auc: 0.870283\n",
            "Early stopping, best iteration is:\n",
            "[17]\tvalid_0's auc: 0.84883\tvalid_1's auc: 0.872379\n"
          ]
        },
        {
          "name": "stderr",
          "output_type": "stream",
          "text": [
            "c:\\Users\\daich\\AppData\\Local\\Programs\\Python\\Python38\\lib\\site-packages\\lightgbm\\engine.py:239: UserWarning: 'verbose_eval' argument is deprecated and will be removed in a future release of LightGBM. Pass 'log_evaluation()' callback via 'callbacks' argument instead.\n",
            "  _log_warning(\"'verbose_eval' argument is deprecated and will be removed in a future release of LightGBM. \"\n",
            "bagging, val_score: 0.872379:  50%|#####     | 5/10 [00:01<00:01,  3.86it/s][I 2023-07-04 00:24:20,459] Trial 31 finished with value: 0.8723794549266247 and parameters: {'bagging_fraction': 0.4006212428381832, 'bagging_freq': 2}. Best is trial 30 with value: 0.8723794549266247.\n",
            "bagging, val_score: 0.872379:  50%|#####     | 5/10 [00:01<00:01,  3.86it/s]"
          ]
        },
        {
          "name": "stdout",
          "output_type": "stream",
          "text": [
            "[10]\tvalid_0's auc: 0.835123\tvalid_1's auc: 0.865042\n",
            "[20]\tvalid_0's auc: 0.847779\tvalid_1's auc: 0.865042\n",
            "[30]\tvalid_0's auc: 0.845448\tvalid_1's auc: 0.863208\n",
            "[40]\tvalid_0's auc: 0.844512\tvalid_1's auc: 0.866876\n",
            "[50]\tvalid_0's auc: 0.841508\tvalid_1's auc: 0.868187\n",
            "[60]\tvalid_0's auc: 0.840523\tvalid_1's auc: 0.868187\n",
            "Early stopping, best iteration is:\n",
            "[17]\tvalid_0's auc: 0.84883\tvalid_1's auc: 0.872379\n"
          ]
        },
        {
          "name": "stderr",
          "output_type": "stream",
          "text": [
            "c:\\Users\\daich\\AppData\\Local\\Programs\\Python\\Python38\\lib\\site-packages\\lightgbm\\engine.py:239: UserWarning: 'verbose_eval' argument is deprecated and will be removed in a future release of LightGBM. Pass 'log_evaluation()' callback via 'callbacks' argument instead.\n",
            "  _log_warning(\"'verbose_eval' argument is deprecated and will be removed in a future release of LightGBM. \"\n",
            "bagging, val_score: 0.872379:  60%|######    | 6/10 [00:01<00:01,  3.76it/s][I 2023-07-04 00:24:20,739] Trial 32 finished with value: 0.8582285115303984 and parameters: {'bagging_fraction': 0.41036748622460817, 'bagging_freq': 2}. Best is trial 30 with value: 0.8723794549266247.\n",
            "bagging, val_score: 0.872379:  60%|######    | 6/10 [00:01<00:01,  3.76it/s]"
          ]
        },
        {
          "name": "stdout",
          "output_type": "stream",
          "text": [
            "[10]\tvalid_0's auc: 0.837716\tvalid_1's auc: 0.866876\n",
            "[20]\tvalid_0's auc: 0.844611\tvalid_1's auc: 0.868187\n",
            "[30]\tvalid_0's auc: 0.84072\tvalid_1's auc: 0.867925\n",
            "[40]\tvalid_0's auc: 0.841196\tvalid_1's auc: 0.87369\n",
            "[50]\tvalid_0's auc: 0.839686\tvalid_1's auc: 0.873166\n",
            "[60]\tvalid_0's auc: 0.83985\tvalid_1's auc: 0.872642\n",
            "Early stopping, best iteration is:\n",
            "[18]\tvalid_0's auc: 0.87017\tvalid_1's auc: 0.858229\n"
          ]
        },
        {
          "name": "stderr",
          "output_type": "stream",
          "text": [
            "c:\\Users\\daich\\AppData\\Local\\Programs\\Python\\Python38\\lib\\site-packages\\lightgbm\\engine.py:239: UserWarning: 'verbose_eval' argument is deprecated and will be removed in a future release of LightGBM. Pass 'log_evaluation()' callback via 'callbacks' argument instead.\n",
            "  _log_warning(\"'verbose_eval' argument is deprecated and will be removed in a future release of LightGBM. \"\n",
            "bagging, val_score: 0.872379:  70%|#######   | 7/10 [00:01<00:00,  3.88it/s][I 2023-07-04 00:24:20,980] Trial 33 finished with value: 0.8582285115303984 and parameters: {'bagging_fraction': 0.41151381361244643, 'bagging_freq': 3}. Best is trial 30 with value: 0.8723794549266247.\n",
            "bagging, val_score: 0.872379:  70%|#######   | 7/10 [00:01<00:00,  3.88it/s]"
          ]
        },
        {
          "name": "stdout",
          "output_type": "stream",
          "text": [
            "[10]\tvalid_0's auc: 0.837372\tvalid_1's auc: 0.856918\n",
            "[20]\tvalid_0's auc: 0.842575\tvalid_1's auc: 0.87369\n",
            "[30]\tvalid_0's auc: 0.845678\tvalid_1's auc: 0.866352\n",
            "[40]\tvalid_0's auc: 0.845546\tvalid_1's auc: 0.866876\n",
            "[50]\tvalid_0's auc: 0.843314\tvalid_1's auc: 0.866614\n",
            "[60]\tvalid_0's auc: 0.843248\tvalid_1's auc: 0.868711\n",
            "Early stopping, best iteration is:\n",
            "[18]\tvalid_0's auc: 0.87017\tvalid_1's auc: 0.858229\n"
          ]
        },
        {
          "name": "stderr",
          "output_type": "stream",
          "text": [
            "c:\\Users\\daich\\AppData\\Local\\Programs\\Python\\Python38\\lib\\site-packages\\lightgbm\\engine.py:239: UserWarning: 'verbose_eval' argument is deprecated and will be removed in a future release of LightGBM. Pass 'log_evaluation()' callback via 'callbacks' argument instead.\n",
            "  _log_warning(\"'verbose_eval' argument is deprecated and will be removed in a future release of LightGBM. \"\n",
            "bagging, val_score: 0.872379:  80%|########  | 8/10 [00:01<00:00,  3.97it/s][I 2023-07-04 00:24:21,219] Trial 34 finished with value: 0.8582285115303984 and parameters: {'bagging_fraction': 0.4004582907310651, 'bagging_freq': 3}. Best is trial 30 with value: 0.8723794549266247.\n",
            "bagging, val_score: 0.872379:  80%|########  | 8/10 [00:01<00:00,  3.97it/s]"
          ]
        },
        {
          "name": "stdout",
          "output_type": "stream",
          "text": [
            "[10]\tvalid_0's auc: 0.833038\tvalid_1's auc: 0.853774\n",
            "[20]\tvalid_0's auc: 0.839916\tvalid_1's auc: 0.865566\n",
            "[30]\tvalid_0's auc: 0.842542\tvalid_1's auc: 0.865566\n",
            "[40]\tvalid_0's auc: 0.840622\tvalid_1's auc: 0.8674\n",
            "[50]\tvalid_0's auc: 0.83944\tvalid_1's auc: 0.871331\n",
            "[60]\tvalid_0's auc: 0.840704\tvalid_1's auc: 0.872379\n",
            "Early stopping, best iteration is:\n",
            "[18]\tvalid_0's auc: 0.87017\tvalid_1's auc: 0.858229\n"
          ]
        },
        {
          "name": "stderr",
          "output_type": "stream",
          "text": [
            "c:\\Users\\daich\\AppData\\Local\\Programs\\Python\\Python38\\lib\\site-packages\\lightgbm\\engine.py:239: UserWarning: 'verbose_eval' argument is deprecated and will be removed in a future release of LightGBM. Pass 'log_evaluation()' callback via 'callbacks' argument instead.\n",
            "  _log_warning(\"'verbose_eval' argument is deprecated and will be removed in a future release of LightGBM. \"\n"
          ]
        },
        {
          "name": "stdout",
          "output_type": "stream",
          "text": [
            "[10]\tvalid_0's auc: 0.847845\tvalid_1's auc: 0.859015\n",
            "[20]\tvalid_0's auc: 0.845809\tvalid_1's auc: 0.857704\n",
            "[30]\tvalid_0's auc: 0.849191\tvalid_1's auc: 0.858229\n",
            "[40]\tvalid_0's auc: 0.848551\tvalid_1's auc: 0.863732\n",
            "[50]\tvalid_0's auc: 0.848239\tvalid_1's auc: 0.859015\n",
            "[60]\tvalid_0's auc: 0.84878\tvalid_1's auc: 0.860587\n"
          ]
        },
        {
          "name": "stderr",
          "output_type": "stream",
          "text": [
            "bagging, val_score: 0.872379:  90%|######### | 9/10 [00:02<00:00,  3.31it/s][I 2023-07-04 00:24:21,633] Trial 35 finished with value: 0.8582285115303984 and parameters: {'bagging_fraction': 0.50245727683186, 'bagging_freq': 1}. Best is trial 30 with value: 0.8723794549266247.\n",
            "bagging, val_score: 0.872379:  90%|######### | 9/10 [00:02<00:00,  3.31it/s]"
          ]
        },
        {
          "name": "stdout",
          "output_type": "stream",
          "text": [
            "Early stopping, best iteration is:\n",
            "[18]\tvalid_0's auc: 0.87017\tvalid_1's auc: 0.858229\n",
            "[10]\tvalid_0's auc: 0.84704\tvalid_1's auc: 0.853512\n",
            "[20]\tvalid_0's auc: 0.847155\tvalid_1's auc: 0.850629\n",
            "[30]\tvalid_0's auc: 0.846055\tvalid_1's auc: 0.859539\n",
            "[40]\tvalid_0's auc: 0.848288\tvalid_1's auc: 0.860587\n"
          ]
        },
        {
          "name": "stderr",
          "output_type": "stream",
          "text": [
            "c:\\Users\\daich\\AppData\\Local\\Programs\\Python\\Python38\\lib\\site-packages\\lightgbm\\engine.py:239: UserWarning: 'verbose_eval' argument is deprecated and will be removed in a future release of LightGBM. Pass 'log_evaluation()' callback via 'callbacks' argument instead.\n",
            "  _log_warning(\"'verbose_eval' argument is deprecated and will be removed in a future release of LightGBM. \"\n",
            "bagging, val_score: 0.872379: 100%|##########| 10/10 [00:02<00:00,  3.60it/s][I 2023-07-04 00:24:21,854] Trial 36 finished with value: 0.8582285115303984 and parameters: {'bagging_fraction': 0.5455996976835094, 'bagging_freq': 4}. Best is trial 30 with value: 0.8723794549266247.\n",
            "bagging, val_score: 0.872379: 100%|##########| 10/10 [00:02<00:00,  3.83it/s]\n"
          ]
        },
        {
          "name": "stdout",
          "output_type": "stream",
          "text": [
            "[50]\tvalid_0's auc: 0.851555\tvalid_1's auc: 0.861373\n",
            "[60]\tvalid_0's auc: 0.849962\tvalid_1's auc: 0.861897\n",
            "Early stopping, best iteration is:\n",
            "[18]\tvalid_0's auc: 0.87017\tvalid_1's auc: 0.858229\n"
          ]
        },
        {
          "name": "stderr",
          "output_type": "stream",
          "text": [
            "feature_fraction_stage2, val_score: 0.872379:   0%|          | 0/6 [00:00<?, ?it/s]"
          ]
        },
        {
          "name": "stdout",
          "output_type": "stream",
          "text": [
            "[10]\tvalid_0's auc: 0.834269\tvalid_1's auc: 0.874476\n",
            "[20]\tvalid_0's auc: 0.838077\tvalid_1's auc: 0.869235\n",
            "[30]\tvalid_0's auc: 0.843347\tvalid_1's auc: 0.866876\n"
          ]
        },
        {
          "name": "stderr",
          "output_type": "stream",
          "text": [
            "c:\\Users\\daich\\AppData\\Local\\Programs\\Python\\Python38\\lib\\site-packages\\lightgbm\\engine.py:239: UserWarning: 'verbose_eval' argument is deprecated and will be removed in a future release of LightGBM. Pass 'log_evaluation()' callback via 'callbacks' argument instead.\n",
            "  _log_warning(\"'verbose_eval' argument is deprecated and will be removed in a future release of LightGBM. \"\n",
            "feature_fraction_stage2, val_score: 0.878931:  17%|#6        | 1/6 [00:00<00:01,  4.06it/s][I 2023-07-04 00:24:22,105] Trial 37 finished with value: 0.8789308176100629 and parameters: {'feature_fraction': 0.42}. Best is trial 37 with value: 0.8789308176100629.\n",
            "feature_fraction_stage2, val_score: 0.878931:  17%|#6        | 1/6 [00:00<00:01,  4.06it/s]"
          ]
        },
        {
          "name": "stdout",
          "output_type": "stream",
          "text": [
            "[40]\tvalid_0's auc: 0.8453\tvalid_1's auc: 0.868187\n",
            "[50]\tvalid_0's auc: 0.845711\tvalid_1's auc: 0.866614\n",
            "Early stopping, best iteration is:\n",
            "[3]\tvalid_0's auc: 0.815326\tvalid_1's auc: 0.878931\n",
            "[10]\tvalid_0's auc: 0.834269\tvalid_1's auc: 0.874476"
          ]
        },
        {
          "name": "stderr",
          "output_type": "stream",
          "text": [
            "c:\\Users\\daich\\AppData\\Local\\Programs\\Python\\Python38\\lib\\site-packages\\lightgbm\\engine.py:239: UserWarning: 'verbose_eval' argument is deprecated and will be removed in a future release of LightGBM. Pass 'log_evaluation()' callback via 'callbacks' argument instead.\n",
            "  _log_warning(\"'verbose_eval' argument is deprecated and will be removed in a future release of LightGBM. \"\n",
            "feature_fraction_stage2, val_score: 0.878931:  33%|###3      | 2/6 [00:00<00:00,  4.06it/s][I 2023-07-04 00:24:22,352] Trial 38 finished with value: 0.8789308176100629 and parameters: {'feature_fraction': 0.484}. Best is trial 37 with value: 0.8789308176100629.\n",
            "feature_fraction_stage2, val_score: 0.878931:  33%|###3      | 2/6 [00:00<00:00,  4.06it/s]"
          ]
        },
        {
          "name": "stdout",
          "output_type": "stream",
          "text": [
            "\n",
            "[20]\tvalid_0's auc: 0.838077\tvalid_1's auc: 0.869235\n",
            "[30]\tvalid_0's auc: 0.843347\tvalid_1's auc: 0.866876\n",
            "[40]\tvalid_0's auc: 0.8453\tvalid_1's auc: 0.868187\n",
            "[50]\tvalid_0's auc: 0.845711\tvalid_1's auc: 0.866614\n",
            "Early stopping, best iteration is:\n",
            "[3]\tvalid_0's auc: 0.815326\tvalid_1's auc: 0.878931\n"
          ]
        },
        {
          "name": "stderr",
          "output_type": "stream",
          "text": [
            "c:\\Users\\daich\\AppData\\Local\\Programs\\Python\\Python38\\lib\\site-packages\\lightgbm\\engine.py:239: UserWarning: 'verbose_eval' argument is deprecated and will be removed in a future release of LightGBM. Pass 'log_evaluation()' callback via 'callbacks' argument instead.\n",
            "  _log_warning(\"'verbose_eval' argument is deprecated and will be removed in a future release of LightGBM. \"\n",
            "feature_fraction_stage2, val_score: 0.878931:  50%|#####     | 3/6 [00:00<00:00,  3.80it/s][I 2023-07-04 00:24:22,634] Trial 39 finished with value: 0.8789308176100629 and parameters: {'feature_fraction': 0.5479999999999999}. Best is trial 37 with value: 0.8789308176100629.\n",
            "feature_fraction_stage2, val_score: 0.878931:  50%|#####     | 3/6 [00:00<00:00,  3.80it/s]"
          ]
        },
        {
          "name": "stdout",
          "output_type": "stream",
          "text": [
            "[10]\tvalid_0's auc: 0.843741\tvalid_1's auc: 0.863994\n",
            "[20]\tvalid_0's auc: 0.847779\tvalid_1's auc: 0.871855\n",
            "[30]\tvalid_0's auc: 0.845349\tvalid_1's auc: 0.870807\n",
            "[40]\tvalid_0's auc: 0.845514\tvalid_1's auc: 0.869235\n",
            "[50]\tvalid_0's auc: 0.844069\tvalid_1's auc: 0.870283\n",
            "Early stopping, best iteration is:\n",
            "[3]\tvalid_0's auc: 0.815326\tvalid_1's auc: 0.878931\n"
          ]
        },
        {
          "name": "stderr",
          "output_type": "stream",
          "text": [
            "c:\\Users\\daich\\AppData\\Local\\Programs\\Python\\Python38\\lib\\site-packages\\lightgbm\\engine.py:239: UserWarning: 'verbose_eval' argument is deprecated and will be removed in a future release of LightGBM. Pass 'log_evaluation()' callback via 'callbacks' argument instead.\n",
            "  _log_warning(\"'verbose_eval' argument is deprecated and will be removed in a future release of LightGBM. \"\n",
            "feature_fraction_stage2, val_score: 0.878931:  67%|######6   | 4/6 [00:01<00:00,  3.82it/s][I 2023-07-04 00:24:22,894] Trial 40 finished with value: 0.8789308176100629 and parameters: {'feature_fraction': 0.516}. Best is trial 37 with value: 0.8789308176100629.\n",
            "feature_fraction_stage2, val_score: 0.878931:  67%|######6   | 4/6 [00:01<00:00,  3.82it/s]"
          ]
        },
        {
          "name": "stdout",
          "output_type": "stream",
          "text": [
            "[10]\tvalid_0's auc: 0.843741\tvalid_1's auc: 0.863994\n",
            "[20]\tvalid_0's auc: 0.847779\tvalid_1's auc: 0.871855\n",
            "[30]\tvalid_0's auc: 0.845349\tvalid_1's auc: 0.870807\n",
            "[40]\tvalid_0's auc: 0.845514\tvalid_1's auc: 0.869235\n",
            "[50]\tvalid_0's auc: 0.844069\tvalid_1's auc: 0.870283\n",
            "Early stopping, best iteration is:\n",
            "[3]\tvalid_0's auc: 0.815326\tvalid_1's auc: 0.878931\n"
          ]
        },
        {
          "name": "stderr",
          "output_type": "stream",
          "text": [
            "c:\\Users\\daich\\AppData\\Local\\Programs\\Python\\Python38\\lib\\site-packages\\lightgbm\\engine.py:239: UserWarning: 'verbose_eval' argument is deprecated and will be removed in a future release of LightGBM. Pass 'log_evaluation()' callback via 'callbacks' argument instead.\n",
            "  _log_warning(\"'verbose_eval' argument is deprecated and will be removed in a future release of LightGBM. \"\n",
            "feature_fraction_stage2, val_score: 0.878931:  83%|########3 | 5/6 [00:01<00:00,  4.02it/s][I 2023-07-04 00:24:23,119] Trial 41 finished with value: 0.8789308176100629 and parameters: {'feature_fraction': 0.45199999999999996}. Best is trial 37 with value: 0.8789308176100629.\n",
            "feature_fraction_stage2, val_score: 0.878931:  83%|########3 | 5/6 [00:01<00:00,  4.02it/s]"
          ]
        },
        {
          "name": "stdout",
          "output_type": "stream",
          "text": [
            "[10]\tvalid_0's auc: 0.834269\tvalid_1's auc: 0.874476\n",
            "[20]\tvalid_0's auc: 0.838077\tvalid_1's auc: 0.869235\n",
            "[30]\tvalid_0's auc: 0.843347\tvalid_1's auc: 0.866876\n",
            "[40]\tvalid_0's auc: 0.8453\tvalid_1's auc: 0.868187\n",
            "[50]\tvalid_0's auc: 0.845711\tvalid_1's auc: 0.866614\n",
            "Early stopping, best iteration is:\n",
            "[3]\tvalid_0's auc: 0.815326\tvalid_1's auc: 0.878931\n"
          ]
        },
        {
          "name": "stderr",
          "output_type": "stream",
          "text": [
            "c:\\Users\\daich\\AppData\\Local\\Programs\\Python\\Python38\\lib\\site-packages\\lightgbm\\engine.py:239: UserWarning: 'verbose_eval' argument is deprecated and will be removed in a future release of LightGBM. Pass 'log_evaluation()' callback via 'callbacks' argument instead.\n",
            "  _log_warning(\"'verbose_eval' argument is deprecated and will be removed in a future release of LightGBM. \"\n",
            "feature_fraction_stage2, val_score: 0.878931: 100%|##########| 6/6 [00:01<00:00,  4.04it/s][I 2023-07-04 00:24:23,364] Trial 42 finished with value: 0.8789308176100629 and parameters: {'feature_fraction': 0.58}. Best is trial 37 with value: 0.8789308176100629.\n",
            "feature_fraction_stage2, val_score: 0.878931: 100%|##########| 6/6 [00:01<00:00,  3.98it/s]\n"
          ]
        },
        {
          "name": "stdout",
          "output_type": "stream",
          "text": [
            "[10]\tvalid_0's auc: 0.843741\tvalid_1's auc: 0.863994\n",
            "[20]\tvalid_0's auc: 0.847779\tvalid_1's auc: 0.871855\n",
            "[30]\tvalid_0's auc: 0.845349\tvalid_1's auc: 0.870807\n",
            "[40]\tvalid_0's auc: 0.845514\tvalid_1's auc: 0.869235\n",
            "[50]\tvalid_0's auc: 0.844069\tvalid_1's auc: 0.870283\n",
            "Early stopping, best iteration is:\n",
            "[3]\tvalid_0's auc: 0.815326\tvalid_1's auc: 0.878931\n"
          ]
        },
        {
          "name": "stderr",
          "output_type": "stream",
          "text": [
            "regularization_factors, val_score: 0.878931:   0%|          | 0/20 [00:00<?, ?it/s]c:\\Users\\daich\\AppData\\Local\\Programs\\Python\\Python38\\lib\\site-packages\\lightgbm\\engine.py:239: UserWarning: 'verbose_eval' argument is deprecated and will be removed in a future release of LightGBM. Pass 'log_evaluation()' callback via 'callbacks' argument instead.\n",
            "  _log_warning(\"'verbose_eval' argument is deprecated and will be removed in a future release of LightGBM. \"\n",
            "regularization_factors, val_score: 0.883386:   5%|5         | 1/20 [00:00<00:04,  4.25it/s][I 2023-07-04 00:24:23,603] Trial 43 finished with value: 0.8833857442348009 and parameters: {'lambda_l1': 0.008258618578909607, 'lambda_l2': 0.3567346920795773}. Best is trial 43 with value: 0.8833857442348009.\n",
            "regularization_factors, val_score: 0.883386:   5%|5         | 1/20 [00:00<00:04,  4.25it/s]"
          ]
        },
        {
          "name": "stdout",
          "output_type": "stream",
          "text": [
            "[10]\tvalid_0's auc: 0.845448\tvalid_1's auc: 0.845912\n",
            "[20]\tvalid_0's auc: 0.860731\tvalid_1's auc: 0.856918\n",
            "[30]\tvalid_0's auc: 0.873683\tvalid_1's auc: 0.848532\n",
            "[40]\tvalid_0's auc: 0.882695\tvalid_1's auc: 0.853774\n",
            "[50]\tvalid_0's auc: 0.888916\tvalid_1's auc: 0.854822\n",
            "Early stopping, best iteration is:\n",
            "[1]\tvalid_0's auc: 0.811337\tvalid_1's auc: 0.883386\n"
          ]
        },
        {
          "name": "stderr",
          "output_type": "stream",
          "text": [
            "c:\\Users\\daich\\AppData\\Local\\Programs\\Python\\Python38\\lib\\site-packages\\lightgbm\\engine.py:239: UserWarning: 'verbose_eval' argument is deprecated and will be removed in a future release of LightGBM. Pass 'log_evaluation()' callback via 'callbacks' argument instead.\n",
            "  _log_warning(\"'verbose_eval' argument is deprecated and will be removed in a future release of LightGBM. \"\n",
            "regularization_factors, val_score: 0.883386:  10%|#         | 2/20 [00:00<00:04,  4.03it/s][I 2023-07-04 00:24:23,861] Trial 44 finished with value: 0.8833857442348009 and parameters: {'lambda_l1': 0.011616493617473723, 'lambda_l2': 0.34266874516714063}. Best is trial 43 with value: 0.8833857442348009.\n",
            "regularization_factors, val_score: 0.883386:  10%|#         | 2/20 [00:00<00:04,  4.03it/s]"
          ]
        },
        {
          "name": "stdout",
          "output_type": "stream",
          "text": [
            "[10]\tvalid_0's auc: 0.845448\tvalid_1's auc: 0.845912\n",
            "[20]\tvalid_0's auc: 0.860731\tvalid_1's auc: 0.856918\n",
            "[30]\tvalid_0's auc: 0.87365\tvalid_1's auc: 0.848532\n",
            "[40]\tvalid_0's auc: 0.882695\tvalid_1's auc: 0.853774\n",
            "[50]\tvalid_0's auc: 0.888883\tvalid_1's auc: 0.854822\n",
            "Early stopping, best iteration is:\n",
            "[1]\tvalid_0's auc: 0.811337\tvalid_1's auc: 0.883386\n"
          ]
        },
        {
          "name": "stderr",
          "output_type": "stream",
          "text": [
            "c:\\Users\\daich\\AppData\\Local\\Programs\\Python\\Python38\\lib\\site-packages\\lightgbm\\engine.py:239: UserWarning: 'verbose_eval' argument is deprecated and will be removed in a future release of LightGBM. Pass 'log_evaluation()' callback via 'callbacks' argument instead.\n",
            "  _log_warning(\"'verbose_eval' argument is deprecated and will be removed in a future release of LightGBM. \"\n",
            "regularization_factors, val_score: 0.883386:  15%|#5        | 3/20 [00:00<00:04,  3.97it/s][I 2023-07-04 00:24:24,117] Trial 45 finished with value: 0.8833857442348009 and parameters: {'lambda_l1': 0.0031693226588752708, 'lambda_l2': 0.3350573340440133}. Best is trial 43 with value: 0.8833857442348009.\n",
            "regularization_factors, val_score: 0.883386:  15%|#5        | 3/20 [00:00<00:04,  3.97it/s]"
          ]
        },
        {
          "name": "stdout",
          "output_type": "stream",
          "text": [
            "[10]\tvalid_0's auc: 0.845448\tvalid_1's auc: 0.845912\n",
            "[20]\tvalid_0's auc: 0.860698\tvalid_1's auc: 0.856918\n",
            "[30]\tvalid_0's auc: 0.873748\tvalid_1's auc: 0.848532\n",
            "[40]\tvalid_0's auc: 0.882695\tvalid_1's auc: 0.853774\n",
            "[50]\tvalid_0's auc: 0.88931\tvalid_1's auc: 0.854822\n",
            "Early stopping, best iteration is:\n",
            "[1]\tvalid_0's auc: 0.811337\tvalid_1's auc: 0.883386\n"
          ]
        },
        {
          "name": "stderr",
          "output_type": "stream",
          "text": [
            "c:\\Users\\daich\\AppData\\Local\\Programs\\Python\\Python38\\lib\\site-packages\\lightgbm\\engine.py:239: UserWarning: 'verbose_eval' argument is deprecated and will be removed in a future release of LightGBM. Pass 'log_evaluation()' callback via 'callbacks' argument instead.\n",
            "  _log_warning(\"'verbose_eval' argument is deprecated and will be removed in a future release of LightGBM. \"\n",
            "regularization_factors, val_score: 0.883386:  20%|##        | 4/20 [00:01<00:04,  3.71it/s][I 2023-07-04 00:24:24,413] Trial 46 finished with value: 0.8833857442348009 and parameters: {'lambda_l1': 0.007527952051631455, 'lambda_l2': 0.48819455983377974}. Best is trial 43 with value: 0.8833857442348009.\n",
            "regularization_factors, val_score: 0.883386:  20%|##        | 4/20 [00:01<00:04,  3.71it/s]"
          ]
        },
        {
          "name": "stdout",
          "output_type": "stream",
          "text": [
            "[10]\tvalid_0's auc: 0.844824\tvalid_1's auc: 0.845388\n",
            "[20]\tvalid_0's auc: 0.860567\tvalid_1's auc: 0.857442\n",
            "[30]\tvalid_0's auc: 0.873387\tvalid_1's auc: 0.849057\n",
            "[40]\tvalid_0's auc: 0.882465\tvalid_1's auc: 0.853774\n",
            "[50]\tvalid_0's auc: 0.888686\tvalid_1's auc: 0.854822\n",
            "Early stopping, best iteration is:\n",
            "[1]\tvalid_0's auc: 0.811337\tvalid_1's auc: 0.883386\n"
          ]
        },
        {
          "name": "stderr",
          "output_type": "stream",
          "text": [
            "c:\\Users\\daich\\AppData\\Local\\Programs\\Python\\Python38\\lib\\site-packages\\lightgbm\\engine.py:239: UserWarning: 'verbose_eval' argument is deprecated and will be removed in a future release of LightGBM. Pass 'log_evaluation()' callback via 'callbacks' argument instead.\n",
            "  _log_warning(\"'verbose_eval' argument is deprecated and will be removed in a future release of LightGBM. \"\n",
            "regularization_factors, val_score: 0.883386:  25%|##5       | 5/20 [00:01<00:03,  3.85it/s][I 2023-07-04 00:24:24,657] Trial 47 finished with value: 0.8833857442348009 and parameters: {'lambda_l1': 0.008852740851149454, 'lambda_l2': 0.4908286853714594}. Best is trial 43 with value: 0.8833857442348009.\n",
            "regularization_factors, val_score: 0.883386:  25%|##5       | 5/20 [00:01<00:03,  3.85it/s]"
          ]
        },
        {
          "name": "stdout",
          "output_type": "stream",
          "text": [
            "[10]\tvalid_0's auc: 0.844824\tvalid_1's auc: 0.845388\n",
            "[20]\tvalid_0's auc: 0.860567\tvalid_1's auc: 0.857966\n",
            "[30]\tvalid_0's auc: 0.873387\tvalid_1's auc: 0.849057\n",
            "[40]\tvalid_0's auc: 0.882465\tvalid_1's auc: 0.853774\n",
            "[50]\tvalid_0's auc: 0.888686\tvalid_1's auc: 0.854822\n",
            "Early stopping, best iteration is:\n",
            "[1]\tvalid_0's auc: 0.811337\tvalid_1's auc: 0.883386\n"
          ]
        },
        {
          "name": "stderr",
          "output_type": "stream",
          "text": [
            "c:\\Users\\daich\\AppData\\Local\\Programs\\Python\\Python38\\lib\\site-packages\\lightgbm\\engine.py:239: UserWarning: 'verbose_eval' argument is deprecated and will be removed in a future release of LightGBM. Pass 'log_evaluation()' callback via 'callbacks' argument instead.\n",
            "  _log_warning(\"'verbose_eval' argument is deprecated and will be removed in a future release of LightGBM. \"\n",
            "regularization_factors, val_score: 0.883386:  30%|###       | 6/20 [00:01<00:03,  3.95it/s][I 2023-07-04 00:24:24,896] Trial 48 finished with value: 0.8833857442348009 and parameters: {'lambda_l1': 0.007278759265496284, 'lambda_l2': 0.556318368497805}. Best is trial 43 with value: 0.8833857442348009.\n",
            "regularization_factors, val_score: 0.883386:  30%|###       | 6/20 [00:01<00:03,  3.95it/s]"
          ]
        },
        {
          "name": "stdout",
          "output_type": "stream",
          "text": [
            "[10]\tvalid_0's auc: 0.84489\tvalid_1's auc: 0.845388\n",
            "[20]\tvalid_0's auc: 0.860567\tvalid_1's auc: 0.857966\n",
            "[30]\tvalid_0's auc: 0.873387\tvalid_1's auc: 0.849057\n",
            "[40]\tvalid_0's auc: 0.882399\tvalid_1's auc: 0.853774\n",
            "[50]\tvalid_0's auc: 0.888588\tvalid_1's auc: 0.854822\n",
            "Early stopping, best iteration is:\n",
            "[1]\tvalid_0's auc: 0.811337\tvalid_1's auc: 0.883386\n"
          ]
        },
        {
          "name": "stderr",
          "output_type": "stream",
          "text": [
            "c:\\Users\\daich\\AppData\\Local\\Programs\\Python\\Python38\\lib\\site-packages\\lightgbm\\engine.py:239: UserWarning: 'verbose_eval' argument is deprecated and will be removed in a future release of LightGBM. Pass 'log_evaluation()' callback via 'callbacks' argument instead.\n",
            "  _log_warning(\"'verbose_eval' argument is deprecated and will be removed in a future release of LightGBM. \"\n",
            "regularization_factors, val_score: 0.883386:  35%|###5      | 7/20 [00:01<00:03,  3.94it/s][I 2023-07-04 00:24:25,152] Trial 49 finished with value: 0.8833857442348009 and parameters: {'lambda_l1': 0.008003539894656945, 'lambda_l2': 0.3287050183800926}. Best is trial 43 with value: 0.8833857442348009.\n",
            "regularization_factors, val_score: 0.883386:  35%|###5      | 7/20 [00:01<00:03,  3.94it/s]"
          ]
        },
        {
          "name": "stdout",
          "output_type": "stream",
          "text": [
            "[10]\tvalid_0's auc: 0.845448\tvalid_1's auc: 0.845912\n",
            "[20]\tvalid_0's auc: 0.860731\tvalid_1's auc: 0.856918\n",
            "[30]\tvalid_0's auc: 0.873748\tvalid_1's auc: 0.848532\n",
            "[40]\tvalid_0's auc: 0.882695\tvalid_1's auc: 0.853774\n",
            "[50]\tvalid_0's auc: 0.889277\tvalid_1's auc: 0.854822\n",
            "Early stopping, best iteration is:\n",
            "[1]\tvalid_0's auc: 0.811337\tvalid_1's auc: 0.883386\n"
          ]
        },
        {
          "name": "stderr",
          "output_type": "stream",
          "text": [
            "c:\\Users\\daich\\AppData\\Local\\Programs\\Python\\Python38\\lib\\site-packages\\lightgbm\\engine.py:239: UserWarning: 'verbose_eval' argument is deprecated and will be removed in a future release of LightGBM. Pass 'log_evaluation()' callback via 'callbacks' argument instead.\n",
            "  _log_warning(\"'verbose_eval' argument is deprecated and will be removed in a future release of LightGBM. \"\n",
            "regularization_factors, val_score: 0.883386:  40%|####      | 8/20 [00:02<00:03,  3.91it/s][I 2023-07-04 00:24:25,410] Trial 50 finished with value: 0.8833857442348009 and parameters: {'lambda_l1': 0.008204081658908565, 'lambda_l2': 0.49543807181692195}. Best is trial 43 with value: 0.8833857442348009.\n",
            "regularization_factors, val_score: 0.883386:  40%|####      | 8/20 [00:02<00:03,  3.91it/s]"
          ]
        },
        {
          "name": "stdout",
          "output_type": "stream",
          "text": [
            "[10]\tvalid_0's auc: 0.844824\tvalid_1's auc: 0.845388\n",
            "[20]\tvalid_0's auc: 0.860567\tvalid_1's auc: 0.857966\n",
            "[30]\tvalid_0's auc: 0.873387\tvalid_1's auc: 0.849057\n",
            "[40]\tvalid_0's auc: 0.882465\tvalid_1's auc: 0.853774\n",
            "[50]\tvalid_0's auc: 0.888686\tvalid_1's auc: 0.854822\n",
            "Early stopping, best iteration is:\n",
            "[1]\tvalid_0's auc: 0.811337\tvalid_1's auc: 0.883386\n"
          ]
        },
        {
          "name": "stderr",
          "output_type": "stream",
          "text": [
            "c:\\Users\\daich\\AppData\\Local\\Programs\\Python\\Python38\\lib\\site-packages\\lightgbm\\engine.py:239: UserWarning: 'verbose_eval' argument is deprecated and will be removed in a future release of LightGBM. Pass 'log_evaluation()' callback via 'callbacks' argument instead.\n",
            "  _log_warning(\"'verbose_eval' argument is deprecated and will be removed in a future release of LightGBM. \"\n",
            "regularization_factors, val_score: 0.883386:  45%|####5     | 9/20 [00:02<00:02,  3.96it/s][I 2023-07-04 00:24:25,656] Trial 51 finished with value: 0.8833857442348009 and parameters: {'lambda_l1': 0.005316703364654341, 'lambda_l2': 0.4714323813814707}. Best is trial 43 with value: 0.8833857442348009.\n",
            "regularization_factors, val_score: 0.883386:  45%|####5     | 9/20 [00:02<00:02,  3.96it/s]"
          ]
        },
        {
          "name": "stdout",
          "output_type": "stream",
          "text": [
            "[10]\tvalid_0's auc: 0.844824\tvalid_1's auc: 0.845912\n",
            "[20]\tvalid_0's auc: 0.860567\tvalid_1's auc: 0.857442\n",
            "[30]\tvalid_0's auc: 0.873617\tvalid_1's auc: 0.849057\n",
            "[40]\tvalid_0's auc: 0.882465\tvalid_1's auc: 0.853774\n",
            "[50]\tvalid_0's auc: 0.888686\tvalid_1's auc: 0.854822\n",
            "Early stopping, best iteration is:\n",
            "[1]\tvalid_0's auc: 0.811337\tvalid_1's auc: 0.883386\n"
          ]
        },
        {
          "name": "stderr",
          "output_type": "stream",
          "text": [
            "c:\\Users\\daich\\AppData\\Local\\Programs\\Python\\Python38\\lib\\site-packages\\lightgbm\\engine.py:239: UserWarning: 'verbose_eval' argument is deprecated and will be removed in a future release of LightGBM. Pass 'log_evaluation()' callback via 'callbacks' argument instead.\n",
            "  _log_warning(\"'verbose_eval' argument is deprecated and will be removed in a future release of LightGBM. \"\n",
            "regularization_factors, val_score: 0.883386:  50%|#####     | 10/20 [00:02<00:02,  4.00it/s][I 2023-07-04 00:24:25,901] Trial 52 finished with value: 0.8833857442348009 and parameters: {'lambda_l1': 0.008657268516303747, 'lambda_l2': 0.381946017657016}. Best is trial 43 with value: 0.8833857442348009.\n",
            "regularization_factors, val_score: 0.883386:  50%|#####     | 10/20 [00:02<00:02,  4.00it/s]"
          ]
        },
        {
          "name": "stdout",
          "output_type": "stream",
          "text": [
            "[10]\tvalid_0's auc: 0.845448\tvalid_1's auc: 0.845912\n",
            "[20]\tvalid_0's auc: 0.860632\tvalid_1's auc: 0.857442\n",
            "[30]\tvalid_0's auc: 0.873683\tvalid_1's auc: 0.849057\n",
            "[40]\tvalid_0's auc: 0.882465\tvalid_1's auc: 0.853774\n",
            "[50]\tvalid_0's auc: 0.888752\tvalid_1's auc: 0.854822\n",
            "Early stopping, best iteration is:\n",
            "[1]\tvalid_0's auc: 0.811337\tvalid_1's auc: 0.883386\n"
          ]
        },
        {
          "name": "stderr",
          "output_type": "stream",
          "text": [
            "c:\\Users\\daich\\AppData\\Local\\Programs\\Python\\Python38\\lib\\site-packages\\lightgbm\\engine.py:239: UserWarning: 'verbose_eval' argument is deprecated and will be removed in a future release of LightGBM. Pass 'log_evaluation()' callback via 'callbacks' argument instead.\n",
            "  _log_warning(\"'verbose_eval' argument is deprecated and will be removed in a future release of LightGBM. \"\n",
            "regularization_factors, val_score: 0.883386:  55%|#####5    | 11/20 [00:02<00:02,  3.79it/s][I 2023-07-04 00:24:26,196] Trial 53 finished with value: 0.8833857442348009 and parameters: {'lambda_l1': 0.007650969115973284, 'lambda_l2': 0.4120845792401674}. Best is trial 43 with value: 0.8833857442348009.\n",
            "regularization_factors, val_score: 0.883386:  55%|#####5    | 11/20 [00:02<00:02,  3.79it/s]"
          ]
        },
        {
          "name": "stdout",
          "output_type": "stream",
          "text": [
            "[10]\tvalid_0's auc: 0.845448\tvalid_1's auc: 0.845912\n",
            "[20]\tvalid_0's auc: 0.860632\tvalid_1's auc: 0.857442\n",
            "[30]\tvalid_0's auc: 0.87365\tvalid_1's auc: 0.849057\n",
            "[40]\tvalid_0's auc: 0.882465\tvalid_1's auc: 0.853774\n",
            "[50]\tvalid_0's auc: 0.888752\tvalid_1's auc: 0.854822\n",
            "Early stopping, best iteration is:\n",
            "[1]\tvalid_0's auc: 0.811337\tvalid_1's auc: 0.883386\n"
          ]
        },
        {
          "name": "stderr",
          "output_type": "stream",
          "text": [
            "c:\\Users\\daich\\AppData\\Local\\Programs\\Python\\Python38\\lib\\site-packages\\lightgbm\\engine.py:239: UserWarning: 'verbose_eval' argument is deprecated and will be removed in a future release of LightGBM. Pass 'log_evaluation()' callback via 'callbacks' argument instead.\n",
            "  _log_warning(\"'verbose_eval' argument is deprecated and will be removed in a future release of LightGBM. \"\n",
            "regularization_factors, val_score: 0.883386:  60%|######    | 12/20 [00:03<00:02,  3.83it/s][I 2023-07-04 00:24:26,450] Trial 54 finished with value: 0.8833857442348009 and parameters: {'lambda_l1': 0.007061907553894655, 'lambda_l2': 0.45887002818501305}. Best is trial 43 with value: 0.8833857442348009.\n",
            "regularization_factors, val_score: 0.883386:  60%|######    | 12/20 [00:03<00:02,  3.83it/s]"
          ]
        },
        {
          "name": "stdout",
          "output_type": "stream",
          "text": [
            "[10]\tvalid_0's auc: 0.844824\tvalid_1's auc: 0.845912\n",
            "[20]\tvalid_0's auc: 0.860632\tvalid_1's auc: 0.857442\n",
            "[30]\tvalid_0's auc: 0.873617\tvalid_1's auc: 0.849057\n",
            "[40]\tvalid_0's auc: 0.882465\tvalid_1's auc: 0.853774\n",
            "[50]\tvalid_0's auc: 0.888686\tvalid_1's auc: 0.854822\n",
            "Early stopping, best iteration is:\n",
            "[1]\tvalid_0's auc: 0.811337\tvalid_1's auc: 0.883386\n"
          ]
        },
        {
          "name": "stderr",
          "output_type": "stream",
          "text": [
            "c:\\Users\\daich\\AppData\\Local\\Programs\\Python\\Python38\\lib\\site-packages\\lightgbm\\engine.py:239: UserWarning: 'verbose_eval' argument is deprecated and will be removed in a future release of LightGBM. Pass 'log_evaluation()' callback via 'callbacks' argument instead.\n",
            "  _log_warning(\"'verbose_eval' argument is deprecated and will be removed in a future release of LightGBM. \"\n",
            "regularization_factors, val_score: 0.883386:  65%|######5   | 13/20 [00:03<00:01,  3.88it/s][I 2023-07-04 00:24:26,702] Trial 55 finished with value: 0.8833857442348009 and parameters: {'lambda_l1': 0.000507866320272646, 'lambda_l2': 0.0028027906549591237}. Best is trial 43 with value: 0.8833857442348009.\n",
            "regularization_factors, val_score: 0.883386:  65%|######5   | 13/20 [00:03<00:01,  3.88it/s]"
          ]
        },
        {
          "name": "stdout",
          "output_type": "stream",
          "text": [
            "[10]\tvalid_0's auc: 0.845218\tvalid_1's auc: 0.845912\n",
            "[20]\tvalid_0's auc: 0.86119\tvalid_1's auc: 0.856918\n",
            "[30]\tvalid_0's auc: 0.874027\tvalid_1's auc: 0.848532\n",
            "[40]\tvalid_0's auc: 0.88258\tvalid_1's auc: 0.854298\n",
            "[50]\tvalid_0's auc: 0.89\tvalid_1's auc: 0.856394\n",
            "Early stopping, best iteration is:\n",
            "[1]\tvalid_0's auc: 0.811337\tvalid_1's auc: 0.883386\n"
          ]
        },
        {
          "name": "stderr",
          "output_type": "stream",
          "text": [
            "c:\\Users\\daich\\AppData\\Local\\Programs\\Python\\Python38\\lib\\site-packages\\lightgbm\\engine.py:239: UserWarning: 'verbose_eval' argument is deprecated and will be removed in a future release of LightGBM. Pass 'log_evaluation()' callback via 'callbacks' argument instead.\n",
            "  _log_warning(\"'verbose_eval' argument is deprecated and will be removed in a future release of LightGBM. \"\n",
            "regularization_factors, val_score: 0.883386:  70%|#######   | 14/20 [00:03<00:01,  3.92it/s][I 2023-07-04 00:24:26,951] Trial 56 finished with value: 0.8833857442348009 and parameters: {'lambda_l1': 0.7355477292364686, 'lambda_l2': 9.24156877367071}. Best is trial 43 with value: 0.8833857442348009.\n",
            "regularization_factors, val_score: 0.883386:  70%|#######   | 14/20 [00:03<00:01,  3.92it/s]"
          ]
        },
        {
          "name": "stdout",
          "output_type": "stream",
          "text": [
            "[10]\tvalid_0's auc: 0.834663\tvalid_1's auc: 0.859277\n",
            "[20]\tvalid_0's auc: 0.851193\tvalid_1's auc: 0.862945\n",
            "[30]\tvalid_0's auc: 0.85904\tvalid_1's auc: 0.858753\n",
            "[40]\tvalid_0's auc: 0.865311\tvalid_1's auc: 0.861635\n",
            "[50]\tvalid_0's auc: 0.870449\tvalid_1's auc: 0.862159\n",
            "Early stopping, best iteration is:\n",
            "[1]\tvalid_0's auc: 0.811337\tvalid_1's auc: 0.883386\n"
          ]
        },
        {
          "name": "stderr",
          "output_type": "stream",
          "text": [
            "c:\\Users\\daich\\AppData\\Local\\Programs\\Python\\Python38\\lib\\site-packages\\lightgbm\\engine.py:239: UserWarning: 'verbose_eval' argument is deprecated and will be removed in a future release of LightGBM. Pass 'log_evaluation()' callback via 'callbacks' argument instead.\n",
            "  _log_warning(\"'verbose_eval' argument is deprecated and will be removed in a future release of LightGBM. \"\n",
            "regularization_factors, val_score: 0.883386:  75%|#######5  | 15/20 [00:03<00:01,  3.89it/s][I 2023-07-04 00:24:27,211] Trial 57 finished with value: 0.8833857442348009 and parameters: {'lambda_l1': 1.2821120090155715e-08, 'lambda_l2': 0.014185985619270713}. Best is trial 43 with value: 0.8833857442348009.\n",
            "regularization_factors, val_score: 0.883386:  75%|#######5  | 15/20 [00:03<00:01,  3.89it/s]"
          ]
        },
        {
          "name": "stdout",
          "output_type": "stream",
          "text": [
            "[10]\tvalid_0's auc: 0.845218\tvalid_1's auc: 0.845912\n",
            "[20]\tvalid_0's auc: 0.860632\tvalid_1's auc: 0.857966\n",
            "[30]\tvalid_0's auc: 0.873404\tvalid_1's auc: 0.849581\n",
            "[40]\tvalid_0's auc: 0.882974\tvalid_1's auc: 0.854822\n",
            "[50]\tvalid_0's auc: 0.891395\tvalid_1's auc: 0.85587\n",
            "Early stopping, best iteration is:\n",
            "[1]\tvalid_0's auc: 0.811337\tvalid_1's auc: 0.883386\n"
          ]
        },
        {
          "name": "stderr",
          "output_type": "stream",
          "text": [
            "c:\\Users\\daich\\AppData\\Local\\Programs\\Python\\Python38\\lib\\site-packages\\lightgbm\\engine.py:239: UserWarning: 'verbose_eval' argument is deprecated and will be removed in a future release of LightGBM. Pass 'log_evaluation()' callback via 'callbacks' argument instead.\n",
            "  _log_warning(\"'verbose_eval' argument is deprecated and will be removed in a future release of LightGBM. \"\n",
            "regularization_factors, val_score: 0.883386:  80%|########  | 16/20 [00:04<00:01,  3.86it/s][I 2023-07-04 00:24:27,474] Trial 58 finished with value: 0.8833857442348009 and parameters: {'lambda_l1': 0.058070683497602915, 'lambda_l2': 4.863707191386319e-07}. Best is trial 43 with value: 0.8833857442348009.\n",
            "regularization_factors, val_score: 0.883386:  80%|########  | 16/20 [00:04<00:01,  3.86it/s]"
          ]
        },
        {
          "name": "stdout",
          "output_type": "stream",
          "text": [
            "[10]\tvalid_0's auc: 0.845218\tvalid_1's auc: 0.845912\n",
            "[20]\tvalid_0's auc: 0.861322\tvalid_1's auc: 0.856918\n",
            "[30]\tvalid_0's auc: 0.874175\tvalid_1's auc: 0.849057\n",
            "[40]\tvalid_0's auc: 0.882498\tvalid_1's auc: 0.853774\n",
            "[50]\tvalid_0's auc: 0.888851\tvalid_1's auc: 0.855346\n",
            "Early stopping, best iteration is:\n",
            "[1]\tvalid_0's auc: 0.811337\tvalid_1's auc: 0.883386\n"
          ]
        },
        {
          "name": "stderr",
          "output_type": "stream",
          "text": [
            "c:\\Users\\daich\\AppData\\Local\\Programs\\Python\\Python38\\lib\\site-packages\\lightgbm\\engine.py:239: UserWarning: 'verbose_eval' argument is deprecated and will be removed in a future release of LightGBM. Pass 'log_evaluation()' callback via 'callbacks' argument instead.\n",
            "  _log_warning(\"'verbose_eval' argument is deprecated and will be removed in a future release of LightGBM. \"\n",
            "regularization_factors, val_score: 0.883386:  85%|########5 | 17/20 [00:04<00:00,  3.82it/s][I 2023-07-04 00:24:27,743] Trial 59 finished with value: 0.8833857442348009 and parameters: {'lambda_l1': 0.0009102264772315062, 'lambda_l2': 8.699038865379524}. Best is trial 43 with value: 0.8833857442348009.\n",
            "regularization_factors, val_score: 0.883386:  85%|########5 | 17/20 [00:04<00:00,  3.82it/s]"
          ]
        },
        {
          "name": "stdout",
          "output_type": "stream",
          "text": [
            "[10]\tvalid_0's auc: 0.839998\tvalid_1's auc: 0.853774\n",
            "[20]\tvalid_0's auc: 0.852687\tvalid_1's auc: 0.859801\n",
            "[30]\tvalid_0's auc: 0.862159\tvalid_1's auc: 0.853774\n",
            "[40]\tvalid_0's auc: 0.870761\tvalid_1's auc: 0.857442\n",
            "[50]\tvalid_0's auc: 0.877031\tvalid_1's auc: 0.85718\n",
            "Early stopping, best iteration is:\n",
            "[1]\tvalid_0's auc: 0.811337\tvalid_1's auc: 0.883386\n"
          ]
        },
        {
          "name": "stderr",
          "output_type": "stream",
          "text": [
            "c:\\Users\\daich\\AppData\\Local\\Programs\\Python\\Python38\\lib\\site-packages\\lightgbm\\engine.py:239: UserWarning: 'verbose_eval' argument is deprecated and will be removed in a future release of LightGBM. Pass 'log_evaluation()' callback via 'callbacks' argument instead.\n",
            "  _log_warning(\"'verbose_eval' argument is deprecated and will be removed in a future release of LightGBM. \"\n",
            "regularization_factors, val_score: 0.883386:  90%|######### | 18/20 [00:04<00:00,  3.89it/s][I 2023-07-04 00:24:27,990] Trial 60 finished with value: 0.8833857442348009 and parameters: {'lambda_l1': 0.08875012079214573, 'lambda_l2': 0.042326796698008866}. Best is trial 43 with value: 0.8833857442348009.\n",
            "regularization_factors, val_score: 0.883386:  90%|######### | 18/20 [00:04<00:00,  3.89it/s]"
          ]
        },
        {
          "name": "stdout",
          "output_type": "stream",
          "text": [
            "[10]\tvalid_0's auc: 0.844594\tvalid_1's auc: 0.845388\n",
            "[20]\tvalid_0's auc: 0.860928\tvalid_1's auc: 0.857442\n",
            "[30]\tvalid_0's auc: 0.87319\tvalid_1's auc: 0.849057\n",
            "[40]\tvalid_0's auc: 0.882235\tvalid_1's auc: 0.854298\n",
            "[50]\tvalid_0's auc: 0.888292\tvalid_1's auc: 0.855346\n",
            "Early stopping, best iteration is:\n",
            "[1]\tvalid_0's auc: 0.811337\tvalid_1's auc: 0.883386\n"
          ]
        },
        {
          "name": "stderr",
          "output_type": "stream",
          "text": [
            "c:\\Users\\daich\\AppData\\Local\\Programs\\Python\\Python38\\lib\\site-packages\\lightgbm\\engine.py:239: UserWarning: 'verbose_eval' argument is deprecated and will be removed in a future release of LightGBM. Pass 'log_evaluation()' callback via 'callbacks' argument instead.\n",
            "  _log_warning(\"'verbose_eval' argument is deprecated and will be removed in a future release of LightGBM. \"\n",
            "regularization_factors, val_score: 0.883386:  95%|#########5| 19/20 [00:04<00:00,  3.83it/s][I 2023-07-04 00:24:28,260] Trial 61 finished with value: 0.8833857442348009 and parameters: {'lambda_l1': 0.011275906304102558, 'lambda_l2': 0.10768207210213271}. Best is trial 43 with value: 0.8833857442348009.\n",
            "regularization_factors, val_score: 0.883386:  95%|#########5| 19/20 [00:04<00:00,  3.83it/s]"
          ]
        },
        {
          "name": "stdout",
          "output_type": "stream",
          "text": [
            "[10]\tvalid_0's auc: 0.845153\tvalid_1's auc: 0.845912\n",
            "[20]\tvalid_0's auc: 0.86119\tvalid_1's auc: 0.856918\n",
            "[30]\tvalid_0's auc: 0.874044\tvalid_1's auc: 0.848532\n",
            "[40]\tvalid_0's auc: 0.882728\tvalid_1's auc: 0.853774\n",
            "[50]\tvalid_0's auc: 0.889245\tvalid_1's auc: 0.854822\n",
            "Early stopping, best iteration is:\n",
            "[1]\tvalid_0's auc: 0.811337\tvalid_1's auc: 0.883386\n"
          ]
        },
        {
          "name": "stderr",
          "output_type": "stream",
          "text": [
            "c:\\Users\\daich\\AppData\\Local\\Programs\\Python\\Python38\\lib\\site-packages\\lightgbm\\engine.py:239: UserWarning: 'verbose_eval' argument is deprecated and will be removed in a future release of LightGBM. Pass 'log_evaluation()' callback via 'callbacks' argument instead.\n",
            "  _log_warning(\"'verbose_eval' argument is deprecated and will be removed in a future release of LightGBM. \"\n",
            "regularization_factors, val_score: 0.883386: 100%|##########| 20/20 [00:05<00:00,  3.87it/s][I 2023-07-04 00:24:28,510] Trial 62 finished with value: 0.8833857442348009 and parameters: {'lambda_l1': 0.0013522882583199035, 'lambda_l2': 1.1820159589517205}. Best is trial 43 with value: 0.8833857442348009.\n",
            "regularization_factors, val_score: 0.883386: 100%|##########| 20/20 [00:05<00:00,  3.89it/s]\n"
          ]
        },
        {
          "name": "stdout",
          "output_type": "stream",
          "text": [
            "[10]\tvalid_0's auc: 0.845087\tvalid_1's auc: 0.845388\n",
            "[20]\tvalid_0's auc: 0.861552\tvalid_1's auc: 0.860587\n",
            "[30]\tvalid_0's auc: 0.871499\tvalid_1's auc: 0.853774\n",
            "[40]\tvalid_0's auc: 0.880282\tvalid_1's auc: 0.862683\n",
            "[50]\tvalid_0's auc: 0.889261\tvalid_1's auc: 0.861635\n",
            "Early stopping, best iteration is:\n",
            "[1]\tvalid_0's auc: 0.811337\tvalid_1's auc: 0.883386\n"
          ]
        },
        {
          "name": "stderr",
          "output_type": "stream",
          "text": [
            "min_data_in_leaf, val_score: 0.883386:   0%|          | 0/5 [00:00<?, ?it/s]c:\\Users\\daich\\AppData\\Local\\Programs\\Python\\Python38\\lib\\site-packages\\lightgbm\\engine.py:239: UserWarning: 'verbose_eval' argument is deprecated and will be removed in a future release of LightGBM. Pass 'log_evaluation()' callback via 'callbacks' argument instead.\n",
            "  _log_warning(\"'verbose_eval' argument is deprecated and will be removed in a future release of LightGBM. \"\n",
            "min_data_in_leaf, val_score: 0.883386:  20%|##        | 1/5 [00:00<00:00,  4.41it/s][I 2023-07-04 00:24:28,741] Trial 63 finished with value: 0.8833857442348009 and parameters: {'min_child_samples': 100}. Best is trial 63 with value: 0.8833857442348009.\n",
            "min_data_in_leaf, val_score: 0.883386:  20%|##        | 1/5 [00:00<00:00,  4.41it/s]"
          ]
        },
        {
          "name": "stdout",
          "output_type": "stream",
          "text": [
            "[10]\tvalid_0's auc: 0.845448\tvalid_1's auc: 0.845912\n",
            "[20]\tvalid_0's auc: 0.860731\tvalid_1's auc: 0.856918\n",
            "[30]\tvalid_0's auc: 0.873683\tvalid_1's auc: 0.848532\n",
            "[40]\tvalid_0's auc: 0.882695\tvalid_1's auc: 0.853774\n",
            "[50]\tvalid_0's auc: 0.888916\tvalid_1's auc: 0.854822\n",
            "Early stopping, best iteration is:\n",
            "[1]\tvalid_0's auc: 0.811337\tvalid_1's auc: 0.883386\n"
          ]
        },
        {
          "name": "stderr",
          "output_type": "stream",
          "text": [
            "c:\\Users\\daich\\AppData\\Local\\Programs\\Python\\Python38\\lib\\site-packages\\lightgbm\\engine.py:239: UserWarning: 'verbose_eval' argument is deprecated and will be removed in a future release of LightGBM. Pass 'log_evaluation()' callback via 'callbacks' argument instead.\n",
            "  _log_warning(\"'verbose_eval' argument is deprecated and will be removed in a future release of LightGBM. \"\n",
            "min_data_in_leaf, val_score: 0.883386:  40%|####      | 2/5 [00:00<00:00,  4.26it/s][I 2023-07-04 00:24:28,981] Trial 64 finished with value: 0.8833857442348009 and parameters: {'min_child_samples': 5}. Best is trial 63 with value: 0.8833857442348009.\n",
            "min_data_in_leaf, val_score: 0.883386:  40%|####      | 2/5 [00:00<00:00,  4.26it/s]"
          ]
        },
        {
          "name": "stdout",
          "output_type": "stream",
          "text": [
            "[10]\tvalid_0's auc: 0.845448\tvalid_1's auc: 0.845912\n",
            "[20]\tvalid_0's auc: 0.860731\tvalid_1's auc: 0.856918\n",
            "[30]\tvalid_0's auc: 0.873683\tvalid_1's auc: 0.848532\n",
            "[40]\tvalid_0's auc: 0.882695\tvalid_1's auc: 0.853774\n",
            "[50]\tvalid_0's auc: 0.888916\tvalid_1's auc: 0.854822\n",
            "Early stopping, best iteration is:\n",
            "[1]\tvalid_0's auc: 0.811337\tvalid_1's auc: 0.883386\n"
          ]
        },
        {
          "name": "stderr",
          "output_type": "stream",
          "text": [
            "c:\\Users\\daich\\AppData\\Local\\Programs\\Python\\Python38\\lib\\site-packages\\lightgbm\\engine.py:239: UserWarning: 'verbose_eval' argument is deprecated and will be removed in a future release of LightGBM. Pass 'log_evaluation()' callback via 'callbacks' argument instead.\n",
            "  _log_warning(\"'verbose_eval' argument is deprecated and will be removed in a future release of LightGBM. \"\n",
            "min_data_in_leaf, val_score: 0.883386:  60%|######    | 3/5 [00:00<00:00,  4.14it/s][I 2023-07-04 00:24:29,231] Trial 65 finished with value: 0.8833857442348009 and parameters: {'min_child_samples': 10}. Best is trial 63 with value: 0.8833857442348009.\n",
            "min_data_in_leaf, val_score: 0.883386:  60%|######    | 3/5 [00:00<00:00,  4.14it/s]"
          ]
        },
        {
          "name": "stdout",
          "output_type": "stream",
          "text": [
            "[10]\tvalid_0's auc: 0.845448\tvalid_1's auc: 0.845912\n",
            "[20]\tvalid_0's auc: 0.860731\tvalid_1's auc: 0.856918\n",
            "[30]\tvalid_0's auc: 0.873683\tvalid_1's auc: 0.848532\n",
            "[40]\tvalid_0's auc: 0.882695\tvalid_1's auc: 0.853774\n",
            "[50]\tvalid_0's auc: 0.888916\tvalid_1's auc: 0.854822\n",
            "Early stopping, best iteration is:\n",
            "[1]\tvalid_0's auc: 0.811337\tvalid_1's auc: 0.883386\n"
          ]
        },
        {
          "name": "stderr",
          "output_type": "stream",
          "text": [
            "c:\\Users\\daich\\AppData\\Local\\Programs\\Python\\Python38\\lib\\site-packages\\lightgbm\\engine.py:239: UserWarning: 'verbose_eval' argument is deprecated and will be removed in a future release of LightGBM. Pass 'log_evaluation()' callback via 'callbacks' argument instead.\n",
            "  _log_warning(\"'verbose_eval' argument is deprecated and will be removed in a future release of LightGBM. \"\n",
            "min_data_in_leaf, val_score: 0.883386:  80%|########  | 4/5 [00:01<00:00,  3.85it/s][I 2023-07-04 00:24:29,519] Trial 66 finished with value: 0.8833857442348009 and parameters: {'min_child_samples': 25}. Best is trial 63 with value: 0.8833857442348009.\n",
            "min_data_in_leaf, val_score: 0.883386:  80%|########  | 4/5 [00:01<00:00,  3.85it/s]"
          ]
        },
        {
          "name": "stdout",
          "output_type": "stream",
          "text": [
            "[10]\tvalid_0's auc: 0.845448\tvalid_1's auc: 0.845912\n",
            "[20]\tvalid_0's auc: 0.860731\tvalid_1's auc: 0.856918\n",
            "[30]\tvalid_0's auc: 0.873683\tvalid_1's auc: 0.848532\n",
            "[40]\tvalid_0's auc: 0.882695\tvalid_1's auc: 0.853774\n",
            "[50]\tvalid_0's auc: 0.888916\tvalid_1's auc: 0.854822\n",
            "Early stopping, best iteration is:\n",
            "[1]\tvalid_0's auc: 0.811337\tvalid_1's auc: 0.883386\n"
          ]
        },
        {
          "name": "stderr",
          "output_type": "stream",
          "text": [
            "c:\\Users\\daich\\AppData\\Local\\Programs\\Python\\Python38\\lib\\site-packages\\lightgbm\\engine.py:239: UserWarning: 'verbose_eval' argument is deprecated and will be removed in a future release of LightGBM. Pass 'log_evaluation()' callback via 'callbacks' argument instead.\n",
            "  _log_warning(\"'verbose_eval' argument is deprecated and will be removed in a future release of LightGBM. \"\n",
            "min_data_in_leaf, val_score: 0.883386: 100%|##########| 5/5 [00:01<00:00,  3.91it/s][I 2023-07-04 00:24:29,768] Trial 67 finished with value: 0.8833857442348009 and parameters: {'min_child_samples': 50}. Best is trial 63 with value: 0.8833857442348009.\n",
            "min_data_in_leaf, val_score: 0.883386: 100%|##########| 5/5 [00:01<00:00,  3.98it/s]\n",
            "[I 2023-07-04 00:24:29,774] A new study created in memory with name: no-name-34a4c9b8-4c7a-47ec-8eef-6ee779674934\n"
          ]
        },
        {
          "name": "stdout",
          "output_type": "stream",
          "text": [
            "[10]\tvalid_0's auc: 0.845448\tvalid_1's auc: 0.845912\n",
            "[20]\tvalid_0's auc: 0.860731\tvalid_1's auc: 0.856918\n",
            "[30]\tvalid_0's auc: 0.873683\tvalid_1's auc: 0.848532\n",
            "[40]\tvalid_0's auc: 0.882695\tvalid_1's auc: 0.853774\n",
            "[50]\tvalid_0's auc: 0.888916\tvalid_1's auc: 0.854822\n",
            "Early stopping, best iteration is:\n",
            "[1]\tvalid_0's auc: 0.811337\tvalid_1's auc: 0.883386\n",
            "ROC: 0.8833857442348009\n"
          ]
        },
        {
          "name": "stderr",
          "output_type": "stream",
          "text": [
            "feature_fraction, val_score: -inf:   0%|          | 0/7 [00:00<?, ?it/s]"
          ]
        },
        {
          "name": "stdout",
          "output_type": "stream",
          "text": [
            "[LightGBM] [Warning] min_data_in_leaf is set=20, min_child_samples=20 will be ignored. Current value: min_data_in_leaf=20\n"
          ]
        },
        {
          "name": "stderr",
          "output_type": "stream",
          "text": [
            "c:\\Users\\daich\\AppData\\Local\\Programs\\Python\\Python38\\lib\\site-packages\\lightgbm\\engine.py:239: UserWarning: 'verbose_eval' argument is deprecated and will be removed in a future release of LightGBM. Pass 'log_evaluation()' callback via 'callbacks' argument instead.\n",
            "  _log_warning(\"'verbose_eval' argument is deprecated and will be removed in a future release of LightGBM. \"\n",
            "feature_fraction, val_score: 0.834906:  14%|#4        | 1/7 [00:00<00:01,  5.77it/s][I 2023-07-04 00:24:29,951] Trial 0 finished with value: 0.8349056603773585 and parameters: {'feature_fraction': 0.6}. Best is trial 0 with value: 0.8349056603773585.\n",
            "feature_fraction, val_score: 0.834906:  14%|#4        | 1/7 [00:00<00:01,  5.77it/s]c:\\Users\\daich\\AppData\\Local\\Programs\\Python\\Python38\\lib\\site-packages\\lightgbm\\engine.py:239: UserWarning: 'verbose_eval' argument is deprecated and will be removed in a future release of LightGBM. Pass 'log_evaluation()' callback via 'callbacks' argument instead.\n",
            "  _log_warning(\"'verbose_eval' argument is deprecated and will be removed in a future release of LightGBM. \"\n"
          ]
        },
        {
          "name": "stdout",
          "output_type": "stream",
          "text": [
            "Training until validation scores don't improve for 50 rounds\n",
            "[10]\tvalid_0's auc: 0.865721\tvalid_1's auc: 0.834906\n",
            "[20]\tvalid_0's auc: 0.87035\tvalid_1's auc: 0.834119\n",
            "[30]\tvalid_0's auc: 0.870646\tvalid_1's auc: 0.832285\n",
            "[40]\tvalid_0's auc: 0.87035\tvalid_1's auc: 0.831237\n",
            "[50]\tvalid_0's auc: 0.87017\tvalid_1's auc: 0.830189\n",
            "[60]\tvalid_0's auc: 0.869021\tvalid_1's auc: 0.830189\n",
            "Early stopping, best iteration is:\n",
            "[10]\tvalid_0's auc: 0.865721\tvalid_1's auc: 0.834906\n"
          ]
        },
        {
          "name": "stderr",
          "output_type": "stream",
          "text": [
            "feature_fraction, val_score: 0.834906:  29%|##8       | 2/7 [00:00<00:00,  5.41it/s][I 2023-07-04 00:24:30,144] Trial 1 finished with value: 0.8349056603773585 and parameters: {'feature_fraction': 0.5}. Best is trial 0 with value: 0.8349056603773585.\n",
            "feature_fraction, val_score: 0.834906:  29%|##8       | 2/7 [00:00<00:00,  5.41it/s]"
          ]
        },
        {
          "name": "stdout",
          "output_type": "stream",
          "text": [
            "[10]\tvalid_0's auc: 0.865721\tvalid_1's auc: 0.834906\n",
            "[20]\tvalid_0's auc: 0.87035\tvalid_1's auc: 0.834119\n",
            "[30]\tvalid_0's auc: 0.870646\tvalid_1's auc: 0.832285\n",
            "[40]\tvalid_0's auc: 0.87035\tvalid_1's auc: 0.831237\n",
            "[50]\tvalid_0's auc: 0.87017\tvalid_1's auc: 0.830189\n",
            "[60]\tvalid_0's auc: 0.869021\tvalid_1's auc: 0.830189\n",
            "Early stopping, best iteration is:\n",
            "[10]\tvalid_0's auc: 0.865721\tvalid_1's auc: 0.834906\n",
            "[10]\tvalid_0's auc: 0.864753\tvalid_1's auc: 0.814465\n"
          ]
        },
        {
          "name": "stderr",
          "output_type": "stream",
          "text": [
            "c:\\Users\\daich\\AppData\\Local\\Programs\\Python\\Python38\\lib\\site-packages\\lightgbm\\engine.py:239: UserWarning: 'verbose_eval' argument is deprecated and will be removed in a future release of LightGBM. Pass 'log_evaluation()' callback via 'callbacks' argument instead.\n",
            "  _log_warning(\"'verbose_eval' argument is deprecated and will be removed in a future release of LightGBM. \"\n",
            "feature_fraction, val_score: 0.834906:  43%|####2     | 3/7 [00:00<00:00,  5.09it/s][I 2023-07-04 00:24:30,354] Trial 2 finished with value: 0.8349056603773585 and parameters: {'feature_fraction': 1.0}. Best is trial 0 with value: 0.8349056603773585.\n",
            "feature_fraction, val_score: 0.834906:  43%|####2     | 3/7 [00:00<00:00,  5.09it/s]"
          ]
        },
        {
          "name": "stdout",
          "output_type": "stream",
          "text": [
            "[20]\tvalid_0's auc: 0.868331\tvalid_1's auc: 0.812893\n",
            "[30]\tvalid_0's auc: 0.87081\tvalid_1's auc: 0.817086\n",
            "[40]\tvalid_0's auc: 0.870728\tvalid_1's auc: 0.819444\n",
            "[50]\tvalid_0's auc: 0.870695\tvalid_1's auc: 0.81892\n",
            "[60]\tvalid_0's auc: 0.871089\tvalid_1's auc: 0.822065\n",
            "Early stopping, best iteration is:\n",
            "[10]\tvalid_0's auc: 0.865721\tvalid_1's auc: 0.834906\n",
            "[10]\tvalid_0's auc: 0.864441\tvalid_1's auc: 0.812893\n",
            "[20]\tvalid_0's auc: 0.871762\tvalid_1's auc: 0.827044\n",
            "[30]\tvalid_0's auc: 0.872041\tvalid_1's auc: 0.827044\n"
          ]
        },
        {
          "name": "stderr",
          "output_type": "stream",
          "text": [
            "c:\\Users\\daich\\AppData\\Local\\Programs\\Python\\Python38\\lib\\site-packages\\lightgbm\\engine.py:239: UserWarning: 'verbose_eval' argument is deprecated and will be removed in a future release of LightGBM. Pass 'log_evaluation()' callback via 'callbacks' argument instead.\n",
            "  _log_warning(\"'verbose_eval' argument is deprecated and will be removed in a future release of LightGBM. \"\n",
            "feature_fraction, val_score: 0.834906:  57%|#####7    | 4/7 [00:00<00:00,  5.27it/s][I 2023-07-04 00:24:30,534] Trial 3 finished with value: 0.8349056603773585 and parameters: {'feature_fraction': 0.7}. Best is trial 0 with value: 0.8349056603773585.\n",
            "feature_fraction, val_score: 0.834906:  57%|#####7    | 4/7 [00:00<00:00,  5.27it/s]"
          ]
        },
        {
          "name": "stdout",
          "output_type": "stream",
          "text": [
            "[40]\tvalid_0's auc: 0.872419\tvalid_1's auc: 0.823375\n",
            "[50]\tvalid_0's auc: 0.871729\tvalid_1's auc: 0.824423\n",
            "[60]\tvalid_0's auc: 0.871204\tvalid_1's auc: 0.827044\n",
            "Early stopping, best iteration is:\n",
            "[10]\tvalid_0's auc: 0.865721\tvalid_1's auc: 0.834906\n",
            "[10]\tvalid_0's auc: 0.859746\tvalid_1's auc: 0.800052\n",
            "[20]\tvalid_0's auc: 0.868183\tvalid_1's auc: 0.814203\n",
            "[30]\tvalid_0's auc: 0.870794\tvalid_1's auc: 0.816562\n",
            "[40]\tvalid_0's auc: 0.869579\tvalid_1's auc: 0.816562\n",
            "[50]\tvalid_0's auc: 0.869743\tvalid_1's auc: 0.81761\n",
            "[60]\tvalid_0's auc: 0.869349\tvalid_1's auc: 0.816562\n",
            "Early stopping, best iteration is:\n",
            "[10]\tvalid_0's auc: 0.865721\tvalid_1's auc: 0.834906\n"
          ]
        },
        {
          "name": "stderr",
          "output_type": "stream",
          "text": [
            "c:\\Users\\daich\\AppData\\Local\\Programs\\Python\\Python38\\lib\\site-packages\\lightgbm\\engine.py:239: UserWarning: 'verbose_eval' argument is deprecated and will be removed in a future release of LightGBM. Pass 'log_evaluation()' callback via 'callbacks' argument instead.\n",
            "  _log_warning(\"'verbose_eval' argument is deprecated and will be removed in a future release of LightGBM. \"\n",
            "feature_fraction, val_score: 0.834906:  71%|#######1  | 5/7 [00:00<00:00,  5.43it/s][I 2023-07-04 00:24:30,709] Trial 4 finished with value: 0.8349056603773585 and parameters: {'feature_fraction': 0.4}. Best is trial 0 with value: 0.8349056603773585.\n",
            "feature_fraction, val_score: 0.834906:  71%|#######1  | 5/7 [00:00<00:00,  5.43it/s]c:\\Users\\daich\\AppData\\Local\\Programs\\Python\\Python38\\lib\\site-packages\\lightgbm\\engine.py:239: UserWarning: 'verbose_eval' argument is deprecated and will be removed in a future release of LightGBM. Pass 'log_evaluation()' callback via 'callbacks' argument instead.\n",
            "  _log_warning(\"'verbose_eval' argument is deprecated and will be removed in a future release of LightGBM. \"\n",
            "feature_fraction, val_score: 0.834906:  86%|########5 | 6/7 [00:01<00:00,  5.46it/s][I 2023-07-04 00:24:30,889] Trial 5 finished with value: 0.8349056603773585 and parameters: {'feature_fraction': 0.8999999999999999}. Best is trial 0 with value: 0.8349056603773585.\n",
            "feature_fraction, val_score: 0.834906:  86%|########5 | 6/7 [00:01<00:00,  5.46it/s]c:\\Users\\daich\\AppData\\Local\\Programs\\Python\\Python38\\lib\\site-packages\\lightgbm\\engine.py:239: UserWarning: 'verbose_eval' argument is deprecated and will be removed in a future release of LightGBM. Pass 'log_evaluation()' callback via 'callbacks' argument instead.\n",
            "  _log_warning(\"'verbose_eval' argument is deprecated and will be removed in a future release of LightGBM. \"\n"
          ]
        },
        {
          "name": "stdout",
          "output_type": "stream",
          "text": [
            "[10]\tvalid_0's auc: 0.865869\tvalid_1's auc: 0.812631\n",
            "[20]\tvalid_0's auc: 0.866722\tvalid_1's auc: 0.823637\n",
            "[30]\tvalid_0's auc: 0.870777\tvalid_1's auc: 0.82521\n",
            "[40]\tvalid_0's auc: 0.871959\tvalid_1's auc: 0.823375\n",
            "[50]\tvalid_0's auc: 0.870941\tvalid_1's auc: 0.821803\n",
            "[60]\tvalid_0's auc: 0.869858\tvalid_1's auc: 0.820231\n",
            "Early stopping, best iteration is:\n",
            "[10]\tvalid_0's auc: 0.865721\tvalid_1's auc: 0.834906\n",
            "[10]\tvalid_0's auc: 0.865869\tvalid_1's auc: 0.812631\n",
            "[20]\tvalid_0's auc: 0.866722\tvalid_1's auc: 0.823637\n",
            "[30]\tvalid_0's auc: 0.870777\tvalid_1's auc: 0.82521\n"
          ]
        },
        {
          "name": "stderr",
          "output_type": "stream",
          "text": [
            "feature_fraction, val_score: 0.834906: 100%|##########| 7/7 [00:01<00:00,  5.46it/s][I 2023-07-04 00:24:31,073] Trial 6 finished with value: 0.8349056603773585 and parameters: {'feature_fraction': 0.8}. Best is trial 0 with value: 0.8349056603773585.\n",
            "feature_fraction, val_score: 0.834906: 100%|##########| 7/7 [00:01<00:00,  5.40it/s]\n"
          ]
        },
        {
          "name": "stdout",
          "output_type": "stream",
          "text": [
            "[40]\tvalid_0's auc: 0.871959\tvalid_1's auc: 0.823375\n",
            "[50]\tvalid_0's auc: 0.870941\tvalid_1's auc: 0.821803\n",
            "[60]\tvalid_0's auc: 0.869858\tvalid_1's auc: 0.820231\n",
            "Early stopping, best iteration is:\n",
            "[10]\tvalid_0's auc: 0.865721\tvalid_1's auc: 0.834906\n"
          ]
        },
        {
          "name": "stderr",
          "output_type": "stream",
          "text": [
            "num_leaves, val_score: 0.834906:   0%|          | 0/20 [00:00<?, ?it/s]"
          ]
        },
        {
          "name": "stdout",
          "output_type": "stream",
          "text": [
            "[10]\tvalid_0's auc: 0.865721\tvalid_1's auc: 0.834906\n",
            "[20]\tvalid_0's auc: 0.87035\tvalid_1's auc: 0.834119\n",
            "[30]\tvalid_0's auc: 0.870646\tvalid_1's auc: 0.832285\n",
            "[40]\tvalid_0's auc: 0.87035\tvalid_1's auc: 0.831237\n",
            "[50]\tvalid_0's auc: 0.87017\tvalid_1's auc: 0.830189\n"
          ]
        },
        {
          "name": "stderr",
          "output_type": "stream",
          "text": [
            "c:\\Users\\daich\\AppData\\Local\\Programs\\Python\\Python38\\lib\\site-packages\\lightgbm\\engine.py:239: UserWarning: 'verbose_eval' argument is deprecated and will be removed in a future release of LightGBM. Pass 'log_evaluation()' callback via 'callbacks' argument instead.\n",
            "  _log_warning(\"'verbose_eval' argument is deprecated and will be removed in a future release of LightGBM. \"\n",
            "num_leaves, val_score: 0.834906:   5%|5         | 1/20 [00:00<00:03,  5.65it/s][I 2023-07-04 00:24:31,254] Trial 7 finished with value: 0.8349056603773585 and parameters: {'num_leaves': 90}. Best is trial 7 with value: 0.8349056603773585.\n",
            "num_leaves, val_score: 0.834906:   5%|5         | 1/20 [00:00<00:03,  5.65it/s]"
          ]
        },
        {
          "name": "stdout",
          "output_type": "stream",
          "text": [
            "[60]\tvalid_0's auc: 0.869021\tvalid_1's auc: 0.830189\n",
            "Early stopping, best iteration is:\n",
            "[10]\tvalid_0's auc: 0.865721\tvalid_1's auc: 0.834906\n",
            "[10]\tvalid_0's auc: 0.865721\tvalid_1's auc: 0.834906\n",
            "[20]\tvalid_0's auc: 0.87035\tvalid_1's auc: 0.834119\n",
            "[30]\tvalid_0's auc: 0.870646\tvalid_1's auc: 0.832285\n",
            "[40]\tvalid_0's auc: 0.87035\tvalid_1's auc: 0.831237\n",
            "[50]\tvalid_0's auc: 0.87017\tvalid_1's auc: 0.830189\n",
            "[60]\tvalid_0's auc: 0.869021\tvalid_1's auc: 0.830189\n",
            "Early stopping, best iteration is:\n",
            "[10]\tvalid_0's auc: 0.865721\tvalid_1's auc: 0.834906\n"
          ]
        },
        {
          "name": "stderr",
          "output_type": "stream",
          "text": [
            "c:\\Users\\daich\\AppData\\Local\\Programs\\Python\\Python38\\lib\\site-packages\\lightgbm\\engine.py:239: UserWarning: 'verbose_eval' argument is deprecated and will be removed in a future release of LightGBM. Pass 'log_evaluation()' callback via 'callbacks' argument instead.\n",
            "  _log_warning(\"'verbose_eval' argument is deprecated and will be removed in a future release of LightGBM. \"\n",
            "num_leaves, val_score: 0.834906:  10%|#         | 2/20 [00:00<00:03,  5.25it/s][I 2023-07-04 00:24:31,454] Trial 8 finished with value: 0.8349056603773585 and parameters: {'num_leaves': 157}. Best is trial 7 with value: 0.8349056603773585.\n",
            "num_leaves, val_score: 0.834906:  10%|#         | 2/20 [00:00<00:03,  5.25it/s]"
          ]
        },
        {
          "name": "stdout",
          "output_type": "stream",
          "text": [
            "[10]\tvalid_0's auc: 0.865721\tvalid_1's auc: 0.834906\n",
            "[20]\tvalid_0's auc: 0.87035\tvalid_1's auc: 0.834119\n",
            "[30]\tvalid_0's auc: 0.870646\tvalid_1's auc: 0.832285\n"
          ]
        },
        {
          "name": "stderr",
          "output_type": "stream",
          "text": [
            "c:\\Users\\daich\\AppData\\Local\\Programs\\Python\\Python38\\lib\\site-packages\\lightgbm\\engine.py:239: UserWarning: 'verbose_eval' argument is deprecated and will be removed in a future release of LightGBM. Pass 'log_evaluation()' callback via 'callbacks' argument instead.\n",
            "  _log_warning(\"'verbose_eval' argument is deprecated and will be removed in a future release of LightGBM. \"\n",
            "num_leaves, val_score: 0.834906:  15%|#5        | 3/20 [00:00<00:03,  5.31it/s][I 2023-07-04 00:24:31,639] Trial 9 finished with value: 0.8349056603773585 and parameters: {'num_leaves': 238}. Best is trial 7 with value: 0.8349056603773585.\n",
            "num_leaves, val_score: 0.834906:  15%|#5        | 3/20 [00:00<00:03,  5.31it/s]c:\\Users\\daich\\AppData\\Local\\Programs\\Python\\Python38\\lib\\site-packages\\lightgbm\\engine.py:239: UserWarning: 'verbose_eval' argument is deprecated and will be removed in a future release of LightGBM. Pass 'log_evaluation()' callback via 'callbacks' argument instead.\n",
            "  _log_warning(\"'verbose_eval' argument is deprecated and will be removed in a future release of LightGBM. \"\n"
          ]
        },
        {
          "name": "stdout",
          "output_type": "stream",
          "text": [
            "[40]\tvalid_0's auc: 0.87035\tvalid_1's auc: 0.831237\n",
            "[50]\tvalid_0's auc: 0.87017\tvalid_1's auc: 0.830189\n",
            "[60]\tvalid_0's auc: 0.869021\tvalid_1's auc: 0.830189\n",
            "Early stopping, best iteration is:\n",
            "[10]\tvalid_0's auc: 0.865721\tvalid_1's auc: 0.834906\n",
            "[10]\tvalid_0's auc: 0.865721\tvalid_1's auc: 0.834906\n",
            "[20]\tvalid_0's auc: 0.87035\tvalid_1's auc: 0.834119\n",
            "[30]\tvalid_0's auc: 0.870646\tvalid_1's auc: 0.832285\n",
            "[40]\tvalid_0's auc: 0.87035\tvalid_1's auc: 0.831237\n"
          ]
        },
        {
          "name": "stderr",
          "output_type": "stream",
          "text": [
            "num_leaves, val_score: 0.834906:  20%|##        | 4/20 [00:00<00:03,  5.13it/s][I 2023-07-04 00:24:31,844] Trial 10 finished with value: 0.8349056603773585 and parameters: {'num_leaves': 12}. Best is trial 7 with value: 0.8349056603773585.\n",
            "num_leaves, val_score: 0.834906:  20%|##        | 4/20 [00:00<00:03,  5.13it/s]"
          ]
        },
        {
          "name": "stdout",
          "output_type": "stream",
          "text": [
            "[50]\tvalid_0's auc: 0.87017\tvalid_1's auc: 0.830189\n",
            "[60]\tvalid_0's auc: 0.869021\tvalid_1's auc: 0.830189\n",
            "Early stopping, best iteration is:\n",
            "[10]\tvalid_0's auc: 0.865721\tvalid_1's auc: 0.834906\n",
            "[10]\tvalid_0's auc: 0.865721\tvalid_1's auc: 0.834906\n",
            "[20]\tvalid_0's auc: 0.87035\tvalid_1's auc: 0.834119\n",
            "[30]\tvalid_0's auc: 0.870646\tvalid_1's auc: 0.832285\n",
            "[40]\tvalid_0's auc: 0.87035\tvalid_1's auc: 0.831237\n"
          ]
        },
        {
          "name": "stderr",
          "output_type": "stream",
          "text": [
            "c:\\Users\\daich\\AppData\\Local\\Programs\\Python\\Python38\\lib\\site-packages\\lightgbm\\engine.py:239: UserWarning: 'verbose_eval' argument is deprecated and will be removed in a future release of LightGBM. Pass 'log_evaluation()' callback via 'callbacks' argument instead.\n",
            "  _log_warning(\"'verbose_eval' argument is deprecated and will be removed in a future release of LightGBM. \"\n",
            "num_leaves, val_score: 0.834906:  25%|##5       | 5/20 [00:00<00:02,  5.06it/s][I 2023-07-04 00:24:32,046] Trial 11 finished with value: 0.8349056603773585 and parameters: {'num_leaves': 240}. Best is trial 7 with value: 0.8349056603773585.\n",
            "num_leaves, val_score: 0.834906:  25%|##5       | 5/20 [00:00<00:02,  5.06it/s]"
          ]
        },
        {
          "name": "stdout",
          "output_type": "stream",
          "text": [
            "[50]\tvalid_0's auc: 0.87017\tvalid_1's auc: 0.830189\n",
            "[60]\tvalid_0's auc: 0.869021\tvalid_1's auc: 0.830189\n",
            "Early stopping, best iteration is:\n",
            "[10]\tvalid_0's auc: 0.865721\tvalid_1's auc: 0.834906\n",
            "[10]\tvalid_0's auc: 0.863456\tvalid_1's auc: 0.832285\n",
            "[20]\tvalid_0's auc: 0.870203\tvalid_1's auc: 0.831237\n",
            "[30]\tvalid_0's auc: 0.870432\tvalid_1's auc: 0.828616\n",
            "[40]\tvalid_0's auc: 0.870432\tvalid_1's auc: 0.827568\n",
            "[50]\tvalid_0's auc: 0.870711\tvalid_1's auc: 0.828092\n"
          ]
        },
        {
          "name": "stderr",
          "output_type": "stream",
          "text": [
            "c:\\Users\\daich\\AppData\\Local\\Programs\\Python\\Python38\\lib\\site-packages\\lightgbm\\engine.py:239: UserWarning: 'verbose_eval' argument is deprecated and will be removed in a future release of LightGBM. Pass 'log_evaluation()' callback via 'callbacks' argument instead.\n",
            "  _log_warning(\"'verbose_eval' argument is deprecated and will be removed in a future release of LightGBM. \"\n",
            "num_leaves, val_score: 0.836216:  30%|###       | 6/20 [00:01<00:02,  4.81it/s][I 2023-07-04 00:24:32,275] Trial 12 finished with value: 0.8362159329140462 and parameters: {'num_leaves': 4}. Best is trial 12 with value: 0.8362159329140462.\n",
            "num_leaves, val_score: 0.836216:  30%|###       | 6/20 [00:01<00:02,  4.81it/s]"
          ]
        },
        {
          "name": "stdout",
          "output_type": "stream",
          "text": [
            "[60]\tvalid_0's auc: 0.87035\tvalid_1's auc: 0.828092\n",
            "Early stopping, best iteration is:\n",
            "[16]\tvalid_0's auc: 0.868233\tvalid_1's auc: 0.836216\n",
            "[10]\tvalid_0's auc: 0.865721\tvalid_1's auc: 0.834906\n",
            "[20]\tvalid_0's auc: 0.87035\tvalid_1's auc: 0.834119\n"
          ]
        },
        {
          "name": "stderr",
          "output_type": "stream",
          "text": [
            "c:\\Users\\daich\\AppData\\Local\\Programs\\Python\\Python38\\lib\\site-packages\\lightgbm\\engine.py:239: UserWarning: 'verbose_eval' argument is deprecated and will be removed in a future release of LightGBM. Pass 'log_evaluation()' callback via 'callbacks' argument instead.\n",
            "  _log_warning(\"'verbose_eval' argument is deprecated and will be removed in a future release of LightGBM. \"\n",
            "num_leaves, val_score: 0.836216:  35%|###5      | 7/20 [00:01<00:02,  4.59it/s][I 2023-07-04 00:24:32,513] Trial 13 finished with value: 0.8362159329140462 and parameters: {'num_leaves': 14}. Best is trial 12 with value: 0.8362159329140462.\n",
            "num_leaves, val_score: 0.836216:  35%|###5      | 7/20 [00:01<00:02,  4.59it/s]"
          ]
        },
        {
          "name": "stdout",
          "output_type": "stream",
          "text": [
            "[30]\tvalid_0's auc: 0.870646\tvalid_1's auc: 0.832285\n",
            "[40]\tvalid_0's auc: 0.87035\tvalid_1's auc: 0.831237\n",
            "[50]\tvalid_0's auc: 0.87017\tvalid_1's auc: 0.830189\n",
            "[60]\tvalid_0's auc: 0.869021\tvalid_1's auc: 0.830189\n",
            "Early stopping, best iteration is:\n",
            "[16]\tvalid_0's auc: 0.868233\tvalid_1's auc: 0.836216\n",
            "[10]\tvalid_0's auc: 0.863456\tvalid_1's auc: 0.832285\n",
            "[20]\tvalid_0's auc: 0.870203\tvalid_1's auc: 0.831237\n",
            "[30]\tvalid_0's auc: 0.870432\tvalid_1's auc: 0.828616\n",
            "[40]\tvalid_0's auc: 0.870432\tvalid_1's auc: 0.827568\n"
          ]
        },
        {
          "name": "stderr",
          "output_type": "stream",
          "text": [
            "c:\\Users\\daich\\AppData\\Local\\Programs\\Python\\Python38\\lib\\site-packages\\lightgbm\\engine.py:239: UserWarning: 'verbose_eval' argument is deprecated and will be removed in a future release of LightGBM. Pass 'log_evaluation()' callback via 'callbacks' argument instead.\n",
            "  _log_warning(\"'verbose_eval' argument is deprecated and will be removed in a future release of LightGBM. \"\n",
            "num_leaves, val_score: 0.836216:  40%|####      | 8/20 [00:01<00:02,  4.84it/s][I 2023-07-04 00:24:32,695] Trial 14 finished with value: 0.8362159329140462 and parameters: {'num_leaves': 4}. Best is trial 12 with value: 0.8362159329140462.\n",
            "num_leaves, val_score: 0.836216:  40%|####      | 8/20 [00:01<00:02,  4.84it/s]c:\\Users\\daich\\AppData\\Local\\Programs\\Python\\Python38\\lib\\site-packages\\lightgbm\\engine.py:239: UserWarning: 'verbose_eval' argument is deprecated and will be removed in a future release of LightGBM. Pass 'log_evaluation()' callback via 'callbacks' argument instead.\n",
            "  _log_warning(\"'verbose_eval' argument is deprecated and will be removed in a future release of LightGBM. \"\n"
          ]
        },
        {
          "name": "stdout",
          "output_type": "stream",
          "text": [
            "[50]\tvalid_0's auc: 0.870711\tvalid_1's auc: 0.828092\n",
            "[60]\tvalid_0's auc: 0.87035\tvalid_1's auc: 0.828092\n",
            "Early stopping, best iteration is:\n",
            "[16]\tvalid_0's auc: 0.868233\tvalid_1's auc: 0.836216\n",
            "[10]\tvalid_0's auc: 0.865721\tvalid_1's auc: 0.834906\n",
            "[20]\tvalid_0's auc: 0.87035\tvalid_1's auc: 0.834119\n"
          ]
        },
        {
          "name": "stderr",
          "output_type": "stream",
          "text": [
            "num_leaves, val_score: 0.836216:  40%|####      | 8/20 [00:01<00:02,  4.84it/s]"
          ]
        },
        {
          "name": "stdout",
          "output_type": "stream",
          "text": [
            "[30]\tvalid_0's auc: 0.870646\tvalid_1's auc: 0.832285\n",
            "[40]\tvalid_0's auc: 0.87035\tvalid_1's auc: 0.831237\n",
            "[50]\tvalid_0's auc: 0.87017\tvalid_1's auc: 0.830189\n",
            "[60]\tvalid_0's auc: 0.869021\tvalid_1's auc: 0.830189\n",
            "Early stopping, best iteration is:\n",
            "[16]\tvalid_0's auc: 0.868233\tvalid_1's auc: 0.836216\n"
          ]
        },
        {
          "name": "stderr",
          "output_type": "stream",
          "text": [
            "num_leaves, val_score: 0.836216:  45%|####5     | 9/20 [00:01<00:02,  5.01it/s][I 2023-07-04 00:24:32,881] Trial 15 finished with value: 0.8362159329140462 and parameters: {'num_leaves': 88}. Best is trial 12 with value: 0.8362159329140462.\n",
            "num_leaves, val_score: 0.836216:  45%|####5     | 9/20 [00:01<00:02,  5.01it/s]"
          ]
        },
        {
          "name": "stdout",
          "output_type": "stream",
          "text": [
            "[10]\tvalid_0's auc: 0.865721\tvalid_1's auc: 0.834906\n",
            "[20]\tvalid_0's auc: 0.87035\tvalid_1's auc: 0.834119\n",
            "[30]\tvalid_0's auc: 0.870646\tvalid_1's auc: 0.832285\n",
            "[40]\tvalid_0's auc: 0.87035\tvalid_1's auc: 0.831237\n",
            "[50]\tvalid_0's auc: 0.87017\tvalid_1's auc: 0.830189\n"
          ]
        },
        {
          "name": "stderr",
          "output_type": "stream",
          "text": [
            "c:\\Users\\daich\\AppData\\Local\\Programs\\Python\\Python38\\lib\\site-packages\\lightgbm\\engine.py:239: UserWarning: 'verbose_eval' argument is deprecated and will be removed in a future release of LightGBM. Pass 'log_evaluation()' callback via 'callbacks' argument instead.\n",
            "  _log_warning(\"'verbose_eval' argument is deprecated and will be removed in a future release of LightGBM. \"\n",
            "num_leaves, val_score: 0.836216:  50%|#####     | 10/20 [00:01<00:01,  5.19it/s][I 2023-07-04 00:24:33,056] Trial 16 finished with value: 0.8362159329140462 and parameters: {'num_leaves': 57}. Best is trial 12 with value: 0.8362159329140462.\n",
            "num_leaves, val_score: 0.836216:  50%|#####     | 10/20 [00:01<00:01,  5.19it/s]c:\\Users\\daich\\AppData\\Local\\Programs\\Python\\Python38\\lib\\site-packages\\lightgbm\\engine.py:239: UserWarning: 'verbose_eval' argument is deprecated and will be removed in a future release of LightGBM. Pass 'log_evaluation()' callback via 'callbacks' argument instead.\n",
            "  _log_warning(\"'verbose_eval' argument is deprecated and will be removed in a future release of LightGBM. \"\n"
          ]
        },
        {
          "name": "stdout",
          "output_type": "stream",
          "text": [
            "[60]\tvalid_0's auc: 0.869021\tvalid_1's auc: 0.830189\n",
            "Early stopping, best iteration is:\n",
            "[16]\tvalid_0's auc: 0.868233\tvalid_1's auc: 0.836216\n",
            "[10]\tvalid_0's auc: 0.865721\tvalid_1's auc: 0.834906\n",
            "[20]\tvalid_0's auc: 0.87035\tvalid_1's auc: 0.834119\n",
            "[30]\tvalid_0's auc: 0.870646\tvalid_1's auc: 0.832285\n",
            "[40]\tvalid_0's auc: 0.87035\tvalid_1's auc: 0.831237\n",
            "[50]\tvalid_0's auc: 0.87017\tvalid_1's auc: 0.830189\n",
            "[60]\tvalid_0's auc: 0.869021\tvalid_1's auc: 0.830189\n",
            "Early stopping, best iteration is:\n",
            "[16]\tvalid_0's auc: 0.868233\tvalid_1's auc: 0.836216\n"
          ]
        },
        {
          "name": "stderr",
          "output_type": "stream",
          "text": [
            "num_leaves, val_score: 0.836216:  55%|#####5    | 11/20 [00:02<00:01,  5.15it/s][I 2023-07-04 00:24:33,255] Trial 17 finished with value: 0.8362159329140462 and parameters: {'num_leaves': 40}. Best is trial 12 with value: 0.8362159329140462.\n",
            "num_leaves, val_score: 0.836216:  55%|#####5    | 11/20 [00:02<00:01,  5.15it/s]"
          ]
        },
        {
          "name": "stdout",
          "output_type": "stream",
          "text": [
            "[10]\tvalid_0's auc: 0.865721\tvalid_1's auc: 0.834906"
          ]
        },
        {
          "name": "stderr",
          "output_type": "stream",
          "text": [
            "c:\\Users\\daich\\AppData\\Local\\Programs\\Python\\Python38\\lib\\site-packages\\lightgbm\\engine.py:239: UserWarning: 'verbose_eval' argument is deprecated and will be removed in a future release of LightGBM. Pass 'log_evaluation()' callback via 'callbacks' argument instead.\n",
            "  _log_warning(\"'verbose_eval' argument is deprecated and will be removed in a future release of LightGBM. \"\n",
            "num_leaves, val_score: 0.836216:  60%|######    | 12/20 [00:02<00:01,  4.64it/s][I 2023-07-04 00:24:33,519] Trial 18 finished with value: 0.8362159329140462 and parameters: {'num_leaves': 169}. Best is trial 12 with value: 0.8362159329140462.\n",
            "num_leaves, val_score: 0.836216:  60%|######    | 12/20 [00:02<00:01,  4.64it/s]"
          ]
        },
        {
          "name": "stdout",
          "output_type": "stream",
          "text": [
            "\n",
            "[20]\tvalid_0's auc: 0.87035\tvalid_1's auc: 0.834119\n",
            "[30]\tvalid_0's auc: 0.870646\tvalid_1's auc: 0.832285\n",
            "[40]\tvalid_0's auc: 0.87035\tvalid_1's auc: 0.831237\n",
            "[50]\tvalid_0's auc: 0.87017\tvalid_1's auc: 0.830189\n",
            "[60]\tvalid_0's auc: 0.869021\tvalid_1's auc: 0.830189\n",
            "Early stopping, best iteration is:\n",
            "[16]\tvalid_0's auc: 0.868233\tvalid_1's auc: 0.836216\n"
          ]
        },
        {
          "name": "stderr",
          "output_type": "stream",
          "text": [
            "c:\\Users\\daich\\AppData\\Local\\Programs\\Python\\Python38\\lib\\site-packages\\lightgbm\\engine.py:239: UserWarning: 'verbose_eval' argument is deprecated and will be removed in a future release of LightGBM. Pass 'log_evaluation()' callback via 'callbacks' argument instead.\n",
            "  _log_warning(\"'verbose_eval' argument is deprecated and will be removed in a future release of LightGBM. \"\n",
            "num_leaves, val_score: 0.836216:  65%|######5   | 13/20 [00:02<00:01,  4.58it/s][I 2023-07-04 00:24:33,744] Trial 19 finished with value: 0.8362159329140462 and parameters: {'num_leaves': 52}. Best is trial 12 with value: 0.8362159329140462.\n",
            "num_leaves, val_score: 0.836216:  65%|######5   | 13/20 [00:02<00:01,  4.58it/s]"
          ]
        },
        {
          "name": "stdout",
          "output_type": "stream",
          "text": [
            "[10]\tvalid_0's auc: 0.865721\tvalid_1's auc: 0.834906\n",
            "[20]\tvalid_0's auc: 0.87035\tvalid_1's auc: 0.834119\n",
            "[30]\tvalid_0's auc: 0.870646\tvalid_1's auc: 0.832285\n",
            "[40]\tvalid_0's auc: 0.87035\tvalid_1's auc: 0.831237\n",
            "[50]\tvalid_0's auc: 0.87017\tvalid_1's auc: 0.830189\n",
            "[60]\tvalid_0's auc: 0.869021\tvalid_1's auc: 0.830189\n",
            "Early stopping, best iteration is:\n",
            "[16]\tvalid_0's auc: 0.868233\tvalid_1's auc: 0.836216\n"
          ]
        },
        {
          "name": "stderr",
          "output_type": "stream",
          "text": [
            "c:\\Users\\daich\\AppData\\Local\\Programs\\Python\\Python38\\lib\\site-packages\\lightgbm\\engine.py:239: UserWarning: 'verbose_eval' argument is deprecated and will be removed in a future release of LightGBM. Pass 'log_evaluation()' callback via 'callbacks' argument instead.\n",
            "  _log_warning(\"'verbose_eval' argument is deprecated and will be removed in a future release of LightGBM. \"\n",
            "num_leaves, val_score: 0.836216:  70%|#######   | 14/20 [00:02<00:01,  4.74it/s][I 2023-07-04 00:24:33,938] Trial 20 finished with value: 0.8362159329140462 and parameters: {'num_leaves': 123}. Best is trial 12 with value: 0.8362159329140462.\n",
            "num_leaves, val_score: 0.836216:  70%|#######   | 14/20 [00:02<00:01,  4.74it/s]c:\\Users\\daich\\AppData\\Local\\Programs\\Python\\Python38\\lib\\site-packages\\lightgbm\\engine.py:239: UserWarning: 'verbose_eval' argument is deprecated and will be removed in a future release of LightGBM. Pass 'log_evaluation()' callback via 'callbacks' argument instead.\n",
            "  _log_warning(\"'verbose_eval' argument is deprecated and will be removed in a future release of LightGBM. \"\n"
          ]
        },
        {
          "name": "stdout",
          "output_type": "stream",
          "text": [
            "[10]\tvalid_0's auc: 0.865721\tvalid_1's auc: 0.834906\n",
            "[20]\tvalid_0's auc: 0.87035\tvalid_1's auc: 0.834119\n",
            "[30]\tvalid_0's auc: 0.870646\tvalid_1's auc: 0.832285\n",
            "[40]\tvalid_0's auc: 0.87035\tvalid_1's auc: 0.831237\n",
            "[50]\tvalid_0's auc: 0.87017\tvalid_1's auc: 0.830189\n",
            "[60]\tvalid_0's auc: 0.869021\tvalid_1's auc: 0.830189\n",
            "Early stopping, best iteration is:\n",
            "[16]\tvalid_0's auc: 0.868233\tvalid_1's auc: 0.836216\n",
            "[10]\tvalid_0's auc: 0.862717\tvalid_1's auc: 0.820755\n",
            "[20]\tvalid_0's auc: 0.863144\tvalid_1's auc: 0.819969\n",
            "[30]\tvalid_0's auc: 0.863866\tvalid_1's auc: 0.813679\n",
            "[40]\tvalid_0's auc: 0.864244\tvalid_1's auc: 0.810797\n"
          ]
        },
        {
          "name": "stderr",
          "output_type": "stream",
          "text": [
            "num_leaves, val_score: 0.836216:  75%|#######5  | 15/20 [00:03<00:00,  5.05it/s][I 2023-07-04 00:24:34,106] Trial 21 finished with value: 0.8362159329140462 and parameters: {'num_leaves': 3}. Best is trial 12 with value: 0.8362159329140462.\n",
            "num_leaves, val_score: 0.836216:  75%|#######5  | 15/20 [00:03<00:00,  5.05it/s]c:\\Users\\daich\\AppData\\Local\\Programs\\Python\\Python38\\lib\\site-packages\\lightgbm\\engine.py:239: UserWarning: 'verbose_eval' argument is deprecated and will be removed in a future release of LightGBM. Pass 'log_evaluation()' callback via 'callbacks' argument instead.\n",
            "  _log_warning(\"'verbose_eval' argument is deprecated and will be removed in a future release of LightGBM. \"\n"
          ]
        },
        {
          "name": "stdout",
          "output_type": "stream",
          "text": [
            "[50]\tvalid_0's auc: 0.86403\tvalid_1's auc: 0.811321\n",
            "[60]\tvalid_0's auc: 0.864917\tvalid_1's auc: 0.812893\n",
            "Early stopping, best iteration is:\n",
            "[16]\tvalid_0's auc: 0.868233\tvalid_1's auc: 0.836216\n",
            "[10]\tvalid_0's auc: 0.862717\tvalid_1's auc: 0.820755\n",
            "[20]\tvalid_0's auc: 0.863144\tvalid_1's auc: 0.819969\n",
            "[30]\tvalid_0's auc: 0.863866\tvalid_1's auc: 0.813679\n",
            "[40]\tvalid_0's auc: 0.864244\tvalid_1's auc: 0.810797\n",
            "[50]\tvalid_0's auc: 0.86403\tvalid_1's auc: 0.811321\n",
            "[60]\tvalid_0's auc: 0.864917\tvalid_1's auc: 0.812893\n",
            "Early stopping, best iteration is:\n",
            "[16]\tvalid_0's auc: 0.868233\tvalid_1's auc: 0.836216\n"
          ]
        },
        {
          "name": "stderr",
          "output_type": "stream",
          "text": [
            "num_leaves, val_score: 0.836216:  80%|########  | 16/20 [00:03<00:00,  5.16it/s][I 2023-07-04 00:24:34,289] Trial 22 finished with value: 0.8362159329140462 and parameters: {'num_leaves': 3}. Best is trial 12 with value: 0.8362159329140462.\n",
            "num_leaves, val_score: 0.836216:  80%|########  | 16/20 [00:03<00:00,  5.16it/s]c:\\Users\\daich\\AppData\\Local\\Programs\\Python\\Python38\\lib\\site-packages\\lightgbm\\engine.py:239: UserWarning: 'verbose_eval' argument is deprecated and will be removed in a future release of LightGBM. Pass 'log_evaluation()' callback via 'callbacks' argument instead.\n",
            "  _log_warning(\"'verbose_eval' argument is deprecated and will be removed in a future release of LightGBM. \"\n",
            "num_leaves, val_score: 0.836216:  85%|########5 | 17/20 [00:03<00:00,  5.05it/s][I 2023-07-04 00:24:34,498] Trial 23 finished with value: 0.8362159329140462 and parameters: {'num_leaves': 39}. Best is trial 12 with value: 0.8362159329140462.\n",
            "num_leaves, val_score: 0.836216:  85%|########5 | 17/20 [00:03<00:00,  5.05it/s]"
          ]
        },
        {
          "name": "stdout",
          "output_type": "stream",
          "text": [
            "[10]\tvalid_0's auc: 0.865721\tvalid_1's auc: 0.834906\n",
            "[20]\tvalid_0's auc: 0.87035\tvalid_1's auc: 0.834119\n",
            "[30]\tvalid_0's auc: 0.870646\tvalid_1's auc: 0.832285\n",
            "[40]\tvalid_0's auc: 0.87035\tvalid_1's auc: 0.831237\n",
            "[50]\tvalid_0's auc: 0.87017\tvalid_1's auc: 0.830189\n",
            "[60]\tvalid_0's auc: 0.869021\tvalid_1's auc: 0.830189\n",
            "Early stopping, best iteration is:\n",
            "[16]\tvalid_0's auc: 0.868233\tvalid_1's auc: 0.836216\n",
            "[10]\tvalid_0's auc: 0.865721\tvalid_1's auc: 0.834906\n",
            "[20]\tvalid_0's auc: 0.87035\tvalid_1's auc: 0.834119\n"
          ]
        },
        {
          "name": "stderr",
          "output_type": "stream",
          "text": [
            "c:\\Users\\daich\\AppData\\Local\\Programs\\Python\\Python38\\lib\\site-packages\\lightgbm\\engine.py:239: UserWarning: 'verbose_eval' argument is deprecated and will be removed in a future release of LightGBM. Pass 'log_evaluation()' callback via 'callbacks' argument instead.\n",
            "  _log_warning(\"'verbose_eval' argument is deprecated and will be removed in a future release of LightGBM. \"\n",
            "num_leaves, val_score: 0.836216:  90%|######### | 18/20 [00:03<00:00,  5.20it/s][I 2023-07-04 00:24:34,676] Trial 24 finished with value: 0.8362159329140462 and parameters: {'num_leaves': 30}. Best is trial 12 with value: 0.8362159329140462.\n",
            "num_leaves, val_score: 0.836216:  90%|######### | 18/20 [00:03<00:00,  5.20it/s]c:\\Users\\daich\\AppData\\Local\\Programs\\Python\\Python38\\lib\\site-packages\\lightgbm\\engine.py:239: UserWarning: 'verbose_eval' argument is deprecated and will be removed in a future release of LightGBM. Pass 'log_evaluation()' callback via 'callbacks' argument instead.\n",
            "  _log_warning(\"'verbose_eval' argument is deprecated and will be removed in a future release of LightGBM. \"\n"
          ]
        },
        {
          "name": "stdout",
          "output_type": "stream",
          "text": [
            "[30]\tvalid_0's auc: 0.870646\tvalid_1's auc: 0.832285\n",
            "[40]\tvalid_0's auc: 0.87035\tvalid_1's auc: 0.831237\n",
            "[50]\tvalid_0's auc: 0.87017\tvalid_1's auc: 0.830189\n",
            "[60]\tvalid_0's auc: 0.869021\tvalid_1's auc: 0.830189\n",
            "Early stopping, best iteration is:\n",
            "[16]\tvalid_0's auc: 0.868233\tvalid_1's auc: 0.836216\n",
            "[10]\tvalid_0's auc: 0.865721\tvalid_1's auc: 0.834906\n",
            "[20]\tvalid_0's auc: 0.87035\tvalid_1's auc: 0.834119\n",
            "[30]\tvalid_0's auc: 0.870646\tvalid_1's auc: 0.832285\n",
            "[40]\tvalid_0's auc: 0.87035\tvalid_1's auc: 0.831237\n"
          ]
        },
        {
          "name": "stderr",
          "output_type": "stream",
          "text": [
            "num_leaves, val_score: 0.836216:  95%|#########5| 19/20 [00:03<00:00,  5.17it/s][I 2023-07-04 00:24:34,872] Trial 25 finished with value: 0.8362159329140462 and parameters: {'num_leaves': 77}. Best is trial 12 with value: 0.8362159329140462.\n",
            "num_leaves, val_score: 0.836216:  95%|#########5| 19/20 [00:03<00:00,  5.17it/s]"
          ]
        },
        {
          "name": "stdout",
          "output_type": "stream",
          "text": [
            "[50]\tvalid_0's auc: 0.87017\tvalid_1's auc: 0.830189\n",
            "[60]\tvalid_0's auc: 0.869021\tvalid_1's auc: 0.830189\n",
            "Early stopping, best iteration is:\n",
            "[16]\tvalid_0's auc: 0.868233\tvalid_1's auc: 0.836216\n",
            "[10]\tvalid_0's auc: 0.865721\tvalid_1's auc: 0.834906\n",
            "[20]\tvalid_0's auc: 0.87035\tvalid_1's auc: 0.834119\n",
            "[30]\tvalid_0's auc: 0.870646\tvalid_1's auc: 0.832285\n",
            "[40]\tvalid_0's auc: 0.87035\tvalid_1's auc: 0.831237\n",
            "[50]\tvalid_0's auc: 0.87017\tvalid_1's auc: 0.830189\n",
            "[60]\tvalid_0's auc: 0.869021\tvalid_1's auc: 0.830189\n",
            "Early stopping, best iteration is:\n",
            "[16]\tvalid_0's auc: 0.868233\tvalid_1's auc: 0.836216\n"
          ]
        },
        {
          "name": "stderr",
          "output_type": "stream",
          "text": [
            "c:\\Users\\daich\\AppData\\Local\\Programs\\Python\\Python38\\lib\\site-packages\\lightgbm\\engine.py:239: UserWarning: 'verbose_eval' argument is deprecated and will be removed in a future release of LightGBM. Pass 'log_evaluation()' callback via 'callbacks' argument instead.\n",
            "  _log_warning(\"'verbose_eval' argument is deprecated and will be removed in a future release of LightGBM. \"\n",
            "num_leaves, val_score: 0.836216: 100%|##########| 20/20 [00:03<00:00,  5.28it/s][I 2023-07-04 00:24:35,053] Trial 26 finished with value: 0.8362159329140462 and parameters: {'num_leaves': 17}. Best is trial 12 with value: 0.8362159329140462.\n",
            "num_leaves, val_score: 0.836216: 100%|##########| 20/20 [00:03<00:00,  5.03it/s]\n",
            "bagging, val_score: 0.836216:   0%|          | 0/10 [00:00<?, ?it/s]c:\\Users\\daich\\AppData\\Local\\Programs\\Python\\Python38\\lib\\site-packages\\lightgbm\\engine.py:239: UserWarning: 'verbose_eval' argument is deprecated and will be removed in a future release of LightGBM. Pass 'log_evaluation()' callback via 'callbacks' argument instead.\n",
            "  _log_warning(\"'verbose_eval' argument is deprecated and will be removed in a future release of LightGBM. \"\n",
            "bagging, val_score: 0.836216:  10%|#         | 1/10 [00:00<00:02,  3.70it/s][I 2023-07-04 00:24:35,327] Trial 27 finished with value: 0.8362159329140462 and parameters: {'bagging_fraction': 0.8907984369921246, 'bagging_freq': 2}. Best is trial 27 with value: 0.8362159329140462.\n",
            "bagging, val_score: 0.836216:  10%|#         | 1/10 [00:00<00:02,  3.70it/s]"
          ]
        },
        {
          "name": "stdout",
          "output_type": "stream",
          "text": [
            "[10]\tvalid_0's auc: 0.863702\tvalid_1's auc: 0.828354\n",
            "[20]\tvalid_0's auc: 0.862093\tvalid_1's auc: 0.818134\n",
            "[30]\tvalid_0's auc: 0.863554\tvalid_1's auc: 0.817348\n",
            "[40]\tvalid_0's auc: 0.865032\tvalid_1's auc: 0.815514\n",
            "[50]\tvalid_0's auc: 0.866049\tvalid_1's auc: 0.816562\n",
            "[60]\tvalid_0's auc: 0.865655\tvalid_1's auc: 0.815514\n",
            "Early stopping, best iteration is:\n",
            "[16]\tvalid_0's auc: 0.868233\tvalid_1's auc: 0.836216\n"
          ]
        },
        {
          "name": "stderr",
          "output_type": "stream",
          "text": [
            "c:\\Users\\daich\\AppData\\Local\\Programs\\Python\\Python38\\lib\\site-packages\\lightgbm\\engine.py:239: UserWarning: 'verbose_eval' argument is deprecated and will be removed in a future release of LightGBM. Pass 'log_evaluation()' callback via 'callbacks' argument instead.\n",
            "  _log_warning(\"'verbose_eval' argument is deprecated and will be removed in a future release of LightGBM. \"\n",
            "bagging, val_score: 0.836216:  20%|##        | 2/10 [00:00<00:01,  4.58it/s][I 2023-07-04 00:24:35,509] Trial 28 finished with value: 0.8362159329140462 and parameters: {'bagging_fraction': 0.4022323516977011, 'bagging_freq': 7}. Best is trial 27 with value: 0.8362159329140462.\n",
            "bagging, val_score: 0.836216:  20%|##        | 2/10 [00:00<00:01,  4.58it/s]c:\\Users\\daich\\AppData\\Local\\Programs\\Python\\Python38\\lib\\site-packages\\lightgbm\\engine.py:239: UserWarning: 'verbose_eval' argument is deprecated and will be removed in a future release of LightGBM. Pass 'log_evaluation()' callback via 'callbacks' argument instead.\n",
            "  _log_warning(\"'verbose_eval' argument is deprecated and will be removed in a future release of LightGBM. \"\n"
          ]
        },
        {
          "name": "stdout",
          "output_type": "stream",
          "text": [
            "[10]\tvalid_0's auc: 0.835615\tvalid_1's auc: 0.821541\n",
            "[20]\tvalid_0's auc: 0.844644\tvalid_1's auc: 0.81761\n",
            "[30]\tvalid_0's auc: 0.845481\tvalid_1's auc: 0.81761\n",
            "[40]\tvalid_0's auc: 0.84686\tvalid_1's auc: 0.816562\n",
            "[50]\tvalid_0's auc: 0.84663\tvalid_1's auc: 0.81001\n",
            "[60]\tvalid_0's auc: 0.845809\tvalid_1's auc: 0.80739\n",
            "Early stopping, best iteration is:\n",
            "[16]\tvalid_0's auc: 0.868233\tvalid_1's auc: 0.836216\n",
            "[10]\tvalid_0's auc: 0.860534\tvalid_1's auc: 0.831499\n",
            "[20]\tvalid_0's auc: 0.864868\tvalid_1's auc: 0.818396\n",
            "[30]\tvalid_0's auc: 0.865212\tvalid_1's auc: 0.813417\n"
          ]
        },
        {
          "name": "stderr",
          "output_type": "stream",
          "text": [
            "bagging, val_score: 0.836216:  30%|###       | 3/10 [00:00<00:01,  4.89it/s][I 2023-07-04 00:24:35,697] Trial 29 finished with value: 0.8362159329140462 and parameters: {'bagging_fraction': 0.8781596078632559, 'bagging_freq': 6}. Best is trial 27 with value: 0.8362159329140462.\n",
            "bagging, val_score: 0.836216:  30%|###       | 3/10 [00:00<00:01,  4.89it/s]"
          ]
        },
        {
          "name": "stdout",
          "output_type": "stream",
          "text": [
            "[40]\tvalid_0's auc: 0.866099\tvalid_1's auc: 0.815514\n",
            "[50]\tvalid_0's auc: 0.867199\tvalid_1's auc: 0.814465\n",
            "[60]\tvalid_0's auc: 0.867231\tvalid_1's auc: 0.813941\n",
            "Early stopping, best iteration is:\n",
            "[16]\tvalid_0's auc: 0.868233\tvalid_1's auc: 0.836216\n",
            "[10]\tvalid_0's auc: 0.856988\tvalid_1's auc: 0.823899\n",
            "[20]\tvalid_0's auc: 0.855281\tvalid_1's auc: 0.819706\n",
            "[30]\tvalid_0's auc: 0.856479\tvalid_1's auc: 0.821541\n",
            "[40]\tvalid_0's auc: 0.857284\tvalid_1's auc: 0.820755\n",
            "[50]\tvalid_0's auc: 0.857842\tvalid_1's auc: 0.81761\n",
            "[60]\tvalid_0's auc: 0.860222\tvalid_1's auc: 0.817872\n",
            "Early stopping, best iteration is:\n",
            "[16]\tvalid_0's auc: 0.868233\tvalid_1's auc: 0.836216\n"
          ]
        },
        {
          "name": "stderr",
          "output_type": "stream",
          "text": [
            "c:\\Users\\daich\\AppData\\Local\\Programs\\Python\\Python38\\lib\\site-packages\\lightgbm\\engine.py:239: UserWarning: 'verbose_eval' argument is deprecated and will be removed in a future release of LightGBM. Pass 'log_evaluation()' callback via 'callbacks' argument instead.\n",
            "  _log_warning(\"'verbose_eval' argument is deprecated and will be removed in a future release of LightGBM. \"\n",
            "bagging, val_score: 0.836216:  40%|####      | 4/10 [00:00<00:01,  5.43it/s][I 2023-07-04 00:24:35,849] Trial 30 finished with value: 0.8362159329140462 and parameters: {'bagging_fraction': 0.5671373438586242, 'bagging_freq': 1}. Best is trial 27 with value: 0.8362159329140462.\n",
            "bagging, val_score: 0.836216:  40%|####      | 4/10 [00:00<00:01,  5.43it/s]c:\\Users\\daich\\AppData\\Local\\Programs\\Python\\Python38\\lib\\site-packages\\lightgbm\\engine.py:239: UserWarning: 'verbose_eval' argument is deprecated and will be removed in a future release of LightGBM. Pass 'log_evaluation()' callback via 'callbacks' argument instead.\n",
            "  _log_warning(\"'verbose_eval' argument is deprecated and will be removed in a future release of LightGBM. \"\n",
            "bagging, val_score: 0.842767:  50%|#####     | 5/10 [00:00<00:00,  5.23it/s][I 2023-07-04 00:24:36,053] Trial 31 finished with value: 0.8427672955974843 and parameters: {'bagging_fraction': 0.6916947716276335, 'bagging_freq': 4}. Best is trial 31 with value: 0.8427672955974843.\n",
            "bagging, val_score: 0.842767:  50%|#####     | 5/10 [00:00<00:00,  5.23it/s]"
          ]
        },
        {
          "name": "stdout",
          "output_type": "stream",
          "text": [
            "[10]\tvalid_0's auc: 0.847795\tvalid_1's auc: 0.838312\n",
            "[20]\tvalid_0's auc: 0.85858\tvalid_1's auc: 0.826782\n",
            "[30]\tvalid_0's auc: 0.86101\tvalid_1's auc: 0.821017\n",
            "[40]\tvalid_0's auc: 0.861223\tvalid_1's auc: 0.818658\n",
            "[50]\tvalid_0's auc: 0.861535\tvalid_1's auc: 0.81892\n",
            "[60]\tvalid_0's auc: 0.861634\tvalid_1's auc: 0.817872\n",
            "Early stopping, best iteration is:\n",
            "[14]\tvalid_0's auc: 0.853672\tvalid_1's auc: 0.842767\n"
          ]
        },
        {
          "name": "stderr",
          "output_type": "stream",
          "text": [
            "c:\\Users\\daich\\AppData\\Local\\Programs\\Python\\Python38\\lib\\site-packages\\lightgbm\\engine.py:239: UserWarning: 'verbose_eval' argument is deprecated and will be removed in a future release of LightGBM. Pass 'log_evaluation()' callback via 'callbacks' argument instead.\n",
            "  _log_warning(\"'verbose_eval' argument is deprecated and will be removed in a future release of LightGBM. \"\n",
            "bagging, val_score: 0.842767:  60%|######    | 6/10 [00:01<00:00,  5.06it/s][I 2023-07-04 00:24:36,264] Trial 32 finished with value: 0.8427672955974843 and parameters: {'bagging_fraction': 0.7095413129190068, 'bagging_freq': 4}. Best is trial 31 with value: 0.8427672955974843.\n",
            "bagging, val_score: 0.842767:  60%|######    | 6/10 [00:01<00:00,  5.06it/s]"
          ]
        },
        {
          "name": "stdout",
          "output_type": "stream",
          "text": [
            "[10]\tvalid_0's auc: 0.85336\tvalid_1's auc: 0.834906\n",
            "[20]\tvalid_0's auc: 0.859122\tvalid_1's auc: 0.823375\n",
            "[30]\tvalid_0's auc: 0.860255\tvalid_1's auc: 0.823113\n",
            "[40]\tvalid_0's auc: 0.861831\tvalid_1's auc: 0.818396\n",
            "[50]\tvalid_0's auc: 0.860731\tvalid_1's auc: 0.819182\n",
            "[60]\tvalid_0's auc: 0.861749\tvalid_1's auc: 0.81892\n",
            "Early stopping, best iteration is:\n",
            "[14]\tvalid_0's auc: 0.853672\tvalid_1's auc: 0.842767\n"
          ]
        },
        {
          "name": "stderr",
          "output_type": "stream",
          "text": [
            "c:\\Users\\daich\\AppData\\Local\\Programs\\Python\\Python38\\lib\\site-packages\\lightgbm\\engine.py:239: UserWarning: 'verbose_eval' argument is deprecated and will be removed in a future release of LightGBM. Pass 'log_evaluation()' callback via 'callbacks' argument instead.\n",
            "  _log_warning(\"'verbose_eval' argument is deprecated and will be removed in a future release of LightGBM. \"\n",
            "bagging, val_score: 0.842767:  70%|#######   | 7/10 [00:01<00:00,  4.90it/s][I 2023-07-04 00:24:36,481] Trial 33 finished with value: 0.8427672955974843 and parameters: {'bagging_fraction': 0.7027887606298715, 'bagging_freq': 4}. Best is trial 31 with value: 0.8427672955974843.\n",
            "bagging, val_score: 0.842767:  70%|#######   | 7/10 [00:01<00:00,  4.90it/s]"
          ]
        },
        {
          "name": "stdout",
          "output_type": "stream",
          "text": [
            "[10]\tvalid_0's auc: 0.847795\tvalid_1's auc: 0.838312\n",
            "[20]\tvalid_0's auc: 0.857924\tvalid_1's auc: 0.826782\n",
            "[30]\tvalid_0's auc: 0.859385\tvalid_1's auc: 0.823899\n",
            "[40]\tvalid_0's auc: 0.859943\tvalid_1's auc: 0.821279\n",
            "[50]\tvalid_0's auc: 0.860206\tvalid_1's auc: 0.821017\n",
            "[60]\tvalid_0's auc: 0.861059\tvalid_1's auc: 0.819706\n",
            "Early stopping, best iteration is:\n",
            "[14]\tvalid_0's auc: 0.853672\tvalid_1's auc: 0.842767\n"
          ]
        },
        {
          "name": "stderr",
          "output_type": "stream",
          "text": [
            "c:\\Users\\daich\\AppData\\Local\\Programs\\Python\\Python38\\lib\\site-packages\\lightgbm\\engine.py:239: UserWarning: 'verbose_eval' argument is deprecated and will be removed in a future release of LightGBM. Pass 'log_evaluation()' callback via 'callbacks' argument instead.\n",
            "  _log_warning(\"'verbose_eval' argument is deprecated and will be removed in a future release of LightGBM. \"\n",
            "bagging, val_score: 0.842767:  80%|########  | 8/10 [00:01<00:00,  4.68it/s][I 2023-07-04 00:24:36,714] Trial 34 finished with value: 0.8427672955974843 and parameters: {'bagging_fraction': 0.678393109949419, 'bagging_freq': 4}. Best is trial 31 with value: 0.8427672955974843.\n",
            "bagging, val_score: 0.842767:  80%|########  | 8/10 [00:01<00:00,  4.68it/s]"
          ]
        },
        {
          "name": "stdout",
          "output_type": "stream",
          "text": [
            "[10]\tvalid_0's auc: 0.847795\tvalid_1's auc: 0.838312\n",
            "[20]\tvalid_0's auc: 0.858416\tvalid_1's auc: 0.82783\n",
            "[30]\tvalid_0's auc: 0.862011\tvalid_1's auc: 0.821279\n",
            "[40]\tvalid_0's auc: 0.860123\tvalid_1's auc: 0.818134\n",
            "[50]\tvalid_0's auc: 0.860862\tvalid_1's auc: 0.818134\n",
            "[60]\tvalid_0's auc: 0.86101\tvalid_1's auc: 0.817348\n",
            "Early stopping, best iteration is:\n",
            "[14]\tvalid_0's auc: 0.853672\tvalid_1's auc: 0.842767\n"
          ]
        },
        {
          "name": "stderr",
          "output_type": "stream",
          "text": [
            "c:\\Users\\daich\\AppData\\Local\\Programs\\Python\\Python38\\lib\\site-packages\\lightgbm\\engine.py:239: UserWarning: 'verbose_eval' argument is deprecated and will be removed in a future release of LightGBM. Pass 'log_evaluation()' callback via 'callbacks' argument instead.\n",
            "  _log_warning(\"'verbose_eval' argument is deprecated and will be removed in a future release of LightGBM. \"\n",
            "bagging, val_score: 0.842767:  90%|######### | 9/10 [00:01<00:00,  4.74it/s][I 2023-07-04 00:24:36,920] Trial 35 finished with value: 0.8427672955974843 and parameters: {'bagging_fraction': 0.7021785139907921, 'bagging_freq': 4}. Best is trial 31 with value: 0.8427672955974843.\n",
            "bagging, val_score: 0.842767:  90%|######### | 9/10 [00:01<00:00,  4.74it/s]"
          ]
        },
        {
          "name": "stdout",
          "output_type": "stream",
          "text": [
            "[10]\tvalid_0's auc: 0.847795\tvalid_1's auc: 0.838312\n",
            "[20]\tvalid_0's auc: 0.858055\tvalid_1's auc: 0.826782\n",
            "[30]\tvalid_0's auc: 0.859319\tvalid_1's auc: 0.823899\n",
            "[40]\tvalid_0's auc: 0.859943\tvalid_1's auc: 0.821279\n",
            "[50]\tvalid_0's auc: 0.860206\tvalid_1's auc: 0.821017\n",
            "[60]\tvalid_0's auc: 0.860961\tvalid_1's auc: 0.820231\n",
            "Early stopping, best iteration is:\n",
            "[14]\tvalid_0's auc: 0.853672\tvalid_1's auc: 0.842767\n"
          ]
        },
        {
          "name": "stderr",
          "output_type": "stream",
          "text": [
            "c:\\Users\\daich\\AppData\\Local\\Programs\\Python\\Python38\\lib\\site-packages\\lightgbm\\engine.py:239: UserWarning: 'verbose_eval' argument is deprecated and will be removed in a future release of LightGBM. Pass 'log_evaluation()' callback via 'callbacks' argument instead.\n",
            "  _log_warning(\"'verbose_eval' argument is deprecated and will be removed in a future release of LightGBM. \"\n",
            "bagging, val_score: 0.842767: 100%|##########| 10/10 [00:02<00:00,  4.75it/s][I 2023-07-04 00:24:37,129] Trial 36 finished with value: 0.8427672955974843 and parameters: {'bagging_fraction': 0.6945767404942311, 'bagging_freq': 4}. Best is trial 31 with value: 0.8427672955974843.\n",
            "bagging, val_score: 0.842767: 100%|##########| 10/10 [00:02<00:00,  4.82it/s]\n"
          ]
        },
        {
          "name": "stdout",
          "output_type": "stream",
          "text": [
            "[10]\tvalid_0's auc: 0.847795\tvalid_1's auc: 0.838312\n",
            "[20]\tvalid_0's auc: 0.858154\tvalid_1's auc: 0.828354\n",
            "[30]\tvalid_0's auc: 0.858942\tvalid_1's auc: 0.823637\n",
            "[40]\tvalid_0's auc: 0.860009\tvalid_1's auc: 0.820231\n",
            "[50]\tvalid_0's auc: 0.860682\tvalid_1's auc: 0.819969\n",
            "[60]\tvalid_0's auc: 0.861978\tvalid_1's auc: 0.818134\n",
            "Early stopping, best iteration is:\n",
            "[14]\tvalid_0's auc: 0.853672\tvalid_1's auc: 0.842767\n"
          ]
        },
        {
          "name": "stderr",
          "output_type": "stream",
          "text": [
            "feature_fraction_stage2, val_score: 0.842767:   0%|          | 0/6 [00:00<?, ?it/s]"
          ]
        },
        {
          "name": "stdout",
          "output_type": "stream",
          "text": [
            "[10]\tvalid_0's auc: 0.847795\tvalid_1's auc: 0.838312"
          ]
        },
        {
          "name": "stderr",
          "output_type": "stream",
          "text": [
            "c:\\Users\\daich\\AppData\\Local\\Programs\\Python\\Python38\\lib\\site-packages\\lightgbm\\engine.py:239: UserWarning: 'verbose_eval' argument is deprecated and will be removed in a future release of LightGBM. Pass 'log_evaluation()' callback via 'callbacks' argument instead.\n",
            "  _log_warning(\"'verbose_eval' argument is deprecated and will be removed in a future release of LightGBM. \"\n",
            "feature_fraction_stage2, val_score: 0.842767:  17%|#6        | 1/6 [00:00<00:01,  4.84it/s][I 2023-07-04 00:24:37,339] Trial 37 finished with value: 0.8427672955974843 and parameters: {'feature_fraction': 0.6799999999999999}. Best is trial 37 with value: 0.8427672955974843.\n",
            "feature_fraction_stage2, val_score: 0.842767:  17%|#6        | 1/6 [00:00<00:01,  4.84it/s]"
          ]
        },
        {
          "name": "stdout",
          "output_type": "stream",
          "text": [
            "\n",
            "[20]\tvalid_0's auc: 0.852589\tvalid_1's auc: 0.830713\n",
            "[30]\tvalid_0's auc: 0.856069\tvalid_1's auc: 0.820755\n",
            "[40]\tvalid_0's auc: 0.859779\tvalid_1's auc: 0.817872\n",
            "[50]\tvalid_0's auc: 0.862208\tvalid_1's auc: 0.8163\n",
            "[60]\tvalid_0's auc: 0.862504\tvalid_1's auc: 0.815776\n",
            "Early stopping, best iteration is:\n",
            "[14]\tvalid_0's auc: 0.853672\tvalid_1's auc: 0.842767\n"
          ]
        },
        {
          "name": "stderr",
          "output_type": "stream",
          "text": [
            "c:\\Users\\daich\\AppData\\Local\\Programs\\Python\\Python38\\lib\\site-packages\\lightgbm\\engine.py:239: UserWarning: 'verbose_eval' argument is deprecated and will be removed in a future release of LightGBM. Pass 'log_evaluation()' callback via 'callbacks' argument instead.\n",
            "  _log_warning(\"'verbose_eval' argument is deprecated and will be removed in a future release of LightGBM. \"\n",
            "feature_fraction_stage2, val_score: 0.842767:  33%|###3      | 2/6 [00:00<00:00,  4.85it/s][I 2023-07-04 00:24:37,545] Trial 38 finished with value: 0.8427672955974843 and parameters: {'feature_fraction': 0.6479999999999999}. Best is trial 37 with value: 0.8427672955974843.\n",
            "feature_fraction_stage2, val_score: 0.842767:  33%|###3      | 2/6 [00:00<00:00,  4.85it/s]"
          ]
        },
        {
          "name": "stdout",
          "output_type": "stream",
          "text": [
            "[10]\tvalid_0's auc: 0.847795\tvalid_1's auc: 0.838312\n",
            "[20]\tvalid_0's auc: 0.852589\tvalid_1's auc: 0.830713\n",
            "[30]\tvalid_0's auc: 0.856069\tvalid_1's auc: 0.820755\n",
            "[40]\tvalid_0's auc: 0.859779\tvalid_1's auc: 0.817872\n",
            "[50]\tvalid_0's auc: 0.862208\tvalid_1's auc: 0.8163\n",
            "[60]\tvalid_0's auc: 0.862504\tvalid_1's auc: 0.815776\n",
            "Early stopping, best iteration is:\n",
            "[14]\tvalid_0's auc: 0.853672\tvalid_1's auc: 0.842767\n",
            "[10]\tvalid_0's auc: 0.847795\tvalid_1's auc: 0.838312\n"
          ]
        },
        {
          "name": "stderr",
          "output_type": "stream",
          "text": [
            "c:\\Users\\daich\\AppData\\Local\\Programs\\Python\\Python38\\lib\\site-packages\\lightgbm\\engine.py:239: UserWarning: 'verbose_eval' argument is deprecated and will be removed in a future release of LightGBM. Pass 'log_evaluation()' callback via 'callbacks' argument instead.\n",
            "  _log_warning(\"'verbose_eval' argument is deprecated and will be removed in a future release of LightGBM. \"\n",
            "feature_fraction_stage2, val_score: 0.842767:  50%|#####     | 3/6 [00:00<00:00,  4.94it/s][I 2023-07-04 00:24:37,742] Trial 39 finished with value: 0.8427672955974843 and parameters: {'feature_fraction': 0.52}. Best is trial 37 with value: 0.8427672955974843.\n",
            "feature_fraction_stage2, val_score: 0.842767:  50%|#####     | 3/6 [00:00<00:00,  4.94it/s]"
          ]
        },
        {
          "name": "stdout",
          "output_type": "stream",
          "text": [
            "[20]\tvalid_0's auc: 0.85858\tvalid_1's auc: 0.826782\n",
            "[30]\tvalid_0's auc: 0.86101\tvalid_1's auc: 0.821017\n",
            "[40]\tvalid_0's auc: 0.861223\tvalid_1's auc: 0.818658\n",
            "[50]\tvalid_0's auc: 0.861535\tvalid_1's auc: 0.81892\n",
            "[60]\tvalid_0's auc: 0.861634\tvalid_1's auc: 0.817872\n",
            "Early stopping, best iteration is:\n",
            "[14]\tvalid_0's auc: 0.853672\tvalid_1's auc: 0.842767\n",
            "[10]\tvalid_0's auc: 0.847795\tvalid_1's auc: 0.838312\n",
            "[20]\tvalid_0's auc: 0.85858\tvalid_1's auc: 0.826782\n"
          ]
        },
        {
          "name": "stderr",
          "output_type": "stream",
          "text": [
            "c:\\Users\\daich\\AppData\\Local\\Programs\\Python\\Python38\\lib\\site-packages\\lightgbm\\engine.py:239: UserWarning: 'verbose_eval' argument is deprecated and will be removed in a future release of LightGBM. Pass 'log_evaluation()' callback via 'callbacks' argument instead.\n",
            "  _log_warning(\"'verbose_eval' argument is deprecated and will be removed in a future release of LightGBM. \"\n",
            "feature_fraction_stage2, val_score: 0.842767:  67%|######6   | 4/6 [00:00<00:00,  4.90it/s][I 2023-07-04 00:24:37,949] Trial 40 finished with value: 0.8427672955974843 and parameters: {'feature_fraction': 0.552}. Best is trial 37 with value: 0.8427672955974843.\n",
            "feature_fraction_stage2, val_score: 0.842767:  67%|######6   | 4/6 [00:00<00:00,  4.90it/s]"
          ]
        },
        {
          "name": "stdout",
          "output_type": "stream",
          "text": [
            "[30]\tvalid_0's auc: 0.86101\tvalid_1's auc: 0.821017\n",
            "[40]\tvalid_0's auc: 0.861223\tvalid_1's auc: 0.818658\n",
            "[50]\tvalid_0's auc: 0.861535\tvalid_1's auc: 0.81892\n",
            "[60]\tvalid_0's auc: 0.861634\tvalid_1's auc: 0.817872\n",
            "Early stopping, best iteration is:\n",
            "[14]\tvalid_0's auc: 0.853672\tvalid_1's auc: 0.842767\n",
            "[10]\tvalid_0's auc: 0.847795\tvalid_1's auc: 0.838312\n",
            "[20]\tvalid_0's auc: 0.85858\tvalid_1's auc: 0.826782\n",
            "[30]\tvalid_0's auc: 0.86101\tvalid_1's auc: 0.821017\n",
            "[40]\tvalid_0's auc: 0.861223\tvalid_1's auc: 0.818658\n"
          ]
        },
        {
          "name": "stderr",
          "output_type": "stream",
          "text": [
            "c:\\Users\\daich\\AppData\\Local\\Programs\\Python\\Python38\\lib\\site-packages\\lightgbm\\engine.py:239: UserWarning: 'verbose_eval' argument is deprecated and will be removed in a future release of LightGBM. Pass 'log_evaluation()' callback via 'callbacks' argument instead.\n",
            "  _log_warning(\"'verbose_eval' argument is deprecated and will be removed in a future release of LightGBM. \"\n",
            "feature_fraction_stage2, val_score: 0.842767:  83%|########3 | 5/6 [00:01<00:00,  4.91it/s][I 2023-07-04 00:24:38,151] Trial 41 finished with value: 0.8427672955974843 and parameters: {'feature_fraction': 0.584}. Best is trial 37 with value: 0.8427672955974843.\n",
            "feature_fraction_stage2, val_score: 0.842767:  83%|########3 | 5/6 [00:01<00:00,  4.91it/s]"
          ]
        },
        {
          "name": "stdout",
          "output_type": "stream",
          "text": [
            "[50]\tvalid_0's auc: 0.861535\tvalid_1's auc: 0.81892\n",
            "[60]\tvalid_0's auc: 0.861634\tvalid_1's auc: 0.817872\n",
            "Early stopping, best iteration is:\n",
            "[14]\tvalid_0's auc: 0.853672\tvalid_1's auc: 0.842767\n",
            "[10]\tvalid_0's auc: 0.847795\tvalid_1's auc: 0.838312\n",
            "[20]\tvalid_0's auc: 0.85858\tvalid_1's auc: 0.826782\n",
            "[30]\tvalid_0's auc: 0.86101\tvalid_1's auc: 0.821017\n",
            "[40]\tvalid_0's auc: 0.861223\tvalid_1's auc: 0.818658\n",
            "[50]\tvalid_0's auc: 0.861535\tvalid_1's auc: 0.81892\n"
          ]
        },
        {
          "name": "stderr",
          "output_type": "stream",
          "text": [
            "c:\\Users\\daich\\AppData\\Local\\Programs\\Python\\Python38\\lib\\site-packages\\lightgbm\\engine.py:239: UserWarning: 'verbose_eval' argument is deprecated and will be removed in a future release of LightGBM. Pass 'log_evaluation()' callback via 'callbacks' argument instead.\n",
            "  _log_warning(\"'verbose_eval' argument is deprecated and will be removed in a future release of LightGBM. \"\n",
            "feature_fraction_stage2, val_score: 0.842767: 100%|##########| 6/6 [00:01<00:00,  4.72it/s][I 2023-07-04 00:24:38,380] Trial 42 finished with value: 0.8427672955974843 and parameters: {'feature_fraction': 0.616}. Best is trial 37 with value: 0.8427672955974843.\n",
            "feature_fraction_stage2, val_score: 0.842767: 100%|##########| 6/6 [00:01<00:00,  4.80it/s]\n"
          ]
        },
        {
          "name": "stdout",
          "output_type": "stream",
          "text": [
            "[60]\tvalid_0's auc: 0.861634\tvalid_1's auc: 0.817872\n",
            "Early stopping, best iteration is:\n",
            "[14]\tvalid_0's auc: 0.853672\tvalid_1's auc: 0.842767\n"
          ]
        },
        {
          "name": "stderr",
          "output_type": "stream",
          "text": [
            "regularization_factors, val_score: 0.842767:   0%|          | 0/20 [00:00<?, ?it/s]"
          ]
        },
        {
          "name": "stdout",
          "output_type": "stream",
          "text": [
            "[10]\tvalid_0's auc: 0.869136\tvalid_1's auc: 0.808962\n",
            "[20]\tvalid_0's auc: 0.868528\tvalid_1's auc: 0.804507\n",
            "[30]\tvalid_0's auc: 0.871828\tvalid_1's auc: 0.79717\n"
          ]
        },
        {
          "name": "stderr",
          "output_type": "stream",
          "text": [
            "c:\\Users\\daich\\AppData\\Local\\Programs\\Python\\Python38\\lib\\site-packages\\lightgbm\\engine.py:239: UserWarning: 'verbose_eval' argument is deprecated and will be removed in a future release of LightGBM. Pass 'log_evaluation()' callback via 'callbacks' argument instead.\n",
            "  _log_warning(\"'verbose_eval' argument is deprecated and will be removed in a future release of LightGBM. \"\n",
            "regularization_factors, val_score: 0.842767:   5%|5         | 1/20 [00:00<00:04,  4.36it/s][I 2023-07-04 00:24:38,613] Trial 43 finished with value: 0.8427672955974843 and parameters: {'lambda_l1': 5.18117801853064e-07, 'lambda_l2': 6.659873892257664e-07}. Best is trial 43 with value: 0.8427672955974843.\n",
            "regularization_factors, val_score: 0.842767:   5%|5         | 1/20 [00:00<00:04,  4.36it/s]"
          ]
        },
        {
          "name": "stdout",
          "output_type": "stream",
          "text": [
            "[40]\tvalid_0's auc: 0.878525\tvalid_1's auc: 0.806342\n",
            "[50]\tvalid_0's auc: 0.882875\tvalid_1's auc: 0.812631\n",
            "[60]\tvalid_0's auc: 0.885929\tvalid_1's auc: 0.812631\n",
            "Early stopping, best iteration is:\n",
            "[14]\tvalid_0's auc: 0.853672\tvalid_1's auc: 0.842767\n",
            "[10]\tvalid_0's auc: 0.853853\tvalid_1's auc: 0.847484\n",
            "[20]\tvalid_0's auc: 0.859631\tvalid_1's auc: 0.831761\n",
            "[30]\tvalid_0's auc: 0.862898\tvalid_1's auc: 0.825472\n"
          ]
        },
        {
          "name": "stderr",
          "output_type": "stream",
          "text": [
            "c:\\Users\\daich\\AppData\\Local\\Programs\\Python\\Python38\\lib\\site-packages\\lightgbm\\engine.py:239: UserWarning: 'verbose_eval' argument is deprecated and will be removed in a future release of LightGBM. Pass 'log_evaluation()' callback via 'callbacks' argument instead.\n",
            "  _log_warning(\"'verbose_eval' argument is deprecated and will be removed in a future release of LightGBM. \"\n",
            "regularization_factors, val_score: 0.856656:  10%|#         | 2/20 [00:00<00:03,  4.70it/s][I 2023-07-04 00:24:38,815] Trial 44 finished with value: 0.8566561844863732 and parameters: {'lambda_l1': 5.263716528754578, 'lambda_l2': 6.352565345315835}. Best is trial 44 with value: 0.8566561844863732.\n",
            "regularization_factors, val_score: 0.856656:  10%|#         | 2/20 [00:00<00:03,  4.70it/s]"
          ]
        },
        {
          "name": "stdout",
          "output_type": "stream",
          "text": [
            "[40]\tvalid_0's auc: 0.86206\tvalid_1's auc: 0.821541\n",
            "[50]\tvalid_0's auc: 0.863407\tvalid_1's auc: 0.822851\n",
            "[60]\tvalid_0's auc: 0.863505\tvalid_1's auc: 0.822327\n",
            "Early stopping, best iteration is:\n",
            "[12]\tvalid_0's auc: 0.858383\tvalid_1's auc: 0.856656\n",
            "[10]\tvalid_0's auc: 0.852671\tvalid_1's auc: 0.843816\n",
            "[20]\tvalid_0's auc: 0.856496\tvalid_1's auc: 0.824948"
          ]
        },
        {
          "name": "stderr",
          "output_type": "stream",
          "text": [
            "c:\\Users\\daich\\AppData\\Local\\Programs\\Python\\Python38\\lib\\site-packages\\lightgbm\\engine.py:239: UserWarning: 'verbose_eval' argument is deprecated and will be removed in a future release of LightGBM. Pass 'log_evaluation()' callback via 'callbacks' argument instead.\n",
            "  _log_warning(\"'verbose_eval' argument is deprecated and will be removed in a future release of LightGBM. \"\n",
            "regularization_factors, val_score: 0.856656:  15%|#5        | 3/20 [00:00<00:03,  4.54it/s][I 2023-07-04 00:24:39,044] Trial 45 finished with value: 0.8566561844863732 and parameters: {'lambda_l1': 6.034568817885217, 'lambda_l2': 9.441850861874661}. Best is trial 44 with value: 0.8566561844863732.\n",
            "regularization_factors, val_score: 0.856656:  15%|#5        | 3/20 [00:00<00:03,  4.54it/s]"
          ]
        },
        {
          "name": "stdout",
          "output_type": "stream",
          "text": [
            "\n",
            "[30]\tvalid_0's auc: 0.860567\tvalid_1's auc: 0.819706\n",
            "[40]\tvalid_0's auc: 0.861223\tvalid_1's auc: 0.818658\n",
            "[50]\tvalid_0's auc: 0.861535\tvalid_1's auc: 0.81761\n",
            "[60]\tvalid_0's auc: 0.861798\tvalid_1's auc: 0.814203\n",
            "Early stopping, best iteration is:\n",
            "[12]\tvalid_0's auc: 0.858383\tvalid_1's auc: 0.856656\n",
            "[10]\tvalid_0's auc: 0.847795\tvalid_1's auc: 0.838312\n"
          ]
        },
        {
          "name": "stderr",
          "output_type": "stream",
          "text": [
            "c:\\Users\\daich\\AppData\\Local\\Programs\\Python\\Python38\\lib\\site-packages\\lightgbm\\engine.py:239: UserWarning: 'verbose_eval' argument is deprecated and will be removed in a future release of LightGBM. Pass 'log_evaluation()' callback via 'callbacks' argument instead.\n",
            "  _log_warning(\"'verbose_eval' argument is deprecated and will be removed in a future release of LightGBM. \"\n",
            "regularization_factors, val_score: 0.856656:  20%|##        | 4/20 [00:00<00:03,  4.68it/s][I 2023-07-04 00:24:39,248] Trial 46 finished with value: 0.8566561844863732 and parameters: {'lambda_l1': 7.293183361011331, 'lambda_l2': 6.5482370075018}. Best is trial 44 with value: 0.8566561844863732.\n",
            "regularization_factors, val_score: 0.856656:  20%|##        | 4/20 [00:00<00:03,  4.68it/s]"
          ]
        },
        {
          "name": "stdout",
          "output_type": "stream",
          "text": [
            "[20]\tvalid_0's auc: 0.858728\tvalid_1's auc: 0.825996\n",
            "[30]\tvalid_0's auc: 0.859647\tvalid_1's auc: 0.821279\n",
            "[40]\tvalid_0's auc: 0.86101\tvalid_1's auc: 0.819706\n",
            "[50]\tvalid_0's auc: 0.861716\tvalid_1's auc: 0.817872\n",
            "[60]\tvalid_0's auc: 0.861584\tvalid_1's auc: 0.817872\n",
            "Early stopping, best iteration is:\n",
            "[12]\tvalid_0's auc: 0.858383\tvalid_1's auc: 0.856656\n"
          ]
        },
        {
          "name": "stderr",
          "output_type": "stream",
          "text": [
            "c:\\Users\\daich\\AppData\\Local\\Programs\\Python\\Python38\\lib\\site-packages\\lightgbm\\engine.py:239: UserWarning: 'verbose_eval' argument is deprecated and will be removed in a future release of LightGBM. Pass 'log_evaluation()' callback via 'callbacks' argument instead.\n",
            "  _log_warning(\"'verbose_eval' argument is deprecated and will be removed in a future release of LightGBM. \"\n",
            "regularization_factors, val_score: 0.856656:  25%|##5       | 5/20 [00:01<00:03,  4.59it/s][I 2023-07-04 00:24:39,473] Trial 47 finished with value: 0.8566561844863732 and parameters: {'lambda_l1': 8.999255098177905, 'lambda_l2': 8.676634218438338}. Best is trial 44 with value: 0.8566561844863732.\n",
            "regularization_factors, val_score: 0.856656:  25%|##5       | 5/20 [00:01<00:03,  4.59it/s]"
          ]
        },
        {
          "name": "stdout",
          "output_type": "stream",
          "text": [
            "[10]\tvalid_0's auc: 0.847795\tvalid_1's auc: 0.838312\n",
            "[20]\tvalid_0's auc: 0.854214\tvalid_1's auc: 0.8163\n",
            "[30]\tvalid_0's auc: 0.854903\tvalid_1's auc: 0.816562\n",
            "[40]\tvalid_0's auc: 0.855527\tvalid_1's auc: 0.813679\n",
            "[50]\tvalid_0's auc: 0.856791\tvalid_1's auc: 0.814203\n",
            "[60]\tvalid_0's auc: 0.85643\tvalid_1's auc: 0.814203\n",
            "Early stopping, best iteration is:\n",
            "[12]\tvalid_0's auc: 0.858383\tvalid_1's auc: 0.856656\n"
          ]
        },
        {
          "name": "stderr",
          "output_type": "stream",
          "text": [
            "c:\\Users\\daich\\AppData\\Local\\Programs\\Python\\Python38\\lib\\site-packages\\lightgbm\\engine.py:239: UserWarning: 'verbose_eval' argument is deprecated and will be removed in a future release of LightGBM. Pass 'log_evaluation()' callback via 'callbacks' argument instead.\n",
            "  _log_warning(\"'verbose_eval' argument is deprecated and will be removed in a future release of LightGBM. \"\n",
            "regularization_factors, val_score: 0.856656:  30%|###       | 6/20 [00:01<00:03,  4.62it/s][I 2023-07-04 00:24:39,686] Trial 48 finished with value: 0.8566561844863732 and parameters: {'lambda_l1': 7.597973920071115, 'lambda_l2': 7.679065200125472}. Best is trial 44 with value: 0.8566561844863732.\n",
            "regularization_factors, val_score: 0.856656:  30%|###       | 6/20 [00:01<00:03,  4.62it/s]"
          ]
        },
        {
          "name": "stdout",
          "output_type": "stream",
          "text": [
            "[10]\tvalid_0's auc: 0.847795\tvalid_1's auc: 0.838312\n",
            "[20]\tvalid_0's auc: 0.857973\tvalid_1's auc: 0.82652\n",
            "[30]\tvalid_0's auc: 0.857448\tvalid_1's auc: 0.823899\n",
            "[40]\tvalid_0's auc: 0.859713\tvalid_1's auc: 0.818396\n",
            "[50]\tvalid_0's auc: 0.86014\tvalid_1's auc: 0.81761\n",
            "[60]\tvalid_0's auc: 0.859746\tvalid_1's auc: 0.81761\n",
            "Early stopping, best iteration is:\n",
            "[12]\tvalid_0's auc: 0.858383\tvalid_1's auc: 0.856656\n",
            "[10]\tvalid_0's auc: 0.847795\tvalid_1's auc: 0.838312\n"
          ]
        },
        {
          "name": "stderr",
          "output_type": "stream",
          "text": [
            "c:\\Users\\daich\\AppData\\Local\\Programs\\Python\\Python38\\lib\\site-packages\\lightgbm\\engine.py:239: UserWarning: 'verbose_eval' argument is deprecated and will be removed in a future release of LightGBM. Pass 'log_evaluation()' callback via 'callbacks' argument instead.\n",
            "  _log_warning(\"'verbose_eval' argument is deprecated and will be removed in a future release of LightGBM. \"\n",
            "regularization_factors, val_score: 0.856656:  35%|###5      | 7/20 [00:01<00:02,  4.70it/s][I 2023-07-04 00:24:39,892] Trial 49 finished with value: 0.8566561844863732 and parameters: {'lambda_l1': 9.314394521476055, 'lambda_l2': 9.802603021776564}. Best is trial 44 with value: 0.8566561844863732.\n",
            "regularization_factors, val_score: 0.856656:  35%|###5      | 7/20 [00:01<00:02,  4.70it/s]"
          ]
        },
        {
          "name": "stdout",
          "output_type": "stream",
          "text": [
            "[20]\tvalid_0's auc: 0.852146\tvalid_1's auc: 0.815776\n",
            "[30]\tvalid_0's auc: 0.852802\tvalid_1's auc: 0.81761\n",
            "[40]\tvalid_0's auc: 0.854903\tvalid_1's auc: 0.814727\n",
            "[50]\tvalid_0's auc: 0.855773\tvalid_1's auc: 0.814203\n",
            "[60]\tvalid_0's auc: 0.856069\tvalid_1's auc: 0.814203\n",
            "Early stopping, best iteration is:\n",
            "[12]\tvalid_0's auc: 0.858383\tvalid_1's auc: 0.856656\n",
            "[10]\tvalid_0's auc: 0.847795\tvalid_1's auc: 0.838312\n"
          ]
        },
        {
          "name": "stderr",
          "output_type": "stream",
          "text": [
            "c:\\Users\\daich\\AppData\\Local\\Programs\\Python\\Python38\\lib\\site-packages\\lightgbm\\engine.py:239: UserWarning: 'verbose_eval' argument is deprecated and will be removed in a future release of LightGBM. Pass 'log_evaluation()' callback via 'callbacks' argument instead.\n",
            "  _log_warning(\"'verbose_eval' argument is deprecated and will be removed in a future release of LightGBM. \"\n",
            "regularization_factors, val_score: 0.856656:  40%|####      | 8/20 [00:01<00:02,  4.62it/s][I 2023-07-04 00:24:40,117] Trial 50 finished with value: 0.8566561844863732 and parameters: {'lambda_l1': 8.688875283513118, 'lambda_l2': 8.329285770038092}. Best is trial 44 with value: 0.8566561844863732.\n",
            "regularization_factors, val_score: 0.856656:  40%|####      | 8/20 [00:01<00:02,  4.62it/s]"
          ]
        },
        {
          "name": "stdout",
          "output_type": "stream",
          "text": [
            "[20]\tvalid_0's auc: 0.856414\tvalid_1's auc: 0.81761\n",
            "[30]\tvalid_0's auc: 0.856561\tvalid_1's auc: 0.816038\n",
            "[40]\tvalid_0's auc: 0.858301\tvalid_1's auc: 0.812107\n",
            "[50]\tvalid_0's auc: 0.858827\tvalid_1's auc: 0.813155\n",
            "[60]\tvalid_0's auc: 0.8584\tvalid_1's auc: 0.813679\n",
            "Early stopping, best iteration is:\n",
            "[12]\tvalid_0's auc: 0.858383\tvalid_1's auc: 0.856656\n",
            "[10]\tvalid_0's auc: 0.847795\tvalid_1's auc: 0.838312\n"
          ]
        },
        {
          "name": "stderr",
          "output_type": "stream",
          "text": [
            "c:\\Users\\daich\\AppData\\Local\\Programs\\Python\\Python38\\lib\\site-packages\\lightgbm\\engine.py:239: UserWarning: 'verbose_eval' argument is deprecated and will be removed in a future release of LightGBM. Pass 'log_evaluation()' callback via 'callbacks' argument instead.\n",
            "  _log_warning(\"'verbose_eval' argument is deprecated and will be removed in a future release of LightGBM. \"\n",
            "regularization_factors, val_score: 0.856656:  45%|####5     | 9/20 [00:01<00:02,  4.64it/s][I 2023-07-04 00:24:40,330] Trial 51 finished with value: 0.8566561844863732 and parameters: {'lambda_l1': 8.920772712871113, 'lambda_l2': 9.229739952910025}. Best is trial 44 with value: 0.8566561844863732.\n",
            "regularization_factors, val_score: 0.856656:  45%|####5     | 9/20 [00:01<00:02,  4.64it/s]"
          ]
        },
        {
          "name": "stdout",
          "output_type": "stream",
          "text": [
            "[20]\tvalid_0's auc: 0.853524\tvalid_1's auc: 0.821541\n",
            "[30]\tvalid_0's auc: 0.853902\tvalid_1's auc: 0.818396\n",
            "[40]\tvalid_0's auc: 0.855741\tvalid_1's auc: 0.816038\n",
            "[50]\tvalid_0's auc: 0.856611\tvalid_1's auc: 0.815514\n",
            "[60]\tvalid_0's auc: 0.856512\tvalid_1's auc: 0.81499\n",
            "Early stopping, best iteration is:\n",
            "[12]\tvalid_0's auc: 0.858383\tvalid_1's auc: 0.856656\n",
            "[10]\tvalid_0's auc: 0.847795\tvalid_1's auc: 0.838312\n",
            "[20]\tvalid_0's auc: 0.856085\tvalid_1's auc: 0.819706\n"
          ]
        },
        {
          "name": "stderr",
          "output_type": "stream",
          "text": [
            "c:\\Users\\daich\\AppData\\Local\\Programs\\Python\\Python38\\lib\\site-packages\\lightgbm\\engine.py:239: UserWarning: 'verbose_eval' argument is deprecated and will be removed in a future release of LightGBM. Pass 'log_evaluation()' callback via 'callbacks' argument instead.\n",
            "  _log_warning(\"'verbose_eval' argument is deprecated and will be removed in a future release of LightGBM. \"\n",
            "regularization_factors, val_score: 0.856656:  50%|#####     | 10/20 [00:02<00:02,  4.69it/s][I 2023-07-04 00:24:40,538] Trial 52 finished with value: 0.8566561844863732 and parameters: {'lambda_l1': 8.22445775448093, 'lambda_l2': 8.46423002387078}. Best is trial 44 with value: 0.8566561844863732.\n",
            "regularization_factors, val_score: 0.856656:  50%|#####     | 10/20 [00:02<00:02,  4.69it/s]"
          ]
        },
        {
          "name": "stdout",
          "output_type": "stream",
          "text": [
            "[30]\tvalid_0's auc: 0.856561\tvalid_1's auc: 0.816562\n",
            "[40]\tvalid_0's auc: 0.858958\tvalid_1's auc: 0.815252\n",
            "[50]\tvalid_0's auc: 0.859598\tvalid_1's auc: 0.815776\n",
            "[60]\tvalid_0's auc: 0.859303\tvalid_1's auc: 0.8163\n",
            "Early stopping, best iteration is:\n",
            "[12]\tvalid_0's auc: 0.858383\tvalid_1's auc: 0.856656\n",
            "[10]\tvalid_0's auc: 0.847795\tvalid_1's auc: 0.838312\n",
            "[20]\tvalid_0's auc: 0.854214\tvalid_1's auc: 0.8163\n",
            "[30]\tvalid_0's auc: 0.854542\tvalid_1's auc: 0.816038\n",
            "[40]\tvalid_0's auc: 0.856217\tvalid_1's auc: 0.813679\n"
          ]
        },
        {
          "name": "stderr",
          "output_type": "stream",
          "text": [
            "c:\\Users\\daich\\AppData\\Local\\Programs\\Python\\Python38\\lib\\site-packages\\lightgbm\\engine.py:239: UserWarning: 'verbose_eval' argument is deprecated and will be removed in a future release of LightGBM. Pass 'log_evaluation()' callback via 'callbacks' argument instead.\n",
            "  _log_warning(\"'verbose_eval' argument is deprecated and will be removed in a future release of LightGBM. \"\n",
            "regularization_factors, val_score: 0.856656:  55%|#####5    | 11/20 [00:02<00:01,  4.83it/s][I 2023-07-04 00:24:40,730] Trial 53 finished with value: 0.8566561844863732 and parameters: {'lambda_l1': 8.987718340020585, 'lambda_l2': 4.748492857457455}. Best is trial 44 with value: 0.8566561844863732.\n",
            "regularization_factors, val_score: 0.856656:  55%|#####5    | 11/20 [00:02<00:01,  4.83it/s]"
          ]
        },
        {
          "name": "stdout",
          "output_type": "stream",
          "text": [
            "[50]\tvalid_0's auc: 0.856955\tvalid_1's auc: 0.814203\n",
            "[60]\tvalid_0's auc: 0.857612\tvalid_1's auc: 0.814203\n",
            "Early stopping, best iteration is:\n",
            "[12]\tvalid_0's auc: 0.858383\tvalid_1's auc: 0.856656\n",
            "[10]\tvalid_0's auc: 0.847795\tvalid_1's auc: 0.838312\n",
            "[20]\tvalid_0's auc: 0.857284\tvalid_1's auc: 0.824948\n",
            "[30]\tvalid_0's auc: 0.85945\tvalid_1's auc: 0.820231\n",
            "[40]\tvalid_0's auc: 0.860583\tvalid_1's auc: 0.819444\n",
            "[50]\tvalid_0's auc: 0.861322\tvalid_1's auc: 0.818658\n",
            "[60]\tvalid_0's auc: 0.861355\tvalid_1's auc: 0.816824\n"
          ]
        },
        {
          "name": "stderr",
          "output_type": "stream",
          "text": [
            "c:\\Users\\daich\\AppData\\Local\\Programs\\Python\\Python38\\lib\\site-packages\\lightgbm\\engine.py:239: UserWarning: 'verbose_eval' argument is deprecated and will be removed in a future release of LightGBM. Pass 'log_evaluation()' callback via 'callbacks' argument instead.\n",
            "  _log_warning(\"'verbose_eval' argument is deprecated and will be removed in a future release of LightGBM. \"\n",
            "regularization_factors, val_score: 0.856656:  60%|######    | 12/20 [00:02<00:01,  4.92it/s][I 2023-07-04 00:24:40,926] Trial 54 finished with value: 0.8566561844863732 and parameters: {'lambda_l1': 6.998725749979704, 'lambda_l2': 9.103002668065612}. Best is trial 44 with value: 0.8566561844863732.\n",
            "regularization_factors, val_score: 0.856656:  60%|######    | 12/20 [00:02<00:01,  4.92it/s]"
          ]
        },
        {
          "name": "stdout",
          "output_type": "stream",
          "text": [
            "Early stopping, best iteration is:\n",
            "[12]\tvalid_0's auc: 0.858383\tvalid_1's auc: 0.856656\n",
            "[10]\tvalid_0's auc: 0.858498\tvalid_1's auc: 0.841981\n",
            "[20]\tvalid_0's auc: 0.86252\tvalid_1's auc: 0.830189\n",
            "[30]\tvalid_0's auc: 0.86559\tvalid_1's auc: 0.825472\n",
            "[40]\tvalid_0's auc: 0.865573\tvalid_1's auc: 0.819969\n",
            "[50]\tvalid_0's auc: 0.867215\tvalid_1's auc: 0.820493\n",
            "[60]\tvalid_0's auc: 0.869185\tvalid_1's auc: 0.820231\n",
            "Early stopping, best iteration is:\n",
            "[12]\tvalid_0's auc: 0.858383\tvalid_1's auc: 0.856656\n"
          ]
        },
        {
          "name": "stderr",
          "output_type": "stream",
          "text": [
            "c:\\Users\\daich\\AppData\\Local\\Programs\\Python\\Python38\\lib\\site-packages\\lightgbm\\engine.py:239: UserWarning: 'verbose_eval' argument is deprecated and will be removed in a future release of LightGBM. Pass 'log_evaluation()' callback via 'callbacks' argument instead.\n",
            "  _log_warning(\"'verbose_eval' argument is deprecated and will be removed in a future release of LightGBM. \"\n",
            "regularization_factors, val_score: 0.856656:  65%|######5   | 13/20 [00:02<00:01,  4.94it/s][I 2023-07-04 00:24:41,127] Trial 55 finished with value: 0.8566561844863732 and parameters: {'lambda_l1': 2.7792452340466247, 'lambda_l2': 6.834445244091989}. Best is trial 44 with value: 0.8566561844863732.\n",
            "regularization_factors, val_score: 0.856656:  65%|######5   | 13/20 [00:02<00:01,  4.94it/s]c:\\Users\\daich\\AppData\\Local\\Programs\\Python\\Python38\\lib\\site-packages\\lightgbm\\engine.py:239: UserWarning: 'verbose_eval' argument is deprecated and will be removed in a future release of LightGBM. Pass 'log_evaluation()' callback via 'callbacks' argument instead.\n",
            "  _log_warning(\"'verbose_eval' argument is deprecated and will be removed in a future release of LightGBM. \"\n",
            "regularization_factors, val_score: 0.856656:  70%|#######   | 14/20 [00:02<00:01,  4.92it/s][I 2023-07-04 00:24:41,331] Trial 56 finished with value: 0.8566561844863732 and parameters: {'lambda_l1': 0.12186609432403045, 'lambda_l2': 0.1012359969857774}. Best is trial 44 with value: 0.8566561844863732.\n",
            "regularization_factors, val_score: 0.856656:  70%|#######   | 14/20 [00:02<00:01,  4.92it/s]"
          ]
        },
        {
          "name": "stdout",
          "output_type": "stream",
          "text": [
            "[10]\tvalid_0's auc: 0.869136\tvalid_1's auc: 0.808962\n",
            "[20]\tvalid_0's auc: 0.867149\tvalid_1's auc: 0.802673\n",
            "[30]\tvalid_0's auc: 0.870055\tvalid_1's auc: 0.795073\n",
            "[40]\tvalid_0's auc: 0.87736\tvalid_1's auc: 0.803721\n",
            "[50]\tvalid_0's auc: 0.880577\tvalid_1's auc: 0.81001\n",
            "[60]\tvalid_0's auc: 0.88368\tvalid_1's auc: 0.809486\n",
            "Early stopping, best iteration is:\n",
            "[12]\tvalid_0's auc: 0.858383\tvalid_1's auc: 0.856656\n"
          ]
        },
        {
          "name": "stderr",
          "output_type": "stream",
          "text": [
            "c:\\Users\\daich\\AppData\\Local\\Programs\\Python\\Python38\\lib\\site-packages\\lightgbm\\engine.py:239: UserWarning: 'verbose_eval' argument is deprecated and will be removed in a future release of LightGBM. Pass 'log_evaluation()' callback via 'callbacks' argument instead.\n",
            "  _log_warning(\"'verbose_eval' argument is deprecated and will be removed in a future release of LightGBM. \"\n",
            "regularization_factors, val_score: 0.856656:  75%|#######5  | 15/20 [00:03<00:01,  4.92it/s][I 2023-07-04 00:24:41,534] Trial 57 finished with value: 0.8566561844863732 and parameters: {'lambda_l1': 0.18316255359602354, 'lambda_l2': 0.6355550991807093}. Best is trial 44 with value: 0.8566561844863732.\n",
            "regularization_factors, val_score: 0.856656:  75%|#######5  | 15/20 [00:03<00:01,  4.92it/s]"
          ]
        },
        {
          "name": "stdout",
          "output_type": "stream",
          "text": [
            "[10]\tvalid_0's auc: 0.869136\tvalid_1's auc: 0.808962\n",
            "[20]\tvalid_0's auc: 0.8671\tvalid_1's auc: 0.807128\n",
            "[30]\tvalid_0's auc: 0.869956\tvalid_1's auc: 0.798218\n",
            "[40]\tvalid_0's auc: 0.877688\tvalid_1's auc: 0.807128\n",
            "[50]\tvalid_0's auc: 0.880052\tvalid_1's auc: 0.812631\n",
            "[60]\tvalid_0's auc: 0.884336\tvalid_1's auc: 0.813155\n",
            "Early stopping, best iteration is:\n",
            "[12]\tvalid_0's auc: 0.858383\tvalid_1's auc: 0.856656\n",
            "[10]\tvalid_0's auc: 0.869136\tvalid_1's auc: 0.808962\n"
          ]
        },
        {
          "name": "stderr",
          "output_type": "stream",
          "text": [
            "c:\\Users\\daich\\AppData\\Local\\Programs\\Python\\Python38\\lib\\site-packages\\lightgbm\\engine.py:239: UserWarning: 'verbose_eval' argument is deprecated and will be removed in a future release of LightGBM. Pass 'log_evaluation()' callback via 'callbacks' argument instead.\n",
            "  _log_warning(\"'verbose_eval' argument is deprecated and will be removed in a future release of LightGBM. \"\n",
            "regularization_factors, val_score: 0.856656:  80%|########  | 16/20 [00:03<00:00,  4.91it/s][I 2023-07-04 00:24:41,738] Trial 58 finished with value: 0.8566561844863732 and parameters: {'lambda_l1': 0.18622879588638735, 'lambda_l2': 0.10579454142781691}. Best is trial 44 with value: 0.8566561844863732.\n",
            "regularization_factors, val_score: 0.856656:  80%|########  | 16/20 [00:03<00:00,  4.91it/s]"
          ]
        },
        {
          "name": "stdout",
          "output_type": "stream",
          "text": [
            "[20]\tvalid_0's auc: 0.867231\tvalid_1's auc: 0.806604\n",
            "[30]\tvalid_0's auc: 0.870022\tvalid_1's auc: 0.798218\n",
            "[40]\tvalid_0's auc: 0.877721\tvalid_1's auc: 0.806604\n",
            "[50]\tvalid_0's auc: 0.880019\tvalid_1's auc: 0.811059\n",
            "[60]\tvalid_0's auc: 0.883877\tvalid_1's auc: 0.811059\n",
            "Early stopping, best iteration is:\n",
            "[12]\tvalid_0's auc: 0.858383\tvalid_1's auc: 0.856656\n",
            "[10]\tvalid_0's auc: 0.865885\tvalid_1's auc: 0.822851\n"
          ]
        },
        {
          "name": "stderr",
          "output_type": "stream",
          "text": [
            "c:\\Users\\daich\\AppData\\Local\\Programs\\Python\\Python38\\lib\\site-packages\\lightgbm\\engine.py:239: UserWarning: 'verbose_eval' argument is deprecated and will be removed in a future release of LightGBM. Pass 'log_evaluation()' callback via 'callbacks' argument instead.\n",
            "  _log_warning(\"'verbose_eval' argument is deprecated and will be removed in a future release of LightGBM. \"\n",
            "regularization_factors, val_score: 0.856656:  85%|########5 | 17/20 [00:03<00:00,  4.83it/s][I 2023-07-04 00:24:41,953] Trial 59 finished with value: 0.8566561844863732 and parameters: {'lambda_l1': 0.5996878547716131, 'lambda_l2': 0.5803911590619625}. Best is trial 44 with value: 0.8566561844863732.\n",
            "regularization_factors, val_score: 0.856656:  85%|########5 | 17/20 [00:03<00:00,  4.83it/s]"
          ]
        },
        {
          "name": "stdout",
          "output_type": "stream",
          "text": [
            "[20]\tvalid_0's auc: 0.86733\tvalid_1's auc: 0.819182\n",
            "[30]\tvalid_0's auc: 0.871023\tvalid_1's auc: 0.806604\n",
            "[40]\tvalid_0's auc: 0.875882\tvalid_1's auc: 0.818658\n",
            "[50]\tvalid_0's auc: 0.880003\tvalid_1's auc: 0.817348\n",
            "[60]\tvalid_0's auc: 0.880594\tvalid_1's auc: 0.813155\n",
            "Early stopping, best iteration is:\n",
            "[12]\tvalid_0's auc: 0.858383\tvalid_1's auc: 0.856656\n",
            "[10]\tvalid_0's auc: 0.865885\tvalid_1's auc: 0.822851\n"
          ]
        },
        {
          "name": "stderr",
          "output_type": "stream",
          "text": [
            "c:\\Users\\daich\\AppData\\Local\\Programs\\Python\\Python38\\lib\\site-packages\\lightgbm\\engine.py:239: UserWarning: 'verbose_eval' argument is deprecated and will be removed in a future release of LightGBM. Pass 'log_evaluation()' callback via 'callbacks' argument instead.\n",
            "  _log_warning(\"'verbose_eval' argument is deprecated and will be removed in a future release of LightGBM. \"\n",
            "regularization_factors, val_score: 0.856656:  90%|######### | 18/20 [00:03<00:00,  4.76it/s][I 2023-07-04 00:24:42,172] Trial 60 finished with value: 0.8566561844863732 and parameters: {'lambda_l1': 0.6017466040774037, 'lambda_l2': 0.4983333968158273}. Best is trial 44 with value: 0.8566561844863732.\n",
            "regularization_factors, val_score: 0.856656:  90%|######### | 18/20 [00:03<00:00,  4.76it/s]"
          ]
        },
        {
          "name": "stdout",
          "output_type": "stream",
          "text": [
            "[20]\tvalid_0's auc: 0.86733\tvalid_1's auc: 0.819182\n",
            "[30]\tvalid_0's auc: 0.871056\tvalid_1's auc: 0.806604\n",
            "[40]\tvalid_0's auc: 0.875882\tvalid_1's auc: 0.818658\n",
            "[50]\tvalid_0's auc: 0.880035\tvalid_1's auc: 0.817348\n",
            "[60]\tvalid_0's auc: 0.880626\tvalid_1's auc: 0.813155\n",
            "Early stopping, best iteration is:\n",
            "[12]\tvalid_0's auc: 0.858383\tvalid_1's auc: 0.856656\n",
            "[10]\tvalid_0's auc: 0.847795\tvalid_1's auc: 0.838312\n",
            "[20]\tvalid_0's auc: 0.857415\tvalid_1's auc: 0.824948\n"
          ]
        },
        {
          "name": "stderr",
          "output_type": "stream",
          "text": [
            "c:\\Users\\daich\\AppData\\Local\\Programs\\Python\\Python38\\lib\\site-packages\\lightgbm\\engine.py:239: UserWarning: 'verbose_eval' argument is deprecated and will be removed in a future release of LightGBM. Pass 'log_evaluation()' callback via 'callbacks' argument instead.\n",
            "  _log_warning(\"'verbose_eval' argument is deprecated and will be removed in a future release of LightGBM. \"\n",
            "regularization_factors, val_score: 0.856656:  95%|#########5| 19/20 [00:04<00:00,  4.72it/s][I 2023-07-04 00:24:42,387] Trial 61 finished with value: 0.8566561844863732 and parameters: {'lambda_l1': 7.131673630760215, 'lambda_l2': 9.411470487214093}. Best is trial 44 with value: 0.8566561844863732.\n",
            "regularization_factors, val_score: 0.856656:  95%|#########5| 19/20 [00:04<00:00,  4.72it/s]"
          ]
        },
        {
          "name": "stdout",
          "output_type": "stream",
          "text": [
            "[30]\tvalid_0's auc: 0.859089\tvalid_1's auc: 0.821279\n",
            "[40]\tvalid_0's auc: 0.860879\tvalid_1's auc: 0.819182\n",
            "[50]\tvalid_0's auc: 0.861256\tvalid_1's auc: 0.818396\n",
            "[60]\tvalid_0's auc: 0.861223\tvalid_1's auc: 0.817872\n",
            "Early stopping, best iteration is:\n",
            "[12]\tvalid_0's auc: 0.858383\tvalid_1's auc: 0.856656\n",
            "[10]\tvalid_0's auc: 0.847795\tvalid_1's auc: 0.838312\n",
            "[20]\tvalid_0's auc: 0.856463\tvalid_1's auc: 0.823375\n"
          ]
        },
        {
          "name": "stderr",
          "output_type": "stream",
          "text": [
            "c:\\Users\\daich\\AppData\\Local\\Programs\\Python\\Python38\\lib\\site-packages\\lightgbm\\engine.py:239: UserWarning: 'verbose_eval' argument is deprecated and will be removed in a future release of LightGBM. Pass 'log_evaluation()' callback via 'callbacks' argument instead.\n",
            "  _log_warning(\"'verbose_eval' argument is deprecated and will be removed in a future release of LightGBM. \"\n",
            "regularization_factors, val_score: 0.856656: 100%|##########| 20/20 [00:04<00:00,  4.81it/s][I 2023-07-04 00:24:42,585] Trial 62 finished with value: 0.8566561844863732 and parameters: {'lambda_l1': 8.008486199386155, 'lambda_l2': 9.648380078949103}. Best is trial 44 with value: 0.8566561844863732.\n",
            "regularization_factors, val_score: 0.856656: 100%|##########| 20/20 [00:04<00:00,  4.76it/s]\n"
          ]
        },
        {
          "name": "stdout",
          "output_type": "stream",
          "text": [
            "[30]\tvalid_0's auc: 0.85684\tvalid_1's auc: 0.819969\n",
            "[40]\tvalid_0's auc: 0.85904\tvalid_1's auc: 0.816824\n",
            "[50]\tvalid_0's auc: 0.8595\tvalid_1's auc: 0.817348\n",
            "[60]\tvalid_0's auc: 0.859532\tvalid_1's auc: 0.817872\n",
            "Early stopping, best iteration is:\n",
            "[12]\tvalid_0's auc: 0.858383\tvalid_1's auc: 0.856656\n"
          ]
        },
        {
          "name": "stderr",
          "output_type": "stream",
          "text": [
            "min_data_in_leaf, val_score: 0.856656:   0%|          | 0/5 [00:00<?, ?it/s]"
          ]
        },
        {
          "name": "stdout",
          "output_type": "stream",
          "text": [
            "[10]\tvalid_0's auc: 0.853853\tvalid_1's auc: 0.847484\n",
            "[20]\tvalid_0's auc: 0.859631\tvalid_1's auc: 0.831761\n",
            "[30]\tvalid_0's auc: 0.862898\tvalid_1's auc: 0.825472\n"
          ]
        },
        {
          "name": "stderr",
          "output_type": "stream",
          "text": [
            "c:\\Users\\daich\\AppData\\Local\\Programs\\Python\\Python38\\lib\\site-packages\\lightgbm\\engine.py:239: UserWarning: 'verbose_eval' argument is deprecated and will be removed in a future release of LightGBM. Pass 'log_evaluation()' callback via 'callbacks' argument instead.\n",
            "  _log_warning(\"'verbose_eval' argument is deprecated and will be removed in a future release of LightGBM. \"\n",
            "min_data_in_leaf, val_score: 0.856656:  20%|##        | 1/5 [00:00<00:00,  4.90it/s][I 2023-07-04 00:24:42,793] Trial 63 finished with value: 0.8566561844863732 and parameters: {'min_child_samples': 100}. Best is trial 63 with value: 0.8566561844863732.\n",
            "min_data_in_leaf, val_score: 0.856656:  20%|##        | 1/5 [00:00<00:00,  4.90it/s]"
          ]
        },
        {
          "name": "stdout",
          "output_type": "stream",
          "text": [
            "[40]\tvalid_0's auc: 0.86206\tvalid_1's auc: 0.821541\n",
            "[50]\tvalid_0's auc: 0.863407\tvalid_1's auc: 0.822851\n",
            "[60]\tvalid_0's auc: 0.863505\tvalid_1's auc: 0.822327\n",
            "Early stopping, best iteration is:\n",
            "[12]\tvalid_0's auc: 0.858383\tvalid_1's auc: 0.856656\n",
            "[10]\tvalid_0's auc: 0.853853\tvalid_1's auc: 0.847484\n",
            "[20]\tvalid_0's auc: 0.859631\tvalid_1's auc: 0.831761\n"
          ]
        },
        {
          "name": "stderr",
          "output_type": "stream",
          "text": [
            "c:\\Users\\daich\\AppData\\Local\\Programs\\Python\\Python38\\lib\\site-packages\\lightgbm\\engine.py:239: UserWarning: 'verbose_eval' argument is deprecated and will be removed in a future release of LightGBM. Pass 'log_evaluation()' callback via 'callbacks' argument instead.\n",
            "  _log_warning(\"'verbose_eval' argument is deprecated and will be removed in a future release of LightGBM. \"\n",
            "min_data_in_leaf, val_score: 0.856656:  40%|####      | 2/5 [00:00<00:00,  4.88it/s][I 2023-07-04 00:24:42,998] Trial 64 finished with value: 0.8566561844863732 and parameters: {'min_child_samples': 10}. Best is trial 63 with value: 0.8566561844863732.\n",
            "min_data_in_leaf, val_score: 0.856656:  40%|####      | 2/5 [00:00<00:00,  4.88it/s]"
          ]
        },
        {
          "name": "stdout",
          "output_type": "stream",
          "text": [
            "[30]\tvalid_0's auc: 0.862898\tvalid_1's auc: 0.825472\n",
            "[40]\tvalid_0's auc: 0.86206\tvalid_1's auc: 0.821541\n",
            "[50]\tvalid_0's auc: 0.863407\tvalid_1's auc: 0.822851\n",
            "[60]\tvalid_0's auc: 0.863505\tvalid_1's auc: 0.822327\n",
            "Early stopping, best iteration is:\n",
            "[12]\tvalid_0's auc: 0.858383\tvalid_1's auc: 0.856656\n",
            "[10]\tvalid_0's auc: 0.853853\tvalid_1's auc: 0.847484\n",
            "[20]\tvalid_0's auc: 0.859631\tvalid_1's auc: 0.831761\n"
          ]
        },
        {
          "name": "stderr",
          "output_type": "stream",
          "text": [
            "c:\\Users\\daich\\AppData\\Local\\Programs\\Python\\Python38\\lib\\site-packages\\lightgbm\\engine.py:239: UserWarning: 'verbose_eval' argument is deprecated and will be removed in a future release of LightGBM. Pass 'log_evaluation()' callback via 'callbacks' argument instead.\n",
            "  _log_warning(\"'verbose_eval' argument is deprecated and will be removed in a future release of LightGBM. \"\n",
            "min_data_in_leaf, val_score: 0.856656:  60%|######    | 3/5 [00:00<00:00,  4.87it/s][I 2023-07-04 00:24:43,204] Trial 65 finished with value: 0.8566561844863732 and parameters: {'min_child_samples': 50}. Best is trial 63 with value: 0.8566561844863732.\n",
            "min_data_in_leaf, val_score: 0.856656:  60%|######    | 3/5 [00:00<00:00,  4.87it/s]"
          ]
        },
        {
          "name": "stdout",
          "output_type": "stream",
          "text": [
            "[30]\tvalid_0's auc: 0.862898\tvalid_1's auc: 0.825472\n",
            "[40]\tvalid_0's auc: 0.86206\tvalid_1's auc: 0.821541\n",
            "[50]\tvalid_0's auc: 0.863407\tvalid_1's auc: 0.822851\n",
            "[60]\tvalid_0's auc: 0.863505\tvalid_1's auc: 0.822327\n",
            "Early stopping, best iteration is:\n",
            "[12]\tvalid_0's auc: 0.858383\tvalid_1's auc: 0.856656\n",
            "[10]\tvalid_0's auc: 0.853853\tvalid_1's auc: 0.847484\n",
            "[20]\tvalid_0's auc: 0.859631\tvalid_1's auc: 0.831761\n"
          ]
        },
        {
          "name": "stderr",
          "output_type": "stream",
          "text": [
            "c:\\Users\\daich\\AppData\\Local\\Programs\\Python\\Python38\\lib\\site-packages\\lightgbm\\engine.py:239: UserWarning: 'verbose_eval' argument is deprecated and will be removed in a future release of LightGBM. Pass 'log_evaluation()' callback via 'callbacks' argument instead.\n",
            "  _log_warning(\"'verbose_eval' argument is deprecated and will be removed in a future release of LightGBM. \"\n",
            "min_data_in_leaf, val_score: 0.856656:  80%|########  | 4/5 [00:00<00:00,  4.85it/s][I 2023-07-04 00:24:43,412] Trial 66 finished with value: 0.8566561844863732 and parameters: {'min_child_samples': 25}. Best is trial 63 with value: 0.8566561844863732.\n",
            "min_data_in_leaf, val_score: 0.856656:  80%|########  | 4/5 [00:00<00:00,  4.85it/s]"
          ]
        },
        {
          "name": "stdout",
          "output_type": "stream",
          "text": [
            "[30]\tvalid_0's auc: 0.862898\tvalid_1's auc: 0.825472\n",
            "[40]\tvalid_0's auc: 0.86206\tvalid_1's auc: 0.821541\n",
            "[50]\tvalid_0's auc: 0.863407\tvalid_1's auc: 0.822851\n",
            "[60]\tvalid_0's auc: 0.863505\tvalid_1's auc: 0.822327\n",
            "Early stopping, best iteration is:\n",
            "[12]\tvalid_0's auc: 0.858383\tvalid_1's auc: 0.856656\n",
            "[10]\tvalid_0's auc: 0.853853\tvalid_1's auc: 0.847484\n",
            "[20]\tvalid_0's auc: 0.859631\tvalid_1's auc: 0.831761\n",
            "[30]\tvalid_0's auc: 0.862898\tvalid_1's auc: 0.825472\n"
          ]
        },
        {
          "name": "stderr",
          "output_type": "stream",
          "text": [
            "c:\\Users\\daich\\AppData\\Local\\Programs\\Python\\Python38\\lib\\site-packages\\lightgbm\\engine.py:239: UserWarning: 'verbose_eval' argument is deprecated and will be removed in a future release of LightGBM. Pass 'log_evaluation()' callback via 'callbacks' argument instead.\n",
            "  _log_warning(\"'verbose_eval' argument is deprecated and will be removed in a future release of LightGBM. \"\n",
            "min_data_in_leaf, val_score: 0.856656: 100%|##########| 5/5 [00:01<00:00,  4.98it/s][I 2023-07-04 00:24:43,602] Trial 67 finished with value: 0.8566561844863732 and parameters: {'min_child_samples': 5}. Best is trial 63 with value: 0.8566561844863732.\n",
            "min_data_in_leaf, val_score: 0.856656: 100%|##########| 5/5 [00:01<00:00,  4.93it/s]\n",
            "[I 2023-07-04 00:24:43,607] A new study created in memory with name: no-name-7285300e-931d-48c2-8402-33aa29b83ec7\n"
          ]
        },
        {
          "name": "stdout",
          "output_type": "stream",
          "text": [
            "[40]\tvalid_0's auc: 0.86206\tvalid_1's auc: 0.821541\n",
            "[50]\tvalid_0's auc: 0.863407\tvalid_1's auc: 0.822851\n",
            "[60]\tvalid_0's auc: 0.863505\tvalid_1's auc: 0.822327\n",
            "Early stopping, best iteration is:\n",
            "[12]\tvalid_0's auc: 0.858383\tvalid_1's auc: 0.856656\n",
            "ROC: 0.8566561844863732\n"
          ]
        },
        {
          "name": "stderr",
          "output_type": "stream",
          "text": [
            "feature_fraction, val_score: -inf:   0%|          | 0/7 [00:00<?, ?it/s]"
          ]
        },
        {
          "name": "stdout",
          "output_type": "stream",
          "text": [
            "[LightGBM] [Warning] min_data_in_leaf is set=20, min_child_samples=20 will be ignored. Current value: min_data_in_leaf=20\n",
            "Training until validation scores don't improve for 50 rounds\n",
            "[10]\tvalid_0's auc: 0.847172\tvalid_1's auc: 0.891509\n",
            "[20]\tvalid_0's auc: 0.846909\tvalid_1's auc: 0.893606\n",
            "[30]\tvalid_0's auc: 0.847172\tvalid_1's auc: 0.893606\n",
            "[40]\tvalid_0's auc: 0.855199\tvalid_1's auc: 0.88653\n",
            "[50]\tvalid_0's auc: 0.863768\tvalid_1's auc: 0.872117\n"
          ]
        },
        {
          "name": "stderr",
          "output_type": "stream",
          "text": [
            "c:\\Users\\daich\\AppData\\Local\\Programs\\Python\\Python38\\lib\\site-packages\\lightgbm\\engine.py:239: UserWarning: 'verbose_eval' argument is deprecated and will be removed in a future release of LightGBM. Pass 'log_evaluation()' callback via 'callbacks' argument instead.\n",
            "  _log_warning(\"'verbose_eval' argument is deprecated and will be removed in a future release of LightGBM. \"\n",
            "feature_fraction, val_score: 0.893606:  14%|#4        | 1/7 [00:00<00:01,  5.76it/s][I 2023-07-04 00:24:43,784] Trial 0 finished with value: 0.8936058700209644 and parameters: {'feature_fraction': 0.8}. Best is trial 0 with value: 0.8936058700209644.\n",
            "feature_fraction, val_score: 0.893606:  14%|#4        | 1/7 [00:00<00:01,  5.76it/s]"
          ]
        },
        {
          "name": "stdout",
          "output_type": "stream",
          "text": [
            "[60]\tvalid_0's auc: 0.866624\tvalid_1's auc: 0.871855\n",
            "Early stopping, best iteration is:\n",
            "[11]\tvalid_0's auc: 0.847204\tvalid_1's auc: 0.893606\n"
          ]
        },
        {
          "name": "stderr",
          "output_type": "stream",
          "text": [
            "c:\\Users\\daich\\AppData\\Local\\Programs\\Python\\Python38\\lib\\site-packages\\lightgbm\\engine.py:239: UserWarning: 'verbose_eval' argument is deprecated and will be removed in a future release of LightGBM. Pass 'log_evaluation()' callback via 'callbacks' argument instead.\n",
            "  _log_warning(\"'verbose_eval' argument is deprecated and will be removed in a future release of LightGBM. \"\n"
          ]
        },
        {
          "name": "stdout",
          "output_type": "stream",
          "text": [
            "[10]\tvalid_0's auc: 0.836305\tvalid_1's auc: 0.875786\n",
            "[20]\tvalid_0's auc: 0.839571\tvalid_1's auc: 0.880503\n",
            "[30]\tvalid_0's auc: 0.864654\tvalid_1's auc: 0.859015\n",
            "[40]\tvalid_0's auc: 0.865048\tvalid_1's auc: 0.857704\n",
            "[50]\tvalid_0's auc: 0.868594\tvalid_1's auc: 0.856394\n",
            "[60]\tvalid_0's auc: 0.870301\tvalid_1's auc: 0.858491\n",
            "Early stopping, best iteration is:\n",
            "[11]\tvalid_0's auc: 0.847204\tvalid_1's auc: 0.893606\n"
          ]
        },
        {
          "name": "stderr",
          "output_type": "stream",
          "text": [
            "feature_fraction, val_score: 0.893606:  29%|##8       | 2/7 [00:00<00:00,  5.63it/s][I 2023-07-04 00:24:43,964] Trial 1 finished with value: 0.8936058700209644 and parameters: {'feature_fraction': 1.0}. Best is trial 0 with value: 0.8936058700209644.\n",
            "feature_fraction, val_score: 0.893606:  29%|##8       | 2/7 [00:00<00:00,  5.63it/s]c:\\Users\\daich\\AppData\\Local\\Programs\\Python\\Python38\\lib\\site-packages\\lightgbm\\engine.py:239: UserWarning: 'verbose_eval' argument is deprecated and will be removed in a future release of LightGBM. Pass 'log_evaluation()' callback via 'callbacks' argument instead.\n",
            "  _log_warning(\"'verbose_eval' argument is deprecated and will be removed in a future release of LightGBM. \"\n"
          ]
        },
        {
          "name": "stdout",
          "output_type": "stream",
          "text": [
            "[10]\tvalid_0's auc: 0.845743\tvalid_1's auc: 0.88653\n"
          ]
        },
        {
          "name": "stderr",
          "output_type": "stream",
          "text": [
            "feature_fraction, val_score: 0.893606:  43%|####2     | 3/7 [00:00<00:00,  5.53it/s][I 2023-07-04 00:24:44,149] Trial 2 finished with value: 0.8936058700209644 and parameters: {'feature_fraction': 0.5}. Best is trial 0 with value: 0.8936058700209644.\n",
            "feature_fraction, val_score: 0.893606:  43%|####2     | 3/7 [00:00<00:00,  5.53it/s]"
          ]
        },
        {
          "name": "stdout",
          "output_type": "stream",
          "text": [
            "[20]\tvalid_0's auc: 0.851637\tvalid_1's auc: 0.888365\n",
            "[30]\tvalid_0's auc: 0.859992\tvalid_1's auc: 0.882338\n",
            "[40]\tvalid_0's auc: 0.859844\tvalid_1's auc: 0.880241\n",
            "[50]\tvalid_0's auc: 0.861092\tvalid_1's auc: 0.876572\n",
            "[60]\tvalid_0's auc: 0.861831\tvalid_1's auc: 0.875524\n",
            "Early stopping, best iteration is:\n",
            "[11]\tvalid_0's auc: 0.847204\tvalid_1's auc: 0.893606\n",
            "[10]\tvalid_0's auc: 0.847484\tvalid_1's auc: 0.88653\n",
            "[20]\tvalid_0's auc: 0.845546\tvalid_1's auc: 0.894654\n",
            "[30]\tvalid_0's auc: 0.85382\tvalid_1's auc: 0.898061\n",
            "[40]\tvalid_0's auc: 0.857842\tvalid_1's auc: 0.889413\n",
            "[50]\tvalid_0's auc: 0.860337\tvalid_1's auc: 0.8826\n",
            "[60]\tvalid_0's auc: 0.860288\tvalid_1's auc: 0.880765\n",
            "[70]\tvalid_0's auc: 0.86032\tvalid_1's auc: 0.880765\n",
            "[80]\tvalid_0's auc: 0.860452\tvalid_1's auc: 0.880765\n",
            "Early stopping, best iteration is:\n",
            "[30]\tvalid_0's auc: 0.85382\tvalid_1's auc: 0.898061\n"
          ]
        },
        {
          "name": "stderr",
          "output_type": "stream",
          "text": [
            "c:\\Users\\daich\\AppData\\Local\\Programs\\Python\\Python38\\lib\\site-packages\\lightgbm\\engine.py:239: UserWarning: 'verbose_eval' argument is deprecated and will be removed in a future release of LightGBM. Pass 'log_evaluation()' callback via 'callbacks' argument instead.\n",
            "  _log_warning(\"'verbose_eval' argument is deprecated and will be removed in a future release of LightGBM. \"\n",
            "feature_fraction, val_score: 0.898061:  57%|#####7    | 4/7 [00:00<00:00,  5.35it/s][I 2023-07-04 00:24:44,345] Trial 3 finished with value: 0.8980607966457023 and parameters: {'feature_fraction': 0.7}. Best is trial 3 with value: 0.8980607966457023.\n",
            "feature_fraction, val_score: 0.898061:  57%|#####7    | 4/7 [00:00<00:00,  5.35it/s]"
          ]
        },
        {
          "name": "stdout",
          "output_type": "stream",
          "text": [
            "[10]\tvalid_0's auc: 0.832857\tvalid_1's auc: 0.856656"
          ]
        },
        {
          "name": "stderr",
          "output_type": "stream",
          "text": [
            "c:\\Users\\daich\\AppData\\Local\\Programs\\Python\\Python38\\lib\\site-packages\\lightgbm\\engine.py:239: UserWarning: 'verbose_eval' argument is deprecated and will be removed in a future release of LightGBM. Pass 'log_evaluation()' callback via 'callbacks' argument instead.\n",
            "  _log_warning(\"'verbose_eval' argument is deprecated and will be removed in a future release of LightGBM. \"\n",
            "feature_fraction, val_score: 0.898061:  71%|#######1  | 5/7 [00:00<00:00,  5.19it/s][I 2023-07-04 00:24:44,550] Trial 4 finished with value: 0.8980607966457023 and parameters: {'feature_fraction': 0.4}. Best is trial 3 with value: 0.8980607966457023.\n",
            "feature_fraction, val_score: 0.898061:  71%|#######1  | 5/7 [00:00<00:00,  5.19it/s]"
          ]
        },
        {
          "name": "stdout",
          "output_type": "stream",
          "text": [
            "\n",
            "[20]\tvalid_0's auc: 0.839768\tvalid_1's auc: 0.887055\n",
            "[30]\tvalid_0's auc: 0.844003\tvalid_1's auc: 0.87369\n",
            "[40]\tvalid_0's auc: 0.850947\tvalid_1's auc: 0.878407\n",
            "[50]\tvalid_0's auc: 0.853738\tvalid_1's auc: 0.876834\n",
            "[60]\tvalid_0's auc: 0.854591\tvalid_1's auc: 0.87631\n",
            "[70]\tvalid_0's auc: 0.855182\tvalid_1's auc: 0.874214\n",
            "[80]\tvalid_0's auc: 0.855708\tvalid_1's auc: 0.872642\n",
            "Early stopping, best iteration is:\n",
            "[30]\tvalid_0's auc: 0.85382\tvalid_1's auc: 0.898061\n",
            "[10]\tvalid_0's auc: 0.847172\tvalid_1's auc: 0.891509\n",
            "[20]\tvalid_0's auc: 0.846909\tvalid_1's auc: 0.893606\n"
          ]
        },
        {
          "name": "stderr",
          "output_type": "stream",
          "text": [
            "c:\\Users\\daich\\AppData\\Local\\Programs\\Python\\Python38\\lib\\site-packages\\lightgbm\\engine.py:239: UserWarning: 'verbose_eval' argument is deprecated and will be removed in a future release of LightGBM. Pass 'log_evaluation()' callback via 'callbacks' argument instead.\n",
            "  _log_warning(\"'verbose_eval' argument is deprecated and will be removed in a future release of LightGBM. \"\n",
            "feature_fraction, val_score: 0.898061:  86%|########5 | 6/7 [00:01<00:00,  5.22it/s][I 2023-07-04 00:24:44,737] Trial 5 finished with value: 0.8980607966457023 and parameters: {'feature_fraction': 0.8999999999999999}. Best is trial 3 with value: 0.8980607966457023.\n",
            "feature_fraction, val_score: 0.898061:  86%|########5 | 6/7 [00:01<00:00,  5.22it/s]"
          ]
        },
        {
          "name": "stdout",
          "output_type": "stream",
          "text": [
            "[30]\tvalid_0's auc: 0.847172\tvalid_1's auc: 0.893606\n",
            "[40]\tvalid_0's auc: 0.855199\tvalid_1's auc: 0.88653\n",
            "[50]\tvalid_0's auc: 0.863768\tvalid_1's auc: 0.872117\n",
            "[60]\tvalid_0's auc: 0.866624\tvalid_1's auc: 0.871855\n",
            "[70]\tvalid_0's auc: 0.867067\tvalid_1's auc: 0.871855\n",
            "[80]\tvalid_0's auc: 0.867428\tvalid_1's auc: 0.871855\n",
            "Early stopping, best iteration is:\n",
            "[30]\tvalid_0's auc: 0.85382\tvalid_1's auc: 0.898061\n",
            "[10]\tvalid_0's auc: 0.845743\tvalid_1's auc: 0.88653\n",
            "[20]\tvalid_0's auc: 0.851637\tvalid_1's auc: 0.888365\n",
            "[30]\tvalid_0's auc: 0.859992\tvalid_1's auc: 0.882338\n",
            "[40]\tvalid_0's auc: 0.859844\tvalid_1's auc: 0.880241\n",
            "[50]\tvalid_0's auc: 0.861092\tvalid_1's auc: 0.876572\n",
            "[60]\tvalid_0's auc: 0.861831\tvalid_1's auc: 0.875524\n"
          ]
        },
        {
          "name": "stderr",
          "output_type": "stream",
          "text": [
            "c:\\Users\\daich\\AppData\\Local\\Programs\\Python\\Python38\\lib\\site-packages\\lightgbm\\engine.py:239: UserWarning: 'verbose_eval' argument is deprecated and will be removed in a future release of LightGBM. Pass 'log_evaluation()' callback via 'callbacks' argument instead.\n",
            "  _log_warning(\"'verbose_eval' argument is deprecated and will be removed in a future release of LightGBM. \"\n",
            "feature_fraction, val_score: 0.898061: 100%|##########| 7/7 [00:01<00:00,  5.26it/s][I 2023-07-04 00:24:44,924] Trial 6 finished with value: 0.8980607966457023 and parameters: {'feature_fraction': 0.6}. Best is trial 3 with value: 0.8980607966457023.\n",
            "feature_fraction, val_score: 0.898061: 100%|##########| 7/7 [00:01<00:00,  5.32it/s]\n"
          ]
        },
        {
          "name": "stdout",
          "output_type": "stream",
          "text": [
            "[70]\tvalid_0's auc: 0.86206\tvalid_1's auc: 0.874214\n",
            "[80]\tvalid_0's auc: 0.861995\tvalid_1's auc: 0.870021\n",
            "Early stopping, best iteration is:\n",
            "[30]\tvalid_0's auc: 0.85382\tvalid_1's auc: 0.898061\n"
          ]
        },
        {
          "name": "stderr",
          "output_type": "stream",
          "text": [
            "num_leaves, val_score: 0.898061:   0%|          | 0/20 [00:00<?, ?it/s]"
          ]
        },
        {
          "name": "stdout",
          "output_type": "stream",
          "text": [
            "[10]\tvalid_0's auc: 0.847484\tvalid_1's auc: 0.88653\n",
            "[20]\tvalid_0's auc: 0.845546\tvalid_1's auc: 0.894654\n",
            "[30]\tvalid_0's auc: 0.85382\tvalid_1's auc: 0.898061\n",
            "[40]\tvalid_0's auc: 0.857842\tvalid_1's auc: 0.889413\n",
            "[50]\tvalid_0's auc: 0.860337\tvalid_1's auc: 0.8826\n",
            "[60]\tvalid_0's auc: 0.860288\tvalid_1's auc: 0.880765\n",
            "[70]\tvalid_0's auc: 0.86032\tvalid_1's auc: 0.880765\n"
          ]
        },
        {
          "name": "stderr",
          "output_type": "stream",
          "text": [
            "c:\\Users\\daich\\AppData\\Local\\Programs\\Python\\Python38\\lib\\site-packages\\lightgbm\\engine.py:239: UserWarning: 'verbose_eval' argument is deprecated and will be removed in a future release of LightGBM. Pass 'log_evaluation()' callback via 'callbacks' argument instead.\n",
            "  _log_warning(\"'verbose_eval' argument is deprecated and will be removed in a future release of LightGBM. \"\n",
            "num_leaves, val_score: 0.898061:   5%|5         | 1/20 [00:00<00:03,  5.17it/s][I 2023-07-04 00:24:45,122] Trial 7 finished with value: 0.8980607966457023 and parameters: {'num_leaves': 243}. Best is trial 7 with value: 0.8980607966457023.\n",
            "num_leaves, val_score: 0.898061:   5%|5         | 1/20 [00:00<00:03,  5.17it/s]"
          ]
        },
        {
          "name": "stdout",
          "output_type": "stream",
          "text": [
            "[80]\tvalid_0's auc: 0.860452\tvalid_1's auc: 0.880765\n",
            "Early stopping, best iteration is:\n",
            "[30]\tvalid_0's auc: 0.85382\tvalid_1's auc: 0.898061\n",
            "[10]\tvalid_0's auc: 0.847484\tvalid_1's auc: 0.88653\n",
            "[20]\tvalid_0's auc: 0.845546\tvalid_1's auc: 0.894654\n",
            "[30]\tvalid_0's auc: 0.85382\tvalid_1's auc: 0.898061\n",
            "[40]\tvalid_0's auc: 0.857842\tvalid_1's auc: 0.889413\n",
            "[50]\tvalid_0's auc: 0.860337\tvalid_1's auc: 0.8826\n",
            "[60]\tvalid_0's auc: 0.860288\tvalid_1's auc: 0.880765\n",
            "[70]\tvalid_0's auc: 0.86032\tvalid_1's auc: 0.880765\n",
            "[80]\tvalid_0's auc: 0.860452\tvalid_1's auc: 0.880765\n",
            "Early stopping, best iteration is:\n",
            "[30]\tvalid_0's auc: 0.85382\tvalid_1's auc: 0.898061\n"
          ]
        },
        {
          "name": "stderr",
          "output_type": "stream",
          "text": [
            "c:\\Users\\daich\\AppData\\Local\\Programs\\Python\\Python38\\lib\\site-packages\\lightgbm\\engine.py:239: UserWarning: 'verbose_eval' argument is deprecated and will be removed in a future release of LightGBM. Pass 'log_evaluation()' callback via 'callbacks' argument instead.\n",
            "  _log_warning(\"'verbose_eval' argument is deprecated and will be removed in a future release of LightGBM. \"\n",
            "num_leaves, val_score: 0.898061:  10%|#         | 2/20 [00:00<00:03,  5.06it/s][I 2023-07-04 00:24:45,322] Trial 8 finished with value: 0.8980607966457023 and parameters: {'num_leaves': 149}. Best is trial 7 with value: 0.8980607966457023.\n",
            "num_leaves, val_score: 0.898061:  10%|#         | 2/20 [00:00<00:03,  5.06it/s]"
          ]
        },
        {
          "name": "stdout",
          "output_type": "stream",
          "text": [
            "[10]\tvalid_0's auc: 0.847484\tvalid_1's auc: 0.88653\n"
          ]
        },
        {
          "name": "stderr",
          "output_type": "stream",
          "text": [
            "c:\\Users\\daich\\AppData\\Local\\Programs\\Python\\Python38\\lib\\site-packages\\lightgbm\\engine.py:239: UserWarning: 'verbose_eval' argument is deprecated and will be removed in a future release of LightGBM. Pass 'log_evaluation()' callback via 'callbacks' argument instead.\n",
            "  _log_warning(\"'verbose_eval' argument is deprecated and will be removed in a future release of LightGBM. \"\n",
            "num_leaves, val_score: 0.898061:  15%|#5        | 3/20 [00:00<00:03,  5.20it/s][I 2023-07-04 00:24:45,508] Trial 9 finished with value: 0.8980607966457023 and parameters: {'num_leaves': 22}. Best is trial 7 with value: 0.8980607966457023.\n",
            "num_leaves, val_score: 0.898061:  15%|#5        | 3/20 [00:00<00:03,  5.20it/s]"
          ]
        },
        {
          "name": "stdout",
          "output_type": "stream",
          "text": [
            "[20]\tvalid_0's auc: 0.845546\tvalid_1's auc: 0.894654\n",
            "[30]\tvalid_0's auc: 0.85382\tvalid_1's auc: 0.898061\n",
            "[40]\tvalid_0's auc: 0.857842\tvalid_1's auc: 0.889413\n",
            "[50]\tvalid_0's auc: 0.860337\tvalid_1's auc: 0.8826\n",
            "[60]\tvalid_0's auc: 0.860288\tvalid_1's auc: 0.880765\n",
            "[70]\tvalid_0's auc: 0.86032\tvalid_1's auc: 0.880765\n",
            "[80]\tvalid_0's auc: 0.860452\tvalid_1's auc: 0.880765\n",
            "Early stopping, best iteration is:\n",
            "[30]\tvalid_0's auc: 0.85382\tvalid_1's auc: 0.898061\n",
            "[10]\tvalid_0's auc: 0.847484\tvalid_1's auc: 0.88653\n",
            "[20]\tvalid_0's auc: 0.845546\tvalid_1's auc: 0.894654\n",
            "[30]\tvalid_0's auc: 0.85382\tvalid_1's auc: 0.898061\n"
          ]
        },
        {
          "name": "stderr",
          "output_type": "stream",
          "text": [
            "c:\\Users\\daich\\AppData\\Local\\Programs\\Python\\Python38\\lib\\site-packages\\lightgbm\\engine.py:239: UserWarning: 'verbose_eval' argument is deprecated and will be removed in a future release of LightGBM. Pass 'log_evaluation()' callback via 'callbacks' argument instead.\n",
            "  _log_warning(\"'verbose_eval' argument is deprecated and will be removed in a future release of LightGBM. \"\n",
            "num_leaves, val_score: 0.898061:  20%|##        | 4/20 [00:00<00:03,  5.14it/s][I 2023-07-04 00:24:45,708] Trial 10 finished with value: 0.8980607966457023 and parameters: {'num_leaves': 9}. Best is trial 7 with value: 0.8980607966457023.\n",
            "num_leaves, val_score: 0.898061:  20%|##        | 4/20 [00:00<00:03,  5.14it/s]"
          ]
        },
        {
          "name": "stdout",
          "output_type": "stream",
          "text": [
            "[40]\tvalid_0's auc: 0.857842\tvalid_1's auc: 0.889413\n",
            "[50]\tvalid_0's auc: 0.860337\tvalid_1's auc: 0.8826\n",
            "[60]\tvalid_0's auc: 0.860288\tvalid_1's auc: 0.880765\n",
            "[70]\tvalid_0's auc: 0.86032\tvalid_1's auc: 0.880765\n",
            "[80]\tvalid_0's auc: 0.860452\tvalid_1's auc: 0.880765\n",
            "Early stopping, best iteration is:\n",
            "[30]\tvalid_0's auc: 0.85382\tvalid_1's auc: 0.898061\n",
            "[10]\tvalid_0's auc: 0.847484\tvalid_1's auc: 0.88653\n",
            "[20]\tvalid_0's auc: 0.845546\tvalid_1's auc: 0.894654\n",
            "[30]\tvalid_0's auc: 0.85382\tvalid_1's auc: 0.898061\n",
            "[40]\tvalid_0's auc: 0.857842\tvalid_1's auc: 0.889413\n"
          ]
        },
        {
          "name": "stderr",
          "output_type": "stream",
          "text": [
            "c:\\Users\\daich\\AppData\\Local\\Programs\\Python\\Python38\\lib\\site-packages\\lightgbm\\engine.py:239: UserWarning: 'verbose_eval' argument is deprecated and will be removed in a future release of LightGBM. Pass 'log_evaluation()' callback via 'callbacks' argument instead.\n",
            "  _log_warning(\"'verbose_eval' argument is deprecated and will be removed in a future release of LightGBM. \"\n",
            "num_leaves, val_score: 0.898061:  25%|##5       | 5/20 [00:00<00:02,  5.16it/s][I 2023-07-04 00:24:45,899] Trial 11 finished with value: 0.8980607966457023 and parameters: {'num_leaves': 253}. Best is trial 7 with value: 0.8980607966457023.\n",
            "num_leaves, val_score: 0.898061:  25%|##5       | 5/20 [00:00<00:02,  5.16it/s]"
          ]
        },
        {
          "name": "stdout",
          "output_type": "stream",
          "text": [
            "[50]\tvalid_0's auc: 0.860337\tvalid_1's auc: 0.8826\n",
            "[60]\tvalid_0's auc: 0.860288\tvalid_1's auc: 0.880765\n",
            "[70]\tvalid_0's auc: 0.86032\tvalid_1's auc: 0.880765\n",
            "[80]\tvalid_0's auc: 0.860452\tvalid_1's auc: 0.880765\n",
            "Early stopping, best iteration is:\n",
            "[30]\tvalid_0's auc: 0.85382\tvalid_1's auc: 0.898061\n",
            "[10]\tvalid_0's auc: 0.847484\tvalid_1's auc: 0.88653\n",
            "[20]\tvalid_0's auc: 0.845546\tvalid_1's auc: 0.894654\n",
            "[30]\tvalid_0's auc: 0.85382\tvalid_1's auc: 0.898061\n",
            "[40]\tvalid_0's auc: 0.857842\tvalid_1's auc: 0.889413\n",
            "[50]\tvalid_0's auc: 0.860337\tvalid_1's auc: 0.8826\n",
            "[60]\tvalid_0's auc: 0.860288\tvalid_1's auc: 0.880765\n",
            "[70]\tvalid_0's auc: 0.86032\tvalid_1's auc: 0.880765\n",
            "[80]\tvalid_0's auc: 0.860452\tvalid_1's auc: 0.880765\n",
            "Early stopping, best iteration is:\n",
            "[30]\tvalid_0's auc: 0.85382\tvalid_1's auc: 0.898061\n"
          ]
        },
        {
          "name": "stderr",
          "output_type": "stream",
          "text": [
            "c:\\Users\\daich\\AppData\\Local\\Programs\\Python\\Python38\\lib\\site-packages\\lightgbm\\engine.py:239: UserWarning: 'verbose_eval' argument is deprecated and will be removed in a future release of LightGBM. Pass 'log_evaluation()' callback via 'callbacks' argument instead.\n",
            "  _log_warning(\"'verbose_eval' argument is deprecated and will be removed in a future release of LightGBM. \"\n",
            "num_leaves, val_score: 0.898061:  30%|###       | 6/20 [00:01<00:02,  5.23it/s][I 2023-07-04 00:24:46,085] Trial 12 finished with value: 0.8980607966457023 and parameters: {'num_leaves': 111}. Best is trial 7 with value: 0.8980607966457023.\n",
            "num_leaves, val_score: 0.898061:  30%|###       | 6/20 [00:01<00:02,  5.23it/s]c:\\Users\\daich\\AppData\\Local\\Programs\\Python\\Python38\\lib\\site-packages\\lightgbm\\engine.py:239: UserWarning: 'verbose_eval' argument is deprecated and will be removed in a future release of LightGBM. Pass 'log_evaluation()' callback via 'callbacks' argument instead.\n",
            "  _log_warning(\"'verbose_eval' argument is deprecated and will be removed in a future release of LightGBM. \"\n",
            "num_leaves, val_score: 0.898061:  35%|###5      | 7/20 [00:01<00:02,  5.25it/s][I 2023-07-04 00:24:46,273] Trial 13 finished with value: 0.8980607966457023 and parameters: {'num_leaves': 149}. Best is trial 7 with value: 0.8980607966457023.\n",
            "num_leaves, val_score: 0.898061:  35%|###5      | 7/20 [00:01<00:02,  5.25it/s]"
          ]
        },
        {
          "name": "stdout",
          "output_type": "stream",
          "text": [
            "[10]\tvalid_0's auc: 0.847484\tvalid_1's auc: 0.88653\n",
            "[20]\tvalid_0's auc: 0.845546\tvalid_1's auc: 0.894654\n",
            "[30]\tvalid_0's auc: 0.85382\tvalid_1's auc: 0.898061\n",
            "[40]\tvalid_0's auc: 0.857842\tvalid_1's auc: 0.889413\n",
            "[50]\tvalid_0's auc: 0.860337\tvalid_1's auc: 0.8826\n",
            "[60]\tvalid_0's auc: 0.860288\tvalid_1's auc: 0.880765\n",
            "[70]\tvalid_0's auc: 0.86032\tvalid_1's auc: 0.880765\n",
            "[80]\tvalid_0's auc: 0.860452\tvalid_1's auc: 0.880765\n",
            "Early stopping, best iteration is:\n",
            "[30]\tvalid_0's auc: 0.85382\tvalid_1's auc: 0.898061\n",
            "[10]\tvalid_0's auc: 0.847484\tvalid_1's auc: 0.88653\n",
            "[20]\tvalid_0's auc: 0.845546\tvalid_1's auc: 0.894654\n",
            "[30]\tvalid_0's auc: 0.85382\tvalid_1's auc: 0.898061\n"
          ]
        },
        {
          "name": "stderr",
          "output_type": "stream",
          "text": [
            "c:\\Users\\daich\\AppData\\Local\\Programs\\Python\\Python38\\lib\\site-packages\\lightgbm\\engine.py:239: UserWarning: 'verbose_eval' argument is deprecated and will be removed in a future release of LightGBM. Pass 'log_evaluation()' callback via 'callbacks' argument instead.\n",
            "  _log_warning(\"'verbose_eval' argument is deprecated and will be removed in a future release of LightGBM. \"\n",
            "num_leaves, val_score: 0.898061:  40%|####      | 8/20 [00:01<00:02,  5.31it/s][I 2023-07-04 00:24:46,458] Trial 14 finished with value: 0.8980607966457023 and parameters: {'num_leaves': 81}. Best is trial 7 with value: 0.8980607966457023.\n",
            "num_leaves, val_score: 0.898061:  40%|####      | 8/20 [00:01<00:02,  5.31it/s]"
          ]
        },
        {
          "name": "stdout",
          "output_type": "stream",
          "text": [
            "[40]\tvalid_0's auc: 0.857842\tvalid_1's auc: 0.889413\n",
            "[50]\tvalid_0's auc: 0.860337\tvalid_1's auc: 0.8826\n",
            "[60]\tvalid_0's auc: 0.860288\tvalid_1's auc: 0.880765\n",
            "[70]\tvalid_0's auc: 0.86032\tvalid_1's auc: 0.880765\n",
            "[80]\tvalid_0's auc: 0.860452\tvalid_1's auc: 0.880765\n",
            "Early stopping, best iteration is:\n",
            "[30]\tvalid_0's auc: 0.85382\tvalid_1's auc: 0.898061\n",
            "[10]\tvalid_0's auc: 0.847484\tvalid_1's auc: 0.88653\n",
            "[20]\tvalid_0's auc: 0.845546\tvalid_1's auc: 0.894654\n",
            "[30]\tvalid_0's auc: 0.85382\tvalid_1's auc: 0.898061\n",
            "[40]\tvalid_0's auc: 0.857842\tvalid_1's auc: 0.889413\n",
            "[50]\tvalid_0's auc: 0.860337\tvalid_1's auc: 0.8826\n",
            "[60]\tvalid_0's auc: 0.860288\tvalid_1's auc: 0.880765\n",
            "[70]\tvalid_0's auc: 0.86032\tvalid_1's auc: 0.880765\n"
          ]
        },
        {
          "name": "stderr",
          "output_type": "stream",
          "text": [
            "c:\\Users\\daich\\AppData\\Local\\Programs\\Python\\Python38\\lib\\site-packages\\lightgbm\\engine.py:239: UserWarning: 'verbose_eval' argument is deprecated and will be removed in a future release of LightGBM. Pass 'log_evaluation()' callback via 'callbacks' argument instead.\n",
            "  _log_warning(\"'verbose_eval' argument is deprecated and will be removed in a future release of LightGBM. \"\n",
            "num_leaves, val_score: 0.898061:  45%|####5     | 9/20 [00:01<00:02,  5.24it/s][I 2023-07-04 00:24:46,654] Trial 15 finished with value: 0.8980607966457023 and parameters: {'num_leaves': 187}. Best is trial 7 with value: 0.8980607966457023.\n",
            "num_leaves, val_score: 0.898061:  45%|####5     | 9/20 [00:01<00:02,  5.24it/s]"
          ]
        },
        {
          "name": "stdout",
          "output_type": "stream",
          "text": [
            "[80]\tvalid_0's auc: 0.860452\tvalid_1's auc: 0.880765\n",
            "Early stopping, best iteration is:\n",
            "[30]\tvalid_0's auc: 0.85382\tvalid_1's auc: 0.898061\n",
            "[10]\tvalid_0's auc: 0.847484\tvalid_1's auc: 0.88653\n",
            "[20]\tvalid_0's auc: 0.845546\tvalid_1's auc: 0.894654\n",
            "[30]\tvalid_0's auc: 0.85382\tvalid_1's auc: 0.898061\n",
            "[40]\tvalid_0's auc: 0.857842\tvalid_1's auc: 0.889413\n",
            "[50]\tvalid_0's auc: 0.860337\tvalid_1's auc: 0.8826\n",
            "[60]\tvalid_0's auc: 0.860288\tvalid_1's auc: 0.880765\n",
            "[70]\tvalid_0's auc: 0.86032\tvalid_1's auc: 0.880765\n",
            "[80]\tvalid_0's auc: 0.860452\tvalid_1's auc: 0.880765\n",
            "Early stopping, best iteration is:\n",
            "[30]\tvalid_0's auc: 0.85382\tvalid_1's auc: 0.898061\n"
          ]
        },
        {
          "name": "stderr",
          "output_type": "stream",
          "text": [
            "c:\\Users\\daich\\AppData\\Local\\Programs\\Python\\Python38\\lib\\site-packages\\lightgbm\\engine.py:239: UserWarning: 'verbose_eval' argument is deprecated and will be removed in a future release of LightGBM. Pass 'log_evaluation()' callback via 'callbacks' argument instead.\n",
            "  _log_warning(\"'verbose_eval' argument is deprecated and will be removed in a future release of LightGBM. \"\n",
            "num_leaves, val_score: 0.898061:  50%|#####     | 10/20 [00:01<00:01,  5.21it/s][I 2023-07-04 00:24:46,849] Trial 16 finished with value: 0.8980607966457023 and parameters: {'num_leaves': 65}. Best is trial 7 with value: 0.8980607966457023.\n",
            "num_leaves, val_score: 0.898061:  50%|#####     | 10/20 [00:01<00:01,  5.21it/s]c:\\Users\\daich\\AppData\\Local\\Programs\\Python\\Python38\\lib\\site-packages\\lightgbm\\engine.py:239: UserWarning: 'verbose_eval' argument is deprecated and will be removed in a future release of LightGBM. Pass 'log_evaluation()' callback via 'callbacks' argument instead.\n",
            "  _log_warning(\"'verbose_eval' argument is deprecated and will be removed in a future release of LightGBM. \"\n",
            "num_leaves, val_score: 0.898061:  55%|#####5    | 11/20 [00:02<00:01,  5.10it/s][I 2023-07-04 00:24:47,054] Trial 17 finished with value: 0.8980607966457023 and parameters: {'num_leaves': 202}. Best is trial 7 with value: 0.8980607966457023.\n",
            "num_leaves, val_score: 0.898061:  55%|#####5    | 11/20 [00:02<00:01,  5.10it/s]"
          ]
        },
        {
          "name": "stdout",
          "output_type": "stream",
          "text": [
            "[10]\tvalid_0's auc: 0.847484\tvalid_1's auc: 0.88653\n",
            "[20]\tvalid_0's auc: 0.845546\tvalid_1's auc: 0.894654\n",
            "[30]\tvalid_0's auc: 0.85382\tvalid_1's auc: 0.898061\n",
            "[40]\tvalid_0's auc: 0.857842\tvalid_1's auc: 0.889413\n",
            "[50]\tvalid_0's auc: 0.860337\tvalid_1's auc: 0.8826\n",
            "[60]\tvalid_0's auc: 0.860288\tvalid_1's auc: 0.880765\n",
            "[70]\tvalid_0's auc: 0.86032\tvalid_1's auc: 0.880765\n",
            "[80]\tvalid_0's auc: 0.860452\tvalid_1's auc: 0.880765\n",
            "Early stopping, best iteration is:\n",
            "[30]\tvalid_0's auc: 0.85382\tvalid_1's auc: 0.898061\n",
            "[10]\tvalid_0's auc: 0.847484\tvalid_1's auc: 0.88653\n",
            "[20]\tvalid_0's auc: 0.845546\tvalid_1's auc: 0.894654\n"
          ]
        },
        {
          "name": "stderr",
          "output_type": "stream",
          "text": [
            "c:\\Users\\daich\\AppData\\Local\\Programs\\Python\\Python38\\lib\\site-packages\\lightgbm\\engine.py:239: UserWarning: 'verbose_eval' argument is deprecated and will be removed in a future release of LightGBM. Pass 'log_evaluation()' callback via 'callbacks' argument instead.\n",
            "  _log_warning(\"'verbose_eval' argument is deprecated and will be removed in a future release of LightGBM. \"\n",
            "num_leaves, val_score: 0.898061:  60%|######    | 12/20 [00:02<00:01,  5.14it/s][I 2023-07-04 00:24:47,245] Trial 18 finished with value: 0.8980607966457023 and parameters: {'num_leaves': 57}. Best is trial 7 with value: 0.8980607966457023.\n",
            "num_leaves, val_score: 0.898061:  60%|######    | 12/20 [00:02<00:01,  5.14it/s]"
          ]
        },
        {
          "name": "stdout",
          "output_type": "stream",
          "text": [
            "[30]\tvalid_0's auc: 0.85382\tvalid_1's auc: 0.898061\n",
            "[40]\tvalid_0's auc: 0.857842\tvalid_1's auc: 0.889413\n",
            "[50]\tvalid_0's auc: 0.860337\tvalid_1's auc: 0.8826\n",
            "[60]\tvalid_0's auc: 0.860288\tvalid_1's auc: 0.880765\n",
            "[70]\tvalid_0's auc: 0.86032\tvalid_1's auc: 0.880765\n",
            "[80]\tvalid_0's auc: 0.860452\tvalid_1's auc: 0.880765\n",
            "Early stopping, best iteration is:\n",
            "[30]\tvalid_0's auc: 0.85382\tvalid_1's auc: 0.898061\n",
            "[10]\tvalid_0's auc: 0.847484\tvalid_1's auc: 0.88653\n",
            "[20]\tvalid_0's auc: 0.845546\tvalid_1's auc: 0.894654\n"
          ]
        },
        {
          "name": "stderr",
          "output_type": "stream",
          "text": [
            "c:\\Users\\daich\\AppData\\Local\\Programs\\Python\\Python38\\lib\\site-packages\\lightgbm\\engine.py:239: UserWarning: 'verbose_eval' argument is deprecated and will be removed in a future release of LightGBM. Pass 'log_evaluation()' callback via 'callbacks' argument instead.\n",
            "  _log_warning(\"'verbose_eval' argument is deprecated and will be removed in a future release of LightGBM. \"\n",
            "num_leaves, val_score: 0.898061:  65%|######5   | 13/20 [00:02<00:01,  5.13it/s][I 2023-07-04 00:24:47,441] Trial 19 finished with value: 0.8980607966457023 and parameters: {'num_leaves': 187}. Best is trial 7 with value: 0.8980607966457023.\n",
            "num_leaves, val_score: 0.898061:  65%|######5   | 13/20 [00:02<00:01,  5.13it/s]"
          ]
        },
        {
          "name": "stdout",
          "output_type": "stream",
          "text": [
            "[30]\tvalid_0's auc: 0.85382\tvalid_1's auc: 0.898061\n",
            "[40]\tvalid_0's auc: 0.857842\tvalid_1's auc: 0.889413\n",
            "[50]\tvalid_0's auc: 0.860337\tvalid_1's auc: 0.8826\n",
            "[60]\tvalid_0's auc: 0.860288\tvalid_1's auc: 0.880765\n",
            "[70]\tvalid_0's auc: 0.86032\tvalid_1's auc: 0.880765\n",
            "[80]\tvalid_0's auc: 0.860452\tvalid_1's auc: 0.880765\n",
            "Early stopping, best iteration is:\n",
            "[30]\tvalid_0's auc: 0.85382\tvalid_1's auc: 0.898061\n",
            "[10]\tvalid_0's auc: 0.847484\tvalid_1's auc: 0.88653\n",
            "[20]\tvalid_0's auc: 0.845546\tvalid_1's auc: 0.894654\n",
            "[30]\tvalid_0's auc: 0.85382\tvalid_1's auc: 0.898061\n",
            "[40]\tvalid_0's auc: 0.857842\tvalid_1's auc: 0.889413\n",
            "[50]\tvalid_0's auc: 0.860337\tvalid_1's auc: 0.8826\n"
          ]
        },
        {
          "name": "stderr",
          "output_type": "stream",
          "text": [
            "c:\\Users\\daich\\AppData\\Local\\Programs\\Python\\Python38\\lib\\site-packages\\lightgbm\\engine.py:239: UserWarning: 'verbose_eval' argument is deprecated and will be removed in a future release of LightGBM. Pass 'log_evaluation()' callback via 'callbacks' argument instead.\n",
            "  _log_warning(\"'verbose_eval' argument is deprecated and will be removed in a future release of LightGBM. \"\n",
            "num_leaves, val_score: 0.898061:  70%|#######   | 14/20 [00:02<00:01,  5.16it/s][I 2023-07-04 00:24:47,632] Trial 20 finished with value: 0.8980607966457023 and parameters: {'num_leaves': 110}. Best is trial 7 with value: 0.8980607966457023.\n",
            "num_leaves, val_score: 0.898061:  70%|#######   | 14/20 [00:02<00:01,  5.16it/s]"
          ]
        },
        {
          "name": "stdout",
          "output_type": "stream",
          "text": [
            "[60]\tvalid_0's auc: 0.860288\tvalid_1's auc: 0.880765\n",
            "[70]\tvalid_0's auc: 0.86032\tvalid_1's auc: 0.880765\n",
            "[80]\tvalid_0's auc: 0.860452\tvalid_1's auc: 0.880765\n",
            "Early stopping, best iteration is:\n",
            "[30]\tvalid_0's auc: 0.85382\tvalid_1's auc: 0.898061\n",
            "[10]\tvalid_0's auc: 0.847484\tvalid_1's auc: 0.88653\n",
            "[20]\tvalid_0's auc: 0.845546\tvalid_1's auc: 0.894654\n",
            "[30]\tvalid_0's auc: 0.85382\tvalid_1's auc: 0.898061\n",
            "[40]\tvalid_0's auc: 0.857842\tvalid_1's auc: 0.889413\n",
            "[50]\tvalid_0's auc: 0.860337\tvalid_1's auc: 0.8826\n",
            "[60]\tvalid_0's auc: 0.860288\tvalid_1's auc: 0.880765\n"
          ]
        },
        {
          "name": "stderr",
          "output_type": "stream",
          "text": [
            "c:\\Users\\daich\\AppData\\Local\\Programs\\Python\\Python38\\lib\\site-packages\\lightgbm\\engine.py:239: UserWarning: 'verbose_eval' argument is deprecated and will be removed in a future release of LightGBM. Pass 'log_evaluation()' callback via 'callbacks' argument instead.\n",
            "  _log_warning(\"'verbose_eval' argument is deprecated and will be removed in a future release of LightGBM. \"\n",
            "num_leaves, val_score: 0.898061:  75%|#######5  | 15/20 [00:02<00:00,  5.12it/s][I 2023-07-04 00:24:47,830] Trial 21 finished with value: 0.8980607966457023 and parameters: {'num_leaves': 215}. Best is trial 7 with value: 0.8980607966457023.\n",
            "num_leaves, val_score: 0.898061:  75%|#######5  | 15/20 [00:02<00:00,  5.12it/s]c:\\Users\\daich\\AppData\\Local\\Programs\\Python\\Python38\\lib\\site-packages\\lightgbm\\engine.py:239: UserWarning: 'verbose_eval' argument is deprecated and will be removed in a future release of LightGBM. Pass 'log_evaluation()' callback via 'callbacks' argument instead.\n",
            "  _log_warning(\"'verbose_eval' argument is deprecated and will be removed in a future release of LightGBM. \"\n",
            "num_leaves, val_score: 0.898061:  75%|#######5  | 15/20 [00:03<00:00,  5.12it/s]"
          ]
        },
        {
          "name": "stdout",
          "output_type": "stream",
          "text": [
            "[70]\tvalid_0's auc: 0.86032\tvalid_1's auc: 0.880765\n",
            "[80]\tvalid_0's auc: 0.860452\tvalid_1's auc: 0.880765\n",
            "Early stopping, best iteration is:\n",
            "[30]\tvalid_0's auc: 0.85382\tvalid_1's auc: 0.898061\n",
            "[10]\tvalid_0's auc: 0.847484\tvalid_1's auc: 0.88653\n",
            "[20]\tvalid_0's auc: 0.845546\tvalid_1's auc: 0.894654\n",
            "[30]\tvalid_0's auc: 0.85382\tvalid_1's auc: 0.898061\n",
            "[40]\tvalid_0's auc: 0.857842\tvalid_1's auc: 0.889413\n",
            "[50]\tvalid_0's auc: 0.860337\tvalid_1's auc: 0.8826\n",
            "[60]\tvalid_0's auc: 0.860288\tvalid_1's auc: 0.880765\n",
            "[70]\tvalid_0's auc: 0.86032\tvalid_1's auc: 0.880765\n",
            "[80]\tvalid_0's auc: 0.860452\tvalid_1's auc: 0.880765\n",
            "Early stopping, best iteration is:\n",
            "[30]\tvalid_0's auc: 0.85382\tvalid_1's auc: 0.898061\n"
          ]
        },
        {
          "name": "stderr",
          "output_type": "stream",
          "text": [
            "num_leaves, val_score: 0.898061:  80%|########  | 16/20 [00:03<00:00,  5.21it/s][I 2023-07-04 00:24:48,015] Trial 22 finished with value: 0.8980607966457023 and parameters: {'num_leaves': 158}. Best is trial 7 with value: 0.8980607966457023.\n",
            "num_leaves, val_score: 0.898061:  80%|########  | 16/20 [00:03<00:00,  5.21it/s]c:\\Users\\daich\\AppData\\Local\\Programs\\Python\\Python38\\lib\\site-packages\\lightgbm\\engine.py:239: UserWarning: 'verbose_eval' argument is deprecated and will be removed in a future release of LightGBM. Pass 'log_evaluation()' callback via 'callbacks' argument instead.\n",
            "  _log_warning(\"'verbose_eval' argument is deprecated and will be removed in a future release of LightGBM. \"\n",
            "num_leaves, val_score: 0.898061:  85%|########5 | 17/20 [00:03<00:00,  5.20it/s][I 2023-07-04 00:24:48,208] Trial 23 finished with value: 0.8980607966457023 and parameters: {'num_leaves': 40}. Best is trial 7 with value: 0.8980607966457023.\n",
            "num_leaves, val_score: 0.898061:  85%|########5 | 17/20 [00:03<00:00,  5.20it/s]"
          ]
        },
        {
          "name": "stdout",
          "output_type": "stream",
          "text": [
            "[10]\tvalid_0's auc: 0.847484\tvalid_1's auc: 0.88653\n",
            "[20]\tvalid_0's auc: 0.845546\tvalid_1's auc: 0.894654\n",
            "[30]\tvalid_0's auc: 0.85382\tvalid_1's auc: 0.898061\n",
            "[40]\tvalid_0's auc: 0.857842\tvalid_1's auc: 0.889413\n",
            "[50]\tvalid_0's auc: 0.860337\tvalid_1's auc: 0.8826\n",
            "[60]\tvalid_0's auc: 0.860288\tvalid_1's auc: 0.880765\n",
            "[70]\tvalid_0's auc: 0.86032\tvalid_1's auc: 0.880765\n",
            "[80]\tvalid_0's auc: 0.860452\tvalid_1's auc: 0.880765\n",
            "Early stopping, best iteration is:\n",
            "[30]\tvalid_0's auc: 0.85382\tvalid_1's auc: 0.898061\n"
          ]
        },
        {
          "name": "stderr",
          "output_type": "stream",
          "text": [
            "c:\\Users\\daich\\AppData\\Local\\Programs\\Python\\Python38\\lib\\site-packages\\lightgbm\\engine.py:239: UserWarning: 'verbose_eval' argument is deprecated and will be removed in a future release of LightGBM. Pass 'log_evaluation()' callback via 'callbacks' argument instead.\n",
            "  _log_warning(\"'verbose_eval' argument is deprecated and will be removed in a future release of LightGBM. \"\n",
            "num_leaves, val_score: 0.898061:  90%|######### | 18/20 [00:03<00:00,  5.01it/s][I 2023-07-04 00:24:48,424] Trial 24 finished with value: 0.8980607966457023 and parameters: {'num_leaves': 87}. Best is trial 7 with value: 0.8980607966457023.\n",
            "num_leaves, val_score: 0.898061:  90%|######### | 18/20 [00:03<00:00,  5.01it/s]"
          ]
        },
        {
          "name": "stdout",
          "output_type": "stream",
          "text": [
            "[10]\tvalid_0's auc: 0.847484\tvalid_1's auc: 0.88653\n",
            "[20]\tvalid_0's auc: 0.845546\tvalid_1's auc: 0.894654\n",
            "[30]\tvalid_0's auc: 0.85382\tvalid_1's auc: 0.898061\n",
            "[40]\tvalid_0's auc: 0.857842\tvalid_1's auc: 0.889413\n",
            "[50]\tvalid_0's auc: 0.860337\tvalid_1's auc: 0.8826\n",
            "[60]\tvalid_0's auc: 0.860288\tvalid_1's auc: 0.880765\n",
            "[70]\tvalid_0's auc: 0.86032\tvalid_1's auc: 0.880765\n",
            "[80]\tvalid_0's auc: 0.860452\tvalid_1's auc: 0.880765\n",
            "Early stopping, best iteration is:\n",
            "[30]\tvalid_0's auc: 0.85382\tvalid_1's auc: 0.898061\n",
            "[10]\tvalid_0's auc: 0.847484\tvalid_1's auc: 0.88653\n",
            "[20]\tvalid_0's auc: 0.845546\tvalid_1's auc: 0.894654\n"
          ]
        },
        {
          "name": "stderr",
          "output_type": "stream",
          "text": [
            "c:\\Users\\daich\\AppData\\Local\\Programs\\Python\\Python38\\lib\\site-packages\\lightgbm\\engine.py:239: UserWarning: 'verbose_eval' argument is deprecated and will be removed in a future release of LightGBM. Pass 'log_evaluation()' callback via 'callbacks' argument instead.\n",
            "  _log_warning(\"'verbose_eval' argument is deprecated and will be removed in a future release of LightGBM. \"\n",
            "num_leaves, val_score: 0.898061:  95%|#########5| 19/20 [00:03<00:00,  5.12it/s][I 2023-07-04 00:24:48,610] Trial 25 finished with value: 0.8980607966457023 and parameters: {'num_leaves': 227}. Best is trial 7 with value: 0.8980607966457023.\n",
            "num_leaves, val_score: 0.898061:  95%|#########5| 19/20 [00:03<00:00,  5.12it/s]c:\\Users\\daich\\AppData\\Local\\Programs\\Python\\Python38\\lib\\site-packages\\lightgbm\\engine.py:239: UserWarning: 'verbose_eval' argument is deprecated and will be removed in a future release of LightGBM. Pass 'log_evaluation()' callback via 'callbacks' argument instead.\n",
            "  _log_warning(\"'verbose_eval' argument is deprecated and will be removed in a future release of LightGBM. \"\n"
          ]
        },
        {
          "name": "stdout",
          "output_type": "stream",
          "text": [
            "[30]\tvalid_0's auc: 0.85382\tvalid_1's auc: 0.898061\n",
            "[40]\tvalid_0's auc: 0.857842\tvalid_1's auc: 0.889413\n",
            "[50]\tvalid_0's auc: 0.860337\tvalid_1's auc: 0.8826\n",
            "[60]\tvalid_0's auc: 0.860288\tvalid_1's auc: 0.880765\n",
            "[70]\tvalid_0's auc: 0.86032\tvalid_1's auc: 0.880765\n",
            "[80]\tvalid_0's auc: 0.860452\tvalid_1's auc: 0.880765\n",
            "Early stopping, best iteration is:\n",
            "[30]\tvalid_0's auc: 0.85382\tvalid_1's auc: 0.898061\n",
            "[10]\tvalid_0's auc: 0.847484\tvalid_1's auc: 0.88653\n",
            "[20]\tvalid_0's auc: 0.845546\tvalid_1's auc: 0.894654\n",
            "[30]\tvalid_0's auc: 0.85382\tvalid_1's auc: 0.898061\n",
            "[40]\tvalid_0's auc: 0.857842\tvalid_1's auc: 0.889413\n",
            "[50]\tvalid_0's auc: 0.860337\tvalid_1's auc: 0.8826\n"
          ]
        },
        {
          "name": "stderr",
          "output_type": "stream",
          "text": [
            "num_leaves, val_score: 0.898061: 100%|##########| 20/20 [00:03<00:00,  5.19it/s][I 2023-07-04 00:24:48,797] Trial 26 finished with value: 0.8980607966457023 and parameters: {'num_leaves': 176}. Best is trial 7 with value: 0.8980607966457023.\n",
            "num_leaves, val_score: 0.898061: 100%|##########| 20/20 [00:03<00:00,  5.17it/s]\n"
          ]
        },
        {
          "name": "stdout",
          "output_type": "stream",
          "text": [
            "[60]\tvalid_0's auc: 0.860288\tvalid_1's auc: 0.880765\n",
            "[70]\tvalid_0's auc: 0.86032\tvalid_1's auc: 0.880765\n",
            "[80]\tvalid_0's auc: 0.860452\tvalid_1's auc: 0.880765\n",
            "Early stopping, best iteration is:\n",
            "[30]\tvalid_0's auc: 0.85382\tvalid_1's auc: 0.898061\n"
          ]
        },
        {
          "name": "stderr",
          "output_type": "stream",
          "text": [
            "bagging, val_score: 0.898061:   0%|          | 0/10 [00:00<?, ?it/s]"
          ]
        },
        {
          "name": "stdout",
          "output_type": "stream",
          "text": [
            "[10]\tvalid_0's auc: 0.842821\tvalid_1's auc: 0.887579\n",
            "[20]\tvalid_0's auc: 0.850602\tvalid_1's auc: 0.889937\n",
            "[30]\tvalid_0's auc: 0.851735\tvalid_1's auc: 0.896751\n",
            "[40]\tvalid_0's auc: 0.85579\tvalid_1's auc: 0.88653\n",
            "[50]\tvalid_0's auc: 0.862766\tvalid_1's auc: 0.874214\n",
            "[60]\tvalid_0's auc: 0.862044\tvalid_1's auc: 0.872117\n"
          ]
        },
        {
          "name": "stderr",
          "output_type": "stream",
          "text": [
            "c:\\Users\\daich\\AppData\\Local\\Programs\\Python\\Python38\\lib\\site-packages\\lightgbm\\engine.py:239: UserWarning: 'verbose_eval' argument is deprecated and will be removed in a future release of LightGBM. Pass 'log_evaluation()' callback via 'callbacks' argument instead.\n",
            "  _log_warning(\"'verbose_eval' argument is deprecated and will be removed in a future release of LightGBM. \"\n",
            "bagging, val_score: 0.898061:  10%|#         | 1/10 [00:00<00:02,  4.35it/s][I 2023-07-04 00:24:49,031] Trial 27 finished with value: 0.8980607966457023 and parameters: {'bagging_fraction': 0.9582884161337235, 'bagging_freq': 6}. Best is trial 27 with value: 0.8980607966457023.\n",
            "bagging, val_score: 0.898061:  10%|#         | 1/10 [00:00<00:02,  4.35it/s]"
          ]
        },
        {
          "name": "stdout",
          "output_type": "stream",
          "text": [
            "[70]\tvalid_0's auc: 0.863784\tvalid_1's auc: 0.871069\n",
            "[80]\tvalid_0's auc: 0.866115\tvalid_1's auc: 0.875\n",
            "Early stopping, best iteration is:\n",
            "[30]\tvalid_0's auc: 0.85382\tvalid_1's auc: 0.898061\n",
            "[10]\tvalid_0's auc: 0.832463\tvalid_1's auc: 0.867138\n",
            "[20]\tvalid_0's auc: 0.828983\tvalid_1's auc: 0.874214\n"
          ]
        },
        {
          "name": "stderr",
          "output_type": "stream",
          "text": [
            "c:\\Users\\daich\\AppData\\Local\\Programs\\Python\\Python38\\lib\\site-packages\\lightgbm\\engine.py:239: UserWarning: 'verbose_eval' argument is deprecated and will be removed in a future release of LightGBM. Pass 'log_evaluation()' callback via 'callbacks' argument instead.\n",
            "  _log_warning(\"'verbose_eval' argument is deprecated and will be removed in a future release of LightGBM. \"\n"
          ]
        },
        {
          "name": "stdout",
          "output_type": "stream",
          "text": [
            "[30]\tvalid_0's auc: 0.843872\tvalid_1's auc: 0.861635\n",
            "[40]\tvalid_0's auc: 0.843363\tvalid_1's auc: 0.861897\n",
            "[50]\tvalid_0's auc: 0.846712\tvalid_1's auc: 0.86347\n",
            "[60]\tvalid_0's auc: 0.844709\tvalid_1's auc: 0.869497\n",
            "[70]\tvalid_0's auc: 0.847385\tvalid_1's auc: 0.867138\n",
            "[80]\tvalid_0's auc: 0.84709\tvalid_1's auc: 0.873428\n",
            "Early stopping, best iteration is:\n",
            "[30]\tvalid_0's auc: 0.85382\tvalid_1's auc: 0.898061\n"
          ]
        },
        {
          "name": "stderr",
          "output_type": "stream",
          "text": [
            "bagging, val_score: 0.898061:  20%|##        | 2/10 [00:00<00:02,  3.03it/s][I 2023-07-04 00:24:49,431] Trial 28 finished with value: 0.8980607966457023 and parameters: {'bagging_fraction': 0.42363921972942403, 'bagging_freq': 1}. Best is trial 27 with value: 0.8980607966457023.\n",
            "bagging, val_score: 0.898061:  20%|##        | 2/10 [00:00<00:02,  3.03it/s]"
          ]
        },
        {
          "name": "stdout",
          "output_type": "stream",
          "text": [
            "[10]\tvalid_0's auc: 0.843133\tvalid_1's auc: 0.869759"
          ]
        },
        {
          "name": "stderr",
          "output_type": "stream",
          "text": [
            "c:\\Users\\daich\\AppData\\Local\\Programs\\Python\\Python38\\lib\\site-packages\\lightgbm\\engine.py:239: UserWarning: 'verbose_eval' argument is deprecated and will be removed in a future release of LightGBM. Pass 'log_evaluation()' callback via 'callbacks' argument instead.\n",
            "  _log_warning(\"'verbose_eval' argument is deprecated and will be removed in a future release of LightGBM. \"\n"
          ]
        },
        {
          "name": "stdout",
          "output_type": "stream",
          "text": [
            "\n",
            "[20]\tvalid_0's auc: 0.853016\tvalid_1's auc: 0.890199\n",
            "[30]\tvalid_0's auc: 0.852392\tvalid_1's auc: 0.884958\n",
            "[40]\tvalid_0's auc: 0.851308\tvalid_1's auc: 0.883124\n",
            "[50]\tvalid_0's auc: 0.853377\tvalid_1's auc: 0.872117\n",
            "[60]\tvalid_0's auc: 0.854772\tvalid_1's auc: 0.873952\n",
            "[70]\tvalid_0's auc: 0.856479\tvalid_1's auc: 0.875524\n",
            "[80]\tvalid_0's auc: 0.855379\tvalid_1's auc: 0.873952\n",
            "Early stopping, best iteration is:\n",
            "[30]\tvalid_0's auc: 0.85382\tvalid_1's auc: 0.898061\n"
          ]
        },
        {
          "name": "stderr",
          "output_type": "stream",
          "text": [
            "bagging, val_score: 0.898061:  30%|###       | 3/10 [00:00<00:02,  3.08it/s][I 2023-07-04 00:24:49,751] Trial 29 finished with value: 0.8980607966457023 and parameters: {'bagging_fraction': 0.7022809078842516, 'bagging_freq': 2}. Best is trial 27 with value: 0.8980607966457023.\n",
            "bagging, val_score: 0.898061:  30%|###       | 3/10 [00:00<00:02,  3.08it/s]c:\\Users\\daich\\AppData\\Local\\Programs\\Python\\Python38\\lib\\site-packages\\lightgbm\\engine.py:239: UserWarning: 'verbose_eval' argument is deprecated and will be removed in a future release of LightGBM. Pass 'log_evaluation()' callback via 'callbacks' argument instead.\n",
            "  _log_warning(\"'verbose_eval' argument is deprecated and will be removed in a future release of LightGBM. \"\n",
            "bagging, val_score: 0.899371:  40%|####      | 4/10 [00:01<00:01,  3.79it/s][I 2023-07-04 00:24:49,921] Trial 30 finished with value: 0.89937106918239 and parameters: {'bagging_fraction': 0.9995645627787002, 'bagging_freq': 7}. Best is trial 30 with value: 0.89937106918239.\n",
            "bagging, val_score: 0.899371:  40%|####      | 4/10 [00:01<00:01,  3.79it/s]c:\\Users\\daich\\AppData\\Local\\Programs\\Python\\Python38\\lib\\site-packages\\lightgbm\\engine.py:239: UserWarning: 'verbose_eval' argument is deprecated and will be removed in a future release of LightGBM. Pass 'log_evaluation()' callback via 'callbacks' argument instead.\n",
            "  _log_warning(\"'verbose_eval' argument is deprecated and will be removed in a future release of LightGBM. \"\n"
          ]
        },
        {
          "name": "stdout",
          "output_type": "stream",
          "text": [
            "[10]\tvalid_0's auc: 0.845743\tvalid_1's auc: 0.88653\n",
            "[20]\tvalid_0's auc: 0.846548\tvalid_1's auc: 0.898585\n",
            "[30]\tvalid_0's auc: 0.854148\tvalid_1's auc: 0.897013\n",
            "[40]\tvalid_0's auc: 0.859024\tvalid_1's auc: 0.888889\n",
            "[50]\tvalid_0's auc: 0.860731\tvalid_1's auc: 0.881027\n",
            "[60]\tvalid_0's auc: 0.860993\tvalid_1's auc: 0.879193\n",
            "[70]\tvalid_0's auc: 0.861453\tvalid_1's auc: 0.879193\n",
            "Early stopping, best iteration is:\n",
            "[26]\tvalid_0's auc: 0.845464\tvalid_1's auc: 0.899371\n",
            "[10]\tvalid_0's auc: 0.845711\tvalid_1's auc: 0.887841\n",
            "[20]\tvalid_0's auc: 0.844036\tvalid_1's auc: 0.898061\n",
            "[30]\tvalid_0's auc: 0.852638\tvalid_1's auc: 0.896488\n"
          ]
        },
        {
          "name": "stderr",
          "output_type": "stream",
          "text": [
            "bagging, val_score: 0.899371:  50%|#####     | 5/10 [00:01<00:01,  4.22it/s][I 2023-07-04 00:24:50,110] Trial 31 finished with value: 0.89937106918239 and parameters: {'bagging_fraction': 0.9953960093604614, 'bagging_freq': 7}. Best is trial 30 with value: 0.89937106918239.\n",
            "bagging, val_score: 0.899371:  50%|#####     | 5/10 [00:01<00:01,  4.22it/s]"
          ]
        },
        {
          "name": "stdout",
          "output_type": "stream",
          "text": [
            "[40]\tvalid_0's auc: 0.858515\tvalid_1's auc: 0.889675\n",
            "[50]\tvalid_0's auc: 0.859959\tvalid_1's auc: 0.8826\n",
            "[60]\tvalid_0's auc: 0.860879\tvalid_1's auc: 0.881289\n",
            "[70]\tvalid_0's auc: 0.86124\tvalid_1's auc: 0.881813\n",
            "Early stopping, best iteration is:\n",
            "[26]\tvalid_0's auc: 0.845464\tvalid_1's auc: 0.899371\n",
            "[10]\tvalid_0's auc: 0.842198\tvalid_1's auc: 0.875524\n",
            "[20]\tvalid_0's auc: 0.849864\tvalid_1's auc: 0.882862\n",
            "[30]\tvalid_0's auc: 0.85515\tvalid_1's auc: 0.887317\n",
            "[40]\tvalid_0's auc: 0.857776\tvalid_1's auc: 0.877096\n"
          ]
        },
        {
          "name": "stderr",
          "output_type": "stream",
          "text": [
            "c:\\Users\\daich\\AppData\\Local\\Programs\\Python\\Python38\\lib\\site-packages\\lightgbm\\engine.py:239: UserWarning: 'verbose_eval' argument is deprecated and will be removed in a future release of LightGBM. Pass 'log_evaluation()' callback via 'callbacks' argument instead.\n",
            "  _log_warning(\"'verbose_eval' argument is deprecated and will be removed in a future release of LightGBM. \"\n",
            "bagging, val_score: 0.899371:  60%|######    | 6/10 [00:01<00:00,  4.45it/s][I 2023-07-04 00:24:50,310] Trial 32 finished with value: 0.89937106918239 and parameters: {'bagging_fraction': 0.9757628203340365, 'bagging_freq': 7}. Best is trial 30 with value: 0.89937106918239.\n",
            "bagging, val_score: 0.899371:  60%|######    | 6/10 [00:01<00:00,  4.45it/s]"
          ]
        },
        {
          "name": "stdout",
          "output_type": "stream",
          "text": [
            "[50]\tvalid_0's auc: 0.860879\tvalid_1's auc: 0.876048\n",
            "[60]\tvalid_0's auc: 0.861322\tvalid_1's auc: 0.873952\n",
            "[70]\tvalid_0's auc: 0.862438\tvalid_1's auc: 0.871331\n",
            "Early stopping, best iteration is:\n",
            "[26]\tvalid_0's auc: 0.845464\tvalid_1's auc: 0.899371\n",
            "[10]\tvalid_0's auc: 0.845711\tvalid_1's auc: 0.887841\n",
            "[20]\tvalid_0's auc: 0.844118\tvalid_1's auc: 0.894654\n",
            "[30]\tvalid_0's auc: 0.855363\tvalid_1's auc: 0.892296\n",
            "[40]\tvalid_0's auc: 0.858662\tvalid_1's auc: 0.883124\n",
            "[50]\tvalid_0's auc: 0.860222\tvalid_1's auc: 0.882862\n"
          ]
        },
        {
          "name": "stderr",
          "output_type": "stream",
          "text": [
            "c:\\Users\\daich\\AppData\\Local\\Programs\\Python\\Python38\\lib\\site-packages\\lightgbm\\engine.py:239: UserWarning: 'verbose_eval' argument is deprecated and will be removed in a future release of LightGBM. Pass 'log_evaluation()' callback via 'callbacks' argument instead.\n",
            "  _log_warning(\"'verbose_eval' argument is deprecated and will be removed in a future release of LightGBM. \"\n",
            "bagging, val_score: 0.899371:  70%|#######   | 7/10 [00:01<00:00,  4.68it/s][I 2023-07-04 00:24:50,501] Trial 33 finished with value: 0.89937106918239 and parameters: {'bagging_fraction': 0.9930711637520963, 'bagging_freq': 7}. Best is trial 30 with value: 0.89937106918239.\n",
            "bagging, val_score: 0.899371:  70%|#######   | 7/10 [00:01<00:00,  4.68it/s]"
          ]
        },
        {
          "name": "stdout",
          "output_type": "stream",
          "text": [
            "[60]\tvalid_0's auc: 0.860682\tvalid_1's auc: 0.879717\n",
            "[70]\tvalid_0's auc: 0.860616\tvalid_1's auc: 0.882862\n",
            "Early stopping, best iteration is:\n",
            "[26]\tvalid_0's auc: 0.845464\tvalid_1's auc: 0.899371\n",
            "[10]\tvalid_0's auc: 0.845743\tvalid_1's auc: 0.88653\n",
            "[20]\tvalid_0's auc: 0.846548\tvalid_1's auc: 0.898585\n",
            "[30]\tvalid_0's auc: 0.854148\tvalid_1's auc: 0.897013\n",
            "[40]\tvalid_0's auc: 0.859024\tvalid_1's auc: 0.888889\n",
            "[50]\tvalid_0's auc: 0.860731\tvalid_1's auc: 0.881027\n",
            "[60]\tvalid_0's auc: 0.860993\tvalid_1's auc: 0.879193\n",
            "[70]\tvalid_0's auc: 0.861453\tvalid_1's auc: 0.879193\n",
            "Early stopping, best iteration is:\n",
            "[26]\tvalid_0's auc: 0.845464\tvalid_1's auc: 0.899371\n"
          ]
        },
        {
          "name": "stderr",
          "output_type": "stream",
          "text": [
            "c:\\Users\\daich\\AppData\\Local\\Programs\\Python\\Python38\\lib\\site-packages\\lightgbm\\engine.py:239: UserWarning: 'verbose_eval' argument is deprecated and will be removed in a future release of LightGBM. Pass 'log_evaluation()' callback via 'callbacks' argument instead.\n",
            "  _log_warning(\"'verbose_eval' argument is deprecated and will be removed in a future release of LightGBM. \"\n",
            "bagging, val_score: 0.899371:  80%|########  | 8/10 [00:01<00:00,  4.98it/s][I 2023-07-04 00:24:50,675] Trial 34 finished with value: 0.89937106918239 and parameters: {'bagging_fraction': 0.9990602707629763, 'bagging_freq': 7}. Best is trial 30 with value: 0.89937106918239.\n",
            "bagging, val_score: 0.899371:  80%|########  | 8/10 [00:01<00:00,  4.98it/s]c:\\Users\\daich\\AppData\\Local\\Programs\\Python\\Python38\\lib\\site-packages\\lightgbm\\engine.py:239: UserWarning: 'verbose_eval' argument is deprecated and will be removed in a future release of LightGBM. Pass 'log_evaluation()' callback via 'callbacks' argument instead.\n",
            "  _log_warning(\"'verbose_eval' argument is deprecated and will be removed in a future release of LightGBM. \"\n",
            "bagging, val_score: 0.899371:  90%|######### | 9/10 [00:02<00:00,  5.03it/s][I 2023-07-04 00:24:50,869] Trial 35 finished with value: 0.89937106918239 and parameters: {'bagging_fraction': 0.9920201573664928, 'bagging_freq': 7}. Best is trial 30 with value: 0.89937106918239.\n",
            "bagging, val_score: 0.899371:  90%|######### | 9/10 [00:02<00:00,  5.03it/s]"
          ]
        },
        {
          "name": "stdout",
          "output_type": "stream",
          "text": [
            "[10]\tvalid_0's auc: 0.845711\tvalid_1's auc: 0.887841\n",
            "[20]\tvalid_0's auc: 0.844168\tvalid_1's auc: 0.894654\n",
            "[30]\tvalid_0's auc: 0.855429\tvalid_1's auc: 0.892296\n",
            "[40]\tvalid_0's auc: 0.858498\tvalid_1's auc: 0.883124\n",
            "[50]\tvalid_0's auc: 0.860255\tvalid_1's auc: 0.880765\n",
            "[60]\tvalid_0's auc: 0.860599\tvalid_1's auc: 0.879717\n",
            "[70]\tvalid_0's auc: 0.860583\tvalid_1's auc: 0.882862\n",
            "Early stopping, best iteration is:\n",
            "[26]\tvalid_0's auc: 0.845464\tvalid_1's auc: 0.899371\n",
            "[10]\tvalid_0's auc: 0.845711\tvalid_1's auc: 0.887841\n",
            "[20]\tvalid_0's auc: 0.844168\tvalid_1's auc: 0.894654\n"
          ]
        },
        {
          "name": "stderr",
          "output_type": "stream",
          "text": [
            "c:\\Users\\daich\\AppData\\Local\\Programs\\Python\\Python38\\lib\\site-packages\\lightgbm\\engine.py:239: UserWarning: 'verbose_eval' argument is deprecated and will be removed in a future release of LightGBM. Pass 'log_evaluation()' callback via 'callbacks' argument instead.\n",
            "  _log_warning(\"'verbose_eval' argument is deprecated and will be removed in a future release of LightGBM. \"\n",
            "bagging, val_score: 0.899371: 100%|##########| 10/10 [00:02<00:00,  4.93it/s][I 2023-07-04 00:24:51,081] Trial 36 finished with value: 0.89937106918239 and parameters: {'bagging_fraction': 0.989589932850466, 'bagging_freq': 7}. Best is trial 30 with value: 0.89937106918239.\n",
            "bagging, val_score: 0.899371: 100%|##########| 10/10 [00:02<00:00,  4.38it/s]\n"
          ]
        },
        {
          "name": "stdout",
          "output_type": "stream",
          "text": [
            "[30]\tvalid_0's auc: 0.855429\tvalid_1's auc: 0.892296\n",
            "[40]\tvalid_0's auc: 0.858203\tvalid_1's auc: 0.883124\n",
            "[50]\tvalid_0's auc: 0.859894\tvalid_1's auc: 0.881289\n",
            "[60]\tvalid_0's auc: 0.860928\tvalid_1's auc: 0.879193\n",
            "[70]\tvalid_0's auc: 0.861355\tvalid_1's auc: 0.881289\n",
            "Early stopping, best iteration is:\n",
            "[26]\tvalid_0's auc: 0.845464\tvalid_1's auc: 0.899371\n"
          ]
        },
        {
          "name": "stderr",
          "output_type": "stream",
          "text": [
            "feature_fraction_stage2, val_score: 0.899371:   0%|          | 0/6 [00:00<?, ?it/s]"
          ]
        },
        {
          "name": "stdout",
          "output_type": "stream",
          "text": [
            "[10]\tvalid_0's auc: 0.845743\tvalid_1's auc: 0.88653\n",
            "[20]\tvalid_0's auc: 0.846548\tvalid_1's auc: 0.898585\n",
            "[30]\tvalid_0's auc: 0.854148\tvalid_1's auc: 0.897013\n",
            "[40]\tvalid_0's auc: 0.859024\tvalid_1's auc: 0.888889\n",
            "[50]\tvalid_0's auc: 0.860731\tvalid_1's auc: 0.881027\n"
          ]
        },
        {
          "name": "stderr",
          "output_type": "stream",
          "text": [
            "c:\\Users\\daich\\AppData\\Local\\Programs\\Python\\Python38\\lib\\site-packages\\lightgbm\\engine.py:239: UserWarning: 'verbose_eval' argument is deprecated and will be removed in a future release of LightGBM. Pass 'log_evaluation()' callback via 'callbacks' argument instead.\n",
            "  _log_warning(\"'verbose_eval' argument is deprecated and will be removed in a future release of LightGBM. \"\n",
            "feature_fraction_stage2, val_score: 0.899371:  17%|#6        | 1/6 [00:00<00:00,  5.63it/s][I 2023-07-04 00:24:51,262] Trial 37 finished with value: 0.89937106918239 and parameters: {'feature_fraction': 0.6839999999999999}. Best is trial 37 with value: 0.89937106918239.\n",
            "feature_fraction_stage2, val_score: 0.899371:  17%|#6        | 1/6 [00:00<00:00,  5.63it/s]c:\\Users\\daich\\AppData\\Local\\Programs\\Python\\Python38\\lib\\site-packages\\lightgbm\\engine.py:239: UserWarning: 'verbose_eval' argument is deprecated and will be removed in a future release of LightGBM. Pass 'log_evaluation()' callback via 'callbacks' argument instead.\n",
            "  _log_warning(\"'verbose_eval' argument is deprecated and will be removed in a future release of LightGBM. \"\n"
          ]
        },
        {
          "name": "stdout",
          "output_type": "stream",
          "text": [
            "[60]\tvalid_0's auc: 0.860993\tvalid_1's auc: 0.879193\n",
            "[70]\tvalid_0's auc: 0.861453\tvalid_1's auc: 0.879193\n",
            "Early stopping, best iteration is:\n",
            "[26]\tvalid_0's auc: 0.845464\tvalid_1's auc: 0.899371\n",
            "[10]\tvalid_0's auc: 0.845743\tvalid_1's auc: 0.88653\n",
            "[20]\tvalid_0's auc: 0.846548\tvalid_1's auc: 0.898585\n",
            "[30]\tvalid_0's auc: 0.854148\tvalid_1's auc: 0.897013\n",
            "[40]\tvalid_0's auc: 0.859024\tvalid_1's auc: 0.888889\n",
            "[50]\tvalid_0's auc: 0.860731\tvalid_1's auc: 0.881027\n",
            "[60]\tvalid_0's auc: 0.860993\tvalid_1's auc: 0.879193\n",
            "[70]\tvalid_0's auc: 0.861453\tvalid_1's auc: 0.879193\n",
            "Early stopping, best iteration is:\n",
            "[26]\tvalid_0's auc: 0.845464\tvalid_1's auc: 0.899371\n"
          ]
        },
        {
          "name": "stderr",
          "output_type": "stream",
          "text": [
            "feature_fraction_stage2, val_score: 0.899371:  33%|###3      | 2/6 [00:00<00:00,  5.96it/s][I 2023-07-04 00:24:51,423] Trial 38 finished with value: 0.89937106918239 and parameters: {'feature_fraction': 0.7799999999999999}. Best is trial 37 with value: 0.89937106918239.\n",
            "feature_fraction_stage2, val_score: 0.899371:  33%|###3      | 2/6 [00:00<00:00,  5.96it/s]c:\\Users\\daich\\AppData\\Local\\Programs\\Python\\Python38\\lib\\site-packages\\lightgbm\\engine.py:239: UserWarning: 'verbose_eval' argument is deprecated and will be removed in a future release of LightGBM. Pass 'log_evaluation()' callback via 'callbacks' argument instead.\n",
            "  _log_warning(\"'verbose_eval' argument is deprecated and will be removed in a future release of LightGBM. \"\n"
          ]
        },
        {
          "name": "stdout",
          "output_type": "stream",
          "text": [
            "[10]\tvalid_0's auc: 0.845743\tvalid_1's auc: 0.88653\n",
            "[20]\tvalid_0's auc: 0.846548\tvalid_1's auc: 0.898585\n",
            "[30]\tvalid_0's auc: 0.854148\tvalid_1's auc: 0.897013\n",
            "[40]\tvalid_0's auc: 0.859024\tvalid_1's auc: 0.888889\n",
            "[50]\tvalid_0's auc: 0.860731\tvalid_1's auc: 0.881027\n",
            "[60]\tvalid_0's auc: 0.860993\tvalid_1's auc: 0.879193\n",
            "[70]\tvalid_0's auc: 0.861453\tvalid_1's auc: 0.879193\n",
            "Early stopping, best iteration is:\n",
            "[26]\tvalid_0's auc: 0.845464\tvalid_1's auc: 0.899371\n"
          ]
        },
        {
          "name": "stderr",
          "output_type": "stream",
          "text": [
            "feature_fraction_stage2, val_score: 0.899371:  50%|#####     | 3/6 [00:00<00:00,  6.11it/s][I 2023-07-04 00:24:51,582] Trial 39 finished with value: 0.89937106918239 and parameters: {'feature_fraction': 0.716}. Best is trial 37 with value: 0.89937106918239.\n",
            "feature_fraction_stage2, val_score: 0.899371:  50%|#####     | 3/6 [00:00<00:00,  6.11it/s]c:\\Users\\daich\\AppData\\Local\\Programs\\Python\\Python38\\lib\\site-packages\\lightgbm\\engine.py:239: UserWarning: 'verbose_eval' argument is deprecated and will be removed in a future release of LightGBM. Pass 'log_evaluation()' callback via 'callbacks' argument instead.\n",
            "  _log_warning(\"'verbose_eval' argument is deprecated and will be removed in a future release of LightGBM. \"\n"
          ]
        },
        {
          "name": "stdout",
          "output_type": "stream",
          "text": [
            "[10]\tvalid_0's auc: 0.846269\tvalid_1's auc: 0.878145\n",
            "[20]\tvalid_0's auc: 0.849043\tvalid_1's auc: 0.889937\n",
            "[30]\tvalid_0's auc: 0.85602\tvalid_1's auc: 0.887055\n",
            "[40]\tvalid_0's auc: 0.858121\tvalid_1's auc: 0.881813\n",
            "[50]\tvalid_0's auc: 0.861404\tvalid_1's auc: 0.877096\n",
            "[60]\tvalid_0's auc: 0.861387\tvalid_1's auc: 0.875\n",
            "[70]\tvalid_0's auc: 0.862208\tvalid_1's auc: 0.874214\n",
            "Early stopping, best iteration is:\n",
            "[26]\tvalid_0's auc: 0.845464\tvalid_1's auc: 0.899371\n"
          ]
        },
        {
          "name": "stderr",
          "output_type": "stream",
          "text": [
            "feature_fraction_stage2, val_score: 0.899371:  67%|######6   | 4/6 [00:00<00:00,  6.18it/s][I 2023-07-04 00:24:51,741] Trial 40 finished with value: 0.89937106918239 and parameters: {'feature_fraction': 0.62}. Best is trial 37 with value: 0.89937106918239.\n",
            "feature_fraction_stage2, val_score: 0.899371:  67%|######6   | 4/6 [00:00<00:00,  6.18it/s]c:\\Users\\daich\\AppData\\Local\\Programs\\Python\\Python38\\lib\\site-packages\\lightgbm\\engine.py:239: UserWarning: 'verbose_eval' argument is deprecated and will be removed in a future release of LightGBM. Pass 'log_evaluation()' callback via 'callbacks' argument instead.\n",
            "  _log_warning(\"'verbose_eval' argument is deprecated and will be removed in a future release of LightGBM. \"\n"
          ]
        },
        {
          "name": "stdout",
          "output_type": "stream",
          "text": [
            "[10]\tvalid_0's auc: 0.845743\tvalid_1's auc: 0.88653\n",
            "[20]\tvalid_0's auc: 0.846548\tvalid_1's auc: 0.898585\n",
            "[30]\tvalid_0's auc: 0.854148\tvalid_1's auc: 0.897013\n",
            "[40]\tvalid_0's auc: 0.859024\tvalid_1's auc: 0.888889\n",
            "[50]\tvalid_0's auc: 0.860731\tvalid_1's auc: 0.881027\n",
            "[60]\tvalid_0's auc: 0.860993\tvalid_1's auc: 0.879193\n"
          ]
        },
        {
          "name": "stderr",
          "output_type": "stream",
          "text": [
            "feature_fraction_stage2, val_score: 0.899371:  83%|########3 | 5/6 [00:00<00:00,  6.21it/s][I 2023-07-04 00:24:51,901] Trial 41 finished with value: 0.89937106918239 and parameters: {'feature_fraction': 0.652}. Best is trial 37 with value: 0.89937106918239.\n",
            "feature_fraction_stage2, val_score: 0.899371:  83%|########3 | 5/6 [00:00<00:00,  6.21it/s]c:\\Users\\daich\\AppData\\Local\\Programs\\Python\\Python38\\lib\\site-packages\\lightgbm\\engine.py:239: UserWarning: 'verbose_eval' argument is deprecated and will be removed in a future release of LightGBM. Pass 'log_evaluation()' callback via 'callbacks' argument instead.\n",
            "  _log_warning(\"'verbose_eval' argument is deprecated and will be removed in a future release of LightGBM. \"\n"
          ]
        },
        {
          "name": "stdout",
          "output_type": "stream",
          "text": [
            "[70]\tvalid_0's auc: 0.861453\tvalid_1's auc: 0.879193\n",
            "Early stopping, best iteration is:\n",
            "[26]\tvalid_0's auc: 0.845464\tvalid_1's auc: 0.899371\n",
            "[10]\tvalid_0's auc: 0.845743\tvalid_1's auc: 0.88653\n",
            "[20]\tvalid_0's auc: 0.846548\tvalid_1's auc: 0.898585\n",
            "[30]\tvalid_0's auc: 0.854148\tvalid_1's auc: 0.897013\n",
            "[40]\tvalid_0's auc: 0.859024\tvalid_1's auc: 0.888889\n",
            "[50]\tvalid_0's auc: 0.860731\tvalid_1's auc: 0.881027\n",
            "[60]\tvalid_0's auc: 0.860993\tvalid_1's auc: 0.879193\n",
            "[70]\tvalid_0's auc: 0.861453\tvalid_1's auc: 0.879193\n",
            "Early stopping, best iteration is:\n",
            "[26]\tvalid_0's auc: 0.845464\tvalid_1's auc: 0.899371\n"
          ]
        },
        {
          "name": "stderr",
          "output_type": "stream",
          "text": [
            "feature_fraction_stage2, val_score: 0.899371: 100%|##########| 6/6 [00:00<00:00,  6.13it/s][I 2023-07-04 00:24:52,069] Trial 42 finished with value: 0.89937106918239 and parameters: {'feature_fraction': 0.748}. Best is trial 37 with value: 0.89937106918239.\n",
            "feature_fraction_stage2, val_score: 0.899371: 100%|##########| 6/6 [00:00<00:00,  6.09it/s]\n",
            "regularization_factors, val_score: 0.899371:   0%|          | 0/20 [00:00<?, ?it/s]c:\\Users\\daich\\AppData\\Local\\Programs\\Python\\Python38\\lib\\site-packages\\lightgbm\\engine.py:239: UserWarning: 'verbose_eval' argument is deprecated and will be removed in a future release of LightGBM. Pass 'log_evaluation()' callback via 'callbacks' argument instead.\n",
            "  _log_warning(\"'verbose_eval' argument is deprecated and will be removed in a future release of LightGBM. \"\n"
          ]
        },
        {
          "name": "stdout",
          "output_type": "stream",
          "text": [
            "[10]\tvalid_0's auc: 0.895253\tvalid_1's auc: 0.859539\n",
            "[20]\tvalid_0's auc: 0.905299\tvalid_1's auc: 0.872904\n",
            "[30]\tvalid_0's auc: 0.912505\tvalid_1's auc: 0.876048\n",
            "[40]\tvalid_0's auc: 0.919186\tvalid_1's auc: 0.875524\n",
            "[50]\tvalid_0's auc: 0.92526\tvalid_1's auc: 0.872642\n",
            "[60]\tvalid_0's auc: 0.929955\tvalid_1's auc: 0.876834\n"
          ]
        },
        {
          "name": "stderr",
          "output_type": "stream",
          "text": [
            "regularization_factors, val_score: 0.899371:   5%|5         | 1/20 [00:00<00:04,  4.08it/s][I 2023-07-04 00:24:52,317] Trial 43 finished with value: 0.89937106918239 and parameters: {'lambda_l1': 0.4515909858387807, 'lambda_l2': 5.793371336345187e-08}. Best is trial 43 with value: 0.89937106918239.\n",
            "regularization_factors, val_score: 0.899371:   5%|5         | 1/20 [00:00<00:04,  4.08it/s]"
          ]
        },
        {
          "name": "stdout",
          "output_type": "stream",
          "text": [
            "[70]\tvalid_0's auc: 0.934847\tvalid_1's auc: 0.877358\n",
            "Early stopping, best iteration is:\n",
            "[26]\tvalid_0's auc: 0.845464\tvalid_1's auc: 0.899371\n",
            "[10]\tvalid_0's auc: 0.886831\tvalid_1's auc: 0.869497\n",
            "[20]\tvalid_0's auc: 0.900735\tvalid_1's auc: 0.878145\n",
            "[30]\tvalid_0's auc: 0.909485\tvalid_1's auc: 0.877621\n",
            "[40]\tvalid_0's auc: 0.917118\tvalid_1's auc: 0.873428\n"
          ]
        },
        {
          "name": "stderr",
          "output_type": "stream",
          "text": [
            "c:\\Users\\daich\\AppData\\Local\\Programs\\Python\\Python38\\lib\\site-packages\\lightgbm\\engine.py:239: UserWarning: 'verbose_eval' argument is deprecated and will be removed in a future release of LightGBM. Pass 'log_evaluation()' callback via 'callbacks' argument instead.\n",
            "  _log_warning(\"'verbose_eval' argument is deprecated and will be removed in a future release of LightGBM. \"\n",
            "regularization_factors, val_score: 0.899371:  10%|#         | 2/20 [00:00<00:04,  4.01it/s][I 2023-07-04 00:24:52,569] Trial 44 finished with value: 0.89937106918239 and parameters: {'lambda_l1': 1.029056896983432e-08, 'lambda_l2': 5.479528228672011}. Best is trial 43 with value: 0.89937106918239.\n",
            "regularization_factors, val_score: 0.899371:  10%|#         | 2/20 [00:00<00:04,  4.01it/s]"
          ]
        },
        {
          "name": "stdout",
          "output_type": "stream",
          "text": [
            "[50]\tvalid_0's auc: 0.923011\tvalid_1's auc: 0.867925\n",
            "[60]\tvalid_0's auc: 0.927394\tvalid_1's auc: 0.869497\n",
            "[70]\tvalid_0's auc: 0.93355\tvalid_1's auc: 0.870021\n",
            "Early stopping, best iteration is:\n",
            "[26]\tvalid_0's auc: 0.845464\tvalid_1's auc: 0.899371\n",
            "[10]\tvalid_0's auc: 0.853672\tvalid_1's auc: 0.896226"
          ]
        },
        {
          "name": "stderr",
          "output_type": "stream",
          "text": [
            "c:\\Users\\daich\\AppData\\Local\\Programs\\Python\\Python38\\lib\\site-packages\\lightgbm\\engine.py:239: UserWarning: 'verbose_eval' argument is deprecated and will be removed in a future release of LightGBM. Pass 'log_evaluation()' callback via 'callbacks' argument instead.\n",
            "  _log_warning(\"'verbose_eval' argument is deprecated and will be removed in a future release of LightGBM. \"\n",
            "regularization_factors, val_score: 0.900419:  15%|#5        | 3/20 [00:00<00:03,  4.64it/s][I 2023-07-04 00:24:52,745] Trial 45 finished with value: 0.90041928721174 and parameters: {'lambda_l1': 3.8793238426775605, 'lambda_l2': 1.6551883587096172e-08}. Best is trial 45 with value: 0.90041928721174.\n",
            "regularization_factors, val_score: 0.900419:  15%|#5        | 3/20 [00:00<00:03,  4.64it/s]c:\\Users\\daich\\AppData\\Local\\Programs\\Python\\Python38\\lib\\site-packages\\lightgbm\\engine.py:239: UserWarning: 'verbose_eval' argument is deprecated and will be removed in a future release of LightGBM. Pass 'log_evaluation()' callback via 'callbacks' argument instead.\n",
            "  _log_warning(\"'verbose_eval' argument is deprecated and will be removed in a future release of LightGBM. \"\n"
          ]
        },
        {
          "name": "stdout",
          "output_type": "stream",
          "text": [
            "\n",
            "[20]\tvalid_0's auc: 0.874044\tvalid_1's auc: 0.889413\n",
            "[30]\tvalid_0's auc: 0.87626\tvalid_1's auc: 0.894654\n",
            "[40]\tvalid_0's auc: 0.879149\tvalid_1's auc: 0.879193\n",
            "[50]\tvalid_0's auc: 0.883401\tvalid_1's auc: 0.878669\n",
            "[60]\tvalid_0's auc: 0.886093\tvalid_1's auc: 0.877096\n",
            "Early stopping, best iteration is:\n",
            "[14]\tvalid_0's auc: 0.850914\tvalid_1's auc: 0.900419\n",
            "[10]\tvalid_0's auc: 0.845743\tvalid_1's auc: 0.88653\n",
            "[20]\tvalid_0's auc: 0.843347\tvalid_1's auc: 0.89413\n",
            "[30]\tvalid_0's auc: 0.844085\tvalid_1's auc: 0.896488\n",
            "[40]\tvalid_0's auc: 0.853065\tvalid_1's auc: 0.887317\n",
            "[50]\tvalid_0's auc: 0.855363\tvalid_1's auc: 0.883124\n",
            "[60]\tvalid_0's auc: 0.85602\tvalid_1's auc: 0.878931\n"
          ]
        },
        {
          "name": "stderr",
          "output_type": "stream",
          "text": [
            "regularization_factors, val_score: 0.900419:  20%|##        | 4/20 [00:00<00:03,  5.06it/s][I 2023-07-04 00:24:52,915] Trial 46 finished with value: 0.90041928721174 and parameters: {'lambda_l1': 9.382021994533373, 'lambda_l2': 2.2052036402260274e-08}. Best is trial 45 with value: 0.90041928721174.\n",
            "regularization_factors, val_score: 0.900419:  20%|##        | 4/20 [00:00<00:03,  5.06it/s]c:\\Users\\daich\\AppData\\Local\\Programs\\Python\\Python38\\lib\\site-packages\\lightgbm\\engine.py:239: UserWarning: 'verbose_eval' argument is deprecated and will be removed in a future release of LightGBM. Pass 'log_evaluation()' callback via 'callbacks' argument instead.\n",
            "  _log_warning(\"'verbose_eval' argument is deprecated and will be removed in a future release of LightGBM. \"\n",
            "regularization_factors, val_score: 0.900419:  20%|##        | 4/20 [00:01<00:03,  5.06it/s]"
          ]
        },
        {
          "name": "stdout",
          "output_type": "stream",
          "text": [
            "Early stopping, best iteration is:\n",
            "[14]\tvalid_0's auc: 0.850914\tvalid_1's auc: 0.900419\n",
            "[10]\tvalid_0's auc: 0.845743\tvalid_1's auc: 0.88653\n",
            "[20]\tvalid_0's auc: 0.843675\tvalid_1's auc: 0.893606\n",
            "[30]\tvalid_0's auc: 0.843774\tvalid_1's auc: 0.895178\n",
            "[40]\tvalid_0's auc: 0.852786\tvalid_1's auc: 0.887317\n",
            "[50]\tvalid_0's auc: 0.854985\tvalid_1's auc: 0.878931\n",
            "[60]\tvalid_0's auc: 0.855708\tvalid_1's auc: 0.878931\n",
            "Early stopping, best iteration is:\n",
            "[14]\tvalid_0's auc: 0.850914\tvalid_1's auc: 0.900419\n"
          ]
        },
        {
          "name": "stderr",
          "output_type": "stream",
          "text": [
            "regularization_factors, val_score: 0.900419:  25%|##5       | 5/20 [00:01<00:02,  5.35it/s][I 2023-07-04 00:24:53,082] Trial 47 finished with value: 0.90041928721174 and parameters: {'lambda_l1': 9.69009878569242, 'lambda_l2': 1.4610639918762546e-08}. Best is trial 45 with value: 0.90041928721174.\n",
            "regularization_factors, val_score: 0.900419:  25%|##5       | 5/20 [00:01<00:02,  5.35it/s]c:\\Users\\daich\\AppData\\Local\\Programs\\Python\\Python38\\lib\\site-packages\\lightgbm\\engine.py:239: UserWarning: 'verbose_eval' argument is deprecated and will be removed in a future release of LightGBM. Pass 'log_evaluation()' callback via 'callbacks' argument instead.\n",
            "  _log_warning(\"'verbose_eval' argument is deprecated and will be removed in a future release of LightGBM. \"\n",
            "regularization_factors, val_score: 0.900419:  30%|###       | 6/20 [00:01<00:02,  5.57it/s][I 2023-07-04 00:24:53,248] Trial 48 finished with value: 0.90041928721174 and parameters: {'lambda_l1': 9.832388015485071, 'lambda_l2': 2.088738778399865e-08}. Best is trial 45 with value: 0.90041928721174.\n",
            "regularization_factors, val_score: 0.900419:  30%|###       | 6/20 [00:01<00:02,  5.57it/s]c:\\Users\\daich\\AppData\\Local\\Programs\\Python\\Python38\\lib\\site-packages\\lightgbm\\engine.py:239: UserWarning: 'verbose_eval' argument is deprecated and will be removed in a future release of LightGBM. Pass 'log_evaluation()' callback via 'callbacks' argument instead.\n",
            "  _log_warning(\"'verbose_eval' argument is deprecated and will be removed in a future release of LightGBM. \"\n"
          ]
        },
        {
          "name": "stdout",
          "output_type": "stream",
          "text": [
            "[10]\tvalid_0's auc: 0.845743\tvalid_1's auc: 0.88653\n",
            "[20]\tvalid_0's auc: 0.843823\tvalid_1's auc: 0.892296\n",
            "[30]\tvalid_0's auc: 0.843577\tvalid_1's auc: 0.894392\n",
            "[40]\tvalid_0's auc: 0.852966\tvalid_1's auc: 0.887317\n",
            "[50]\tvalid_0's auc: 0.854969\tvalid_1's auc: 0.8826\n",
            "[60]\tvalid_0's auc: 0.855067\tvalid_1's auc: 0.883124\n",
            "Early stopping, best iteration is:\n",
            "[14]\tvalid_0's auc: 0.850914\tvalid_1's auc: 0.900419\n",
            "[10]\tvalid_0's auc: 0.845743\tvalid_1's auc: 0.88653\n",
            "[20]\tvalid_0's auc: 0.843675\tvalid_1's auc: 0.893606\n"
          ]
        },
        {
          "name": "stderr",
          "output_type": "stream",
          "text": [
            "regularization_factors, val_score: 0.900419:  35%|###5      | 7/20 [00:01<00:02,  5.55it/s][I 2023-07-04 00:24:53,428] Trial 49 finished with value: 0.90041928721174 and parameters: {'lambda_l1': 9.504224524934987, 'lambda_l2': 1.0991387299559702e-08}. Best is trial 45 with value: 0.90041928721174.\n",
            "regularization_factors, val_score: 0.900419:  35%|###5      | 7/20 [00:01<00:02,  5.55it/s]c:\\Users\\daich\\AppData\\Local\\Programs\\Python\\Python38\\lib\\site-packages\\lightgbm\\engine.py:239: UserWarning: 'verbose_eval' argument is deprecated and will be removed in a future release of LightGBM. Pass 'log_evaluation()' callback via 'callbacks' argument instead.\n",
            "  _log_warning(\"'verbose_eval' argument is deprecated and will be removed in a future release of LightGBM. \"\n"
          ]
        },
        {
          "name": "stdout",
          "output_type": "stream",
          "text": [
            "[30]\tvalid_0's auc: 0.843774\tvalid_1's auc: 0.895178\n",
            "[40]\tvalid_0's auc: 0.852786\tvalid_1's auc: 0.887317\n",
            "[50]\tvalid_0's auc: 0.855248\tvalid_1's auc: 0.878931\n",
            "[60]\tvalid_0's auc: 0.855544\tvalid_1's auc: 0.878931\n",
            "Early stopping, best iteration is:\n",
            "[14]\tvalid_0's auc: 0.850914\tvalid_1's auc: 0.900419\n",
            "[10]\tvalid_0's auc: 0.847516\tvalid_1's auc: 0.88653\n",
            "[20]\tvalid_0's auc: 0.858072\tvalid_1's auc: 0.893344\n",
            "[30]\tvalid_0's auc: 0.863062\tvalid_1's auc: 0.888365\n",
            "[40]\tvalid_0's auc: 0.866345\tvalid_1's auc: 0.883648\n",
            "[50]\tvalid_0's auc: 0.871368\tvalid_1's auc: 0.875786\n",
            "[60]\tvalid_0's auc: 0.872337\tvalid_1's auc: 0.875786\n"
          ]
        },
        {
          "name": "stderr",
          "output_type": "stream",
          "text": [
            "regularization_factors, val_score: 0.900419:  40%|####      | 8/20 [00:01<00:02,  5.59it/s][I 2023-07-04 00:24:53,606] Trial 50 finished with value: 0.90041928721174 and parameters: {'lambda_l1': 6.048615639394989, 'lambda_l2': 1.0383846936023585e-08}. Best is trial 45 with value: 0.90041928721174.\n",
            "regularization_factors, val_score: 0.900419:  40%|####      | 8/20 [00:01<00:02,  5.59it/s]c:\\Users\\daich\\AppData\\Local\\Programs\\Python\\Python38\\lib\\site-packages\\lightgbm\\engine.py:239: UserWarning: 'verbose_eval' argument is deprecated and will be removed in a future release of LightGBM. Pass 'log_evaluation()' callback via 'callbacks' argument instead.\n",
            "  _log_warning(\"'verbose_eval' argument is deprecated and will be removed in a future release of LightGBM. \"\n"
          ]
        },
        {
          "name": "stdout",
          "output_type": "stream",
          "text": [
            "Early stopping, best iteration is:\n",
            "[14]\tvalid_0's auc: 0.850914\tvalid_1's auc: 0.900419\n",
            "[10]\tvalid_0's auc: 0.845743\tvalid_1's auc: 0.88653\n",
            "[20]\tvalid_0's auc: 0.843675\tvalid_1's auc: 0.893606\n",
            "[30]\tvalid_0's auc: 0.843774\tvalid_1's auc: 0.895178\n",
            "[40]\tvalid_0's auc: 0.852786\tvalid_1's auc: 0.887317\n",
            "[50]\tvalid_0's auc: 0.854985\tvalid_1's auc: 0.878931\n",
            "[60]\tvalid_0's auc: 0.855708\tvalid_1's auc: 0.878931\n",
            "Early stopping, best iteration is:\n",
            "[14]\tvalid_0's auc: 0.850914\tvalid_1's auc: 0.900419\n"
          ]
        },
        {
          "name": "stderr",
          "output_type": "stream",
          "text": [
            "regularization_factors, val_score: 0.900419:  45%|####5     | 9/20 [00:01<00:01,  5.61it/s][I 2023-07-04 00:24:53,783] Trial 51 finished with value: 0.90041928721174 and parameters: {'lambda_l1': 9.684136166936225, 'lambda_l2': 1.0267253954048395e-08}. Best is trial 45 with value: 0.90041928721174.\n",
            "regularization_factors, val_score: 0.900419:  45%|####5     | 9/20 [00:01<00:01,  5.61it/s]c:\\Users\\daich\\AppData\\Local\\Programs\\Python\\Python38\\lib\\site-packages\\lightgbm\\engine.py:239: UserWarning: 'verbose_eval' argument is deprecated and will be removed in a future release of LightGBM. Pass 'log_evaluation()' callback via 'callbacks' argument instead.\n",
            "  _log_warning(\"'verbose_eval' argument is deprecated and will be removed in a future release of LightGBM. \"\n",
            "regularization_factors, val_score: 0.900419:  50%|#####     | 10/20 [00:01<00:01,  5.74it/s][I 2023-07-04 00:24:53,948] Trial 52 finished with value: 0.90041928721174 and parameters: {'lambda_l1': 6.931279089644639, 'lambda_l2': 1.1461445858077046e-08}. Best is trial 45 with value: 0.90041928721174.\n",
            "regularization_factors, val_score: 0.900419:  50%|#####     | 10/20 [00:01<00:01,  5.74it/s]c:\\Users\\daich\\AppData\\Local\\Programs\\Python\\Python38\\lib\\site-packages\\lightgbm\\engine.py:239: UserWarning: 'verbose_eval' argument is deprecated and will be removed in a future release of LightGBM. Pass 'log_evaluation()' callback via 'callbacks' argument instead.\n",
            "  _log_warning(\"'verbose_eval' argument is deprecated and will be removed in a future release of LightGBM. \"\n"
          ]
        },
        {
          "name": "stdout",
          "output_type": "stream",
          "text": [
            "[10]\tvalid_0's auc: 0.845776\tvalid_1's auc: 0.88653\n",
            "[20]\tvalid_0's auc: 0.857645\tvalid_1's auc: 0.893344\n",
            "[30]\tvalid_0's auc: 0.862011\tvalid_1's auc: 0.890461\n",
            "[40]\tvalid_0's auc: 0.861584\tvalid_1's auc: 0.883124\n",
            "[50]\tvalid_0's auc: 0.864162\tvalid_1's auc: 0.881551\n",
            "[60]\tvalid_0's auc: 0.865032\tvalid_1's auc: 0.879455\n",
            "Early stopping, best iteration is:\n",
            "[14]\tvalid_0's auc: 0.850914\tvalid_1's auc: 0.900419\n",
            "[10]\tvalid_0's auc: 0.845743\tvalid_1's auc: 0.88653\n",
            "[20]\tvalid_0's auc: 0.846548\tvalid_1's auc: 0.898585\n",
            "[30]\tvalid_0's auc: 0.854148\tvalid_1's auc: 0.897013\n",
            "[40]\tvalid_0's auc: 0.859024\tvalid_1's auc: 0.888889\n",
            "[50]\tvalid_0's auc: 0.860731\tvalid_1's auc: 0.881027\n"
          ]
        },
        {
          "name": "stderr",
          "output_type": "stream",
          "text": [
            "regularization_factors, val_score: 0.900419:  55%|#####5    | 11/20 [00:02<00:01,  5.78it/s][I 2023-07-04 00:24:54,118] Trial 53 finished with value: 0.90041928721174 and parameters: {'lambda_l1': 7.4401198624922245, 'lambda_l2': 1.3460548297040876e-08}. Best is trial 45 with value: 0.90041928721174.\n",
            "regularization_factors, val_score: 0.900419:  55%|#####5    | 11/20 [00:02<00:01,  5.78it/s]c:\\Users\\daich\\AppData\\Local\\Programs\\Python\\Python38\\lib\\site-packages\\lightgbm\\engine.py:239: UserWarning: 'verbose_eval' argument is deprecated and will be removed in a future release of LightGBM. Pass 'log_evaluation()' callback via 'callbacks' argument instead.\n",
            "  _log_warning(\"'verbose_eval' argument is deprecated and will be removed in a future release of LightGBM. \"\n",
            "regularization_factors, val_score: 0.900419:  55%|#####5    | 11/20 [00:02<00:01,  5.78it/s]"
          ]
        },
        {
          "name": "stdout",
          "output_type": "stream",
          "text": [
            "[60]\tvalid_0's auc: 0.860911\tvalid_1's auc: 0.879193\n",
            "Early stopping, best iteration is:\n",
            "[14]\tvalid_0's auc: 0.850914\tvalid_1's auc: 0.900419\n",
            "[10]\tvalid_0's auc: 0.845743\tvalid_1's auc: 0.88653\n",
            "[20]\tvalid_0's auc: 0.841672\tvalid_1's auc: 0.892558\n",
            "[30]\tvalid_0's auc: 0.849519\tvalid_1's auc: 0.893606\n",
            "[40]\tvalid_0's auc: 0.855527\tvalid_1's auc: 0.883124\n",
            "[50]\tvalid_0's auc: 0.855527\tvalid_1's auc: 0.878407\n",
            "[60]\tvalid_0's auc: 0.855921\tvalid_1's auc: 0.878407\n",
            "Early stopping, best iteration is:\n",
            "[14]\tvalid_0's auc: 0.850914\tvalid_1's auc: 0.900419\n"
          ]
        },
        {
          "name": "stderr",
          "output_type": "stream",
          "text": [
            "regularization_factors, val_score: 0.900419:  60%|######    | 12/20 [00:02<00:01,  5.84it/s][I 2023-07-04 00:24:54,286] Trial 54 finished with value: 0.90041928721174 and parameters: {'lambda_l1': 8.961168205564151, 'lambda_l2': 1.5158327800966227e-08}. Best is trial 45 with value: 0.90041928721174.\n",
            "regularization_factors, val_score: 0.900419:  60%|######    | 12/20 [00:02<00:01,  5.84it/s]c:\\Users\\daich\\AppData\\Local\\Programs\\Python\\Python38\\lib\\site-packages\\lightgbm\\engine.py:239: UserWarning: 'verbose_eval' argument is deprecated and will be removed in a future release of LightGBM. Pass 'log_evaluation()' callback via 'callbacks' argument instead.\n",
            "  _log_warning(\"'verbose_eval' argument is deprecated and will be removed in a future release of LightGBM. \"\n",
            "regularization_factors, val_score: 0.900419:  65%|######5   | 13/20 [00:02<00:01,  5.74it/s][I 2023-07-04 00:24:54,466] Trial 55 finished with value: 0.90041928721174 and parameters: {'lambda_l1': 8.749263563266624, 'lambda_l2': 2.3276109656898986e-08}. Best is trial 45 with value: 0.90041928721174.\n",
            "regularization_factors, val_score: 0.900419:  65%|######5   | 13/20 [00:02<00:01,  5.74it/s]c:\\Users\\daich\\AppData\\Local\\Programs\\Python\\Python38\\lib\\site-packages\\lightgbm\\engine.py:239: UserWarning: 'verbose_eval' argument is deprecated and will be removed in a future release of LightGBM. Pass 'log_evaluation()' callback via 'callbacks' argument instead.\n",
            "  _log_warning(\"'verbose_eval' argument is deprecated and will be removed in a future release of LightGBM. \"\n"
          ]
        },
        {
          "name": "stdout",
          "output_type": "stream",
          "text": [
            "[10]\tvalid_0's auc: 0.845743\tvalid_1's auc: 0.88653\n",
            "[20]\tvalid_0's auc: 0.841672\tvalid_1's auc: 0.892558\n",
            "[30]\tvalid_0's auc: 0.849519\tvalid_1's auc: 0.893606\n",
            "[40]\tvalid_0's auc: 0.855527\tvalid_1's auc: 0.883124\n",
            "[50]\tvalid_0's auc: 0.85556\tvalid_1's auc: 0.878407\n",
            "[60]\tvalid_0's auc: 0.856151\tvalid_1's auc: 0.878407\n",
            "Early stopping, best iteration is:\n",
            "[14]\tvalid_0's auc: 0.850914\tvalid_1's auc: 0.900419\n",
            "[10]\tvalid_0's auc: 0.89522\tvalid_1's auc: 0.859539\n",
            "[20]\tvalid_0's auc: 0.904872\tvalid_1's auc: 0.873428\n"
          ]
        },
        {
          "name": "stderr",
          "output_type": "stream",
          "text": [
            "regularization_factors, val_score: 0.900419:  70%|#######   | 14/20 [00:02<00:01,  5.17it/s][I 2023-07-04 00:24:54,704] Trial 56 finished with value: 0.90041928721174 and parameters: {'lambda_l1': 0.46861635445560584, 'lambda_l2': 5.149593509055694e-07}. Best is trial 45 with value: 0.90041928721174.\n",
            "regularization_factors, val_score: 0.900419:  70%|#######   | 14/20 [00:02<00:01,  5.17it/s]"
          ]
        },
        {
          "name": "stdout",
          "output_type": "stream",
          "text": [
            "[30]\tvalid_0's auc: 0.912161\tvalid_1's auc: 0.876572\n",
            "[40]\tvalid_0's auc: 0.918087\tvalid_1's auc: 0.876572\n",
            "[50]\tvalid_0's auc: 0.924045\tvalid_1's auc: 0.871593\n",
            "[60]\tvalid_0's auc: 0.928855\tvalid_1's auc: 0.871593\n",
            "Early stopping, best iteration is:\n",
            "[14]\tvalid_0's auc: 0.850914\tvalid_1's auc: 0.900419\n"
          ]
        },
        {
          "name": "stderr",
          "output_type": "stream",
          "text": [
            "c:\\Users\\daich\\AppData\\Local\\Programs\\Python\\Python38\\lib\\site-packages\\lightgbm\\engine.py:239: UserWarning: 'verbose_eval' argument is deprecated and will be removed in a future release of LightGBM. Pass 'log_evaluation()' callback via 'callbacks' argument instead.\n",
            "  _log_warning(\"'verbose_eval' argument is deprecated and will be removed in a future release of LightGBM. \"\n",
            "regularization_factors, val_score: 0.900419:  75%|#######5  | 15/20 [00:02<00:00,  5.03it/s][I 2023-07-04 00:24:54,915] Trial 57 finished with value: 0.90041928721174 and parameters: {'lambda_l1': 0.569786559622897, 'lambda_l2': 4.0809508930532164e-07}. Best is trial 45 with value: 0.90041928721174.\n",
            "regularization_factors, val_score: 0.900419:  75%|#######5  | 15/20 [00:02<00:00,  5.03it/s]"
          ]
        },
        {
          "name": "stdout",
          "output_type": "stream",
          "text": [
            "[10]\tvalid_0's auc: 0.892511\tvalid_1's auc: 0.8674\n",
            "[20]\tvalid_0's auc: 0.903936\tvalid_1's auc: 0.873428\n",
            "[30]\tvalid_0's auc: 0.910092\tvalid_1's auc: 0.879717\n",
            "[40]\tvalid_0's auc: 0.916215\tvalid_1's auc: 0.879193\n",
            "[50]\tvalid_0's auc: 0.921714\tvalid_1's auc: 0.876834\n",
            "[60]\tvalid_0's auc: 0.926852\tvalid_1's auc: 0.87631\n",
            "Early stopping, best iteration is:\n",
            "[14]\tvalid_0's auc: 0.850914\tvalid_1's auc: 0.900419\n",
            "[10]\tvalid_0's auc: 0.845743\tvalid_1's auc: 0.88653\n"
          ]
        },
        {
          "name": "stderr",
          "output_type": "stream",
          "text": [
            "c:\\Users\\daich\\AppData\\Local\\Programs\\Python\\Python38\\lib\\site-packages\\lightgbm\\engine.py:239: UserWarning: 'verbose_eval' argument is deprecated and will be removed in a future release of LightGBM. Pass 'log_evaluation()' callback via 'callbacks' argument instead.\n",
            "  _log_warning(\"'verbose_eval' argument is deprecated and will be removed in a future release of LightGBM. \"\n",
            "regularization_factors, val_score: 0.900419:  80%|########  | 16/20 [00:03<00:00,  5.30it/s][I 2023-07-04 00:24:55,081] Trial 58 finished with value: 0.90041928721174 and parameters: {'lambda_l1': 9.211286229490433, 'lambda_l2': 5.689957962918367e-07}. Best is trial 45 with value: 0.90041928721174.\n",
            "regularization_factors, val_score: 0.900419:  80%|########  | 16/20 [00:03<00:00,  5.30it/s]c:\\Users\\daich\\AppData\\Local\\Programs\\Python\\Python38\\lib\\site-packages\\lightgbm\\engine.py:239: UserWarning: 'verbose_eval' argument is deprecated and will be removed in a future release of LightGBM. Pass 'log_evaluation()' callback via 'callbacks' argument instead.\n",
            "  _log_warning(\"'verbose_eval' argument is deprecated and will be removed in a future release of LightGBM. \"\n"
          ]
        },
        {
          "name": "stdout",
          "output_type": "stream",
          "text": [
            "[20]\tvalid_0's auc: 0.844168\tvalid_1's auc: 0.894654\n",
            "[30]\tvalid_0's auc: 0.851161\tvalid_1's auc: 0.895702\n",
            "[40]\tvalid_0's auc: 0.855527\tvalid_1's auc: 0.883124\n",
            "[50]\tvalid_0's auc: 0.855724\tvalid_1's auc: 0.874214\n",
            "[60]\tvalid_0's auc: 0.855954\tvalid_1's auc: 0.874738\n",
            "Early stopping, best iteration is:\n",
            "[14]\tvalid_0's auc: 0.850914\tvalid_1's auc: 0.900419\n",
            "[10]\tvalid_0's auc: 0.900161\tvalid_1's auc: 0.86478\n",
            "[20]\tvalid_0's auc: 0.910815\tvalid_1's auc: 0.862421\n",
            "[30]\tvalid_0's auc: 0.917315\tvalid_1's auc: 0.864518\n"
          ]
        },
        {
          "name": "stderr",
          "output_type": "stream",
          "text": [
            "regularization_factors, val_score: 0.900419:  85%|########5 | 17/20 [00:03<00:00,  4.99it/s][I 2023-07-04 00:24:55,308] Trial 59 finished with value: 0.90041928721174 and parameters: {'lambda_l1': 0.2331248931296398, 'lambda_l2': 1.938345959344402e-07}. Best is trial 45 with value: 0.90041928721174.\n",
            "regularization_factors, val_score: 0.900419:  85%|########5 | 17/20 [00:03<00:00,  4.99it/s]"
          ]
        },
        {
          "name": "stdout",
          "output_type": "stream",
          "text": [
            "[40]\tvalid_0's auc: 0.923028\tvalid_1's auc: 0.86478\n",
            "[50]\tvalid_0's auc: 0.930333\tvalid_1's auc: 0.863208\n",
            "[60]\tvalid_0's auc: 0.936094\tvalid_1's auc: 0.868973\n",
            "Early stopping, best iteration is:\n",
            "[14]\tvalid_0's auc: 0.850914\tvalid_1's auc: 0.900419\n",
            "[10]\tvalid_0's auc: 0.892544\tvalid_1's auc: 0.8674\n",
            "[20]\tvalid_0's auc: 0.904101\tvalid_1's auc: 0.875\n"
          ]
        },
        {
          "name": "stderr",
          "output_type": "stream",
          "text": [
            "c:\\Users\\daich\\AppData\\Local\\Programs\\Python\\Python38\\lib\\site-packages\\lightgbm\\engine.py:239: UserWarning: 'verbose_eval' argument is deprecated and will be removed in a future release of LightGBM. Pass 'log_evaluation()' callback via 'callbacks' argument instead.\n",
            "  _log_warning(\"'verbose_eval' argument is deprecated and will be removed in a future release of LightGBM. \"\n",
            "regularization_factors, val_score: 0.900419:  90%|######### | 18/20 [00:03<00:00,  4.76it/s][I 2023-07-04 00:24:55,540] Trial 60 finished with value: 0.90041928721174 and parameters: {'lambda_l1': 0.5578946897612324, 'lambda_l2': 1.0509291136622203e-08}. Best is trial 45 with value: 0.90041928721174.\n",
            "regularization_factors, val_score: 0.900419:  90%|######### | 18/20 [00:03<00:00,  4.76it/s]"
          ]
        },
        {
          "name": "stdout",
          "output_type": "stream",
          "text": [
            "[30]\tvalid_0's auc: 0.910552\tvalid_1's auc: 0.879717\n",
            "[40]\tvalid_0's auc: 0.916314\tvalid_1's auc: 0.880765\n",
            "[50]\tvalid_0's auc: 0.921567\tvalid_1's auc: 0.87631\n",
            "[60]\tvalid_0's auc: 0.926524\tvalid_1's auc: 0.876834\n",
            "Early stopping, best iteration is:\n",
            "[14]\tvalid_0's auc: 0.850914\tvalid_1's auc: 0.900419\n",
            "[10]\tvalid_0's auc: 0.845743\tvalid_1's auc: 0.88653\n",
            "[20]\tvalid_0's auc: 0.843823\tvalid_1's auc: 0.892296\n"
          ]
        },
        {
          "name": "stderr",
          "output_type": "stream",
          "text": [
            "c:\\Users\\daich\\AppData\\Local\\Programs\\Python\\Python38\\lib\\site-packages\\lightgbm\\engine.py:239: UserWarning: 'verbose_eval' argument is deprecated and will be removed in a future release of LightGBM. Pass 'log_evaluation()' callback via 'callbacks' argument instead.\n",
            "  _log_warning(\"'verbose_eval' argument is deprecated and will be removed in a future release of LightGBM. \"\n",
            "regularization_factors, val_score: 0.900419:  95%|#########5| 19/20 [00:03<00:00,  5.07it/s][I 2023-07-04 00:24:55,708] Trial 61 finished with value: 0.90041928721174 and parameters: {'lambda_l1': 9.83721170674132, 'lambda_l2': 1.0403592716370231e-08}. Best is trial 45 with value: 0.90041928721174.\n",
            "regularization_factors, val_score: 0.900419:  95%|#########5| 19/20 [00:03<00:00,  5.07it/s]c:\\Users\\daich\\AppData\\Local\\Programs\\Python\\Python38\\lib\\site-packages\\lightgbm\\engine.py:239: UserWarning: 'verbose_eval' argument is deprecated and will be removed in a future release of LightGBM. Pass 'log_evaluation()' callback via 'callbacks' argument instead.\n",
            "  _log_warning(\"'verbose_eval' argument is deprecated and will be removed in a future release of LightGBM. \"\n"
          ]
        },
        {
          "name": "stdout",
          "output_type": "stream",
          "text": [
            "[30]\tvalid_0's auc: 0.843577\tvalid_1's auc: 0.894392\n",
            "[40]\tvalid_0's auc: 0.852966\tvalid_1's auc: 0.887317\n",
            "[50]\tvalid_0's auc: 0.85487\tvalid_1's auc: 0.8826\n",
            "[60]\tvalid_0's auc: 0.855067\tvalid_1's auc: 0.883124\n",
            "Early stopping, best iteration is:\n",
            "[14]\tvalid_0's auc: 0.850914\tvalid_1's auc: 0.900419\n",
            "[10]\tvalid_0's auc: 0.845743\tvalid_1's auc: 0.88653\n",
            "[20]\tvalid_0's auc: 0.843823\tvalid_1's auc: 0.892296\n",
            "[30]\tvalid_0's auc: 0.843577\tvalid_1's auc: 0.894392\n",
            "[40]\tvalid_0's auc: 0.852966\tvalid_1's auc: 0.886792\n",
            "[50]\tvalid_0's auc: 0.855035\tvalid_1's auc: 0.8826\n",
            "[60]\tvalid_0's auc: 0.855067\tvalid_1's auc: 0.878931\n",
            "Early stopping, best iteration is:\n",
            "[14]\tvalid_0's auc: 0.850914\tvalid_1's auc: 0.900419\n"
          ]
        },
        {
          "name": "stderr",
          "output_type": "stream",
          "text": [
            "regularization_factors, val_score: 0.900419: 100%|##########| 20/20 [00:03<00:00,  5.41it/s][I 2023-07-04 00:24:55,863] Trial 62 finished with value: 0.90041928721174 and parameters: {'lambda_l1': 9.783626574333578, 'lambda_l2': 8.128731868167737e-08}. Best is trial 45 with value: 0.90041928721174.\n",
            "regularization_factors, val_score: 0.900419: 100%|##########| 20/20 [00:03<00:00,  5.27it/s]\n",
            "min_data_in_leaf, val_score: 0.900419:   0%|          | 0/5 [00:00<?, ?it/s]c:\\Users\\daich\\AppData\\Local\\Programs\\Python\\Python38\\lib\\site-packages\\lightgbm\\engine.py:239: UserWarning: 'verbose_eval' argument is deprecated and will be removed in a future release of LightGBM. Pass 'log_evaluation()' callback via 'callbacks' argument instead.\n",
            "  _log_warning(\"'verbose_eval' argument is deprecated and will be removed in a future release of LightGBM. \"\n",
            "min_data_in_leaf, val_score: 0.900419:  20%|##        | 1/5 [00:00<00:00,  5.70it/s][I 2023-07-04 00:24:56,042] Trial 63 finished with value: 0.90041928721174 and parameters: {'min_child_samples': 50}. Best is trial 63 with value: 0.90041928721174.\n",
            "min_data_in_leaf, val_score: 0.900419:  20%|##        | 1/5 [00:00<00:00,  5.70it/s]c:\\Users\\daich\\AppData\\Local\\Programs\\Python\\Python38\\lib\\site-packages\\lightgbm\\engine.py:239: UserWarning: 'verbose_eval' argument is deprecated and will be removed in a future release of LightGBM. Pass 'log_evaluation()' callback via 'callbacks' argument instead.\n",
            "  _log_warning(\"'verbose_eval' argument is deprecated and will be removed in a future release of LightGBM. \"\n"
          ]
        },
        {
          "name": "stdout",
          "output_type": "stream",
          "text": [
            "[10]\tvalid_0's auc: 0.853672\tvalid_1's auc: 0.896226\n",
            "[20]\tvalid_0's auc: 0.874044\tvalid_1's auc: 0.889413\n",
            "[30]\tvalid_0's auc: 0.87626\tvalid_1's auc: 0.894654\n",
            "[40]\tvalid_0's auc: 0.879149\tvalid_1's auc: 0.879193\n",
            "[50]\tvalid_0's auc: 0.883401\tvalid_1's auc: 0.878669\n",
            "[60]\tvalid_0's auc: 0.886093\tvalid_1's auc: 0.877096\n",
            "Early stopping, best iteration is:\n",
            "[14]\tvalid_0's auc: 0.850914\tvalid_1's auc: 0.900419\n",
            "[10]\tvalid_0's auc: 0.853672\tvalid_1's auc: 0.896226\n",
            "[20]\tvalid_0's auc: 0.874044\tvalid_1's auc: 0.889413\n"
          ]
        },
        {
          "name": "stderr",
          "output_type": "stream",
          "text": [
            "min_data_in_leaf, val_score: 0.900419:  40%|####      | 2/5 [00:00<00:00,  5.51it/s][I 2023-07-04 00:24:56,228] Trial 64 finished with value: 0.90041928721174 and parameters: {'min_child_samples': 10}. Best is trial 63 with value: 0.90041928721174.\n",
            "min_data_in_leaf, val_score: 0.900419:  40%|####      | 2/5 [00:00<00:00,  5.51it/s]"
          ]
        },
        {
          "name": "stdout",
          "output_type": "stream",
          "text": [
            "[30]\tvalid_0's auc: 0.87626\tvalid_1's auc: 0.894654\n",
            "[40]\tvalid_0's auc: 0.879149\tvalid_1's auc: 0.879193\n",
            "[50]\tvalid_0's auc: 0.883401\tvalid_1's auc: 0.878669\n",
            "[60]\tvalid_0's auc: 0.886093\tvalid_1's auc: 0.877096\n",
            "Early stopping, best iteration is:\n",
            "[14]\tvalid_0's auc: 0.850914\tvalid_1's auc: 0.900419\n",
            "[10]\tvalid_0's auc: 0.853672\tvalid_1's auc: 0.896226\n",
            "[20]\tvalid_0's auc: 0.874044\tvalid_1's auc: 0.889413\n",
            "[30]\tvalid_0's auc: 0.87626\tvalid_1's auc: 0.894654\n",
            "[40]\tvalid_0's auc: 0.879149\tvalid_1's auc: 0.879193\n",
            "[50]\tvalid_0's auc: 0.883401\tvalid_1's auc: 0.878669\n"
          ]
        },
        {
          "name": "stderr",
          "output_type": "stream",
          "text": [
            "c:\\Users\\daich\\AppData\\Local\\Programs\\Python\\Python38\\lib\\site-packages\\lightgbm\\engine.py:239: UserWarning: 'verbose_eval' argument is deprecated and will be removed in a future release of LightGBM. Pass 'log_evaluation()' callback via 'callbacks' argument instead.\n",
            "  _log_warning(\"'verbose_eval' argument is deprecated and will be removed in a future release of LightGBM. \"\n",
            "min_data_in_leaf, val_score: 0.900419:  60%|######    | 3/5 [00:00<00:00,  5.53it/s][I 2023-07-04 00:24:56,408] Trial 65 finished with value: 0.90041928721174 and parameters: {'min_child_samples': 100}. Best is trial 63 with value: 0.90041928721174.\n",
            "min_data_in_leaf, val_score: 0.900419:  60%|######    | 3/5 [00:00<00:00,  5.53it/s]c:\\Users\\daich\\AppData\\Local\\Programs\\Python\\Python38\\lib\\site-packages\\lightgbm\\engine.py:239: UserWarning: 'verbose_eval' argument is deprecated and will be removed in a future release of LightGBM. Pass 'log_evaluation()' callback via 'callbacks' argument instead.\n",
            "  _log_warning(\"'verbose_eval' argument is deprecated and will be removed in a future release of LightGBM. \"\n"
          ]
        },
        {
          "name": "stdout",
          "output_type": "stream",
          "text": [
            "[60]\tvalid_0's auc: 0.886093\tvalid_1's auc: 0.877096\n",
            "Early stopping, best iteration is:\n",
            "[14]\tvalid_0's auc: 0.850914\tvalid_1's auc: 0.900419\n",
            "[10]\tvalid_0's auc: 0.853672\tvalid_1's auc: 0.896226\n",
            "[20]\tvalid_0's auc: 0.874044\tvalid_1's auc: 0.889413\n",
            "[30]\tvalid_0's auc: 0.87626\tvalid_1's auc: 0.894654\n",
            "[40]\tvalid_0's auc: 0.879149\tvalid_1's auc: 0.879193\n",
            "[50]\tvalid_0's auc: 0.883401\tvalid_1's auc: 0.878669\n",
            "[60]\tvalid_0's auc: 0.886093\tvalid_1's auc: 0.877096\n",
            "Early stopping, best iteration is:\n",
            "[14]\tvalid_0's auc: 0.850914\tvalid_1's auc: 0.900419\n"
          ]
        },
        {
          "name": "stderr",
          "output_type": "stream",
          "text": [
            "min_data_in_leaf, val_score: 0.900419:  80%|########  | 4/5 [00:00<00:00,  5.54it/s][I 2023-07-04 00:24:56,588] Trial 66 finished with value: 0.90041928721174 and parameters: {'min_child_samples': 25}. Best is trial 63 with value: 0.90041928721174.\n",
            "min_data_in_leaf, val_score: 0.900419:  80%|########  | 4/5 [00:00<00:00,  5.54it/s]c:\\Users\\daich\\AppData\\Local\\Programs\\Python\\Python38\\lib\\site-packages\\lightgbm\\engine.py:239: UserWarning: 'verbose_eval' argument is deprecated and will be removed in a future release of LightGBM. Pass 'log_evaluation()' callback via 'callbacks' argument instead.\n",
            "  _log_warning(\"'verbose_eval' argument is deprecated and will be removed in a future release of LightGBM. \"\n",
            "min_data_in_leaf, val_score: 0.900419: 100%|##########| 5/5 [00:00<00:00,  5.30it/s][I 2023-07-04 00:24:56,791] Trial 67 finished with value: 0.90041928721174 and parameters: {'min_child_samples': 5}. Best is trial 63 with value: 0.90041928721174.\n",
            "min_data_in_leaf, val_score: 0.900419: 100%|##########| 5/5 [00:00<00:00,  5.40it/s]\n",
            "[I 2023-07-04 00:24:56,796] A new study created in memory with name: no-name-d2f6f518-51f5-45ad-b846-8207c98bdb73\n"
          ]
        },
        {
          "name": "stdout",
          "output_type": "stream",
          "text": [
            "[10]\tvalid_0's auc: 0.853672\tvalid_1's auc: 0.896226\n",
            "[20]\tvalid_0's auc: 0.874044\tvalid_1's auc: 0.889413\n",
            "[30]\tvalid_0's auc: 0.87626\tvalid_1's auc: 0.894654\n",
            "[40]\tvalid_0's auc: 0.879149\tvalid_1's auc: 0.879193\n",
            "[50]\tvalid_0's auc: 0.883401\tvalid_1's auc: 0.878669\n",
            "[60]\tvalid_0's auc: 0.886093\tvalid_1's auc: 0.877096\n",
            "Early stopping, best iteration is:\n",
            "[14]\tvalid_0's auc: 0.850914\tvalid_1's auc: 0.900419\n",
            "ROC: 0.9004192872117401\n"
          ]
        },
        {
          "name": "stderr",
          "output_type": "stream",
          "text": [
            "feature_fraction, val_score: -inf:   0%|          | 0/7 [00:00<?, ?it/s]"
          ]
        },
        {
          "name": "stdout",
          "output_type": "stream",
          "text": [
            "[LightGBM] [Warning] min_data_in_leaf is set=20, min_child_samples=20 will be ignored. Current value: min_data_in_leaf=20\n",
            "Training until validation scores don't improve for 50 rounds\n",
            "[10]\tvalid_0's auc: 0.845908\tvalid_1's auc: 0.921646\n"
          ]
        },
        {
          "name": "stderr",
          "output_type": "stream",
          "text": [
            "c:\\Users\\daich\\AppData\\Local\\Programs\\Python\\Python38\\lib\\site-packages\\lightgbm\\engine.py:239: UserWarning: 'verbose_eval' argument is deprecated and will be removed in a future release of LightGBM. Pass 'log_evaluation()' callback via 'callbacks' argument instead.\n",
            "  _log_warning(\"'verbose_eval' argument is deprecated and will be removed in a future release of LightGBM. \"\n",
            "feature_fraction, val_score: 0.923480:   0%|          | 0/7 [00:00<?, ?it/s]"
          ]
        },
        {
          "name": "stdout",
          "output_type": "stream",
          "text": [
            "[20]\tvalid_0's auc: 0.847631\tvalid_1's auc: 0.919025\n",
            "[30]\tvalid_0's auc: 0.847631\tvalid_1's auc: 0.919025\n",
            "[40]\tvalid_0's auc: 0.85341\tvalid_1's auc: 0.92086\n",
            "[50]\tvalid_0's auc: 0.85492\tvalid_1's auc: 0.92348\n",
            "[60]\tvalid_0's auc: 0.854329\tvalid_1's auc: 0.92348\n",
            "[70]\tvalid_0's auc: 0.854329\tvalid_1's auc: 0.92348\n",
            "[80]\tvalid_0's auc: 0.854329\tvalid_1's auc: 0.92348\n",
            "[90]\tvalid_0's auc: 0.854329\tvalid_1's auc: 0.92348\n",
            "Early stopping, best iteration is:\n",
            "[47]\tvalid_0's auc: 0.854953\tvalid_1's auc: 0.92348\n"
          ]
        },
        {
          "name": "stderr",
          "output_type": "stream",
          "text": [
            "feature_fraction, val_score: 0.923480:  14%|#4        | 1/7 [00:00<00:01,  5.22it/s][I 2023-07-04 00:24:56,991] Trial 0 finished with value: 0.9234800838574424 and parameters: {'feature_fraction': 0.8999999999999999}. Best is trial 0 with value: 0.9234800838574424.\n",
            "feature_fraction, val_score: 0.923480:  14%|#4        | 1/7 [00:00<00:01,  5.22it/s]"
          ]
        },
        {
          "name": "stdout",
          "output_type": "stream",
          "text": [
            "[10]\tvalid_0's auc: 0.845349\tvalid_1's auc: 0.919549\n",
            "[20]\tvalid_0's auc: 0.849256\tvalid_1's auc: 0.920335\n",
            "[30]\tvalid_0's auc: 0.852326\tvalid_1's auc: 0.92086\n",
            "[40]\tvalid_0's auc: 0.85208\tvalid_1's auc: 0.918501\n"
          ]
        },
        {
          "name": "stderr",
          "output_type": "stream",
          "text": [
            "c:\\Users\\daich\\AppData\\Local\\Programs\\Python\\Python38\\lib\\site-packages\\lightgbm\\engine.py:239: UserWarning: 'verbose_eval' argument is deprecated and will be removed in a future release of LightGBM. Pass 'log_evaluation()' callback via 'callbacks' argument instead.\n",
            "  _log_warning(\"'verbose_eval' argument is deprecated and will be removed in a future release of LightGBM. \"\n",
            "feature_fraction, val_score: 0.923480:  29%|##8       | 2/7 [00:00<00:00,  5.45it/s][I 2023-07-04 00:24:57,169] Trial 1 finished with value: 0.9234800838574424 and parameters: {'feature_fraction': 0.5}. Best is trial 0 with value: 0.9234800838574424.\n",
            "feature_fraction, val_score: 0.923480:  29%|##8       | 2/7 [00:00<00:00,  5.45it/s]c:\\Users\\daich\\AppData\\Local\\Programs\\Python\\Python38\\lib\\site-packages\\lightgbm\\engine.py:239: UserWarning: 'verbose_eval' argument is deprecated and will be removed in a future release of LightGBM. Pass 'log_evaluation()' callback via 'callbacks' argument instead.\n",
            "  _log_warning(\"'verbose_eval' argument is deprecated and will be removed in a future release of LightGBM. \"\n"
          ]
        },
        {
          "name": "stdout",
          "output_type": "stream",
          "text": [
            "[50]\tvalid_0's auc: 0.851358\tvalid_1's auc: 0.917977\n",
            "[60]\tvalid_0's auc: 0.851358\tvalid_1's auc: 0.917977\n",
            "[70]\tvalid_0's auc: 0.851358\tvalid_1's auc: 0.917977\n",
            "[80]\tvalid_0's auc: 0.851358\tvalid_1's auc: 0.917977\n",
            "[90]\tvalid_0's auc: 0.851358\tvalid_1's auc: 0.917977\n",
            "Early stopping, best iteration is:\n",
            "[47]\tvalid_0's auc: 0.854953\tvalid_1's auc: 0.92348\n",
            "[10]\tvalid_0's auc: 0.845349\tvalid_1's auc: 0.919549\n",
            "[20]\tvalid_0's auc: 0.849256\tvalid_1's auc: 0.920335\n",
            "[30]\tvalid_0's auc: 0.852326\tvalid_1's auc: 0.92086"
          ]
        },
        {
          "name": "stderr",
          "output_type": "stream",
          "text": [
            "feature_fraction, val_score: 0.923480:  43%|####2     | 3/7 [00:00<00:00,  5.24it/s][I 2023-07-04 00:24:57,368] Trial 2 finished with value: 0.9234800838574424 and parameters: {'feature_fraction': 0.6}. Best is trial 0 with value: 0.9234800838574424.\n",
            "feature_fraction, val_score: 0.923480:  43%|####2     | 3/7 [00:00<00:00,  5.24it/s]"
          ]
        },
        {
          "name": "stdout",
          "output_type": "stream",
          "text": [
            "\n",
            "[40]\tvalid_0's auc: 0.85208\tvalid_1's auc: 0.918501\n",
            "[50]\tvalid_0's auc: 0.851358\tvalid_1's auc: 0.917977\n",
            "[60]\tvalid_0's auc: 0.851358\tvalid_1's auc: 0.917977\n",
            "[70]\tvalid_0's auc: 0.851358\tvalid_1's auc: 0.917977\n",
            "[80]\tvalid_0's auc: 0.851358\tvalid_1's auc: 0.917977\n",
            "[90]\tvalid_0's auc: 0.851358\tvalid_1's auc: 0.917977\n",
            "Early stopping, best iteration is:\n",
            "[47]\tvalid_0's auc: 0.854953\tvalid_1's auc: 0.92348\n",
            "[10]\tvalid_0's auc: 0.845908\tvalid_1's auc: 0.921646\n",
            "[20]\tvalid_0's auc: 0.847631\tvalid_1's auc: 0.919025\n",
            "[30]\tvalid_0's auc: 0.847631\tvalid_1's auc: 0.919025\n",
            "[40]\tvalid_0's auc: 0.85341\tvalid_1's auc: 0.92086\n",
            "[50]\tvalid_0's auc: 0.85492\tvalid_1's auc: 0.92348\n"
          ]
        },
        {
          "name": "stderr",
          "output_type": "stream",
          "text": [
            "c:\\Users\\daich\\AppData\\Local\\Programs\\Python\\Python38\\lib\\site-packages\\lightgbm\\engine.py:239: UserWarning: 'verbose_eval' argument is deprecated and will be removed in a future release of LightGBM. Pass 'log_evaluation()' callback via 'callbacks' argument instead.\n",
            "  _log_warning(\"'verbose_eval' argument is deprecated and will be removed in a future release of LightGBM. \"\n",
            "feature_fraction, val_score: 0.923480:  57%|#####7    | 4/7 [00:00<00:00,  5.24it/s][I 2023-07-04 00:24:57,560] Trial 3 finished with value: 0.9234800838574424 and parameters: {'feature_fraction': 0.8}. Best is trial 0 with value: 0.9234800838574424.\n",
            "feature_fraction, val_score: 0.923480:  57%|#####7    | 4/7 [00:00<00:00,  5.24it/s]"
          ]
        },
        {
          "name": "stdout",
          "output_type": "stream",
          "text": [
            "[60]\tvalid_0's auc: 0.854329\tvalid_1's auc: 0.92348\n",
            "[70]\tvalid_0's auc: 0.854329\tvalid_1's auc: 0.92348\n",
            "[80]\tvalid_0's auc: 0.854329\tvalid_1's auc: 0.92348\n",
            "[90]\tvalid_0's auc: 0.854329\tvalid_1's auc: 0.92348\n",
            "Early stopping, best iteration is:\n",
            "[47]\tvalid_0's auc: 0.854953\tvalid_1's auc: 0.92348\n",
            "[10]\tvalid_0's auc: 0.831922\tvalid_1's auc: 0.88391\n",
            "[20]\tvalid_0's auc: 0.839801\tvalid_1's auc: 0.902778\n",
            "[30]\tvalid_0's auc: 0.845054\tvalid_1's auc: 0.906447\n",
            "[40]\tvalid_0's auc: 0.846827\tvalid_1's auc: 0.906971\n",
            "[50]\tvalid_0's auc: 0.846334\tvalid_1's auc: 0.907495\n",
            "[60]\tvalid_0's auc: 0.846269\tvalid_1's auc: 0.907495\n",
            "[70]\tvalid_0's auc: 0.846466\tvalid_1's auc: 0.907495\n",
            "[80]\tvalid_0's auc: 0.846531\tvalid_1's auc: 0.908019\n",
            "[90]\tvalid_0's auc: 0.846499\tvalid_1's auc: 0.908019\n",
            "Early stopping, best iteration is:\n",
            "[47]\tvalid_0's auc: 0.854953\tvalid_1's auc: 0.92348\n"
          ]
        },
        {
          "name": "stderr",
          "output_type": "stream",
          "text": [
            "c:\\Users\\daich\\AppData\\Local\\Programs\\Python\\Python38\\lib\\site-packages\\lightgbm\\engine.py:239: UserWarning: 'verbose_eval' argument is deprecated and will be removed in a future release of LightGBM. Pass 'log_evaluation()' callback via 'callbacks' argument instead.\n",
            "  _log_warning(\"'verbose_eval' argument is deprecated and will be removed in a future release of LightGBM. \"\n",
            "feature_fraction, val_score: 0.923480:  71%|#######1  | 5/7 [00:00<00:00,  5.35it/s][I 2023-07-04 00:24:57,739] Trial 4 finished with value: 0.9234800838574424 and parameters: {'feature_fraction': 0.4}. Best is trial 0 with value: 0.9234800838574424.\n",
            "feature_fraction, val_score: 0.923480:  71%|#######1  | 5/7 [00:00<00:00,  5.35it/s]c:\\Users\\daich\\AppData\\Local\\Programs\\Python\\Python38\\lib\\site-packages\\lightgbm\\engine.py:239: UserWarning: 'verbose_eval' argument is deprecated and will be removed in a future release of LightGBM. Pass 'log_evaluation()' callback via 'callbacks' argument instead.\n",
            "  _log_warning(\"'verbose_eval' argument is deprecated and will be removed in a future release of LightGBM. \"\n",
            "feature_fraction, val_score: 0.923480:  86%|########5 | 6/7 [00:01<00:00,  5.21it/s][I 2023-07-04 00:24:57,941] Trial 5 finished with value: 0.9234800838574424 and parameters: {'feature_fraction': 1.0}. Best is trial 0 with value: 0.9234800838574424.\n",
            "feature_fraction, val_score: 0.923480:  86%|########5 | 6/7 [00:01<00:00,  5.21it/s]"
          ]
        },
        {
          "name": "stdout",
          "output_type": "stream",
          "text": [
            "[10]\tvalid_0's auc: 0.837995\tvalid_1's auc: 0.910377\n",
            "[20]\tvalid_0's auc: 0.837995\tvalid_1's auc: 0.910377\n",
            "[30]\tvalid_0's auc: 0.851522\tvalid_1's auc: 0.916405\n",
            "[40]\tvalid_0's auc: 0.851308\tvalid_1's auc: 0.916405\n",
            "[50]\tvalid_0's auc: 0.851243\tvalid_1's auc: 0.916405\n",
            "[60]\tvalid_0's auc: 0.851078\tvalid_1's auc: 0.916405\n",
            "[70]\tvalid_0's auc: 0.851078\tvalid_1's auc: 0.916405\n",
            "[80]\tvalid_0's auc: 0.851078\tvalid_1's auc: 0.916405\n",
            "[90]\tvalid_0's auc: 0.851013\tvalid_1's auc: 0.916405\n",
            "Early stopping, best iteration is:\n",
            "[47]\tvalid_0's auc: 0.854953\tvalid_1's auc: 0.92348\n"
          ]
        },
        {
          "name": "stderr",
          "output_type": "stream",
          "text": [
            "c:\\Users\\daich\\AppData\\Local\\Programs\\Python\\Python38\\lib\\site-packages\\lightgbm\\engine.py:239: UserWarning: 'verbose_eval' argument is deprecated and will be removed in a future release of LightGBM. Pass 'log_evaluation()' callback via 'callbacks' argument instead.\n",
            "  _log_warning(\"'verbose_eval' argument is deprecated and will be removed in a future release of LightGBM. \"\n",
            "feature_fraction, val_score: 0.923480: 100%|##########| 7/7 [00:01<00:00,  5.11it/s][I 2023-07-04 00:24:58,146] Trial 6 finished with value: 0.9234800838574424 and parameters: {'feature_fraction': 0.7}. Best is trial 0 with value: 0.9234800838574424.\n",
            "feature_fraction, val_score: 0.923480: 100%|##########| 7/7 [00:01<00:00,  5.20it/s]\n"
          ]
        },
        {
          "name": "stdout",
          "output_type": "stream",
          "text": [
            "[10]\tvalid_0's auc: 0.846334\tvalid_1's auc: 0.920073\n",
            "[20]\tvalid_0's auc: 0.846416\tvalid_1's auc: 0.917453\n",
            "[30]\tvalid_0's auc: 0.853016\tvalid_1's auc: 0.918763\n",
            "[40]\tvalid_0's auc: 0.853492\tvalid_1's auc: 0.918763\n",
            "[50]\tvalid_0's auc: 0.852966\tvalid_1's auc: 0.918763\n",
            "[60]\tvalid_0's auc: 0.852802\tvalid_1's auc: 0.918239\n",
            "[70]\tvalid_0's auc: 0.852802\tvalid_1's auc: 0.918239\n",
            "[80]\tvalid_0's auc: 0.852736\tvalid_1's auc: 0.918239\n",
            "[90]\tvalid_0's auc: 0.852736\tvalid_1's auc: 0.918239\n",
            "Early stopping, best iteration is:\n",
            "[47]\tvalid_0's auc: 0.854953\tvalid_1's auc: 0.92348\n"
          ]
        },
        {
          "name": "stderr",
          "output_type": "stream",
          "text": [
            "num_leaves, val_score: 0.923480:   0%|          | 0/20 [00:00<?, ?it/s]"
          ]
        },
        {
          "name": "stdout",
          "output_type": "stream",
          "text": [
            "[10]\tvalid_0's auc: 0.845908\tvalid_1's auc: 0.921646"
          ]
        },
        {
          "name": "stderr",
          "output_type": "stream",
          "text": [
            "c:\\Users\\daich\\AppData\\Local\\Programs\\Python\\Python38\\lib\\site-packages\\lightgbm\\engine.py:239: UserWarning: 'verbose_eval' argument is deprecated and will be removed in a future release of LightGBM. Pass 'log_evaluation()' callback via 'callbacks' argument instead.\n",
            "  _log_warning(\"'verbose_eval' argument is deprecated and will be removed in a future release of LightGBM. \"\n",
            "num_leaves, val_score: 0.923480:   5%|5         | 1/20 [00:00<00:04,  4.36it/s][I 2023-07-04 00:24:58,378] Trial 7 finished with value: 0.9234800838574424 and parameters: {'num_leaves': 103}. Best is trial 7 with value: 0.9234800838574424.\n",
            "num_leaves, val_score: 0.923480:   5%|5         | 1/20 [00:00<00:04,  4.36it/s]"
          ]
        },
        {
          "name": "stdout",
          "output_type": "stream",
          "text": [
            "\n",
            "[20]\tvalid_0's auc: 0.847631\tvalid_1's auc: 0.919025\n",
            "[30]\tvalid_0's auc: 0.847631\tvalid_1's auc: 0.919025\n",
            "[40]\tvalid_0's auc: 0.85341\tvalid_1's auc: 0.92086\n",
            "[50]\tvalid_0's auc: 0.85492\tvalid_1's auc: 0.92348\n",
            "[60]\tvalid_0's auc: 0.854329\tvalid_1's auc: 0.92348\n",
            "[70]\tvalid_0's auc: 0.854329\tvalid_1's auc: 0.92348\n",
            "[80]\tvalid_0's auc: 0.854329\tvalid_1's auc: 0.92348\n",
            "[90]\tvalid_0's auc: 0.854329\tvalid_1's auc: 0.92348\n",
            "Early stopping, best iteration is:\n",
            "[47]\tvalid_0's auc: 0.854953\tvalid_1's auc: 0.92348\n"
          ]
        },
        {
          "name": "stderr",
          "output_type": "stream",
          "text": [
            "c:\\Users\\daich\\AppData\\Local\\Programs\\Python\\Python38\\lib\\site-packages\\lightgbm\\engine.py:239: UserWarning: 'verbose_eval' argument is deprecated and will be removed in a future release of LightGBM. Pass 'log_evaluation()' callback via 'callbacks' argument instead.\n",
            "  _log_warning(\"'verbose_eval' argument is deprecated and will be removed in a future release of LightGBM. \"\n",
            "num_leaves, val_score: 0.923480:  10%|#         | 2/20 [00:00<00:03,  4.80it/s][I 2023-07-04 00:24:58,572] Trial 8 finished with value: 0.9234800838574424 and parameters: {'num_leaves': 80}. Best is trial 7 with value: 0.9234800838574424.\n",
            "num_leaves, val_score: 0.923480:  10%|#         | 2/20 [00:00<00:03,  4.80it/s]"
          ]
        },
        {
          "name": "stdout",
          "output_type": "stream",
          "text": [
            "[10]\tvalid_0's auc: 0.845908\tvalid_1's auc: 0.921646\n",
            "[20]\tvalid_0's auc: 0.847631\tvalid_1's auc: 0.919025\n",
            "[30]\tvalid_0's auc: 0.847631\tvalid_1's auc: 0.919025\n",
            "[40]\tvalid_0's auc: 0.85341\tvalid_1's auc: 0.92086\n",
            "[50]\tvalid_0's auc: 0.85492\tvalid_1's auc: 0.92348\n",
            "[60]\tvalid_0's auc: 0.854329\tvalid_1's auc: 0.92348\n",
            "[70]\tvalid_0's auc: 0.854329\tvalid_1's auc: 0.92348\n",
            "[80]\tvalid_0's auc: 0.854329\tvalid_1's auc: 0.92348\n",
            "[90]\tvalid_0's auc: 0.854329\tvalid_1's auc: 0.92348\n",
            "Early stopping, best iteration is:\n",
            "[47]\tvalid_0's auc: 0.854953\tvalid_1's auc: 0.92348\n",
            "[10]\tvalid_0's auc: 0.845908\tvalid_1's auc: 0.921646\n"
          ]
        },
        {
          "name": "stderr",
          "output_type": "stream",
          "text": [
            "c:\\Users\\daich\\AppData\\Local\\Programs\\Python\\Python38\\lib\\site-packages\\lightgbm\\engine.py:239: UserWarning: 'verbose_eval' argument is deprecated and will be removed in a future release of LightGBM. Pass 'log_evaluation()' callback via 'callbacks' argument instead.\n",
            "  _log_warning(\"'verbose_eval' argument is deprecated and will be removed in a future release of LightGBM. \"\n",
            "num_leaves, val_score: 0.923480:  15%|#5        | 3/20 [00:00<00:03,  4.82it/s][I 2023-07-04 00:24:58,778] Trial 9 finished with value: 0.9234800838574424 and parameters: {'num_leaves': 215}. Best is trial 7 with value: 0.9234800838574424.\n",
            "num_leaves, val_score: 0.923480:  15%|#5        | 3/20 [00:00<00:03,  4.82it/s]"
          ]
        },
        {
          "name": "stdout",
          "output_type": "stream",
          "text": [
            "[20]\tvalid_0's auc: 0.847631\tvalid_1's auc: 0.919025\n",
            "[30]\tvalid_0's auc: 0.847631\tvalid_1's auc: 0.919025\n",
            "[40]\tvalid_0's auc: 0.85341\tvalid_1's auc: 0.92086\n",
            "[50]\tvalid_0's auc: 0.85492\tvalid_1's auc: 0.92348\n",
            "[60]\tvalid_0's auc: 0.854329\tvalid_1's auc: 0.92348\n",
            "[70]\tvalid_0's auc: 0.854329\tvalid_1's auc: 0.92348\n",
            "[80]\tvalid_0's auc: 0.854329\tvalid_1's auc: 0.92348\n",
            "[90]\tvalid_0's auc: 0.854329\tvalid_1's auc: 0.92348\n",
            "Early stopping, best iteration is:\n",
            "[47]\tvalid_0's auc: 0.854953\tvalid_1's auc: 0.92348\n",
            "[10]\tvalid_0's auc: 0.845908\tvalid_1's auc: 0.921646\n"
          ]
        },
        {
          "name": "stderr",
          "output_type": "stream",
          "text": [
            "c:\\Users\\daich\\AppData\\Local\\Programs\\Python\\Python38\\lib\\site-packages\\lightgbm\\engine.py:239: UserWarning: 'verbose_eval' argument is deprecated and will be removed in a future release of LightGBM. Pass 'log_evaluation()' callback via 'callbacks' argument instead.\n",
            "  _log_warning(\"'verbose_eval' argument is deprecated and will be removed in a future release of LightGBM. \"\n",
            "num_leaves, val_score: 0.923480:  20%|##        | 4/20 [00:00<00:03,  4.82it/s][I 2023-07-04 00:24:58,986] Trial 10 finished with value: 0.9234800838574424 and parameters: {'num_leaves': 8}. Best is trial 7 with value: 0.9234800838574424.\n",
            "num_leaves, val_score: 0.923480:  20%|##        | 4/20 [00:00<00:03,  4.82it/s]"
          ]
        },
        {
          "name": "stdout",
          "output_type": "stream",
          "text": [
            "[20]\tvalid_0's auc: 0.847631\tvalid_1's auc: 0.919025\n",
            "[30]\tvalid_0's auc: 0.847631\tvalid_1's auc: 0.919025\n",
            "[40]\tvalid_0's auc: 0.85341\tvalid_1's auc: 0.92086\n",
            "[50]\tvalid_0's auc: 0.85492\tvalid_1's auc: 0.92348\n",
            "[60]\tvalid_0's auc: 0.854329\tvalid_1's auc: 0.92348\n",
            "[70]\tvalid_0's auc: 0.854329\tvalid_1's auc: 0.92348\n",
            "[80]\tvalid_0's auc: 0.854329\tvalid_1's auc: 0.92348\n",
            "[90]\tvalid_0's auc: 0.854329\tvalid_1's auc: 0.92348\n",
            "Early stopping, best iteration is:\n",
            "[47]\tvalid_0's auc: 0.854953\tvalid_1's auc: 0.92348\n",
            "[10]\tvalid_0's auc: 0.845908\tvalid_1's auc: 0.921646\n"
          ]
        },
        {
          "name": "stderr",
          "output_type": "stream",
          "text": [
            "c:\\Users\\daich\\AppData\\Local\\Programs\\Python\\Python38\\lib\\site-packages\\lightgbm\\engine.py:239: UserWarning: 'verbose_eval' argument is deprecated and will be removed in a future release of LightGBM. Pass 'log_evaluation()' callback via 'callbacks' argument instead.\n",
            "  _log_warning(\"'verbose_eval' argument is deprecated and will be removed in a future release of LightGBM. \"\n",
            "num_leaves, val_score: 0.923480:  25%|##5       | 5/20 [00:01<00:03,  4.89it/s][I 2023-07-04 00:24:59,183] Trial 11 finished with value: 0.9234800838574424 and parameters: {'num_leaves': 225}. Best is trial 7 with value: 0.9234800838574424.\n",
            "num_leaves, val_score: 0.923480:  25%|##5       | 5/20 [00:01<00:03,  4.89it/s]"
          ]
        },
        {
          "name": "stdout",
          "output_type": "stream",
          "text": [
            "[20]\tvalid_0's auc: 0.847631\tvalid_1's auc: 0.919025\n",
            "[30]\tvalid_0's auc: 0.847631\tvalid_1's auc: 0.919025\n",
            "[40]\tvalid_0's auc: 0.85341\tvalid_1's auc: 0.92086\n",
            "[50]\tvalid_0's auc: 0.85492\tvalid_1's auc: 0.92348\n",
            "[60]\tvalid_0's auc: 0.854329\tvalid_1's auc: 0.92348\n",
            "[70]\tvalid_0's auc: 0.854329\tvalid_1's auc: 0.92348\n",
            "[80]\tvalid_0's auc: 0.854329\tvalid_1's auc: 0.92348\n",
            "[90]\tvalid_0's auc: 0.854329\tvalid_1's auc: 0.92348\n",
            "Early stopping, best iteration is:\n",
            "[47]\tvalid_0's auc: 0.854953\tvalid_1's auc: 0.92348\n",
            "[10]\tvalid_0's auc: 0.845908\tvalid_1's auc: 0.921646\n",
            "[20]\tvalid_0's auc: 0.847631\tvalid_1's auc: 0.919025\n"
          ]
        },
        {
          "name": "stderr",
          "output_type": "stream",
          "text": [
            "c:\\Users\\daich\\AppData\\Local\\Programs\\Python\\Python38\\lib\\site-packages\\lightgbm\\engine.py:239: UserWarning: 'verbose_eval' argument is deprecated and will be removed in a future release of LightGBM. Pass 'log_evaluation()' callback via 'callbacks' argument instead.\n",
            "  _log_warning(\"'verbose_eval' argument is deprecated and will be removed in a future release of LightGBM. \"\n",
            "num_leaves, val_score: 0.923480:  30%|###       | 6/20 [00:01<00:02,  4.95it/s][I 2023-07-04 00:24:59,382] Trial 12 finished with value: 0.9234800838574424 and parameters: {'num_leaves': 8}. Best is trial 7 with value: 0.9234800838574424.\n",
            "num_leaves, val_score: 0.923480:  30%|###       | 6/20 [00:01<00:02,  4.95it/s]"
          ]
        },
        {
          "name": "stdout",
          "output_type": "stream",
          "text": [
            "[30]\tvalid_0's auc: 0.847631\tvalid_1's auc: 0.919025\n",
            "[40]\tvalid_0's auc: 0.85341\tvalid_1's auc: 0.92086\n",
            "[50]\tvalid_0's auc: 0.85492\tvalid_1's auc: 0.92348\n",
            "[60]\tvalid_0's auc: 0.854329\tvalid_1's auc: 0.92348\n",
            "[70]\tvalid_0's auc: 0.854329\tvalid_1's auc: 0.92348\n",
            "[80]\tvalid_0's auc: 0.854329\tvalid_1's auc: 0.92348\n",
            "[90]\tvalid_0's auc: 0.854329\tvalid_1's auc: 0.92348\n",
            "Early stopping, best iteration is:\n",
            "[47]\tvalid_0's auc: 0.854953\tvalid_1's auc: 0.92348\n",
            "[10]\tvalid_0's auc: 0.845908\tvalid_1's auc: 0.921646\n",
            "[20]\tvalid_0's auc: 0.847631\tvalid_1's auc: 0.919025\n",
            "[30]\tvalid_0's auc: 0.847631\tvalid_1's auc: 0.919025\n",
            "[40]\tvalid_0's auc: 0.85341\tvalid_1's auc: 0.92086\n",
            "[50]\tvalid_0's auc: 0.85492\tvalid_1's auc: 0.92348\n"
          ]
        },
        {
          "name": "stderr",
          "output_type": "stream",
          "text": [
            "c:\\Users\\daich\\AppData\\Local\\Programs\\Python\\Python38\\lib\\site-packages\\lightgbm\\engine.py:239: UserWarning: 'verbose_eval' argument is deprecated and will be removed in a future release of LightGBM. Pass 'log_evaluation()' callback via 'callbacks' argument instead.\n",
            "  _log_warning(\"'verbose_eval' argument is deprecated and will be removed in a future release of LightGBM. \"\n",
            "num_leaves, val_score: 0.923480:  35%|###5      | 7/20 [00:01<00:02,  4.85it/s][I 2023-07-04 00:24:59,597] Trial 13 finished with value: 0.9234800838574424 and parameters: {'num_leaves': 170}. Best is trial 7 with value: 0.9234800838574424.\n",
            "num_leaves, val_score: 0.923480:  35%|###5      | 7/20 [00:01<00:02,  4.85it/s]"
          ]
        },
        {
          "name": "stdout",
          "output_type": "stream",
          "text": [
            "[60]\tvalid_0's auc: 0.854329\tvalid_1's auc: 0.92348\n",
            "[70]\tvalid_0's auc: 0.854329\tvalid_1's auc: 0.92348\n",
            "[80]\tvalid_0's auc: 0.854329\tvalid_1's auc: 0.92348\n",
            "[90]\tvalid_0's auc: 0.854329\tvalid_1's auc: 0.92348\n",
            "Early stopping, best iteration is:\n",
            "[47]\tvalid_0's auc: 0.854953\tvalid_1's auc: 0.92348\n",
            "[10]\tvalid_0's auc: 0.845908\tvalid_1's auc: 0.921646\n",
            "[20]\tvalid_0's auc: 0.847631\tvalid_1's auc: 0.919025\n",
            "[30]\tvalid_0's auc: 0.847631\tvalid_1's auc: 0.919025\n"
          ]
        },
        {
          "name": "stderr",
          "output_type": "stream",
          "text": [
            "c:\\Users\\daich\\AppData\\Local\\Programs\\Python\\Python38\\lib\\site-packages\\lightgbm\\engine.py:239: UserWarning: 'verbose_eval' argument is deprecated and will be removed in a future release of LightGBM. Pass 'log_evaluation()' callback via 'callbacks' argument instead.\n",
            "  _log_warning(\"'verbose_eval' argument is deprecated and will be removed in a future release of LightGBM. \"\n",
            "num_leaves, val_score: 0.923480:  40%|####      | 8/20 [00:01<00:02,  4.87it/s][I 2023-07-04 00:24:59,799] Trial 14 finished with value: 0.9234800838574424 and parameters: {'num_leaves': 150}. Best is trial 7 with value: 0.9234800838574424.\n",
            "num_leaves, val_score: 0.923480:  40%|####      | 8/20 [00:01<00:02,  4.87it/s]"
          ]
        },
        {
          "name": "stdout",
          "output_type": "stream",
          "text": [
            "[40]\tvalid_0's auc: 0.85341\tvalid_1's auc: 0.92086\n",
            "[50]\tvalid_0's auc: 0.85492\tvalid_1's auc: 0.92348\n",
            "[60]\tvalid_0's auc: 0.854329\tvalid_1's auc: 0.92348\n",
            "[70]\tvalid_0's auc: 0.854329\tvalid_1's auc: 0.92348\n",
            "[80]\tvalid_0's auc: 0.854329\tvalid_1's auc: 0.92348\n",
            "[90]\tvalid_0's auc: 0.854329\tvalid_1's auc: 0.92348\n",
            "Early stopping, best iteration is:\n",
            "[47]\tvalid_0's auc: 0.854953\tvalid_1's auc: 0.92348\n",
            "[10]\tvalid_0's auc: 0.845908\tvalid_1's auc: 0.921646\n",
            "[20]\tvalid_0's auc: 0.847631\tvalid_1's auc: 0.919025\n",
            "[30]\tvalid_0's auc: 0.847631\tvalid_1's auc: 0.919025\n",
            "[40]\tvalid_0's auc: 0.85341\tvalid_1's auc: 0.92086\n"
          ]
        },
        {
          "name": "stderr",
          "output_type": "stream",
          "text": [
            "c:\\Users\\daich\\AppData\\Local\\Programs\\Python\\Python38\\lib\\site-packages\\lightgbm\\engine.py:239: UserWarning: 'verbose_eval' argument is deprecated and will be removed in a future release of LightGBM. Pass 'log_evaluation()' callback via 'callbacks' argument instead.\n",
            "  _log_warning(\"'verbose_eval' argument is deprecated and will be removed in a future release of LightGBM. \"\n",
            "num_leaves, val_score: 0.923480:  45%|####5     | 9/20 [00:01<00:02,  4.99it/s][I 2023-07-04 00:24:59,990] Trial 15 finished with value: 0.9234800838574424 and parameters: {'num_leaves': 65}. Best is trial 7 with value: 0.9234800838574424.\n",
            "num_leaves, val_score: 0.923480:  45%|####5     | 9/20 [00:01<00:02,  4.99it/s]"
          ]
        },
        {
          "name": "stdout",
          "output_type": "stream",
          "text": [
            "[50]\tvalid_0's auc: 0.85492\tvalid_1's auc: 0.92348\n",
            "[60]\tvalid_0's auc: 0.854329\tvalid_1's auc: 0.92348\n",
            "[70]\tvalid_0's auc: 0.854329\tvalid_1's auc: 0.92348\n",
            "[80]\tvalid_0's auc: 0.854329\tvalid_1's auc: 0.92348\n",
            "[90]\tvalid_0's auc: 0.854329\tvalid_1's auc: 0.92348\n",
            "Early stopping, best iteration is:\n",
            "[47]\tvalid_0's auc: 0.854953\tvalid_1's auc: 0.92348\n",
            "[10]\tvalid_0's auc: 0.845908\tvalid_1's auc: 0.921646\n",
            "[20]\tvalid_0's auc: 0.847631\tvalid_1's auc: 0.919025\n",
            "[30]\tvalid_0's auc: 0.847631\tvalid_1's auc: 0.919025\n",
            "[40]\tvalid_0's auc: 0.85341\tvalid_1's auc: 0.92086\n"
          ]
        },
        {
          "name": "stderr",
          "output_type": "stream",
          "text": [
            "c:\\Users\\daich\\AppData\\Local\\Programs\\Python\\Python38\\lib\\site-packages\\lightgbm\\engine.py:239: UserWarning: 'verbose_eval' argument is deprecated and will be removed in a future release of LightGBM. Pass 'log_evaluation()' callback via 'callbacks' argument instead.\n",
            "  _log_warning(\"'verbose_eval' argument is deprecated and will be removed in a future release of LightGBM. \"\n",
            "num_leaves, val_score: 0.923480:  50%|#####     | 10/20 [00:02<00:02,  4.89it/s][I 2023-07-04 00:25:00,205] Trial 16 finished with value: 0.9234800838574424 and parameters: {'num_leaves': 187}. Best is trial 7 with value: 0.9234800838574424.\n",
            "num_leaves, val_score: 0.923480:  50%|#####     | 10/20 [00:02<00:02,  4.89it/s]"
          ]
        },
        {
          "name": "stdout",
          "output_type": "stream",
          "text": [
            "[50]\tvalid_0's auc: 0.85492\tvalid_1's auc: 0.92348\n",
            "[60]\tvalid_0's auc: 0.854329\tvalid_1's auc: 0.92348\n",
            "[70]\tvalid_0's auc: 0.854329\tvalid_1's auc: 0.92348\n",
            "[80]\tvalid_0's auc: 0.854329\tvalid_1's auc: 0.92348\n",
            "[90]\tvalid_0's auc: 0.854329\tvalid_1's auc: 0.92348\n",
            "Early stopping, best iteration is:\n",
            "[47]\tvalid_0's auc: 0.854953\tvalid_1's auc: 0.92348\n",
            "[10]\tvalid_0's auc: 0.845908\tvalid_1's auc: 0.921646\n",
            "[20]\tvalid_0's auc: 0.847631\tvalid_1's auc: 0.919025\n"
          ]
        },
        {
          "name": "stderr",
          "output_type": "stream",
          "text": [
            "c:\\Users\\daich\\AppData\\Local\\Programs\\Python\\Python38\\lib\\site-packages\\lightgbm\\engine.py:239: UserWarning: 'verbose_eval' argument is deprecated and will be removed in a future release of LightGBM. Pass 'log_evaluation()' callback via 'callbacks' argument instead.\n",
            "  _log_warning(\"'verbose_eval' argument is deprecated and will be removed in a future release of LightGBM. \"\n",
            "num_leaves, val_score: 0.923480:  55%|#####5    | 11/20 [00:02<00:01,  4.82it/s][I 2023-07-04 00:25:00,417] Trial 17 finished with value: 0.9234800838574424 and parameters: {'num_leaves': 249}. Best is trial 7 with value: 0.9234800838574424.\n",
            "num_leaves, val_score: 0.923480:  55%|#####5    | 11/20 [00:02<00:01,  4.82it/s]"
          ]
        },
        {
          "name": "stdout",
          "output_type": "stream",
          "text": [
            "[30]\tvalid_0's auc: 0.847631\tvalid_1's auc: 0.919025\n",
            "[40]\tvalid_0's auc: 0.85341\tvalid_1's auc: 0.92086\n",
            "[50]\tvalid_0's auc: 0.85492\tvalid_1's auc: 0.92348\n",
            "[60]\tvalid_0's auc: 0.854329\tvalid_1's auc: 0.92348\n",
            "[70]\tvalid_0's auc: 0.854329\tvalid_1's auc: 0.92348\n",
            "[80]\tvalid_0's auc: 0.854329\tvalid_1's auc: 0.92348\n",
            "[90]\tvalid_0's auc: 0.854329\tvalid_1's auc: 0.92348\n",
            "Early stopping, best iteration is:\n",
            "[47]\tvalid_0's auc: 0.854953\tvalid_1's auc: 0.92348\n",
            "[10]\tvalid_0's auc: 0.845908\tvalid_1's auc: 0.921646\n"
          ]
        },
        {
          "name": "stderr",
          "output_type": "stream",
          "text": [
            "c:\\Users\\daich\\AppData\\Local\\Programs\\Python\\Python38\\lib\\site-packages\\lightgbm\\engine.py:239: UserWarning: 'verbose_eval' argument is deprecated and will be removed in a future release of LightGBM. Pass 'log_evaluation()' callback via 'callbacks' argument instead.\n",
            "  _log_warning(\"'verbose_eval' argument is deprecated and will be removed in a future release of LightGBM. \"\n",
            "num_leaves, val_score: 0.923480:  60%|######    | 12/20 [00:02<00:01,  4.73it/s][I 2023-07-04 00:25:00,638] Trial 18 finished with value: 0.9234800838574424 and parameters: {'num_leaves': 54}. Best is trial 7 with value: 0.9234800838574424.\n",
            "num_leaves, val_score: 0.923480:  60%|######    | 12/20 [00:02<00:01,  4.73it/s]"
          ]
        },
        {
          "name": "stdout",
          "output_type": "stream",
          "text": [
            "[20]\tvalid_0's auc: 0.847631\tvalid_1's auc: 0.919025\n",
            "[30]\tvalid_0's auc: 0.847631\tvalid_1's auc: 0.919025\n",
            "[40]\tvalid_0's auc: 0.85341\tvalid_1's auc: 0.92086\n",
            "[50]\tvalid_0's auc: 0.85492\tvalid_1's auc: 0.92348\n",
            "[60]\tvalid_0's auc: 0.854329\tvalid_1's auc: 0.92348\n",
            "[70]\tvalid_0's auc: 0.854329\tvalid_1's auc: 0.92348\n",
            "[80]\tvalid_0's auc: 0.854329\tvalid_1's auc: 0.92348\n",
            "[90]\tvalid_0's auc: 0.854329\tvalid_1's auc: 0.92348\n",
            "Early stopping, best iteration is:\n",
            "[47]\tvalid_0's auc: 0.854953\tvalid_1's auc: 0.92348\n",
            "[10]\tvalid_0's auc: 0.845908\tvalid_1's auc: 0.921646\n"
          ]
        },
        {
          "name": "stderr",
          "output_type": "stream",
          "text": [
            "c:\\Users\\daich\\AppData\\Local\\Programs\\Python\\Python38\\lib\\site-packages\\lightgbm\\engine.py:239: UserWarning: 'verbose_eval' argument is deprecated and will be removed in a future release of LightGBM. Pass 'log_evaluation()' callback via 'callbacks' argument instead.\n",
            "  _log_warning(\"'verbose_eval' argument is deprecated and will be removed in a future release of LightGBM. \"\n",
            "num_leaves, val_score: 0.923480:  65%|######5   | 13/20 [00:02<00:01,  4.80it/s][I 2023-07-04 00:25:00,839] Trial 19 finished with value: 0.9234800838574424 and parameters: {'num_leaves': 125}. Best is trial 7 with value: 0.9234800838574424.\n",
            "num_leaves, val_score: 0.923480:  65%|######5   | 13/20 [00:02<00:01,  4.80it/s]"
          ]
        },
        {
          "name": "stdout",
          "output_type": "stream",
          "text": [
            "[20]\tvalid_0's auc: 0.847631\tvalid_1's auc: 0.919025\n",
            "[30]\tvalid_0's auc: 0.847631\tvalid_1's auc: 0.919025\n",
            "[40]\tvalid_0's auc: 0.85341\tvalid_1's auc: 0.92086\n",
            "[50]\tvalid_0's auc: 0.85492\tvalid_1's auc: 0.92348\n",
            "[60]\tvalid_0's auc: 0.854329\tvalid_1's auc: 0.92348\n",
            "[70]\tvalid_0's auc: 0.854329\tvalid_1's auc: 0.92348\n",
            "[80]\tvalid_0's auc: 0.854329\tvalid_1's auc: 0.92348\n",
            "[90]\tvalid_0's auc: 0.854329\tvalid_1's auc: 0.92348\n",
            "Early stopping, best iteration is:\n",
            "[47]\tvalid_0's auc: 0.854953\tvalid_1's auc: 0.92348\n",
            "[10]\tvalid_0's auc: 0.845908\tvalid_1's auc: 0.921646\n"
          ]
        },
        {
          "name": "stderr",
          "output_type": "stream",
          "text": [
            "c:\\Users\\daich\\AppData\\Local\\Programs\\Python\\Python38\\lib\\site-packages\\lightgbm\\engine.py:239: UserWarning: 'verbose_eval' argument is deprecated and will be removed in a future release of LightGBM. Pass 'log_evaluation()' callback via 'callbacks' argument instead.\n",
            "  _log_warning(\"'verbose_eval' argument is deprecated and will be removed in a future release of LightGBM. \"\n",
            "num_leaves, val_score: 0.923480:  70%|#######   | 14/20 [00:02<00:01,  4.81it/s][I 2023-07-04 00:25:01,046] Trial 20 finished with value: 0.9234800838574424 and parameters: {'num_leaves': 115}. Best is trial 7 with value: 0.9234800838574424.\n",
            "num_leaves, val_score: 0.923480:  70%|#######   | 14/20 [00:02<00:01,  4.81it/s]"
          ]
        },
        {
          "name": "stdout",
          "output_type": "stream",
          "text": [
            "[20]\tvalid_0's auc: 0.847631\tvalid_1's auc: 0.919025\n",
            "[30]\tvalid_0's auc: 0.847631\tvalid_1's auc: 0.919025\n",
            "[40]\tvalid_0's auc: 0.85341\tvalid_1's auc: 0.92086\n",
            "[50]\tvalid_0's auc: 0.85492\tvalid_1's auc: 0.92348\n",
            "[60]\tvalid_0's auc: 0.854329\tvalid_1's auc: 0.92348\n",
            "[70]\tvalid_0's auc: 0.854329\tvalid_1's auc: 0.92348\n",
            "[80]\tvalid_0's auc: 0.854329\tvalid_1's auc: 0.92348\n",
            "[90]\tvalid_0's auc: 0.854329\tvalid_1's auc: 0.92348\n",
            "Early stopping, best iteration is:\n",
            "[47]\tvalid_0's auc: 0.854953\tvalid_1's auc: 0.92348\n",
            "[10]\tvalid_0's auc: 0.845908\tvalid_1's auc: 0.921646\n",
            "[20]\tvalid_0's auc: 0.847631\tvalid_1's auc: 0.919025\n",
            "[30]\tvalid_0's auc: 0.847631\tvalid_1's auc: 0.919025\n",
            "[40]\tvalid_0's auc: 0.85341\tvalid_1's auc: 0.92086\n"
          ]
        },
        {
          "name": "stderr",
          "output_type": "stream",
          "text": [
            "c:\\Users\\daich\\AppData\\Local\\Programs\\Python\\Python38\\lib\\site-packages\\lightgbm\\engine.py:239: UserWarning: 'verbose_eval' argument is deprecated and will be removed in a future release of LightGBM. Pass 'log_evaluation()' callback via 'callbacks' argument instead.\n",
            "  _log_warning(\"'verbose_eval' argument is deprecated and will be removed in a future release of LightGBM. \"\n",
            "num_leaves, val_score: 0.923480:  75%|#######5  | 15/20 [00:03<00:01,  4.93it/s][I 2023-07-04 00:25:01,238] Trial 21 finished with value: 0.9234800838574424 and parameters: {'num_leaves': 46}. Best is trial 7 with value: 0.9234800838574424.\n",
            "num_leaves, val_score: 0.923480:  75%|#######5  | 15/20 [00:03<00:01,  4.93it/s]"
          ]
        },
        {
          "name": "stdout",
          "output_type": "stream",
          "text": [
            "[50]\tvalid_0's auc: 0.85492\tvalid_1's auc: 0.92348\n",
            "[60]\tvalid_0's auc: 0.854329\tvalid_1's auc: 0.92348\n",
            "[70]\tvalid_0's auc: 0.854329\tvalid_1's auc: 0.92348\n",
            "[80]\tvalid_0's auc: 0.854329\tvalid_1's auc: 0.92348\n",
            "[90]\tvalid_0's auc: 0.854329\tvalid_1's auc: 0.92348\n",
            "Early stopping, best iteration is:\n",
            "[47]\tvalid_0's auc: 0.854953\tvalid_1's auc: 0.92348\n",
            "[10]\tvalid_0's auc: 0.845908\tvalid_1's auc: 0.921646\n",
            "[20]\tvalid_0's auc: 0.847631\tvalid_1's auc: 0.919025\n",
            "[30]\tvalid_0's auc: 0.847631\tvalid_1's auc: 0.919025\n",
            "[40]\tvalid_0's auc: 0.85341\tvalid_1's auc: 0.92086\n",
            "[50]\tvalid_0's auc: 0.85492\tvalid_1's auc: 0.92348\n",
            "[60]\tvalid_0's auc: 0.854329\tvalid_1's auc: 0.92348\n",
            "[70]\tvalid_0's auc: 0.854329\tvalid_1's auc: 0.92348\n",
            "[80]\tvalid_0's auc: 0.854329\tvalid_1's auc: 0.92348\n",
            "[90]\tvalid_0's auc: 0.854329\tvalid_1's auc: 0.92348\n",
            "Early stopping, best iteration is:\n",
            "[47]\tvalid_0's auc: 0.854953\tvalid_1's auc: 0.92348\n"
          ]
        },
        {
          "name": "stderr",
          "output_type": "stream",
          "text": [
            "c:\\Users\\daich\\AppData\\Local\\Programs\\Python\\Python38\\lib\\site-packages\\lightgbm\\engine.py:239: UserWarning: 'verbose_eval' argument is deprecated and will be removed in a future release of LightGBM. Pass 'log_evaluation()' callback via 'callbacks' argument instead.\n",
            "  _log_warning(\"'verbose_eval' argument is deprecated and will be removed in a future release of LightGBM. \"\n",
            "num_leaves, val_score: 0.923480:  80%|########  | 16/20 [00:03<00:00,  5.01it/s][I 2023-07-04 00:25:01,430] Trial 22 finished with value: 0.9234800838574424 and parameters: {'num_leaves': 196}. Best is trial 7 with value: 0.9234800838574424.\n",
            "num_leaves, val_score: 0.923480:  80%|########  | 16/20 [00:03<00:00,  5.01it/s]c:\\Users\\daich\\AppData\\Local\\Programs\\Python\\Python38\\lib\\site-packages\\lightgbm\\engine.py:239: UserWarning: 'verbose_eval' argument is deprecated and will be removed in a future release of LightGBM. Pass 'log_evaluation()' callback via 'callbacks' argument instead.\n",
            "  _log_warning(\"'verbose_eval' argument is deprecated and will be removed in a future release of LightGBM. \"\n",
            "num_leaves, val_score: 0.923480:  85%|########5 | 17/20 [00:03<00:00,  5.03it/s][I 2023-07-04 00:25:01,627] Trial 23 finished with value: 0.9234800838574424 and parameters: {'num_leaves': 153}. Best is trial 7 with value: 0.9234800838574424.\n",
            "num_leaves, val_score: 0.923480:  85%|########5 | 17/20 [00:03<00:00,  5.03it/s]"
          ]
        },
        {
          "name": "stdout",
          "output_type": "stream",
          "text": [
            "[10]\tvalid_0's auc: 0.845908\tvalid_1's auc: 0.921646\n",
            "[20]\tvalid_0's auc: 0.847631\tvalid_1's auc: 0.919025\n",
            "[30]\tvalid_0's auc: 0.847631\tvalid_1's auc: 0.919025\n",
            "[40]\tvalid_0's auc: 0.85341\tvalid_1's auc: 0.92086\n",
            "[50]\tvalid_0's auc: 0.85492\tvalid_1's auc: 0.92348\n",
            "[60]\tvalid_0's auc: 0.854329\tvalid_1's auc: 0.92348\n",
            "[70]\tvalid_0's auc: 0.854329\tvalid_1's auc: 0.92348\n",
            "[80]\tvalid_0's auc: 0.854329\tvalid_1's auc: 0.92348\n",
            "[90]\tvalid_0's auc: 0.854329\tvalid_1's auc: 0.92348\n",
            "Early stopping, best iteration is:\n",
            "[47]\tvalid_0's auc: 0.854953\tvalid_1's auc: 0.92348\n"
          ]
        },
        {
          "name": "stderr",
          "output_type": "stream",
          "text": [
            "c:\\Users\\daich\\AppData\\Local\\Programs\\Python\\Python38\\lib\\site-packages\\lightgbm\\engine.py:239: UserWarning: 'verbose_eval' argument is deprecated and will be removed in a future release of LightGBM. Pass 'log_evaluation()' callback via 'callbacks' argument instead.\n",
            "  _log_warning(\"'verbose_eval' argument is deprecated and will be removed in a future release of LightGBM. \"\n",
            "num_leaves, val_score: 0.923480:  90%|######### | 18/20 [00:03<00:00,  5.08it/s][I 2023-07-04 00:25:01,818] Trial 24 finished with value: 0.9234800838574424 and parameters: {'num_leaves': 246}. Best is trial 7 with value: 0.9234800838574424.\n",
            "num_leaves, val_score: 0.923480:  90%|######### | 18/20 [00:03<00:00,  5.08it/s]"
          ]
        },
        {
          "name": "stdout",
          "output_type": "stream",
          "text": [
            "[10]\tvalid_0's auc: 0.845908\tvalid_1's auc: 0.921646\n",
            "[20]\tvalid_0's auc: 0.847631\tvalid_1's auc: 0.919025\n",
            "[30]\tvalid_0's auc: 0.847631\tvalid_1's auc: 0.919025\n",
            "[40]\tvalid_0's auc: 0.85341\tvalid_1's auc: 0.92086\n",
            "[50]\tvalid_0's auc: 0.85492\tvalid_1's auc: 0.92348\n",
            "[60]\tvalid_0's auc: 0.854329\tvalid_1's auc: 0.92348\n",
            "[70]\tvalid_0's auc: 0.854329\tvalid_1's auc: 0.92348\n",
            "[80]\tvalid_0's auc: 0.854329\tvalid_1's auc: 0.92348\n",
            "[90]\tvalid_0's auc: 0.854329\tvalid_1's auc: 0.92348\n",
            "Early stopping, best iteration is:\n",
            "[47]\tvalid_0's auc: 0.854953\tvalid_1's auc: 0.92348\n",
            "[10]\tvalid_0's auc: 0.845908\tvalid_1's auc: 0.921646\n"
          ]
        },
        {
          "name": "stderr",
          "output_type": "stream",
          "text": [
            "c:\\Users\\daich\\AppData\\Local\\Programs\\Python\\Python38\\lib\\site-packages\\lightgbm\\engine.py:239: UserWarning: 'verbose_eval' argument is deprecated and will be removed in a future release of LightGBM. Pass 'log_evaluation()' callback via 'callbacks' argument instead.\n",
            "  _log_warning(\"'verbose_eval' argument is deprecated and will be removed in a future release of LightGBM. \"\n",
            "num_leaves, val_score: 0.923480:  95%|#########5| 19/20 [00:03<00:00,  5.15it/s][I 2023-07-04 00:25:02,008] Trial 25 finished with value: 0.9234800838574424 and parameters: {'num_leaves': 25}. Best is trial 7 with value: 0.9234800838574424.\n",
            "num_leaves, val_score: 0.923480:  95%|#########5| 19/20 [00:03<00:00,  5.15it/s]"
          ]
        },
        {
          "name": "stdout",
          "output_type": "stream",
          "text": [
            "[20]\tvalid_0's auc: 0.847631\tvalid_1's auc: 0.919025\n",
            "[30]\tvalid_0's auc: 0.847631\tvalid_1's auc: 0.919025\n",
            "[40]\tvalid_0's auc: 0.85341\tvalid_1's auc: 0.92086\n",
            "[50]\tvalid_0's auc: 0.85492\tvalid_1's auc: 0.92348\n",
            "[60]\tvalid_0's auc: 0.854329\tvalid_1's auc: 0.92348\n",
            "[70]\tvalid_0's auc: 0.854329\tvalid_1's auc: 0.92348\n",
            "[80]\tvalid_0's auc: 0.854329\tvalid_1's auc: 0.92348\n",
            "[90]\tvalid_0's auc: 0.854329\tvalid_1's auc: 0.92348\n",
            "Early stopping, best iteration is:\n",
            "[47]\tvalid_0's auc: 0.854953\tvalid_1's auc: 0.92348\n",
            "[10]\tvalid_0's auc: 0.845908\tvalid_1's auc: 0.921646\n",
            "[20]\tvalid_0's auc: 0.847631\tvalid_1's auc: 0.919025\n"
          ]
        },
        {
          "name": "stderr",
          "output_type": "stream",
          "text": [
            "c:\\Users\\daich\\AppData\\Local\\Programs\\Python\\Python38\\lib\\site-packages\\lightgbm\\engine.py:239: UserWarning: 'verbose_eval' argument is deprecated and will be removed in a future release of LightGBM. Pass 'log_evaluation()' callback via 'callbacks' argument instead.\n",
            "  _log_warning(\"'verbose_eval' argument is deprecated and will be removed in a future release of LightGBM. \"\n",
            "num_leaves, val_score: 0.923480: 100%|##########| 20/20 [00:04<00:00,  5.12it/s][I 2023-07-04 00:25:02,205] Trial 26 finished with value: 0.9234800838574424 and parameters: {'num_leaves': 92}. Best is trial 7 with value: 0.9234800838574424.\n",
            "num_leaves, val_score: 0.923480: 100%|##########| 20/20 [00:04<00:00,  4.93it/s]\n"
          ]
        },
        {
          "name": "stdout",
          "output_type": "stream",
          "text": [
            "[30]\tvalid_0's auc: 0.847631\tvalid_1's auc: 0.919025\n",
            "[40]\tvalid_0's auc: 0.85341\tvalid_1's auc: 0.92086\n",
            "[50]\tvalid_0's auc: 0.85492\tvalid_1's auc: 0.92348\n",
            "[60]\tvalid_0's auc: 0.854329\tvalid_1's auc: 0.92348\n",
            "[70]\tvalid_0's auc: 0.854329\tvalid_1's auc: 0.92348\n",
            "[80]\tvalid_0's auc: 0.854329\tvalid_1's auc: 0.92348\n",
            "[90]\tvalid_0's auc: 0.854329\tvalid_1's auc: 0.92348\n",
            "Early stopping, best iteration is:\n",
            "[47]\tvalid_0's auc: 0.854953\tvalid_1's auc: 0.92348\n"
          ]
        },
        {
          "name": "stderr",
          "output_type": "stream",
          "text": [
            "bagging, val_score: 0.923480:   0%|          | 0/10 [00:00<?, ?it/s]"
          ]
        },
        {
          "name": "stdout",
          "output_type": "stream",
          "text": [
            "[10]\tvalid_0's auc: 0.8366\tvalid_1's auc: 0.900943"
          ]
        },
        {
          "name": "stderr",
          "output_type": "stream",
          "text": [
            "c:\\Users\\daich\\AppData\\Local\\Programs\\Python\\Python38\\lib\\site-packages\\lightgbm\\engine.py:239: UserWarning: 'verbose_eval' argument is deprecated and will be removed in a future release of LightGBM. Pass 'log_evaluation()' callback via 'callbacks' argument instead.\n",
            "  _log_warning(\"'verbose_eval' argument is deprecated and will be removed in a future release of LightGBM. \"\n",
            "bagging, val_score: 0.923480:  10%|#         | 1/10 [00:00<00:02,  3.23it/s][I 2023-07-04 00:25:02,518] Trial 27 finished with value: 0.9234800838574424 and parameters: {'bagging_fraction': 0.7267648306966621, 'bagging_freq': 3}. Best is trial 27 with value: 0.9234800838574424.\n",
            "bagging, val_score: 0.923480:  10%|#         | 1/10 [00:00<00:02,  3.23it/s]"
          ]
        },
        {
          "name": "stdout",
          "output_type": "stream",
          "text": [
            "\n",
            "[20]\tvalid_0's auc: 0.841771\tvalid_1's auc: 0.902254\n",
            "[30]\tvalid_0's auc: 0.841508\tvalid_1's auc: 0.902254\n",
            "[40]\tvalid_0's auc: 0.851899\tvalid_1's auc: 0.908019\n",
            "[50]\tvalid_0's auc: 0.856134\tvalid_1's auc: 0.912736\n",
            "[60]\tvalid_0's auc: 0.855658\tvalid_1's auc: 0.912998\n",
            "[70]\tvalid_0's auc: 0.857349\tvalid_1's auc: 0.915618\n",
            "[80]\tvalid_0's auc: 0.858203\tvalid_1's auc: 0.915881\n",
            "[90]\tvalid_0's auc: 0.857858\tvalid_1's auc: 0.915881\n",
            "Early stopping, best iteration is:\n",
            "[47]\tvalid_0's auc: 0.854953\tvalid_1's auc: 0.92348\n"
          ]
        },
        {
          "name": "stderr",
          "output_type": "stream",
          "text": [
            "c:\\Users\\daich\\AppData\\Local\\Programs\\Python\\Python38\\lib\\site-packages\\lightgbm\\engine.py:239: UserWarning: 'verbose_eval' argument is deprecated and will be removed in a future release of LightGBM. Pass 'log_evaluation()' callback via 'callbacks' argument instead.\n",
            "  _log_warning(\"'verbose_eval' argument is deprecated and will be removed in a future release of LightGBM. \"\n",
            "bagging, val_score: 0.923480:  20%|##        | 2/10 [00:00<00:01,  4.02it/s][I 2023-07-04 00:25:02,724] Trial 28 finished with value: 0.9234800838574424 and parameters: {'bagging_fraction': 0.41926807819981, 'bagging_freq': 7}. Best is trial 27 with value: 0.9234800838574424.\n",
            "bagging, val_score: 0.923480:  20%|##        | 2/10 [00:00<00:01,  4.02it/s]"
          ]
        },
        {
          "name": "stdout",
          "output_type": "stream",
          "text": [
            "[10]\tvalid_0's auc: 0.818083\tvalid_1's auc: 0.868973\n",
            "[20]\tvalid_0's auc: 0.825011\tvalid_1's auc: 0.853512\n",
            "[30]\tvalid_0's auc: 0.829312\tvalid_1's auc: 0.872117\n",
            "[40]\tvalid_0's auc: 0.837027\tvalid_1's auc: 0.888627\n",
            "[50]\tvalid_0's auc: 0.83335\tvalid_1's auc: 0.899371\n",
            "[60]\tvalid_0's auc: 0.834088\tvalid_1's auc: 0.902516\n",
            "[70]\tvalid_0's auc: 0.835303\tvalid_1's auc: 0.906709\n",
            "[80]\tvalid_0's auc: 0.837831\tvalid_1's auc: 0.905398\n",
            "[90]\tvalid_0's auc: 0.837815\tvalid_1's auc: 0.907233\n",
            "Early stopping, best iteration is:\n",
            "[47]\tvalid_0's auc: 0.854953\tvalid_1's auc: 0.92348\n"
          ]
        },
        {
          "name": "stderr",
          "output_type": "stream",
          "text": [
            "c:\\Users\\daich\\AppData\\Local\\Programs\\Python\\Python38\\lib\\site-packages\\lightgbm\\engine.py:239: UserWarning: 'verbose_eval' argument is deprecated and will be removed in a future release of LightGBM. Pass 'log_evaluation()' callback via 'callbacks' argument instead.\n",
            "  _log_warning(\"'verbose_eval' argument is deprecated and will be removed in a future release of LightGBM. \"\n",
            "bagging, val_score: 0.926101:  30%|###       | 3/10 [00:00<00:01,  4.48it/s][I 2023-07-04 00:25:02,917] Trial 29 finished with value: 0.9261006289308176 and parameters: {'bagging_fraction': 0.9870715854395984, 'bagging_freq': 1}. Best is trial 29 with value: 0.9261006289308176.\n",
            "bagging, val_score: 0.926101:  30%|###       | 3/10 [00:00<00:01,  4.48it/s]"
          ]
        },
        {
          "name": "stdout",
          "output_type": "stream",
          "text": [
            "[10]\tvalid_0's auc: 0.844644\tvalid_1's auc: 0.917453\n",
            "[20]\tvalid_0's auc: 0.845317\tvalid_1's auc: 0.917453\n",
            "[30]\tvalid_0's auc: 0.850947\tvalid_1's auc: 0.919025\n",
            "[40]\tvalid_0's auc: 0.853295\tvalid_1's auc: 0.921122\n",
            "[50]\tvalid_0's auc: 0.858662\tvalid_1's auc: 0.926101\n",
            "[60]\tvalid_0's auc: 0.858662\tvalid_1's auc: 0.926101\n",
            "[70]\tvalid_0's auc: 0.858564\tvalid_1's auc: 0.926101\n",
            "[80]\tvalid_0's auc: 0.858564\tvalid_1's auc: 0.926101\n",
            "[90]\tvalid_0's auc: 0.858564\tvalid_1's auc: 0.926101\n",
            "Early stopping, best iteration is:\n",
            "[47]\tvalid_0's auc: 0.858761\tvalid_1's auc: 0.926101\n",
            "[10]\tvalid_0's auc: 0.844676\tvalid_1's auc: 0.917453\n"
          ]
        },
        {
          "name": "stderr",
          "output_type": "stream",
          "text": [
            "c:\\Users\\daich\\AppData\\Local\\Programs\\Python\\Python38\\lib\\site-packages\\lightgbm\\engine.py:239: UserWarning: 'verbose_eval' argument is deprecated and will be removed in a future release of LightGBM. Pass 'log_evaluation()' callback via 'callbacks' argument instead.\n",
            "  _log_warning(\"'verbose_eval' argument is deprecated and will be removed in a future release of LightGBM. \"\n",
            "bagging, val_score: 0.926101:  40%|####      | 4/10 [00:00<00:01,  4.92it/s][I 2023-07-04 00:25:03,089] Trial 30 finished with value: 0.9261006289308176 and parameters: {'bagging_fraction': 0.99311809337027, 'bagging_freq': 1}. Best is trial 29 with value: 0.9261006289308176.\n",
            "bagging, val_score: 0.926101:  40%|####      | 4/10 [00:00<00:01,  4.92it/s]c:\\Users\\daich\\AppData\\Local\\Programs\\Python\\Python38\\lib\\site-packages\\lightgbm\\engine.py:239: UserWarning: 'verbose_eval' argument is deprecated and will be removed in a future release of LightGBM. Pass 'log_evaluation()' callback via 'callbacks' argument instead.\n",
            "  _log_warning(\"'verbose_eval' argument is deprecated and will be removed in a future release of LightGBM. \"\n"
          ]
        },
        {
          "name": "stdout",
          "output_type": "stream",
          "text": [
            "[20]\tvalid_0's auc: 0.84686\tvalid_1's auc: 0.919025\n",
            "[30]\tvalid_0's auc: 0.84686\tvalid_1's auc: 0.919025\n",
            "[40]\tvalid_0's auc: 0.853787\tvalid_1's auc: 0.921646\n",
            "[50]\tvalid_0's auc: 0.855084\tvalid_1's auc: 0.92348\n",
            "[60]\tvalid_0's auc: 0.854591\tvalid_1's auc: 0.92348\n",
            "[70]\tvalid_0's auc: 0.854591\tvalid_1's auc: 0.92348\n",
            "[80]\tvalid_0's auc: 0.854493\tvalid_1's auc: 0.92348\n",
            "[90]\tvalid_0's auc: 0.854493\tvalid_1's auc: 0.92348\n",
            "Early stopping, best iteration is:\n",
            "[47]\tvalid_0's auc: 0.858761\tvalid_1's auc: 0.926101\n",
            "[10]\tvalid_0's auc: 0.844676\tvalid_1's auc: 0.917453\n",
            "[20]\tvalid_0's auc: 0.84686\tvalid_1's auc: 0.919025\n",
            "[30]\tvalid_0's auc: 0.84686\tvalid_1's auc: 0.919025\n",
            "[40]\tvalid_0's auc: 0.853787\tvalid_1's auc: 0.921646\n",
            "[50]\tvalid_0's auc: 0.855084\tvalid_1's auc: 0.92348\n"
          ]
        },
        {
          "name": "stderr",
          "output_type": "stream",
          "text": [
            "bagging, val_score: 0.926101:  50%|#####     | 5/10 [00:01<00:00,  5.14it/s][I 2023-07-04 00:25:03,268] Trial 31 finished with value: 0.9261006289308176 and parameters: {'bagging_fraction': 0.9920005478777968, 'bagging_freq': 1}. Best is trial 29 with value: 0.9261006289308176.\n",
            "bagging, val_score: 0.926101:  50%|#####     | 5/10 [00:01<00:00,  5.14it/s]c:\\Users\\daich\\AppData\\Local\\Programs\\Python\\Python38\\lib\\site-packages\\lightgbm\\engine.py:239: UserWarning: 'verbose_eval' argument is deprecated and will be removed in a future release of LightGBM. Pass 'log_evaluation()' callback via 'callbacks' argument instead.\n",
            "  _log_warning(\"'verbose_eval' argument is deprecated and will be removed in a future release of LightGBM. \"\n"
          ]
        },
        {
          "name": "stdout",
          "output_type": "stream",
          "text": [
            "[60]\tvalid_0's auc: 0.854591\tvalid_1's auc: 0.92348\n",
            "[70]\tvalid_0's auc: 0.854591\tvalid_1's auc: 0.92348\n",
            "[80]\tvalid_0's auc: 0.854493\tvalid_1's auc: 0.92348\n",
            "[90]\tvalid_0's auc: 0.854493\tvalid_1's auc: 0.92348\n",
            "Early stopping, best iteration is:\n",
            "[47]\tvalid_0's auc: 0.858761\tvalid_1's auc: 0.926101\n",
            "[10]\tvalid_0's auc: 0.844676\tvalid_1's auc: 0.917453\n",
            "[20]\tvalid_0's auc: 0.84686\tvalid_1's auc: 0.919025\n",
            "[30]\tvalid_0's auc: 0.84686\tvalid_1's auc: 0.919025\n",
            "[40]\tvalid_0's auc: 0.853787\tvalid_1's auc: 0.921646\n",
            "[50]\tvalid_0's auc: 0.855084\tvalid_1's auc: 0.92348\n",
            "[60]\tvalid_0's auc: 0.854591\tvalid_1's auc: 0.92348\n",
            "[70]\tvalid_0's auc: 0.854591\tvalid_1's auc: 0.92348\n",
            "[80]\tvalid_0's auc: 0.854493\tvalid_1's auc: 0.92348\n",
            "[90]\tvalid_0's auc: 0.854493\tvalid_1's auc: 0.92348\n"
          ]
        },
        {
          "name": "stderr",
          "output_type": "stream",
          "text": [
            "bagging, val_score: 0.926101:  60%|######    | 6/10 [00:01<00:00,  5.26it/s][I 2023-07-04 00:25:03,450] Trial 32 finished with value: 0.9261006289308176 and parameters: {'bagging_fraction': 0.9920841553570194, 'bagging_freq': 1}. Best is trial 29 with value: 0.9261006289308176.\n",
            "bagging, val_score: 0.926101:  60%|######    | 6/10 [00:01<00:00,  5.26it/s]c:\\Users\\daich\\AppData\\Local\\Programs\\Python\\Python38\\lib\\site-packages\\lightgbm\\engine.py:239: UserWarning: 'verbose_eval' argument is deprecated and will be removed in a future release of LightGBM. Pass 'log_evaluation()' callback via 'callbacks' argument instead.\n",
            "  _log_warning(\"'verbose_eval' argument is deprecated and will be removed in a future release of LightGBM. \"\n"
          ]
        },
        {
          "name": "stdout",
          "output_type": "stream",
          "text": [
            "Early stopping, best iteration is:\n",
            "[47]\tvalid_0's auc: 0.858761\tvalid_1's auc: 0.926101\n",
            "[10]\tvalid_0's auc: 0.845908\tvalid_1's auc: 0.921646\n",
            "[20]\tvalid_0's auc: 0.847631\tvalid_1's auc: 0.919025\n",
            "[30]\tvalid_0's auc: 0.847631\tvalid_1's auc: 0.919025\n",
            "[40]\tvalid_0's auc: 0.85341\tvalid_1's auc: 0.92086\n",
            "[50]\tvalid_0's auc: 0.855117\tvalid_1's auc: 0.92348\n",
            "[60]\tvalid_0's auc: 0.854591\tvalid_1's auc: 0.92348\n",
            "[70]\tvalid_0's auc: 0.854526\tvalid_1's auc: 0.92348\n",
            "[80]\tvalid_0's auc: 0.854526\tvalid_1's auc: 0.92348\n",
            "[90]\tvalid_0's auc: 0.854526\tvalid_1's auc: 0.92348\n",
            "Early stopping, best iteration is:\n",
            "[47]\tvalid_0's auc: 0.858761\tvalid_1's auc: 0.926101\n"
          ]
        },
        {
          "name": "stderr",
          "output_type": "stream",
          "text": [
            "bagging, val_score: 0.926101:  70%|#######   | 7/10 [00:01<00:00,  5.37it/s][I 2023-07-04 00:25:03,627] Trial 33 finished with value: 0.9261006289308176 and parameters: {'bagging_fraction': 0.9960732766527021, 'bagging_freq': 1}. Best is trial 29 with value: 0.9261006289308176.\n",
            "bagging, val_score: 0.926101:  70%|#######   | 7/10 [00:01<00:00,  5.37it/s]c:\\Users\\daich\\AppData\\Local\\Programs\\Python\\Python38\\lib\\site-packages\\lightgbm\\engine.py:239: UserWarning: 'verbose_eval' argument is deprecated and will be removed in a future release of LightGBM. Pass 'log_evaluation()' callback via 'callbacks' argument instead.\n",
            "  _log_warning(\"'verbose_eval' argument is deprecated and will be removed in a future release of LightGBM. \"\n",
            "bagging, val_score: 0.926101:  80%|########  | 8/10 [00:01<00:00,  5.26it/s][I 2023-07-04 00:25:03,826] Trial 34 finished with value: 0.9261006289308176 and parameters: {'bagging_fraction': 0.9936164990815116, 'bagging_freq': 1}. Best is trial 29 with value: 0.9261006289308176.\n",
            "bagging, val_score: 0.926101:  80%|########  | 8/10 [00:01<00:00,  5.26it/s]"
          ]
        },
        {
          "name": "stdout",
          "output_type": "stream",
          "text": [
            "[10]\tvalid_0's auc: 0.844676\tvalid_1's auc: 0.917453\n",
            "[20]\tvalid_0's auc: 0.84686\tvalid_1's auc: 0.919025\n",
            "[30]\tvalid_0's auc: 0.84686\tvalid_1's auc: 0.919025\n",
            "[40]\tvalid_0's auc: 0.853787\tvalid_1's auc: 0.921646\n",
            "[50]\tvalid_0's auc: 0.855084\tvalid_1's auc: 0.92348\n",
            "[60]\tvalid_0's auc: 0.854591\tvalid_1's auc: 0.92348\n",
            "[70]\tvalid_0's auc: 0.854591\tvalid_1's auc: 0.92348\n",
            "[80]\tvalid_0's auc: 0.854493\tvalid_1's auc: 0.92348\n",
            "[90]\tvalid_0's auc: 0.854493\tvalid_1's auc: 0.92348\n",
            "Early stopping, best iteration is:\n",
            "[47]\tvalid_0's auc: 0.858761\tvalid_1's auc: 0.926101\n",
            "[10]\tvalid_0's auc: 0.846006\tvalid_1's auc: 0.919549\n",
            "[20]\tvalid_0's auc: 0.846023\tvalid_1's auc: 0.918501\n"
          ]
        },
        {
          "name": "stderr",
          "output_type": "stream",
          "text": [
            "c:\\Users\\daich\\AppData\\Local\\Programs\\Python\\Python38\\lib\\site-packages\\lightgbm\\engine.py:239: UserWarning: 'verbose_eval' argument is deprecated and will be removed in a future release of LightGBM. Pass 'log_evaluation()' callback via 'callbacks' argument instead.\n",
            "  _log_warning(\"'verbose_eval' argument is deprecated and will be removed in a future release of LightGBM. \"\n",
            "bagging, val_score: 0.931080:  90%|######### | 9/10 [00:01<00:00,  5.14it/s][I 2023-07-04 00:25:04,030] Trial 35 finished with value: 0.9310796645702306 and parameters: {'bagging_fraction': 0.9729562369151249, 'bagging_freq': 1}. Best is trial 35 with value: 0.9310796645702306.\n",
            "bagging, val_score: 0.931080:  90%|######### | 9/10 [00:01<00:00,  5.14it/s]"
          ]
        },
        {
          "name": "stdout",
          "output_type": "stream",
          "text": [
            "[30]\tvalid_0's auc: 0.84553\tvalid_1's auc: 0.918501\n",
            "[40]\tvalid_0's auc: 0.853377\tvalid_1's auc: 0.921908\n",
            "[50]\tvalid_0's auc: 0.858252\tvalid_1's auc: 0.923742\n",
            "[60]\tvalid_0's auc: 0.861289\tvalid_1's auc: 0.930031\n",
            "[70]\tvalid_0's auc: 0.861043\tvalid_1's auc: 0.93108\n",
            "[80]\tvalid_0's auc: 0.861141\tvalid_1's auc: 0.93108\n",
            "[90]\tvalid_0's auc: 0.861174\tvalid_1's auc: 0.93108\n",
            "[100]\tvalid_0's auc: 0.861437\tvalid_1's auc: 0.93108\n",
            "[110]\tvalid_0's auc: 0.861437\tvalid_1's auc: 0.93108\n",
            "Early stopping, best iteration is:\n",
            "[63]\tvalid_0's auc: 0.861043\tvalid_1's auc: 0.93108\n",
            "[10]\tvalid_0's auc: 0.846006\tvalid_1's auc: 0.919549\n",
            "[20]\tvalid_0's auc: 0.845711\tvalid_1's auc: 0.917453\n"
          ]
        },
        {
          "name": "stderr",
          "output_type": "stream",
          "text": [
            "c:\\Users\\daich\\AppData\\Local\\Programs\\Python\\Python38\\lib\\site-packages\\lightgbm\\engine.py:239: UserWarning: 'verbose_eval' argument is deprecated and will be removed in a future release of LightGBM. Pass 'log_evaluation()' callback via 'callbacks' argument instead.\n",
            "  _log_warning(\"'verbose_eval' argument is deprecated and will be removed in a future release of LightGBM. \"\n",
            "bagging, val_score: 0.931080: 100%|##########| 10/10 [00:02<00:00,  5.20it/s][I 2023-07-04 00:25:04,217] Trial 36 finished with value: 0.9310796645702306 and parameters: {'bagging_fraction': 0.984664773959699, 'bagging_freq': 1}. Best is trial 35 with value: 0.9310796645702306.\n",
            "bagging, val_score: 0.931080: 100%|##########| 10/10 [00:02<00:00,  4.97it/s]\n"
          ]
        },
        {
          "name": "stdout",
          "output_type": "stream",
          "text": [
            "[30]\tvalid_0's auc: 0.851374\tvalid_1's auc: 0.919025\n",
            "[40]\tvalid_0's auc: 0.854017\tvalid_1's auc: 0.921122\n",
            "[50]\tvalid_0's auc: 0.859385\tvalid_1's auc: 0.925577\n",
            "[60]\tvalid_0's auc: 0.859286\tvalid_1's auc: 0.925577\n",
            "[70]\tvalid_0's auc: 0.859188\tvalid_1's auc: 0.925577\n",
            "[80]\tvalid_0's auc: 0.859188\tvalid_1's auc: 0.925577\n",
            "[90]\tvalid_0's auc: 0.859188\tvalid_1's auc: 0.925577\n",
            "[100]\tvalid_0's auc: 0.859188\tvalid_1's auc: 0.925577\n",
            "[110]\tvalid_0's auc: 0.859188\tvalid_1's auc: 0.925577\n",
            "Early stopping, best iteration is:\n",
            "[63]\tvalid_0's auc: 0.861043\tvalid_1's auc: 0.93108\n"
          ]
        },
        {
          "name": "stderr",
          "output_type": "stream",
          "text": [
            "feature_fraction_stage2, val_score: 0.931080:   0%|          | 0/6 [00:00<?, ?it/s]"
          ]
        },
        {
          "name": "stdout",
          "output_type": "stream",
          "text": [
            "[10]\tvalid_0's auc: 0.846006\tvalid_1's auc: 0.919549\n",
            "[20]\tvalid_0's auc: 0.846023\tvalid_1's auc: 0.918501\n",
            "[30]\tvalid_0's auc: 0.84553\tvalid_1's auc: 0.918501\n",
            "[40]\tvalid_0's auc: 0.853377\tvalid_1's auc: 0.921908\n"
          ]
        },
        {
          "name": "stderr",
          "output_type": "stream",
          "text": [
            "c:\\Users\\daich\\AppData\\Local\\Programs\\Python\\Python38\\lib\\site-packages\\lightgbm\\engine.py:239: UserWarning: 'verbose_eval' argument is deprecated and will be removed in a future release of LightGBM. Pass 'log_evaluation()' callback via 'callbacks' argument instead.\n",
            "  _log_warning(\"'verbose_eval' argument is deprecated and will be removed in a future release of LightGBM. \"\n",
            "feature_fraction_stage2, val_score: 0.931080:  17%|#6        | 1/6 [00:00<00:01,  4.93it/s][I 2023-07-04 00:25:04,424] Trial 37 finished with value: 0.9310796645702306 and parameters: {'feature_fraction': 0.82}. Best is trial 37 with value: 0.9310796645702306.\n",
            "feature_fraction_stage2, val_score: 0.931080:  17%|#6        | 1/6 [00:00<00:01,  4.93it/s]"
          ]
        },
        {
          "name": "stdout",
          "output_type": "stream",
          "text": [
            "[50]\tvalid_0's auc: 0.858252\tvalid_1's auc: 0.923742\n",
            "[60]\tvalid_0's auc: 0.861289\tvalid_1's auc: 0.930031\n",
            "[70]\tvalid_0's auc: 0.861043\tvalid_1's auc: 0.93108\n",
            "[80]\tvalid_0's auc: 0.861141\tvalid_1's auc: 0.93108\n",
            "[90]\tvalid_0's auc: 0.861174\tvalid_1's auc: 0.93108\n",
            "[100]\tvalid_0's auc: 0.861437\tvalid_1's auc: 0.93108\n",
            "[110]\tvalid_0's auc: 0.861437\tvalid_1's auc: 0.93108\n",
            "Early stopping, best iteration is:\n",
            "[63]\tvalid_0's auc: 0.861043\tvalid_1's auc: 0.93108\n",
            "[10]\tvalid_0's auc: 0.846006\tvalid_1's auc: 0.919549\n",
            "[20]\tvalid_0's auc: 0.846023\tvalid_1's auc: 0.918501\n",
            "[30]\tvalid_0's auc: 0.84553\tvalid_1's auc: 0.918501\n",
            "[40]\tvalid_0's auc: 0.853377\tvalid_1's auc: 0.921908\n",
            "[50]\tvalid_0's auc: 0.858252\tvalid_1's auc: 0.923742\n",
            "[60]\tvalid_0's auc: 0.861289\tvalid_1's auc: 0.930031\n",
            "[70]\tvalid_0's auc: 0.861043\tvalid_1's auc: 0.93108\n",
            "[80]\tvalid_0's auc: 0.861141\tvalid_1's auc: 0.93108\n",
            "[90]\tvalid_0's auc: 0.861174\tvalid_1's auc: 0.93108\n",
            "[100]\tvalid_0's auc: 0.861437\tvalid_1's auc: 0.93108\n",
            "[110]\tvalid_0's auc: 0.861437\tvalid_1's auc: 0.93108\n",
            "Early stopping, best iteration is:\n",
            "[63]\tvalid_0's auc: 0.861043\tvalid_1's auc: 0.93108\n"
          ]
        },
        {
          "name": "stderr",
          "output_type": "stream",
          "text": [
            "c:\\Users\\daich\\AppData\\Local\\Programs\\Python\\Python38\\lib\\site-packages\\lightgbm\\engine.py:239: UserWarning: 'verbose_eval' argument is deprecated and will be removed in a future release of LightGBM. Pass 'log_evaluation()' callback via 'callbacks' argument instead.\n",
            "  _log_warning(\"'verbose_eval' argument is deprecated and will be removed in a future release of LightGBM. \"\n",
            "feature_fraction_stage2, val_score: 0.931080:  33%|###3      | 2/6 [00:00<00:00,  5.31it/s][I 2023-07-04 00:25:04,603] Trial 38 finished with value: 0.9310796645702306 and parameters: {'feature_fraction': 0.8839999999999999}. Best is trial 37 with value: 0.9310796645702306.\n",
            "feature_fraction_stage2, val_score: 0.931080:  33%|###3      | 2/6 [00:00<00:00,  5.31it/s]c:\\Users\\daich\\AppData\\Local\\Programs\\Python\\Python38\\lib\\site-packages\\lightgbm\\engine.py:239: UserWarning: 'verbose_eval' argument is deprecated and will be removed in a future release of LightGBM. Pass 'log_evaluation()' callback via 'callbacks' argument instead.\n",
            "  _log_warning(\"'verbose_eval' argument is deprecated and will be removed in a future release of LightGBM. \"\n"
          ]
        },
        {
          "name": "stdout",
          "output_type": "stream",
          "text": [
            "[10]\tvalid_0's auc: 0.846006\tvalid_1's auc: 0.919549\n",
            "[20]\tvalid_0's auc: 0.846023\tvalid_1's auc: 0.918501\n",
            "[30]\tvalid_0's auc: 0.84553\tvalid_1's auc: 0.918501\n",
            "[40]\tvalid_0's auc: 0.853377\tvalid_1's auc: 0.921908\n"
          ]
        },
        {
          "name": "stderr",
          "output_type": "stream",
          "text": [
            "feature_fraction_stage2, val_score: 0.931080:  50%|#####     | 3/6 [00:00<00:00,  5.07it/s][I 2023-07-04 00:25:04,810] Trial 39 finished with value: 0.9310796645702306 and parameters: {'feature_fraction': 0.9159999999999999}. Best is trial 37 with value: 0.9310796645702306.\n",
            "feature_fraction_stage2, val_score: 0.931080:  50%|#####     | 3/6 [00:00<00:00,  5.07it/s]"
          ]
        },
        {
          "name": "stdout",
          "output_type": "stream",
          "text": [
            "[50]\tvalid_0's auc: 0.858252\tvalid_1's auc: 0.923742\n",
            "[60]\tvalid_0's auc: 0.861289\tvalid_1's auc: 0.930031\n",
            "[70]\tvalid_0's auc: 0.861043\tvalid_1's auc: 0.93108\n",
            "[80]\tvalid_0's auc: 0.861141\tvalid_1's auc: 0.93108\n",
            "[90]\tvalid_0's auc: 0.861174\tvalid_1's auc: 0.93108\n",
            "[100]\tvalid_0's auc: 0.861437\tvalid_1's auc: 0.93108\n",
            "[110]\tvalid_0's auc: 0.861437\tvalid_1's auc: 0.93108\n",
            "Early stopping, best iteration is:\n",
            "[63]\tvalid_0's auc: 0.861043\tvalid_1's auc: 0.93108\n",
            "[10]\tvalid_0's auc: 0.837585\tvalid_1's auc: 0.910377\n",
            "[20]\tvalid_0's auc: 0.84031\tvalid_1's auc: 0.91326\n",
            "[30]\tvalid_0's auc: 0.849618\tvalid_1's auc: 0.916405\n",
            "[40]\tvalid_0's auc: 0.854296\tvalid_1's auc: 0.915356\n",
            "[50]\tvalid_0's auc: 0.859959\tvalid_1's auc: 0.919549\n",
            "[60]\tvalid_0's auc: 0.860485\tvalid_1's auc: 0.92217\n",
            "[70]\tvalid_0's auc: 0.861732\tvalid_1's auc: 0.92479\n"
          ]
        },
        {
          "name": "stderr",
          "output_type": "stream",
          "text": [
            "c:\\Users\\daich\\AppData\\Local\\Programs\\Python\\Python38\\lib\\site-packages\\lightgbm\\engine.py:239: UserWarning: 'verbose_eval' argument is deprecated and will be removed in a future release of LightGBM. Pass 'log_evaluation()' callback via 'callbacks' argument instead.\n",
            "  _log_warning(\"'verbose_eval' argument is deprecated and will be removed in a future release of LightGBM. \"\n",
            "feature_fraction_stage2, val_score: 0.935797:  67%|######6   | 4/6 [00:00<00:00,  4.88it/s][I 2023-07-04 00:25:05,027] Trial 40 finished with value: 0.935796645702306 and parameters: {'feature_fraction': 0.9799999999999999}. Best is trial 40 with value: 0.935796645702306.\n",
            "feature_fraction_stage2, val_score: 0.935797:  67%|######6   | 4/6 [00:00<00:00,  4.88it/s]"
          ]
        },
        {
          "name": "stdout",
          "output_type": "stream",
          "text": [
            "[80]\tvalid_0's auc: 0.866099\tvalid_1's auc: 0.932914\n",
            "[90]\tvalid_0's auc: 0.866263\tvalid_1's auc: 0.932914\n",
            "[100]\tvalid_0's auc: 0.866788\tvalid_1's auc: 0.932914\n",
            "[110]\tvalid_0's auc: 0.866887\tvalid_1's auc: 0.931604\n",
            "[120]\tvalid_0's auc: 0.866887\tvalid_1's auc: 0.934224\n",
            "[130]\tvalid_0's auc: 0.867675\tvalid_1's auc: 0.936321\n",
            "[140]\tvalid_0's auc: 0.866788\tvalid_1's auc: 0.936321\n",
            "[150]\tvalid_0's auc: 0.866821\tvalid_1's auc: 0.935797\n",
            "[160]\tvalid_0's auc: 0.866657\tvalid_1's auc: 0.935797\n",
            "[170]\tvalid_0's auc: 0.866525\tvalid_1's auc: 0.935797\n",
            "Early stopping, best iteration is:\n",
            "[124]\tvalid_0's auc: 0.867806\tvalid_1's auc: 0.935797\n",
            "[10]\tvalid_0's auc: 0.846006\tvalid_1's auc: 0.919549\n",
            "[20]\tvalid_0's auc: 0.846023\tvalid_1's auc: 0.918501\n",
            "[30]\tvalid_0's auc: 0.84553\tvalid_1's auc: 0.918501\n",
            "[40]\tvalid_0's auc: 0.853377\tvalid_1's auc: 0.921908\n",
            "[50]\tvalid_0's auc: 0.858252\tvalid_1's auc: 0.923742\n",
            "[60]\tvalid_0's auc: 0.861289\tvalid_1's auc: 0.930031\n"
          ]
        },
        {
          "name": "stderr",
          "output_type": "stream",
          "text": [
            "c:\\Users\\daich\\AppData\\Local\\Programs\\Python\\Python38\\lib\\site-packages\\lightgbm\\engine.py:239: UserWarning: 'verbose_eval' argument is deprecated and will be removed in a future release of LightGBM. Pass 'log_evaluation()' callback via 'callbacks' argument instead.\n",
            "  _log_warning(\"'verbose_eval' argument is deprecated and will be removed in a future release of LightGBM. \"\n",
            "feature_fraction_stage2, val_score: 0.935797:  83%|########3 | 5/6 [00:01<00:00,  4.84it/s][I 2023-07-04 00:25:05,237] Trial 41 finished with value: 0.935796645702306 and parameters: {'feature_fraction': 0.852}. Best is trial 40 with value: 0.935796645702306.\n",
            "feature_fraction_stage2, val_score: 0.935797:  83%|########3 | 5/6 [00:01<00:00,  4.84it/s]"
          ]
        },
        {
          "name": "stdout",
          "output_type": "stream",
          "text": [
            "[70]\tvalid_0's auc: 0.861043\tvalid_1's auc: 0.93108\n",
            "[80]\tvalid_0's auc: 0.861141\tvalid_1's auc: 0.93108\n",
            "[90]\tvalid_0's auc: 0.861174\tvalid_1's auc: 0.93108\n",
            "[100]\tvalid_0's auc: 0.861437\tvalid_1's auc: 0.93108\n",
            "[110]\tvalid_0's auc: 0.861437\tvalid_1's auc: 0.93108\n",
            "[120]\tvalid_0's auc: 0.861371\tvalid_1's auc: 0.931342\n",
            "[130]\tvalid_0's auc: 0.861387\tvalid_1's auc: 0.931342\n",
            "[140]\tvalid_0's auc: 0.861125\tvalid_1's auc: 0.931342\n",
            "[150]\tvalid_0's auc: 0.861125\tvalid_1's auc: 0.931342\n",
            "[160]\tvalid_0's auc: 0.861043\tvalid_1's auc: 0.931342\n",
            "[170]\tvalid_0's auc: 0.861043\tvalid_1's auc: 0.931342\n",
            "Early stopping, best iteration is:\n",
            "[124]\tvalid_0's auc: 0.867806\tvalid_1's auc: 0.935797\n",
            "[10]\tvalid_0's auc: 0.837585\tvalid_1's auc: 0.910377\n",
            "[20]\tvalid_0's auc: 0.84031\tvalid_1's auc: 0.91326\n",
            "[30]\tvalid_0's auc: 0.849618\tvalid_1's auc: 0.916405\n",
            "[40]\tvalid_0's auc: 0.854296\tvalid_1's auc: 0.915356\n",
            "[50]\tvalid_0's auc: 0.859959\tvalid_1's auc: 0.919549\n",
            "[60]\tvalid_0's auc: 0.860485\tvalid_1's auc: 0.92217\n"
          ]
        },
        {
          "name": "stderr",
          "output_type": "stream",
          "text": [
            "c:\\Users\\daich\\AppData\\Local\\Programs\\Python\\Python38\\lib\\site-packages\\lightgbm\\engine.py:239: UserWarning: 'verbose_eval' argument is deprecated and will be removed in a future release of LightGBM. Pass 'log_evaluation()' callback via 'callbacks' argument instead.\n",
            "  _log_warning(\"'verbose_eval' argument is deprecated and will be removed in a future release of LightGBM. \"\n",
            "feature_fraction_stage2, val_score: 0.935797: 100%|##########| 6/6 [00:01<00:00,  4.71it/s][I 2023-07-04 00:25:05,461] Trial 42 finished with value: 0.935796645702306 and parameters: {'feature_fraction': 0.948}. Best is trial 40 with value: 0.935796645702306.\n",
            "feature_fraction_stage2, val_score: 0.935797: 100%|##########| 6/6 [00:01<00:00,  4.83it/s]\n"
          ]
        },
        {
          "name": "stdout",
          "output_type": "stream",
          "text": [
            "[70]\tvalid_0's auc: 0.861732\tvalid_1's auc: 0.92479\n",
            "[80]\tvalid_0's auc: 0.866099\tvalid_1's auc: 0.932914\n",
            "[90]\tvalid_0's auc: 0.866263\tvalid_1's auc: 0.932914\n",
            "[100]\tvalid_0's auc: 0.866788\tvalid_1's auc: 0.932914\n",
            "[110]\tvalid_0's auc: 0.866887\tvalid_1's auc: 0.931604\n",
            "[120]\tvalid_0's auc: 0.866887\tvalid_1's auc: 0.934224\n",
            "[130]\tvalid_0's auc: 0.867675\tvalid_1's auc: 0.936321\n",
            "[140]\tvalid_0's auc: 0.866788\tvalid_1's auc: 0.936321\n",
            "[150]\tvalid_0's auc: 0.866821\tvalid_1's auc: 0.935797\n",
            "[160]\tvalid_0's auc: 0.866657\tvalid_1's auc: 0.935797\n",
            "[170]\tvalid_0's auc: 0.866525\tvalid_1's auc: 0.935797\n",
            "Early stopping, best iteration is:\n",
            "[124]\tvalid_0's auc: 0.867806\tvalid_1's auc: 0.935797\n"
          ]
        },
        {
          "name": "stderr",
          "output_type": "stream",
          "text": [
            "regularization_factors, val_score: 0.935797:   0%|          | 0/20 [00:00<?, ?it/s]"
          ]
        },
        {
          "name": "stdout",
          "output_type": "stream",
          "text": [
            "[10]\tvalid_0's auc: 0.897518\tvalid_1's auc: 0.886268"
          ]
        },
        {
          "name": "stderr",
          "output_type": "stream",
          "text": [
            "c:\\Users\\daich\\AppData\\Local\\Programs\\Python\\Python38\\lib\\site-packages\\lightgbm\\engine.py:239: UserWarning: 'verbose_eval' argument is deprecated and will be removed in a future release of LightGBM. Pass 'log_evaluation()' callback via 'callbacks' argument instead.\n",
            "  _log_warning(\"'verbose_eval' argument is deprecated and will be removed in a future release of LightGBM. \"\n"
          ]
        },
        {
          "name": "stdout",
          "output_type": "stream",
          "text": [
            "\n",
            "[20]\tvalid_0's auc: 0.906661\tvalid_1's auc: 0.899633\n",
            "[30]\tvalid_0's auc: 0.914245\tvalid_1's auc: 0.905922\n",
            "[40]\tvalid_0's auc: 0.920516\tvalid_1's auc: 0.90173\n",
            "[50]\tvalid_0's auc: 0.927542\tvalid_1's auc: 0.902516\n",
            "[60]\tvalid_0's auc: 0.934157\tvalid_1's auc: 0.912736\n",
            "[70]\tvalid_0's auc: 0.942414\tvalid_1's auc: 0.916143\n",
            "[80]\tvalid_0's auc: 0.946945\tvalid_1's auc: 0.906709\n",
            "[90]\tvalid_0's auc: 0.952395\tvalid_1's auc: 0.907233\n",
            "[100]\tvalid_0's auc: 0.955777\tvalid_1's auc: 0.907757\n",
            "[110]\tvalid_0's auc: 0.959027\tvalid_1's auc: 0.908805\n",
            "[120]\tvalid_0's auc: 0.962507\tvalid_1's auc: 0.908281\n"
          ]
        },
        {
          "name": "stderr",
          "output_type": "stream",
          "text": [
            "regularization_factors, val_score: 0.936321:   5%|5         | 1/20 [00:00<00:07,  2.42it/s][I 2023-07-04 00:25:05,878] Trial 43 finished with value: 0.9363207547169812 and parameters: {'lambda_l1': 1.3512409694997085e-08, 'lambda_l2': 1.1121045113657608}. Best is trial 43 with value: 0.9363207547169812.\n",
            "regularization_factors, val_score: 0.936321:   5%|5         | 1/20 [00:00<00:07,  2.42it/s]"
          ]
        },
        {
          "name": "stdout",
          "output_type": "stream",
          "text": [
            "[130]\tvalid_0's auc: 0.965068\tvalid_1's auc: 0.90566\n",
            "[140]\tvalid_0's auc: 0.967661\tvalid_1's auc: 0.901468\n",
            "[150]\tvalid_0's auc: 0.969598\tvalid_1's auc: 0.893606\n",
            "[160]\tvalid_0's auc: 0.971142\tvalid_1's auc: 0.890985\n",
            "[170]\tvalid_0's auc: 0.972947\tvalid_1's auc: 0.891509\n",
            "Early stopping, best iteration is:\n",
            "[128]\tvalid_0's auc: 0.867609\tvalid_1's auc: 0.936321\n"
          ]
        },
        {
          "name": "stderr",
          "output_type": "stream",
          "text": [
            "c:\\Users\\daich\\AppData\\Local\\Programs\\Python\\Python38\\lib\\site-packages\\lightgbm\\engine.py:239: UserWarning: 'verbose_eval' argument is deprecated and will be removed in a future release of LightGBM. Pass 'log_evaluation()' callback via 'callbacks' argument instead.\n",
            "  _log_warning(\"'verbose_eval' argument is deprecated and will be removed in a future release of LightGBM. \"\n"
          ]
        },
        {
          "name": "stdout",
          "output_type": "stream",
          "text": [
            "[10]\tvalid_0's auc: 0.892364\tvalid_1's auc: 0.910115\n",
            "[20]\tvalid_0's auc: 0.89888\tvalid_1's auc: 0.90173\n",
            "[30]\tvalid_0's auc: 0.9085\tvalid_1's auc: 0.907757\n",
            "[40]\tvalid_0's auc: 0.915296\tvalid_1's auc: 0.905922\n",
            "[50]\tvalid_0's auc: 0.921353\tvalid_1's auc: 0.907233\n",
            "[60]\tvalid_0's auc: 0.928707\tvalid_1's auc: 0.909853\n",
            "[70]\tvalid_0's auc: 0.936127\tvalid_1's auc: 0.915618\n",
            "[80]\tvalid_0's auc: 0.941068\tvalid_1's auc: 0.910901\n",
            "[90]\tvalid_0's auc: 0.945468\tvalid_1's auc: 0.913522\n",
            "[100]\tvalid_0's auc: 0.948784\tvalid_1's auc: 0.91457\n",
            "[110]\tvalid_0's auc: 0.952592\tvalid_1's auc: 0.912474\n",
            "[120]\tvalid_0's auc: 0.956039\tvalid_1's auc: 0.908281\n"
          ]
        },
        {
          "name": "stderr",
          "output_type": "stream",
          "text": [
            "regularization_factors, val_score: 0.936321:  10%|#         | 2/20 [00:00<00:07,  2.36it/s][I 2023-07-04 00:25:06,311] Trial 44 finished with value: 0.9363207547169812 and parameters: {'lambda_l1': 1.877180334769866e-08, 'lambda_l2': 4.794194733906656}. Best is trial 43 with value: 0.9363207547169812.\n",
            "regularization_factors, val_score: 0.936321:  10%|#         | 2/20 [00:00<00:07,  2.36it/s]"
          ]
        },
        {
          "name": "stdout",
          "output_type": "stream",
          "text": [
            "[130]\tvalid_0's auc: 0.959782\tvalid_1's auc: 0.907757\n",
            "[140]\tvalid_0's auc: 0.962967\tvalid_1's auc: 0.90304\n",
            "[150]\tvalid_0's auc: 0.964904\tvalid_1's auc: 0.901468\n",
            "[160]\tvalid_0's auc: 0.966808\tvalid_1's auc: 0.899895\n",
            "[170]\tvalid_0's auc: 0.968745\tvalid_1's auc: 0.896226\n",
            "Early stopping, best iteration is:\n",
            "[128]\tvalid_0's auc: 0.867609\tvalid_1's auc: 0.936321\n"
          ]
        },
        {
          "name": "stderr",
          "output_type": "stream",
          "text": [
            "c:\\Users\\daich\\AppData\\Local\\Programs\\Python\\Python38\\lib\\site-packages\\lightgbm\\engine.py:239: UserWarning: 'verbose_eval' argument is deprecated and will be removed in a future release of LightGBM. Pass 'log_evaluation()' callback via 'callbacks' argument instead.\n",
            "  _log_warning(\"'verbose_eval' argument is deprecated and will be removed in a future release of LightGBM. \"\n"
          ]
        },
        {
          "name": "stdout",
          "output_type": "stream",
          "text": [
            "[10]\tvalid_0's auc: 0.871696\tvalid_1's auc: 0.928983\n",
            "[20]\tvalid_0's auc: 0.895138\tvalid_1's auc: 0.906184\n",
            "[30]\tvalid_0's auc: 0.901031\tvalid_1's auc: 0.907233\n",
            "[40]\tvalid_0's auc: 0.907991\tvalid_1's auc: 0.909067\n",
            "[50]\tvalid_0's auc: 0.916839\tvalid_1's auc: 0.911164\n",
            "[60]\tvalid_0's auc: 0.924883\tvalid_1's auc: 0.912736\n",
            "[70]\tvalid_0's auc: 0.931416\tvalid_1's auc: 0.916667\n",
            "[80]\tvalid_0's auc: 0.937375\tvalid_1's auc: 0.917191\n",
            "[90]\tvalid_0's auc: 0.941397\tvalid_1's auc: 0.916667\n",
            "[100]\tvalid_0's auc: 0.944975\tvalid_1's auc: 0.916667\n",
            "[110]\tvalid_0's auc: 0.949178\tvalid_1's auc: 0.916143\n",
            "[120]\tvalid_0's auc: 0.952592\tvalid_1's auc: 0.914046\n"
          ]
        },
        {
          "name": "stderr",
          "output_type": "stream",
          "text": [
            "regularization_factors, val_score: 0.936321:  15%|#5        | 3/20 [00:01<00:07,  2.25it/s][I 2023-07-04 00:25:06,778] Trial 45 finished with value: 0.9363207547169812 and parameters: {'lambda_l1': 2.735214193302548e-08, 'lambda_l2': 7.615212570788371}. Best is trial 43 with value: 0.9363207547169812.\n",
            "regularization_factors, val_score: 0.936321:  15%|#5        | 3/20 [00:01<00:07,  2.25it/s]"
          ]
        },
        {
          "name": "stdout",
          "output_type": "stream",
          "text": [
            "[130]\tvalid_0's auc: 0.955744\tvalid_1's auc: 0.912998\n",
            "[140]\tvalid_0's auc: 0.95883\tvalid_1's auc: 0.908281\n",
            "[150]\tvalid_0's auc: 0.961194\tvalid_1's auc: 0.904612\n",
            "[160]\tvalid_0's auc: 0.963196\tvalid_1's auc: 0.901468\n",
            "[170]\tvalid_0's auc: 0.964871\tvalid_1's auc: 0.897799\n",
            "Early stopping, best iteration is:\n",
            "[128]\tvalid_0's auc: 0.867609\tvalid_1's auc: 0.936321\n"
          ]
        },
        {
          "name": "stderr",
          "output_type": "stream",
          "text": [
            "c:\\Users\\daich\\AppData\\Local\\Programs\\Python\\Python38\\lib\\site-packages\\lightgbm\\engine.py:239: UserWarning: 'verbose_eval' argument is deprecated and will be removed in a future release of LightGBM. Pass 'log_evaluation()' callback via 'callbacks' argument instead.\n",
            "  _log_warning(\"'verbose_eval' argument is deprecated and will be removed in a future release of LightGBM. \"\n"
          ]
        },
        {
          "name": "stdout",
          "output_type": "stream",
          "text": [
            "[10]\tvalid_0's auc: 0.866115\tvalid_1's auc: 0.933962\n",
            "[20]\tvalid_0's auc: 0.891559\tvalid_1's auc: 0.917453\n",
            "[30]\tvalid_0's auc: 0.898536\tvalid_1's auc: 0.91457\n",
            "[40]\tvalid_0's auc: 0.905135\tvalid_1's auc: 0.912212\n",
            "[50]\tvalid_0's auc: 0.912226\tvalid_1's auc: 0.912474\n",
            "[60]\tvalid_0's auc: 0.92068\tvalid_1's auc: 0.916405\n",
            "[70]\tvalid_0's auc: 0.927329\tvalid_1's auc: 0.92086\n",
            "[80]\tvalid_0's auc: 0.933271\tvalid_1's auc: 0.921384\n",
            "[90]\tvalid_0's auc: 0.937572\tvalid_1's auc: 0.926101\n",
            "[100]\tvalid_0's auc: 0.942004\tvalid_1's auc: 0.925577\n",
            "[110]\tvalid_0's auc: 0.946157\tvalid_1's auc: 0.918239\n",
            "[120]\tvalid_0's auc: 0.949867\tvalid_1's auc: 0.915618\n"
          ]
        },
        {
          "name": "stderr",
          "output_type": "stream",
          "text": [
            "regularization_factors, val_score: 0.936321:  20%|##        | 4/20 [00:01<00:07,  2.25it/s][I 2023-07-04 00:25:07,224] Trial 46 finished with value: 0.9363207547169812 and parameters: {'lambda_l1': 1.1094377538570538e-08, 'lambda_l2': 9.531306409395793}. Best is trial 43 with value: 0.9363207547169812.\n",
            "regularization_factors, val_score: 0.936321:  20%|##        | 4/20 [00:01<00:07,  2.25it/s]"
          ]
        },
        {
          "name": "stdout",
          "output_type": "stream",
          "text": [
            "[130]\tvalid_0's auc: 0.953511\tvalid_1's auc: 0.915618\n",
            "[140]\tvalid_0's auc: 0.956565\tvalid_1's auc: 0.913522\n",
            "[150]\tvalid_0's auc: 0.958731\tvalid_1's auc: 0.909853\n",
            "[160]\tvalid_0's auc: 0.960865\tvalid_1's auc: 0.905136\n",
            "[170]\tvalid_0's auc: 0.962573\tvalid_1's auc: 0.904612\n",
            "Early stopping, best iteration is:\n",
            "[128]\tvalid_0's auc: 0.867609\tvalid_1's auc: 0.936321\n"
          ]
        },
        {
          "name": "stderr",
          "output_type": "stream",
          "text": [
            "c:\\Users\\daich\\AppData\\Local\\Programs\\Python\\Python38\\lib\\site-packages\\lightgbm\\engine.py:239: UserWarning: 'verbose_eval' argument is deprecated and will be removed in a future release of LightGBM. Pass 'log_evaluation()' callback via 'callbacks' argument instead.\n",
            "  _log_warning(\"'verbose_eval' argument is deprecated and will be removed in a future release of LightGBM. \"\n"
          ]
        },
        {
          "name": "stdout",
          "output_type": "stream",
          "text": [
            "[10]\tvalid_0's auc: 0.871335\tvalid_1's auc: 0.932128\n",
            "[20]\tvalid_0's auc: 0.895876\tvalid_1's auc: 0.902778\n",
            "[30]\tvalid_0's auc: 0.900653\tvalid_1's auc: 0.907495\n",
            "[40]\tvalid_0's auc: 0.907728\tvalid_1's auc: 0.905398\n",
            "[50]\tvalid_0's auc: 0.915362\tvalid_1's auc: 0.909067\n",
            "[60]\tvalid_0's auc: 0.924554\tvalid_1's auc: 0.910639\n",
            "[70]\tvalid_0's auc: 0.930891\tvalid_1's auc: 0.915094\n",
            "[80]\tvalid_0's auc: 0.936521\tvalid_1's auc: 0.919287\n",
            "[90]\tvalid_0's auc: 0.940888\tvalid_1's auc: 0.924004\n",
            "[100]\tvalid_0's auc: 0.944745\tvalid_1's auc: 0.925052\n",
            "[110]\tvalid_0's auc: 0.947963\tvalid_1's auc: 0.92348\n",
            "[120]\tvalid_0's auc: 0.9521\tvalid_1's auc: 0.917191\n",
            "[130]\tvalid_0's auc: 0.955415\tvalid_1's auc: 0.915618\n"
          ]
        },
        {
          "name": "stderr",
          "output_type": "stream",
          "text": [
            "regularization_factors, val_score: 0.936321:  25%|##5       | 5/20 [00:02<00:06,  2.24it/s][I 2023-07-04 00:25:07,672] Trial 47 finished with value: 0.9363207547169812 and parameters: {'lambda_l1': 1.1532234586884423e-08, 'lambda_l2': 8.043590585985209}. Best is trial 43 with value: 0.9363207547169812.\n",
            "regularization_factors, val_score: 0.936321:  25%|##5       | 5/20 [00:02<00:06,  2.24it/s]"
          ]
        },
        {
          "name": "stdout",
          "output_type": "stream",
          "text": [
            "[140]\tvalid_0's auc: 0.958206\tvalid_1's auc: 0.915094\n",
            "[150]\tvalid_0's auc: 0.960833\tvalid_1's auc: 0.909853\n",
            "[160]\tvalid_0's auc: 0.962868\tvalid_1's auc: 0.90566\n",
            "[170]\tvalid_0's auc: 0.964871\tvalid_1's auc: 0.90566\n",
            "Early stopping, best iteration is:\n",
            "[128]\tvalid_0's auc: 0.867609\tvalid_1's auc: 0.936321\n"
          ]
        },
        {
          "name": "stderr",
          "output_type": "stream",
          "text": [
            "c:\\Users\\daich\\AppData\\Local\\Programs\\Python\\Python38\\lib\\site-packages\\lightgbm\\engine.py:239: UserWarning: 'verbose_eval' argument is deprecated and will be removed in a future release of LightGBM. Pass 'log_evaluation()' callback via 'callbacks' argument instead.\n",
            "  _log_warning(\"'verbose_eval' argument is deprecated and will be removed in a future release of LightGBM. \"\n"
          ]
        },
        {
          "name": "stdout",
          "output_type": "stream",
          "text": [
            "[10]\tvalid_0's auc: 0.866657\tvalid_1's auc: 0.934748\n",
            "[20]\tvalid_0's auc: 0.890968\tvalid_1's auc: 0.910639\n",
            "[30]\tvalid_0's auc: 0.899767\tvalid_1's auc: 0.909329\n",
            "[40]\tvalid_0's auc: 0.904495\tvalid_1's auc: 0.909067\n",
            "[50]\tvalid_0's auc: 0.913457\tvalid_1's auc: 0.911426\n",
            "[60]\tvalid_0's auc: 0.922108\tvalid_1's auc: 0.913522\n",
            "[70]\tvalid_0's auc: 0.930267\tvalid_1's auc: 0.920073\n",
            "[80]\tvalid_0's auc: 0.935224\tvalid_1's auc: 0.919811\n",
            "[90]\tvalid_0's auc: 0.940576\tvalid_1's auc: 0.919287\n",
            "[100]\tvalid_0's auc: 0.943498\tvalid_1's auc: 0.92086\n",
            "[110]\tvalid_0's auc: 0.947142\tvalid_1's auc: 0.92086\n",
            "[120]\tvalid_0's auc: 0.951049\tvalid_1's auc: 0.92086\n",
            "[130]\tvalid_0's auc: 0.954398\tvalid_1's auc: 0.917191\n",
            "[140]\tvalid_0's auc: 0.957123\tvalid_1's auc: 0.914046\n",
            "[150]\tvalid_0's auc: 0.96034\tvalid_1's auc: 0.910377\n",
            "[160]\tvalid_0's auc: 0.961982\tvalid_1's auc: 0.907233\n",
            "[170]\tvalid_0's auc: 0.963919\tvalid_1's auc: 0.904612\n",
            "Early stopping, best iteration is:\n",
            "[128]\tvalid_0's auc: 0.867609\tvalid_1's auc: 0.936321\n"
          ]
        },
        {
          "name": "stderr",
          "output_type": "stream",
          "text": [
            "regularization_factors, val_score: 0.936321:  30%|###       | 6/20 [00:02<00:06,  2.07it/s][I 2023-07-04 00:25:08,226] Trial 48 finished with value: 0.9363207547169812 and parameters: {'lambda_l1': 1.0566023772902204e-08, 'lambda_l2': 8.994132579952762}. Best is trial 43 with value: 0.9363207547169812.\n",
            "regularization_factors, val_score: 0.936321:  30%|###       | 6/20 [00:02<00:06,  2.07it/s]c:\\Users\\daich\\AppData\\Local\\Programs\\Python\\Python38\\lib\\site-packages\\lightgbm\\engine.py:239: UserWarning: 'verbose_eval' argument is deprecated and will be removed in a future release of LightGBM. Pass 'log_evaluation()' callback via 'callbacks' argument instead.\n",
            "  _log_warning(\"'verbose_eval' argument is deprecated and will be removed in a future release of LightGBM. \"\n"
          ]
        },
        {
          "name": "stdout",
          "output_type": "stream",
          "text": [
            "[10]\tvalid_0's auc: 0.872386\tvalid_1's auc: 0.927411\n",
            "[20]\tvalid_0's auc: 0.897042\tvalid_1's auc: 0.902778\n",
            "[30]\tvalid_0's auc: 0.902016\tvalid_1's auc: 0.908805\n",
            "[40]\tvalid_0's auc: 0.90914\tvalid_1's auc: 0.909591\n",
            "[50]\tvalid_0's auc: 0.917545\tvalid_1's auc: 0.910377\n",
            "[60]\tvalid_0's auc: 0.925342\tvalid_1's auc: 0.909329\n",
            "[70]\tvalid_0's auc: 0.931794\tvalid_1's auc: 0.917715\n",
            "[80]\tvalid_0's auc: 0.938163\tvalid_1's auc: 0.919287\n",
            "[90]\tvalid_0's auc: 0.941528\tvalid_1's auc: 0.921384\n",
            "[100]\tvalid_0's auc: 0.945796\tvalid_1's auc: 0.92086\n"
          ]
        },
        {
          "name": "stderr",
          "output_type": "stream",
          "text": [
            "regularization_factors, val_score: 0.936321:  30%|###       | 6/20 [00:03<00:06,  2.07it/s]"
          ]
        },
        {
          "name": "stdout",
          "output_type": "stream",
          "text": [
            "[110]\tvalid_0's auc: 0.950294\tvalid_1's auc: 0.919811\n",
            "[120]\tvalid_0's auc: 0.953544\tvalid_1's auc: 0.91457\n",
            "[130]\tvalid_0's auc: 0.956893\tvalid_1's auc: 0.908805\n",
            "[140]\tvalid_0's auc: 0.959519\tvalid_1's auc: 0.909853\n",
            "[150]\tvalid_0's auc: 0.962015\tvalid_1's auc: 0.902516\n",
            "[160]\tvalid_0's auc: 0.963984\tvalid_1's auc: 0.898847\n",
            "[170]\tvalid_0's auc: 0.965823\tvalid_1's auc: 0.898847\n",
            "Early stopping, best iteration is:\n",
            "[128]\tvalid_0's auc: 0.867609\tvalid_1's auc: 0.936321\n"
          ]
        },
        {
          "name": "stderr",
          "output_type": "stream",
          "text": [
            "regularization_factors, val_score: 0.936321:  35%|###5      | 7/20 [00:03<00:06,  1.98it/s][I 2023-07-04 00:25:08,778] Trial 49 finished with value: 0.9363207547169812 and parameters: {'lambda_l1': 1.289414672580557e-08, 'lambda_l2': 7.116387220682075}. Best is trial 43 with value: 0.9363207547169812.\n",
            "regularization_factors, val_score: 0.936321:  35%|###5      | 7/20 [00:03<00:06,  1.98it/s]c:\\Users\\daich\\AppData\\Local\\Programs\\Python\\Python38\\lib\\site-packages\\lightgbm\\engine.py:239: UserWarning: 'verbose_eval' argument is deprecated and will be removed in a future release of LightGBM. Pass 'log_evaluation()' callback via 'callbacks' argument instead.\n",
            "  _log_warning(\"'verbose_eval' argument is deprecated and will be removed in a future release of LightGBM. \"\n"
          ]
        },
        {
          "name": "stdout",
          "output_type": "stream",
          "text": [
            "[10]\tvalid_0's auc: 0.877507\tvalid_1's auc: 0.926363\n",
            "[20]\tvalid_0's auc: 0.895811\tvalid_1's auc: 0.902778\n",
            "[30]\tvalid_0's auc: 0.90259\tvalid_1's auc: 0.906971\n",
            "[40]\tvalid_0's auc: 0.908254\tvalid_1's auc: 0.910115\n",
            "[50]\tvalid_0's auc: 0.917611\tvalid_1's auc: 0.910639\n",
            "[60]\tvalid_0's auc: 0.92503\tvalid_1's auc: 0.912212\n",
            "[70]\tvalid_0's auc: 0.932286\tvalid_1's auc: 0.919287\n",
            "[80]\tvalid_0's auc: 0.938064\tvalid_1's auc: 0.918763\n",
            "[90]\tvalid_0's auc: 0.94294\tvalid_1's auc: 0.918763\n",
            "[100]\tvalid_0's auc: 0.946879\tvalid_1's auc: 0.91457\n",
            "[110]\tvalid_0's auc: 0.950885\tvalid_1's auc: 0.913522\n"
          ]
        },
        {
          "name": "stderr",
          "output_type": "stream",
          "text": [
            "regularization_factors, val_score: 0.936321:  40%|####      | 8/20 [00:03<00:05,  2.06it/s][I 2023-07-04 00:25:09,222] Trial 50 finished with value: 0.9363207547169812 and parameters: {'lambda_l1': 1.364758807835722e-08, 'lambda_l2': 6.936818622162991}. Best is trial 43 with value: 0.9363207547169812.\n",
            "regularization_factors, val_score: 0.936321:  40%|####      | 8/20 [00:03<00:05,  2.06it/s]"
          ]
        },
        {
          "name": "stdout",
          "output_type": "stream",
          "text": [
            "[120]\tvalid_0's auc: 0.954759\tvalid_1's auc: 0.911426\n",
            "[130]\tvalid_0's auc: 0.957484\tvalid_1's auc: 0.907233\n",
            "[140]\tvalid_0's auc: 0.960012\tvalid_1's auc: 0.907233\n",
            "[150]\tvalid_0's auc: 0.962277\tvalid_1's auc: 0.903564\n",
            "[160]\tvalid_0's auc: 0.96428\tvalid_1's auc: 0.899895\n",
            "[170]\tvalid_0's auc: 0.966217\tvalid_1's auc: 0.899895\n",
            "Early stopping, best iteration is:\n",
            "[128]\tvalid_0's auc: 0.867609\tvalid_1's auc: 0.936321\n"
          ]
        },
        {
          "name": "stderr",
          "output_type": "stream",
          "text": [
            "c:\\Users\\daich\\AppData\\Local\\Programs\\Python\\Python38\\lib\\site-packages\\lightgbm\\engine.py:239: UserWarning: 'verbose_eval' argument is deprecated and will be removed in a future release of LightGBM. Pass 'log_evaluation()' callback via 'callbacks' argument instead.\n",
            "  _log_warning(\"'verbose_eval' argument is deprecated and will be removed in a future release of LightGBM. \"\n"
          ]
        },
        {
          "name": "stdout",
          "output_type": "stream",
          "text": [
            "[10]\tvalid_0's auc: 0.871335\tvalid_1's auc: 0.932128\n",
            "[20]\tvalid_0's auc: 0.89632\tvalid_1's auc: 0.903826\n",
            "[30]\tvalid_0's auc: 0.901392\tvalid_1's auc: 0.906447\n",
            "[40]\tvalid_0's auc: 0.907909\tvalid_1's auc: 0.90435\n",
            "[50]\tvalid_0's auc: 0.916675\tvalid_1's auc: 0.908543\n",
            "[60]\tvalid_0's auc: 0.925392\tvalid_1's auc: 0.911164\n",
            "[70]\tvalid_0's auc: 0.93094\tvalid_1's auc: 0.919811\n",
            "[80]\tvalid_0's auc: 0.937408\tvalid_1's auc: 0.921384\n",
            "[90]\tvalid_0's auc: 0.941561\tvalid_1's auc: 0.921384\n",
            "[100]\tvalid_0's auc: 0.945796\tvalid_1's auc: 0.916143\n",
            "[110]\tvalid_0's auc: 0.949243\tvalid_1's auc: 0.915618\n",
            "[120]\tvalid_0's auc: 0.953019\tvalid_1's auc: 0.913522\n",
            "[130]\tvalid_0's auc: 0.955875\tvalid_1's auc: 0.909853\n"
          ]
        },
        {
          "name": "stderr",
          "output_type": "stream",
          "text": [
            "regularization_factors, val_score: 0.936321:  45%|####5     | 9/20 [00:04<00:05,  2.10it/s][I 2023-07-04 00:25:09,679] Trial 51 finished with value: 0.9363207547169812 and parameters: {'lambda_l1': 1.2710750330699687e-08, 'lambda_l2': 7.862262328265549}. Best is trial 43 with value: 0.9363207547169812.\n",
            "regularization_factors, val_score: 0.936321:  45%|####5     | 9/20 [00:04<00:05,  2.10it/s]"
          ]
        },
        {
          "name": "stdout",
          "output_type": "stream",
          "text": [
            "[140]\tvalid_0's auc: 0.958534\tvalid_1's auc: 0.906709\n",
            "[150]\tvalid_0's auc: 0.961062\tvalid_1's auc: 0.903564\n",
            "[160]\tvalid_0's auc: 0.963032\tvalid_1's auc: 0.898323\n",
            "[170]\tvalid_0's auc: 0.965068\tvalid_1's auc: 0.895178\n",
            "Early stopping, best iteration is:\n",
            "[128]\tvalid_0's auc: 0.867609\tvalid_1's auc: 0.936321\n",
            "[10]\tvalid_0's auc: 0.869349\tvalid_1's auc: 0.933176\n"
          ]
        },
        {
          "name": "stderr",
          "output_type": "stream",
          "text": [
            "c:\\Users\\daich\\AppData\\Local\\Programs\\Python\\Python38\\lib\\site-packages\\lightgbm\\engine.py:239: UserWarning: 'verbose_eval' argument is deprecated and will be removed in a future release of LightGBM. Pass 'log_evaluation()' callback via 'callbacks' argument instead.\n",
            "  _log_warning(\"'verbose_eval' argument is deprecated and will be removed in a future release of LightGBM. \"\n"
          ]
        },
        {
          "name": "stdout",
          "output_type": "stream",
          "text": [
            "[20]\tvalid_0's auc: 0.894547\tvalid_1's auc: 0.906184\n",
            "[30]\tvalid_0's auc: 0.901523\tvalid_1's auc: 0.909329\n",
            "[40]\tvalid_0's auc: 0.907318\tvalid_1's auc: 0.910639\n",
            "[50]\tvalid_0's auc: 0.915624\tvalid_1's auc: 0.913522\n",
            "[60]\tvalid_0's auc: 0.922798\tvalid_1's auc: 0.91457\n",
            "[70]\tvalid_0's auc: 0.929643\tvalid_1's auc: 0.916405\n",
            "[80]\tvalid_0's auc: 0.935126\tvalid_1's auc: 0.917453\n",
            "[90]\tvalid_0's auc: 0.939394\tvalid_1's auc: 0.920335\n",
            "[100]\tvalid_0's auc: 0.943055\tvalid_1's auc: 0.919287\n",
            "[110]\tvalid_0's auc: 0.947339\tvalid_1's auc: 0.919287\n",
            "[120]\tvalid_0's auc: 0.951344\tvalid_1's auc: 0.91457\n",
            "[130]\tvalid_0's auc: 0.954595\tvalid_1's auc: 0.912998\n"
          ]
        },
        {
          "name": "stderr",
          "output_type": "stream",
          "text": [
            "regularization_factors, val_score: 0.936321:  50%|#####     | 10/20 [00:04<00:04,  2.17it/s][I 2023-07-04 00:25:10,104] Trial 52 finished with value: 0.9363207547169812 and parameters: {'lambda_l1': 1.0649913031828495e-08, 'lambda_l2': 8.602035593205414}. Best is trial 43 with value: 0.9363207547169812.\n",
            "regularization_factors, val_score: 0.936321:  50%|#####     | 10/20 [00:04<00:04,  2.17it/s]"
          ]
        },
        {
          "name": "stdout",
          "output_type": "stream",
          "text": [
            "[140]\tvalid_0's auc: 0.957681\tvalid_1's auc: 0.909853\n",
            "[150]\tvalid_0's auc: 0.960045\tvalid_1's auc: 0.906709\n",
            "[160]\tvalid_0's auc: 0.962146\tvalid_1's auc: 0.906184\n",
            "[170]\tvalid_0's auc: 0.964477\tvalid_1's auc: 0.900943\n",
            "Early stopping, best iteration is:\n",
            "[128]\tvalid_0's auc: 0.867609\tvalid_1's auc: 0.936321\n"
          ]
        },
        {
          "name": "stderr",
          "output_type": "stream",
          "text": [
            "c:\\Users\\daich\\AppData\\Local\\Programs\\Python\\Python38\\lib\\site-packages\\lightgbm\\engine.py:239: UserWarning: 'verbose_eval' argument is deprecated and will be removed in a future release of LightGBM. Pass 'log_evaluation()' callback via 'callbacks' argument instead.\n",
            "  _log_warning(\"'verbose_eval' argument is deprecated and will be removed in a future release of LightGBM. \"\n"
          ]
        },
        {
          "name": "stdout",
          "output_type": "stream",
          "text": [
            "[10]\tvalid_0's auc: 0.872386\tvalid_1's auc: 0.927411\n",
            "[20]\tvalid_0's auc: 0.89714\tvalid_1's auc: 0.902778\n",
            "[30]\tvalid_0's auc: 0.901294\tvalid_1's auc: 0.908543\n",
            "[40]\tvalid_0's auc: 0.909091\tvalid_1's auc: 0.907495\n",
            "[50]\tvalid_0's auc: 0.916954\tvalid_1's auc: 0.912736\n",
            "[60]\tvalid_0's auc: 0.924357\tvalid_1's auc: 0.914308\n",
            "[70]\tvalid_0's auc: 0.931055\tvalid_1's auc: 0.919811\n",
            "[80]\tvalid_0's auc: 0.936899\tvalid_1's auc: 0.919811\n",
            "[90]\tvalid_0's auc: 0.941955\tvalid_1's auc: 0.919811\n",
            "[100]\tvalid_0's auc: 0.945468\tvalid_1's auc: 0.921908\n",
            "[110]\tvalid_0's auc: 0.949276\tvalid_1's auc: 0.920335\n",
            "[120]\tvalid_0's auc: 0.953183\tvalid_1's auc: 0.917715\n",
            "[130]\tvalid_0's auc: 0.9564\tvalid_1's auc: 0.912474\n"
          ]
        },
        {
          "name": "stderr",
          "output_type": "stream",
          "text": [
            "regularization_factors, val_score: 0.936321:  55%|#####5    | 11/20 [00:05<00:04,  2.24it/s][I 2023-07-04 00:25:10,519] Trial 53 finished with value: 0.9363207547169812 and parameters: {'lambda_l1': 2.5993753833100944e-08, 'lambda_l2': 7.376671838044581}. Best is trial 43 with value: 0.9363207547169812.\n",
            "regularization_factors, val_score: 0.936321:  55%|#####5    | 11/20 [00:05<00:04,  2.24it/s]"
          ]
        },
        {
          "name": "stdout",
          "output_type": "stream",
          "text": [
            "[140]\tvalid_0's auc: 0.959158\tvalid_1's auc: 0.91195\n",
            "[150]\tvalid_0's auc: 0.961883\tvalid_1's auc: 0.908805\n",
            "[160]\tvalid_0's auc: 0.963919\tvalid_1's auc: 0.904612\n",
            "[170]\tvalid_0's auc: 0.965724\tvalid_1's auc: 0.902516\n",
            "Early stopping, best iteration is:\n",
            "[128]\tvalid_0's auc: 0.867609\tvalid_1's auc: 0.936321\n",
            "[10]\tvalid_0's auc: 0.886717\tvalid_1's auc: 0.918501\n"
          ]
        },
        {
          "name": "stderr",
          "output_type": "stream",
          "text": [
            "c:\\Users\\daich\\AppData\\Local\\Programs\\Python\\Python38\\lib\\site-packages\\lightgbm\\engine.py:239: UserWarning: 'verbose_eval' argument is deprecated and will be removed in a future release of LightGBM. Pass 'log_evaluation()' callback via 'callbacks' argument instead.\n",
            "  _log_warning(\"'verbose_eval' argument is deprecated and will be removed in a future release of LightGBM. \"\n"
          ]
        },
        {
          "name": "stdout",
          "output_type": "stream",
          "text": [
            "[20]\tvalid_0's auc: 0.898585\tvalid_1's auc: 0.90435\n",
            "[30]\tvalid_0's auc: 0.903707\tvalid_1's auc: 0.907757\n",
            "[40]\tvalid_0's auc: 0.910059\tvalid_1's auc: 0.909591\n",
            "[50]\tvalid_0's auc: 0.919285\tvalid_1's auc: 0.912212\n",
            "[60]\tvalid_0's auc: 0.926048\tvalid_1's auc: 0.913784\n",
            "[70]\tvalid_0's auc: 0.932828\tvalid_1's auc: 0.921384\n",
            "[80]\tvalid_0's auc: 0.938064\tvalid_1's auc: 0.918763\n",
            "[90]\tvalid_0's auc: 0.94202\tvalid_1's auc: 0.920335\n",
            "[100]\tvalid_0's auc: 0.946847\tvalid_1's auc: 0.917715\n",
            "[110]\tvalid_0's auc: 0.951082\tvalid_1's auc: 0.915618\n",
            "[120]\tvalid_0's auc: 0.95535\tvalid_1's auc: 0.912474\n",
            "[130]\tvalid_0's auc: 0.957451\tvalid_1's auc: 0.907233\n"
          ]
        },
        {
          "name": "stderr",
          "output_type": "stream",
          "text": [
            "regularization_factors, val_score: 0.936321:  60%|######    | 12/20 [00:05<00:03,  2.28it/s][I 2023-07-04 00:25:10,941] Trial 54 finished with value: 0.9363207547169812 and parameters: {'lambda_l1': 1.3146957332391503e-08, 'lambda_l2': 6.533332752957651}. Best is trial 43 with value: 0.9363207547169812.\n",
            "regularization_factors, val_score: 0.936321:  60%|######    | 12/20 [00:05<00:03,  2.28it/s]"
          ]
        },
        {
          "name": "stdout",
          "output_type": "stream",
          "text": [
            "[140]\tvalid_0's auc: 0.960734\tvalid_1's auc: 0.907757\n",
            "[150]\tvalid_0's auc: 0.962999\tvalid_1's auc: 0.905136\n",
            "[160]\tvalid_0's auc: 0.964542\tvalid_1's auc: 0.902516\n",
            "[170]\tvalid_0's auc: 0.966906\tvalid_1's auc: 0.901992\n",
            "Early stopping, best iteration is:\n",
            "[128]\tvalid_0's auc: 0.867609\tvalid_1's auc: 0.936321\n"
          ]
        },
        {
          "name": "stderr",
          "output_type": "stream",
          "text": [
            "c:\\Users\\daich\\AppData\\Local\\Programs\\Python\\Python38\\lib\\site-packages\\lightgbm\\engine.py:239: UserWarning: 'verbose_eval' argument is deprecated and will be removed in a future release of LightGBM. Pass 'log_evaluation()' callback via 'callbacks' argument instead.\n",
            "  _log_warning(\"'verbose_eval' argument is deprecated and will be removed in a future release of LightGBM. \"\n"
          ]
        },
        {
          "name": "stdout",
          "output_type": "stream",
          "text": [
            "[10]\tvalid_0's auc: 0.888801\tvalid_1's auc: 0.905398\n",
            "[20]\tvalid_0's auc: 0.898109\tvalid_1's auc: 0.901992\n",
            "[30]\tvalid_0's auc: 0.907072\tvalid_1's auc: 0.906971\n",
            "[40]\tvalid_0's auc: 0.915723\tvalid_1's auc: 0.905922\n",
            "[50]\tvalid_0's auc: 0.922519\tvalid_1's auc: 0.908805\n",
            "[60]\tvalid_0's auc: 0.928625\tvalid_1's auc: 0.906184\n",
            "[70]\tvalid_0's auc: 0.936538\tvalid_1's auc: 0.91457\n",
            "[80]\tvalid_0's auc: 0.941512\tvalid_1's auc: 0.914046\n",
            "[90]\tvalid_0's auc: 0.945862\tvalid_1's auc: 0.914046\n",
            "[100]\tvalid_0's auc: 0.950359\tvalid_1's auc: 0.91457\n",
            "[110]\tvalid_0's auc: 0.953314\tvalid_1's auc: 0.908805\n"
          ]
        },
        {
          "name": "stderr",
          "output_type": "stream",
          "text": [
            "regularization_factors, val_score: 0.936321:  65%|######5   | 13/20 [00:05<00:03,  2.22it/s][I 2023-07-04 00:25:11,419] Trial 55 finished with value: 0.9363207547169812 and parameters: {'lambda_l1': 4.7473180608456566e-07, 'lambda_l2': 4.324158960524795}. Best is trial 43 with value: 0.9363207547169812.\n",
            "regularization_factors, val_score: 0.936321:  65%|######5   | 13/20 [00:05<00:03,  2.22it/s]"
          ]
        },
        {
          "name": "stdout",
          "output_type": "stream",
          "text": [
            "[120]\tvalid_0's auc: 0.957418\tvalid_1's auc: 0.907757\n",
            "[130]\tvalid_0's auc: 0.960143\tvalid_1's auc: 0.904088\n",
            "[140]\tvalid_0's auc: 0.963065\tvalid_1's auc: 0.904088\n",
            "[150]\tvalid_0's auc: 0.964772\tvalid_1's auc: 0.899371\n",
            "[160]\tvalid_0's auc: 0.966611\tvalid_1's auc: 0.897275\n",
            "[170]\tvalid_0's auc: 0.968417\tvalid_1's auc: 0.895702\n",
            "Early stopping, best iteration is:\n",
            "[128]\tvalid_0's auc: 0.867609\tvalid_1's auc: 0.936321\n"
          ]
        },
        {
          "name": "stderr",
          "output_type": "stream",
          "text": [
            "c:\\Users\\daich\\AppData\\Local\\Programs\\Python\\Python38\\lib\\site-packages\\lightgbm\\engine.py:239: UserWarning: 'verbose_eval' argument is deprecated and will be removed in a future release of LightGBM. Pass 'log_evaluation()' callback via 'callbacks' argument instead.\n",
            "  _log_warning(\"'verbose_eval' argument is deprecated and will be removed in a future release of LightGBM. \"\n"
          ]
        },
        {
          "name": "stdout",
          "output_type": "stream",
          "text": [
            "[10]\tvalid_0's auc: 0.899816\tvalid_1's auc: 0.881551\n",
            "[20]\tvalid_0's auc: 0.908106\tvalid_1's auc: 0.895964\n",
            "[30]\tvalid_0's auc: 0.915296\tvalid_1's auc: 0.903302\n",
            "[40]\tvalid_0's auc: 0.92132\tvalid_1's auc: 0.896751\n",
            "[50]\tvalid_0's auc: 0.929331\tvalid_1's auc: 0.901992\n",
            "[60]\tvalid_0's auc: 0.93639\tvalid_1's auc: 0.906447\n",
            "[70]\tvalid_0's auc: 0.943235\tvalid_1's auc: 0.916143\n",
            "[80]\tvalid_0's auc: 0.948816\tvalid_1's auc: 0.909853\n",
            "[90]\tvalid_0's auc: 0.953741\tvalid_1's auc: 0.908281\n",
            "[100]\tvalid_0's auc: 0.957812\tvalid_1's auc: 0.903564\n",
            "[110]\tvalid_0's auc: 0.960701\tvalid_1's auc: 0.896226\n"
          ]
        },
        {
          "name": "stderr",
          "output_type": "stream",
          "text": [
            "regularization_factors, val_score: 0.936321:  70%|#######   | 14/20 [00:06<00:02,  2.23it/s][I 2023-07-04 00:25:11,863] Trial 56 finished with value: 0.9363207547169812 and parameters: {'lambda_l1': 0.05635131686983087, 'lambda_l2': 0.028016193078445967}. Best is trial 43 with value: 0.9363207547169812.\n",
            "regularization_factors, val_score: 0.936321:  70%|#######   | 14/20 [00:06<00:02,  2.23it/s]"
          ]
        },
        {
          "name": "stdout",
          "output_type": "stream",
          "text": [
            "[120]\tvalid_0's auc: 0.963623\tvalid_1's auc: 0.889413\n",
            "[130]\tvalid_0's auc: 0.965068\tvalid_1's auc: 0.887317\n",
            "[140]\tvalid_0's auc: 0.967793\tvalid_1's auc: 0.884172\n",
            "[150]\tvalid_0's auc: 0.969598\tvalid_1's auc: 0.885744\n",
            "[160]\tvalid_0's auc: 0.971043\tvalid_1's auc: 0.883648\n",
            "[170]\tvalid_0's auc: 0.972061\tvalid_1's auc: 0.88522\n",
            "Early stopping, best iteration is:\n",
            "[128]\tvalid_0's auc: 0.867609\tvalid_1's auc: 0.936321\n"
          ]
        },
        {
          "name": "stderr",
          "output_type": "stream",
          "text": [
            "c:\\Users\\daich\\AppData\\Local\\Programs\\Python\\Python38\\lib\\site-packages\\lightgbm\\engine.py:239: UserWarning: 'verbose_eval' argument is deprecated and will be removed in a future release of LightGBM. Pass 'log_evaluation()' callback via 'callbacks' argument instead.\n",
            "  _log_warning(\"'verbose_eval' argument is deprecated and will be removed in a future release of LightGBM. \"\n"
          ]
        },
        {
          "name": "stdout",
          "output_type": "stream",
          "text": [
            "[10]\tvalid_0's auc: 0.899964\tvalid_1's auc: 0.877883\n",
            "[20]\tvalid_0's auc: 0.908828\tvalid_1's auc: 0.896488\n",
            "[30]\tvalid_0's auc: 0.916494\tvalid_1's auc: 0.902778\n",
            "[40]\tvalid_0's auc: 0.921993\tvalid_1's auc: 0.899371\n",
            "[50]\tvalid_0's auc: 0.929627\tvalid_1's auc: 0.90304\n",
            "[60]\tvalid_0's auc: 0.936472\tvalid_1's auc: 0.908019\n",
            "[70]\tvalid_0's auc: 0.943793\tvalid_1's auc: 0.91326\n",
            "[80]\tvalid_0's auc: 0.949851\tvalid_1's auc: 0.903564\n",
            "[90]\tvalid_0's auc: 0.954234\tvalid_1's auc: 0.90304\n",
            "[100]\tvalid_0's auc: 0.957746\tvalid_1's auc: 0.904612\n",
            "[110]\tvalid_0's auc: 0.9608\tvalid_1's auc: 0.900419\n",
            "[120]\tvalid_0's auc: 0.964575\tvalid_1's auc: 0.894654\n"
          ]
        },
        {
          "name": "stderr",
          "output_type": "stream",
          "text": [
            "regularization_factors, val_score: 0.936321:  75%|#######5  | 15/20 [00:06<00:02,  2.25it/s][I 2023-07-04 00:25:12,296] Trial 57 finished with value: 0.9363207547169812 and parameters: {'lambda_l1': 1.0038610214599058e-06, 'lambda_l2': 3.1610320030962e-07}. Best is trial 43 with value: 0.9363207547169812.\n",
            "regularization_factors, val_score: 0.936321:  75%|#######5  | 15/20 [00:06<00:02,  2.25it/s]"
          ]
        },
        {
          "name": "stdout",
          "output_type": "stream",
          "text": [
            "[130]\tvalid_0's auc: 0.966709\tvalid_1's auc: 0.889937\n",
            "[140]\tvalid_0's auc: 0.968942\tvalid_1's auc: 0.888365\n",
            "[150]\tvalid_0's auc: 0.970682\tvalid_1's auc: 0.885744\n",
            "[160]\tvalid_0's auc: 0.971831\tvalid_1's auc: 0.883648\n",
            "[170]\tvalid_0's auc: 0.97367\tvalid_1's auc: 0.8826\n",
            "Early stopping, best iteration is:\n",
            "[128]\tvalid_0's auc: 0.867609\tvalid_1's auc: 0.936321\n"
          ]
        },
        {
          "name": "stderr",
          "output_type": "stream",
          "text": [
            "c:\\Users\\daich\\AppData\\Local\\Programs\\Python\\Python38\\lib\\site-packages\\lightgbm\\engine.py:239: UserWarning: 'verbose_eval' argument is deprecated and will be removed in a future release of LightGBM. Pass 'log_evaluation()' callback via 'callbacks' argument instead.\n",
            "  _log_warning(\"'verbose_eval' argument is deprecated and will be removed in a future release of LightGBM. \"\n"
          ]
        },
        {
          "name": "stdout",
          "output_type": "stream",
          "text": [
            "[10]\tvalid_0's auc: 0.899718\tvalid_1's auc: 0.879979\n",
            "[20]\tvalid_0's auc: 0.908516\tvalid_1's auc: 0.898585\n",
            "[30]\tvalid_0's auc: 0.916544\tvalid_1's auc: 0.903302\n",
            "[40]\tvalid_0's auc: 0.923126\tvalid_1's auc: 0.895178\n",
            "[50]\tvalid_0's auc: 0.929725\tvalid_1's auc: 0.902516\n",
            "[60]\tvalid_0's auc: 0.936981\tvalid_1's auc: 0.905398\n",
            "[70]\tvalid_0's auc: 0.944483\tvalid_1's auc: 0.910901\n",
            "[80]\tvalid_0's auc: 0.94944\tvalid_1's auc: 0.906709\n",
            "[90]\tvalid_0's auc: 0.953807\tvalid_1's auc: 0.906709\n",
            "[100]\tvalid_0's auc: 0.957911\tvalid_1's auc: 0.905136\n",
            "[110]\tvalid_0's auc: 0.961161\tvalid_1's auc: 0.897275\n"
          ]
        },
        {
          "name": "stderr",
          "output_type": "stream",
          "text": [
            "regularization_factors, val_score: 0.936321:  80%|########  | 16/20 [00:07<00:01,  2.23it/s][I 2023-07-04 00:25:12,755] Trial 58 finished with value: 0.9363207547169812 and parameters: {'lambda_l1': 3.4605118783575483e-07, 'lambda_l2': 0.20947733011751984}. Best is trial 43 with value: 0.9363207547169812.\n",
            "regularization_factors, val_score: 0.936321:  80%|########  | 16/20 [00:07<00:01,  2.23it/s]"
          ]
        },
        {
          "name": "stdout",
          "output_type": "stream",
          "text": [
            "[120]\tvalid_0's auc: 0.964149\tvalid_1's auc: 0.892034\n",
            "[130]\tvalid_0's auc: 0.966775\tvalid_1's auc: 0.889413\n",
            "[140]\tvalid_0's auc: 0.968252\tvalid_1's auc: 0.886792\n",
            "[150]\tvalid_0's auc: 0.969697\tvalid_1's auc: 0.882075\n",
            "[160]\tvalid_0's auc: 0.971536\tvalid_1's auc: 0.880503\n",
            "[170]\tvalid_0's auc: 0.973505\tvalid_1's auc: 0.876834\n",
            "Early stopping, best iteration is:\n",
            "[128]\tvalid_0's auc: 0.867609\tvalid_1's auc: 0.936321\n"
          ]
        },
        {
          "name": "stderr",
          "output_type": "stream",
          "text": [
            "c:\\Users\\daich\\AppData\\Local\\Programs\\Python\\Python38\\lib\\site-packages\\lightgbm\\engine.py:239: UserWarning: 'verbose_eval' argument is deprecated and will be removed in a future release of LightGBM. Pass 'log_evaluation()' callback via 'callbacks' argument instead.\n",
            "  _log_warning(\"'verbose_eval' argument is deprecated and will be removed in a future release of LightGBM. \"\n"
          ]
        },
        {
          "name": "stdout",
          "output_type": "stream",
          "text": [
            "[10]\tvalid_0's auc: 0.899767\tvalid_1's auc: 0.880503\n",
            "[20]\tvalid_0's auc: 0.909042\tvalid_1's auc: 0.89282\n",
            "[30]\tvalid_0's auc: 0.915526\tvalid_1's auc: 0.904874\n",
            "[40]\tvalid_0's auc: 0.921419\tvalid_1's auc: 0.896751\n",
            "[50]\tvalid_0's auc: 0.928412\tvalid_1's auc: 0.906184\n",
            "[60]\tvalid_0's auc: 0.936505\tvalid_1's auc: 0.906447\n",
            "[70]\tvalid_0's auc: 0.943875\tvalid_1's auc: 0.916143\n",
            "[80]\tvalid_0's auc: 0.949473\tvalid_1's auc: 0.909853\n",
            "[90]\tvalid_0's auc: 0.954037\tvalid_1's auc: 0.906709\n",
            "[100]\tvalid_0's auc: 0.957911\tvalid_1's auc: 0.901992\n",
            "[110]\tvalid_0's auc: 0.960898\tvalid_1's auc: 0.899895\n"
          ]
        },
        {
          "name": "stderr",
          "output_type": "stream",
          "text": [
            "regularization_factors, val_score: 0.936321:  85%|########5 | 17/20 [00:07<00:01,  2.15it/s][I 2023-07-04 00:25:13,259] Trial 59 finished with value: 0.9363207547169812 and parameters: {'lambda_l1': 1.8903349040851462e-07, 'lambda_l2': 0.2407222675571089}. Best is trial 43 with value: 0.9363207547169812.\n",
            "regularization_factors, val_score: 0.936321:  85%|########5 | 17/20 [00:07<00:01,  2.15it/s]"
          ]
        },
        {
          "name": "stdout",
          "output_type": "stream",
          "text": [
            "[120]\tvalid_0's auc: 0.96428\tvalid_1's auc: 0.894654\n",
            "[130]\tvalid_0's auc: 0.966447\tvalid_1's auc: 0.893082\n",
            "[140]\tvalid_0's auc: 0.968351\tvalid_1's auc: 0.889937\n",
            "[150]\tvalid_0's auc: 0.970583\tvalid_1's auc: 0.887317\n",
            "[160]\tvalid_0's auc: 0.972126\tvalid_1's auc: 0.886792\n",
            "[170]\tvalid_0's auc: 0.973473\tvalid_1's auc: 0.883124\n",
            "Early stopping, best iteration is:\n",
            "[128]\tvalid_0's auc: 0.867609\tvalid_1's auc: 0.936321\n"
          ]
        },
        {
          "name": "stderr",
          "output_type": "stream",
          "text": [
            "c:\\Users\\daich\\AppData\\Local\\Programs\\Python\\Python38\\lib\\site-packages\\lightgbm\\engine.py:239: UserWarning: 'verbose_eval' argument is deprecated and will be removed in a future release of LightGBM. Pass 'log_evaluation()' callback via 'callbacks' argument instead.\n",
            "  _log_warning(\"'verbose_eval' argument is deprecated and will be removed in a future release of LightGBM. \"\n"
          ]
        },
        {
          "name": "stdout",
          "output_type": "stream",
          "text": [
            "[10]\tvalid_0's auc: 0.899668\tvalid_1's auc: 0.880503\n",
            "[20]\tvalid_0's auc: 0.909288\tvalid_1's auc: 0.89282\n",
            "[30]\tvalid_0's auc: 0.915263\tvalid_1's auc: 0.90435\n",
            "[40]\tvalid_0's auc: 0.920943\tvalid_1's auc: 0.898061\n",
            "[50]\tvalid_0's auc: 0.928231\tvalid_1's auc: 0.903564\n",
            "[60]\tvalid_0's auc: 0.93552\tvalid_1's auc: 0.905398\n",
            "[70]\tvalid_0's auc: 0.942644\tvalid_1's auc: 0.914046\n",
            "[80]\tvalid_0's auc: 0.949375\tvalid_1's auc: 0.910377\n",
            "[90]\tvalid_0's auc: 0.953675\tvalid_1's auc: 0.904612\n",
            "[100]\tvalid_0's auc: 0.957714\tvalid_1's auc: 0.900943\n",
            "[110]\tvalid_0's auc: 0.961062\tvalid_1's auc: 0.895178\n",
            "[120]\tvalid_0's auc: 0.964608\tvalid_1's auc: 0.892034\n"
          ]
        },
        {
          "name": "stderr",
          "output_type": "stream",
          "text": [
            "regularization_factors, val_score: 0.936321:  90%|######### | 18/20 [00:08<00:00,  2.15it/s][I 2023-07-04 00:25:13,721] Trial 60 finished with value: 0.9363207547169812 and parameters: {'lambda_l1': 2.0518389102182406e-07, 'lambda_l2': 0.3899685227762257}. Best is trial 43 with value: 0.9363207547169812.\n",
            "regularization_factors, val_score: 0.936321:  90%|######### | 18/20 [00:08<00:00,  2.15it/s]"
          ]
        },
        {
          "name": "stdout",
          "output_type": "stream",
          "text": [
            "[130]\tvalid_0's auc: 0.966381\tvalid_1's auc: 0.886268\n",
            "[140]\tvalid_0's auc: 0.968449\tvalid_1's auc: 0.883648\n",
            "[150]\tvalid_0's auc: 0.970419\tvalid_1's auc: 0.883124\n",
            "[160]\tvalid_0's auc: 0.972192\tvalid_1's auc: 0.882075\n",
            "[170]\tvalid_0's auc: 0.973538\tvalid_1's auc: 0.878931\n",
            "Early stopping, best iteration is:\n",
            "[128]\tvalid_0's auc: 0.867609\tvalid_1's auc: 0.936321\n"
          ]
        },
        {
          "name": "stderr",
          "output_type": "stream",
          "text": [
            "c:\\Users\\daich\\AppData\\Local\\Programs\\Python\\Python38\\lib\\site-packages\\lightgbm\\engine.py:239: UserWarning: 'verbose_eval' argument is deprecated and will be removed in a future release of LightGBM. Pass 'log_evaluation()' callback via 'callbacks' argument instead.\n",
            "  _log_warning(\"'verbose_eval' argument is deprecated and will be removed in a future release of LightGBM. \"\n"
          ]
        },
        {
          "name": "stdout",
          "output_type": "stream",
          "text": [
            "[10]\tvalid_0's auc: 0.866115\tvalid_1's auc: 0.933962\n",
            "[20]\tvalid_0's auc: 0.894333\tvalid_1's auc: 0.917977\n",
            "[30]\tvalid_0's auc: 0.899045\tvalid_1's auc: 0.914832\n",
            "[40]\tvalid_0's auc: 0.904183\tvalid_1's auc: 0.913784\n",
            "[50]\tvalid_0's auc: 0.912571\tvalid_1's auc: 0.914046\n",
            "[60]\tvalid_0's auc: 0.921698\tvalid_1's auc: 0.912736\n",
            "[70]\tvalid_0's auc: 0.927837\tvalid_1's auc: 0.921646\n",
            "[80]\tvalid_0's auc: 0.933123\tvalid_1's auc: 0.921384\n",
            "[90]\tvalid_0's auc: 0.938803\tvalid_1's auc: 0.918239\n",
            "[100]\tvalid_0's auc: 0.942628\tvalid_1's auc: 0.921384\n",
            "[110]\tvalid_0's auc: 0.947569\tvalid_1's auc: 0.917715\n",
            "[120]\tvalid_0's auc: 0.951213\tvalid_1's auc: 0.915618\n",
            "[130]\tvalid_0's auc: 0.954463\tvalid_1's auc: 0.915094\n"
          ]
        },
        {
          "name": "stderr",
          "output_type": "stream",
          "text": [
            "regularization_factors, val_score: 0.936321:  95%|#########5| 19/20 [00:08<00:00,  2.16it/s][I 2023-07-04 00:25:14,179] Trial 61 finished with value: 0.9363207547169812 and parameters: {'lambda_l1': 1.449657461411159e-08, 'lambda_l2': 9.68048404795114}. Best is trial 43 with value: 0.9363207547169812.\n",
            "regularization_factors, val_score: 0.936321:  95%|#########5| 19/20 [00:08<00:00,  2.16it/s]"
          ]
        },
        {
          "name": "stdout",
          "output_type": "stream",
          "text": [
            "[140]\tvalid_0's auc: 0.957188\tvalid_1's auc: 0.91195\n",
            "[150]\tvalid_0's auc: 0.959585\tvalid_1's auc: 0.905136\n",
            "[160]\tvalid_0's auc: 0.961227\tvalid_1's auc: 0.902516\n",
            "[170]\tvalid_0's auc: 0.963426\tvalid_1's auc: 0.901992\n",
            "Early stopping, best iteration is:\n",
            "[128]\tvalid_0's auc: 0.867609\tvalid_1's auc: 0.936321\n"
          ]
        },
        {
          "name": "stderr",
          "output_type": "stream",
          "text": [
            "c:\\Users\\daich\\AppData\\Local\\Programs\\Python\\Python38\\lib\\site-packages\\lightgbm\\engine.py:239: UserWarning: 'verbose_eval' argument is deprecated and will be removed in a future release of LightGBM. Pass 'log_evaluation()' callback via 'callbacks' argument instead.\n",
            "  _log_warning(\"'verbose_eval' argument is deprecated and will be removed in a future release of LightGBM. \"\n"
          ]
        },
        {
          "name": "stdout",
          "output_type": "stream",
          "text": [
            "[10]\tvalid_0's auc: 0.898749\tvalid_1's auc: 0.882338\n",
            "[20]\tvalid_0's auc: 0.908385\tvalid_1's auc: 0.896488\n",
            "[30]\tvalid_0's auc: 0.915542\tvalid_1's auc: 0.900681\n",
            "[40]\tvalid_0's auc: 0.920253\tvalid_1's auc: 0.903826\n",
            "[50]\tvalid_0's auc: 0.928067\tvalid_1's auc: 0.903826\n",
            "[60]\tvalid_0's auc: 0.936472\tvalid_1's auc: 0.909067\n",
            "[70]\tvalid_0's auc: 0.942513\tvalid_1's auc: 0.912998\n",
            "[80]\tvalid_0's auc: 0.948291\tvalid_1's auc: 0.910377\n",
            "[90]\tvalid_0's auc: 0.952592\tvalid_1's auc: 0.909853\n",
            "[100]\tvalid_0's auc: 0.956269\tvalid_1's auc: 0.907233\n",
            "[110]\tvalid_0's auc: 0.959487\tvalid_1's auc: 0.903564\n",
            "[120]\tvalid_0's auc: 0.962737\tvalid_1's auc: 0.896751\n",
            "[130]\tvalid_0's auc: 0.965068\tvalid_1's auc: 0.89413\n",
            "[140]\tvalid_0's auc: 0.967464\tvalid_1's auc: 0.885744\n",
            "[150]\tvalid_0's auc: 0.970321\tvalid_1's auc: 0.883648\n",
            "[160]\tvalid_0's auc: 0.972028\tvalid_1's auc: 0.884696\n"
          ]
        },
        {
          "name": "stderr",
          "output_type": "stream",
          "text": [
            "regularization_factors, val_score: 0.936321: 100%|##########| 20/20 [00:09<00:00,  1.96it/s][I 2023-07-04 00:25:14,804] Trial 62 finished with value: 0.9363207547169812 and parameters: {'lambda_l1': 1.2758232728136134e-08, 'lambda_l2': 0.8168854773480364}. Best is trial 43 with value: 0.9363207547169812.\n",
            "regularization_factors, val_score: 0.936321: 100%|##########| 20/20 [00:09<00:00,  2.14it/s]\n"
          ]
        },
        {
          "name": "stdout",
          "output_type": "stream",
          "text": [
            "[170]\tvalid_0's auc: 0.973407\tvalid_1's auc: 0.884172\n",
            "Early stopping, best iteration is:\n",
            "[128]\tvalid_0's auc: 0.867609\tvalid_1's auc: 0.936321\n"
          ]
        },
        {
          "name": "stderr",
          "output_type": "stream",
          "text": [
            "min_data_in_leaf, val_score: 0.936321:   0%|          | 0/5 [00:00<?, ?it/s]c:\\Users\\daich\\AppData\\Local\\Programs\\Python\\Python38\\lib\\site-packages\\lightgbm\\engine.py:239: UserWarning: 'verbose_eval' argument is deprecated and will be removed in a future release of LightGBM. Pass 'log_evaluation()' callback via 'callbacks' argument instead.\n",
            "  _log_warning(\"'verbose_eval' argument is deprecated and will be removed in a future release of LightGBM. \"\n"
          ]
        },
        {
          "name": "stdout",
          "output_type": "stream",
          "text": [
            "[10]\tvalid_0's auc: 0.897518\tvalid_1's auc: 0.886268\n",
            "[20]\tvalid_0's auc: 0.906661\tvalid_1's auc: 0.899633\n",
            "[30]\tvalid_0's auc: 0.914245\tvalid_1's auc: 0.905922\n",
            "[40]\tvalid_0's auc: 0.920516\tvalid_1's auc: 0.90173\n",
            "[50]\tvalid_0's auc: 0.927542\tvalid_1's auc: 0.902516\n",
            "[60]\tvalid_0's auc: 0.934157\tvalid_1's auc: 0.912736\n",
            "[70]\tvalid_0's auc: 0.942414\tvalid_1's auc: 0.916143\n",
            "[80]\tvalid_0's auc: 0.946945\tvalid_1's auc: 0.906709\n",
            "[90]\tvalid_0's auc: 0.952395\tvalid_1's auc: 0.907233\n",
            "[100]\tvalid_0's auc: 0.955777\tvalid_1's auc: 0.907757\n",
            "[110]\tvalid_0's auc: 0.959027\tvalid_1's auc: 0.908805\n",
            "[120]\tvalid_0's auc: 0.962507\tvalid_1's auc: 0.908281\n",
            "[130]\tvalid_0's auc: 0.965068\tvalid_1's auc: 0.90566\n",
            "[140]\tvalid_0's auc: 0.967661\tvalid_1's auc: 0.901468\n",
            "[150]\tvalid_0's auc: 0.969598\tvalid_1's auc: 0.893606\n",
            "[160]\tvalid_0's auc: 0.971142\tvalid_1's auc: 0.890985\n",
            "[170]\tvalid_0's auc: 0.972947\tvalid_1's auc: 0.891509\n",
            "Early stopping, best iteration is:\n",
            "[128]\tvalid_0's auc: 0.867609\tvalid_1's auc: 0.936321\n"
          ]
        },
        {
          "name": "stderr",
          "output_type": "stream",
          "text": [
            "min_data_in_leaf, val_score: 0.936321:  20%|##        | 1/5 [00:00<00:02,  1.68it/s][I 2023-07-04 00:25:15,406] Trial 63 finished with value: 0.9363207547169812 and parameters: {'min_child_samples': 10}. Best is trial 63 with value: 0.9363207547169812.\n",
            "min_data_in_leaf, val_score: 0.936321:  20%|##        | 1/5 [00:00<00:02,  1.68it/s]c:\\Users\\daich\\AppData\\Local\\Programs\\Python\\Python38\\lib\\site-packages\\lightgbm\\engine.py:239: UserWarning: 'verbose_eval' argument is deprecated and will be removed in a future release of LightGBM. Pass 'log_evaluation()' callback via 'callbacks' argument instead.\n",
            "  _log_warning(\"'verbose_eval' argument is deprecated and will be removed in a future release of LightGBM. \"\n"
          ]
        },
        {
          "name": "stdout",
          "output_type": "stream",
          "text": [
            "[10]\tvalid_0's auc: 0.897518\tvalid_1's auc: 0.886268\n",
            "[20]\tvalid_0's auc: 0.906661\tvalid_1's auc: 0.899633\n",
            "[30]\tvalid_0's auc: 0.914245\tvalid_1's auc: 0.905922\n",
            "[40]\tvalid_0's auc: 0.920516\tvalid_1's auc: 0.90173\n",
            "[50]\tvalid_0's auc: 0.927542\tvalid_1's auc: 0.902516\n",
            "[60]\tvalid_0's auc: 0.934157\tvalid_1's auc: 0.912736\n",
            "[70]\tvalid_0's auc: 0.942414\tvalid_1's auc: 0.915618\n",
            "[80]\tvalid_0's auc: 0.946945\tvalid_1's auc: 0.906709\n",
            "[90]\tvalid_0's auc: 0.952395\tvalid_1's auc: 0.906709\n",
            "[100]\tvalid_0's auc: 0.955777\tvalid_1's auc: 0.907757\n",
            "[110]\tvalid_0's auc: 0.959027\tvalid_1's auc: 0.908805\n"
          ]
        },
        {
          "name": "stderr",
          "output_type": "stream",
          "text": [
            "min_data_in_leaf, val_score: 0.936321:  40%|####      | 2/5 [00:01<00:01,  1.90it/s][I 2023-07-04 00:25:15,882] Trial 64 finished with value: 0.9363207547169812 and parameters: {'min_child_samples': 50}. Best is trial 63 with value: 0.9363207547169812.\n",
            "min_data_in_leaf, val_score: 0.936321:  40%|####      | 2/5 [00:01<00:01,  1.90it/s]"
          ]
        },
        {
          "name": "stdout",
          "output_type": "stream",
          "text": [
            "[120]\tvalid_0's auc: 0.962507\tvalid_1's auc: 0.908281\n",
            "[130]\tvalid_0's auc: 0.965068\tvalid_1's auc: 0.90566\n",
            "[140]\tvalid_0's auc: 0.967661\tvalid_1's auc: 0.901468\n",
            "[150]\tvalid_0's auc: 0.969598\tvalid_1's auc: 0.893606\n",
            "[160]\tvalid_0's auc: 0.971142\tvalid_1's auc: 0.890985\n",
            "[170]\tvalid_0's auc: 0.972947\tvalid_1's auc: 0.891509\n",
            "Early stopping, best iteration is:\n",
            "[128]\tvalid_0's auc: 0.867609\tvalid_1's auc: 0.936321\n"
          ]
        },
        {
          "name": "stderr",
          "output_type": "stream",
          "text": [
            "c:\\Users\\daich\\AppData\\Local\\Programs\\Python\\Python38\\lib\\site-packages\\lightgbm\\engine.py:239: UserWarning: 'verbose_eval' argument is deprecated and will be removed in a future release of LightGBM. Pass 'log_evaluation()' callback via 'callbacks' argument instead.\n",
            "  _log_warning(\"'verbose_eval' argument is deprecated and will be removed in a future release of LightGBM. \"\n"
          ]
        },
        {
          "name": "stdout",
          "output_type": "stream",
          "text": [
            "[10]\tvalid_0's auc: 0.897518\tvalid_1's auc: 0.886268\n",
            "[20]\tvalid_0's auc: 0.906661\tvalid_1's auc: 0.899633\n",
            "[30]\tvalid_0's auc: 0.914245\tvalid_1's auc: 0.905922\n",
            "[40]\tvalid_0's auc: 0.920516\tvalid_1's auc: 0.90173\n",
            "[50]\tvalid_0's auc: 0.927542\tvalid_1's auc: 0.902516\n",
            "[60]\tvalid_0's auc: 0.934157\tvalid_1's auc: 0.912736\n",
            "[70]\tvalid_0's auc: 0.942414\tvalid_1's auc: 0.916143\n",
            "[80]\tvalid_0's auc: 0.946945\tvalid_1's auc: 0.906709\n",
            "[90]\tvalid_0's auc: 0.952395\tvalid_1's auc: 0.907233\n",
            "[100]\tvalid_0's auc: 0.955777\tvalid_1's auc: 0.907757\n"
          ]
        },
        {
          "name": "stderr",
          "output_type": "stream",
          "text": [
            "min_data_in_leaf, val_score: 0.936321:  60%|######    | 3/5 [00:01<00:01,  1.99it/s][I 2023-07-04 00:25:16,356] Trial 65 finished with value: 0.9363207547169812 and parameters: {'min_child_samples': 100}. Best is trial 63 with value: 0.9363207547169812.\n",
            "min_data_in_leaf, val_score: 0.936321:  60%|######    | 3/5 [00:01<00:01,  1.99it/s]"
          ]
        },
        {
          "name": "stdout",
          "output_type": "stream",
          "text": [
            "[110]\tvalid_0's auc: 0.959027\tvalid_1's auc: 0.908805\n",
            "[120]\tvalid_0's auc: 0.962507\tvalid_1's auc: 0.908281\n",
            "[130]\tvalid_0's auc: 0.965068\tvalid_1's auc: 0.90566\n",
            "[140]\tvalid_0's auc: 0.967661\tvalid_1's auc: 0.901468\n",
            "[150]\tvalid_0's auc: 0.969598\tvalid_1's auc: 0.893606\n",
            "[160]\tvalid_0's auc: 0.971142\tvalid_1's auc: 0.890985\n",
            "[170]\tvalid_0's auc: 0.972947\tvalid_1's auc: 0.891509\n",
            "Early stopping, best iteration is:\n",
            "[128]\tvalid_0's auc: 0.867609\tvalid_1's auc: 0.936321\n"
          ]
        },
        {
          "name": "stderr",
          "output_type": "stream",
          "text": [
            "c:\\Users\\daich\\AppData\\Local\\Programs\\Python\\Python38\\lib\\site-packages\\lightgbm\\engine.py:239: UserWarning: 'verbose_eval' argument is deprecated and will be removed in a future release of LightGBM. Pass 'log_evaluation()' callback via 'callbacks' argument instead.\n",
            "  _log_warning(\"'verbose_eval' argument is deprecated and will be removed in a future release of LightGBM. \"\n"
          ]
        },
        {
          "name": "stdout",
          "output_type": "stream",
          "text": [
            "[10]\tvalid_0's auc: 0.897518\tvalid_1's auc: 0.886268\n",
            "[20]\tvalid_0's auc: 0.906661\tvalid_1's auc: 0.899633\n",
            "[30]\tvalid_0's auc: 0.914245\tvalid_1's auc: 0.905922\n",
            "[40]\tvalid_0's auc: 0.920516\tvalid_1's auc: 0.90173\n",
            "[50]\tvalid_0's auc: 0.927542\tvalid_1's auc: 0.902516\n",
            "[60]\tvalid_0's auc: 0.934157\tvalid_1's auc: 0.912736\n",
            "[70]\tvalid_0's auc: 0.942414\tvalid_1's auc: 0.915618\n",
            "[80]\tvalid_0's auc: 0.946945\tvalid_1's auc: 0.906709\n",
            "[90]\tvalid_0's auc: 0.952395\tvalid_1's auc: 0.906709\n"
          ]
        },
        {
          "name": "stderr",
          "output_type": "stream",
          "text": [
            "min_data_in_leaf, val_score: 0.936321:  60%|######    | 3/5 [00:02<00:01,  1.99it/s]"
          ]
        },
        {
          "name": "stdout",
          "output_type": "stream",
          "text": [
            "[100]\tvalid_0's auc: 0.955777\tvalid_1's auc: 0.907757\n",
            "[110]\tvalid_0's auc: 0.959027\tvalid_1's auc: 0.908805\n",
            "[120]\tvalid_0's auc: 0.962507\tvalid_1's auc: 0.908281\n",
            "[130]\tvalid_0's auc: 0.965068\tvalid_1's auc: 0.90566\n",
            "[140]\tvalid_0's auc: 0.967661\tvalid_1's auc: 0.901468\n",
            "[150]\tvalid_0's auc: 0.969598\tvalid_1's auc: 0.893606\n",
            "[160]\tvalid_0's auc: 0.971142\tvalid_1's auc: 0.890985\n",
            "[170]\tvalid_0's auc: 0.972947\tvalid_1's auc: 0.891509\n",
            "Early stopping, best iteration is:\n",
            "[128]\tvalid_0's auc: 0.867609\tvalid_1's auc: 0.936321\n"
          ]
        },
        {
          "name": "stderr",
          "output_type": "stream",
          "text": [
            "min_data_in_leaf, val_score: 0.936321:  80%|########  | 4/5 [00:02<00:00,  1.98it/s][I 2023-07-04 00:25:16,866] Trial 66 finished with value: 0.9363207547169812 and parameters: {'min_child_samples': 25}. Best is trial 63 with value: 0.9363207547169812.\n",
            "min_data_in_leaf, val_score: 0.936321:  80%|########  | 4/5 [00:02<00:00,  1.98it/s]c:\\Users\\daich\\AppData\\Local\\Programs\\Python\\Python38\\lib\\site-packages\\lightgbm\\engine.py:239: UserWarning: 'verbose_eval' argument is deprecated and will be removed in a future release of LightGBM. Pass 'log_evaluation()' callback via 'callbacks' argument instead.\n",
            "  _log_warning(\"'verbose_eval' argument is deprecated and will be removed in a future release of LightGBM. \"\n"
          ]
        },
        {
          "name": "stdout",
          "output_type": "stream",
          "text": [
            "[10]\tvalid_0's auc: 0.897518\tvalid_1's auc: 0.886268\n",
            "[20]\tvalid_0's auc: 0.906661\tvalid_1's auc: 0.899633\n",
            "[30]\tvalid_0's auc: 0.914245\tvalid_1's auc: 0.905922\n",
            "[40]\tvalid_0's auc: 0.920516\tvalid_1's auc: 0.90173\n",
            "[50]\tvalid_0's auc: 0.927542\tvalid_1's auc: 0.902516\n",
            "[60]\tvalid_0's auc: 0.934157\tvalid_1's auc: 0.912736\n",
            "[70]\tvalid_0's auc: 0.942414\tvalid_1's auc: 0.916143\n",
            "[80]\tvalid_0's auc: 0.946945\tvalid_1's auc: 0.906709\n",
            "[90]\tvalid_0's auc: 0.952395\tvalid_1's auc: 0.907233\n",
            "[100]\tvalid_0's auc: 0.955777\tvalid_1's auc: 0.907757\n",
            "[110]\tvalid_0's auc: 0.959027\tvalid_1's auc: 0.908805\n",
            "[120]\tvalid_0's auc: 0.962507\tvalid_1's auc: 0.908281\n"
          ]
        },
        {
          "name": "stderr",
          "output_type": "stream",
          "text": [
            "min_data_in_leaf, val_score: 0.936321: 100%|##########| 5/5 [00:02<00:00,  2.09it/s][I 2023-07-04 00:25:17,297] Trial 67 finished with value: 0.9363207547169812 and parameters: {'min_child_samples': 5}. Best is trial 63 with value: 0.9363207547169812.\n",
            "min_data_in_leaf, val_score: 0.936321: 100%|##########| 5/5 [00:02<00:00,  2.01it/s]\n",
            "[I 2023-07-04 00:25:17,303] A new study created in memory with name: no-name-55bf0f8f-6dd8-450b-acaf-6b3ccaf5bf45\n"
          ]
        },
        {
          "name": "stdout",
          "output_type": "stream",
          "text": [
            "[130]\tvalid_0's auc: 0.965068\tvalid_1's auc: 0.90566\n",
            "[140]\tvalid_0's auc: 0.967661\tvalid_1's auc: 0.901468\n",
            "[150]\tvalid_0's auc: 0.969598\tvalid_1's auc: 0.893606\n",
            "[160]\tvalid_0's auc: 0.971142\tvalid_1's auc: 0.890985\n",
            "[170]\tvalid_0's auc: 0.972947\tvalid_1's auc: 0.891509\n",
            "Early stopping, best iteration is:\n",
            "[128]\tvalid_0's auc: 0.867609\tvalid_1's auc: 0.936321\n",
            "ROC: 0.9061844863731656\n"
          ]
        },
        {
          "name": "stderr",
          "output_type": "stream",
          "text": [
            "feature_fraction, val_score: -inf:   0%|          | 0/7 [00:00<?, ?it/s]"
          ]
        },
        {
          "name": "stdout",
          "output_type": "stream",
          "text": [
            "[LightGBM] [Warning] min_data_in_leaf is set=20, min_child_samples=20 will be ignored. Current value: min_data_in_leaf=20\n",
            "Training until validation scores don't improve for 50 rounds\n"
          ]
        },
        {
          "name": "stderr",
          "output_type": "stream",
          "text": [
            "c:\\Users\\daich\\AppData\\Local\\Programs\\Python\\Python38\\lib\\site-packages\\lightgbm\\engine.py:239: UserWarning: 'verbose_eval' argument is deprecated and will be removed in a future release of LightGBM. Pass 'log_evaluation()' callback via 'callbacks' argument instead.\n",
            "  _log_warning(\"'verbose_eval' argument is deprecated and will be removed in a future release of LightGBM. \"\n"
          ]
        },
        {
          "name": "stdout",
          "output_type": "stream",
          "text": [
            "[10]\tvalid_0's auc: 0.881568\tvalid_1's auc: 0.746296\n",
            "[20]\tvalid_0's auc: 0.881568\tvalid_1's auc: 0.746296\n",
            "[30]\tvalid_0's auc: 0.883255\tvalid_1's auc: 0.746825\n",
            "[40]\tvalid_0's auc: 0.892934\tvalid_1's auc: 0.728307\n",
            "[50]\tvalid_0's auc: 0.890789\tvalid_1's auc: 0.729101\n",
            "[60]\tvalid_0's auc: 0.891362\tvalid_1's auc: 0.72963\n",
            "[70]\tvalid_0's auc: 0.891509\tvalid_1's auc: 0.72963\n",
            "Early stopping, best iteration is:\n",
            "[26]\tvalid_0's auc: 0.883255\tvalid_1's auc: 0.746825\n"
          ]
        },
        {
          "name": "stderr",
          "output_type": "stream",
          "text": [
            "feature_fraction, val_score: 0.746825:  14%|#4        | 1/7 [00:00<00:01,  5.20it/s][I 2023-07-04 00:25:17,500] Trial 0 finished with value: 0.7468253968253968 and parameters: {'feature_fraction': 1.0}. Best is trial 0 with value: 0.7468253968253968.\n",
            "feature_fraction, val_score: 0.746825:  14%|#4        | 1/7 [00:00<00:01,  5.20it/s]c:\\Users\\daich\\AppData\\Local\\Programs\\Python\\Python38\\lib\\site-packages\\lightgbm\\engine.py:239: UserWarning: 'verbose_eval' argument is deprecated and will be removed in a future release of LightGBM. Pass 'log_evaluation()' callback via 'callbacks' argument instead.\n",
            "  _log_warning(\"'verbose_eval' argument is deprecated and will be removed in a future release of LightGBM. \"\n",
            "feature_fraction, val_score: 0.746825:  29%|##8       | 2/7 [00:00<00:01,  4.60it/s][I 2023-07-04 00:25:17,734] Trial 1 finished with value: 0.7468253968253968 and parameters: {'feature_fraction': 0.4}. Best is trial 0 with value: 0.7468253968253968.\n",
            "feature_fraction, val_score: 0.746825:  29%|##8       | 2/7 [00:00<00:01,  4.60it/s]"
          ]
        },
        {
          "name": "stdout",
          "output_type": "stream",
          "text": [
            "[10]\tvalid_0's auc: 0.876294\tvalid_1's auc: 0.712698\n",
            "[20]\tvalid_0's auc: 0.887595\tvalid_1's auc: 0.711905\n",
            "[30]\tvalid_0's auc: 0.886792\tvalid_1's auc: 0.716667\n",
            "[40]\tvalid_0's auc: 0.889691\tvalid_1's auc: 0.718254\n",
            "[50]\tvalid_0's auc: 0.888971\tvalid_1's auc: 0.72037\n",
            "[60]\tvalid_0's auc: 0.88956\tvalid_1's auc: 0.720899\n",
            "[70]\tvalid_0's auc: 0.889429\tvalid_1's auc: 0.721429\n",
            "Early stopping, best iteration is:\n",
            "[26]\tvalid_0's auc: 0.883255\tvalid_1's auc: 0.746825\n"
          ]
        },
        {
          "name": "stderr",
          "output_type": "stream",
          "text": [
            "c:\\Users\\daich\\AppData\\Local\\Programs\\Python\\Python38\\lib\\site-packages\\lightgbm\\engine.py:239: UserWarning: 'verbose_eval' argument is deprecated and will be removed in a future release of LightGBM. Pass 'log_evaluation()' callback via 'callbacks' argument instead.\n",
            "  _log_warning(\"'verbose_eval' argument is deprecated and will be removed in a future release of LightGBM. \"\n",
            "feature_fraction, val_score: 0.746825:  43%|####2     | 3/7 [00:00<00:00,  4.70it/s][I 2023-07-04 00:25:17,942] Trial 2 finished with value: 0.7468253968253968 and parameters: {'feature_fraction': 0.6}. Best is trial 0 with value: 0.7468253968253968.\n",
            "feature_fraction, val_score: 0.746825:  43%|####2     | 3/7 [00:00<00:00,  4.70it/s]"
          ]
        },
        {
          "name": "stdout",
          "output_type": "stream",
          "text": [
            "[10]\tvalid_0's auc: 0.883287\tvalid_1's auc: 0.729894\n",
            "[20]\tvalid_0's auc: 0.889216\tvalid_1's auc: 0.730952\n",
            "[30]\tvalid_0's auc: 0.889577\tvalid_1's auc: 0.732011\n",
            "[40]\tvalid_0's auc: 0.890625\tvalid_1's auc: 0.730952\n",
            "[50]\tvalid_0's auc: 0.893573\tvalid_1's auc: 0.73254\n",
            "[60]\tvalid_0's auc: 0.893311\tvalid_1's auc: 0.734656\n",
            "[70]\tvalid_0's auc: 0.893246\tvalid_1's auc: 0.733598\n",
            "Early stopping, best iteration is:\n",
            "[26]\tvalid_0's auc: 0.883255\tvalid_1's auc: 0.746825\n",
            "[10]\tvalid_0's auc: 0.884598\tvalid_1's auc: 0.734656\n"
          ]
        },
        {
          "name": "stderr",
          "output_type": "stream",
          "text": [
            "c:\\Users\\daich\\AppData\\Local\\Programs\\Python\\Python38\\lib\\site-packages\\lightgbm\\engine.py:239: UserWarning: 'verbose_eval' argument is deprecated and will be removed in a future release of LightGBM. Pass 'log_evaluation()' callback via 'callbacks' argument instead.\n",
            "  _log_warning(\"'verbose_eval' argument is deprecated and will be removed in a future release of LightGBM. \"\n",
            "feature_fraction, val_score: 0.746825:  57%|#####7    | 4/7 [00:00<00:00,  4.61it/s][I 2023-07-04 00:25:18,167] Trial 3 finished with value: 0.7468253968253968 and parameters: {'feature_fraction': 0.8999999999999999}. Best is trial 0 with value: 0.7468253968253968.\n",
            "feature_fraction, val_score: 0.746825:  57%|#####7    | 4/7 [00:00<00:00,  4.61it/s]"
          ]
        },
        {
          "name": "stdout",
          "output_type": "stream",
          "text": [
            "[20]\tvalid_0's auc: 0.885777\tvalid_1's auc: 0.737831\n",
            "[30]\tvalid_0's auc: 0.886973\tvalid_1's auc: 0.739418\n",
            "[40]\tvalid_0's auc: 0.892345\tvalid_1's auc: 0.742328\n",
            "[50]\tvalid_0's auc: 0.896128\tvalid_1's auc: 0.742328\n",
            "[60]\tvalid_0's auc: 0.896488\tvalid_1's auc: 0.738889\n",
            "[70]\tvalid_0's auc: 0.896079\tvalid_1's auc: 0.739418\n",
            "Early stopping, best iteration is:\n",
            "[26]\tvalid_0's auc: 0.883255\tvalid_1's auc: 0.746825\n"
          ]
        },
        {
          "name": "stderr",
          "output_type": "stream",
          "text": [
            "c:\\Users\\daich\\AppData\\Local\\Programs\\Python\\Python38\\lib\\site-packages\\lightgbm\\engine.py:239: UserWarning: 'verbose_eval' argument is deprecated and will be removed in a future release of LightGBM. Pass 'log_evaluation()' callback via 'callbacks' argument instead.\n",
            "  _log_warning(\"'verbose_eval' argument is deprecated and will be removed in a future release of LightGBM. \"\n",
            "feature_fraction, val_score: 0.746825:  71%|#######1  | 5/7 [00:01<00:00,  4.68it/s][I 2023-07-04 00:25:18,374] Trial 4 finished with value: 0.7468253968253968 and parameters: {'feature_fraction': 0.5}. Best is trial 0 with value: 0.7468253968253968.\n",
            "feature_fraction, val_score: 0.746825:  71%|#######1  | 5/7 [00:01<00:00,  4.68it/s]"
          ]
        },
        {
          "name": "stdout",
          "output_type": "stream",
          "text": [
            "[10]\tvalid_0's auc: 0.883287\tvalid_1's auc: 0.729894\n",
            "[20]\tvalid_0's auc: 0.889216\tvalid_1's auc: 0.730952\n",
            "[30]\tvalid_0's auc: 0.889577\tvalid_1's auc: 0.732011\n",
            "[40]\tvalid_0's auc: 0.890625\tvalid_1's auc: 0.730952\n",
            "[50]\tvalid_0's auc: 0.893573\tvalid_1's auc: 0.73254\n",
            "[60]\tvalid_0's auc: 0.893311\tvalid_1's auc: 0.734656\n",
            "[70]\tvalid_0's auc: 0.893246\tvalid_1's auc: 0.733598\n",
            "Early stopping, best iteration is:\n",
            "[26]\tvalid_0's auc: 0.883255\tvalid_1's auc: 0.746825\n",
            "[10]\tvalid_0's auc: 0.884598\tvalid_1's auc: 0.734656\n"
          ]
        },
        {
          "name": "stderr",
          "output_type": "stream",
          "text": [
            "c:\\Users\\daich\\AppData\\Local\\Programs\\Python\\Python38\\lib\\site-packages\\lightgbm\\engine.py:239: UserWarning: 'verbose_eval' argument is deprecated and will be removed in a future release of LightGBM. Pass 'log_evaluation()' callback via 'callbacks' argument instead.\n",
            "  _log_warning(\"'verbose_eval' argument is deprecated and will be removed in a future release of LightGBM. \"\n",
            "feature_fraction, val_score: 0.746825:  86%|########5 | 6/7 [00:01<00:00,  4.72it/s][I 2023-07-04 00:25:18,582] Trial 5 finished with value: 0.7468253968253968 and parameters: {'feature_fraction': 0.8}. Best is trial 0 with value: 0.7468253968253968.\n",
            "feature_fraction, val_score: 0.746825:  86%|########5 | 6/7 [00:01<00:00,  4.72it/s]"
          ]
        },
        {
          "name": "stdout",
          "output_type": "stream",
          "text": [
            "[20]\tvalid_0's auc: 0.885777\tvalid_1's auc: 0.737831\n",
            "[30]\tvalid_0's auc: 0.886973\tvalid_1's auc: 0.739418\n",
            "[40]\tvalid_0's auc: 0.892345\tvalid_1's auc: 0.742328\n",
            "[50]\tvalid_0's auc: 0.896128\tvalid_1's auc: 0.742328\n",
            "[60]\tvalid_0's auc: 0.896488\tvalid_1's auc: 0.738889\n",
            "[70]\tvalid_0's auc: 0.896079\tvalid_1's auc: 0.739418\n",
            "Early stopping, best iteration is:\n",
            "[26]\tvalid_0's auc: 0.883255\tvalid_1's auc: 0.746825\n",
            "[10]\tvalid_0's auc: 0.883681\tvalid_1's auc: 0.733598\n",
            "[20]\tvalid_0's auc: 0.886088\tvalid_1's auc: 0.728042\n",
            "[30]\tvalid_0's auc: 0.887546\tvalid_1's auc: 0.733069\n"
          ]
        },
        {
          "name": "stderr",
          "output_type": "stream",
          "text": [
            "c:\\Users\\daich\\AppData\\Local\\Programs\\Python\\Python38\\lib\\site-packages\\lightgbm\\engine.py:239: UserWarning: 'verbose_eval' argument is deprecated and will be removed in a future release of LightGBM. Pass 'log_evaluation()' callback via 'callbacks' argument instead.\n",
            "  _log_warning(\"'verbose_eval' argument is deprecated and will be removed in a future release of LightGBM. \"\n",
            "feature_fraction, val_score: 0.746825: 100%|##########| 7/7 [00:01<00:00,  4.81it/s][I 2023-07-04 00:25:18,782] Trial 6 finished with value: 0.7468253968253968 and parameters: {'feature_fraction': 0.7}. Best is trial 0 with value: 0.7468253968253968.\n",
            "feature_fraction, val_score: 0.746825: 100%|##########| 7/7 [00:01<00:00,  4.74it/s]\n"
          ]
        },
        {
          "name": "stdout",
          "output_type": "stream",
          "text": [
            "[40]\tvalid_0's auc: 0.893671\tvalid_1's auc: 0.739947\n",
            "[50]\tvalid_0's auc: 0.894441\tvalid_1's auc: 0.739947\n",
            "[60]\tvalid_0's auc: 0.895178\tvalid_1's auc: 0.739683\n",
            "[70]\tvalid_0's auc: 0.895358\tvalid_1's auc: 0.739153\n",
            "Early stopping, best iteration is:\n",
            "[26]\tvalid_0's auc: 0.883255\tvalid_1's auc: 0.746825\n"
          ]
        },
        {
          "name": "stderr",
          "output_type": "stream",
          "text": [
            "num_leaves, val_score: 0.746825:   0%|          | 0/20 [00:00<?, ?it/s]"
          ]
        },
        {
          "name": "stdout",
          "output_type": "stream",
          "text": [
            "[10]\tvalid_0's auc: 0.881568\tvalid_1's auc: 0.746296\n",
            "[20]\tvalid_0's auc: 0.881568\tvalid_1's auc: 0.746296\n",
            "[30]\tvalid_0's auc: 0.883255\tvalid_1's auc: 0.746825\n",
            "[40]\tvalid_0's auc: 0.892934\tvalid_1's auc: 0.728307\n"
          ]
        },
        {
          "name": "stderr",
          "output_type": "stream",
          "text": [
            "c:\\Users\\daich\\AppData\\Local\\Programs\\Python\\Python38\\lib\\site-packages\\lightgbm\\engine.py:239: UserWarning: 'verbose_eval' argument is deprecated and will be removed in a future release of LightGBM. Pass 'log_evaluation()' callback via 'callbacks' argument instead.\n",
            "  _log_warning(\"'verbose_eval' argument is deprecated and will be removed in a future release of LightGBM. \"\n",
            "num_leaves, val_score: 0.746825:   5%|5         | 1/20 [00:00<00:03,  5.00it/s][I 2023-07-04 00:25:18,985] Trial 7 finished with value: 0.7468253968253968 and parameters: {'num_leaves': 122}. Best is trial 7 with value: 0.7468253968253968.\n",
            "num_leaves, val_score: 0.746825:   5%|5         | 1/20 [00:00<00:03,  5.00it/s]"
          ]
        },
        {
          "name": "stdout",
          "output_type": "stream",
          "text": [
            "[50]\tvalid_0's auc: 0.890789\tvalid_1's auc: 0.729101\n",
            "[60]\tvalid_0's auc: 0.891362\tvalid_1's auc: 0.72963\n",
            "[70]\tvalid_0's auc: 0.891509\tvalid_1's auc: 0.72963\n",
            "Early stopping, best iteration is:\n",
            "[26]\tvalid_0's auc: 0.883255\tvalid_1's auc: 0.746825\n",
            "[10]\tvalid_0's auc: 0.881568\tvalid_1's auc: 0.746296\n",
            "[20]\tvalid_0's auc: 0.881568\tvalid_1's auc: 0.746296\n"
          ]
        },
        {
          "name": "stderr",
          "output_type": "stream",
          "text": [
            "c:\\Users\\daich\\AppData\\Local\\Programs\\Python\\Python38\\lib\\site-packages\\lightgbm\\engine.py:239: UserWarning: 'verbose_eval' argument is deprecated and will be removed in a future release of LightGBM. Pass 'log_evaluation()' callback via 'callbacks' argument instead.\n",
            "  _log_warning(\"'verbose_eval' argument is deprecated and will be removed in a future release of LightGBM. \"\n",
            "num_leaves, val_score: 0.746825:  10%|#         | 2/20 [00:00<00:03,  4.95it/s][I 2023-07-04 00:25:19,189] Trial 8 finished with value: 0.7468253968253968 and parameters: {'num_leaves': 163}. Best is trial 7 with value: 0.7468253968253968.\n",
            "num_leaves, val_score: 0.746825:  10%|#         | 2/20 [00:00<00:03,  4.95it/s]"
          ]
        },
        {
          "name": "stdout",
          "output_type": "stream",
          "text": [
            "[30]\tvalid_0's auc: 0.883255\tvalid_1's auc: 0.746825\n",
            "[40]\tvalid_0's auc: 0.892934\tvalid_1's auc: 0.728307\n",
            "[50]\tvalid_0's auc: 0.890789\tvalid_1's auc: 0.729101\n",
            "[60]\tvalid_0's auc: 0.891362\tvalid_1's auc: 0.72963\n",
            "[70]\tvalid_0's auc: 0.891509\tvalid_1's auc: 0.72963\n",
            "Early stopping, best iteration is:\n",
            "[26]\tvalid_0's auc: 0.883255\tvalid_1's auc: 0.746825\n",
            "[10]\tvalid_0's auc: 0.881568\tvalid_1's auc: 0.746296\n",
            "[20]\tvalid_0's auc: 0.881568\tvalid_1's auc: 0.746296"
          ]
        },
        {
          "name": "stderr",
          "output_type": "stream",
          "text": [
            "c:\\Users\\daich\\AppData\\Local\\Programs\\Python\\Python38\\lib\\site-packages\\lightgbm\\engine.py:239: UserWarning: 'verbose_eval' argument is deprecated and will be removed in a future release of LightGBM. Pass 'log_evaluation()' callback via 'callbacks' argument instead.\n",
            "  _log_warning(\"'verbose_eval' argument is deprecated and will be removed in a future release of LightGBM. \"\n",
            "num_leaves, val_score: 0.746825:  15%|#5        | 3/20 [00:00<00:03,  4.63it/s][I 2023-07-04 00:25:19,422] Trial 9 finished with value: 0.7468253968253968 and parameters: {'num_leaves': 63}. Best is trial 7 with value: 0.7468253968253968.\n",
            "num_leaves, val_score: 0.746825:  15%|#5        | 3/20 [00:00<00:03,  4.63it/s]"
          ]
        },
        {
          "name": "stdout",
          "output_type": "stream",
          "text": [
            "\n",
            "[30]\tvalid_0's auc: 0.883255\tvalid_1's auc: 0.746825\n",
            "[40]\tvalid_0's auc: 0.892934\tvalid_1's auc: 0.728307\n",
            "[50]\tvalid_0's auc: 0.890789\tvalid_1's auc: 0.729101\n",
            "[60]\tvalid_0's auc: 0.891362\tvalid_1's auc: 0.72963\n",
            "[70]\tvalid_0's auc: 0.891509\tvalid_1's auc: 0.72963\n",
            "Early stopping, best iteration is:\n",
            "[26]\tvalid_0's auc: 0.883255\tvalid_1's auc: 0.746825\n"
          ]
        },
        {
          "name": "stderr",
          "output_type": "stream",
          "text": [
            "c:\\Users\\daich\\AppData\\Local\\Programs\\Python\\Python38\\lib\\site-packages\\lightgbm\\engine.py:239: UserWarning: 'verbose_eval' argument is deprecated and will be removed in a future release of LightGBM. Pass 'log_evaluation()' callback via 'callbacks' argument instead.\n",
            "  _log_warning(\"'verbose_eval' argument is deprecated and will be removed in a future release of LightGBM. \"\n",
            "num_leaves, val_score: 0.746825:  20%|##        | 4/20 [00:00<00:03,  4.43it/s][I 2023-07-04 00:25:19,662] Trial 10 finished with value: 0.7468253968253968 and parameters: {'num_leaves': 236}. Best is trial 7 with value: 0.7468253968253968.\n",
            "num_leaves, val_score: 0.746825:  20%|##        | 4/20 [00:00<00:03,  4.43it/s]"
          ]
        },
        {
          "name": "stdout",
          "output_type": "stream",
          "text": [
            "[10]\tvalid_0's auc: 0.881568\tvalid_1's auc: 0.746296\n",
            "[20]\tvalid_0's auc: 0.881568\tvalid_1's auc: 0.746296\n",
            "[30]\tvalid_0's auc: 0.883255\tvalid_1's auc: 0.746825\n",
            "[40]\tvalid_0's auc: 0.892934\tvalid_1's auc: 0.728307\n",
            "[50]\tvalid_0's auc: 0.890789\tvalid_1's auc: 0.729101\n",
            "[60]\tvalid_0's auc: 0.891362\tvalid_1's auc: 0.72963\n",
            "[70]\tvalid_0's auc: 0.891509\tvalid_1's auc: 0.72963\n",
            "Early stopping, best iteration is:\n",
            "[26]\tvalid_0's auc: 0.883255\tvalid_1's auc: 0.746825\n"
          ]
        },
        {
          "name": "stderr",
          "output_type": "stream",
          "text": [
            "c:\\Users\\daich\\AppData\\Local\\Programs\\Python\\Python38\\lib\\site-packages\\lightgbm\\engine.py:239: UserWarning: 'verbose_eval' argument is deprecated and will be removed in a future release of LightGBM. Pass 'log_evaluation()' callback via 'callbacks' argument instead.\n",
            "  _log_warning(\"'verbose_eval' argument is deprecated and will be removed in a future release of LightGBM. \"\n"
          ]
        },
        {
          "name": "stdout",
          "output_type": "stream",
          "text": [
            "[10]\tvalid_0's auc: 0.881568\tvalid_1's auc: 0.746296\n",
            "[20]\tvalid_0's auc: 0.881568\tvalid_1's auc: 0.746296\n",
            "[30]\tvalid_0's auc: 0.883255\tvalid_1's auc: 0.746825\n",
            "[40]\tvalid_0's auc: 0.892934\tvalid_1's auc: 0.728307\n",
            "[50]\tvalid_0's auc: 0.890789\tvalid_1's auc: 0.729101\n",
            "[60]\tvalid_0's auc: 0.891362\tvalid_1's auc: 0.72963\n",
            "[70]\tvalid_0's auc: 0.891509\tvalid_1's auc: 0.72963\n",
            "Early stopping, best iteration is:\n",
            "[26]\tvalid_0's auc: 0.883255\tvalid_1's auc: 0.746825\n"
          ]
        },
        {
          "name": "stderr",
          "output_type": "stream",
          "text": [
            "num_leaves, val_score: 0.746825:  25%|##5       | 5/20 [00:01<00:04,  3.71it/s][I 2023-07-04 00:25:20,009] Trial 11 finished with value: 0.7468253968253968 and parameters: {'num_leaves': 8}. Best is trial 7 with value: 0.7468253968253968.\n",
            "num_leaves, val_score: 0.746825:  25%|##5       | 5/20 [00:01<00:04,  3.71it/s]c:\\Users\\daich\\AppData\\Local\\Programs\\Python\\Python38\\lib\\site-packages\\lightgbm\\engine.py:239: UserWarning: 'verbose_eval' argument is deprecated and will be removed in a future release of LightGBM. Pass 'log_evaluation()' callback via 'callbacks' argument instead.\n",
            "  _log_warning(\"'verbose_eval' argument is deprecated and will be removed in a future release of LightGBM. \"\n",
            "num_leaves, val_score: 0.746825:  30%|###       | 6/20 [00:01<00:03,  3.87it/s][I 2023-07-04 00:25:20,246] Trial 12 finished with value: 0.7468253968253968 and parameters: {'num_leaves': 233}. Best is trial 7 with value: 0.7468253968253968.\n",
            "num_leaves, val_score: 0.746825:  30%|###       | 6/20 [00:01<00:03,  3.87it/s]"
          ]
        },
        {
          "name": "stdout",
          "output_type": "stream",
          "text": [
            "[10]\tvalid_0's auc: 0.881568\tvalid_1's auc: 0.746296\n",
            "[20]\tvalid_0's auc: 0.881568\tvalid_1's auc: 0.746296\n",
            "[30]\tvalid_0's auc: 0.883255\tvalid_1's auc: 0.746825\n",
            "[40]\tvalid_0's auc: 0.892934\tvalid_1's auc: 0.728307\n",
            "[50]\tvalid_0's auc: 0.890789\tvalid_1's auc: 0.729101\n",
            "[60]\tvalid_0's auc: 0.891362\tvalid_1's auc: 0.72963\n",
            "[70]\tvalid_0's auc: 0.891509\tvalid_1's auc: 0.72963\n",
            "Early stopping, best iteration is:\n",
            "[26]\tvalid_0's auc: 0.883255\tvalid_1's auc: 0.746825\n"
          ]
        },
        {
          "name": "stderr",
          "output_type": "stream",
          "text": [
            "c:\\Users\\daich\\AppData\\Local\\Programs\\Python\\Python38\\lib\\site-packages\\lightgbm\\engine.py:239: UserWarning: 'verbose_eval' argument is deprecated and will be removed in a future release of LightGBM. Pass 'log_evaluation()' callback via 'callbacks' argument instead.\n",
            "  _log_warning(\"'verbose_eval' argument is deprecated and will be removed in a future release of LightGBM. \"\n",
            "num_leaves, val_score: 0.746825:  35%|###5      | 7/20 [00:01<00:03,  4.02it/s][I 2023-07-04 00:25:20,475] Trial 13 finished with value: 0.7468253968253968 and parameters: {'num_leaves': 157}. Best is trial 7 with value: 0.7468253968253968.\n",
            "num_leaves, val_score: 0.746825:  35%|###5      | 7/20 [00:01<00:03,  4.02it/s]"
          ]
        },
        {
          "name": "stdout",
          "output_type": "stream",
          "text": [
            "[10]\tvalid_0's auc: 0.881568\tvalid_1's auc: 0.746296\n",
            "[20]\tvalid_0's auc: 0.881568\tvalid_1's auc: 0.746296\n",
            "[30]\tvalid_0's auc: 0.883255\tvalid_1's auc: 0.746825\n",
            "[40]\tvalid_0's auc: 0.892934\tvalid_1's auc: 0.728307\n",
            "[50]\tvalid_0's auc: 0.890789\tvalid_1's auc: 0.729101\n",
            "[60]\tvalid_0's auc: 0.891362\tvalid_1's auc: 0.72963\n",
            "[70]\tvalid_0's auc: 0.891509\tvalid_1's auc: 0.72963\n",
            "Early stopping, best iteration is:\n",
            "[26]\tvalid_0's auc: 0.883255\tvalid_1's auc: 0.746825\n"
          ]
        },
        {
          "name": "stderr",
          "output_type": "stream",
          "text": [
            "c:\\Users\\daich\\AppData\\Local\\Programs\\Python\\Python38\\lib\\site-packages\\lightgbm\\engine.py:239: UserWarning: 'verbose_eval' argument is deprecated and will be removed in a future release of LightGBM. Pass 'log_evaluation()' callback via 'callbacks' argument instead.\n",
            "  _log_warning(\"'verbose_eval' argument is deprecated and will be removed in a future release of LightGBM. \"\n",
            "num_leaves, val_score: 0.746825:  40%|####      | 8/20 [00:01<00:02,  4.24it/s][I 2023-07-04 00:25:20,682] Trial 14 finished with value: 0.7468253968253968 and parameters: {'num_leaves': 5}. Best is trial 7 with value: 0.7468253968253968.\n",
            "num_leaves, val_score: 0.746825:  40%|####      | 8/20 [00:01<00:02,  4.24it/s]"
          ]
        },
        {
          "name": "stdout",
          "output_type": "stream",
          "text": [
            "[10]\tvalid_0's auc: 0.881568\tvalid_1's auc: 0.746296\n",
            "[20]\tvalid_0's auc: 0.881568\tvalid_1's auc: 0.746296\n",
            "[30]\tvalid_0's auc: 0.883255\tvalid_1's auc: 0.746825\n",
            "[40]\tvalid_0's auc: 0.892934\tvalid_1's auc: 0.728307\n",
            "[50]\tvalid_0's auc: 0.890789\tvalid_1's auc: 0.729101\n",
            "[60]\tvalid_0's auc: 0.891362\tvalid_1's auc: 0.72963\n",
            "[70]\tvalid_0's auc: 0.891509\tvalid_1's auc: 0.72963\n",
            "Early stopping, best iteration is:\n",
            "[26]\tvalid_0's auc: 0.883255\tvalid_1's auc: 0.746825\n",
            "[10]\tvalid_0's auc: 0.881568\tvalid_1's auc: 0.746296\n"
          ]
        },
        {
          "name": "stderr",
          "output_type": "stream",
          "text": [
            "c:\\Users\\daich\\AppData\\Local\\Programs\\Python\\Python38\\lib\\site-packages\\lightgbm\\engine.py:239: UserWarning: 'verbose_eval' argument is deprecated and will be removed in a future release of LightGBM. Pass 'log_evaluation()' callback via 'callbacks' argument instead.\n",
            "  _log_warning(\"'verbose_eval' argument is deprecated and will be removed in a future release of LightGBM. \"\n",
            "num_leaves, val_score: 0.746825:  45%|####5     | 9/20 [00:02<00:02,  4.36it/s][I 2023-07-04 00:25:20,898] Trial 15 finished with value: 0.7468253968253968 and parameters: {'num_leaves': 85}. Best is trial 7 with value: 0.7468253968253968.\n",
            "num_leaves, val_score: 0.746825:  45%|####5     | 9/20 [00:02<00:02,  4.36it/s]"
          ]
        },
        {
          "name": "stdout",
          "output_type": "stream",
          "text": [
            "[20]\tvalid_0's auc: 0.881568\tvalid_1's auc: 0.746296\n",
            "[30]\tvalid_0's auc: 0.883255\tvalid_1's auc: 0.746825\n",
            "[40]\tvalid_0's auc: 0.892934\tvalid_1's auc: 0.728307\n",
            "[50]\tvalid_0's auc: 0.890789\tvalid_1's auc: 0.729101\n",
            "[60]\tvalid_0's auc: 0.891362\tvalid_1's auc: 0.72963\n",
            "[70]\tvalid_0's auc: 0.891509\tvalid_1's auc: 0.72963\n",
            "Early stopping, best iteration is:\n",
            "[26]\tvalid_0's auc: 0.883255\tvalid_1's auc: 0.746825\n",
            "[10]\tvalid_0's auc: 0.881568\tvalid_1's auc: 0.746296\n"
          ]
        },
        {
          "name": "stderr",
          "output_type": "stream",
          "text": [
            "c:\\Users\\daich\\AppData\\Local\\Programs\\Python\\Python38\\lib\\site-packages\\lightgbm\\engine.py:239: UserWarning: 'verbose_eval' argument is deprecated and will be removed in a future release of LightGBM. Pass 'log_evaluation()' callback via 'callbacks' argument instead.\n",
            "  _log_warning(\"'verbose_eval' argument is deprecated and will be removed in a future release of LightGBM. \"\n",
            "num_leaves, val_score: 0.746825:  50%|#####     | 10/20 [00:02<00:02,  4.33it/s][I 2023-07-04 00:25:21,133] Trial 16 finished with value: 0.7468253968253968 and parameters: {'num_leaves': 192}. Best is trial 7 with value: 0.7468253968253968.\n",
            "num_leaves, val_score: 0.746825:  50%|#####     | 10/20 [00:02<00:02,  4.33it/s]"
          ]
        },
        {
          "name": "stdout",
          "output_type": "stream",
          "text": [
            "[20]\tvalid_0's auc: 0.881568\tvalid_1's auc: 0.746296\n",
            "[30]\tvalid_0's auc: 0.883255\tvalid_1's auc: 0.746825\n",
            "[40]\tvalid_0's auc: 0.892934\tvalid_1's auc: 0.728307\n",
            "[50]\tvalid_0's auc: 0.890789\tvalid_1's auc: 0.729101\n",
            "[60]\tvalid_0's auc: 0.891362\tvalid_1's auc: 0.72963\n",
            "[70]\tvalid_0's auc: 0.891509\tvalid_1's auc: 0.72963\n",
            "Early stopping, best iteration is:\n",
            "[26]\tvalid_0's auc: 0.883255\tvalid_1's auc: 0.746825\n"
          ]
        },
        {
          "name": "stderr",
          "output_type": "stream",
          "text": [
            "c:\\Users\\daich\\AppData\\Local\\Programs\\Python\\Python38\\lib\\site-packages\\lightgbm\\engine.py:239: UserWarning: 'verbose_eval' argument is deprecated and will be removed in a future release of LightGBM. Pass 'log_evaluation()' callback via 'callbacks' argument instead.\n",
            "  _log_warning(\"'verbose_eval' argument is deprecated and will be removed in a future release of LightGBM. \"\n",
            "num_leaves, val_score: 0.746825:  55%|#####5    | 11/20 [00:02<00:02,  3.97it/s][I 2023-07-04 00:25:21,433] Trial 17 finished with value: 0.7468253968253968 and parameters: {'num_leaves': 70}. Best is trial 7 with value: 0.7468253968253968.\n",
            "num_leaves, val_score: 0.746825:  55%|#####5    | 11/20 [00:02<00:02,  3.97it/s]"
          ]
        },
        {
          "name": "stdout",
          "output_type": "stream",
          "text": [
            "[10]\tvalid_0's auc: 0.881568\tvalid_1's auc: 0.746296\n",
            "[20]\tvalid_0's auc: 0.881568\tvalid_1's auc: 0.746296\n",
            "[30]\tvalid_0's auc: 0.883255\tvalid_1's auc: 0.746825\n",
            "[40]\tvalid_0's auc: 0.892934\tvalid_1's auc: 0.728307\n",
            "[50]\tvalid_0's auc: 0.890789\tvalid_1's auc: 0.729101\n",
            "[60]\tvalid_0's auc: 0.891362\tvalid_1's auc: 0.72963\n",
            "[70]\tvalid_0's auc: 0.891509\tvalid_1's auc: 0.72963\n",
            "Early stopping, best iteration is:\n",
            "[26]\tvalid_0's auc: 0.883255\tvalid_1's auc: 0.746825\n"
          ]
        },
        {
          "name": "stderr",
          "output_type": "stream",
          "text": [
            "c:\\Users\\daich\\AppData\\Local\\Programs\\Python\\Python38\\lib\\site-packages\\lightgbm\\engine.py:239: UserWarning: 'verbose_eval' argument is deprecated and will be removed in a future release of LightGBM. Pass 'log_evaluation()' callback via 'callbacks' argument instead.\n",
            "  _log_warning(\"'verbose_eval' argument is deprecated and will be removed in a future release of LightGBM. \"\n",
            "num_leaves, val_score: 0.746825:  60%|######    | 12/20 [00:02<00:01,  4.09it/s][I 2023-07-04 00:25:21,660] Trial 18 finished with value: 0.7468253968253968 and parameters: {'num_leaves': 106}. Best is trial 7 with value: 0.7468253968253968.\n",
            "num_leaves, val_score: 0.746825:  60%|######    | 12/20 [00:02<00:01,  4.09it/s]"
          ]
        },
        {
          "name": "stdout",
          "output_type": "stream",
          "text": [
            "[10]\tvalid_0's auc: 0.881568\tvalid_1's auc: 0.746296\n",
            "[20]\tvalid_0's auc: 0.881568\tvalid_1's auc: 0.746296\n",
            "[30]\tvalid_0's auc: 0.883255\tvalid_1's auc: 0.746825\n",
            "[40]\tvalid_0's auc: 0.892934\tvalid_1's auc: 0.728307\n",
            "[50]\tvalid_0's auc: 0.890789\tvalid_1's auc: 0.729101\n",
            "[60]\tvalid_0's auc: 0.891362\tvalid_1's auc: 0.72963\n",
            "[70]\tvalid_0's auc: 0.891509\tvalid_1's auc: 0.72963\n",
            "Early stopping, best iteration is:\n",
            "[26]\tvalid_0's auc: 0.883255\tvalid_1's auc: 0.746825\n"
          ]
        },
        {
          "name": "stderr",
          "output_type": "stream",
          "text": [
            "c:\\Users\\daich\\AppData\\Local\\Programs\\Python\\Python38\\lib\\site-packages\\lightgbm\\engine.py:239: UserWarning: 'verbose_eval' argument is deprecated and will be removed in a future release of LightGBM. Pass 'log_evaluation()' callback via 'callbacks' argument instead.\n",
            "  _log_warning(\"'verbose_eval' argument is deprecated and will be removed in a future release of LightGBM. \"\n",
            "num_leaves, val_score: 0.746825:  65%|######5   | 13/20 [00:03<00:01,  4.04it/s][I 2023-07-04 00:25:21,913] Trial 19 finished with value: 0.7468253968253968 and parameters: {'num_leaves': 45}. Best is trial 7 with value: 0.7468253968253968.\n",
            "num_leaves, val_score: 0.746825:  65%|######5   | 13/20 [00:03<00:01,  4.04it/s]"
          ]
        },
        {
          "name": "stdout",
          "output_type": "stream",
          "text": [
            "[10]\tvalid_0's auc: 0.881568\tvalid_1's auc: 0.746296\n",
            "[20]\tvalid_0's auc: 0.881568\tvalid_1's auc: 0.746296\n",
            "[30]\tvalid_0's auc: 0.883255\tvalid_1's auc: 0.746825\n",
            "[40]\tvalid_0's auc: 0.892934\tvalid_1's auc: 0.728307\n",
            "[50]\tvalid_0's auc: 0.890789\tvalid_1's auc: 0.729101\n",
            "[60]\tvalid_0's auc: 0.891362\tvalid_1's auc: 0.72963\n",
            "[70]\tvalid_0's auc: 0.891509\tvalid_1's auc: 0.72963\n",
            "Early stopping, best iteration is:\n",
            "[26]\tvalid_0's auc: 0.883255\tvalid_1's auc: 0.746825\n"
          ]
        },
        {
          "name": "stderr",
          "output_type": "stream",
          "text": [
            "c:\\Users\\daich\\AppData\\Local\\Programs\\Python\\Python38\\lib\\site-packages\\lightgbm\\engine.py:239: UserWarning: 'verbose_eval' argument is deprecated and will be removed in a future release of LightGBM. Pass 'log_evaluation()' callback via 'callbacks' argument instead.\n",
            "  _log_warning(\"'verbose_eval' argument is deprecated and will be removed in a future release of LightGBM. \"\n",
            "num_leaves, val_score: 0.746825:  70%|#######   | 14/20 [00:03<00:01,  4.19it/s][I 2023-07-04 00:25:22,133] Trial 20 finished with value: 0.7468253968253968 and parameters: {'num_leaves': 196}. Best is trial 7 with value: 0.7468253968253968.\n",
            "num_leaves, val_score: 0.746825:  70%|#######   | 14/20 [00:03<00:01,  4.19it/s]"
          ]
        },
        {
          "name": "stdout",
          "output_type": "stream",
          "text": [
            "[10]\tvalid_0's auc: 0.881568\tvalid_1's auc: 0.746296\n",
            "[20]\tvalid_0's auc: 0.881568\tvalid_1's auc: 0.746296\n",
            "[30]\tvalid_0's auc: 0.883255\tvalid_1's auc: 0.746825\n",
            "[40]\tvalid_0's auc: 0.892934\tvalid_1's auc: 0.728307\n",
            "[50]\tvalid_0's auc: 0.890789\tvalid_1's auc: 0.729101\n",
            "[60]\tvalid_0's auc: 0.891362\tvalid_1's auc: 0.72963\n",
            "[70]\tvalid_0's auc: 0.891509\tvalid_1's auc: 0.72963\n",
            "Early stopping, best iteration is:\n",
            "[26]\tvalid_0's auc: 0.883255\tvalid_1's auc: 0.746825\n"
          ]
        },
        {
          "name": "stderr",
          "output_type": "stream",
          "text": [
            "c:\\Users\\daich\\AppData\\Local\\Programs\\Python\\Python38\\lib\\site-packages\\lightgbm\\engine.py:239: UserWarning: 'verbose_eval' argument is deprecated and will be removed in a future release of LightGBM. Pass 'log_evaluation()' callback via 'callbacks' argument instead.\n",
            "  _log_warning(\"'verbose_eval' argument is deprecated and will be removed in a future release of LightGBM. \"\n",
            "num_leaves, val_score: 0.746825:  75%|#######5  | 15/20 [00:03<00:01,  4.07it/s][I 2023-07-04 00:25:22,395] Trial 21 finished with value: 0.7468253968253968 and parameters: {'num_leaves': 250}. Best is trial 7 with value: 0.7468253968253968.\n",
            "num_leaves, val_score: 0.746825:  75%|#######5  | 15/20 [00:03<00:01,  4.07it/s]"
          ]
        },
        {
          "name": "stdout",
          "output_type": "stream",
          "text": [
            "[10]\tvalid_0's auc: 0.881568\tvalid_1's auc: 0.746296\n",
            "[20]\tvalid_0's auc: 0.881568\tvalid_1's auc: 0.746296\n",
            "[30]\tvalid_0's auc: 0.883255\tvalid_1's auc: 0.746825\n",
            "[40]\tvalid_0's auc: 0.892934\tvalid_1's auc: 0.728307\n",
            "[50]\tvalid_0's auc: 0.890789\tvalid_1's auc: 0.729101\n",
            "[60]\tvalid_0's auc: 0.891362\tvalid_1's auc: 0.72963\n",
            "[70]\tvalid_0's auc: 0.891509\tvalid_1's auc: 0.72963\n",
            "Early stopping, best iteration is:\n",
            "[26]\tvalid_0's auc: 0.883255\tvalid_1's auc: 0.746825\n"
          ]
        },
        {
          "name": "stderr",
          "output_type": "stream",
          "text": [
            "c:\\Users\\daich\\AppData\\Local\\Programs\\Python\\Python38\\lib\\site-packages\\lightgbm\\engine.py:239: UserWarning: 'verbose_eval' argument is deprecated and will be removed in a future release of LightGBM. Pass 'log_evaluation()' callback via 'callbacks' argument instead.\n",
            "  _log_warning(\"'verbose_eval' argument is deprecated and will be removed in a future release of LightGBM. \"\n",
            "num_leaves, val_score: 0.746825:  80%|########  | 16/20 [00:03<00:00,  4.23it/s][I 2023-07-04 00:25:22,609] Trial 22 finished with value: 0.7468253968253968 and parameters: {'num_leaves': 149}. Best is trial 7 with value: 0.7468253968253968.\n",
            "num_leaves, val_score: 0.746825:  80%|########  | 16/20 [00:03<00:00,  4.23it/s]"
          ]
        },
        {
          "name": "stdout",
          "output_type": "stream",
          "text": [
            "[10]\tvalid_0's auc: 0.881568\tvalid_1's auc: 0.746296\n",
            "[20]\tvalid_0's auc: 0.881568\tvalid_1's auc: 0.746296\n",
            "[30]\tvalid_0's auc: 0.883255\tvalid_1's auc: 0.746825\n",
            "[40]\tvalid_0's auc: 0.892934\tvalid_1's auc: 0.728307\n",
            "[50]\tvalid_0's auc: 0.890789\tvalid_1's auc: 0.729101\n",
            "[60]\tvalid_0's auc: 0.891362\tvalid_1's auc: 0.72963\n",
            "[70]\tvalid_0's auc: 0.891509\tvalid_1's auc: 0.72963\n",
            "Early stopping, best iteration is:\n",
            "[26]\tvalid_0's auc: 0.883255\tvalid_1's auc: 0.746825\n",
            "[10]\tvalid_0's auc: 0.881568\tvalid_1's auc: 0.746296\n"
          ]
        },
        {
          "name": "stderr",
          "output_type": "stream",
          "text": [
            "c:\\Users\\daich\\AppData\\Local\\Programs\\Python\\Python38\\lib\\site-packages\\lightgbm\\engine.py:239: UserWarning: 'verbose_eval' argument is deprecated and will be removed in a future release of LightGBM. Pass 'log_evaluation()' callback via 'callbacks' argument instead.\n",
            "  _log_warning(\"'verbose_eval' argument is deprecated and will be removed in a future release of LightGBM. \"\n",
            "num_leaves, val_score: 0.746825:  85%|########5 | 17/20 [00:04<00:00,  4.36it/s][I 2023-07-04 00:25:22,822] Trial 23 finished with value: 0.7468253968253968 and parameters: {'num_leaves': 37}. Best is trial 7 with value: 0.7468253968253968.\n",
            "num_leaves, val_score: 0.746825:  85%|########5 | 17/20 [00:04<00:00,  4.36it/s]"
          ]
        },
        {
          "name": "stdout",
          "output_type": "stream",
          "text": [
            "[20]\tvalid_0's auc: 0.881568\tvalid_1's auc: 0.746296\n",
            "[30]\tvalid_0's auc: 0.883255\tvalid_1's auc: 0.746825\n",
            "[40]\tvalid_0's auc: 0.892934\tvalid_1's auc: 0.728307\n",
            "[50]\tvalid_0's auc: 0.890789\tvalid_1's auc: 0.729101\n",
            "[60]\tvalid_0's auc: 0.891362\tvalid_1's auc: 0.72963\n",
            "[70]\tvalid_0's auc: 0.891509\tvalid_1's auc: 0.72963\n",
            "Early stopping, best iteration is:\n",
            "[26]\tvalid_0's auc: 0.883255\tvalid_1's auc: 0.746825\n"
          ]
        },
        {
          "name": "stderr",
          "output_type": "stream",
          "text": [
            "c:\\Users\\daich\\AppData\\Local\\Programs\\Python\\Python38\\lib\\site-packages\\lightgbm\\engine.py:239: UserWarning: 'verbose_eval' argument is deprecated and will be removed in a future release of LightGBM. Pass 'log_evaluation()' callback via 'callbacks' argument instead.\n",
            "  _log_warning(\"'verbose_eval' argument is deprecated and will be removed in a future release of LightGBM. \"\n",
            "num_leaves, val_score: 0.746825:  90%|######### | 18/20 [00:04<00:00,  3.78it/s][I 2023-07-04 00:25:23,169] Trial 24 finished with value: 0.7468253968253968 and parameters: {'num_leaves': 206}. Best is trial 7 with value: 0.7468253968253968.\n",
            "num_leaves, val_score: 0.746825:  90%|######### | 18/20 [00:04<00:00,  3.78it/s]"
          ]
        },
        {
          "name": "stdout",
          "output_type": "stream",
          "text": [
            "[10]\tvalid_0's auc: 0.881568\tvalid_1's auc: 0.746296\n",
            "[20]\tvalid_0's auc: 0.881568\tvalid_1's auc: 0.746296\n",
            "[30]\tvalid_0's auc: 0.883255\tvalid_1's auc: 0.746825\n",
            "[40]\tvalid_0's auc: 0.892934\tvalid_1's auc: 0.728307\n",
            "[50]\tvalid_0's auc: 0.890789\tvalid_1's auc: 0.729101\n",
            "[60]\tvalid_0's auc: 0.891362\tvalid_1's auc: 0.72963\n",
            "[70]\tvalid_0's auc: 0.891509\tvalid_1's auc: 0.72963\n",
            "Early stopping, best iteration is:\n",
            "[26]\tvalid_0's auc: 0.883255\tvalid_1's auc: 0.746825\n"
          ]
        },
        {
          "name": "stderr",
          "output_type": "stream",
          "text": [
            "c:\\Users\\daich\\AppData\\Local\\Programs\\Python\\Python38\\lib\\site-packages\\lightgbm\\engine.py:239: UserWarning: 'verbose_eval' argument is deprecated and will be removed in a future release of LightGBM. Pass 'log_evaluation()' callback via 'callbacks' argument instead.\n",
            "  _log_warning(\"'verbose_eval' argument is deprecated and will be removed in a future release of LightGBM. \"\n",
            "num_leaves, val_score: 0.746825:  95%|#########5| 19/20 [00:04<00:00,  3.61it/s][I 2023-07-04 00:25:23,474] Trial 25 finished with value: 0.7468253968253968 and parameters: {'num_leaves': 102}. Best is trial 7 with value: 0.7468253968253968.\n",
            "num_leaves, val_score: 0.746825:  95%|#########5| 19/20 [00:04<00:00,  3.61it/s]"
          ]
        },
        {
          "name": "stdout",
          "output_type": "stream",
          "text": [
            "[10]\tvalid_0's auc: 0.881568\tvalid_1's auc: 0.746296\n",
            "[20]\tvalid_0's auc: 0.881568\tvalid_1's auc: 0.746296\n",
            "[30]\tvalid_0's auc: 0.883255\tvalid_1's auc: 0.746825\n",
            "[40]\tvalid_0's auc: 0.892934\tvalid_1's auc: 0.728307\n",
            "[50]\tvalid_0's auc: 0.890789\tvalid_1's auc: 0.729101\n",
            "[60]\tvalid_0's auc: 0.891362\tvalid_1's auc: 0.72963\n",
            "[70]\tvalid_0's auc: 0.891509\tvalid_1's auc: 0.72963\n",
            "Early stopping, best iteration is:\n",
            "[26]\tvalid_0's auc: 0.883255\tvalid_1's auc: 0.746825\n"
          ]
        },
        {
          "name": "stderr",
          "output_type": "stream",
          "text": [
            "c:\\Users\\daich\\AppData\\Local\\Programs\\Python\\Python38\\lib\\site-packages\\lightgbm\\engine.py:239: UserWarning: 'verbose_eval' argument is deprecated and will be removed in a future release of LightGBM. Pass 'log_evaluation()' callback via 'callbacks' argument instead.\n",
            "  _log_warning(\"'verbose_eval' argument is deprecated and will be removed in a future release of LightGBM. \"\n",
            "num_leaves, val_score: 0.746825: 100%|##########| 20/20 [00:04<00:00,  3.70it/s][I 2023-07-04 00:25:23,730] Trial 26 finished with value: 0.7468253968253968 and parameters: {'num_leaves': 128}. Best is trial 7 with value: 0.7468253968253968.\n",
            "num_leaves, val_score: 0.746825: 100%|##########| 20/20 [00:04<00:00,  4.04it/s]\n"
          ]
        },
        {
          "name": "stdout",
          "output_type": "stream",
          "text": [
            "[10]\tvalid_0's auc: 0.881568\tvalid_1's auc: 0.746296\n",
            "[20]\tvalid_0's auc: 0.881568\tvalid_1's auc: 0.746296\n",
            "[30]\tvalid_0's auc: 0.883255\tvalid_1's auc: 0.746825\n",
            "[40]\tvalid_0's auc: 0.892934\tvalid_1's auc: 0.728307\n",
            "[50]\tvalid_0's auc: 0.890789\tvalid_1's auc: 0.729101\n",
            "[60]\tvalid_0's auc: 0.891362\tvalid_1's auc: 0.72963\n",
            "[70]\tvalid_0's auc: 0.891509\tvalid_1's auc: 0.72963\n",
            "Early stopping, best iteration is:\n",
            "[26]\tvalid_0's auc: 0.883255\tvalid_1's auc: 0.746825\n"
          ]
        },
        {
          "name": "stderr",
          "output_type": "stream",
          "text": [
            "bagging, val_score: 0.746825:   0%|          | 0/10 [00:00<?, ?it/s]c:\\Users\\daich\\AppData\\Local\\Programs\\Python\\Python38\\lib\\site-packages\\lightgbm\\engine.py:239: UserWarning: 'verbose_eval' argument is deprecated and will be removed in a future release of LightGBM. Pass 'log_evaluation()' callback via 'callbacks' argument instead.\n",
            "  _log_warning(\"'verbose_eval' argument is deprecated and will be removed in a future release of LightGBM. \"\n",
            "bagging, val_score: 0.746825:  10%|#         | 1/10 [00:00<00:02,  4.15it/s][I 2023-07-04 00:25:23,976] Trial 27 finished with value: 0.7468253968253968 and parameters: {'bagging_fraction': 0.8717806386940657, 'bagging_freq': 5}. Best is trial 27 with value: 0.7468253968253968.\n",
            "bagging, val_score: 0.746825:  10%|#         | 1/10 [00:00<00:02,  4.15it/s]"
          ]
        },
        {
          "name": "stdout",
          "output_type": "stream",
          "text": [
            "[10]\tvalid_0's auc: 0.875344\tvalid_1's auc: 0.72328\n",
            "[20]\tvalid_0's auc: 0.879782\tvalid_1's auc: 0.716667\n",
            "[30]\tvalid_0's auc: 0.881781\tvalid_1's auc: 0.730952\n",
            "[40]\tvalid_0's auc: 0.889053\tvalid_1's auc: 0.743915\n",
            "[50]\tvalid_0's auc: 0.888578\tvalid_1's auc: 0.743386\n",
            "[60]\tvalid_0's auc: 0.892377\tvalid_1's auc: 0.743122\n",
            "[70]\tvalid_0's auc: 0.890789\tvalid_1's auc: 0.742328\n",
            "Early stopping, best iteration is:\n",
            "[26]\tvalid_0's auc: 0.883255\tvalid_1's auc: 0.746825\n"
          ]
        },
        {
          "name": "stderr",
          "output_type": "stream",
          "text": [
            "c:\\Users\\daich\\AppData\\Local\\Programs\\Python\\Python38\\lib\\site-packages\\lightgbm\\engine.py:239: UserWarning: 'verbose_eval' argument is deprecated and will be removed in a future release of LightGBM. Pass 'log_evaluation()' callback via 'callbacks' argument instead.\n",
            "  _log_warning(\"'verbose_eval' argument is deprecated and will be removed in a future release of LightGBM. \"\n"
          ]
        },
        {
          "name": "stdout",
          "output_type": "stream",
          "text": [
            "[10]\tvalid_0's auc: 0.864403\tvalid_1's auc: 0.698413\n",
            "[20]\tvalid_0's auc: 0.871773\tvalid_1's auc: 0.707937\n",
            "[30]\tvalid_0's auc: 0.874247\tvalid_1's auc: 0.704233\n",
            "[40]\tvalid_0's auc: 0.87346\tvalid_1's auc: 0.707672\n",
            "[50]\tvalid_0's auc: 0.875164\tvalid_1's auc: 0.707143\n"
          ]
        },
        {
          "name": "stderr",
          "output_type": "stream",
          "text": [
            "bagging, val_score: 0.746825:  20%|##        | 2/10 [00:00<00:02,  2.71it/s][I 2023-07-04 00:25:24,434] Trial 28 finished with value: 0.7468253968253968 and parameters: {'bagging_fraction': 0.46265893913267875, 'bagging_freq': 1}. Best is trial 27 with value: 0.7468253968253968.\n",
            "bagging, val_score: 0.746825:  20%|##        | 2/10 [00:00<00:02,  2.71it/s]"
          ]
        },
        {
          "name": "stdout",
          "output_type": "stream",
          "text": [
            "[60]\tvalid_0's auc: 0.873559\tvalid_1's auc: 0.707937\n",
            "[70]\tvalid_0's auc: 0.877637\tvalid_1's auc: 0.706085\n",
            "Early stopping, best iteration is:\n",
            "[26]\tvalid_0's auc: 0.883255\tvalid_1's auc: 0.746825\n"
          ]
        },
        {
          "name": "stderr",
          "output_type": "stream",
          "text": [
            "c:\\Users\\daich\\AppData\\Local\\Programs\\Python\\Python38\\lib\\site-packages\\lightgbm\\engine.py:239: UserWarning: 'verbose_eval' argument is deprecated and will be removed in a future release of LightGBM. Pass 'log_evaluation()' callback via 'callbacks' argument instead.\n",
            "  _log_warning(\"'verbose_eval' argument is deprecated and will be removed in a future release of LightGBM. \"\n",
            "bagging, val_score: 0.746825:  30%|###       | 3/10 [00:00<00:02,  3.40it/s][I 2023-07-04 00:25:24,640] Trial 29 finished with value: 0.7468253968253968 and parameters: {'bagging_fraction': 0.9965820447789369, 'bagging_freq': 7}. Best is trial 27 with value: 0.7468253968253968.\n",
            "bagging, val_score: 0.746825:  30%|###       | 3/10 [00:00<00:02,  3.40it/s]"
          ]
        },
        {
          "name": "stdout",
          "output_type": "stream",
          "text": [
            "[10]\tvalid_0's auc: 0.881568\tvalid_1's auc: 0.746296\n",
            "[20]\tvalid_0's auc: 0.881568\tvalid_1's auc: 0.746296\n",
            "[30]\tvalid_0's auc: 0.883255\tvalid_1's auc: 0.746825\n",
            "[40]\tvalid_0's auc: 0.892934\tvalid_1's auc: 0.728307\n",
            "[50]\tvalid_0's auc: 0.890822\tvalid_1's auc: 0.729101\n",
            "[60]\tvalid_0's auc: 0.891444\tvalid_1's auc: 0.72963\n",
            "[70]\tvalid_0's auc: 0.891624\tvalid_1's auc: 0.72963\n",
            "Early stopping, best iteration is:\n",
            "[26]\tvalid_0's auc: 0.883255\tvalid_1's auc: 0.746825\n",
            "[10]\tvalid_0's auc: 0.871053\tvalid_1's auc: 0.714021\n",
            "[20]\tvalid_0's auc: 0.876376\tvalid_1's auc: 0.709788\n"
          ]
        },
        {
          "name": "stderr",
          "output_type": "stream",
          "text": [
            "c:\\Users\\daich\\AppData\\Local\\Programs\\Python\\Python38\\lib\\site-packages\\lightgbm\\engine.py:239: UserWarning: 'verbose_eval' argument is deprecated and will be removed in a future release of LightGBM. Pass 'log_evaluation()' callback via 'callbacks' argument instead.\n",
            "  _log_warning(\"'verbose_eval' argument is deprecated and will be removed in a future release of LightGBM. \"\n",
            "bagging, val_score: 0.746825:  40%|####      | 4/10 [00:01<00:01,  3.94it/s][I 2023-07-04 00:25:24,832] Trial 30 finished with value: 0.7468253968253968 and parameters: {'bagging_fraction': 0.6313181728075357, 'bagging_freq': 1}. Best is trial 27 with value: 0.7468253968253968.\n",
            "bagging, val_score: 0.746825:  40%|####      | 4/10 [00:01<00:01,  3.94it/s]"
          ]
        },
        {
          "name": "stdout",
          "output_type": "stream",
          "text": [
            "[30]\tvalid_0's auc: 0.876523\tvalid_1's auc: 0.714021\n",
            "[40]\tvalid_0's auc: 0.881732\tvalid_1's auc: 0.71746\n",
            "[50]\tvalid_0's auc: 0.881813\tvalid_1's auc: 0.713492\n",
            "[60]\tvalid_0's auc: 0.880913\tvalid_1's auc: 0.718783\n",
            "[70]\tvalid_0's auc: 0.88332\tvalid_1's auc: 0.718783\n",
            "Early stopping, best iteration is:\n",
            "[26]\tvalid_0's auc: 0.883255\tvalid_1's auc: 0.746825\n",
            "[10]\tvalid_0's auc: 0.854805\tvalid_1's auc: 0.683333\n",
            "[20]\tvalid_0's auc: 0.855919\tvalid_1's auc: 0.687037\n"
          ]
        },
        {
          "name": "stderr",
          "output_type": "stream",
          "text": [
            "c:\\Users\\daich\\AppData\\Local\\Programs\\Python\\Python38\\lib\\site-packages\\lightgbm\\engine.py:239: UserWarning: 'verbose_eval' argument is deprecated and will be removed in a future release of LightGBM. Pass 'log_evaluation()' callback via 'callbacks' argument instead.\n",
            "  _log_warning(\"'verbose_eval' argument is deprecated and will be removed in a future release of LightGBM. \"\n",
            "bagging, val_score: 0.746825:  50%|#####     | 5/10 [00:01<00:01,  3.90it/s][I 2023-07-04 00:25:25,092] Trial 31 finished with value: 0.7468253968253968 and parameters: {'bagging_fraction': 0.4038480940562453, 'bagging_freq': 4}. Best is trial 27 with value: 0.7468253968253968.\n",
            "bagging, val_score: 0.746825:  50%|#####     | 5/10 [00:01<00:01,  3.90it/s]"
          ]
        },
        {
          "name": "stdout",
          "output_type": "stream",
          "text": [
            "[30]\tvalid_0's auc: 0.86134\tvalid_1's auc: 0.698148\n",
            "[40]\tvalid_0's auc: 0.86134\tvalid_1's auc: 0.698148\n",
            "[50]\tvalid_0's auc: 0.86134\tvalid_1's auc: 0.698148\n",
            "[60]\tvalid_0's auc: 0.872281\tvalid_1's auc: 0.704762\n",
            "[70]\tvalid_0's auc: 0.872281\tvalid_1's auc: 0.704762\n",
            "Early stopping, best iteration is:\n",
            "[26]\tvalid_0's auc: 0.883255\tvalid_1's auc: 0.746825\n"
          ]
        },
        {
          "name": "stderr",
          "output_type": "stream",
          "text": [
            "c:\\Users\\daich\\AppData\\Local\\Programs\\Python\\Python38\\lib\\site-packages\\lightgbm\\engine.py:239: UserWarning: 'verbose_eval' argument is deprecated and will be removed in a future release of LightGBM. Pass 'log_evaluation()' callback via 'callbacks' argument instead.\n",
            "  _log_warning(\"'verbose_eval' argument is deprecated and will be removed in a future release of LightGBM. \"\n",
            "bagging, val_score: 0.746825:  60%|######    | 6/10 [00:01<00:01,  3.76it/s][I 2023-07-04 00:25:25,376] Trial 32 finished with value: 0.7468253968253968 and parameters: {'bagging_fraction': 0.7453894411540669, 'bagging_freq': 3}. Best is trial 27 with value: 0.7468253968253968.\n",
            "bagging, val_score: 0.746825:  60%|######    | 6/10 [00:01<00:01,  3.76it/s]"
          ]
        },
        {
          "name": "stdout",
          "output_type": "stream",
          "text": [
            "[10]\tvalid_0's auc: 0.873428\tvalid_1's auc: 0.72381\n",
            "[20]\tvalid_0's auc: 0.875278\tvalid_1's auc: 0.709788\n",
            "[30]\tvalid_0's auc: 0.875803\tvalid_1's auc: 0.717725\n",
            "[40]\tvalid_0's auc: 0.876392\tvalid_1's auc: 0.718783\n",
            "[50]\tvalid_0's auc: 0.879406\tvalid_1's auc: 0.727778\n",
            "[60]\tvalid_0's auc: 0.882862\tvalid_1's auc: 0.734392\n",
            "[70]\tvalid_0's auc: 0.88468\tvalid_1's auc: 0.734392\n",
            "Early stopping, best iteration is:\n",
            "[26]\tvalid_0's auc: 0.883255\tvalid_1's auc: 0.746825\n"
          ]
        },
        {
          "name": "stderr",
          "output_type": "stream",
          "text": [
            "c:\\Users\\daich\\AppData\\Local\\Programs\\Python\\Python38\\lib\\site-packages\\lightgbm\\engine.py:239: UserWarning: 'verbose_eval' argument is deprecated and will be removed in a future release of LightGBM. Pass 'log_evaluation()' callback via 'callbacks' argument instead.\n",
            "  _log_warning(\"'verbose_eval' argument is deprecated and will be removed in a future release of LightGBM. \"\n",
            "bagging, val_score: 0.746825:  70%|#######   | 7/10 [00:01<00:00,  4.02it/s][I 2023-07-04 00:25:25,590] Trial 33 finished with value: 0.7468253968253968 and parameters: {'bagging_fraction': 0.6012885109464117, 'bagging_freq': 7}. Best is trial 27 with value: 0.7468253968253968.\n",
            "bagging, val_score: 0.746825:  70%|#######   | 7/10 [00:01<00:00,  4.02it/s]"
          ]
        },
        {
          "name": "stdout",
          "output_type": "stream",
          "text": [
            "[10]\tvalid_0's auc: 0.862569\tvalid_1's auc: 0.707143\n",
            "[20]\tvalid_0's auc: 0.868465\tvalid_1's auc: 0.713757\n",
            "[30]\tvalid_0's auc: 0.868727\tvalid_1's auc: 0.715873\n",
            "[40]\tvalid_0's auc: 0.870955\tvalid_1's auc: 0.725926\n",
            "[50]\tvalid_0's auc: 0.877932\tvalid_1's auc: 0.712963\n",
            "[60]\tvalid_0's auc: 0.882141\tvalid_1's auc: 0.71746\n",
            "[70]\tvalid_0's auc: 0.881895\tvalid_1's auc: 0.719577\n",
            "Early stopping, best iteration is:\n",
            "[26]\tvalid_0's auc: 0.883255\tvalid_1's auc: 0.746825\n"
          ]
        },
        {
          "name": "stderr",
          "output_type": "stream",
          "text": [
            "c:\\Users\\daich\\AppData\\Local\\Programs\\Python\\Python38\\lib\\site-packages\\lightgbm\\engine.py:239: UserWarning: 'verbose_eval' argument is deprecated and will be removed in a future release of LightGBM. Pass 'log_evaluation()' callback via 'callbacks' argument instead.\n",
            "  _log_warning(\"'verbose_eval' argument is deprecated and will be removed in a future release of LightGBM. \"\n",
            "bagging, val_score: 0.746825:  80%|########  | 8/10 [00:02<00:00,  3.84it/s][I 2023-07-04 00:25:25,877] Trial 34 finished with value: 0.7468253968253968 and parameters: {'bagging_fraction': 0.7735809909948531, 'bagging_freq': 3}. Best is trial 27 with value: 0.7468253968253968.\n",
            "bagging, val_score: 0.746825:  80%|########  | 8/10 [00:02<00:00,  3.84it/s]"
          ]
        },
        {
          "name": "stdout",
          "output_type": "stream",
          "text": [
            "[10]\tvalid_0's auc: 0.875082\tvalid_1's auc: 0.721164\n",
            "[20]\tvalid_0's auc: 0.877424\tvalid_1's auc: 0.72381\n",
            "[30]\tvalid_0's auc: 0.883877\tvalid_1's auc: 0.733598\n",
            "[40]\tvalid_0's auc: 0.887251\tvalid_1's auc: 0.727249\n",
            "[50]\tvalid_0's auc: 0.888676\tvalid_1's auc: 0.730952\n",
            "[60]\tvalid_0's auc: 0.890658\tvalid_1's auc: 0.731746\n",
            "[70]\tvalid_0's auc: 0.892983\tvalid_1's auc: 0.732275\n",
            "Early stopping, best iteration is:\n",
            "[26]\tvalid_0's auc: 0.883255\tvalid_1's auc: 0.746825\n"
          ]
        },
        {
          "name": "stderr",
          "output_type": "stream",
          "text": [
            "c:\\Users\\daich\\AppData\\Local\\Programs\\Python\\Python38\\lib\\site-packages\\lightgbm\\engine.py:239: UserWarning: 'verbose_eval' argument is deprecated and will be removed in a future release of LightGBM. Pass 'log_evaluation()' callback via 'callbacks' argument instead.\n",
            "  _log_warning(\"'verbose_eval' argument is deprecated and will be removed in a future release of LightGBM. \"\n",
            "bagging, val_score: 0.746825:  90%|######### | 9/10 [00:02<00:00,  3.66it/s][I 2023-07-04 00:25:26,177] Trial 35 finished with value: 0.7468253968253968 and parameters: {'bagging_fraction': 0.5335642765288335, 'bagging_freq': 5}. Best is trial 27 with value: 0.7468253968253968.\n",
            "bagging, val_score: 0.746825:  90%|######### | 9/10 [00:02<00:00,  3.66it/s]"
          ]
        },
        {
          "name": "stdout",
          "output_type": "stream",
          "text": [
            "[10]\tvalid_0's auc: 0.840442\tvalid_1's auc: 0.698148\n",
            "[20]\tvalid_0's auc: 0.871757\tvalid_1's auc: 0.719312\n",
            "[30]\tvalid_0's auc: 0.871757\tvalid_1's auc: 0.719312\n",
            "[40]\tvalid_0's auc: 0.876834\tvalid_1's auc: 0.727513\n",
            "[50]\tvalid_0's auc: 0.878554\tvalid_1's auc: 0.725926\n",
            "[60]\tvalid_0's auc: 0.876982\tvalid_1's auc: 0.727778\n",
            "[70]\tvalid_0's auc: 0.879111\tvalid_1's auc: 0.730952\n",
            "Early stopping, best iteration is:\n",
            "[26]\tvalid_0's auc: 0.883255\tvalid_1's auc: 0.746825\n"
          ]
        },
        {
          "name": "stderr",
          "output_type": "stream",
          "text": [
            "c:\\Users\\daich\\AppData\\Local\\Programs\\Python\\Python38\\lib\\site-packages\\lightgbm\\engine.py:239: UserWarning: 'verbose_eval' argument is deprecated and will be removed in a future release of LightGBM. Pass 'log_evaluation()' callback via 'callbacks' argument instead.\n",
            "  _log_warning(\"'verbose_eval' argument is deprecated and will be removed in a future release of LightGBM. \"\n"
          ]
        },
        {
          "name": "stdout",
          "output_type": "stream",
          "text": [
            "[10]\tvalid_0's auc: 0.872036\tvalid_1's auc: 0.730952\n",
            "[20]\tvalid_0's auc: 0.874656\tvalid_1's auc: 0.730688\n",
            "[30]\tvalid_0's auc: 0.877588\tvalid_1's auc: 0.719048\n",
            "[40]\tvalid_0's auc: 0.877571\tvalid_1's auc: 0.719577\n",
            "[50]\tvalid_0's auc: 0.880536\tvalid_1's auc: 0.724603\n",
            "[60]\tvalid_0's auc: 0.882125\tvalid_1's auc: 0.720899\n"
          ]
        },
        {
          "name": "stderr",
          "output_type": "stream",
          "text": [
            "bagging, val_score: 0.746825: 100%|##########| 10/10 [00:02<00:00,  3.26it/s][I 2023-07-04 00:25:26,559] Trial 36 finished with value: 0.7468253968253968 and parameters: {'bagging_fraction': 0.6550077641677818, 'bagging_freq': 2}. Best is trial 27 with value: 0.7468253968253968.\n",
            "bagging, val_score: 0.746825: 100%|##########| 10/10 [00:02<00:00,  3.54it/s]\n"
          ]
        },
        {
          "name": "stdout",
          "output_type": "stream",
          "text": [
            "[70]\tvalid_0's auc: 0.882894\tvalid_1's auc: 0.71746\n",
            "Early stopping, best iteration is:\n",
            "[26]\tvalid_0's auc: 0.883255\tvalid_1's auc: 0.746825\n"
          ]
        },
        {
          "name": "stderr",
          "output_type": "stream",
          "text": [
            "feature_fraction_stage2, val_score: 0.746825:   0%|          | 0/3 [00:00<?, ?it/s]"
          ]
        },
        {
          "name": "stdout",
          "output_type": "stream",
          "text": [
            "[10]\tvalid_0's auc: 0.881568\tvalid_1's auc: 0.746296"
          ]
        },
        {
          "name": "stderr",
          "output_type": "stream",
          "text": [
            "c:\\Users\\daich\\AppData\\Local\\Programs\\Python\\Python38\\lib\\site-packages\\lightgbm\\engine.py:239: UserWarning: 'verbose_eval' argument is deprecated and will be removed in a future release of LightGBM. Pass 'log_evaluation()' callback via 'callbacks' argument instead.\n",
            "  _log_warning(\"'verbose_eval' argument is deprecated and will be removed in a future release of LightGBM. \"\n",
            "feature_fraction_stage2, val_score: 0.746825:  33%|###3      | 1/3 [00:00<00:00,  4.27it/s][I 2023-07-04 00:25:26,798] Trial 37 finished with value: 0.7468253968253968 and parameters: {'feature_fraction': 0.9520000000000001}. Best is trial 37 with value: 0.7468253968253968.\n",
            "feature_fraction_stage2, val_score: 0.746825:  33%|###3      | 1/3 [00:00<00:00,  4.27it/s]"
          ]
        },
        {
          "name": "stdout",
          "output_type": "stream",
          "text": [
            "\n",
            "[20]\tvalid_0's auc: 0.881568\tvalid_1's auc: 0.746296\n",
            "[30]\tvalid_0's auc: 0.883255\tvalid_1's auc: 0.746825\n",
            "[40]\tvalid_0's auc: 0.892934\tvalid_1's auc: 0.728307\n",
            "[50]\tvalid_0's auc: 0.890789\tvalid_1's auc: 0.729101\n",
            "[60]\tvalid_0's auc: 0.891362\tvalid_1's auc: 0.72963\n",
            "[70]\tvalid_0's auc: 0.891509\tvalid_1's auc: 0.72963\n",
            "Early stopping, best iteration is:\n",
            "[26]\tvalid_0's auc: 0.883255\tvalid_1's auc: 0.746825\n"
          ]
        },
        {
          "name": "stderr",
          "output_type": "stream",
          "text": [
            "c:\\Users\\daich\\AppData\\Local\\Programs\\Python\\Python38\\lib\\site-packages\\lightgbm\\engine.py:239: UserWarning: 'verbose_eval' argument is deprecated and will be removed in a future release of LightGBM. Pass 'log_evaluation()' callback via 'callbacks' argument instead.\n",
            "  _log_warning(\"'verbose_eval' argument is deprecated and will be removed in a future release of LightGBM. \"\n",
            "feature_fraction_stage2, val_score: 0.746825:  67%|######6   | 2/3 [00:00<00:00,  4.19it/s][I 2023-07-04 00:25:27,040] Trial 38 finished with value: 0.7468253968253968 and parameters: {'feature_fraction': 0.9840000000000001}. Best is trial 37 with value: 0.7468253968253968.\n",
            "feature_fraction_stage2, val_score: 0.746825:  67%|######6   | 2/3 [00:00<00:00,  4.19it/s]"
          ]
        },
        {
          "name": "stdout",
          "output_type": "stream",
          "text": [
            "[10]\tvalid_0's auc: 0.881568\tvalid_1's auc: 0.746296\n",
            "[20]\tvalid_0's auc: 0.881568\tvalid_1's auc: 0.746296\n",
            "[30]\tvalid_0's auc: 0.883255\tvalid_1's auc: 0.746825\n",
            "[40]\tvalid_0's auc: 0.892934\tvalid_1's auc: 0.728307\n",
            "[50]\tvalid_0's auc: 0.890789\tvalid_1's auc: 0.729101\n",
            "[60]\tvalid_0's auc: 0.891362\tvalid_1's auc: 0.72963\n",
            "[70]\tvalid_0's auc: 0.891509\tvalid_1's auc: 0.72963\n",
            "Early stopping, best iteration is:\n",
            "[26]\tvalid_0's auc: 0.883255\tvalid_1's auc: 0.746825\n"
          ]
        },
        {
          "name": "stderr",
          "output_type": "stream",
          "text": [
            "c:\\Users\\daich\\AppData\\Local\\Programs\\Python\\Python38\\lib\\site-packages\\lightgbm\\engine.py:239: UserWarning: 'verbose_eval' argument is deprecated and will be removed in a future release of LightGBM. Pass 'log_evaluation()' callback via 'callbacks' argument instead.\n",
            "  _log_warning(\"'verbose_eval' argument is deprecated and will be removed in a future release of LightGBM. \"\n",
            "feature_fraction_stage2, val_score: 0.746825: 100%|##########| 3/3 [00:00<00:00,  4.43it/s][I 2023-07-04 00:25:27,250] Trial 39 finished with value: 0.7468253968253968 and parameters: {'feature_fraction': 0.92}. Best is trial 37 with value: 0.7468253968253968.\n",
            "feature_fraction_stage2, val_score: 0.746825: 100%|##########| 3/3 [00:00<00:00,  4.36it/s]\n"
          ]
        },
        {
          "name": "stdout",
          "output_type": "stream",
          "text": [
            "[10]\tvalid_0's auc: 0.884598\tvalid_1's auc: 0.734656\n",
            "[20]\tvalid_0's auc: 0.885777\tvalid_1's auc: 0.737831\n",
            "[30]\tvalid_0's auc: 0.886973\tvalid_1's auc: 0.739418\n",
            "[40]\tvalid_0's auc: 0.892345\tvalid_1's auc: 0.742328\n",
            "[50]\tvalid_0's auc: 0.896128\tvalid_1's auc: 0.742328\n",
            "[60]\tvalid_0's auc: 0.896488\tvalid_1's auc: 0.738889\n",
            "[70]\tvalid_0's auc: 0.896079\tvalid_1's auc: 0.739418\n",
            "Early stopping, best iteration is:\n",
            "[26]\tvalid_0's auc: 0.883255\tvalid_1's auc: 0.746825\n"
          ]
        },
        {
          "name": "stderr",
          "output_type": "stream",
          "text": [
            "regularization_factors, val_score: 0.746825:   0%|          | 0/20 [00:00<?, ?it/s]c:\\Users\\daich\\AppData\\Local\\Programs\\Python\\Python38\\lib\\site-packages\\lightgbm\\engine.py:239: UserWarning: 'verbose_eval' argument is deprecated and will be removed in a future release of LightGBM. Pass 'log_evaluation()' callback via 'callbacks' argument instead.\n",
            "  _log_warning(\"'verbose_eval' argument is deprecated and will be removed in a future release of LightGBM. \"\n",
            "regularization_factors, val_score: 0.781746:   5%|5         | 1/20 [00:00<00:05,  3.74it/s][I 2023-07-04 00:25:27,522] Trial 40 finished with value: 0.7817460317460317 and parameters: {'lambda_l1': 0.0023140355252007083, 'lambda_l2': 0.008591070612263295}. Best is trial 40 with value: 0.7817460317460317.\n",
            "regularization_factors, val_score: 0.781746:   5%|5         | 1/20 [00:00<00:05,  3.74it/s]"
          ]
        },
        {
          "name": "stdout",
          "output_type": "stream",
          "text": [
            "[10]\tvalid_0's auc: 0.917109\tvalid_1's auc: 0.775926\n",
            "[20]\tvalid_0's auc: 0.928852\tvalid_1's auc: 0.758201\n",
            "[30]\tvalid_0's auc: 0.935715\tvalid_1's auc: 0.75873\n",
            "[40]\tvalid_0's auc: 0.939564\tvalid_1's auc: 0.764286\n",
            "[50]\tvalid_0's auc: 0.947262\tvalid_1's auc: 0.761905\n",
            "[60]\tvalid_0's auc: 0.953993\tvalid_1's auc: 0.770106\n",
            "Early stopping, best iteration is:\n",
            "[13]\tvalid_0's auc: 0.922743\tvalid_1's auc: 0.781746\n"
          ]
        },
        {
          "name": "stderr",
          "output_type": "stream",
          "text": [
            "c:\\Users\\daich\\AppData\\Local\\Programs\\Python\\Python38\\lib\\site-packages\\lightgbm\\engine.py:239: UserWarning: 'verbose_eval' argument is deprecated and will be removed in a future release of LightGBM. Pass 'log_evaluation()' callback via 'callbacks' argument instead.\n",
            "  _log_warning(\"'verbose_eval' argument is deprecated and will be removed in a future release of LightGBM. \"\n",
            "regularization_factors, val_score: 0.781746:  10%|#         | 2/20 [00:00<00:04,  3.75it/s][I 2023-07-04 00:25:27,788] Trial 41 finished with value: 0.7817460317460317 and parameters: {'lambda_l1': 0.001702964607820004, 'lambda_l2': 0.008513597134464654}. Best is trial 40 with value: 0.7817460317460317.\n",
            "regularization_factors, val_score: 0.781746:  10%|#         | 2/20 [00:00<00:04,  3.75it/s]"
          ]
        },
        {
          "name": "stdout",
          "output_type": "stream",
          "text": [
            "[10]\tvalid_0's auc: 0.917109\tvalid_1's auc: 0.775926\n",
            "[20]\tvalid_0's auc: 0.928852\tvalid_1's auc: 0.758201\n",
            "[30]\tvalid_0's auc: 0.93578\tvalid_1's auc: 0.75873\n",
            "[40]\tvalid_0's auc: 0.939433\tvalid_1's auc: 0.765873\n",
            "[50]\tvalid_0's auc: 0.946754\tvalid_1's auc: 0.762963\n",
            "[60]\tvalid_0's auc: 0.953354\tvalid_1's auc: 0.762169\n",
            "Early stopping, best iteration is:\n",
            "[13]\tvalid_0's auc: 0.922743\tvalid_1's auc: 0.781746\n"
          ]
        },
        {
          "name": "stderr",
          "output_type": "stream",
          "text": [
            "c:\\Users\\daich\\AppData\\Local\\Programs\\Python\\Python38\\lib\\site-packages\\lightgbm\\engine.py:239: UserWarning: 'verbose_eval' argument is deprecated and will be removed in a future release of LightGBM. Pass 'log_evaluation()' callback via 'callbacks' argument instead.\n",
            "  _log_warning(\"'verbose_eval' argument is deprecated and will be removed in a future release of LightGBM. \"\n",
            "regularization_factors, val_score: 0.781746:  15%|#5        | 3/20 [00:00<00:04,  3.74it/s][I 2023-07-04 00:25:28,055] Trial 42 finished with value: 0.7817460317460317 and parameters: {'lambda_l1': 0.0019179938815467054, 'lambda_l2': 0.017553981257784054}. Best is trial 40 with value: 0.7817460317460317.\n",
            "regularization_factors, val_score: 0.781746:  15%|#5        | 3/20 [00:00<00:04,  3.74it/s]"
          ]
        },
        {
          "name": "stdout",
          "output_type": "stream",
          "text": [
            "[10]\tvalid_0's auc: 0.917109\tvalid_1's auc: 0.775926\n",
            "[20]\tvalid_0's auc: 0.928852\tvalid_1's auc: 0.758201\n",
            "[30]\tvalid_0's auc: 0.935715\tvalid_1's auc: 0.75873\n",
            "[40]\tvalid_0's auc: 0.939564\tvalid_1's auc: 0.764286\n",
            "[50]\tvalid_0's auc: 0.947262\tvalid_1's auc: 0.761905\n",
            "[60]\tvalid_0's auc: 0.953993\tvalid_1's auc: 0.770106\n",
            "Early stopping, best iteration is:\n",
            "[13]\tvalid_0's auc: 0.922743\tvalid_1's auc: 0.781746\n"
          ]
        },
        {
          "name": "stderr",
          "output_type": "stream",
          "text": [
            "c:\\Users\\daich\\AppData\\Local\\Programs\\Python\\Python38\\lib\\site-packages\\lightgbm\\engine.py:239: UserWarning: 'verbose_eval' argument is deprecated and will be removed in a future release of LightGBM. Pass 'log_evaluation()' callback via 'callbacks' argument instead.\n",
            "  _log_warning(\"'verbose_eval' argument is deprecated and will be removed in a future release of LightGBM. \"\n",
            "regularization_factors, val_score: 0.781746:  20%|##        | 4/20 [00:01<00:04,  3.53it/s][I 2023-07-04 00:25:28,363] Trial 43 finished with value: 0.7817460317460317 and parameters: {'lambda_l1': 0.0021375498651058774, 'lambda_l2': 0.012840340559597}. Best is trial 40 with value: 0.7817460317460317.\n",
            "regularization_factors, val_score: 0.781746:  20%|##        | 4/20 [00:01<00:04,  3.53it/s]"
          ]
        },
        {
          "name": "stdout",
          "output_type": "stream",
          "text": [
            "[10]\tvalid_0's auc: 0.917109\tvalid_1's auc: 0.775926\n",
            "[20]\tvalid_0's auc: 0.928852\tvalid_1's auc: 0.758201\n",
            "[30]\tvalid_0's auc: 0.935715\tvalid_1's auc: 0.75873\n",
            "[40]\tvalid_0's auc: 0.939564\tvalid_1's auc: 0.764286\n",
            "[50]\tvalid_0's auc: 0.947262\tvalid_1's auc: 0.761905\n",
            "[60]\tvalid_0's auc: 0.953993\tvalid_1's auc: 0.770106\n",
            "Early stopping, best iteration is:\n",
            "[13]\tvalid_0's auc: 0.922743\tvalid_1's auc: 0.781746\n"
          ]
        },
        {
          "name": "stderr",
          "output_type": "stream",
          "text": [
            "c:\\Users\\daich\\AppData\\Local\\Programs\\Python\\Python38\\lib\\site-packages\\lightgbm\\engine.py:239: UserWarning: 'verbose_eval' argument is deprecated and will be removed in a future release of LightGBM. Pass 'log_evaluation()' callback via 'callbacks' argument instead.\n",
            "  _log_warning(\"'verbose_eval' argument is deprecated and will be removed in a future release of LightGBM. \"\n",
            "regularization_factors, val_score: 0.781746:  25%|##5       | 5/20 [00:01<00:04,  3.63it/s][I 2023-07-04 00:25:28,626] Trial 44 finished with value: 0.7817460317460317 and parameters: {'lambda_l1': 0.002309634544781292, 'lambda_l2': 0.012824397512873969}. Best is trial 40 with value: 0.7817460317460317.\n",
            "regularization_factors, val_score: 0.781746:  25%|##5       | 5/20 [00:01<00:04,  3.63it/s]"
          ]
        },
        {
          "name": "stdout",
          "output_type": "stream",
          "text": [
            "[10]\tvalid_0's auc: 0.917109\tvalid_1's auc: 0.775926\n",
            "[20]\tvalid_0's auc: 0.928852\tvalid_1's auc: 0.758201\n",
            "[30]\tvalid_0's auc: 0.935715\tvalid_1's auc: 0.75873\n",
            "[40]\tvalid_0's auc: 0.939564\tvalid_1's auc: 0.764286\n",
            "[50]\tvalid_0's auc: 0.947262\tvalid_1's auc: 0.761905\n",
            "[60]\tvalid_0's auc: 0.953993\tvalid_1's auc: 0.771164\n",
            "Early stopping, best iteration is:\n",
            "[13]\tvalid_0's auc: 0.922743\tvalid_1's auc: 0.781746\n"
          ]
        },
        {
          "name": "stderr",
          "output_type": "stream",
          "text": [
            "c:\\Users\\daich\\AppData\\Local\\Programs\\Python\\Python38\\lib\\site-packages\\lightgbm\\engine.py:239: UserWarning: 'verbose_eval' argument is deprecated and will be removed in a future release of LightGBM. Pass 'log_evaluation()' callback via 'callbacks' argument instead.\n",
            "  _log_warning(\"'verbose_eval' argument is deprecated and will be removed in a future release of LightGBM. \"\n",
            "regularization_factors, val_score: 0.781746:  30%|###       | 6/20 [00:01<00:03,  3.68it/s][I 2023-07-04 00:25:28,889] Trial 45 finished with value: 0.7817460317460317 and parameters: {'lambda_l1': 0.0027406861488628075, 'lambda_l2': 0.010566114227225882}. Best is trial 40 with value: 0.7817460317460317.\n",
            "regularization_factors, val_score: 0.781746:  30%|###       | 6/20 [00:01<00:03,  3.68it/s]"
          ]
        },
        {
          "name": "stdout",
          "output_type": "stream",
          "text": [
            "[10]\tvalid_0's auc: 0.917109\tvalid_1's auc: 0.775926\n",
            "[20]\tvalid_0's auc: 0.928852\tvalid_1's auc: 0.758201\n",
            "[30]\tvalid_0's auc: 0.935715\tvalid_1's auc: 0.75873\n",
            "[40]\tvalid_0's auc: 0.939564\tvalid_1's auc: 0.764286\n",
            "[50]\tvalid_0's auc: 0.947262\tvalid_1's auc: 0.761905\n",
            "[60]\tvalid_0's auc: 0.953993\tvalid_1's auc: 0.770106\n",
            "Early stopping, best iteration is:\n",
            "[13]\tvalid_0's auc: 0.922743\tvalid_1's auc: 0.781746\n"
          ]
        },
        {
          "name": "stderr",
          "output_type": "stream",
          "text": [
            "c:\\Users\\daich\\AppData\\Local\\Programs\\Python\\Python38\\lib\\site-packages\\lightgbm\\engine.py:239: UserWarning: 'verbose_eval' argument is deprecated and will be removed in a future release of LightGBM. Pass 'log_evaluation()' callback via 'callbacks' argument instead.\n",
            "  _log_warning(\"'verbose_eval' argument is deprecated and will be removed in a future release of LightGBM. \"\n",
            "regularization_factors, val_score: 0.781746:  35%|###5      | 7/20 [00:01<00:03,  3.75it/s][I 2023-07-04 00:25:29,146] Trial 46 finished with value: 0.7817460317460317 and parameters: {'lambda_l1': 0.002777375416413868, 'lambda_l2': 0.011842727249725135}. Best is trial 40 with value: 0.7817460317460317.\n",
            "regularization_factors, val_score: 0.781746:  35%|###5      | 7/20 [00:01<00:03,  3.75it/s]"
          ]
        },
        {
          "name": "stdout",
          "output_type": "stream",
          "text": [
            "[10]\tvalid_0's auc: 0.917109\tvalid_1's auc: 0.775926\n",
            "[20]\tvalid_0's auc: 0.928852\tvalid_1's auc: 0.758201\n",
            "[30]\tvalid_0's auc: 0.935715\tvalid_1's auc: 0.75873\n",
            "[40]\tvalid_0's auc: 0.939564\tvalid_1's auc: 0.764286\n",
            "[50]\tvalid_0's auc: 0.947262\tvalid_1's auc: 0.761905\n",
            "[60]\tvalid_0's auc: 0.953993\tvalid_1's auc: 0.771164\n",
            "Early stopping, best iteration is:\n",
            "[13]\tvalid_0's auc: 0.922743\tvalid_1's auc: 0.781746\n"
          ]
        },
        {
          "name": "stderr",
          "output_type": "stream",
          "text": [
            "c:\\Users\\daich\\AppData\\Local\\Programs\\Python\\Python38\\lib\\site-packages\\lightgbm\\engine.py:239: UserWarning: 'verbose_eval' argument is deprecated and will be removed in a future release of LightGBM. Pass 'log_evaluation()' callback via 'callbacks' argument instead.\n",
            "  _log_warning(\"'verbose_eval' argument is deprecated and will be removed in a future release of LightGBM. \"\n",
            "regularization_factors, val_score: 0.781746:  40%|####      | 8/20 [00:02<00:03,  3.76it/s][I 2023-07-04 00:25:29,411] Trial 47 finished with value: 0.7817460317460317 and parameters: {'lambda_l1': 0.00233311729650931, 'lambda_l2': 0.010304699345474783}. Best is trial 40 with value: 0.7817460317460317.\n",
            "regularization_factors, val_score: 0.781746:  40%|####      | 8/20 [00:02<00:03,  3.76it/s]"
          ]
        },
        {
          "name": "stdout",
          "output_type": "stream",
          "text": [
            "[10]\tvalid_0's auc: 0.917109\tvalid_1's auc: 0.775926\n",
            "[20]\tvalid_0's auc: 0.928852\tvalid_1's auc: 0.758201\n",
            "[30]\tvalid_0's auc: 0.935715\tvalid_1's auc: 0.75873\n",
            "[40]\tvalid_0's auc: 0.939564\tvalid_1's auc: 0.764286\n",
            "[50]\tvalid_0's auc: 0.947262\tvalid_1's auc: 0.761905\n",
            "[60]\tvalid_0's auc: 0.953993\tvalid_1's auc: 0.770106\n",
            "Early stopping, best iteration is:\n",
            "[13]\tvalid_0's auc: 0.922743\tvalid_1's auc: 0.781746\n"
          ]
        },
        {
          "name": "stderr",
          "output_type": "stream",
          "text": [
            "c:\\Users\\daich\\AppData\\Local\\Programs\\Python\\Python38\\lib\\site-packages\\lightgbm\\engine.py:239: UserWarning: 'verbose_eval' argument is deprecated and will be removed in a future release of LightGBM. Pass 'log_evaluation()' callback via 'callbacks' argument instead.\n",
            "  _log_warning(\"'verbose_eval' argument is deprecated and will be removed in a future release of LightGBM. \"\n",
            "regularization_factors, val_score: 0.781746:  45%|####5     | 9/20 [00:02<00:02,  3.76it/s][I 2023-07-04 00:25:29,675] Trial 48 finished with value: 0.7817460317460317 and parameters: {'lambda_l1': 0.002057968979416429, 'lambda_l2': 0.018629513080706588}. Best is trial 40 with value: 0.7817460317460317.\n",
            "regularization_factors, val_score: 0.781746:  45%|####5     | 9/20 [00:02<00:02,  3.76it/s]"
          ]
        },
        {
          "name": "stdout",
          "output_type": "stream",
          "text": [
            "[10]\tvalid_0's auc: 0.917109\tvalid_1's auc: 0.775926\n",
            "[20]\tvalid_0's auc: 0.928852\tvalid_1's auc: 0.758201\n",
            "[30]\tvalid_0's auc: 0.935715\tvalid_1's auc: 0.75873\n",
            "[40]\tvalid_0's auc: 0.939564\tvalid_1's auc: 0.764286\n",
            "[50]\tvalid_0's auc: 0.947262\tvalid_1's auc: 0.761905\n",
            "[60]\tvalid_0's auc: 0.953993\tvalid_1's auc: 0.770106\n",
            "Early stopping, best iteration is:\n",
            "[13]\tvalid_0's auc: 0.922743\tvalid_1's auc: 0.781746\n"
          ]
        },
        {
          "name": "stderr",
          "output_type": "stream",
          "text": [
            "c:\\Users\\daich\\AppData\\Local\\Programs\\Python\\Python38\\lib\\site-packages\\lightgbm\\engine.py:239: UserWarning: 'verbose_eval' argument is deprecated and will be removed in a future release of LightGBM. Pass 'log_evaluation()' callback via 'callbacks' argument instead.\n",
            "  _log_warning(\"'verbose_eval' argument is deprecated and will be removed in a future release of LightGBM. \"\n",
            "regularization_factors, val_score: 0.781746:  50%|#####     | 10/20 [00:02<00:02,  3.65it/s][I 2023-07-04 00:25:29,969] Trial 49 finished with value: 0.7817460317460317 and parameters: {'lambda_l1': 0.0017781912681372031, 'lambda_l2': 0.010719230215500386}. Best is trial 40 with value: 0.7817460317460317.\n",
            "regularization_factors, val_score: 0.781746:  50%|#####     | 10/20 [00:02<00:02,  3.65it/s]"
          ]
        },
        {
          "name": "stdout",
          "output_type": "stream",
          "text": [
            "[10]\tvalid_0's auc: 0.917109\tvalid_1's auc: 0.775926\n",
            "[20]\tvalid_0's auc: 0.928852\tvalid_1's auc: 0.758201\n",
            "[30]\tvalid_0's auc: 0.93578\tvalid_1's auc: 0.75873\n",
            "[40]\tvalid_0's auc: 0.939908\tvalid_1's auc: 0.760582\n",
            "[50]\tvalid_0's auc: 0.946868\tvalid_1's auc: 0.76746\n",
            "[60]\tvalid_0's auc: 0.953993\tvalid_1's auc: 0.761111\n",
            "Early stopping, best iteration is:\n",
            "[13]\tvalid_0's auc: 0.922743\tvalid_1's auc: 0.781746\n"
          ]
        },
        {
          "name": "stderr",
          "output_type": "stream",
          "text": [
            "c:\\Users\\daich\\AppData\\Local\\Programs\\Python\\Python38\\lib\\site-packages\\lightgbm\\engine.py:239: UserWarning: 'verbose_eval' argument is deprecated and will be removed in a future release of LightGBM. Pass 'log_evaluation()' callback via 'callbacks' argument instead.\n",
            "  _log_warning(\"'verbose_eval' argument is deprecated and will be removed in a future release of LightGBM. \"\n",
            "regularization_factors, val_score: 0.781746:  55%|#####5    | 11/20 [00:03<00:02,  3.60it/s][I 2023-07-04 00:25:30,255] Trial 50 finished with value: 0.7817460317460317 and parameters: {'lambda_l1': 3.630277493384327e-05, 'lambda_l2': 0.0019390306282269013}. Best is trial 40 with value: 0.7817460317460317.\n",
            "regularization_factors, val_score: 0.781746:  55%|#####5    | 11/20 [00:03<00:02,  3.60it/s]"
          ]
        },
        {
          "name": "stdout",
          "output_type": "stream",
          "text": [
            "[10]\tvalid_0's auc: 0.917043\tvalid_1's auc: 0.775926\n",
            "[20]\tvalid_0's auc: 0.928852\tvalid_1's auc: 0.758201\n",
            "[30]\tvalid_0's auc: 0.934929\tvalid_1's auc: 0.754233\n",
            "[40]\tvalid_0's auc: 0.939613\tvalid_1's auc: 0.761111\n",
            "[50]\tvalid_0's auc: 0.947638\tvalid_1's auc: 0.765873\n",
            "[60]\tvalid_0's auc: 0.953338\tvalid_1's auc: 0.763228\n",
            "Early stopping, best iteration is:\n",
            "[13]\tvalid_0's auc: 0.922743\tvalid_1's auc: 0.781746\n"
          ]
        },
        {
          "name": "stderr",
          "output_type": "stream",
          "text": [
            "c:\\Users\\daich\\AppData\\Local\\Programs\\Python\\Python38\\lib\\site-packages\\lightgbm\\engine.py:239: UserWarning: 'verbose_eval' argument is deprecated and will be removed in a future release of LightGBM. Pass 'log_evaluation()' callback via 'callbacks' argument instead.\n",
            "  _log_warning(\"'verbose_eval' argument is deprecated and will be removed in a future release of LightGBM. \"\n",
            "regularization_factors, val_score: 0.781746:  60%|######    | 12/20 [00:03<00:02,  3.45it/s][I 2023-07-04 00:25:30,572] Trial 51 finished with value: 0.7817460317460317 and parameters: {'lambda_l1': 0.0038314035147254946, 'lambda_l2': 0.02071637650734951}. Best is trial 40 with value: 0.7817460317460317.\n",
            "regularization_factors, val_score: 0.781746:  60%|######    | 12/20 [00:03<00:02,  3.45it/s]"
          ]
        },
        {
          "name": "stdout",
          "output_type": "stream",
          "text": [
            "[10]\tvalid_0's auc: 0.917355\tvalid_1's auc: 0.77381\n",
            "[20]\tvalid_0's auc: 0.928819\tvalid_1's auc: 0.758201\n",
            "[30]\tvalid_0's auc: 0.935174\tvalid_1's auc: 0.75291\n",
            "[40]\tvalid_0's auc: 0.939269\tvalid_1's auc: 0.762698\n",
            "[50]\tvalid_0's auc: 0.94677\tvalid_1's auc: 0.76746\n",
            "[60]\tvalid_0's auc: 0.952797\tvalid_1's auc: 0.761376\n",
            "Early stopping, best iteration is:\n",
            "[13]\tvalid_0's auc: 0.922743\tvalid_1's auc: 0.781746\n"
          ]
        },
        {
          "name": "stderr",
          "output_type": "stream",
          "text": [
            "c:\\Users\\daich\\AppData\\Local\\Programs\\Python\\Python38\\lib\\site-packages\\lightgbm\\engine.py:239: UserWarning: 'verbose_eval' argument is deprecated and will be removed in a future release of LightGBM. Pass 'log_evaluation()' callback via 'callbacks' argument instead.\n",
            "  _log_warning(\"'verbose_eval' argument is deprecated and will be removed in a future release of LightGBM. \"\n",
            "regularization_factors, val_score: 0.781746:  65%|######5   | 13/20 [00:03<00:01,  3.53it/s][I 2023-07-04 00:25:30,839] Trial 52 finished with value: 0.7817460317460317 and parameters: {'lambda_l1': 0.0035850598793077315, 'lambda_l2': 0.17275203085975172}. Best is trial 40 with value: 0.7817460317460317.\n",
            "regularization_factors, val_score: 0.781746:  65%|######5   | 13/20 [00:03<00:01,  3.53it/s]"
          ]
        },
        {
          "name": "stdout",
          "output_type": "stream",
          "text": [
            "[10]\tvalid_0's auc: 0.918599\tvalid_1's auc: 0.765873\n",
            "[20]\tvalid_0's auc: 0.929213\tvalid_1's auc: 0.754762\n",
            "[30]\tvalid_0's auc: 0.934159\tvalid_1's auc: 0.754762\n",
            "[40]\tvalid_0's auc: 0.938925\tvalid_1's auc: 0.75873\n",
            "[50]\tvalid_0's auc: 0.945165\tvalid_1's auc: 0.767989\n",
            "[60]\tvalid_0's auc: 0.952306\tvalid_1's auc: 0.76746\n",
            "Early stopping, best iteration is:\n",
            "[13]\tvalid_0's auc: 0.922743\tvalid_1's auc: 0.781746\n"
          ]
        },
        {
          "name": "stderr",
          "output_type": "stream",
          "text": [
            "c:\\Users\\daich\\AppData\\Local\\Programs\\Python\\Python38\\lib\\site-packages\\lightgbm\\engine.py:239: UserWarning: 'verbose_eval' argument is deprecated and will be removed in a future release of LightGBM. Pass 'log_evaluation()' callback via 'callbacks' argument instead.\n",
            "  _log_warning(\"'verbose_eval' argument is deprecated and will be removed in a future release of LightGBM. \"\n",
            "regularization_factors, val_score: 0.781746:  70%|#######   | 14/20 [00:03<00:01,  3.68it/s][I 2023-07-04 00:25:31,087] Trial 53 finished with value: 0.7817460317460317 and parameters: {'lambda_l1': 0.14702284630205767, 'lambda_l2': 6.013908934636835e-05}. Best is trial 40 with value: 0.7817460317460317.\n",
            "regularization_factors, val_score: 0.781746:  70%|#######   | 14/20 [00:03<00:01,  3.68it/s]"
          ]
        },
        {
          "name": "stdout",
          "output_type": "stream",
          "text": [
            "[10]\tvalid_0's auc: 0.917027\tvalid_1's auc: 0.763757\n",
            "[20]\tvalid_0's auc: 0.928066\tvalid_1's auc: 0.758466\n",
            "[30]\tvalid_0's auc: 0.933553\tvalid_1's auc: 0.759524\n",
            "[40]\tvalid_0's auc: 0.93809\tvalid_1's auc: 0.761376\n",
            "[50]\tvalid_0's auc: 0.942938\tvalid_1's auc: 0.767989\n",
            "[60]\tvalid_0's auc: 0.951356\tvalid_1's auc: 0.763228\n",
            "Early stopping, best iteration is:\n",
            "[13]\tvalid_0's auc: 0.922743\tvalid_1's auc: 0.781746\n"
          ]
        },
        {
          "name": "stderr",
          "output_type": "stream",
          "text": [
            "c:\\Users\\daich\\AppData\\Local\\Programs\\Python\\Python38\\lib\\site-packages\\lightgbm\\engine.py:239: UserWarning: 'verbose_eval' argument is deprecated and will be removed in a future release of LightGBM. Pass 'log_evaluation()' callback via 'callbacks' argument instead.\n",
            "  _log_warning(\"'verbose_eval' argument is deprecated and will be removed in a future release of LightGBM. \"\n",
            "regularization_factors, val_score: 0.781746:  75%|#######5  | 15/20 [00:04<00:01,  3.76it/s][I 2023-07-04 00:25:31,338] Trial 54 finished with value: 0.7817460317460317 and parameters: {'lambda_l1': 0.0002798942433155428, 'lambda_l2': 0.001123976847876026}. Best is trial 40 with value: 0.7817460317460317.\n",
            "regularization_factors, val_score: 0.781746:  75%|#######5  | 15/20 [00:04<00:01,  3.76it/s]"
          ]
        },
        {
          "name": "stdout",
          "output_type": "stream",
          "text": [
            "[10]\tvalid_0's auc: 0.917109\tvalid_1's auc: 0.775926\n",
            "[20]\tvalid_0's auc: 0.928852\tvalid_1's auc: 0.758201\n",
            "[30]\tvalid_0's auc: 0.934929\tvalid_1's auc: 0.754233\n",
            "[40]\tvalid_0's auc: 0.939515\tvalid_1's auc: 0.761111\n",
            "[50]\tvalid_0's auc: 0.947638\tvalid_1's auc: 0.765873\n",
            "[60]\tvalid_0's auc: 0.953338\tvalid_1's auc: 0.763228\n",
            "Early stopping, best iteration is:\n",
            "[13]\tvalid_0's auc: 0.922743\tvalid_1's auc: 0.781746\n"
          ]
        },
        {
          "name": "stderr",
          "output_type": "stream",
          "text": [
            "c:\\Users\\daich\\AppData\\Local\\Programs\\Python\\Python38\\lib\\site-packages\\lightgbm\\engine.py:239: UserWarning: 'verbose_eval' argument is deprecated and will be removed in a future release of LightGBM. Pass 'log_evaluation()' callback via 'callbacks' argument instead.\n",
            "  _log_warning(\"'verbose_eval' argument is deprecated and will be removed in a future release of LightGBM. \"\n",
            "regularization_factors, val_score: 0.781746:  80%|########  | 16/20 [00:04<00:01,  3.76it/s][I 2023-07-04 00:25:31,604] Trial 55 finished with value: 0.7817460317460317 and parameters: {'lambda_l1': 0.03302039825141277, 'lambda_l2': 0.9292702983964973}. Best is trial 40 with value: 0.7817460317460317.\n",
            "regularization_factors, val_score: 0.781746:  80%|########  | 16/20 [00:04<00:01,  3.76it/s]"
          ]
        },
        {
          "name": "stdout",
          "output_type": "stream",
          "text": [
            "[10]\tvalid_0's auc: 0.917142\tvalid_1's auc: 0.76746\n",
            "[20]\tvalid_0's auc: 0.926985\tvalid_1's auc: 0.749206\n",
            "[30]\tvalid_0's auc: 0.932374\tvalid_1's auc: 0.758466\n",
            "[40]\tvalid_0's auc: 0.938008\tvalid_1's auc: 0.763228\n",
            "[50]\tvalid_0's auc: 0.943855\tvalid_1's auc: 0.763228\n",
            "[60]\tvalid_0's auc: 0.951651\tvalid_1's auc: 0.757143\n",
            "Early stopping, best iteration is:\n",
            "[13]\tvalid_0's auc: 0.922743\tvalid_1's auc: 0.781746\n"
          ]
        },
        {
          "name": "stderr",
          "output_type": "stream",
          "text": [
            "c:\\Users\\daich\\AppData\\Local\\Programs\\Python\\Python38\\lib\\site-packages\\lightgbm\\engine.py:239: UserWarning: 'verbose_eval' argument is deprecated and will be removed in a future release of LightGBM. Pass 'log_evaluation()' callback via 'callbacks' argument instead.\n",
            "  _log_warning(\"'verbose_eval' argument is deprecated and will be removed in a future release of LightGBM. \"\n",
            "regularization_factors, val_score: 0.781746:  85%|########5 | 17/20 [00:04<00:00,  3.83it/s][I 2023-07-04 00:25:31,854] Trial 56 finished with value: 0.7817460317460317 and parameters: {'lambda_l1': 0.00016014941359962121, 'lambda_l2': 0.11472652783428477}. Best is trial 40 with value: 0.7817460317460317.\n",
            "regularization_factors, val_score: 0.781746:  85%|########5 | 17/20 [00:04<00:00,  3.83it/s]"
          ]
        },
        {
          "name": "stdout",
          "output_type": "stream",
          "text": [
            "[10]\tvalid_0's auc: 0.917846\tvalid_1's auc: 0.766402\n",
            "[20]\tvalid_0's auc: 0.928181\tvalid_1's auc: 0.75\n",
            "[30]\tvalid_0's auc: 0.934159\tvalid_1's auc: 0.75291\n",
            "[40]\tvalid_0's auc: 0.939711\tvalid_1's auc: 0.760582\n",
            "[50]\tvalid_0's auc: 0.945869\tvalid_1's auc: 0.767989\n",
            "[60]\tvalid_0's auc: 0.952585\tvalid_1's auc: 0.767989\n",
            "Early stopping, best iteration is:\n",
            "[13]\tvalid_0's auc: 0.922743\tvalid_1's auc: 0.781746\n"
          ]
        },
        {
          "name": "stderr",
          "output_type": "stream",
          "text": [
            "c:\\Users\\daich\\AppData\\Local\\Programs\\Python\\Python38\\lib\\site-packages\\lightgbm\\engine.py:239: UserWarning: 'verbose_eval' argument is deprecated and will be removed in a future release of LightGBM. Pass 'log_evaluation()' callback via 'callbacks' argument instead.\n",
            "  _log_warning(\"'verbose_eval' argument is deprecated and will be removed in a future release of LightGBM. \"\n",
            "regularization_factors, val_score: 0.781746:  90%|######### | 18/20 [00:04<00:00,  3.86it/s][I 2023-07-04 00:25:32,109] Trial 57 finished with value: 0.7817460317460317 and parameters: {'lambda_l1': 3.4192482815631106e-07, 'lambda_l2': 0.0011756060734636343}. Best is trial 40 with value: 0.7817460317460317.\n",
            "regularization_factors, val_score: 0.781746:  90%|######### | 18/20 [00:04<00:00,  3.86it/s]"
          ]
        },
        {
          "name": "stdout",
          "output_type": "stream",
          "text": [
            "[10]\tvalid_0's auc: 0.917043\tvalid_1's auc: 0.775926\n",
            "[20]\tvalid_0's auc: 0.928852\tvalid_1's auc: 0.758201\n",
            "[30]\tvalid_0's auc: 0.934929\tvalid_1's auc: 0.754233\n",
            "[40]\tvalid_0's auc: 0.939613\tvalid_1's auc: 0.761111\n",
            "[50]\tvalid_0's auc: 0.947638\tvalid_1's auc: 0.765873\n",
            "[60]\tvalid_0's auc: 0.953338\tvalid_1's auc: 0.763228\n",
            "Early stopping, best iteration is:\n",
            "[13]\tvalid_0's auc: 0.922743\tvalid_1's auc: 0.781746\n"
          ]
        },
        {
          "name": "stderr",
          "output_type": "stream",
          "text": [
            "c:\\Users\\daich\\AppData\\Local\\Programs\\Python\\Python38\\lib\\site-packages\\lightgbm\\engine.py:239: UserWarning: 'verbose_eval' argument is deprecated and will be removed in a future release of LightGBM. Pass 'log_evaluation()' callback via 'callbacks' argument instead.\n",
            "  _log_warning(\"'verbose_eval' argument is deprecated and will be removed in a future release of LightGBM. \"\n",
            "regularization_factors, val_score: 0.781746:  95%|#########5| 19/20 [00:05<00:00,  3.81it/s][I 2023-07-04 00:25:32,378] Trial 58 finished with value: 0.7817460317460317 and parameters: {'lambda_l1': 0.01824287015068482, 'lambda_l2': 6.436999483670264e-07}. Best is trial 40 with value: 0.7817460317460317.\n",
            "regularization_factors, val_score: 0.781746:  95%|#########5| 19/20 [00:05<00:00,  3.81it/s]"
          ]
        },
        {
          "name": "stdout",
          "output_type": "stream",
          "text": [
            "[10]\tvalid_0's auc: 0.917895\tvalid_1's auc: 0.767196\n",
            "[20]\tvalid_0's auc: 0.928213\tvalid_1's auc: 0.75\n",
            "[30]\tvalid_0's auc: 0.934896\tvalid_1's auc: 0.753439\n",
            "[40]\tvalid_0's auc: 0.939023\tvalid_1's auc: 0.762169\n",
            "[50]\tvalid_0's auc: 0.945427\tvalid_1's auc: 0.769841\n",
            "[60]\tvalid_0's auc: 0.953109\tvalid_1's auc: 0.76746\n",
            "Early stopping, best iteration is:\n",
            "[13]\tvalid_0's auc: 0.922743\tvalid_1's auc: 0.781746\n"
          ]
        },
        {
          "name": "stderr",
          "output_type": "stream",
          "text": [
            "c:\\Users\\daich\\AppData\\Local\\Programs\\Python\\Python38\\lib\\site-packages\\lightgbm\\engine.py:239: UserWarning: 'verbose_eval' argument is deprecated and will be removed in a future release of LightGBM. Pass 'log_evaluation()' callback via 'callbacks' argument instead.\n",
            "  _log_warning(\"'verbose_eval' argument is deprecated and will be removed in a future release of LightGBM. \"\n",
            "regularization_factors, val_score: 0.781746: 100%|##########| 20/20 [00:05<00:00,  3.84it/s][I 2023-07-04 00:25:32,634] Trial 59 finished with value: 0.7817460317460317 and parameters: {'lambda_l1': 0.0002772396862683826, 'lambda_l2': 0.08579672056222754}. Best is trial 40 with value: 0.7817460317460317.\n",
            "regularization_factors, val_score: 0.781746: 100%|##########| 20/20 [00:05<00:00,  3.72it/s]\n"
          ]
        },
        {
          "name": "stdout",
          "output_type": "stream",
          "text": [
            "[10]\tvalid_0's auc: 0.917846\tvalid_1's auc: 0.766402\n",
            "[20]\tvalid_0's auc: 0.928181\tvalid_1's auc: 0.75\n",
            "[30]\tvalid_0's auc: 0.934192\tvalid_1's auc: 0.753439\n",
            "[40]\tvalid_0's auc: 0.939547\tvalid_1's auc: 0.76164\n",
            "[50]\tvalid_0's auc: 0.946017\tvalid_1's auc: 0.765873\n",
            "[60]\tvalid_0's auc: 0.953305\tvalid_1's auc: 0.767989\n",
            "Early stopping, best iteration is:\n",
            "[13]\tvalid_0's auc: 0.922743\tvalid_1's auc: 0.781746\n"
          ]
        },
        {
          "name": "stderr",
          "output_type": "stream",
          "text": [
            "min_data_in_leaf, val_score: 0.781746:   0%|          | 0/5 [00:00<?, ?it/s]c:\\Users\\daich\\AppData\\Local\\Programs\\Python\\Python38\\lib\\site-packages\\lightgbm\\engine.py:239: UserWarning: 'verbose_eval' argument is deprecated and will be removed in a future release of LightGBM. Pass 'log_evaluation()' callback via 'callbacks' argument instead.\n",
            "  _log_warning(\"'verbose_eval' argument is deprecated and will be removed in a future release of LightGBM. \"\n",
            "min_data_in_leaf, val_score: 0.781746:  20%|##        | 1/5 [00:00<00:01,  3.69it/s][I 2023-07-04 00:25:32,909] Trial 60 finished with value: 0.7817460317460317 and parameters: {'min_child_samples': 25}. Best is trial 60 with value: 0.7817460317460317.\n",
            "min_data_in_leaf, val_score: 0.781746:  20%|##        | 1/5 [00:00<00:01,  3.69it/s]"
          ]
        },
        {
          "name": "stdout",
          "output_type": "stream",
          "text": [
            "[10]\tvalid_0's auc: 0.917109\tvalid_1's auc: 0.775926\n",
            "[20]\tvalid_0's auc: 0.928852\tvalid_1's auc: 0.758201\n",
            "[30]\tvalid_0's auc: 0.935715\tvalid_1's auc: 0.75873\n",
            "[40]\tvalid_0's auc: 0.939564\tvalid_1's auc: 0.764286\n",
            "[50]\tvalid_0's auc: 0.947262\tvalid_1's auc: 0.761905\n",
            "[60]\tvalid_0's auc: 0.953993\tvalid_1's auc: 0.770106\n",
            "Early stopping, best iteration is:\n",
            "[13]\tvalid_0's auc: 0.922743\tvalid_1's auc: 0.781746\n"
          ]
        },
        {
          "name": "stderr",
          "output_type": "stream",
          "text": [
            "c:\\Users\\daich\\AppData\\Local\\Programs\\Python\\Python38\\lib\\site-packages\\lightgbm\\engine.py:239: UserWarning: 'verbose_eval' argument is deprecated and will be removed in a future release of LightGBM. Pass 'log_evaluation()' callback via 'callbacks' argument instead.\n",
            "  _log_warning(\"'verbose_eval' argument is deprecated and will be removed in a future release of LightGBM. \"\n",
            "min_data_in_leaf, val_score: 0.781746:  40%|####      | 2/5 [00:00<00:00,  3.96it/s][I 2023-07-04 00:25:33,147] Trial 61 finished with value: 0.7817460317460317 and parameters: {'min_child_samples': 5}. Best is trial 60 with value: 0.7817460317460317.\n",
            "min_data_in_leaf, val_score: 0.781746:  40%|####      | 2/5 [00:00<00:00,  3.96it/s]"
          ]
        },
        {
          "name": "stdout",
          "output_type": "stream",
          "text": [
            "[10]\tvalid_0's auc: 0.917109\tvalid_1's auc: 0.775926\n",
            "[20]\tvalid_0's auc: 0.928852\tvalid_1's auc: 0.758201\n",
            "[30]\tvalid_0's auc: 0.935715\tvalid_1's auc: 0.75873\n",
            "[40]\tvalid_0's auc: 0.939564\tvalid_1's auc: 0.764286\n",
            "[50]\tvalid_0's auc: 0.947262\tvalid_1's auc: 0.761905\n",
            "[60]\tvalid_0's auc: 0.953993\tvalid_1's auc: 0.770106\n",
            "Early stopping, best iteration is:\n",
            "[13]\tvalid_0's auc: 0.922743\tvalid_1's auc: 0.781746\n"
          ]
        },
        {
          "name": "stderr",
          "output_type": "stream",
          "text": [
            "c:\\Users\\daich\\AppData\\Local\\Programs\\Python\\Python38\\lib\\site-packages\\lightgbm\\engine.py:239: UserWarning: 'verbose_eval' argument is deprecated and will be removed in a future release of LightGBM. Pass 'log_evaluation()' callback via 'callbacks' argument instead.\n",
            "  _log_warning(\"'verbose_eval' argument is deprecated and will be removed in a future release of LightGBM. \"\n",
            "min_data_in_leaf, val_score: 0.781746:  60%|######    | 3/5 [00:00<00:00,  3.96it/s][I 2023-07-04 00:25:33,401] Trial 62 finished with value: 0.7817460317460317 and parameters: {'min_child_samples': 10}. Best is trial 60 with value: 0.7817460317460317.\n",
            "min_data_in_leaf, val_score: 0.781746:  60%|######    | 3/5 [00:00<00:00,  3.96it/s]"
          ]
        },
        {
          "name": "stdout",
          "output_type": "stream",
          "text": [
            "[10]\tvalid_0's auc: 0.917109\tvalid_1's auc: 0.775926\n",
            "[20]\tvalid_0's auc: 0.928852\tvalid_1's auc: 0.758201\n",
            "[30]\tvalid_0's auc: 0.935715\tvalid_1's auc: 0.75873\n",
            "[40]\tvalid_0's auc: 0.939564\tvalid_1's auc: 0.764286\n",
            "[50]\tvalid_0's auc: 0.947262\tvalid_1's auc: 0.761905\n",
            "[60]\tvalid_0's auc: 0.953993\tvalid_1's auc: 0.770106\n",
            "Early stopping, best iteration is:\n",
            "[13]\tvalid_0's auc: 0.922743\tvalid_1's auc: 0.781746\n"
          ]
        },
        {
          "name": "stderr",
          "output_type": "stream",
          "text": [
            "c:\\Users\\daich\\AppData\\Local\\Programs\\Python\\Python38\\lib\\site-packages\\lightgbm\\engine.py:239: UserWarning: 'verbose_eval' argument is deprecated and will be removed in a future release of LightGBM. Pass 'log_evaluation()' callback via 'callbacks' argument instead.\n",
            "  _log_warning(\"'verbose_eval' argument is deprecated and will be removed in a future release of LightGBM. \"\n",
            "min_data_in_leaf, val_score: 0.781746:  80%|########  | 4/5 [00:01<00:00,  4.03it/s][I 2023-07-04 00:25:33,641] Trial 63 finished with value: 0.7817460317460317 and parameters: {'min_child_samples': 100}. Best is trial 60 with value: 0.7817460317460317.\n",
            "min_data_in_leaf, val_score: 0.781746:  80%|########  | 4/5 [00:01<00:00,  4.03it/s]"
          ]
        },
        {
          "name": "stdout",
          "output_type": "stream",
          "text": [
            "[10]\tvalid_0's auc: 0.917109\tvalid_1's auc: 0.775926\n",
            "[20]\tvalid_0's auc: 0.928852\tvalid_1's auc: 0.758201\n",
            "[30]\tvalid_0's auc: 0.935715\tvalid_1's auc: 0.75873\n",
            "[40]\tvalid_0's auc: 0.939564\tvalid_1's auc: 0.764286\n",
            "[50]\tvalid_0's auc: 0.947262\tvalid_1's auc: 0.761905\n",
            "[60]\tvalid_0's auc: 0.953993\tvalid_1's auc: 0.770106\n",
            "Early stopping, best iteration is:\n",
            "[13]\tvalid_0's auc: 0.922743\tvalid_1's auc: 0.781746\n"
          ]
        },
        {
          "name": "stderr",
          "output_type": "stream",
          "text": [
            "c:\\Users\\daich\\AppData\\Local\\Programs\\Python\\Python38\\lib\\site-packages\\lightgbm\\engine.py:239: UserWarning: 'verbose_eval' argument is deprecated and will be removed in a future release of LightGBM. Pass 'log_evaluation()' callback via 'callbacks' argument instead.\n",
            "  _log_warning(\"'verbose_eval' argument is deprecated and will be removed in a future release of LightGBM. \"\n",
            "min_data_in_leaf, val_score: 0.781746: 100%|##########| 5/5 [00:01<00:00,  4.08it/s][I 2023-07-04 00:25:33,882] Trial 64 finished with value: 0.7817460317460317 and parameters: {'min_child_samples': 50}. Best is trial 60 with value: 0.7817460317460317.\n",
            "min_data_in_leaf, val_score: 0.781746: 100%|##########| 5/5 [00:01<00:00,  4.01it/s]"
          ]
        },
        {
          "name": "stdout",
          "output_type": "stream",
          "text": [
            "[10]\tvalid_0's auc: 0.917109\tvalid_1's auc: 0.775926\n",
            "[20]\tvalid_0's auc: 0.928852\tvalid_1's auc: 0.758201\n",
            "[30]\tvalid_0's auc: 0.935715\tvalid_1's auc: 0.75873\n",
            "[40]\tvalid_0's auc: 0.939564\tvalid_1's auc: 0.764286\n",
            "[50]\tvalid_0's auc: 0.947262\tvalid_1's auc: 0.761905\n",
            "[60]\tvalid_0's auc: 0.953993\tvalid_1's auc: 0.770106\n",
            "Early stopping, best iteration is:\n",
            "[13]\tvalid_0's auc: 0.922743\tvalid_1's auc: 0.781746\n",
            "ROC: 0.7817460317460317\n",
            "Final ROC: 0.8656783468104223\n"
          ]
        },
        {
          "name": "stderr",
          "output_type": "stream",
          "text": [
            "\n"
          ]
        }
      ],
      "source": [
        "Fold_score = []\n",
        "models = []\n",
        "total_pred = []\n",
        "\n",
        "for i in range(FOLD):\n",
        "    train_df = train[train[\"fold\"]!=i]\n",
        "    val_df = train[train[\"fold\"]==i]\n",
        "    X_train, y_train = train_df.drop(columns=[\"survived\", \"fold\"]), train_df[\"survived\"].values\n",
        "    X_val, y_val = val_df.drop(columns=[\"survived\", \"fold\"]), val_df[\"survived\"].values\n",
        "    lgb_train = lgb.Dataset(X_train, y_train)\n",
        "    lgb_eval = lgb.Dataset(X_val, y_val)\n",
        "\n",
        "    model = lgb.train(lgb_model_params,\n",
        "                        train_set=lgb_train,\n",
        "                        valid_sets=[lgb_train, lgb_eval],\n",
        "                        verbose_eval=lgb_fit_params['verbose_eval'],\n",
        "                        num_boost_round=lgb_fit_params['num_boost_rounds'],\n",
        "                        callbacks=[lgb.early_stopping(lgb_fit_params['early_stopping_rounds'])],\n",
        "                        )\n",
        "\n",
        "    val_pred = model.predict(X_val)\n",
        "    score = cal_roc(y_val, val_pred)\n",
        "    Fold_score.append(score)\n",
        "    models.append(model)\n",
        "    total_pred.extend(y_val)\n",
        "    \n",
        "    print(f\"ROC: {score}\")\n",
        "    \n",
        "finalscore = sum(Fold_score)/FOLD\n",
        "print(f\"Final ROC: {finalscore}\")"
      ]
    },
    {
      "cell_type": "code",
      "execution_count": 77,
      "metadata": {},
      "outputs": [
        {
          "data": {
            "image/png": "[encoded data removed]",
            "text/plain": [
              "<Figure size 640x480 with 1 Axes>"
            ]
          },
          "metadata": {},
          "output_type": "display_data"
        }
      ],
      "source": [
        "fpr, tpr, thresholds = metrics.roc_curve(y_val, val_pred)\n",
        "auc = metrics.auc(fpr, tpr)\n",
        "plt.plot(fpr, tpr, label='ROC curve (area = %.2f)'%auc)\n",
        "plt.legend()\n",
        "plt.grid()\n",
        "plt.show()"
      ]
    },
    {
      "cell_type": "code",
      "execution_count": 78,
      "metadata": {},
      "outputs": [],
      "source": [
        "def visualize_importance(models, feat_train_df, file_name):\n",
        "    \n",
        "    feature_importance_df = pd.DataFrame()\n",
        "\n",
        "    for i, model in enumerate(models):\n",
        "        _df = pd.DataFrame()\n",
        "        _df['feature_importance'] = model.feature_importance(importance_type='gain')\n",
        "        _df['column'] = feat_train_df.columns\n",
        "        _df['fold'] = i + 1\n",
        "        feature_importance_df = pd.concat([feature_importance_df, _df],\n",
        "                                          axis=0,\n",
        "                                          ignore_index=True\n",
        "                                         )\n",
        "    \n",
        "    order = feature_importance_df.groupby('column')\\\n",
        "        .sum()[['feature_importance']]\\\n",
        "        .sort_values('feature_importance', ascending=False).index[:100]\n",
        "    \n",
        "    fig, ax = plt.subplots(figsize=(12, max(8, len(order) * 0.25)))\n",
        "    sns.boxenplot(data=feature_importance_df,\n",
        "                  x='feature_importance',\n",
        "                  y='column',\n",
        "                  order=order,\n",
        "                  ax=ax,\n",
        "                  palette='viridis',\n",
        "                  orient='h'\n",
        "                 )\n",
        "    ax.tick_params(axis='x', rotation=90)\n",
        "    ax.set_title('Importance')\n",
        "    ax.grid()\n",
        "    fig.tight_layout()\n",
        "    \n",
        "    return fig, ax, order"
      ]
    },
    {
      "cell_type": "code",
      "execution_count": 79,
      "metadata": {},
      "outputs": [
        {
          "data": {
            "image/png": "[encoded data removed]",
            "text/plain": [
              "<Figure size 1200x800 with 1 Axes>"
            ]
          },
          "metadata": {},
          "output_type": "display_data"
        }
      ],
      "source": [
        "_ = visualize_importance(models, train.drop(columns = [\"fold\",\"survived\"]), 'lgb_model')"
      ]
    },
    {
      "cell_type": "code",
      "execution_count": 81,
      "metadata": {
        "id": "v69UN_lZA4cC"
      },
      "outputs": [
        {
          "data": {
            "text/plain": [
              "array([0.24348219, 0.65304622, 0.43420154, 0.31935218, 0.38067843,\n",
              "       0.42539163, 0.56292334, 0.25186354, 0.48447793, 0.56477155,\n",
              "       0.30660901, 0.49337217, 0.28672915, 0.27984598, 0.49111854,\n",
              "       0.41327875, 0.44324002, 0.65052319, 0.43318534, 0.42348023,\n",
              "       0.23675207, 0.46212334, 0.55737812, 0.43594172, 0.26111431,\n",
              "       0.35985354, 0.30578638, 0.49728496, 0.29622058, 0.26337583,\n",
              "       0.64693293, 0.38706217, 0.31421259, 0.26896709, 0.36976248,\n",
              "       0.33821214, 0.39888724, 0.59484024, 0.42046033, 0.40024419,\n",
              "       0.38602479, 0.24523913, 0.23555771, 0.26111431, 0.35963669,\n",
              "       0.47216467, 0.36326114, 0.44533684, 0.23032459, 0.35609532,\n",
              "       0.3794804 , 0.37444935, 0.42469744, 0.43829111, 0.23555771,\n",
              "       0.41640515, 0.29011346, 0.26305792, 0.32389605, 0.24285994,\n",
              "       0.26477518, 0.54389829, 0.50285272, 0.26226496, 0.41758085,\n",
              "       0.3230018 , 0.38569388, 0.23387417, 0.41988699, 0.60691372,\n",
              "       0.54671493, 0.50229321, 0.45369019, 0.30769772, 0.26764743,\n",
              "       0.25486191, 0.23551557, 0.38747527, 0.51035369, 0.36274979,\n",
              "       0.28360112, 0.25190783, 0.58281658, 0.28372873, 0.33080333,\n",
              "       0.40828248, 0.375548  , 0.30885659, 0.57413998, 0.26599457,\n",
              "       0.28935642, 0.35704899, 0.21992853, 0.37783738, 0.31670717,\n",
              "       0.36602148, 0.29888621, 0.59356626, 0.37679142, 0.57707567,\n",
              "       0.28489162, 0.55905593, 0.33668256, 0.22037839, 0.2504141 ,\n",
              "       0.57167734, 0.36635791, 0.51514351, 0.23387417, 0.60654327,\n",
              "       0.29199796, 0.66370615, 0.67217187, 0.30311816, 0.26023756,\n",
              "       0.23555771, 0.46733156, 0.65026359, 0.32217665, 0.43778707,\n",
              "       0.49808842, 0.24917026, 0.31418323, 0.29663301, 0.57763314,\n",
              "       0.58782151, 0.36011473, 0.24684094, 0.36561742, 0.56839532,\n",
              "       0.25938233, 0.23551557, 0.45551571, 0.38307152, 0.35806259,\n",
              "       0.48137543, 0.66410085, 0.28543795, 0.38763129, 0.36707039,\n",
              "       0.55905593, 0.27251344, 0.24438935, 0.63224437, 0.31348941,\n",
              "       0.24232621, 0.60109777, 0.30885659, 0.46699386, 0.25350449,\n",
              "       0.30769781, 0.44854669, 0.24371305, 0.3145173 , 0.62991615,\n",
              "       0.27573959, 0.25666096, 0.63012175, 0.26111431, 0.6417967 ,\n",
              "       0.34748903, 0.68091604, 0.63650911, 0.61291442, 0.57867735,\n",
              "       0.32389605, 0.43199461, 0.5871974 , 0.25289084, 0.62894831,\n",
              "       0.64547785, 0.24684094, 0.56798239, 0.35132246, 0.32632795,\n",
              "       0.62952181, 0.6315042 , 0.25189619, 0.30494277, 0.26600635,\n",
              "       0.54599709, 0.55910133, 0.24955353, 0.31421259, 0.33179722,\n",
              "       0.28503982, 0.6637304 , 0.54119498, 0.34354636, 0.46535443,\n",
              "       0.21992853, 0.35985354, 0.64630677, 0.55443416, 0.25350449,\n",
              "       0.4780103 , 0.64847094, 0.27713437, 0.26969204, 0.6315042 ,\n",
              "       0.37649631, 0.23555771, 0.29189997, 0.63205413, 0.42976845,\n",
              "       0.26337583, 0.32665996, 0.26272693, 0.23589469, 0.57619363,\n",
              "       0.30700889, 0.49766187, 0.30970752, 0.24814657, 0.25636963,\n",
              "       0.46733156, 0.65826077, 0.23671556, 0.66803675, 0.35704899,\n",
              "       0.29927424, 0.34417569, 0.24291345, 0.23551557, 0.28489162,\n",
              "       0.57394844, 0.42784379, 0.42367973, 0.36736457, 0.57686393,\n",
              "       0.27289464, 0.54457571, 0.48086488, 0.24282127, 0.45349636,\n",
              "       0.39280959, 0.38415139, 0.61333328, 0.54231245, 0.37825106,\n",
              "       0.35777314, 0.2204407 , 0.38307152, 0.26419454, 0.50347997,\n",
              "       0.32005927, 0.26229975, 0.29701956, 0.57167734, 0.23671556,\n",
              "       0.26023756, 0.42687064, 0.43444586, 0.46733156, 0.36619399,\n",
              "       0.42551141, 0.24748984, 0.37791764, 0.37668889, 0.23675207,\n",
              "       0.36652854, 0.64543996, 0.28122476, 0.54165618, 0.43360453,\n",
              "       0.42906598, 0.61995091, 0.26111431, 0.6597826 , 0.5769952 ,\n",
              "       0.60473659, 0.34209069, 0.64712415, 0.25019227, 0.28503982,\n",
              "       0.64540823, 0.28503982, 0.54231245, 0.34644272, 0.27501806,\n",
              "       0.62084123, 0.28503982, 0.30503523, 0.53015148, 0.61747327,\n",
              "       0.30272663, 0.38347985, 0.35102504, 0.34674577, 0.26896709,\n",
              "       0.37378257, 0.63193428, 0.28189142, 0.26111431, 0.4784998 ,\n",
              "       0.26819622, 0.45215602, 0.25138792, 0.47793183, 0.55905593,\n",
              "       0.57763314, 0.6098846 , 0.46443551, 0.62880287, 0.38513037,\n",
              "       0.23663675, 0.22788041, 0.60610247, 0.23598039, 0.27436288,\n",
              "       0.63366667, 0.58782151, 0.2678451 , 0.62935484, 0.59349147,\n",
              "       0.32203964, 0.32457167, 0.375548  , 0.26148224, 0.64585246,\n",
              "       0.23598039, 0.46828879, 0.38046392, 0.54457571, 0.43354204,\n",
              "       0.43574607, 0.30521211, 0.57441661, 0.26819622, 0.37336948,\n",
              "       0.23599981, 0.23555771, 0.24244388, 0.54930032, 0.52210055,\n",
              "       0.25922201, 0.23555771, 0.51993506, 0.24246838, 0.23274923,\n",
              "       0.61333328, 0.46506215, 0.25246779, 0.23671556, 0.23032459,\n",
              "       0.41510048, 0.54778435, 0.44377339, 0.28676869, 0.28763374,\n",
              "       0.26997775, 0.26984422, 0.38307152, 0.25597269, 0.39147685,\n",
              "       0.64851488, 0.48530759, 0.29602852, 0.53677752, 0.63588032,\n",
              "       0.64220679, 0.38133218, 0.36326114, 0.25957389, 0.34917658,\n",
              "       0.64099112, 0.27984598, 0.44136302, 0.25750684, 0.57317615,\n",
              "       0.55286398, 0.24488806, 0.42006901, 0.34550252, 0.23555771,\n",
              "       0.3145173 , 0.61007922, 0.36720723, 0.62776492, 0.28758288,\n",
              "       0.2488124 , 0.30272663, 0.23546993, 0.27713437, 0.31422891,\n",
              "       0.34029976, 0.27933978, 0.36402396, 0.25876608, 0.27358339,\n",
              "       0.52974179, 0.44800156, 0.24232621, 0.24232621, 0.48829589,\n",
              "       0.29300089, 0.35346652, 0.5689819 , 0.4724525 , 0.27984598,\n",
              "       0.41887986, 0.36707039, 0.49369083, 0.27953034, 0.29600485,\n",
              "       0.26036797, 0.43742812, 0.30567588, 0.48100082, 0.34956091,\n",
              "       0.23480473, 0.27692435, 0.6369622 , 0.35543883, 0.44496961,\n",
              "       0.26907708, 0.37258241, 0.28503982, 0.25571835, 0.26111431,\n",
              "       0.38602479, 0.33821214, 0.36662297, 0.24153636, 0.31596438,\n",
              "       0.24848559, 0.54162178, 0.38676372, 0.28503982, 0.5579069 ,\n",
              "       0.22546718, 0.54780065, 0.29600485, 0.51193338, 0.29437099,\n",
              "       0.26819622, 0.23555771, 0.585817  , 0.28082999, 0.50347997,\n",
              "       0.3358325 , 0.47635515, 0.30633252, 0.6448659 , 0.43994678,\n",
              "       0.31059235])"
            ]
          },
          "execution_count": 81,
          "metadata": {},
          "output_type": "execute_result"
        }
      ],
      "source": [
        "score_each_model = []\n",
        "\n",
        "for model in models:\n",
        "    pred = model.predict(test)\n",
        "    score_each_model.append(pred)\n",
        "\n",
        "final_pred = sum(score_each_model)/FOLD\n",
        "final_pred"
      ]
    },
    {
      "cell_type": "code",
      "execution_count": 82,
      "metadata": {
        "colab": {
          "base_uri": "https://localhost:8080/"
        },
        "id": "ZrzALcfjT2KH",
        "outputId": "70b7e3b7-7647-4af7-cecd-1c71dac89507"
      },
      "outputs": [
        {
          "data": {
            "text/html": [
              "<div>\n",
              "<style scoped>\n",
              "    .dataframe tbody tr th:only-of-type {\n",
              "        vertical-align: middle;\n",
              "    }\n",
              "\n",
              "    .dataframe tbody tr th {\n",
              "        vertical-align: top;\n",
              "    }\n",
              "\n",
              "    .dataframe thead th {\n",
              "        text-align: right;\n",
              "    }\n",
              "</style>\n",
              "<table border=\"1\" class=\"dataframe\">\n",
              "  <thead>\n",
              "    <tr style=\"text-align: right;\">\n",
              "      <th></th>\n",
              "      <th>1</th>\n",
              "    </tr>\n",
              "    <tr>\n",
              "      <th>0</th>\n",
              "      <th></th>\n",
              "    </tr>\n",
              "  </thead>\n",
              "  <tbody>\n",
              "    <tr>\n",
              "      <th>0</th>\n",
              "      <td>0.243482</td>\n",
              "    </tr>\n",
              "    <tr>\n",
              "      <th>1</th>\n",
              "      <td>0.653046</td>\n",
              "    </tr>\n",
              "    <tr>\n",
              "      <th>2</th>\n",
              "      <td>0.434202</td>\n",
              "    </tr>\n",
              "    <tr>\n",
              "      <th>5</th>\n",
              "      <td>0.319352</td>\n",
              "    </tr>\n",
              "    <tr>\n",
              "      <th>6</th>\n",
              "      <td>0.380678</td>\n",
              "    </tr>\n",
              "    <tr>\n",
              "      <th>...</th>\n",
              "      <td>...</td>\n",
              "    </tr>\n",
              "    <tr>\n",
              "      <th>885</th>\n",
              "      <td>0.476355</td>\n",
              "    </tr>\n",
              "    <tr>\n",
              "      <th>886</th>\n",
              "      <td>0.306333</td>\n",
              "    </tr>\n",
              "    <tr>\n",
              "      <th>887</th>\n",
              "      <td>0.644866</td>\n",
              "    </tr>\n",
              "    <tr>\n",
              "      <th>889</th>\n",
              "      <td>0.439947</td>\n",
              "    </tr>\n",
              "    <tr>\n",
              "      <th>890</th>\n",
              "      <td>0.310592</td>\n",
              "    </tr>\n",
              "  </tbody>\n",
              "</table>\n",
              "<p>446 rows × 1 columns</p>\n",
              "</div>"
            ],
            "text/plain": [
              "            1\n",
              "0            \n",
              "0    0.243482\n",
              "1    0.653046\n",
              "2    0.434202\n",
              "5    0.319352\n",
              "6    0.380678\n",
              "..        ...\n",
              "885  0.476355\n",
              "886  0.306333\n",
              "887  0.644866\n",
              "889  0.439947\n",
              "890  0.310592\n",
              "\n",
              "[446 rows x 1 columns]"
            ]
          },
          "execution_count": 82,
          "metadata": {},
          "output_type": "execute_result"
        }
      ],
      "source": [
        "submit.iloc[:, 0] = final_pred\n",
        "submit"
      ]
    },
    {
      "cell_type": "code",
      "execution_count": 83,
      "metadata": {
        "colab": {
          "base_uri": "https://localhost:8080/",
          "height": 17
        },
        "id": "VQwCPcwLBUAr",
        "outputId": "60f29e94-e92e-451a-8f3d-cb8b93f07cb6"
      },
      "outputs": [],
      "source": [
        "submit.to_csv('submit.tsv',header=None, sep='\\t')"
      ]
    }
  ],
  "metadata": {
    "accelerator": "GPU",
    "colab": {
      "machine_shape": "hm",
      "provenance": []
    },
    "gpuClass": "standard",
    "kernelspec": {
      "display_name": "Python 3",
      "name": "python3"
    },
    "language_info": {
      "codemirror_mode": {
        "name": "ipython",
        "version": 3
      },
      "file_extension": ".py",
      "mimetype": "text/x-python",
      "name": "python",
      "nbconvert_exporter": "python",
      "pygments_lexer": "ipython3",
      "version": "3.8.9"
    }
  },
  "nbformat": 4,
  "nbformat_minor": 0
}
