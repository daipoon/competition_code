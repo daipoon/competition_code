{
  "nbformat": 4,
  "nbformat_minor": 0,
  "metadata": {
    "colab": {
      "provenance": []
    },
    "kernelspec": {
      "name": "python3",
      "display_name": "Python 3"
    },
    "language_info": {
      "name": "python"
    },
    "accelerator": "TPU"
  },
  "cells": [
    {
      "cell_type": "code",
      "execution_count": null,
      "metadata": {
        "id": "n7SkXYj466-j"
      },
      "outputs": [],
      "source": [
        "import pandas as pd\n",
        "from google.colab import drive\n",
        "import os\n",
        "\n",
        "drive.mount('/content/drive')\n",
        "Drive = \"/content/drive/My Drive/data_analysis/competition/Signate_sony_pm2.5_liner\"\n",
        "\n",
        "Input = os.path.join(Drive, 'input')\n",
        "Output = os.path.join(Drive, 'output')\n",
        "Submission = os.path.join(Drive, \"submission\")"
      ]
    },
    {
      "cell_type": "code",
      "source": [],
      "metadata": {
        "id": "wneqe8Xq-BxK"
      },
      "execution_count": null,
      "outputs": []
    },
    {
      "cell_type": "code",
      "source": [
        "train = pd.read_csv(os.path.join(Input, 'train.csv')) # 学習用データ\n",
        "test = pd.read_csv(os.path.join(Input, 'test.csv')) # 学習用データ\n",
        "submit = pd.read_csv(os.path.join(Input, 'submit_sample.csv'),header=None) # 応募用サンプルファイル"
      ],
      "metadata": {
        "id": "6NFTqvLge7ai"
      },
      "execution_count": null,
      "outputs": []
    },
    {
      "cell_type": "code",
      "source": [
        "test.shape\n",
        "test"
      ],
      "metadata": {
        "id": "vKSkgTXgaNew"
      },
      "execution_count": null,
      "outputs": []
    },
    {
      "cell_type": "code",
      "source": [
        "train.shape"
      ],
      "metadata": {
        "id": "tXysKTetaT4l"
      },
      "execution_count": null,
      "outputs": []
    },
    {
      "cell_type": "code",
      "source": [
        "submit"
      ],
      "metadata": {
        "id": "12LmWeEpaZHy"
      },
      "execution_count": null,
      "outputs": []
    },
    {
      "cell_type": "code",
      "source": [
        "#データ解析用ライブラリ\n",
        "import pandas as pd\n",
        "import numpy as np\n",
        "\n",
        "#データ可視化ライブラリ\n",
        "import matplotlib.pyplot as plt\n",
        "import seaborn as sns\n",
        "\n",
        "#LightGBMライブラリ\n",
        "import lightgbm as lgb\n",
        "\n",
        "#訓練データとモデル評価用データに分けるライブラリ\n",
        "from sklearn.model_selection import train_test_split"
      ],
      "metadata": {
        "id": "KfZheDzrfEN4"
      },
      "execution_count": null,
      "outputs": []
    },
    {
      "cell_type": "code",
      "source": [
        "fig, ax = plt.subplots(figsize=(50, 24)) \n",
        "train_num = train.drop([\"year\",\"month\",\"Country\",\"City\",\"day\"], axis=1)\n",
        "# sns.heatmap(train_num.corr(), square=True, vmax=1, vmin=-1, center=0, annot=True)"
      ],
      "metadata": {
        "id": "HvrgicTTHCiC"
      },
      "execution_count": null,
      "outputs": []
    },
    {
      "cell_type": "code",
      "source": [
        "# X = train[[\"year\",\"lon\",\"co_mid\",\"co_cnt\",\"co_max\",\"o3_max\",\"o3_var\",\"Country\"]]\n",
        "X = train.drop([\"id\",\"pm25_mid\"],axis=1)\n",
        "X = pd.get_dummies(X)\n",
        "\n",
        "test = test.drop([\"id\"],axis=1)\n",
        "test = pd.get_dummies(test)\n",
        "\n",
        "object1 = {\"2019\":0, \"2020\":1, \"2021\":2}\n",
        "\n",
        "X[\"year\"] = X[\"year\"].map(object1)\n",
        "test[\"year\"] = test[\"year\"].map(object1)\n",
        "\n",
        "y = train[\"pm25_mid\"]"
      ],
      "metadata": {
        "id": "3OO7k-yPfFtE"
      },
      "execution_count": null,
      "outputs": []
    },
    {
      "cell_type": "code",
      "source": [
        "from sklearn.model_selection import KFold\n",
        "\n",
        "model = []\n",
        "\n",
        "def fit_lgb(x, y, model_params, fit_params, fobj=None, feval=None):\n",
        "  fold = 0\n",
        "  kf = KFold(n_splits=5, shuffle=True, random_state=42)\n",
        "\n",
        "  for fold, (train_indices, valid_indices) in enumerate(kf.split(X)):\n",
        "    fold += 1\n",
        "    X_train, X_test = X.iloc[train_indices], X.iloc[valid_indices]\n",
        "    y_train, y_test = y[train_indices], y[valid_indices]\n",
        "\n",
        "    lgb_train = lgb.Dataset(X_train, y_train)\n",
        "    lgb_eval = lgb.Dataset(X_test, y_test)\n",
        "\n",
        "    lgb_model = lgb.train(model_params,\n",
        "                       train_set=lgb_train,\n",
        "                       valid_sets=[lgb_train, lgb_eval],\n",
        "                       fobj=fobj,\n",
        "                       feval=feval,\n",
        "                       verbose_eval=fit_params['verbose_eval'],\n",
        "                       num_boost_round=fit_params['num_boost_rounds'],\n",
        "                       callbacks=[lgb.early_stopping(fit_params['early_stopping_rounds'])],\n",
        "                       #early_stopping_rounds=fit_params['early_stopping_rounds']\n",
        "                       )\n",
        "    pred_valid = lgb_model.predict(X_test, num_iteration=lgb_model.best_iteration)\n",
        "    model.append(lgb_model)\n",
        "    print(f' - fold{fold}_RMSE - {lgb_model}')\n",
        "    \n",
        "  return model"
      ],
      "metadata": {
        "id": "jZTCOD4LvkUj"
      },
      "execution_count": null,
      "outputs": []
    },
    {
      "cell_type": "code",
      "source": [
        "lgb_fit_params ={'num_boost_rounds': 100000,\n",
        "                 'early_stopping_rounds': 000,\n",
        "                 'verbose_eval': 100,\n",
        "                }\n",
        "\n",
        "\n",
        "lgb_model_params = {'boosting_type': 'gbdt',\n",
        "                \n",
        "                    'objective': 'rmse',\n",
        "\n",
        "                    'learning_rate': 0.05,\n",
        "                    'max_depth': -1,\n",
        "                    'num_leaves': 71,\n",
        "                    'min_data_in_leaf': 20,\n",
        "                    'max_bin': 255,\n",
        "                    \n",
        "                    'reg_lambda': 1.0,\n",
        "                    'reg_alpha': 1.,\n",
        "                   \n",
        "                    'colsample_bytree': 0.8,\n",
        "                    'subsample': 0.8,\n",
        "                    'subsample_freq': 1,\n",
        "                    'verbose': -1,\n",
        "                    'n_jobs': -1,\n",
        "                    }"
      ],
      "metadata": {
        "id": "wCVFwrDYhsVy"
      },
      "execution_count": null,
      "outputs": []
    },
    {
      "cell_type": "code",
      "source": [
        "getdata = fit_lgb(X, y, lgb_model_params,lgb_fit_params)"
      ],
      "metadata": {
        "id": "9kMy0veTIN1n"
      },
      "execution_count": null,
      "outputs": []
    },
    {
      "cell_type": "code",
      "source": [
        "preds = np.zeros(len(test))\n",
        "\n",
        "# 各モデルで推論\n",
        "for model in models:\n",
        "    pred = model.predict(test, num_iteration=model.best_iteration)\n",
        "    predict += pred / len(models)"
      ],
      "metadata": {
        "id": "JhIB_r6mh9bl"
      },
      "execution_count": null,
      "outputs": []
    },
    {
      "cell_type": "code",
      "source": [
        "predict_train = predict_test(getdata, X)\n",
        "predict_train"
      ],
      "metadata": {
        "id": "dJHlYsfW4mMV"
      },
      "execution_count": null,
      "outputs": []
    },
    {
      "cell_type": "code",
      "source": [
        "predict_train.shape"
      ],
      "metadata": {
        "id": "p337BWK5CB1_"
      },
      "execution_count": null,
      "outputs": []
    },
    {
      "cell_type": "code",
      "source": [
        "predict.shape"
      ],
      "metadata": {
        "id": "WVXElHTfCH7A"
      },
      "execution_count": null,
      "outputs": []
    },
    {
      "cell_type": "code",
      "source": [
        "#関数の処理で必要なライブラリ\n",
        "from sklearn.metrics import mean_squared_error\n",
        "from sklearn.metrics import r2_score\n",
        " \n",
        "#予測値と正解値を描写する関数\n",
        "def True_Pred_map(pred_df,true_df):\n",
        "    RMSE = np.sqrt(mean_squared_error(pred_df, true_df))\n",
        "    R2 = r2_score(pred_df, true_df) \n",
        "    plt.figure(figsize=(8,8))\n",
        "    ax = plt.subplot(111)\n",
        "    ax.scatter('true', 'pred', data=pred_df)\n",
        "    ax.set_xlabel('True Value', fontsize=15)\n",
        "    ax.set_ylabel('Pred Value', fontsize=15)\n",
        "    ax.set_xlim(pred_df.min().min()-0.1 , pred_df.max().max()+0.1)\n",
        "    ax.set_ylim(pred_df.min().min()-0.1 , pred_df.max().max()+0.1)\n",
        "    x = np.linspace(pred_df.min().min()-0.1, pred_df.max().max()+0.1, 2)\n",
        "    y = x\n",
        "    ax.plot(x,y,'r-')\n",
        "    plt.text(0.1, 0.9, 'RMSE = {}'.format(str(round(RMSE, 5))), transform=ax.transAxes, fontsize=15)\n",
        "    plt.text(0.1, 0.8, 'R^2 = {}'.format(str(round(R2, 5))), transform=ax.transAxes, fontsize=15)"
      ],
      "metadata": {
        "id": "DhCEICbniMfi"
      },
      "execution_count": null,
      "outputs": []
    },
    {
      "cell_type": "code",
      "source": [
        "True_Pred_map(predict_train,y)"
      ],
      "metadata": {
        "id": "Zgn60xAn4eEt"
      },
      "execution_count": null,
      "outputs": []
    },
    {
      "cell_type": "code",
      "source": [
        "pred_df = pd.concat([y.reset_index(drop=True), pd.Series(predict)], axis=1)\n",
        "pred_df.columns = ['true', 'pred']"
      ],
      "metadata": {
        "id": "W0TCjmvJiWSs"
      },
      "execution_count": null,
      "outputs": []
    },
    {
      "cell_type": "code",
      "source": [
        "lgb.plot_importance(getdata[1], height=0.5, figsize=(8,32))"
      ],
      "metadata": {
        "id": "Ue1Xks2dijcg"
      },
      "execution_count": null,
      "outputs": []
    },
    {
      "cell_type": "code",
      "source": [
        "submit_data = predict\n",
        "submit_data.shape"
      ],
      "metadata": {
        "id": "Afqq4xg-YqTN"
      },
      "execution_count": null,
      "outputs": []
    },
    {
      "cell_type": "code",
      "source": [
        "submit.shape"
      ],
      "metadata": {
        "id": "zewf3wk-QRhO"
      },
      "execution_count": null,
      "outputs": []
    },
    {
      "cell_type": "code",
      "source": [
        "submit.iloc[:, 1] = submit_data\n",
        "submit"
      ],
      "metadata": {
        "id": "ynt5i0MmZ_fw"
      },
      "execution_count": null,
      "outputs": []
    },
    {
      "cell_type": "code",
      "source": [
        "from google.colab import drive, files\n",
        "submit.to_csv(os.path.join(Submission, 'submission.csv'),index=False,header=None)\n",
        "files.download(os.path.join(Submission, 'submission.csv'))"
      ],
      "metadata": {
        "id": "rfcfHeWffc6H"
      },
      "execution_count": null,
      "outputs": []
    }
  ]
}